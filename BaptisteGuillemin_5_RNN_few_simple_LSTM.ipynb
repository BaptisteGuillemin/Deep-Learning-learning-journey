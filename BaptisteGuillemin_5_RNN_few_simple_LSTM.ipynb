{
  "nbformat": 4,
  "nbformat_minor": 0,
  "metadata": {
    "colab": {
      "provenance": [],
      "toc_visible": true
    },
    "kernelspec": {
      "name": "python3",
      "display_name": "Python 3"
    },
    "accelerator": "GPU"
  },
  "cells": [
    {
      "cell_type": "markdown",
      "metadata": {
        "id": "2xPBkvMkERYa"
      },
      "source": [
        "# Setups and Imports"
      ]
    },
    {
      "cell_type": "code",
      "metadata": {
        "id": "d35sMbHQERFQ"
      },
      "source": [
        "%%capture\n",
        "!pip install wandb"
      ],
      "execution_count": null,
      "outputs": []
    },
    {
      "cell_type": "markdown",
      "metadata": {
        "id": "NCwwBk4dcNI1"
      },
      "source": [
        "**Wandb:** is one of interesting tools developped to track the real-time performance of models for different executions. Wandb means Weights and Biases(Wandb). Wandb organize and analyze your machine learning experiments. It is lighter than a tensorboard toolkit. With a few lines of code, wandb saves your model’s hyperparameters and output metrics and gives you all visual charts like for training, comparison of model, accuracy, etc."
      ]
    },
    {
      "cell_type": "code",
      "metadata": {
        "id": "xnCmIz4kCh9i",
        "colab": {
          "base_uri": "https://localhost:8080/"
        },
        "outputId": "f54598a3-eb88-428c-8912-996d067bdece"
      },
      "source": [
        "import tensorflow as tf\n",
        "print(tf.__version__)\n",
        "\n",
        "from tensorflow.keras.models import *\n",
        "from tensorflow.keras.layers import *\n",
        "from tensorflow.keras import activations\n",
        "\n",
        "from tensorflow.keras.preprocessing.text import one_hot\n",
        "from tensorflow.keras.preprocessing.text import Tokenizer\n",
        "from tensorflow.keras.preprocessing.sequence import pad_sequences\n",
        "\n",
        "from sklearn.model_selection import train_test_split\n",
        "\n",
        "import pandas as pd\n",
        "import numpy as np\n",
        "import re"
      ],
      "execution_count": null,
      "outputs": [
        {
          "output_type": "stream",
          "name": "stdout",
          "text": [
            "2.9.2\n"
          ]
        }
      ]
    },
    {
      "cell_type": "code",
      "metadata": {
        "id": "o_Foq7FzEZ01",
        "colab": {
          "base_uri": "https://localhost:8080/"
        },
        "outputId": "95d5a799-f3ee-40c8-875e-d8d9774648c2"
      },
      "source": [
        "import wandb\n",
        "from wandb.keras import WandbCallback\n",
        "\n",
        "wandb.login()"
      ],
      "execution_count": null,
      "outputs": [
        {
          "output_type": "stream",
          "name": "stderr",
          "text": [
            "\u001b[34m\u001b[1mwandb\u001b[0m: Currently logged in as: \u001b[33mbaptiste-guillemin-pro\u001b[0m. Use \u001b[1m`wandb login --relogin`\u001b[0m to force relogin\n"
          ]
        },
        {
          "output_type": "execute_result",
          "data": {
            "text/plain": [
              "True"
            ]
          },
          "metadata": {},
          "execution_count": 6
        }
      ]
    },
    {
      "cell_type": "markdown",
      "metadata": {
        "id": "XmfwSLo4DUrj"
      },
      "source": [
        "# One to Many"
      ]
    },
    {
      "cell_type": "markdown",
      "metadata": {
        "id": "X1KdkEdxDWtV"
      },
      "source": [
        "#### Create Dataset\n",
        "\n",
        "Create a dataset compsed of : \n",
        "\n",
        "Input: x = [1, 4, 7, 10, 13, 16, 19, 22, 25, 28, 31, 34, 37, 40, 43]\n",
        "\n",
        "Output Y = [[2, 3], [5, 6], [8, 9], [11, 12], [14, 15], [17, 18], [20, 21], [23, 24], [26, 27], [29, 30], [32, 33], [35, 36], [38, 39], [41, 42], [44, 45]]\n",
        "\n",
        "So, our problem is to predict the next two numbers with regard to a given number"
      ]
    },
    {
      "cell_type": "code",
      "metadata": {
        "id": "dE8yCUvjDSS-",
        "colab": {
          "base_uri": "https://localhost:8080/"
        },
        "outputId": "f8654ee0-2ced-4298-f2b7-d6e141d76cc9"
      },
      "source": [
        "X = list()\n",
        "Y = list()\n",
        "X =  [1, 4, 7, 10, 13, 16, 19, 22, 25, 28, 31, 34, 37, 40, 43]\n",
        "for i in X:\n",
        "    Y.append([(i+1), (i+2)])\n",
        "print(X)\n",
        "print(Y)"
      ],
      "execution_count": null,
      "outputs": [
        {
          "output_type": "stream",
          "name": "stdout",
          "text": [
            "[1, 4, 7, 10, 13, 16, 19, 22, 25, 28, 31, 34, 37, 40, 43]\n",
            "[[2, 3], [5, 6], [8, 9], [11, 12], [14, 15], [17, 18], [20, 21], [23, 24], [26, 27], [29, 30], [32, 33], [35, 36], [38, 39], [41, 42], [44, 45]]\n"
          ]
        }
      ]
    },
    {
      "cell_type": "markdown",
      "metadata": {
        "id": "jJPoB4oYDkL-"
      },
      "source": [
        "> Notice the output is the next two numbers after the input number"
      ]
    },
    {
      "cell_type": "code",
      "metadata": {
        "id": "eE_jyS5KDgO4",
        "colab": {
          "base_uri": "https://localhost:8080/"
        },
        "outputId": "e44c19b9-fa7f-43c9-e656-6f4597e04e19"
      },
      "source": [
        "# need to put our input within 3d Matrix to be accpted be the model \n",
        "X = np.array(X).reshape(15, 1, 1)\n",
        "Y = np.array(Y)\n",
        "print(X)\n",
        "print(Y)"
      ],
      "execution_count": null,
      "outputs": [
        {
          "output_type": "stream",
          "name": "stdout",
          "text": [
            "[[[ 1]]\n",
            "\n",
            " [[ 4]]\n",
            "\n",
            " [[ 7]]\n",
            "\n",
            " [[10]]\n",
            "\n",
            " [[13]]\n",
            "\n",
            " [[16]]\n",
            "\n",
            " [[19]]\n",
            "\n",
            " [[22]]\n",
            "\n",
            " [[25]]\n",
            "\n",
            " [[28]]\n",
            "\n",
            " [[31]]\n",
            "\n",
            " [[34]]\n",
            "\n",
            " [[37]]\n",
            "\n",
            " [[40]]\n",
            "\n",
            " [[43]]]\n",
            "[[ 2  3]\n",
            " [ 5  6]\n",
            " [ 8  9]\n",
            " [11 12]\n",
            " [14 15]\n",
            " [17 18]\n",
            " [20 21]\n",
            " [23 24]\n",
            " [26 27]\n",
            " [29 30]\n",
            " [32 33]\n",
            " [35 36]\n",
            " [38 39]\n",
            " [41 42]\n",
            " [44 45]]\n"
          ]
        }
      ]
    },
    {
      "cell_type": "markdown",
      "source": [
        "### build your first RNN model"
      ],
      "metadata": {
        "id": "Mb25dty1u0ss"
      }
    },
    {
      "cell_type": "code",
      "metadata": {
        "id": "jCQcEUaFDvLq",
        "colab": {
          "base_uri": "https://localhost:8080/",
          "height": 436
        },
        "outputId": "8024b0f5-79c5-4f46-b71c-4850e1000b0f"
      },
      "source": [
        "tf.keras.backend.clear_session()\n",
        "model = Sequential()\n",
        "model.add(LSTM(50, activation='relu', input_shape=(1, 1)))\n",
        "model.add(Dense(2))\n",
        "# which loss function ??\n",
        "model.compile(optimizer='adam', loss='mse')\n",
        "\n",
        "wandb.init(project='simple-lstm')\n",
        "\n",
        "model.summary()"
      ],
      "execution_count": null,
      "outputs": [
        {
          "output_type": "stream",
          "name": "stderr",
          "text": [
            "WARNING:tensorflow:Layer lstm will not use cuDNN kernels since it doesn't meet the criteria. It will use a generic GPU kernel as fallback when running on GPU.\n"
          ]
        },
        {
          "output_type": "display_data",
          "data": {
            "text/plain": [
              "<IPython.core.display.HTML object>"
            ],
            "text/html": [
              "Finishing last run (ID:1k99bnw4) before initializing another..."
            ]
          },
          "metadata": {}
        },
        {
          "output_type": "display_data",
          "data": {
            "text/plain": [
              "<IPython.core.display.HTML object>"
            ],
            "text/html": [
              "Waiting for W&B process to finish... <strong style=\"color:green\">(success).</strong>"
            ]
          },
          "metadata": {}
        },
        {
          "output_type": "display_data",
          "data": {
            "text/plain": [
              "<IPython.core.display.HTML object>"
            ],
            "text/html": [
              "Synced <strong style=\"color:#cdcd00\">valiant-hill-1</strong>: <a href=\"https://wandb.ai/baptiste-guillemin-pro/simple-lstm/runs/1k99bnw4\" target=\"_blank\">https://wandb.ai/baptiste-guillemin-pro/simple-lstm/runs/1k99bnw4</a><br/>Synced 5 W&B file(s), 0 media file(s), 0 artifact file(s) and 0 other file(s)"
            ]
          },
          "metadata": {}
        },
        {
          "output_type": "display_data",
          "data": {
            "text/plain": [
              "<IPython.core.display.HTML object>"
            ],
            "text/html": [
              "Find logs at: <code>./wandb/run-20221209_131654-1k99bnw4/logs</code>"
            ]
          },
          "metadata": {}
        },
        {
          "output_type": "display_data",
          "data": {
            "text/plain": [
              "<IPython.core.display.HTML object>"
            ],
            "text/html": [
              "Successfully finished last run (ID:1k99bnw4). Initializing new run:<br/>"
            ]
          },
          "metadata": {}
        },
        {
          "output_type": "display_data",
          "data": {
            "text/plain": [
              "<IPython.core.display.HTML object>"
            ],
            "text/html": [
              "Tracking run with wandb version 0.13.6"
            ]
          },
          "metadata": {}
        },
        {
          "output_type": "display_data",
          "data": {
            "text/plain": [
              "<IPython.core.display.HTML object>"
            ],
            "text/html": [
              "Run data is saved locally in <code>/content/wandb/run-20221209_131838-2vkev4yv</code>"
            ]
          },
          "metadata": {}
        },
        {
          "output_type": "display_data",
          "data": {
            "text/plain": [
              "<IPython.core.display.HTML object>"
            ],
            "text/html": [
              "Syncing run <strong><a href=\"https://wandb.ai/baptiste-guillemin-pro/simple-lstm/runs/2vkev4yv\" target=\"_blank\">sleek-pine-2</a></strong> to <a href=\"https://wandb.ai/baptiste-guillemin-pro/simple-lstm\" target=\"_blank\">Weights & Biases</a> (<a href=\"https://wandb.me/run\" target=\"_blank\">docs</a>)<br/>"
            ]
          },
          "metadata": {}
        },
        {
          "output_type": "stream",
          "name": "stdout",
          "text": [
            "Model: \"sequential\"\n",
            "_________________________________________________________________\n",
            " Layer (type)                Output Shape              Param #   \n",
            "=================================================================\n",
            " lstm (LSTM)                 (None, 50)                10400     \n",
            "                                                                 \n",
            " dense (Dense)               (None, 2)                 102       \n",
            "                                                                 \n",
            "=================================================================\n",
            "Total params: 10,502\n",
            "Trainable params: 10,502\n",
            "Non-trainable params: 0\n",
            "_________________________________________________________________\n"
          ]
        }
      ]
    },
    {
      "cell_type": "code",
      "source": [
        "#training\n",
        "model.fit(X, Y, epochs=500, validation_split=0.2, batch_size=3, callbacks=[WandbCallback()])"
      ],
      "metadata": {
        "id": "5PO1haTuhd4W",
        "colab": {
          "base_uri": "https://localhost:8080/"
        },
        "outputId": "2cdb996d-4703-42e9-d745-ded830cf752e"
      },
      "execution_count": null,
      "outputs": [
        {
          "output_type": "stream",
          "name": "stdout",
          "text": [
            "Epoch 1/500\n",
            "1/4 [======>.......................] - ETA: 8s - loss: 433.8340"
          ]
        },
        {
          "output_type": "stream",
          "name": "stderr",
          "text": [
            "\u001b[34m\u001b[1mwandb\u001b[0m: Adding directory to artifact (/content/wandb/run-20221209_131838-2vkev4yv/files/model-best)... Done. 0.0s\n"
          ]
        },
        {
          "output_type": "stream",
          "name": "stdout",
          "text": [
            "\b\b\b\b\b\b\b\b\b\b\b\b\b\b\b\b\b\b\b\b\b\b\b\b\b\b\b\b\b\b\b\b\b\b\b\b\b\b\b\b\b\b\b\b\b\b\b\b\b\b\b\b\b\b\b\b\b\b\b\b\b\b\b\r4/4 [==============================] - 5s 675ms/step - loss: 453.2466 - val_loss: 1659.8336\n",
            "Epoch 2/500\n",
            "1/4 [======>.......................] - ETA: 0s - loss: 524.9521"
          ]
        },
        {
          "output_type": "stream",
          "name": "stderr",
          "text": [
            "\u001b[34m\u001b[1mwandb\u001b[0m: Adding directory to artifact (/content/wandb/run-20221209_131838-2vkev4yv/files/model-best)... Done. 0.0s\n"
          ]
        },
        {
          "output_type": "stream",
          "name": "stdout",
          "text": [
            "\b\b\b\b\b\b\b\b\b\b\b\b\b\b\b\b\b\b\b\b\b\b\b\b\b\b\b\b\b\b\b\b\b\b\b\b\b\b\b\b\b\b\b\b\b\b\b\b\b\b\b\b\b\b\b\b\b\b\b\b\b\b\b\r4/4 [==============================] - 2s 522ms/step - loss: 448.3711 - val_loss: 1640.4277\n",
            "Epoch 3/500\n",
            "1/4 [======>.......................] - ETA: 0s - loss: 450.3862"
          ]
        },
        {
          "output_type": "stream",
          "name": "stderr",
          "text": [
            "\u001b[34m\u001b[1mwandb\u001b[0m: Adding directory to artifact (/content/wandb/run-20221209_131838-2vkev4yv/files/model-best)... Done. 0.0s\n"
          ]
        },
        {
          "output_type": "stream",
          "name": "stdout",
          "text": [
            "\b\b\b\b\b\b\b\b\b\b\b\b\b\b\b\b\b\b\b\b\b\b\b\b\b\b\b\b\b\b\b\b\b\b\b\b\b\b\b\b\b\b\b\b\b\b\b\b\b\b\b\b\b\b\b\b\b\b\b\b\b\b\b\r4/4 [==============================] - 2s 523ms/step - loss: 442.5645 - val_loss: 1621.6664\n",
            "Epoch 4/500\n",
            "1/4 [======>.......................] - ETA: 0s - loss: 667.9052"
          ]
        },
        {
          "output_type": "stream",
          "name": "stderr",
          "text": [
            "\u001b[34m\u001b[1mwandb\u001b[0m: Adding directory to artifact (/content/wandb/run-20221209_131838-2vkev4yv/files/model-best)... Done. 0.0s\n"
          ]
        },
        {
          "output_type": "stream",
          "name": "stdout",
          "text": [
            "\b\b\b\b\b\b\b\b\b\b\b\b\b\b\b\b\b\b\b\b\b\b\b\b\b\b\b\b\b\b\b\b\b\b\b\b\b\b\b\b\b\b\b\b\b\b\b\b\b\b\b\b\b\b\b\b\b\b\b\b\b\b\b\r4/4 [==============================] - 2s 510ms/step - loss: 438.0582 - val_loss: 1601.8920\n",
            "Epoch 5/500\n",
            "1/4 [======>.......................] - ETA: 0s - loss: 519.0441"
          ]
        },
        {
          "output_type": "stream",
          "name": "stderr",
          "text": [
            "\u001b[34m\u001b[1mwandb\u001b[0m: Adding directory to artifact (/content/wandb/run-20221209_131838-2vkev4yv/files/model-best)... Done. 0.0s\n"
          ]
        },
        {
          "output_type": "stream",
          "name": "stdout",
          "text": [
            "\b\b\b\b\b\b\b\b\b\b\b\b\b\b\b\b\b\b\b\b\b\b\b\b\b\b\b\b\b\b\b\b\b\b\b\b\b\b\b\b\b\b\b\b\b\b\b\b\b\b\b\b\b\b\b\b\b\b\b\b\b\b\b\r4/4 [==============================] - 2s 624ms/step - loss: 431.6546 - val_loss: 1583.2806\n",
            "Epoch 6/500\n",
            "1/4 [======>.......................] - ETA: 0s - loss: 863.4971"
          ]
        },
        {
          "output_type": "stream",
          "name": "stderr",
          "text": [
            "\u001b[34m\u001b[1mwandb\u001b[0m: Adding directory to artifact (/content/wandb/run-20221209_131838-2vkev4yv/files/model-best)... Done. 0.0s\n"
          ]
        },
        {
          "output_type": "stream",
          "name": "stdout",
          "text": [
            "\b\b\b\b\b\b\b\b\b\b\b\b\b\b\b\b\b\b\b\b\b\b\b\b\b\b\b\b\b\b\b\b\b\b\b\b\b\b\b\b\b\b\b\b\b\b\b\b\b\b\b\b\b\b\b\b\b\b\b\b\b\b\b\r4/4 [==============================] - 2s 519ms/step - loss: 427.0952 - val_loss: 1564.5348\n",
            "Epoch 7/500\n",
            "1/4 [======>.......................] - ETA: 0s - loss: 126.0419"
          ]
        },
        {
          "output_type": "stream",
          "name": "stderr",
          "text": [
            "\u001b[34m\u001b[1mwandb\u001b[0m: Adding directory to artifact (/content/wandb/run-20221209_131838-2vkev4yv/files/model-best)... Done. 0.0s\n"
          ]
        },
        {
          "output_type": "stream",
          "name": "stdout",
          "text": [
            "\b\b\b\b\b\b\b\b\b\b\b\b\b\b\b\b\b\b\b\b\b\b\b\b\b\b\b\b\b\b\b\b\b\b\b\b\b\b\b\b\b\b\b\b\b\b\b\b\b\b\b\b\b\b\b\b\b\b\b\b\b\b\b\r4/4 [==============================] - 2s 521ms/step - loss: 420.9771 - val_loss: 1545.0605\n",
            "Epoch 8/500\n",
            "1/4 [======>.......................] - ETA: 0s - loss: 163.0381"
          ]
        },
        {
          "output_type": "stream",
          "name": "stderr",
          "text": [
            "\u001b[34m\u001b[1mwandb\u001b[0m: Adding directory to artifact (/content/wandb/run-20221209_131838-2vkev4yv/files/model-best)... Done. 0.0s\n"
          ]
        },
        {
          "output_type": "stream",
          "name": "stdout",
          "text": [
            "\b\b\b\b\b\b\b\b\b\b\b\b\b\b\b\b\b\b\b\b\b\b\b\b\b\b\b\b\b\b\b\b\b\b\b\b\b\b\b\b\b\b\b\b\b\b\b\b\b\b\b\b\b\b\b\b\b\b\b\b\b\b\b\r4/4 [==============================] - 2s 512ms/step - loss: 414.3738 - val_loss: 1524.2198\n",
            "Epoch 9/500\n",
            "1/4 [======>.......................] - ETA: 0s - loss: 494.1223"
          ]
        },
        {
          "output_type": "stream",
          "name": "stderr",
          "text": [
            "\u001b[34m\u001b[1mwandb\u001b[0m: Adding directory to artifact (/content/wandb/run-20221209_131838-2vkev4yv/files/model-best)... Done. 0.0s\n"
          ]
        },
        {
          "output_type": "stream",
          "name": "stdout",
          "text": [
            "\b\b\b\b\b\b\b\b\b\b\b\b\b\b\b\b\b\b\b\b\b\b\b\b\b\b\b\b\b\b\b\b\b\b\b\b\b\b\b\b\b\b\b\b\b\b\b\b\b\b\b\b\b\b\b\b\b\b\b\b\b\b\b\r4/4 [==============================] - 2s 621ms/step - loss: 409.0151 - val_loss: 1499.1466\n",
            "Epoch 10/500\n",
            "1/4 [======>.......................] - ETA: 0s - loss: 310.5646"
          ]
        },
        {
          "output_type": "stream",
          "name": "stderr",
          "text": [
            "\u001b[34m\u001b[1mwandb\u001b[0m: Adding directory to artifact (/content/wandb/run-20221209_131838-2vkev4yv/files/model-best)... Done. 0.0s\n"
          ]
        },
        {
          "output_type": "stream",
          "name": "stdout",
          "text": [
            "\b\b\b\b\b\b\b\b\b\b\b\b\b\b\b\b\b\b\b\b\b\b\b\b\b\b\b\b\b\b\b\b\b\b\b\b\b\b\b\b\b\b\b\b\b\b\b\b\b\b\b\b\b\b\b\b\b\b\b\b\b\b\b\r4/4 [==============================] - 2s 521ms/step - loss: 400.8582 - val_loss: 1471.1036\n",
            "Epoch 11/500\n",
            "1/4 [======>.......................] - ETA: 0s - loss: 166.5644"
          ]
        },
        {
          "output_type": "stream",
          "name": "stderr",
          "text": [
            "\u001b[34m\u001b[1mwandb\u001b[0m: Adding directory to artifact (/content/wandb/run-20221209_131838-2vkev4yv/files/model-best)... Done. 0.0s\n"
          ]
        },
        {
          "output_type": "stream",
          "name": "stdout",
          "text": [
            "\b\b\b\b\b\b\b\b\b\b\b\b\b\b\b\b\b\b\b\b\b\b\b\b\b\b\b\b\b\b\b\b\b\b\b\b\b\b\b\b\b\b\b\b\b\b\b\b\b\b\b\b\b\b\b\b\b\b\b\b\b\b\b\r4/4 [==============================] - 2s 513ms/step - loss: 392.5114 - val_loss: 1438.6835\n",
            "Epoch 12/500\n",
            "1/4 [======>.......................] - ETA: 0s - loss: 507.9845"
          ]
        },
        {
          "output_type": "stream",
          "name": "stderr",
          "text": [
            "\u001b[34m\u001b[1mwandb\u001b[0m: Adding directory to artifact (/content/wandb/run-20221209_131838-2vkev4yv/files/model-best)... Done. 0.0s\n"
          ]
        },
        {
          "output_type": "stream",
          "name": "stdout",
          "text": [
            "\b\b\b\b\b\b\b\b\b\b\b\b\b\b\b\b\b\b\b\b\b\b\b\b\b\b\b\b\b\b\b\b\b\b\b\b\b\b\b\b\b\b\b\b\b\b\b\b\b\b\b\b\b\b\b\b\b\b\b\b\b\b\b\r4/4 [==============================] - 2s 513ms/step - loss: 383.3349 - val_loss: 1400.0986\n",
            "Epoch 13/500\n",
            "1/4 [======>.......................] - ETA: 0s - loss: 456.4044"
          ]
        },
        {
          "output_type": "stream",
          "name": "stderr",
          "text": [
            "\u001b[34m\u001b[1mwandb\u001b[0m: Adding directory to artifact (/content/wandb/run-20221209_131838-2vkev4yv/files/model-best)... Done. 0.0s\n"
          ]
        },
        {
          "output_type": "stream",
          "name": "stdout",
          "text": [
            "\b\b\b\b\b\b\b\b\b\b\b\b\b\b\b\b\b\b\b\b\b\b\b\b\b\b\b\b\b\b\b\b\b\b\b\b\b\b\b\b\b\b\b\b\b\b\b\b\b\b\b\b\b\b\b\b\b\b\b\b\b\b\b\r4/4 [==============================] - 2s 590ms/step - loss: 371.4815 - val_loss: 1356.2195\n",
            "Epoch 14/500\n",
            "1/4 [======>.......................] - ETA: 0s - loss: 235.5354"
          ]
        },
        {
          "output_type": "stream",
          "name": "stderr",
          "text": [
            "\u001b[34m\u001b[1mwandb\u001b[0m: Adding directory to artifact (/content/wandb/run-20221209_131838-2vkev4yv/files/model-best)... Done. 0.0s\n"
          ]
        },
        {
          "output_type": "stream",
          "name": "stdout",
          "text": [
            "\b\b\b\b\b\b\b\b\b\b\b\b\b\b\b\b\b\b\b\b\b\b\b\b\b\b\b\b\b\b\b\b\b\b\b\b\b\b\b\b\b\b\b\b\b\b\b\b\b\b\b\b\b\b\b\b\b\b\b\b\b\b\b\r4/4 [==============================] - 2s 517ms/step - loss: 358.6805 - val_loss: 1305.8516\n",
            "Epoch 15/500\n",
            "1/4 [======>.......................] - ETA: 0s - loss: 132.4342"
          ]
        },
        {
          "output_type": "stream",
          "name": "stderr",
          "text": [
            "\u001b[34m\u001b[1mwandb\u001b[0m: Adding directory to artifact (/content/wandb/run-20221209_131838-2vkev4yv/files/model-best)... Done. 0.0s\n"
          ]
        },
        {
          "output_type": "stream",
          "name": "stdout",
          "text": [
            "\b\b\b\b\b\b\b\b\b\b\b\b\b\b\b\b\b\b\b\b\b\b\b\b\b\b\b\b\b\b\b\b\b\b\b\b\b\b\b\b\b\b\b\b\b\b\b\b\b\b\b\b\b\b\b\b\b\b\b\b\b\b\b\r4/4 [==============================] - 1s 496ms/step - loss: 345.4448 - val_loss: 1247.3765\n",
            "Epoch 16/500\n",
            "1/4 [======>.......................] - ETA: 0s - loss: 511.4055"
          ]
        },
        {
          "output_type": "stream",
          "name": "stderr",
          "text": [
            "\u001b[34m\u001b[1mwandb\u001b[0m: Adding directory to artifact (/content/wandb/run-20221209_131838-2vkev4yv/files/model-best)... Done. 0.0s\n"
          ]
        },
        {
          "output_type": "stream",
          "name": "stdout",
          "text": [
            "\b\b\b\b\b\b\b\b\b\b\b\b\b\b\b\b\b\b\b\b\b\b\b\b\b\b\b\b\b\b\b\b\b\b\b\b\b\b\b\b\b\b\b\b\b\b\b\b\b\b\b\b\b\b\b\b\b\b\b\b\b\b\b\r4/4 [==============================] - 2s 518ms/step - loss: 331.1726 - val_loss: 1180.2972\n",
            "Epoch 17/500\n",
            "1/4 [======>.......................] - ETA: 0s - loss: 553.8174"
          ]
        },
        {
          "output_type": "stream",
          "name": "stderr",
          "text": [
            "\u001b[34m\u001b[1mwandb\u001b[0m: Adding directory to artifact (/content/wandb/run-20221209_131838-2vkev4yv/files/model-best)... Done. 0.0s\n"
          ]
        },
        {
          "output_type": "stream",
          "name": "stdout",
          "text": [
            "\b\b\b\b\b\b\b\b\b\b\b\b\b\b\b\b\b\b\b\b\b\b\b\b\b\b\b\b\b\b\b\b\b\b\b\b\b\b\b\b\b\b\b\b\b\b\b\b\b\b\b\b\b\b\b\b\b\b\b\b\b\b\b\r4/4 [==============================] - 2s 511ms/step - loss: 316.2225 - val_loss: 1104.7972\n",
            "Epoch 18/500\n",
            "1/4 [======>.......................] - ETA: 0s - loss: 367.1057"
          ]
        },
        {
          "output_type": "stream",
          "name": "stderr",
          "text": [
            "\u001b[34m\u001b[1mwandb\u001b[0m: Adding directory to artifact (/content/wandb/run-20221209_131838-2vkev4yv/files/model-best)... Done. 0.0s\n"
          ]
        },
        {
          "output_type": "stream",
          "name": "stdout",
          "text": [
            "\b\b\b\b\b\b\b\b\b\b\b\b\b\b\b\b\b\b\b\b\b\b\b\b\b\b\b\b\b\b\b\b\b\b\b\b\b\b\b\b\b\b\b\b\b\b\b\b\b\b\b\b\b\b\b\b\b\b\b\b\b\b\b\r4/4 [==============================] - 2s 619ms/step - loss: 295.6071 - val_loss: 1025.5582\n",
            "Epoch 19/500\n",
            "1/4 [======>.......................] - ETA: 0s - loss: 268.9519"
          ]
        },
        {
          "output_type": "stream",
          "name": "stderr",
          "text": [
            "\u001b[34m\u001b[1mwandb\u001b[0m: Adding directory to artifact (/content/wandb/run-20221209_131838-2vkev4yv/files/model-best)... Done. 0.0s\n"
          ]
        },
        {
          "output_type": "stream",
          "name": "stdout",
          "text": [
            "\b\b\b\b\b\b\b\b\b\b\b\b\b\b\b\b\b\b\b\b\b\b\b\b\b\b\b\b\b\b\b\b\b\b\b\b\b\b\b\b\b\b\b\b\b\b\b\b\b\b\b\b\b\b\b\b\b\b\b\b\b\b\b\r4/4 [==============================] - 2s 529ms/step - loss: 276.2538 - val_loss: 938.9871\n",
            "Epoch 20/500\n",
            "1/4 [======>.......................] - ETA: 0s - loss: 344.1405"
          ]
        },
        {
          "output_type": "stream",
          "name": "stderr",
          "text": [
            "\u001b[34m\u001b[1mwandb\u001b[0m: Adding directory to artifact (/content/wandb/run-20221209_131838-2vkev4yv/files/model-best)... Done. 0.0s\n"
          ]
        },
        {
          "output_type": "stream",
          "name": "stdout",
          "text": [
            "\b\b\b\b\b\b\b\b\b\b\b\b\b\b\b\b\b\b\b\b\b\b\b\b\b\b\b\b\b\b\b\b\b\b\b\b\b\b\b\b\b\b\b\b\b\b\b\b\b\b\b\b\b\b\b\b\b\b\b\b\b\b\b\r4/4 [==============================] - 2s 517ms/step - loss: 254.7551 - val_loss: 848.8347\n",
            "Epoch 21/500\n",
            "1/4 [======>.......................] - ETA: 0s - loss: 249.5752"
          ]
        },
        {
          "output_type": "stream",
          "name": "stderr",
          "text": [
            "\u001b[34m\u001b[1mwandb\u001b[0m: Adding directory to artifact (/content/wandb/run-20221209_131838-2vkev4yv/files/model-best)... Done. 0.0s\n"
          ]
        },
        {
          "output_type": "stream",
          "name": "stdout",
          "text": [
            "\b\b\b\b\b\b\b\b\b\b\b\b\b\b\b\b\b\b\b\b\b\b\b\b\b\b\b\b\b\b\b\b\b\b\b\b\b\b\b\b\b\b\b\b\b\b\b\b\b\b\b\b\b\b\b\b\b\b\b\b\b\b\b\r4/4 [==============================] - 2s 500ms/step - loss: 235.4746 - val_loss: 753.4968\n",
            "Epoch 22/500\n",
            "1/4 [======>.......................] - ETA: 0s - loss: 185.0488"
          ]
        },
        {
          "output_type": "stream",
          "name": "stderr",
          "text": [
            "\u001b[34m\u001b[1mwandb\u001b[0m: Adding directory to artifact (/content/wandb/run-20221209_131838-2vkev4yv/files/model-best)... Done. 0.0s\n"
          ]
        },
        {
          "output_type": "stream",
          "name": "stdout",
          "text": [
            "\b\b\b\b\b\b\b\b\b\b\b\b\b\b\b\b\b\b\b\b\b\b\b\b\b\b\b\b\b\b\b\b\b\b\b\b\b\b\b\b\b\b\b\b\b\b\b\b\b\b\b\b\b\b\b\b\b\b\b\b\b\b\b\r4/4 [==============================] - 3s 878ms/step - loss: 209.1768 - val_loss: 663.5876\n",
            "Epoch 23/500\n",
            "1/4 [======>.......................] - ETA: 0s - loss: 198.2996"
          ]
        },
        {
          "output_type": "stream",
          "name": "stderr",
          "text": [
            "\u001b[34m\u001b[1mwandb\u001b[0m: Adding directory to artifact (/content/wandb/run-20221209_131838-2vkev4yv/files/model-best)... Done. 0.0s\n"
          ]
        },
        {
          "output_type": "stream",
          "name": "stdout",
          "text": [
            "\b\b\b\b\b\b\b\b\b\b\b\b\b\b\b\b\b\b\b\b\b\b\b\b\b\b\b\b\b\b\b\b\b\b\b\b\b\b\b\b\b\b\b\b\b\b\b\b\b\b\b\b\b\b\b\b\b\b\b\b\b\b\b\r4/4 [==============================] - 2s 523ms/step - loss: 189.4322 - val_loss: 570.9294\n",
            "Epoch 24/500\n",
            "1/4 [======>.......................] - ETA: 0s - loss: 39.2148"
          ]
        },
        {
          "output_type": "stream",
          "name": "stderr",
          "text": [
            "\u001b[34m\u001b[1mwandb\u001b[0m: Adding directory to artifact (/content/wandb/run-20221209_131838-2vkev4yv/files/model-best)... Done. 0.0s\n",
            "\u001b[34m\u001b[1mwandb\u001b[0m: \u001b[33mWARNING\u001b[0m A graphql request initiated by the public wandb API timed out (timeout=9 sec). Create a new API with an integer timeout larger than 9, e.g., `api = wandb.Api(timeout=19)` to increase the graphql timeout.\n"
          ]
        },
        {
          "output_type": "stream",
          "name": "stdout",
          "text": [
            "\b\b\b\b\b\b\b\b\b\b\b\b\b\b\b\b\b\b\b\b\b\b\b\b\b\b\b\b\b\b\b\b\b\b\b\b\b\b\b\b\b\b\b\b\b\b\b\b\b\b\b\b\b\b\b\b\b\b\b\b\b\b\r4/4 [==============================] - 12s 4s/step - loss: 163.7531 - val_loss: 487.0648\n",
            "Epoch 25/500\n",
            "1/4 [======>.......................] - ETA: 0s - loss: 221.0608"
          ]
        },
        {
          "output_type": "stream",
          "name": "stderr",
          "text": [
            "\u001b[34m\u001b[1mwandb\u001b[0m: Adding directory to artifact (/content/wandb/run-20221209_131838-2vkev4yv/files/model-best)... Done. 0.0s\n"
          ]
        },
        {
          "output_type": "stream",
          "name": "stdout",
          "text": [
            "\b\b\b\b\b\b\b\b\b\b\b\b\b\b\b\b\b\b\b\b\b\b\b\b\b\b\b\b\b\b\b\b\b\b\b\b\b\b\b\b\b\b\b\b\b\b\b\b\b\b\b\b\b\b\b\b\b\b\b\b\b\b\b\r4/4 [==============================] - 2s 532ms/step - loss: 147.4252 - val_loss: 403.0872\n",
            "Epoch 26/500\n",
            "1/4 [======>.......................] - ETA: 0s - loss: 155.4664"
          ]
        },
        {
          "output_type": "stream",
          "name": "stderr",
          "text": [
            "\u001b[34m\u001b[1mwandb\u001b[0m: Adding directory to artifact (/content/wandb/run-20221209_131838-2vkev4yv/files/model-best)... Done. 0.0s\n"
          ]
        },
        {
          "output_type": "stream",
          "name": "stdout",
          "text": [
            "\b\b\b\b\b\b\b\b\b\b\b\b\b\b\b\b\b\b\b\b\b\b\b\b\b\b\b\b\b\b\b\b\b\b\b\b\b\b\b\b\b\b\b\b\b\b\b\b\b\b\b\b\b\b\b\b\b\b\b\b\b\b\b\r4/4 [==============================] - 2s 607ms/step - loss: 125.7488 - val_loss: 328.2764\n",
            "Epoch 27/500\n",
            "1/4 [======>.......................] - ETA: 0s - loss: 148.9811"
          ]
        },
        {
          "output_type": "stream",
          "name": "stderr",
          "text": [
            "\u001b[34m\u001b[1mwandb\u001b[0m: Adding directory to artifact (/content/wandb/run-20221209_131838-2vkev4yv/files/model-best)... Done. 0.0s\n"
          ]
        },
        {
          "output_type": "stream",
          "name": "stdout",
          "text": [
            "\b\b\b\b\b\b\b\b\b\b\b\b\b\b\b\b\b\b\b\b\b\b\b\b\b\b\b\b\b\b\b\b\b\b\b\b\b\b\b\b\b\b\b\b\b\b\b\b\b\b\b\b\b\b\b\b\b\b\b\b\b\b\b\r4/4 [==============================] - 2s 509ms/step - loss: 107.2711 - val_loss: 261.4583\n",
            "Epoch 28/500\n",
            "1/4 [======>.......................] - ETA: 0s - loss: 21.7121"
          ]
        },
        {
          "output_type": "stream",
          "name": "stderr",
          "text": [
            "\u001b[34m\u001b[1mwandb\u001b[0m: Adding directory to artifact (/content/wandb/run-20221209_131838-2vkev4yv/files/model-best)... Done. 0.0s\n"
          ]
        },
        {
          "output_type": "stream",
          "name": "stdout",
          "text": [
            "\b\b\b\b\b\b\b\b\b\b\b\b\b\b\b\b\b\b\b\b\b\b\b\b\b\b\b\b\b\b\b\b\b\b\b\b\b\b\b\b\b\b\b\b\b\b\b\b\b\b\b\b\b\b\b\b\b\b\b\b\b\b\r4/4 [==============================] - 2s 506ms/step - loss: 87.7310 - val_loss: 206.5320\n",
            "Epoch 29/500\n",
            "1/4 [======>.......................] - ETA: 0s - loss: 137.8109"
          ]
        },
        {
          "output_type": "stream",
          "name": "stderr",
          "text": [
            "\u001b[34m\u001b[1mwandb\u001b[0m: Adding directory to artifact (/content/wandb/run-20221209_131838-2vkev4yv/files/model-best)... Done. 0.0s\n"
          ]
        },
        {
          "output_type": "stream",
          "name": "stdout",
          "text": [
            "\b\b\b\b\b\b\b\b\b\b\b\b\b\b\b\b\b\b\b\b\b\b\b\b\b\b\b\b\b\b\b\b\b\b\b\b\b\b\b\b\b\b\b\b\b\b\b\b\b\b\b\b\b\b\b\b\b\b\b\b\b\b\b\r4/4 [==============================] - 2s 509ms/step - loss: 75.5667 - val_loss: 157.7804\n",
            "Epoch 30/500\n",
            "1/4 [======>.......................] - ETA: 0s - loss: 66.5641"
          ]
        },
        {
          "output_type": "stream",
          "name": "stderr",
          "text": [
            "\u001b[34m\u001b[1mwandb\u001b[0m: Adding directory to artifact (/content/wandb/run-20221209_131838-2vkev4yv/files/model-best)... Done. 0.0s\n"
          ]
        },
        {
          "output_type": "stream",
          "name": "stdout",
          "text": [
            "\b\b\b\b\b\b\b\b\b\b\b\b\b\b\b\b\b\b\b\b\b\b\b\b\b\b\b\b\b\b\b\b\b\b\b\b\b\b\b\b\b\b\b\b\b\b\b\b\b\b\b\b\b\b\b\b\b\b\b\b\b\b\r4/4 [==============================] - 2s 617ms/step - loss: 60.5758 - val_loss: 119.5557\n",
            "Epoch 31/500\n",
            "1/4 [======>.......................] - ETA: 0s - loss: 59.4978"
          ]
        },
        {
          "output_type": "stream",
          "name": "stderr",
          "text": [
            "\u001b[34m\u001b[1mwandb\u001b[0m: Adding directory to artifact (/content/wandb/run-20221209_131838-2vkev4yv/files/model-best)... Done. 0.0s\n"
          ]
        },
        {
          "output_type": "stream",
          "name": "stdout",
          "text": [
            "\b\b\b\b\b\b\b\b\b\b\b\b\b\b\b\b\b\b\b\b\b\b\b\b\b\b\b\b\b\b\b\b\b\b\b\b\b\b\b\b\b\b\b\b\b\b\b\b\b\b\b\b\b\b\b\b\b\b\b\b\b\b\r4/4 [==============================] - 2s 516ms/step - loss: 50.3560 - val_loss: 88.2182\n",
            "Epoch 32/500\n",
            "1/4 [======>.......................] - ETA: 0s - loss: 60.7377"
          ]
        },
        {
          "output_type": "stream",
          "name": "stderr",
          "text": [
            "\u001b[34m\u001b[1mwandb\u001b[0m: Adding directory to artifact (/content/wandb/run-20221209_131838-2vkev4yv/files/model-best)... Done. 0.0s\n"
          ]
        },
        {
          "output_type": "stream",
          "name": "stdout",
          "text": [
            "\b\b\b\b\b\b\b\b\b\b\b\b\b\b\b\b\b\b\b\b\b\b\b\b\b\b\b\b\b\b\b\b\b\b\b\b\b\b\b\b\b\b\b\b\b\b\b\b\b\b\b\b\b\b\b\b\b\b\b\b\b\b\r4/4 [==============================] - 2s 506ms/step - loss: 40.0605 - val_loss: 64.8331\n",
            "Epoch 33/500\n",
            "1/4 [======>.......................] - ETA: 0s - loss: 21.0026"
          ]
        },
        {
          "output_type": "stream",
          "name": "stderr",
          "text": [
            "\u001b[34m\u001b[1mwandb\u001b[0m: Adding directory to artifact (/content/wandb/run-20221209_131838-2vkev4yv/files/model-best)... Done. 0.0s\n"
          ]
        },
        {
          "output_type": "stream",
          "name": "stdout",
          "text": [
            "\b\b\b\b\b\b\b\b\b\b\b\b\b\b\b\b\b\b\b\b\b\b\b\b\b\b\b\b\b\b\b\b\b\b\b\b\b\b\b\b\b\b\b\b\b\b\b\b\b\b\b\b\b\b\b\b\b\b\b\b\b\b\r4/4 [==============================] - 2s 518ms/step - loss: 31.4032 - val_loss: 48.1193\n",
            "Epoch 34/500\n",
            "1/4 [======>.......................] - ETA: 0s - loss: 31.3968"
          ]
        },
        {
          "output_type": "stream",
          "name": "stderr",
          "text": [
            "\u001b[34m\u001b[1mwandb\u001b[0m: Adding directory to artifact (/content/wandb/run-20221209_131838-2vkev4yv/files/model-best)... Done. 0.0s\n"
          ]
        },
        {
          "output_type": "stream",
          "name": "stdout",
          "text": [
            "\b\b\b\b\b\b\b\b\b\b\b\b\b\b\b\b\b\b\b\b\b\b\b\b\b\b\b\b\b\b\b\b\b\b\b\b\b\b\b\b\b\b\b\b\b\b\b\b\b\b\b\b\b\b\b\b\b\b\b\b\b\b\r4/4 [==============================] - 2s 606ms/step - loss: 25.9991 - val_loss: 35.3589\n",
            "Epoch 35/500\n",
            "1/4 [======>.......................] - ETA: 0s - loss: 23.1012"
          ]
        },
        {
          "output_type": "stream",
          "name": "stderr",
          "text": [
            "\u001b[34m\u001b[1mwandb\u001b[0m: Adding directory to artifact (/content/wandb/run-20221209_131838-2vkev4yv/files/model-best)... Done. 0.0s\n"
          ]
        },
        {
          "output_type": "stream",
          "name": "stdout",
          "text": [
            "\b\b\b\b\b\b\b\b\b\b\b\b\b\b\b\b\b\b\b\b\b\b\b\b\b\b\b\b\b\b\b\b\b\b\b\b\b\b\b\b\b\b\b\b\b\b\b\b\b\b\b\b\b\b\b\b\b\b\b\b\b\b\r4/4 [==============================] - 2s 516ms/step - loss: 20.7517 - val_loss: 26.5835\n",
            "Epoch 36/500\n",
            "1/4 [======>.......................] - ETA: 0s - loss: 21.4732"
          ]
        },
        {
          "output_type": "stream",
          "name": "stderr",
          "text": [
            "\u001b[34m\u001b[1mwandb\u001b[0m: Adding directory to artifact (/content/wandb/run-20221209_131838-2vkev4yv/files/model-best)... Done. 0.0s\n"
          ]
        },
        {
          "output_type": "stream",
          "name": "stdout",
          "text": [
            "\b\b\b\b\b\b\b\b\b\b\b\b\b\b\b\b\b\b\b\b\b\b\b\b\b\b\b\b\b\b\b\b\b\b\b\b\b\b\b\b\b\b\b\b\b\b\b\b\b\b\b\b\b\b\b\b\b\b\b\b\b\b\r4/4 [==============================] - 2s 519ms/step - loss: 17.0968 - val_loss: 20.6678\n",
            "Epoch 37/500\n",
            "1/4 [======>.......................] - ETA: 0s - loss: 10.2488"
          ]
        },
        {
          "output_type": "stream",
          "name": "stderr",
          "text": [
            "\u001b[34m\u001b[1mwandb\u001b[0m: Adding directory to artifact (/content/wandb/run-20221209_131838-2vkev4yv/files/model-best)... Done. 0.0s\n"
          ]
        },
        {
          "output_type": "stream",
          "name": "stdout",
          "text": [
            "\b\b\b\b\b\b\b\b\b\b\b\b\b\b\b\b\b\b\b\b\b\b\b\b\b\b\b\b\b\b\b\b\b\b\b\b\b\b\b\b\b\b\b\b\b\b\b\b\b\b\b\b\b\b\b\b\b\b\b\b\b\b\r4/4 [==============================] - 2s 531ms/step - loss: 13.5628 - val_loss: 17.3654\n",
            "Epoch 38/500\n",
            "1/4 [======>.......................] - ETA: 0s - loss: 8.7357"
          ]
        },
        {
          "output_type": "stream",
          "name": "stderr",
          "text": [
            "\u001b[34m\u001b[1mwandb\u001b[0m: Adding directory to artifact (/content/wandb/run-20221209_131838-2vkev4yv/files/model-best)... Done. 0.0s\n"
          ]
        },
        {
          "output_type": "stream",
          "name": "stdout",
          "text": [
            "\b\b\b\b\b\b\b\b\b\b\b\b\b\b\b\b\b\b\b\b\b\b\b\b\b\b\b\b\b\b\b\b\b\b\b\b\b\b\b\b\b\b\b\b\b\b\b\b\b\b\b\b\b\b\b\b\b\b\b\b\b\r4/4 [==============================] - 2s 521ms/step - loss: 11.4714 - val_loss: 15.0836\n",
            "Epoch 39/500\n",
            "1/4 [======>.......................] - ETA: 0s - loss: 9.9579"
          ]
        },
        {
          "output_type": "stream",
          "name": "stderr",
          "text": [
            "\u001b[34m\u001b[1mwandb\u001b[0m: Adding directory to artifact (/content/wandb/run-20221209_131838-2vkev4yv/files/model-best)... Done. 0.0s\n"
          ]
        },
        {
          "output_type": "stream",
          "name": "stdout",
          "text": [
            "\b\b\b\b\b\b\b\b\b\b\b\b\b\b\b\b\b\b\b\b\b\b\b\b\b\b\b\b\b\b\b\b\b\b\b\b\b\b\b\b\b\b\b\b\b\b\b\b\b\b\b\b\b\b\b\b\b\b\b\b\b\r4/4 [==============================] - 2s 608ms/step - loss: 9.7347 - val_loss: 13.9921\n",
            "Epoch 40/500\n",
            "1/4 [======>.......................] - ETA: 0s - loss: 7.5326"
          ]
        },
        {
          "output_type": "stream",
          "name": "stderr",
          "text": [
            "\u001b[34m\u001b[1mwandb\u001b[0m: Adding directory to artifact (/content/wandb/run-20221209_131838-2vkev4yv/files/model-best)... Done. 0.0s\n"
          ]
        },
        {
          "output_type": "stream",
          "name": "stdout",
          "text": [
            "\b\b\b\b\b\b\b\b\b\b\b\b\b\b\b\b\b\b\b\b\b\b\b\b\b\b\b\b\b\b\b\b\b\b\b\b\b\b\b\b\b\b\b\b\b\b\b\b\b\b\b\b\b\b\b\b\b\b\b\b\b\r4/4 [==============================] - 2s 528ms/step - loss: 8.4960 - val_loss: 13.2986\n",
            "Epoch 41/500\n",
            "1/4 [======>.......................] - ETA: 0s - loss: 7.1522"
          ]
        },
        {
          "output_type": "stream",
          "name": "stderr",
          "text": [
            "\u001b[34m\u001b[1mwandb\u001b[0m: Adding directory to artifact (/content/wandb/run-20221209_131838-2vkev4yv/files/model-best)... Done. 0.0s\n"
          ]
        },
        {
          "output_type": "stream",
          "name": "stdout",
          "text": [
            "\b\b\b\b\b\b\b\b\b\b\b\b\b\b\b\b\b\b\b\b\b\b\b\b\b\b\b\b\b\b\b\b\b\b\b\b\b\b\b\b\b\b\b\b\b\b\b\b\b\b\b\b\b\b\b\b\b\b\b\b\b\r4/4 [==============================] - 2s 542ms/step - loss: 7.3418 - val_loss: 13.0490\n",
            "Epoch 42/500\n",
            "1/4 [======>.......................] - ETA: 0s - loss: 8.5317"
          ]
        },
        {
          "output_type": "stream",
          "name": "stderr",
          "text": [
            "\u001b[34m\u001b[1mwandb\u001b[0m: Adding directory to artifact (/content/wandb/run-20221209_131838-2vkev4yv/files/model-best)... Done. 0.0s\n"
          ]
        },
        {
          "output_type": "stream",
          "name": "stdout",
          "text": [
            "\b\b\b\b\b\b\b\b\b\b\b\b\b\b\b\b\b\b\b\b\b\b\b\b\b\b\b\b\b\b\b\b\b\b\b\b\b\b\b\b\b\b\b\b\b\b\b\b\b\b\b\b\b\b\b\b\b\b\b\b\b\r4/4 [==============================] - 2s 515ms/step - loss: 6.6445 - val_loss: 13.0191\n",
            "Epoch 43/500\n",
            "1/4 [======>.......................] - ETA: 0s - loss: 8.5699"
          ]
        },
        {
          "output_type": "stream",
          "name": "stderr",
          "text": [
            "\u001b[34m\u001b[1mwandb\u001b[0m: Adding directory to artifact (/content/wandb/run-20221209_131838-2vkev4yv/files/model-best)... Done. 0.0s\n"
          ]
        },
        {
          "output_type": "stream",
          "name": "stdout",
          "text": [
            "\b\b\b\b\b\b\b\b\b\b\b\b\b\b\b\b\b\b\b\b\b\b\b\b\b\b\b\b\b\b\b\b\b\b\b\b\b\b\b\b\b\b\b\b\b\b\b\b\b\b\b\b\b\b\b\b\b\b\b\b\b\r4/4 [==============================] - 2s 586ms/step - loss: 5.9851 - val_loss: 12.9590\n",
            "Epoch 44/500\n",
            "4/4 [==============================] - 0s 9ms/step - loss: 5.5836 - val_loss: 12.9803\n",
            "Epoch 45/500\n",
            "4/4 [==============================] - 0s 9ms/step - loss: 5.2084 - val_loss: 13.2007\n",
            "Epoch 46/500\n",
            "4/4 [==============================] - 0s 9ms/step - loss: 4.9673 - val_loss: 13.4376\n",
            "Epoch 47/500\n",
            "4/4 [==============================] - 0s 8ms/step - loss: 4.7691 - val_loss: 13.5392\n",
            "Epoch 48/500\n",
            "4/4 [==============================] - 0s 9ms/step - loss: 4.6276 - val_loss: 13.6497\n",
            "Epoch 49/500\n",
            "4/4 [==============================] - 0s 8ms/step - loss: 4.5060 - val_loss: 13.5597\n",
            "Epoch 50/500\n",
            "4/4 [==============================] - 0s 8ms/step - loss: 4.4234 - val_loss: 13.5262\n",
            "Epoch 51/500\n",
            "4/4 [==============================] - 0s 9ms/step - loss: 4.3584 - val_loss: 13.3164\n",
            "Epoch 52/500\n",
            "4/4 [==============================] - 0s 8ms/step - loss: 4.3124 - val_loss: 13.4363\n",
            "Epoch 53/500\n",
            "4/4 [==============================] - 0s 15ms/step - loss: 4.2643 - val_loss: 13.2367\n",
            "Epoch 54/500\n",
            "1/4 [======>.......................] - ETA: 0s - loss: 5.5737"
          ]
        },
        {
          "output_type": "stream",
          "name": "stderr",
          "text": [
            "\u001b[34m\u001b[1mwandb\u001b[0m: Adding directory to artifact (/content/wandb/run-20221209_131838-2vkev4yv/files/model-best)... Done. 0.0s\n"
          ]
        },
        {
          "output_type": "stream",
          "name": "stdout",
          "text": [
            "\b\b\b\b\b\b\b\b\b\b\b\b\b\b\b\b\b\b\b\b\b\b\b\b\b\b\b\b\b\b\b\b\b\b\b\b\b\b\b\b\b\b\b\b\b\b\b\b\b\b\b\b\b\b\b\b\b\b\b\b\b\r4/4 [==============================] - 2s 511ms/step - loss: 4.2425 - val_loss: 12.9319\n",
            "Epoch 55/500\n",
            "1/4 [======>.......................] - ETA: 0s - loss: 1.9170"
          ]
        },
        {
          "output_type": "stream",
          "name": "stderr",
          "text": [
            "\u001b[34m\u001b[1mwandb\u001b[0m: Adding directory to artifact (/content/wandb/run-20221209_131838-2vkev4yv/files/model-best)... Done. 0.0s\n"
          ]
        },
        {
          "output_type": "stream",
          "name": "stdout",
          "text": [
            "\b\b\b\b\b\b\b\b\b\b\b\b\b\b\b\b\b\b\b\b\b\b\b\b\b\b\b\b\b\b\b\b\b\b\b\b\b\b\b\b\b\b\b\b\b\b\b\b\b\b\b\b\b\b\b\b\b\b\b\b\b\r4/4 [==============================] - 2s 532ms/step - loss: 4.2036 - val_loss: 12.8221\n",
            "Epoch 56/500\n",
            "4/4 [==============================] - 0s 12ms/step - loss: 4.1772 - val_loss: 13.0231\n",
            "Epoch 57/500\n",
            "4/4 [==============================] - 0s 8ms/step - loss: 4.1508 - val_loss: 12.9781\n",
            "Epoch 58/500\n",
            "4/4 [==============================] - 0s 8ms/step - loss: 4.1294 - val_loss: 13.1705\n",
            "Epoch 59/500\n",
            "4/4 [==============================] - 0s 8ms/step - loss: 4.1030 - val_loss: 13.1478\n",
            "Epoch 60/500\n",
            "4/4 [==============================] - 0s 8ms/step - loss: 4.0823 - val_loss: 13.2416\n",
            "Epoch 61/500\n",
            "4/4 [==============================] - 0s 11ms/step - loss: 4.0597 - val_loss: 13.1377\n",
            "Epoch 62/500\n",
            "4/4 [==============================] - 0s 8ms/step - loss: 4.0441 - val_loss: 13.2216\n",
            "Epoch 63/500\n",
            "4/4 [==============================] - 0s 8ms/step - loss: 4.0153 - val_loss: 13.0879\n",
            "Epoch 64/500\n",
            "4/4 [==============================] - 0s 10ms/step - loss: 4.0043 - val_loss: 13.2637\n",
            "Epoch 65/500\n",
            "4/4 [==============================] - 0s 8ms/step - loss: 3.9787 - val_loss: 12.8528\n",
            "Epoch 66/500\n",
            "1/4 [======>.......................] - ETA: 0s - loss: 4.7895"
          ]
        },
        {
          "output_type": "stream",
          "name": "stderr",
          "text": [
            "\u001b[34m\u001b[1mwandb\u001b[0m: Adding directory to artifact (/content/wandb/run-20221209_131838-2vkev4yv/files/model-best)... Done. 0.0s\n"
          ]
        },
        {
          "output_type": "stream",
          "name": "stdout",
          "text": [
            "\b\b\b\b\b\b\b\b\b\b\b\b\b\b\b\b\b\b\b\b\b\b\b\b\b\b\b\b\b\b\b\b\b\b\b\b\b\b\b\b\b\b\b\b\b\b\b\b\b\b\b\b\b\b\b\b\b\b\b\b\b\r4/4 [==============================] - 2s 513ms/step - loss: 3.9521 - val_loss: 12.6359\n",
            "Epoch 67/500\n",
            "1/4 [======>.......................] - ETA: 0s - loss: 3.7049"
          ]
        },
        {
          "output_type": "stream",
          "name": "stderr",
          "text": [
            "\u001b[34m\u001b[1mwandb\u001b[0m: Adding directory to artifact (/content/wandb/run-20221209_131838-2vkev4yv/files/model-best)... Done. 0.0s\n"
          ]
        },
        {
          "output_type": "stream",
          "name": "stdout",
          "text": [
            "\b\b\b\b\b\b\b\b\b\b\b\b\b\b\b\b\b\b\b\b\b\b\b\b\b\b\b\b\b\b\b\b\b\b\b\b\b\b\b\b\b\b\b\b\b\b\b\b\b\b\b\b\b\b\b\b\b\b\b\b\b\r4/4 [==============================] - 2s 608ms/step - loss: 3.9297 - val_loss: 12.4326\n",
            "Epoch 68/500\n",
            "4/4 [==============================] - 0s 8ms/step - loss: 3.9108 - val_loss: 12.6366\n",
            "Epoch 69/500\n",
            "4/4 [==============================] - 0s 9ms/step - loss: 3.8762 - val_loss: 12.5770\n",
            "Epoch 70/500\n",
            "4/4 [==============================] - 0s 8ms/step - loss: 3.8632 - val_loss: 12.7911\n",
            "Epoch 71/500\n",
            "4/4 [==============================] - 0s 8ms/step - loss: 3.8243 - val_loss: 12.7457\n",
            "Epoch 72/500\n",
            "4/4 [==============================] - 0s 10ms/step - loss: 3.8043 - val_loss: 12.5039\n",
            "Epoch 73/500\n",
            "4/4 [==============================] - 0s 8ms/step - loss: 3.7743 - val_loss: 12.4875\n",
            "Epoch 74/500\n",
            "1/4 [======>.......................] - ETA: 0s - loss: 4.5412"
          ]
        },
        {
          "output_type": "stream",
          "name": "stderr",
          "text": [
            "\u001b[34m\u001b[1mwandb\u001b[0m: Adding directory to artifact (/content/wandb/run-20221209_131838-2vkev4yv/files/model-best)... Done. 0.0s\n"
          ]
        },
        {
          "output_type": "stream",
          "name": "stdout",
          "text": [
            "\b\b\b\b\b\b\b\b\b\b\b\b\b\b\b\b\b\b\b\b\b\b\b\b\b\b\b\b\b\b\b\b\b\b\b\b\b\b\b\b\b\b\b\b\b\b\b\b\b\b\b\b\b\b\b\b\b\b\b\b\b\r4/4 [==============================] - 2s 518ms/step - loss: 3.7484 - val_loss: 12.2676\n",
            "Epoch 75/500\n",
            "1/4 [======>.......................] - ETA: 0s - loss: 6.4420"
          ]
        },
        {
          "output_type": "stream",
          "name": "stderr",
          "text": [
            "\u001b[34m\u001b[1mwandb\u001b[0m: Adding directory to artifact (/content/wandb/run-20221209_131838-2vkev4yv/files/model-best)... Done. 0.0s\n"
          ]
        },
        {
          "output_type": "stream",
          "name": "stdout",
          "text": [
            "\b\b\b\b\b\b\b\b\b\b\b\b\b\b\b\b\b\b\b\b\b\b\b\b\b\b\b\b\b\b\b\b\b\b\b\b\b\b\b\b\b\b\b\b\b\b\b\b\b\b\b\b\b\b\b\b\b\b\b\b\b\r4/4 [==============================] - 1s 495ms/step - loss: 3.7221 - val_loss: 12.2087\n",
            "Epoch 76/500\n",
            "1/4 [======>.......................] - ETA: 0s - loss: 3.6456"
          ]
        },
        {
          "output_type": "stream",
          "name": "stderr",
          "text": [
            "\u001b[34m\u001b[1mwandb\u001b[0m: Adding directory to artifact (/content/wandb/run-20221209_131838-2vkev4yv/files/model-best)... Done. 0.0s\n"
          ]
        },
        {
          "output_type": "stream",
          "name": "stdout",
          "text": [
            "\b\b\b\b\b\b\b\b\b\b\b\b\b\b\b\b\b\b\b\b\b\b\b\b\b\b\b\b\b\b\b\b\b\b\b\b\b\b\b\b\b\b\b\b\b\b\b\b\b\b\b\b\b\b\b\b\b\b\b\b\b\r4/4 [==============================] - 2s 512ms/step - loss: 3.6894 - val_loss: 12.1502\n",
            "Epoch 77/500\n",
            "4/4 [==============================] - 0s 12ms/step - loss: 3.6628 - val_loss: 12.2150\n",
            "Epoch 78/500\n",
            "1/4 [======>.......................] - ETA: 0s - loss: 4.3069"
          ]
        },
        {
          "output_type": "stream",
          "name": "stderr",
          "text": [
            "\u001b[34m\u001b[1mwandb\u001b[0m: Adding directory to artifact (/content/wandb/run-20221209_131838-2vkev4yv/files/model-best)... Done. 0.0s\n"
          ]
        },
        {
          "output_type": "stream",
          "name": "stdout",
          "text": [
            "\b\b\b\b\b\b\b\b\b\b\b\b\b\b\b\b\b\b\b\b\b\b\b\b\b\b\b\b\b\b\b\b\b\b\b\b\b\b\b\b\b\b\b\b\b\b\b\b\b\b\b\b\b\b\b\b\b\b\b\b\b\r4/4 [==============================] - 2s 600ms/step - loss: 3.6336 - val_loss: 11.8730\n",
            "Epoch 79/500\n",
            "1/4 [======>.......................] - ETA: 0s - loss: 3.9034"
          ]
        },
        {
          "output_type": "stream",
          "name": "stderr",
          "text": [
            "\u001b[34m\u001b[1mwandb\u001b[0m: Adding directory to artifact (/content/wandb/run-20221209_131838-2vkev4yv/files/model-best)... Done. 0.0s\n"
          ]
        },
        {
          "output_type": "stream",
          "name": "stdout",
          "text": [
            "\b\b\b\b\b\b\b\b\b\b\b\b\b\b\b\b\b\b\b\b\b\b\b\b\b\b\b\b\b\b\b\b\b\b\b\b\b\b\b\b\b\b\b\b\b\b\b\b\b\b\b\b\b\b\b\b\b\b\b\b\b\r4/4 [==============================] - 2s 532ms/step - loss: 3.5997 - val_loss: 11.6678\n",
            "Epoch 80/500\n",
            "4/4 [==============================] - 0s 8ms/step - loss: 3.5701 - val_loss: 11.8443\n",
            "Epoch 81/500\n",
            "4/4 [==============================] - 0s 8ms/step - loss: 3.5380 - val_loss: 11.8713\n",
            "Epoch 82/500\n",
            "4/4 [==============================] - 0s 10ms/step - loss: 3.4973 - val_loss: 11.7247\n",
            "Epoch 83/500\n",
            "1/4 [======>.......................] - ETA: 0s - loss: 2.6566"
          ]
        },
        {
          "output_type": "stream",
          "name": "stderr",
          "text": [
            "\u001b[34m\u001b[1mwandb\u001b[0m: Adding directory to artifact (/content/wandb/run-20221209_131838-2vkev4yv/files/model-best)... Done. 0.0s\n"
          ]
        },
        {
          "output_type": "stream",
          "name": "stdout",
          "text": [
            "\b\b\b\b\b\b\b\b\b\b\b\b\b\b\b\b\b\b\b\b\b\b\b\b\b\b\b\b\b\b\b\b\b\b\b\b\b\b\b\b\b\b\b\b\b\b\b\b\b\b\b\b\b\b\b\b\b\b\b\b\b\r4/4 [==============================] - 2s 519ms/step - loss: 3.4557 - val_loss: 11.5564\n",
            "Epoch 84/500\n",
            "1/4 [======>.......................] - ETA: 0s - loss: 4.1193"
          ]
        },
        {
          "output_type": "stream",
          "name": "stderr",
          "text": [
            "\u001b[34m\u001b[1mwandb\u001b[0m: Adding directory to artifact (/content/wandb/run-20221209_131838-2vkev4yv/files/model-best)... Done. 0.0s\n"
          ]
        },
        {
          "output_type": "stream",
          "name": "stdout",
          "text": [
            "\b\b\b\b\b\b\b\b\b\b\b\b\b\b\b\b\b\b\b\b\b\b\b\b\b\b\b\b\b\b\b\b\b\b\b\b\b\b\b\b\b\b\b\b\b\b\b\b\b\b\b\b\b\b\b\b\b\b\b\b\b\r4/4 [==============================] - 2s 517ms/step - loss: 3.4275 - val_loss: 11.1933\n",
            "Epoch 85/500\n",
            "1/4 [======>.......................] - ETA: 0s - loss: 3.7247"
          ]
        },
        {
          "output_type": "stream",
          "name": "stderr",
          "text": [
            "\u001b[34m\u001b[1mwandb\u001b[0m: Adding directory to artifact (/content/wandb/run-20221209_131838-2vkev4yv/files/model-best)... Done. 0.0s\n"
          ]
        },
        {
          "output_type": "stream",
          "name": "stdout",
          "text": [
            "\b\b\b\b\b\b\b\b\b\b\b\b\b\b\b\b\b\b\b\b\b\b\b\b\b\b\b\b\b\b\b\b\b\b\b\b\b\b\b\b\b\b\b\b\b\b\b\b\b\b\b\b\b\b\b\b\b\b\b\b\b\r4/4 [==============================] - 2s 625ms/step - loss: 3.3899 - val_loss: 10.8181\n",
            "Epoch 86/500\n",
            "4/4 [==============================] - 0s 9ms/step - loss: 3.3455 - val_loss: 10.8437\n",
            "Epoch 87/500\n",
            "4/4 [==============================] - 0s 15ms/step - loss: 3.3086 - val_loss: 10.9244\n",
            "Epoch 88/500\n",
            "1/4 [======>.......................] - ETA: 0s - loss: 3.8916"
          ]
        },
        {
          "output_type": "stream",
          "name": "stderr",
          "text": [
            "\u001b[34m\u001b[1mwandb\u001b[0m: Adding directory to artifact (/content/wandb/run-20221209_131838-2vkev4yv/files/model-best)... Done. 0.0s\n"
          ]
        },
        {
          "output_type": "stream",
          "name": "stdout",
          "text": [
            "\b\b\b\b\b\b\b\b\b\b\b\b\b\b\b\b\b\b\b\b\b\b\b\b\b\b\b\b\b\b\b\b\b\b\b\b\b\b\b\b\b\b\b\b\b\b\b\b\b\b\b\b\b\b\b\b\b\b\b\b\b\r4/4 [==============================] - 2s 534ms/step - loss: 3.2702 - val_loss: 10.7730\n",
            "Epoch 89/500\n",
            "1/4 [======>.......................] - ETA: 0s - loss: 5.2012"
          ]
        },
        {
          "output_type": "stream",
          "name": "stderr",
          "text": [
            "\u001b[34m\u001b[1mwandb\u001b[0m: Adding directory to artifact (/content/wandb/run-20221209_131838-2vkev4yv/files/model-best)... Done. 0.0s\n"
          ]
        },
        {
          "output_type": "stream",
          "name": "stdout",
          "text": [
            "\b\b\b\b\b\b\b\b\b\b\b\b\b\b\b\b\b\b\b\b\b\b\b\b\b\b\b\b\b\b\b\b\b\b\b\b\b\b\b\b\b\b\b\b\b\b\b\b\b\b\b\b\b\b\b\b\b\b\b\b\b\r4/4 [==============================] - 2s 513ms/step - loss: 3.2202 - val_loss: 10.6022\n",
            "Epoch 90/500\n",
            "1/4 [======>.......................] - ETA: 0s - loss: 4.7044"
          ]
        },
        {
          "output_type": "stream",
          "name": "stderr",
          "text": [
            "\u001b[34m\u001b[1mwandb\u001b[0m: Adding directory to artifact (/content/wandb/run-20221209_131838-2vkev4yv/files/model-best)... Done. 0.0s\n"
          ]
        },
        {
          "output_type": "stream",
          "name": "stdout",
          "text": [
            "\b\b\b\b\b\b\b\b\b\b\b\b\b\b\b\b\b\b\b\b\b\b\b\b\b\b\b\b\b\b\b\b\b\b\b\b\b\b\b\b\b\b\b\b\b\b\b\b\b\b\b\b\b\b\b\b\b\b\b\b\b\r4/4 [==============================] - 2s 515ms/step - loss: 3.1824 - val_loss: 10.3895\n",
            "Epoch 91/500\n",
            "1/4 [======>.......................] - ETA: 0s - loss: 4.3813"
          ]
        },
        {
          "output_type": "stream",
          "name": "stderr",
          "text": [
            "\u001b[34m\u001b[1mwandb\u001b[0m: Adding directory to artifact (/content/wandb/run-20221209_131838-2vkev4yv/files/model-best)... Done. 0.0s\n"
          ]
        },
        {
          "output_type": "stream",
          "name": "stdout",
          "text": [
            "\b\b\b\b\b\b\b\b\b\b\b\b\b\b\b\b\b\b\b\b\b\b\b\b\b\b\b\b\b\b\b\b\b\b\b\b\b\b\b\b\b\b\b\b\b\b\b\b\b\b\b\b\b\b\b\b\b\b\b\b\b\r4/4 [==============================] - 2s 610ms/step - loss: 3.1489 - val_loss: 10.0233\n",
            "Epoch 92/500\n",
            "1/4 [======>.......................] - ETA: 0s - loss: 1.9129"
          ]
        },
        {
          "output_type": "stream",
          "name": "stderr",
          "text": [
            "\u001b[34m\u001b[1mwandb\u001b[0m: Adding directory to artifact (/content/wandb/run-20221209_131838-2vkev4yv/files/model-best)... Done. 0.0s\n"
          ]
        },
        {
          "output_type": "stream",
          "name": "stdout",
          "text": [
            "\b\b\b\b\b\b\b\b\b\b\b\b\b\b\b\b\b\b\b\b\b\b\b\b\b\b\b\b\b\b\b\b\b\b\b\b\b\b\b\b\b\b\b\b\b\b\b\b\b\b\b\b\b\b\b\b\b\b\b\b\b\r4/4 [==============================] - 2s 517ms/step - loss: 3.0888 - val_loss: 9.8569\n",
            "Epoch 93/500\n",
            "1/4 [======>.......................] - ETA: 0s - loss: 2.5453"
          ]
        },
        {
          "output_type": "stream",
          "name": "stderr",
          "text": [
            "\u001b[34m\u001b[1mwandb\u001b[0m: Adding directory to artifact (/content/wandb/run-20221209_131838-2vkev4yv/files/model-best)... Done. 0.0s\n"
          ]
        },
        {
          "output_type": "stream",
          "name": "stdout",
          "text": [
            "\b\b\b\b\b\b\b\b\b\b\b\b\b\b\b\b\b\b\b\b\b\b\b\b\b\b\b\b\b\b\b\b\b\b\b\b\b\b\b\b\b\b\b\b\b\b\b\b\b\b\b\b\b\b\b\b\b\b\b\b\b\r4/4 [==============================] - 2s 528ms/step - loss: 3.0462 - val_loss: 9.8359\n",
            "Epoch 94/500\n",
            "1/4 [======>.......................] - ETA: 0s - loss: 2.2322"
          ]
        },
        {
          "output_type": "stream",
          "name": "stderr",
          "text": [
            "\u001b[34m\u001b[1mwandb\u001b[0m: Adding directory to artifact (/content/wandb/run-20221209_131838-2vkev4yv/files/model-best)... Done. 0.0s\n"
          ]
        },
        {
          "output_type": "stream",
          "name": "stdout",
          "text": [
            "\b\b\b\b\b\b\b\b\b\b\b\b\b\b\b\b\b\b\b\b\b\b\b\b\b\b\b\b\b\b\b\b\b\b\b\b\b\b\b\b\b\b\b\b\b\b\b\b\b\b\b\b\b\b\b\b\b\b\b\b\b\r4/4 [==============================] - 2s 514ms/step - loss: 3.0061 - val_loss: 9.6170\n",
            "Epoch 95/500\n",
            "4/4 [==============================] - 0s 9ms/step - loss: 2.9652 - val_loss: 9.6835\n",
            "Epoch 96/500\n",
            "4/4 [==============================] - 0s 10ms/step - loss: 2.9354 - val_loss: 9.8168\n",
            "Epoch 97/500\n",
            "1/4 [======>.......................] - ETA: 0s - loss: 2.1464"
          ]
        },
        {
          "output_type": "stream",
          "name": "stderr",
          "text": [
            "\u001b[34m\u001b[1mwandb\u001b[0m: Adding directory to artifact (/content/wandb/run-20221209_131838-2vkev4yv/files/model-best)... Done. 0.0s\n"
          ]
        },
        {
          "output_type": "stream",
          "name": "stdout",
          "text": [
            "\b\b\b\b\b\b\b\b\b\b\b\b\b\b\b\b\b\b\b\b\b\b\b\b\b\b\b\b\b\b\b\b\b\b\b\b\b\b\b\b\b\b\b\b\b\b\b\b\b\b\b\b\b\b\b\b\b\b\b\b\b\r4/4 [==============================] - 2s 591ms/step - loss: 2.8699 - val_loss: 9.5954\n",
            "Epoch 98/500\n",
            "1/4 [======>.......................] - ETA: 0s - loss: 2.9864"
          ]
        },
        {
          "output_type": "stream",
          "name": "stderr",
          "text": [
            "\u001b[34m\u001b[1mwandb\u001b[0m: Adding directory to artifact (/content/wandb/run-20221209_131838-2vkev4yv/files/model-best)... Done. 0.0s\n"
          ]
        },
        {
          "output_type": "stream",
          "name": "stdout",
          "text": [
            "\b\b\b\b\b\b\b\b\b\b\b\b\b\b\b\b\b\b\b\b\b\b\b\b\b\b\b\b\b\b\b\b\b\b\b\b\b\b\b\b\b\b\b\b\b\b\b\b\b\b\b\b\b\b\b\b\b\b\b\b\b\r4/4 [==============================] - 2s 518ms/step - loss: 2.8202 - val_loss: 9.1733\n",
            "Epoch 99/500\n",
            "1/4 [======>.......................] - ETA: 0s - loss: 3.4100"
          ]
        },
        {
          "output_type": "stream",
          "name": "stderr",
          "text": [
            "\u001b[34m\u001b[1mwandb\u001b[0m: Adding directory to artifact (/content/wandb/run-20221209_131838-2vkev4yv/files/model-best)... Done. 0.0s\n"
          ]
        },
        {
          "output_type": "stream",
          "name": "stdout",
          "text": [
            "\b\b\b\b\b\b\b\b\b\b\b\b\b\b\b\b\b\b\b\b\b\b\b\b\b\b\b\b\b\b\b\b\b\b\b\b\b\b\b\b\b\b\b\b\b\b\b\b\b\b\b\b\b\b\b\b\b\b\b\b\b\r4/4 [==============================] - 2s 514ms/step - loss: 2.7834 - val_loss: 8.7920\n",
            "Epoch 100/500\n",
            "1/4 [======>.......................] - ETA: 0s - loss: 4.1948"
          ]
        },
        {
          "output_type": "stream",
          "name": "stderr",
          "text": [
            "\u001b[34m\u001b[1mwandb\u001b[0m: Adding directory to artifact (/content/wandb/run-20221209_131838-2vkev4yv/files/model-best)... Done. 0.0s\n"
          ]
        },
        {
          "output_type": "stream",
          "name": "stdout",
          "text": [
            "\b\b\b\b\b\b\b\b\b\b\b\b\b\b\b\b\b\b\b\b\b\b\b\b\b\b\b\b\b\b\b\b\b\b\b\b\b\b\b\b\b\b\b\b\b\b\b\b\b\b\b\b\b\b\b\b\b\b\b\b\b\r4/4 [==============================] - 2s 528ms/step - loss: 2.7435 - val_loss: 8.7829\n",
            "Epoch 101/500\n",
            "1/4 [======>.......................] - ETA: 0s - loss: 1.6262"
          ]
        },
        {
          "output_type": "stream",
          "name": "stderr",
          "text": [
            "\u001b[34m\u001b[1mwandb\u001b[0m: Adding directory to artifact (/content/wandb/run-20221209_131838-2vkev4yv/files/model-best)... Done. 0.0s\n"
          ]
        },
        {
          "output_type": "stream",
          "name": "stdout",
          "text": [
            "\b\b\b\b\b\b\b\b\b\b\b\b\b\b\b\b\b\b\b\b\b\b\b\b\b\b\b\b\b\b\b\b\b\b\b\b\b\b\b\b\b\b\b\b\b\b\b\b\b\b\b\b\b\b\b\b\b\b\b\b\b\r4/4 [==============================] - 2s 625ms/step - loss: 2.6844 - val_loss: 8.6057\n",
            "Epoch 102/500\n",
            "1/4 [======>.......................] - ETA: 0s - loss: 2.2463"
          ]
        },
        {
          "output_type": "stream",
          "name": "stderr",
          "text": [
            "\u001b[34m\u001b[1mwandb\u001b[0m: Adding directory to artifact (/content/wandb/run-20221209_131838-2vkev4yv/files/model-best)... Done. 0.0s\n"
          ]
        },
        {
          "output_type": "stream",
          "name": "stdout",
          "text": [
            "\b\b\b\b\b\b\b\b\b\b\b\b\b\b\b\b\b\b\b\b\b\b\b\b\b\b\b\b\b\b\b\b\b\b\b\b\b\b\b\b\b\b\b\b\b\b\b\b\b\b\b\b\b\b\b\b\b\b\b\b\b\r4/4 [==============================] - 2s 531ms/step - loss: 2.6472 - val_loss: 8.1428\n",
            "Epoch 103/500\n",
            "1/4 [======>.......................] - ETA: 0s - loss: 2.7543"
          ]
        },
        {
          "output_type": "stream",
          "name": "stderr",
          "text": [
            "\u001b[34m\u001b[1mwandb\u001b[0m: Adding directory to artifact (/content/wandb/run-20221209_131838-2vkev4yv/files/model-best)... Done. 0.0s\n"
          ]
        },
        {
          "output_type": "stream",
          "name": "stdout",
          "text": [
            "\b\b\b\b\b\b\b\b\b\b\b\b\b\b\b\b\b\b\b\b\b\b\b\b\b\b\b\b\b\b\b\b\b\b\b\b\b\b\b\b\b\b\b\b\b\b\b\b\b\b\b\b\b\b\b\b\b\b\b\b\b\r4/4 [==============================] - 2s 525ms/step - loss: 2.6120 - val_loss: 7.7595\n",
            "Epoch 104/500\n",
            "1/4 [======>.......................] - ETA: 0s - loss: 3.1151"
          ]
        },
        {
          "output_type": "stream",
          "name": "stderr",
          "text": [
            "\u001b[34m\u001b[1mwandb\u001b[0m: Adding directory to artifact (/content/wandb/run-20221209_131838-2vkev4yv/files/model-best)... Done. 0.0s\n"
          ]
        },
        {
          "output_type": "stream",
          "name": "stdout",
          "text": [
            "\b\b\b\b\b\b\b\b\b\b\b\b\b\b\b\b\b\b\b\b\b\b\b\b\b\b\b\b\b\b\b\b\b\b\b\b\b\b\b\b\b\b\b\b\b\b\b\b\b\b\b\b\b\b\b\b\b\b\b\b\b\r4/4 [==============================] - 2s 523ms/step - loss: 2.5508 - val_loss: 7.5994\n",
            "Epoch 105/500\n",
            "4/4 [==============================] - 0s 9ms/step - loss: 2.5178 - val_loss: 7.7183\n",
            "Epoch 106/500\n",
            "4/4 [==============================] - 0s 9ms/step - loss: 2.4846 - val_loss: 7.9673\n",
            "Epoch 107/500\n",
            "1/4 [======>.......................] - ETA: 0s - loss: 3.7342"
          ]
        },
        {
          "output_type": "stream",
          "name": "stderr",
          "text": [
            "\u001b[34m\u001b[1mwandb\u001b[0m: Adding directory to artifact (/content/wandb/run-20221209_131838-2vkev4yv/files/model-best)... Done. 0.0s\n"
          ]
        },
        {
          "output_type": "stream",
          "name": "stdout",
          "text": [
            "\b\b\b\b\b\b\b\b\b\b\b\b\b\b\b\b\b\b\b\b\b\b\b\b\b\b\b\b\b\b\b\b\b\b\b\b\b\b\b\b\b\b\b\b\b\b\b\b\b\b\b\b\b\b\b\b\b\b\b\b\b\r4/4 [==============================] - 2s 611ms/step - loss: 2.4222 - val_loss: 7.5247\n",
            "Epoch 108/500\n",
            "1/4 [======>.......................] - ETA: 0s - loss: 1.0589"
          ]
        },
        {
          "output_type": "stream",
          "name": "stderr",
          "text": [
            "\u001b[34m\u001b[1mwandb\u001b[0m: Adding directory to artifact (/content/wandb/run-20221209_131838-2vkev4yv/files/model-best)... Done. 0.0s\n"
          ]
        },
        {
          "output_type": "stream",
          "name": "stdout",
          "text": [
            "\b\b\b\b\b\b\b\b\b\b\b\b\b\b\b\b\b\b\b\b\b\b\b\b\b\b\b\b\b\b\b\b\b\b\b\b\b\b\b\b\b\b\b\b\b\b\b\b\b\b\b\b\b\b\b\b\b\b\b\b\b\r4/4 [==============================] - 2s 522ms/step - loss: 2.3618 - val_loss: 7.4310\n",
            "Epoch 109/500\n",
            "1/4 [======>.......................] - ETA: 0s - loss: 2.1348"
          ]
        },
        {
          "output_type": "stream",
          "name": "stderr",
          "text": [
            "\u001b[34m\u001b[1mwandb\u001b[0m: Adding directory to artifact (/content/wandb/run-20221209_131838-2vkev4yv/files/model-best)... Done. 0.0s\n"
          ]
        },
        {
          "output_type": "stream",
          "name": "stdout",
          "text": [
            "\b\b\b\b\b\b\b\b\b\b\b\b\b\b\b\b\b\b\b\b\b\b\b\b\b\b\b\b\b\b\b\b\b\b\b\b\b\b\b\b\b\b\b\b\b\b\b\b\b\b\b\b\b\b\b\b\b\b\b\b\b\r4/4 [==============================] - 2s 533ms/step - loss: 2.3342 - val_loss: 6.9895\n",
            "Epoch 110/500\n",
            "1/4 [======>.......................] - ETA: 0s - loss: 2.2452"
          ]
        },
        {
          "output_type": "stream",
          "name": "stderr",
          "text": [
            "\u001b[34m\u001b[1mwandb\u001b[0m: Adding directory to artifact (/content/wandb/run-20221209_131838-2vkev4yv/files/model-best)... Done. 0.0s\n"
          ]
        },
        {
          "output_type": "stream",
          "name": "stdout",
          "text": [
            "\b\b\b\b\b\b\b\b\b\b\b\b\b\b\b\b\b\b\b\b\b\b\b\b\b\b\b\b\b\b\b\b\b\b\b\b\b\b\b\b\b\b\b\b\b\b\b\b\b\b\b\b\b\b\b\b\b\b\b\b\b\r4/4 [==============================] - 2s 515ms/step - loss: 2.2842 - val_loss: 6.7134\n",
            "Epoch 111/500\n",
            "1/4 [======>.......................] - ETA: 0s - loss: 2.5624"
          ]
        },
        {
          "output_type": "stream",
          "name": "stderr",
          "text": [
            "\u001b[34m\u001b[1mwandb\u001b[0m: Adding directory to artifact (/content/wandb/run-20221209_131838-2vkev4yv/files/model-best)... Done. 0.0s\n"
          ]
        },
        {
          "output_type": "stream",
          "name": "stdout",
          "text": [
            "\b\b\b\b\b\b\b\b\b\b\b\b\b\b\b\b\b\b\b\b\b\b\b\b\b\b\b\b\b\b\b\b\b\b\b\b\b\b\b\b\b\b\b\b\b\b\b\b\b\b\b\b\b\b\b\b\b\b\b\b\b\r4/4 [==============================] - 2s 518ms/step - loss: 2.2323 - val_loss: 6.6183\n",
            "Epoch 112/500\n",
            "1/4 [======>.......................] - ETA: 0s - loss: 4.0215"
          ]
        },
        {
          "output_type": "stream",
          "name": "stderr",
          "text": [
            "\u001b[34m\u001b[1mwandb\u001b[0m: Adding directory to artifact (/content/wandb/run-20221209_131838-2vkev4yv/files/model-best)... Done. 0.0s\n"
          ]
        },
        {
          "output_type": "stream",
          "name": "stdout",
          "text": [
            "\b\b\b\b\b\b\b\b\b\b\b\b\b\b\b\b\b\b\b\b\b\b\b\b\b\b\b\b\b\b\b\b\b\b\b\b\b\b\b\b\b\b\b\b\b\b\b\b\b\b\b\b\b\b\b\b\b\b\b\b\b\r4/4 [==============================] - 2s 621ms/step - loss: 2.1938 - val_loss: 6.5844\n",
            "Epoch 113/500\n",
            "1/4 [======>.......................] - ETA: 0s - loss: 2.2437"
          ]
        },
        {
          "output_type": "stream",
          "name": "stderr",
          "text": [
            "\u001b[34m\u001b[1mwandb\u001b[0m: Adding directory to artifact (/content/wandb/run-20221209_131838-2vkev4yv/files/model-best)... Done. 0.0s\n"
          ]
        },
        {
          "output_type": "stream",
          "name": "stdout",
          "text": [
            "\b\b\b\b\b\b\b\b\b\b\b\b\b\b\b\b\b\b\b\b\b\b\b\b\b\b\b\b\b\b\b\b\b\b\b\b\b\b\b\b\b\b\b\b\b\b\b\b\b\b\b\b\b\b\b\b\b\b\b\b\b\r4/4 [==============================] - 2s 515ms/step - loss: 2.1386 - val_loss: 6.4362\n",
            "Epoch 114/500\n",
            "4/4 [==============================] - 0s 9ms/step - loss: 2.0998 - val_loss: 6.4515\n",
            "Epoch 115/500\n",
            "1/4 [======>.......................] - ETA: 0s - loss: 2.8623"
          ]
        },
        {
          "output_type": "stream",
          "name": "stderr",
          "text": [
            "\u001b[34m\u001b[1mwandb\u001b[0m: Adding directory to artifact (/content/wandb/run-20221209_131838-2vkev4yv/files/model-best)... Done. 0.0s\n"
          ]
        },
        {
          "output_type": "stream",
          "name": "stdout",
          "text": [
            "\b\b\b\b\b\b\b\b\b\b\b\b\b\b\b\b\b\b\b\b\b\b\b\b\b\b\b\b\b\b\b\b\b\b\b\b\b\b\b\b\b\b\b\b\b\b\b\b\b\b\b\b\b\b\b\b\b\b\b\b\b\r4/4 [==============================] - 2s 515ms/step - loss: 2.0615 - val_loss: 6.1773\n",
            "Epoch 116/500\n",
            "1/4 [======>.......................] - ETA: 0s - loss: 2.9577"
          ]
        },
        {
          "output_type": "stream",
          "name": "stderr",
          "text": [
            "\u001b[34m\u001b[1mwandb\u001b[0m: Adding directory to artifact (/content/wandb/run-20221209_131838-2vkev4yv/files/model-best)... Done. 0.0s\n"
          ]
        },
        {
          "output_type": "stream",
          "name": "stdout",
          "text": [
            "\b\b\b\b\b\b\b\b\b\b\b\b\b\b\b\b\b\b\b\b\b\b\b\b\b\b\b\b\b\b\b\b\b\b\b\b\b\b\b\b\b\b\b\b\b\b\b\b\b\b\b\b\b\b\b\b\b\b\b\b\b\r4/4 [==============================] - 2s 512ms/step - loss: 2.0110 - val_loss: 6.0658\n",
            "Epoch 117/500\n",
            "4/4 [==============================] - 0s 9ms/step - loss: 1.9719 - val_loss: 6.1099\n",
            "Epoch 118/500\n",
            "1/4 [======>.......................] - ETA: 0s - loss: 1.1791"
          ]
        },
        {
          "output_type": "stream",
          "name": "stderr",
          "text": [
            "\u001b[34m\u001b[1mwandb\u001b[0m: Adding directory to artifact (/content/wandb/run-20221209_131838-2vkev4yv/files/model-best)... Done. 0.0s\n"
          ]
        },
        {
          "output_type": "stream",
          "name": "stdout",
          "text": [
            "\b\b\b\b\b\b\b\b\b\b\b\b\b\b\b\b\b\b\b\b\b\b\b\b\b\b\b\b\b\b\b\b\b\b\b\b\b\b\b\b\b\b\b\b\b\b\b\b\b\b\b\b\b\b\b\b\b\b\b\b\b\r4/4 [==============================] - 2s 605ms/step - loss: 1.9232 - val_loss: 5.8220\n",
            "Epoch 119/500\n",
            "1/4 [======>.......................] - ETA: 0s - loss: 0.5806"
          ]
        },
        {
          "output_type": "stream",
          "name": "stderr",
          "text": [
            "\u001b[34m\u001b[1mwandb\u001b[0m: Adding directory to artifact (/content/wandb/run-20221209_131838-2vkev4yv/files/model-best)... Done. 0.0s\n"
          ]
        },
        {
          "output_type": "stream",
          "name": "stdout",
          "text": [
            "\b\b\b\b\b\b\b\b\b\b\b\b\b\b\b\b\b\b\b\b\b\b\b\b\b\b\b\b\b\b\b\b\b\b\b\b\b\b\b\b\b\b\b\b\b\b\b\b\b\b\b\b\b\b\b\b\b\b\b\b\b\r4/4 [==============================] - 2s 521ms/step - loss: 1.8806 - val_loss: 5.5229\n",
            "Epoch 120/500\n",
            "1/4 [======>.......................] - ETA: 0s - loss: 1.3244"
          ]
        },
        {
          "output_type": "stream",
          "name": "stderr",
          "text": [
            "\u001b[34m\u001b[1mwandb\u001b[0m: Adding directory to artifact (/content/wandb/run-20221209_131838-2vkev4yv/files/model-best)... Done. 0.0s\n"
          ]
        },
        {
          "output_type": "stream",
          "name": "stdout",
          "text": [
            "\b\b\b\b\b\b\b\b\b\b\b\b\b\b\b\b\b\b\b\b\b\b\b\b\b\b\b\b\b\b\b\b\b\b\b\b\b\b\b\b\b\b\b\b\b\b\b\b\b\b\b\b\b\b\b\b\b\b\b\b\b\r4/4 [==============================] - 2s 516ms/step - loss: 1.8402 - val_loss: 5.2050\n",
            "Epoch 121/500\n",
            "1/4 [======>.......................] - ETA: 0s - loss: 1.7559"
          ]
        },
        {
          "output_type": "stream",
          "name": "stderr",
          "text": [
            "\u001b[34m\u001b[1mwandb\u001b[0m: Adding directory to artifact (/content/wandb/run-20221209_131838-2vkev4yv/files/model-best)... Done. 0.0s\n"
          ]
        },
        {
          "output_type": "stream",
          "name": "stdout",
          "text": [
            "\b\b\b\b\b\b\b\b\b\b\b\b\b\b\b\b\b\b\b\b\b\b\b\b\b\b\b\b\b\b\b\b\b\b\b\b\b\b\b\b\b\b\b\b\b\b\b\b\b\b\b\b\b\b\b\b\b\b\b\b\b\r4/4 [==============================] - 2s 515ms/step - loss: 1.8054 - val_loss: 4.9689\n",
            "Epoch 122/500\n",
            "1/4 [======>.......................] - ETA: 0s - loss: 1.1071"
          ]
        },
        {
          "output_type": "stream",
          "name": "stderr",
          "text": [
            "\u001b[34m\u001b[1mwandb\u001b[0m: Adding directory to artifact (/content/wandb/run-20221209_131838-2vkev4yv/files/model-best)... Done. 0.0s\n"
          ]
        },
        {
          "output_type": "stream",
          "name": "stdout",
          "text": [
            "\b\b\b\b\b\b\b\b\b\b\b\b\b\b\b\b\b\b\b\b\b\b\b\b\b\b\b\b\b\b\b\b\b\b\b\b\b\b\b\b\b\b\b\b\b\b\b\b\b\b\b\b\b\b\b\b\b\b\b\b\b\r4/4 [==============================] - 2s 599ms/step - loss: 1.7596 - val_loss: 4.8269\n",
            "Epoch 123/500\n",
            "1/4 [======>.......................] - ETA: 0s - loss: 0.4170"
          ]
        },
        {
          "output_type": "stream",
          "name": "stderr",
          "text": [
            "\u001b[34m\u001b[1mwandb\u001b[0m: Adding directory to artifact (/content/wandb/run-20221209_131838-2vkev4yv/files/model-best)... Done. 0.0s\n"
          ]
        },
        {
          "output_type": "stream",
          "name": "stdout",
          "text": [
            "\b\b\b\b\b\b\b\b\b\b\b\b\b\b\b\b\b\b\b\b\b\b\b\b\b\b\b\b\b\b\b\b\b\b\b\b\b\b\b\b\b\b\b\b\b\b\b\b\b\b\b\b\b\b\b\b\b\b\b\b\b\r4/4 [==============================] - 2s 517ms/step - loss: 1.7102 - val_loss: 4.7542\n",
            "Epoch 124/500\n",
            "4/4 [==============================] - 0s 9ms/step - loss: 1.6854 - val_loss: 4.8880\n",
            "Epoch 125/500\n",
            "4/4 [==============================] - 0s 8ms/step - loss: 1.6300 - val_loss: 4.8268\n",
            "Epoch 126/500\n",
            "1/4 [======>.......................] - ETA: 0s - loss: 1.9404"
          ]
        },
        {
          "output_type": "stream",
          "name": "stderr",
          "text": [
            "\u001b[34m\u001b[1mwandb\u001b[0m: Adding directory to artifact (/content/wandb/run-20221209_131838-2vkev4yv/files/model-best)... Done. 0.0s\n"
          ]
        },
        {
          "output_type": "stream",
          "name": "stdout",
          "text": [
            "\b\b\b\b\b\b\b\b\b\b\b\b\b\b\b\b\b\b\b\b\b\b\b\b\b\b\b\b\b\b\b\b\b\b\b\b\b\b\b\b\b\b\b\b\b\b\b\b\b\b\b\b\b\b\b\b\b\b\b\b\b\r4/4 [==============================] - 2s 529ms/step - loss: 1.5983 - val_loss: 4.6213\n",
            "Epoch 127/500\n",
            "1/4 [======>.......................] - ETA: 0s - loss: 1.5921"
          ]
        },
        {
          "output_type": "stream",
          "name": "stderr",
          "text": [
            "\u001b[34m\u001b[1mwandb\u001b[0m: Adding directory to artifact (/content/wandb/run-20221209_131838-2vkev4yv/files/model-best)... Done. 0.0s\n"
          ]
        },
        {
          "output_type": "stream",
          "name": "stdout",
          "text": [
            "\b\b\b\b\b\b\b\b\b\b\b\b\b\b\b\b\b\b\b\b\b\b\b\b\b\b\b\b\b\b\b\b\b\b\b\b\b\b\b\b\b\b\b\b\b\b\b\b\b\b\b\b\b\b\b\b\b\b\b\b\b\r4/4 [==============================] - 2s 518ms/step - loss: 1.5565 - val_loss: 4.3968\n",
            "Epoch 128/500\n",
            "1/4 [======>.......................] - ETA: 0s - loss: 1.5603"
          ]
        },
        {
          "output_type": "stream",
          "name": "stderr",
          "text": [
            "\u001b[34m\u001b[1mwandb\u001b[0m: Adding directory to artifact (/content/wandb/run-20221209_131838-2vkev4yv/files/model-best)... Done. 0.0s\n"
          ]
        },
        {
          "output_type": "stream",
          "name": "stdout",
          "text": [
            "\b\b\b\b\b\b\b\b\b\b\b\b\b\b\b\b\b\b\b\b\b\b\b\b\b\b\b\b\b\b\b\b\b\b\b\b\b\b\b\b\b\b\b\b\b\b\b\b\b\b\b\b\b\b\b\b\b\b\b\b\b\r4/4 [==============================] - 2s 618ms/step - loss: 1.5204 - val_loss: 4.1968\n",
            "Epoch 129/500\n",
            "1/4 [======>.......................] - ETA: 0s - loss: 2.1306"
          ]
        },
        {
          "output_type": "stream",
          "name": "stderr",
          "text": [
            "\u001b[34m\u001b[1mwandb\u001b[0m: Adding directory to artifact (/content/wandb/run-20221209_131838-2vkev4yv/files/model-best)... Done. 0.0s\n"
          ]
        },
        {
          "output_type": "stream",
          "name": "stdout",
          "text": [
            "\b\b\b\b\b\b\b\b\b\b\b\b\b\b\b\b\b\b\b\b\b\b\b\b\b\b\b\b\b\b\b\b\b\b\b\b\b\b\b\b\b\b\b\b\b\b\b\b\b\b\b\b\b\b\b\b\b\b\b\b\b\r4/4 [==============================] - 2s 518ms/step - loss: 1.4913 - val_loss: 3.8882\n",
            "Epoch 130/500\n",
            "1/4 [======>.......................] - ETA: 0s - loss: 2.3710"
          ]
        },
        {
          "output_type": "stream",
          "name": "stderr",
          "text": [
            "\u001b[34m\u001b[1mwandb\u001b[0m: Adding directory to artifact (/content/wandb/run-20221209_131838-2vkev4yv/files/model-best)... Done. 0.0s\n"
          ]
        },
        {
          "output_type": "stream",
          "name": "stdout",
          "text": [
            "\b\b\b\b\b\b\b\b\b\b\b\b\b\b\b\b\b\b\b\b\b\b\b\b\b\b\b\b\b\b\b\b\b\b\b\b\b\b\b\b\b\b\b\b\b\b\b\b\b\b\b\b\b\b\b\b\b\b\b\b\b\r4/4 [==============================] - 2s 519ms/step - loss: 1.4508 - val_loss: 3.6872\n",
            "Epoch 131/500\n",
            "4/4 [==============================] - 0s 9ms/step - loss: 1.4184 - val_loss: 3.8043\n",
            "Epoch 132/500\n",
            "1/4 [======>.......................] - ETA: 0s - loss: 0.5817"
          ]
        },
        {
          "output_type": "stream",
          "name": "stderr",
          "text": [
            "\u001b[34m\u001b[1mwandb\u001b[0m: Adding directory to artifact (/content/wandb/run-20221209_131838-2vkev4yv/files/model-best)... Done. 0.0s\n"
          ]
        },
        {
          "output_type": "stream",
          "name": "stdout",
          "text": [
            "\b\b\b\b\b\b\b\b\b\b\b\b\b\b\b\b\b\b\b\b\b\b\b\b\b\b\b\b\b\b\b\b\b\b\b\b\b\b\b\b\b\b\b\b\b\b\b\b\b\b\b\b\b\b\b\b\b\b\b\b\b\r4/4 [==============================] - 2s 523ms/step - loss: 1.3827 - val_loss: 3.5624\n",
            "Epoch 133/500\n",
            "4/4 [==============================] - 0s 9ms/step - loss: 1.3405 - val_loss: 3.6527\n",
            "Epoch 134/500\n",
            "1/4 [======>.......................] - ETA: 0s - loss: 1.4767"
          ]
        },
        {
          "output_type": "stream",
          "name": "stderr",
          "text": [
            "\u001b[34m\u001b[1mwandb\u001b[0m: Adding directory to artifact (/content/wandb/run-20221209_131838-2vkev4yv/files/model-best)... Done. 0.0s\n"
          ]
        },
        {
          "output_type": "stream",
          "name": "stdout",
          "text": [
            "\b\b\b\b\b\b\b\b\b\b\b\b\b\b\b\b\b\b\b\b\b\b\b\b\b\b\b\b\b\b\b\b\b\b\b\b\b\b\b\b\b\b\b\b\b\b\b\b\b\b\b\b\b\b\b\b\b\b\b\b\b\r4/4 [==============================] - 2s 620ms/step - loss: 1.3057 - val_loss: 3.5612\n",
            "Epoch 135/500\n",
            "1/4 [======>.......................] - ETA: 0s - loss: 0.6380"
          ]
        },
        {
          "output_type": "stream",
          "name": "stderr",
          "text": [
            "\u001b[34m\u001b[1mwandb\u001b[0m: Adding directory to artifact (/content/wandb/run-20221209_131838-2vkev4yv/files/model-best)... Done. 0.0s\n"
          ]
        },
        {
          "output_type": "stream",
          "name": "stdout",
          "text": [
            "\b\b\b\b\b\b\b\b\b\b\b\b\b\b\b\b\b\b\b\b\b\b\b\b\b\b\b\b\b\b\b\b\b\b\b\b\b\b\b\b\b\b\b\b\b\b\b\b\b\b\b\b\b\b\b\b\b\b\b\b\b\r4/4 [==============================] - 2s 523ms/step - loss: 1.2712 - val_loss: 3.4682\n",
            "Epoch 136/500\n",
            "1/4 [======>.......................] - ETA: 0s - loss: 0.7024"
          ]
        },
        {
          "output_type": "stream",
          "name": "stderr",
          "text": [
            "\u001b[34m\u001b[1mwandb\u001b[0m: Adding directory to artifact (/content/wandb/run-20221209_131838-2vkev4yv/files/model-best)... Done. 0.0s\n"
          ]
        },
        {
          "output_type": "stream",
          "name": "stdout",
          "text": [
            "\b\b\b\b\b\b\b\b\b\b\b\b\b\b\b\b\b\b\b\b\b\b\b\b\b\b\b\b\b\b\b\b\b\b\b\b\b\b\b\b\b\b\b\b\b\b\b\b\b\b\b\b\b\b\b\b\b\b\b\b\b\r4/4 [==============================] - 2s 510ms/step - loss: 1.2470 - val_loss: 3.1482\n",
            "Epoch 137/500\n",
            "1/4 [======>.......................] - ETA: 0s - loss: 0.8330"
          ]
        },
        {
          "output_type": "stream",
          "name": "stderr",
          "text": [
            "\u001b[34m\u001b[1mwandb\u001b[0m: Adding directory to artifact (/content/wandb/run-20221209_131838-2vkev4yv/files/model-best)... Done. 0.0s\n"
          ]
        },
        {
          "output_type": "stream",
          "name": "stdout",
          "text": [
            "\b\b\b\b\b\b\b\b\b\b\b\b\b\b\b\b\b\b\b\b\b\b\b\b\b\b\b\b\b\b\b\b\b\b\b\b\b\b\b\b\b\b\b\b\b\b\b\b\b\b\b\b\b\b\b\b\b\b\b\b\b\r4/4 [==============================] - 2s 524ms/step - loss: 1.2099 - val_loss: 2.9222\n",
            "Epoch 138/500\n",
            "1/4 [======>.......................] - ETA: 0s - loss: 1.6039"
          ]
        },
        {
          "output_type": "stream",
          "name": "stderr",
          "text": [
            "\u001b[34m\u001b[1mwandb\u001b[0m: Adding directory to artifact (/content/wandb/run-20221209_131838-2vkev4yv/files/model-best)... Done. 0.0s\n"
          ]
        },
        {
          "output_type": "stream",
          "name": "stdout",
          "text": [
            "\b\b\b\b\b\b\b\b\b\b\b\b\b\b\b\b\b\b\b\b\b\b\b\b\b\b\b\b\b\b\b\b\b\b\b\b\b\b\b\b\b\b\b\b\b\b\b\b\b\b\b\b\b\b\b\b\b\b\b\b\b\r4/4 [==============================] - 2s 510ms/step - loss: 1.1800 - val_loss: 2.7554\n",
            "Epoch 139/500\n",
            "1/4 [======>.......................] - ETA: 0s - loss: 1.8861"
          ]
        },
        {
          "output_type": "stream",
          "name": "stderr",
          "text": [
            "\u001b[34m\u001b[1mwandb\u001b[0m: Adding directory to artifact (/content/wandb/run-20221209_131838-2vkev4yv/files/model-best)... Done. 0.0s\n"
          ]
        },
        {
          "output_type": "stream",
          "name": "stdout",
          "text": [
            "\b\b\b\b\b\b\b\b\b\b\b\b\b\b\b\b\b\b\b\b\b\b\b\b\b\b\b\b\b\b\b\b\b\b\b\b\b\b\b\b\b\b\b\b\b\b\b\b\b\b\b\b\b\b\b\b\b\b\b\b\b\r4/4 [==============================] - 2s 630ms/step - loss: 1.1403 - val_loss: 2.7283\n",
            "Epoch 140/500\n",
            "4/4 [==============================] - 0s 11ms/step - loss: 1.1091 - val_loss: 2.7919\n",
            "Epoch 141/500\n",
            "4/4 [==============================] - 0s 16ms/step - loss: 1.0916 - val_loss: 2.9411\n",
            "Epoch 142/500\n",
            "4/4 [==============================] - 0s 10ms/step - loss: 1.0499 - val_loss: 2.7948\n",
            "Epoch 143/500\n",
            "1/4 [======>.......................] - ETA: 0s - loss: 0.6532"
          ]
        },
        {
          "output_type": "stream",
          "name": "stderr",
          "text": [
            "\u001b[34m\u001b[1mwandb\u001b[0m: Adding directory to artifact (/content/wandb/run-20221209_131838-2vkev4yv/files/model-best)... Done. 0.0s\n"
          ]
        },
        {
          "output_type": "stream",
          "name": "stdout",
          "text": [
            "\b\b\b\b\b\b\b\b\b\b\b\b\b\b\b\b\b\b\b\b\b\b\b\b\b\b\b\b\b\b\b\b\b\b\b\b\b\b\b\b\b\b\b\b\b\b\b\b\b\b\b\b\b\b\b\b\b\b\b\b\b\r4/4 [==============================] - 2s 504ms/step - loss: 1.0194 - val_loss: 2.5880\n",
            "Epoch 144/500\n",
            "1/4 [======>.......................] - ETA: 0s - loss: 1.1518"
          ]
        },
        {
          "output_type": "stream",
          "name": "stderr",
          "text": [
            "\u001b[34m\u001b[1mwandb\u001b[0m: Adding directory to artifact (/content/wandb/run-20221209_131838-2vkev4yv/files/model-best)... Done. 0.0s\n"
          ]
        },
        {
          "output_type": "stream",
          "name": "stdout",
          "text": [
            "\b\b\b\b\b\b\b\b\b\b\b\b\b\b\b\b\b\b\b\b\b\b\b\b\b\b\b\b\b\b\b\b\b\b\b\b\b\b\b\b\b\b\b\b\b\b\b\b\b\b\b\b\b\b\b\b\b\b\b\b\b\r4/4 [==============================] - 2s 516ms/step - loss: 0.9944 - val_loss: 2.4550\n",
            "Epoch 145/500\n",
            "1/4 [======>.......................] - ETA: 0s - loss: 0.4835"
          ]
        },
        {
          "output_type": "stream",
          "name": "stderr",
          "text": [
            "\u001b[34m\u001b[1mwandb\u001b[0m: Adding directory to artifact (/content/wandb/run-20221209_131838-2vkev4yv/files/model-best)... Done. 0.0s\n"
          ]
        },
        {
          "output_type": "stream",
          "name": "stdout",
          "text": [
            "\b\b\b\b\b\b\b\b\b\b\b\b\b\b\b\b\b\b\b\b\b\b\b\b\b\b\b\b\b\b\b\b\b\b\b\b\b\b\b\b\b\b\b\b\b\b\b\b\b\b\b\b\b\b\b\b\b\b\b\b\b\r4/4 [==============================] - 2s 510ms/step - loss: 0.9653 - val_loss: 2.2870\n",
            "Epoch 146/500\n",
            "1/4 [======>.......................] - ETA: 0s - loss: 1.3361"
          ]
        },
        {
          "output_type": "stream",
          "name": "stderr",
          "text": [
            "\u001b[34m\u001b[1mwandb\u001b[0m: Adding directory to artifact (/content/wandb/run-20221209_131838-2vkev4yv/files/model-best)... Done. 0.0s\n"
          ]
        },
        {
          "output_type": "stream",
          "name": "stdout",
          "text": [
            "\b\b\b\b\b\b\b\b\b\b\b\b\b\b\b\b\b\b\b\b\b\b\b\b\b\b\b\b\b\b\b\b\b\b\b\b\b\b\b\b\b\b\b\b\b\b\b\b\b\b\b\b\b\b\b\b\b\b\b\b\b\r4/4 [==============================] - 2s 621ms/step - loss: 0.9386 - val_loss: 2.0840\n",
            "Epoch 147/500\n",
            "1/4 [======>.......................] - ETA: 0s - loss: 0.9579"
          ]
        },
        {
          "output_type": "stream",
          "name": "stderr",
          "text": [
            "\u001b[34m\u001b[1mwandb\u001b[0m: Adding directory to artifact (/content/wandb/run-20221209_131838-2vkev4yv/files/model-best)... Done. 0.0s\n"
          ]
        },
        {
          "output_type": "stream",
          "name": "stdout",
          "text": [
            "\b\b\b\b\b\b\b\b\b\b\b\b\b\b\b\b\b\b\b\b\b\b\b\b\b\b\b\b\b\b\b\b\b\b\b\b\b\b\b\b\b\b\b\b\b\b\b\b\b\b\b\b\b\b\b\b\b\b\b\b\b\r4/4 [==============================] - 2s 519ms/step - loss: 0.9144 - val_loss: 1.9273\n",
            "Epoch 148/500\n",
            "1/4 [======>.......................] - ETA: 0s - loss: 1.2782"
          ]
        },
        {
          "output_type": "stream",
          "name": "stderr",
          "text": [
            "\u001b[34m\u001b[1mwandb\u001b[0m: Adding directory to artifact (/content/wandb/run-20221209_131838-2vkev4yv/files/model-best)... Done. 0.0s\n"
          ]
        },
        {
          "output_type": "stream",
          "name": "stdout",
          "text": [
            "\b\b\b\b\b\b\b\b\b\b\b\b\b\b\b\b\b\b\b\b\b\b\b\b\b\b\b\b\b\b\b\b\b\b\b\b\b\b\b\b\b\b\b\b\b\b\b\b\b\b\b\b\b\b\b\b\b\b\b\b\b\r4/4 [==============================] - 2s 520ms/step - loss: 0.8839 - val_loss: 1.8721\n",
            "Epoch 149/500\n",
            "4/4 [==============================] - 0s 9ms/step - loss: 0.8627 - val_loss: 1.9465\n",
            "Epoch 150/500\n",
            "4/4 [==============================] - 0s 8ms/step - loss: 0.8330 - val_loss: 1.8846\n",
            "Epoch 151/500\n",
            "1/4 [======>.......................] - ETA: 0s - loss: 0.7870"
          ]
        },
        {
          "output_type": "stream",
          "name": "stderr",
          "text": [
            "\u001b[34m\u001b[1mwandb\u001b[0m: Adding directory to artifact (/content/wandb/run-20221209_131838-2vkev4yv/files/model-best)... Done. 0.0s\n"
          ]
        },
        {
          "output_type": "stream",
          "name": "stdout",
          "text": [
            "\b\b\b\b\b\b\b\b\b\b\b\b\b\b\b\b\b\b\b\b\b\b\b\b\b\b\b\b\b\b\b\b\b\b\b\b\b\b\b\b\b\b\b\b\b\b\b\b\b\b\b\b\b\b\b\b\b\b\b\b\b\r4/4 [==============================] - 2s 519ms/step - loss: 0.8077 - val_loss: 1.8020\n",
            "Epoch 152/500\n",
            "1/4 [======>.......................] - ETA: 0s - loss: 0.7596"
          ]
        },
        {
          "output_type": "stream",
          "name": "stderr",
          "text": [
            "\u001b[34m\u001b[1mwandb\u001b[0m: Adding directory to artifact (/content/wandb/run-20221209_131838-2vkev4yv/files/model-best)... Done. 0.0s\n"
          ]
        },
        {
          "output_type": "stream",
          "name": "stdout",
          "text": [
            "\b\b\b\b\b\b\b\b\b\b\b\b\b\b\b\b\b\b\b\b\b\b\b\b\b\b\b\b\b\b\b\b\b\b\b\b\b\b\b\b\b\b\b\b\b\b\b\b\b\b\b\b\b\b\b\b\b\b\b\b\b\r4/4 [==============================] - 2s 625ms/step - loss: 0.7833 - val_loss: 1.7640\n",
            "Epoch 153/500\n",
            "1/4 [======>.......................] - ETA: 0s - loss: 0.5256"
          ]
        },
        {
          "output_type": "stream",
          "name": "stderr",
          "text": [
            "\u001b[34m\u001b[1mwandb\u001b[0m: Adding directory to artifact (/content/wandb/run-20221209_131838-2vkev4yv/files/model-best)... Done. 0.0s\n"
          ]
        },
        {
          "output_type": "stream",
          "name": "stdout",
          "text": [
            "\b\b\b\b\b\b\b\b\b\b\b\b\b\b\b\b\b\b\b\b\b\b\b\b\b\b\b\b\b\b\b\b\b\b\b\b\b\b\b\b\b\b\b\b\b\b\b\b\b\b\b\b\b\b\b\b\b\b\b\b\b\r4/4 [==============================] - 2s 511ms/step - loss: 0.7625 - val_loss: 1.6357\n",
            "Epoch 154/500\n",
            "1/4 [======>.......................] - ETA: 0s - loss: 0.2117"
          ]
        },
        {
          "output_type": "stream",
          "name": "stderr",
          "text": [
            "\u001b[34m\u001b[1mwandb\u001b[0m: Adding directory to artifact (/content/wandb/run-20221209_131838-2vkev4yv/files/model-best)... Done. 0.0s\n"
          ]
        },
        {
          "output_type": "stream",
          "name": "stdout",
          "text": [
            "\b\b\b\b\b\b\b\b\b\b\b\b\b\b\b\b\b\b\b\b\b\b\b\b\b\b\b\b\b\b\b\b\b\b\b\b\b\b\b\b\b\b\b\b\b\b\b\b\b\b\b\b\b\b\b\b\b\b\b\b\b\r4/4 [==============================] - 2s 529ms/step - loss: 0.7406 - val_loss: 1.5187\n",
            "Epoch 155/500\n",
            "1/4 [======>.......................] - ETA: 0s - loss: 0.3068"
          ]
        },
        {
          "output_type": "stream",
          "name": "stderr",
          "text": [
            "\u001b[34m\u001b[1mwandb\u001b[0m: Adding directory to artifact (/content/wandb/run-20221209_131838-2vkev4yv/files/model-best)... Done. 0.0s\n"
          ]
        },
        {
          "output_type": "stream",
          "name": "stdout",
          "text": [
            "\b\b\b\b\b\b\b\b\b\b\b\b\b\b\b\b\b\b\b\b\b\b\b\b\b\b\b\b\b\b\b\b\b\b\b\b\b\b\b\b\b\b\b\b\b\b\b\b\b\b\b\b\b\b\b\b\b\b\b\b\b\r4/4 [==============================] - 2s 528ms/step - loss: 0.7209 - val_loss: 1.4059\n",
            "Epoch 156/500\n",
            "4/4 [==============================] - 0s 11ms/step - loss: 0.7024 - val_loss: 1.4414\n",
            "Epoch 157/500\n",
            "1/4 [======>.......................] - ETA: 0s - loss: 0.2152"
          ]
        },
        {
          "output_type": "stream",
          "name": "stderr",
          "text": [
            "\u001b[34m\u001b[1mwandb\u001b[0m: Adding directory to artifact (/content/wandb/run-20221209_131838-2vkev4yv/files/model-best)... Done. 0.0s\n"
          ]
        },
        {
          "output_type": "stream",
          "name": "stdout",
          "text": [
            "\b\b\b\b\b\b\b\b\b\b\b\b\b\b\b\b\b\b\b\b\b\b\b\b\b\b\b\b\b\b\b\b\b\b\b\b\b\b\b\b\b\b\b\b\b\b\b\b\b\b\b\b\b\b\b\b\b\b\b\b\b\r4/4 [==============================] - 2s 519ms/step - loss: 0.6742 - val_loss: 1.3762\n",
            "Epoch 158/500\n",
            "1/4 [======>.......................] - ETA: 0s - loss: 0.4465"
          ]
        },
        {
          "output_type": "stream",
          "name": "stderr",
          "text": [
            "\u001b[34m\u001b[1mwandb\u001b[0m: Adding directory to artifact (/content/wandb/run-20221209_131838-2vkev4yv/files/model-best)... Done. 0.0s\n"
          ]
        },
        {
          "output_type": "stream",
          "name": "stdout",
          "text": [
            "\b\b\b\b\b\b\b\b\b\b\b\b\b\b\b\b\b\b\b\b\b\b\b\b\b\b\b\b\b\b\b\b\b\b\b\b\b\b\b\b\b\b\b\b\b\b\b\b\b\b\b\b\b\b\b\b\b\b\b\b\b\r4/4 [==============================] - 2s 640ms/step - loss: 0.6557 - val_loss: 1.2726\n",
            "Epoch 159/500\n",
            "1/4 [======>.......................] - ETA: 0s - loss: 0.7524"
          ]
        },
        {
          "output_type": "stream",
          "name": "stderr",
          "text": [
            "\u001b[34m\u001b[1mwandb\u001b[0m: Adding directory to artifact (/content/wandb/run-20221209_131838-2vkev4yv/files/model-best)... Done. 0.0s\n"
          ]
        },
        {
          "output_type": "stream",
          "name": "stdout",
          "text": [
            "\b\b\b\b\b\b\b\b\b\b\b\b\b\b\b\b\b\b\b\b\b\b\b\b\b\b\b\b\b\b\b\b\b\b\b\b\b\b\b\b\b\b\b\b\b\b\b\b\b\b\b\b\b\b\b\b\b\b\b\b\b\r4/4 [==============================] - 2s 525ms/step - loss: 0.6339 - val_loss: 1.2348\n",
            "Epoch 160/500\n",
            "1/4 [======>.......................] - ETA: 0s - loss: 0.3292"
          ]
        },
        {
          "output_type": "stream",
          "name": "stderr",
          "text": [
            "\u001b[34m\u001b[1mwandb\u001b[0m: Adding directory to artifact (/content/wandb/run-20221209_131838-2vkev4yv/files/model-best)... Done. 0.0s\n"
          ]
        },
        {
          "output_type": "stream",
          "name": "stdout",
          "text": [
            "\b\b\b\b\b\b\b\b\b\b\b\b\b\b\b\b\b\b\b\b\b\b\b\b\b\b\b\b\b\b\b\b\b\b\b\b\b\b\b\b\b\b\b\b\b\b\b\b\b\b\b\b\b\b\b\b\b\b\b\b\b\r4/4 [==============================] - 2s 818ms/step - loss: 0.6138 - val_loss: 1.1858\n",
            "Epoch 161/500\n",
            "1/4 [======>.......................] - ETA: 0s - loss: 0.0730"
          ]
        },
        {
          "output_type": "stream",
          "name": "stderr",
          "text": [
            "\u001b[34m\u001b[1mwandb\u001b[0m: Adding directory to artifact (/content/wandb/run-20221209_131838-2vkev4yv/files/model-best)... Done. 0.0s\n"
          ]
        },
        {
          "output_type": "stream",
          "name": "stdout",
          "text": [
            "\b\b\b\b\b\b\b\b\b\b\b\b\b\b\b\b\b\b\b\b\b\b\b\b\b\b\b\b\b\b\b\b\b\b\b\b\b\b\b\b\b\b\b\b\b\b\b\b\b\b\b\b\b\b\b\b\b\b\b\b\b\r4/4 [==============================] - 3s 890ms/step - loss: 0.5962 - val_loss: 1.1221\n",
            "Epoch 162/500\n",
            "1/4 [======>.......................] - ETA: 0s - loss: 0.7510"
          ]
        },
        {
          "output_type": "stream",
          "name": "stderr",
          "text": [
            "\u001b[34m\u001b[1mwandb\u001b[0m: Adding directory to artifact (/content/wandb/run-20221209_131838-2vkev4yv/files/model-best)... Done. 0.0s\n"
          ]
        },
        {
          "output_type": "stream",
          "name": "stdout",
          "text": [
            "\b\b\b\b\b\b\b\b\b\b\b\b\b\b\b\b\b\b\b\b\b\b\b\b\b\b\b\b\b\b\b\b\b\b\b\b\b\b\b\b\b\b\b\b\b\b\b\b\b\b\b\b\b\b\b\b\b\b\b\b\b\r4/4 [==============================] - 2s 620ms/step - loss: 0.5802 - val_loss: 1.1182\n",
            "Epoch 163/500\n",
            "1/4 [======>.......................] - ETA: 0s - loss: 0.9921"
          ]
        },
        {
          "output_type": "stream",
          "name": "stderr",
          "text": [
            "\u001b[34m\u001b[1mwandb\u001b[0m: Adding directory to artifact (/content/wandb/run-20221209_131838-2vkev4yv/files/model-best)... Done. 0.0s\n"
          ]
        },
        {
          "output_type": "stream",
          "name": "stdout",
          "text": [
            "\b\b\b\b\b\b\b\b\b\b\b\b\b\b\b\b\b\b\b\b\b\b\b\b\b\b\b\b\b\b\b\b\b\b\b\b\b\b\b\b\b\b\b\b\b\b\b\b\b\b\b\b\b\b\b\b\b\b\b\b\b\r4/4 [==============================] - 2s 523ms/step - loss: 0.5641 - val_loss: 1.0082\n",
            "Epoch 164/500\n",
            "1/4 [======>.......................] - ETA: 0s - loss: 0.6892"
          ]
        },
        {
          "output_type": "stream",
          "name": "stderr",
          "text": [
            "\u001b[34m\u001b[1mwandb\u001b[0m: Adding directory to artifact (/content/wandb/run-20221209_131838-2vkev4yv/files/model-best)... Done. 0.0s\n"
          ]
        },
        {
          "output_type": "stream",
          "name": "stdout",
          "text": [
            "\b\b\b\b\b\b\b\b\b\b\b\b\b\b\b\b\b\b\b\b\b\b\b\b\b\b\b\b\b\b\b\b\b\b\b\b\b\b\b\b\b\b\b\b\b\b\b\b\b\b\b\b\b\b\b\b\b\b\b\b\b\r4/4 [==============================] - 2s 517ms/step - loss: 0.5446 - val_loss: 0.9440\n",
            "Epoch 165/500\n",
            "1/4 [======>.......................] - ETA: 0s - loss: 0.1757"
          ]
        },
        {
          "output_type": "stream",
          "name": "stderr",
          "text": [
            "\u001b[34m\u001b[1mwandb\u001b[0m: Adding directory to artifact (/content/wandb/run-20221209_131838-2vkev4yv/files/model-best)... Done. 0.0s\n"
          ]
        },
        {
          "output_type": "stream",
          "name": "stdout",
          "text": [
            "\b\b\b\b\b\b\b\b\b\b\b\b\b\b\b\b\b\b\b\b\b\b\b\b\b\b\b\b\b\b\b\b\b\b\b\b\b\b\b\b\b\b\b\b\b\b\b\b\b\b\b\b\b\b\b\b\b\b\b\b\b\r4/4 [==============================] - 2s 512ms/step - loss: 0.5308 - val_loss: 0.8672\n",
            "Epoch 166/500\n",
            "4/4 [==============================] - 0s 10ms/step - loss: 0.5146 - val_loss: 0.9078\n",
            "Epoch 167/500\n",
            "4/4 [==============================] - 0s 8ms/step - loss: 0.4972 - val_loss: 0.9143\n",
            "Epoch 168/500\n",
            "1/4 [======>.......................] - ETA: 0s - loss: 0.1542"
          ]
        },
        {
          "output_type": "stream",
          "name": "stderr",
          "text": [
            "\u001b[34m\u001b[1mwandb\u001b[0m: Adding directory to artifact (/content/wandb/run-20221209_131838-2vkev4yv/files/model-best)... Done. 0.0s\n"
          ]
        },
        {
          "output_type": "stream",
          "name": "stdout",
          "text": [
            "\b\b\b\b\b\b\b\b\b\b\b\b\b\b\b\b\b\b\b\b\b\b\b\b\b\b\b\b\b\b\b\b\b\b\b\b\b\b\b\b\b\b\b\b\b\b\b\b\b\b\b\b\b\b\b\b\b\b\b\b\b\r4/4 [==============================] - 2s 605ms/step - loss: 0.4824 - val_loss: 0.8435\n",
            "Epoch 169/500\n",
            "1/4 [======>.......................] - ETA: 0s - loss: 0.9534"
          ]
        },
        {
          "output_type": "stream",
          "name": "stderr",
          "text": [
            "\u001b[34m\u001b[1mwandb\u001b[0m: Adding directory to artifact (/content/wandb/run-20221209_131838-2vkev4yv/files/model-best)... Done. 0.0s\n"
          ]
        },
        {
          "output_type": "stream",
          "name": "stdout",
          "text": [
            "\b\b\b\b\b\b\b\b\b\b\b\b\b\b\b\b\b\b\b\b\b\b\b\b\b\b\b\b\b\b\b\b\b\b\b\b\b\b\b\b\b\b\b\b\b\b\b\b\b\b\b\b\b\b\b\b\b\b\b\b\b\r4/4 [==============================] - 2s 517ms/step - loss: 0.4687 - val_loss: 0.7965\n",
            "Epoch 170/500\n",
            "1/4 [======>.......................] - ETA: 0s - loss: 0.0537"
          ]
        },
        {
          "output_type": "stream",
          "name": "stderr",
          "text": [
            "\u001b[34m\u001b[1mwandb\u001b[0m: Adding directory to artifact (/content/wandb/run-20221209_131838-2vkev4yv/files/model-best)... Done. 0.0s\n"
          ]
        },
        {
          "output_type": "stream",
          "name": "stdout",
          "text": [
            "\b\b\b\b\b\b\b\b\b\b\b\b\b\b\b\b\b\b\b\b\b\b\b\b\b\b\b\b\b\b\b\b\b\b\b\b\b\b\b\b\b\b\b\b\b\b\b\b\b\b\b\b\b\b\b\b\b\b\b\b\b\r4/4 [==============================] - 2s 513ms/step - loss: 0.4527 - val_loss: 0.7426\n",
            "Epoch 171/500\n",
            "1/4 [======>.......................] - ETA: 0s - loss: 0.5895"
          ]
        },
        {
          "output_type": "stream",
          "name": "stderr",
          "text": [
            "\u001b[34m\u001b[1mwandb\u001b[0m: Adding directory to artifact (/content/wandb/run-20221209_131838-2vkev4yv/files/model-best)... Done. 0.0s\n"
          ]
        },
        {
          "output_type": "stream",
          "name": "stdout",
          "text": [
            "\b\b\b\b\b\b\b\b\b\b\b\b\b\b\b\b\b\b\b\b\b\b\b\b\b\b\b\b\b\b\b\b\b\b\b\b\b\b\b\b\b\b\b\b\b\b\b\b\b\b\b\b\b\b\b\b\b\b\b\b\b\r4/4 [==============================] - 2s 511ms/step - loss: 0.4415 - val_loss: 0.6633\n",
            "Epoch 172/500\n",
            "1/4 [======>.......................] - ETA: 0s - loss: 0.4544"
          ]
        },
        {
          "output_type": "stream",
          "name": "stderr",
          "text": [
            "\u001b[34m\u001b[1mwandb\u001b[0m: Adding directory to artifact (/content/wandb/run-20221209_131838-2vkev4yv/files/model-best)... Done. 0.0s\n"
          ]
        },
        {
          "output_type": "stream",
          "name": "stdout",
          "text": [
            "\b\b\b\b\b\b\b\b\b\b\b\b\b\b\b\b\b\b\b\b\b\b\b\b\b\b\b\b\b\b\b\b\b\b\b\b\b\b\b\b\b\b\b\b\b\b\b\b\b\b\b\b\b\b\b\b\b\b\b\b\b\r4/4 [==============================] - 2s 512ms/step - loss: 0.4260 - val_loss: 0.6326\n",
            "Epoch 173/500\n",
            "1/4 [======>.......................] - ETA: 0s - loss: 0.1074"
          ]
        },
        {
          "output_type": "stream",
          "name": "stderr",
          "text": [
            "\u001b[34m\u001b[1mwandb\u001b[0m: Adding directory to artifact (/content/wandb/run-20221209_131838-2vkev4yv/files/model-best)... Done. 0.0s\n"
          ]
        },
        {
          "output_type": "stream",
          "name": "stdout",
          "text": [
            "\b\b\b\b\b\b\b\b\b\b\b\b\b\b\b\b\b\b\b\b\b\b\b\b\b\b\b\b\b\b\b\b\b\b\b\b\b\b\b\b\b\b\b\b\b\b\b\b\b\b\b\b\b\b\b\b\b\b\b\b\b\r4/4 [==============================] - 2s 612ms/step - loss: 0.4155 - val_loss: 0.5961\n",
            "Epoch 174/500\n",
            "1/4 [======>.......................] - ETA: 0s - loss: 0.2277"
          ]
        },
        {
          "output_type": "stream",
          "name": "stderr",
          "text": [
            "\u001b[34m\u001b[1mwandb\u001b[0m: Adding directory to artifact (/content/wandb/run-20221209_131838-2vkev4yv/files/model-best)... Done. 0.0s\n"
          ]
        },
        {
          "output_type": "stream",
          "name": "stdout",
          "text": [
            "\b\b\b\b\b\b\b\b\b\b\b\b\b\b\b\b\b\b\b\b\b\b\b\b\b\b\b\b\b\b\b\b\b\b\b\b\b\b\b\b\b\b\b\b\b\b\b\b\b\b\b\b\b\b\b\b\b\b\b\b\b\r4/4 [==============================] - 2s 522ms/step - loss: 0.4014 - val_loss: 0.5775\n",
            "Epoch 175/500\n",
            "4/4 [==============================] - 0s 9ms/step - loss: 0.3903 - val_loss: 0.5874\n",
            "Epoch 176/500\n",
            "4/4 [==============================] - 0s 9ms/step - loss: 0.3835 - val_loss: 0.5906\n",
            "Epoch 177/500\n",
            "1/4 [======>.......................] - ETA: 0s - loss: 0.3437"
          ]
        },
        {
          "output_type": "stream",
          "name": "stderr",
          "text": [
            "\u001b[34m\u001b[1mwandb\u001b[0m: Adding directory to artifact (/content/wandb/run-20221209_131838-2vkev4yv/files/model-best)... Done. 0.0s\n"
          ]
        },
        {
          "output_type": "stream",
          "name": "stdout",
          "text": [
            "\b\b\b\b\b\b\b\b\b\b\b\b\b\b\b\b\b\b\b\b\b\b\b\b\b\b\b\b\b\b\b\b\b\b\b\b\b\b\b\b\b\b\b\b\b\b\b\b\b\b\b\b\b\b\b\b\b\b\b\b\b\r4/4 [==============================] - 2s 517ms/step - loss: 0.3704 - val_loss: 0.5419\n",
            "Epoch 178/500\n",
            "1/4 [======>.......................] - ETA: 0s - loss: 0.5247"
          ]
        },
        {
          "output_type": "stream",
          "name": "stderr",
          "text": [
            "\u001b[34m\u001b[1mwandb\u001b[0m: Adding directory to artifact (/content/wandb/run-20221209_131838-2vkev4yv/files/model-best)... Done. 0.0s\n"
          ]
        },
        {
          "output_type": "stream",
          "name": "stdout",
          "text": [
            "\b\b\b\b\b\b\b\b\b\b\b\b\b\b\b\b\b\b\b\b\b\b\b\b\b\b\b\b\b\b\b\b\b\b\b\b\b\b\b\b\b\b\b\b\b\b\b\b\b\b\b\b\b\b\b\b\b\b\b\b\b\r4/4 [==============================] - 2s 518ms/step - loss: 0.3590 - val_loss: 0.4701\n",
            "Epoch 179/500\n",
            "1/4 [======>.......................] - ETA: 0s - loss: 0.0724"
          ]
        },
        {
          "output_type": "stream",
          "name": "stderr",
          "text": [
            "\u001b[34m\u001b[1mwandb\u001b[0m: Adding directory to artifact (/content/wandb/run-20221209_131838-2vkev4yv/files/model-best)... Done. 0.0s\n"
          ]
        },
        {
          "output_type": "stream",
          "name": "stdout",
          "text": [
            "\b\b\b\b\b\b\b\b\b\b\b\b\b\b\b\b\b\b\b\b\b\b\b\b\b\b\b\b\b\b\b\b\b\b\b\b\b\b\b\b\b\b\b\b\b\b\b\b\b\b\b\b\b\b\b\b\b\b\b\b\b\r4/4 [==============================] - 2s 616ms/step - loss: 0.3486 - val_loss: 0.4317\n",
            "Epoch 180/500\n",
            "1/4 [======>.......................] - ETA: 0s - loss: 0.4998"
          ]
        },
        {
          "output_type": "stream",
          "name": "stderr",
          "text": [
            "\u001b[34m\u001b[1mwandb\u001b[0m: Adding directory to artifact (/content/wandb/run-20221209_131838-2vkev4yv/files/model-best)... Done. 0.0s\n"
          ]
        },
        {
          "output_type": "stream",
          "name": "stdout",
          "text": [
            "\b\b\b\b\b\b\b\b\b\b\b\b\b\b\b\b\b\b\b\b\b\b\b\b\b\b\b\b\b\b\b\b\b\b\b\b\b\b\b\b\b\b\b\b\b\b\b\b\b\b\b\b\b\b\b\b\b\b\b\b\b\r4/4 [==============================] - 2s 524ms/step - loss: 0.3385 - val_loss: 0.4254\n",
            "Epoch 181/500\n",
            "1/4 [======>.......................] - ETA: 0s - loss: 0.8226"
          ]
        },
        {
          "output_type": "stream",
          "name": "stderr",
          "text": [
            "\u001b[34m\u001b[1mwandb\u001b[0m: Adding directory to artifact (/content/wandb/run-20221209_131838-2vkev4yv/files/model-best)... Done. 0.0s\n"
          ]
        },
        {
          "output_type": "stream",
          "name": "stdout",
          "text": [
            "\b\b\b\b\b\b\b\b\b\b\b\b\b\b\b\b\b\b\b\b\b\b\b\b\b\b\b\b\b\b\b\b\b\b\b\b\b\b\b\b\b\b\b\b\b\b\b\b\b\b\b\b\b\b\b\b\b\b\b\b\b\r4/4 [==============================] - 2s 523ms/step - loss: 0.3289 - val_loss: 0.4218\n",
            "Epoch 182/500\n",
            "1/4 [======>.......................] - ETA: 0s - loss: 0.1494"
          ]
        },
        {
          "output_type": "stream",
          "name": "stderr",
          "text": [
            "\u001b[34m\u001b[1mwandb\u001b[0m: Adding directory to artifact (/content/wandb/run-20221209_131838-2vkev4yv/files/model-best)... Done. 0.0s\n"
          ]
        },
        {
          "output_type": "stream",
          "name": "stdout",
          "text": [
            "\b\b\b\b\b\b\b\b\b\b\b\b\b\b\b\b\b\b\b\b\b\b\b\b\b\b\b\b\b\b\b\b\b\b\b\b\b\b\b\b\b\b\b\b\b\b\b\b\b\b\b\b\b\b\b\b\b\b\b\b\b\r4/4 [==============================] - 2s 526ms/step - loss: 0.3197 - val_loss: 0.4078\n",
            "Epoch 183/500\n",
            "1/4 [======>.......................] - ETA: 0s - loss: 0.0843"
          ]
        },
        {
          "output_type": "stream",
          "name": "stderr",
          "text": [
            "\u001b[34m\u001b[1mwandb\u001b[0m: Adding directory to artifact (/content/wandb/run-20221209_131838-2vkev4yv/files/model-best)... Done. 0.0s\n"
          ]
        },
        {
          "output_type": "stream",
          "name": "stdout",
          "text": [
            "\b\b\b\b\b\b\b\b\b\b\b\b\b\b\b\b\b\b\b\b\b\b\b\b\b\b\b\b\b\b\b\b\b\b\b\b\b\b\b\b\b\b\b\b\b\b\b\b\b\b\b\b\b\b\b\b\b\b\b\b\b\r4/4 [==============================] - 2s 615ms/step - loss: 0.3108 - val_loss: 0.3746\n",
            "Epoch 184/500\n",
            "1/4 [======>.......................] - ETA: 0s - loss: 0.4493"
          ]
        },
        {
          "output_type": "stream",
          "name": "stderr",
          "text": [
            "\u001b[34m\u001b[1mwandb\u001b[0m: Adding directory to artifact (/content/wandb/run-20221209_131838-2vkev4yv/files/model-best)... Done. 0.0s\n"
          ]
        },
        {
          "output_type": "stream",
          "name": "stdout",
          "text": [
            "\b\b\b\b\b\b\b\b\b\b\b\b\b\b\b\b\b\b\b\b\b\b\b\b\b\b\b\b\b\b\b\b\b\b\b\b\b\b\b\b\b\b\b\b\b\b\b\b\b\b\b\b\b\b\b\b\b\b\b\b\b\r4/4 [==============================] - 2s 524ms/step - loss: 0.3039 - val_loss: 0.3697\n",
            "Epoch 185/500\n",
            "1/4 [======>.......................] - ETA: 0s - loss: 0.6330"
          ]
        },
        {
          "output_type": "stream",
          "name": "stderr",
          "text": [
            "\u001b[34m\u001b[1mwandb\u001b[0m: Adding directory to artifact (/content/wandb/run-20221209_131838-2vkev4yv/files/model-best)... Done. 0.0s\n"
          ]
        },
        {
          "output_type": "stream",
          "name": "stdout",
          "text": [
            "\b\b\b\b\b\b\b\b\b\b\b\b\b\b\b\b\b\b\b\b\b\b\b\b\b\b\b\b\b\b\b\b\b\b\b\b\b\b\b\b\b\b\b\b\b\b\b\b\b\b\b\b\b\b\b\b\b\b\b\b\b\r4/4 [==============================] - 2s 515ms/step - loss: 0.2972 - val_loss: 0.3655\n",
            "Epoch 186/500\n",
            "1/4 [======>.......................] - ETA: 0s - loss: 0.0893"
          ]
        },
        {
          "output_type": "stream",
          "name": "stderr",
          "text": [
            "\u001b[34m\u001b[1mwandb\u001b[0m: Adding directory to artifact (/content/wandb/run-20221209_131838-2vkev4yv/files/model-best)... Done. 0.0s\n"
          ]
        },
        {
          "output_type": "stream",
          "name": "stdout",
          "text": [
            "\b\b\b\b\b\b\b\b\b\b\b\b\b\b\b\b\b\b\b\b\b\b\b\b\b\b\b\b\b\b\b\b\b\b\b\b\b\b\b\b\b\b\b\b\b\b\b\b\b\b\b\b\b\b\b\b\b\b\b\b\b\r4/4 [==============================] - 2s 500ms/step - loss: 0.2864 - val_loss: 0.3333\n",
            "Epoch 187/500\n",
            "1/4 [======>.......................] - ETA: 0s - loss: 0.5939"
          ]
        },
        {
          "output_type": "stream",
          "name": "stderr",
          "text": [
            "\u001b[34m\u001b[1mwandb\u001b[0m: Adding directory to artifact (/content/wandb/run-20221209_131838-2vkev4yv/files/model-best)... Done. 0.0s\n"
          ]
        },
        {
          "output_type": "stream",
          "name": "stdout",
          "text": [
            "\b\b\b\b\b\b\b\b\b\b\b\b\b\b\b\b\b\b\b\b\b\b\b\b\b\b\b\b\b\b\b\b\b\b\b\b\b\b\b\b\b\b\b\b\b\b\b\b\b\b\b\b\b\b\b\b\b\b\b\b\b\r4/4 [==============================] - 2s 522ms/step - loss: 0.2799 - val_loss: 0.3066\n",
            "Epoch 188/500\n",
            "1/4 [======>.......................] - ETA: 0s - loss: 0.0167"
          ]
        },
        {
          "output_type": "stream",
          "name": "stderr",
          "text": [
            "\u001b[34m\u001b[1mwandb\u001b[0m: Adding directory to artifact (/content/wandb/run-20221209_131838-2vkev4yv/files/model-best)... Done. 0.0s\n"
          ]
        },
        {
          "output_type": "stream",
          "name": "stdout",
          "text": [
            "\b\b\b\b\b\b\b\b\b\b\b\b\b\b\b\b\b\b\b\b\b\b\b\b\b\b\b\b\b\b\b\b\b\b\b\b\b\b\b\b\b\b\b\b\b\b\b\b\b\b\b\b\b\b\b\b\b\b\b\b\b\r4/4 [==============================] - 2s 630ms/step - loss: 0.2715 - val_loss: 0.2885\n",
            "Epoch 189/500\n",
            "1/4 [======>.......................] - ETA: 0s - loss: 0.2220"
          ]
        },
        {
          "output_type": "stream",
          "name": "stderr",
          "text": [
            "\u001b[34m\u001b[1mwandb\u001b[0m: Adding directory to artifact (/content/wandb/run-20221209_131838-2vkev4yv/files/model-best)... Done. 0.0s\n"
          ]
        },
        {
          "output_type": "stream",
          "name": "stdout",
          "text": [
            "\b\b\b\b\b\b\b\b\b\b\b\b\b\b\b\b\b\b\b\b\b\b\b\b\b\b\b\b\b\b\b\b\b\b\b\b\b\b\b\b\b\b\b\b\b\b\b\b\b\b\b\b\b\b\b\b\b\b\b\b\b\r4/4 [==============================] - 2s 516ms/step - loss: 0.2668 - val_loss: 0.2706\n",
            "Epoch 190/500\n",
            "4/4 [==============================] - 0s 11ms/step - loss: 0.2601 - val_loss: 0.2762\n",
            "Epoch 191/500\n",
            "1/4 [======>.......................] - ETA: 0s - loss: 0.3523"
          ]
        },
        {
          "output_type": "stream",
          "name": "stderr",
          "text": [
            "\u001b[34m\u001b[1mwandb\u001b[0m: Adding directory to artifact (/content/wandb/run-20221209_131838-2vkev4yv/files/model-best)... Done. 0.0s\n"
          ]
        },
        {
          "output_type": "stream",
          "name": "stdout",
          "text": [
            "\b\b\b\b\b\b\b\b\b\b\b\b\b\b\b\b\b\b\b\b\b\b\b\b\b\b\b\b\b\b\b\b\b\b\b\b\b\b\b\b\b\b\b\b\b\b\b\b\b\b\b\b\b\b\b\b\b\b\b\b\b\r4/4 [==============================] - 2s 524ms/step - loss: 0.2531 - val_loss: 0.2683\n",
            "Epoch 192/500\n",
            "1/4 [======>.......................] - ETA: 0s - loss: 0.0092"
          ]
        },
        {
          "output_type": "stream",
          "name": "stderr",
          "text": [
            "\u001b[34m\u001b[1mwandb\u001b[0m: Adding directory to artifact (/content/wandb/run-20221209_131838-2vkev4yv/files/model-best)... Done. 0.0s\n"
          ]
        },
        {
          "output_type": "stream",
          "name": "stdout",
          "text": [
            "\b\b\b\b\b\b\b\b\b\b\b\b\b\b\b\b\b\b\b\b\b\b\b\b\b\b\b\b\b\b\b\b\b\b\b\b\b\b\b\b\b\b\b\b\b\b\b\b\b\b\b\b\b\b\b\b\b\b\b\b\b\r4/4 [==============================] - 2s 510ms/step - loss: 0.2468 - val_loss: 0.2475\n",
            "Epoch 193/500\n",
            "1/4 [======>.......................] - ETA: 0s - loss: 0.0130"
          ]
        },
        {
          "output_type": "stream",
          "name": "stderr",
          "text": [
            "\u001b[34m\u001b[1mwandb\u001b[0m: Adding directory to artifact (/content/wandb/run-20221209_131838-2vkev4yv/files/model-best)... Done. 0.0s\n"
          ]
        },
        {
          "output_type": "stream",
          "name": "stdout",
          "text": [
            "\b\b\b\b\b\b\b\b\b\b\b\b\b\b\b\b\b\b\b\b\b\b\b\b\b\b\b\b\b\b\b\b\b\b\b\b\b\b\b\b\b\b\b\b\b\b\b\b\b\b\b\b\b\b\b\b\b\b\b\b\b\r4/4 [==============================] - 2s 615ms/step - loss: 0.2410 - val_loss: 0.2334\n",
            "Epoch 194/500\n",
            "1/4 [======>.......................] - ETA: 0s - loss: 0.0275"
          ]
        },
        {
          "output_type": "stream",
          "name": "stderr",
          "text": [
            "\u001b[34m\u001b[1mwandb\u001b[0m: Adding directory to artifact (/content/wandb/run-20221209_131838-2vkev4yv/files/model-best)... Done. 0.0s\n"
          ]
        },
        {
          "output_type": "stream",
          "name": "stdout",
          "text": [
            "\b\b\b\b\b\b\b\b\b\b\b\b\b\b\b\b\b\b\b\b\b\b\b\b\b\b\b\b\b\b\b\b\b\b\b\b\b\b\b\b\b\b\b\b\b\b\b\b\b\b\b\b\b\b\b\b\b\b\b\b\b\r4/4 [==============================] - 2s 519ms/step - loss: 0.2351 - val_loss: 0.2194\n",
            "Epoch 195/500\n",
            "1/4 [======>.......................] - ETA: 0s - loss: 0.1764"
          ]
        },
        {
          "output_type": "stream",
          "name": "stderr",
          "text": [
            "\u001b[34m\u001b[1mwandb\u001b[0m: Adding directory to artifact (/content/wandb/run-20221209_131838-2vkev4yv/files/model-best)... Done. 0.0s\n"
          ]
        },
        {
          "output_type": "stream",
          "name": "stdout",
          "text": [
            "\b\b\b\b\b\b\b\b\b\b\b\b\b\b\b\b\b\b\b\b\b\b\b\b\b\b\b\b\b\b\b\b\b\b\b\b\b\b\b\b\b\b\b\b\b\b\b\b\b\b\b\b\b\b\b\b\b\b\b\b\b\r4/4 [==============================] - 2s 508ms/step - loss: 0.2308 - val_loss: 0.2180\n",
            "Epoch 196/500\n",
            "1/4 [======>.......................] - ETA: 0s - loss: 0.2036"
          ]
        },
        {
          "output_type": "stream",
          "name": "stderr",
          "text": [
            "\u001b[34m\u001b[1mwandb\u001b[0m: Adding directory to artifact (/content/wandb/run-20221209_131838-2vkev4yv/files/model-best)... Done. 0.0s\n"
          ]
        },
        {
          "output_type": "stream",
          "name": "stdout",
          "text": [
            "\b\b\b\b\b\b\b\b\b\b\b\b\b\b\b\b\b\b\b\b\b\b\b\b\b\b\b\b\b\b\b\b\b\b\b\b\b\b\b\b\b\b\b\b\b\b\b\b\b\b\b\b\b\b\b\b\b\b\b\b\b\r4/4 [==============================] - 2s 537ms/step - loss: 0.2258 - val_loss: 0.2160\n",
            "Epoch 197/500\n",
            "1/4 [======>.......................] - ETA: 0s - loss: 0.0236"
          ]
        },
        {
          "output_type": "stream",
          "name": "stderr",
          "text": [
            "\u001b[34m\u001b[1mwandb\u001b[0m: Adding directory to artifact (/content/wandb/run-20221209_131838-2vkev4yv/files/model-best)... Done. 0.0s\n"
          ]
        },
        {
          "output_type": "stream",
          "name": "stdout",
          "text": [
            "\b\b\b\b\b\b\b\b\b\b\b\b\b\b\b\b\b\b\b\b\b\b\b\b\b\b\b\b\b\b\b\b\b\b\b\b\b\b\b\b\b\b\b\b\b\b\b\b\b\b\b\b\b\b\b\b\b\b\b\b\b\r4/4 [==============================] - 2s 625ms/step - loss: 0.2205 - val_loss: 0.1936\n",
            "Epoch 198/500\n",
            "1/4 [======>.......................] - ETA: 0s - loss: 0.3686"
          ]
        },
        {
          "output_type": "stream",
          "name": "stderr",
          "text": [
            "\u001b[34m\u001b[1mwandb\u001b[0m: Adding directory to artifact (/content/wandb/run-20221209_131838-2vkev4yv/files/model-best)... Done. 0.0s\n"
          ]
        },
        {
          "output_type": "stream",
          "name": "stdout",
          "text": [
            "\b\b\b\b\b\b\b\b\b\b\b\b\b\b\b\b\b\b\b\b\b\b\b\b\b\b\b\b\b\b\b\b\b\b\b\b\b\b\b\b\b\b\b\b\b\b\b\b\b\b\b\b\b\b\b\b\b\b\b\b\b\r4/4 [==============================] - 2s 517ms/step - loss: 0.2169 - val_loss: 0.1931\n",
            "Epoch 199/500\n",
            "1/4 [======>.......................] - ETA: 0s - loss: 0.1386"
          ]
        },
        {
          "output_type": "stream",
          "name": "stderr",
          "text": [
            "\u001b[34m\u001b[1mwandb\u001b[0m: Adding directory to artifact (/content/wandb/run-20221209_131838-2vkev4yv/files/model-best)... Done. 0.0s\n"
          ]
        },
        {
          "output_type": "stream",
          "name": "stdout",
          "text": [
            "\b\b\b\b\b\b\b\b\b\b\b\b\b\b\b\b\b\b\b\b\b\b\b\b\b\b\b\b\b\b\b\b\b\b\b\b\b\b\b\b\b\b\b\b\b\b\b\b\b\b\b\b\b\b\b\b\b\b\b\b\b\r4/4 [==============================] - 2s 525ms/step - loss: 0.2104 - val_loss: 0.1802\n",
            "Epoch 200/500\n",
            "1/4 [======>.......................] - ETA: 0s - loss: 0.3155"
          ]
        },
        {
          "output_type": "stream",
          "name": "stderr",
          "text": [
            "\u001b[34m\u001b[1mwandb\u001b[0m: Adding directory to artifact (/content/wandb/run-20221209_131838-2vkev4yv/files/model-best)... Done. 0.0s\n",
            "\u001b[34m\u001b[1mwandb\u001b[0m: \u001b[33mWARNING\u001b[0m A graphql request initiated by the public wandb API timed out (timeout=9 sec). Create a new API with an integer timeout larger than 9, e.g., `api = wandb.Api(timeout=19)` to increase the graphql timeout.\n"
          ]
        },
        {
          "output_type": "stream",
          "name": "stdout",
          "text": [
            "\b\b\b\b\b\b\b\b\b\b\b\b\b\b\b\b\b\b\b\b\b\b\b\b\b\b\b\b\b\b\b\b\b\b\b\b\b\b\b\b\b\b\b\b\b\b\b\b\b\b\b\b\b\b\b\b\b\b\b\b\b\r4/4 [==============================] - 12s 4s/step - loss: 0.2069 - val_loss: 0.1700\n",
            "Epoch 201/500\n",
            "1/4 [======>.......................] - ETA: 0s - loss: 0.1322"
          ]
        },
        {
          "output_type": "stream",
          "name": "stderr",
          "text": [
            "\u001b[34m\u001b[1mwandb\u001b[0m: Adding directory to artifact (/content/wandb/run-20221209_131838-2vkev4yv/files/model-best)... Done. 0.0s\n"
          ]
        },
        {
          "output_type": "stream",
          "name": "stdout",
          "text": [
            "\b\b\b\b\b\b\b\b\b\b\b\b\b\b\b\b\b\b\b\b\b\b\b\b\b\b\b\b\b\b\b\b\b\b\b\b\b\b\b\b\b\b\b\b\b\b\b\b\b\b\b\b\b\b\b\b\b\b\b\b\b\r4/4 [==============================] - 2s 526ms/step - loss: 0.2024 - val_loss: 0.1682\n",
            "Epoch 202/500\n",
            "1/4 [======>.......................] - ETA: 0s - loss: 0.2934"
          ]
        },
        {
          "output_type": "stream",
          "name": "stderr",
          "text": [
            "\u001b[34m\u001b[1mwandb\u001b[0m: Adding directory to artifact (/content/wandb/run-20221209_131838-2vkev4yv/files/model-best)... Done. 0.0s\n"
          ]
        },
        {
          "output_type": "stream",
          "name": "stdout",
          "text": [
            "\b\b\b\b\b\b\b\b\b\b\b\b\b\b\b\b\b\b\b\b\b\b\b\b\b\b\b\b\b\b\b\b\b\b\b\b\b\b\b\b\b\b\b\b\b\b\b\b\b\b\b\b\b\b\b\b\b\b\b\b\b\r4/4 [==============================] - 2s 602ms/step - loss: 0.1980 - val_loss: 0.1614\n",
            "Epoch 203/500\n",
            "1/4 [======>.......................] - ETA: 0s - loss: 0.0082"
          ]
        },
        {
          "output_type": "stream",
          "name": "stderr",
          "text": [
            "\u001b[34m\u001b[1mwandb\u001b[0m: Adding directory to artifact (/content/wandb/run-20221209_131838-2vkev4yv/files/model-best)... Done. 0.0s\n"
          ]
        },
        {
          "output_type": "stream",
          "name": "stdout",
          "text": [
            "\b\b\b\b\b\b\b\b\b\b\b\b\b\b\b\b\b\b\b\b\b\b\b\b\b\b\b\b\b\b\b\b\b\b\b\b\b\b\b\b\b\b\b\b\b\b\b\b\b\b\b\b\b\b\b\b\b\b\b\b\b\r4/4 [==============================] - 2s 503ms/step - loss: 0.1935 - val_loss: 0.1550\n",
            "Epoch 204/500\n",
            "1/4 [======>.......................] - ETA: 0s - loss: 0.0051"
          ]
        },
        {
          "output_type": "stream",
          "name": "stderr",
          "text": [
            "\u001b[34m\u001b[1mwandb\u001b[0m: Adding directory to artifact (/content/wandb/run-20221209_131838-2vkev4yv/files/model-best)... Done. 0.0s\n"
          ]
        },
        {
          "output_type": "stream",
          "name": "stdout",
          "text": [
            "\b\b\b\b\b\b\b\b\b\b\b\b\b\b\b\b\b\b\b\b\b\b\b\b\b\b\b\b\b\b\b\b\b\b\b\b\b\b\b\b\b\b\b\b\b\b\b\b\b\b\b\b\b\b\b\b\b\b\b\b\b\r4/4 [==============================] - 2s 502ms/step - loss: 0.1905 - val_loss: 0.1477\n",
            "Epoch 205/500\n",
            "1/4 [======>.......................] - ETA: 0s - loss: 0.0420"
          ]
        },
        {
          "output_type": "stream",
          "name": "stderr",
          "text": [
            "\u001b[34m\u001b[1mwandb\u001b[0m: Adding directory to artifact (/content/wandb/run-20221209_131838-2vkev4yv/files/model-best)... Done. 0.0s\n"
          ]
        },
        {
          "output_type": "stream",
          "name": "stdout",
          "text": [
            "\b\b\b\b\b\b\b\b\b\b\b\b\b\b\b\b\b\b\b\b\b\b\b\b\b\b\b\b\b\b\b\b\b\b\b\b\b\b\b\b\b\b\b\b\b\b\b\b\b\b\b\b\b\b\b\b\b\b\b\b\b\r4/4 [==============================] - 2s 522ms/step - loss: 0.1866 - val_loss: 0.1458\n",
            "Epoch 206/500\n",
            "4/4 [==============================] - 0s 10ms/step - loss: 0.1848 - val_loss: 0.1481\n",
            "Epoch 207/500\n",
            "1/4 [======>.......................] - ETA: 0s - loss: 0.0373"
          ]
        },
        {
          "output_type": "stream",
          "name": "stderr",
          "text": [
            "\u001b[34m\u001b[1mwandb\u001b[0m: Adding directory to artifact (/content/wandb/run-20221209_131838-2vkev4yv/files/model-best)... Done. 0.0s\n"
          ]
        },
        {
          "output_type": "stream",
          "name": "stdout",
          "text": [
            "\b\b\b\b\b\b\b\b\b\b\b\b\b\b\b\b\b\b\b\b\b\b\b\b\b\b\b\b\b\b\b\b\b\b\b\b\b\b\b\b\b\b\b\b\b\b\b\b\b\b\b\b\b\b\b\b\b\b\b\b\b\r4/4 [==============================] - 2s 628ms/step - loss: 0.1797 - val_loss: 0.1361\n",
            "Epoch 208/500\n",
            "1/4 [======>.......................] - ETA: 0s - loss: 0.0126"
          ]
        },
        {
          "output_type": "stream",
          "name": "stderr",
          "text": [
            "\u001b[34m\u001b[1mwandb\u001b[0m: Adding directory to artifact (/content/wandb/run-20221209_131838-2vkev4yv/files/model-best)... Done. 0.0s\n"
          ]
        },
        {
          "output_type": "stream",
          "name": "stdout",
          "text": [
            "\b\b\b\b\b\b\b\b\b\b\b\b\b\b\b\b\b\b\b\b\b\b\b\b\b\b\b\b\b\b\b\b\b\b\b\b\b\b\b\b\b\b\b\b\b\b\b\b\b\b\b\b\b\b\b\b\b\b\b\b\b\r4/4 [==============================] - 2s 540ms/step - loss: 0.1766 - val_loss: 0.1280\n",
            "Epoch 209/500\n",
            "1/4 [======>.......................] - ETA: 0s - loss: 0.0097"
          ]
        },
        {
          "output_type": "stream",
          "name": "stderr",
          "text": [
            "\u001b[34m\u001b[1mwandb\u001b[0m: Adding directory to artifact (/content/wandb/run-20221209_131838-2vkev4yv/files/model-best)... Done. 0.0s\n"
          ]
        },
        {
          "output_type": "stream",
          "name": "stdout",
          "text": [
            "\b\b\b\b\b\b\b\b\b\b\b\b\b\b\b\b\b\b\b\b\b\b\b\b\b\b\b\b\b\b\b\b\b\b\b\b\b\b\b\b\b\b\b\b\b\b\b\b\b\b\b\b\b\b\b\b\b\b\b\b\b\r4/4 [==============================] - 2s 528ms/step - loss: 0.1735 - val_loss: 0.1234\n",
            "Epoch 210/500\n",
            "1/4 [======>.......................] - ETA: 0s - loss: 0.1058"
          ]
        },
        {
          "output_type": "stream",
          "name": "stderr",
          "text": [
            "\u001b[34m\u001b[1mwandb\u001b[0m: Adding directory to artifact (/content/wandb/run-20221209_131838-2vkev4yv/files/model-best)... Done. 0.0s\n"
          ]
        },
        {
          "output_type": "stream",
          "name": "stdout",
          "text": [
            "\b\b\b\b\b\b\b\b\b\b\b\b\b\b\b\b\b\b\b\b\b\b\b\b\b\b\b\b\b\b\b\b\b\b\b\b\b\b\b\b\b\b\b\b\b\b\b\b\b\b\b\b\b\b\b\b\b\b\b\b\b\r4/4 [==============================] - 2s 524ms/step - loss: 0.1713 - val_loss: 0.1221\n",
            "Epoch 211/500\n",
            "1/4 [======>.......................] - ETA: 0s - loss: 0.2940"
          ]
        },
        {
          "output_type": "stream",
          "name": "stderr",
          "text": [
            "\u001b[34m\u001b[1mwandb\u001b[0m: Adding directory to artifact (/content/wandb/run-20221209_131838-2vkev4yv/files/model-best)... Done. 0.0s\n"
          ]
        },
        {
          "output_type": "stream",
          "name": "stdout",
          "text": [
            "\b\b\b\b\b\b\b\b\b\b\b\b\b\b\b\b\b\b\b\b\b\b\b\b\b\b\b\b\b\b\b\b\b\b\b\b\b\b\b\b\b\b\b\b\b\b\b\b\b\b\b\b\b\b\b\b\b\b\b\b\b\r4/4 [==============================] - 2s 635ms/step - loss: 0.1676 - val_loss: 0.1207\n",
            "Epoch 212/500\n",
            "1/4 [======>.......................] - ETA: 0s - loss: 0.1111"
          ]
        },
        {
          "output_type": "stream",
          "name": "stderr",
          "text": [
            "\u001b[34m\u001b[1mwandb\u001b[0m: Adding directory to artifact (/content/wandb/run-20221209_131838-2vkev4yv/files/model-best)... Done. 0.0s\n"
          ]
        },
        {
          "output_type": "stream",
          "name": "stdout",
          "text": [
            "\b\b\b\b\b\b\b\b\b\b\b\b\b\b\b\b\b\b\b\b\b\b\b\b\b\b\b\b\b\b\b\b\b\b\b\b\b\b\b\b\b\b\b\b\b\b\b\b\b\b\b\b\b\b\b\b\b\b\b\b\b\r4/4 [==============================] - 2s 524ms/step - loss: 0.1655 - val_loss: 0.1204\n",
            "Epoch 213/500\n",
            "1/4 [======>.......................] - ETA: 0s - loss: 0.2395"
          ]
        },
        {
          "output_type": "stream",
          "name": "stderr",
          "text": [
            "\u001b[34m\u001b[1mwandb\u001b[0m: Adding directory to artifact (/content/wandb/run-20221209_131838-2vkev4yv/files/model-best)... Done. 0.0s\n"
          ]
        },
        {
          "output_type": "stream",
          "name": "stdout",
          "text": [
            "\b\b\b\b\b\b\b\b\b\b\b\b\b\b\b\b\b\b\b\b\b\b\b\b\b\b\b\b\b\b\b\b\b\b\b\b\b\b\b\b\b\b\b\b\b\b\b\b\b\b\b\b\b\b\b\b\b\b\b\b\b\r4/4 [==============================] - 2s 527ms/step - loss: 0.1627 - val_loss: 0.1149\n",
            "Epoch 214/500\n",
            "1/4 [======>.......................] - ETA: 0s - loss: 0.0116"
          ]
        },
        {
          "output_type": "stream",
          "name": "stderr",
          "text": [
            "\u001b[34m\u001b[1mwandb\u001b[0m: Adding directory to artifact (/content/wandb/run-20221209_131838-2vkev4yv/files/model-best)... Done. 0.0s\n"
          ]
        },
        {
          "output_type": "stream",
          "name": "stdout",
          "text": [
            "\b\b\b\b\b\b\b\b\b\b\b\b\b\b\b\b\b\b\b\b\b\b\b\b\b\b\b\b\b\b\b\b\b\b\b\b\b\b\b\b\b\b\b\b\b\b\b\b\b\b\b\b\b\b\b\b\b\b\b\b\b\r4/4 [==============================] - 1s 494ms/step - loss: 0.1593 - val_loss: 0.1040\n",
            "Epoch 215/500\n",
            "1/4 [======>.......................] - ETA: 0s - loss: 0.2304"
          ]
        },
        {
          "output_type": "stream",
          "name": "stderr",
          "text": [
            "\u001b[34m\u001b[1mwandb\u001b[0m: Adding directory to artifact (/content/wandb/run-20221209_131838-2vkev4yv/files/model-best)... Done. 0.0s\n"
          ]
        },
        {
          "output_type": "stream",
          "name": "stdout",
          "text": [
            "\b\b\b\b\b\b\b\b\b\b\b\b\b\b\b\b\b\b\b\b\b\b\b\b\b\b\b\b\b\b\b\b\b\b\b\b\b\b\b\b\b\b\b\b\b\b\b\b\b\b\b\b\b\b\b\b\b\b\b\b\b\r4/4 [==============================] - 2s 595ms/step - loss: 0.1572 - val_loss: 0.1007\n",
            "Epoch 216/500\n",
            "1/4 [======>.......................] - ETA: 0s - loss: 0.0083"
          ]
        },
        {
          "output_type": "stream",
          "name": "stderr",
          "text": [
            "\u001b[34m\u001b[1mwandb\u001b[0m: Adding directory to artifact (/content/wandb/run-20221209_131838-2vkev4yv/files/model-best)... Done. 0.0s\n"
          ]
        },
        {
          "output_type": "stream",
          "name": "stdout",
          "text": [
            "\b\b\b\b\b\b\b\b\b\b\b\b\b\b\b\b\b\b\b\b\b\b\b\b\b\b\b\b\b\b\b\b\b\b\b\b\b\b\b\b\b\b\b\b\b\b\b\b\b\b\b\b\b\b\b\b\b\b\b\b\b\r4/4 [==============================] - 1s 496ms/step - loss: 0.1547 - val_loss: 0.0994\n",
            "Epoch 217/500\n",
            "1/4 [======>.......................] - ETA: 0s - loss: 0.0092"
          ]
        },
        {
          "output_type": "stream",
          "name": "stderr",
          "text": [
            "\u001b[34m\u001b[1mwandb\u001b[0m: Adding directory to artifact (/content/wandb/run-20221209_131838-2vkev4yv/files/model-best)... Done. 0.0s\n"
          ]
        },
        {
          "output_type": "stream",
          "name": "stdout",
          "text": [
            "\b\b\b\b\b\b\b\b\b\b\b\b\b\b\b\b\b\b\b\b\b\b\b\b\b\b\b\b\b\b\b\b\b\b\b\b\b\b\b\b\b\b\b\b\b\b\b\b\b\b\b\b\b\b\b\b\b\b\b\b\b\r4/4 [==============================] - 2s 506ms/step - loss: 0.1519 - val_loss: 0.0965\n",
            "Epoch 218/500\n",
            "4/4 [==============================] - 0s 9ms/step - loss: 0.1502 - val_loss: 0.0973\n",
            "Epoch 219/500\n",
            "4/4 [==============================] - 0s 9ms/step - loss: 0.1479 - val_loss: 0.0979\n",
            "Epoch 220/500\n",
            "1/4 [======>.......................] - ETA: 0s - loss: 0.0139"
          ]
        },
        {
          "output_type": "stream",
          "name": "stderr",
          "text": [
            "\u001b[34m\u001b[1mwandb\u001b[0m: Adding directory to artifact (/content/wandb/run-20221209_131838-2vkev4yv/files/model-best)... Done. 0.0s\n"
          ]
        },
        {
          "output_type": "stream",
          "name": "stdout",
          "text": [
            "\b\b\b\b\b\b\b\b\b\b\b\b\b\b\b\b\b\b\b\b\b\b\b\b\b\b\b\b\b\b\b\b\b\b\b\b\b\b\b\b\b\b\b\b\b\b\b\b\b\b\b\b\b\b\b\b\b\b\b\b\b\r4/4 [==============================] - 1s 490ms/step - loss: 0.1454 - val_loss: 0.0951\n",
            "Epoch 221/500\n",
            "1/4 [======>.......................] - ETA: 0s - loss: 0.0099"
          ]
        },
        {
          "output_type": "stream",
          "name": "stderr",
          "text": [
            "\u001b[34m\u001b[1mwandb\u001b[0m: Adding directory to artifact (/content/wandb/run-20221209_131838-2vkev4yv/files/model-best)... Done. 0.0s\n"
          ]
        },
        {
          "output_type": "stream",
          "name": "stdout",
          "text": [
            "\b\b\b\b\b\b\b\b\b\b\b\b\b\b\b\b\b\b\b\b\b\b\b\b\b\b\b\b\b\b\b\b\b\b\b\b\b\b\b\b\b\b\b\b\b\b\b\b\b\b\b\b\b\b\b\b\b\b\b\b\b\r4/4 [==============================] - 2s 506ms/step - loss: 0.1435 - val_loss: 0.0928\n",
            "Epoch 222/500\n",
            "1/4 [======>.......................] - ETA: 0s - loss: 0.0210"
          ]
        },
        {
          "output_type": "stream",
          "name": "stderr",
          "text": [
            "\u001b[34m\u001b[1mwandb\u001b[0m: Adding directory to artifact (/content/wandb/run-20221209_131838-2vkev4yv/files/model-best)... Done. 0.0s\n"
          ]
        },
        {
          "output_type": "stream",
          "name": "stdout",
          "text": [
            "\b\b\b\b\b\b\b\b\b\b\b\b\b\b\b\b\b\b\b\b\b\b\b\b\b\b\b\b\b\b\b\b\b\b\b\b\b\b\b\b\b\b\b\b\b\b\b\b\b\b\b\b\b\b\b\b\b\b\b\b\b\r4/4 [==============================] - 2s 622ms/step - loss: 0.1415 - val_loss: 0.0907\n",
            "Epoch 223/500\n",
            "1/4 [======>.......................] - ETA: 0s - loss: 0.0746"
          ]
        },
        {
          "output_type": "stream",
          "name": "stderr",
          "text": [
            "\u001b[34m\u001b[1mwandb\u001b[0m: Adding directory to artifact (/content/wandb/run-20221209_131838-2vkev4yv/files/model-best)... Done. 0.0s\n"
          ]
        },
        {
          "output_type": "stream",
          "name": "stdout",
          "text": [
            "\b\b\b\b\b\b\b\b\b\b\b\b\b\b\b\b\b\b\b\b\b\b\b\b\b\b\b\b\b\b\b\b\b\b\b\b\b\b\b\b\b\b\b\b\b\b\b\b\b\b\b\b\b\b\b\b\b\b\b\b\b\r4/4 [==============================] - 2s 520ms/step - loss: 0.1395 - val_loss: 0.0890\n",
            "Epoch 224/500\n",
            "1/4 [======>.......................] - ETA: 0s - loss: 0.0074"
          ]
        },
        {
          "output_type": "stream",
          "name": "stderr",
          "text": [
            "\u001b[34m\u001b[1mwandb\u001b[0m: Adding directory to artifact (/content/wandb/run-20221209_131838-2vkev4yv/files/model-best)... Done. 0.0s\n"
          ]
        },
        {
          "output_type": "stream",
          "name": "stdout",
          "text": [
            "\b\b\b\b\b\b\b\b\b\b\b\b\b\b\b\b\b\b\b\b\b\b\b\b\b\b\b\b\b\b\b\b\b\b\b\b\b\b\b\b\b\b\b\b\b\b\b\b\b\b\b\b\b\b\b\b\b\b\b\b\b\r4/4 [==============================] - 2s 527ms/step - loss: 0.1375 - val_loss: 0.0871\n",
            "Epoch 225/500\n",
            "1/4 [======>.......................] - ETA: 0s - loss: 0.0133"
          ]
        },
        {
          "output_type": "stream",
          "name": "stderr",
          "text": [
            "\u001b[34m\u001b[1mwandb\u001b[0m: Adding directory to artifact (/content/wandb/run-20221209_131838-2vkev4yv/files/model-best)... Done. 0.0s\n"
          ]
        },
        {
          "output_type": "stream",
          "name": "stdout",
          "text": [
            "\b\b\b\b\b\b\b\b\b\b\b\b\b\b\b\b\b\b\b\b\b\b\b\b\b\b\b\b\b\b\b\b\b\b\b\b\b\b\b\b\b\b\b\b\b\b\b\b\b\b\b\b\b\b\b\b\b\b\b\b\b\r4/4 [==============================] - 2s 515ms/step - loss: 0.1357 - val_loss: 0.0847\n",
            "Epoch 226/500\n",
            "1/4 [======>.......................] - ETA: 0s - loss: 0.1935"
          ]
        },
        {
          "output_type": "stream",
          "name": "stderr",
          "text": [
            "\u001b[34m\u001b[1mwandb\u001b[0m: Adding directory to artifact (/content/wandb/run-20221209_131838-2vkev4yv/files/model-best)... Done. 0.0s\n"
          ]
        },
        {
          "output_type": "stream",
          "name": "stdout",
          "text": [
            "\b\b\b\b\b\b\b\b\b\b\b\b\b\b\b\b\b\b\b\b\b\b\b\b\b\b\b\b\b\b\b\b\b\b\b\b\b\b\b\b\b\b\b\b\b\b\b\b\b\b\b\b\b\b\b\b\b\b\b\b\b\r4/4 [==============================] - 2s 607ms/step - loss: 0.1340 - val_loss: 0.0833\n",
            "Epoch 227/500\n",
            "1/4 [======>.......................] - ETA: 0s - loss: 0.0115"
          ]
        },
        {
          "output_type": "stream",
          "name": "stderr",
          "text": [
            "\u001b[34m\u001b[1mwandb\u001b[0m: Adding directory to artifact (/content/wandb/run-20221209_131838-2vkev4yv/files/model-best)... Done. 0.0s\n"
          ]
        },
        {
          "output_type": "stream",
          "name": "stdout",
          "text": [
            "\b\b\b\b\b\b\b\b\b\b\b\b\b\b\b\b\b\b\b\b\b\b\b\b\b\b\b\b\b\b\b\b\b\b\b\b\b\b\b\b\b\b\b\b\b\b\b\b\b\b\b\b\b\b\b\b\b\b\b\b\b\r4/4 [==============================] - 2s 507ms/step - loss: 0.1319 - val_loss: 0.0831\n",
            "Epoch 228/500\n",
            "1/4 [======>.......................] - ETA: 0s - loss: 0.0081"
          ]
        },
        {
          "output_type": "stream",
          "name": "stderr",
          "text": [
            "\u001b[34m\u001b[1mwandb\u001b[0m: Adding directory to artifact (/content/wandb/run-20221209_131838-2vkev4yv/files/model-best)... Done. 0.0s\n"
          ]
        },
        {
          "output_type": "stream",
          "name": "stdout",
          "text": [
            "\b\b\b\b\b\b\b\b\b\b\b\b\b\b\b\b\b\b\b\b\b\b\b\b\b\b\b\b\b\b\b\b\b\b\b\b\b\b\b\b\b\b\b\b\b\b\b\b\b\b\b\b\b\b\b\b\b\b\b\b\b\r4/4 [==============================] - 2s 505ms/step - loss: 0.1303 - val_loss: 0.0827\n",
            "Epoch 229/500\n",
            "1/4 [======>.......................] - ETA: 0s - loss: 0.0610"
          ]
        },
        {
          "output_type": "stream",
          "name": "stderr",
          "text": [
            "\u001b[34m\u001b[1mwandb\u001b[0m: Adding directory to artifact (/content/wandb/run-20221209_131838-2vkev4yv/files/model-best)... Done. 0.0s\n"
          ]
        },
        {
          "output_type": "stream",
          "name": "stdout",
          "text": [
            "\b\b\b\b\b\b\b\b\b\b\b\b\b\b\b\b\b\b\b\b\b\b\b\b\b\b\b\b\b\b\b\b\b\b\b\b\b\b\b\b\b\b\b\b\b\b\b\b\b\b\b\b\b\b\b\b\b\b\b\b\b\r4/4 [==============================] - 2s 529ms/step - loss: 0.1287 - val_loss: 0.0815\n",
            "Epoch 230/500\n",
            "4/4 [==============================] - 0s 10ms/step - loss: 0.1277 - val_loss: 0.0843\n",
            "Epoch 231/500\n",
            "4/4 [==============================] - 0s 9ms/step - loss: 0.1255 - val_loss: 0.0827\n",
            "Epoch 232/500\n",
            "1/4 [======>.......................] - ETA: 0s - loss: 0.0140"
          ]
        },
        {
          "output_type": "stream",
          "name": "stderr",
          "text": [
            "\u001b[34m\u001b[1mwandb\u001b[0m: Adding directory to artifact (/content/wandb/run-20221209_131838-2vkev4yv/files/model-best)... Done. 0.0s\n"
          ]
        },
        {
          "output_type": "stream",
          "name": "stdout",
          "text": [
            "\b\b\b\b\b\b\b\b\b\b\b\b\b\b\b\b\b\b\b\b\b\b\b\b\b\b\b\b\b\b\b\b\b\b\b\b\b\b\b\b\b\b\b\b\b\b\b\b\b\b\b\b\b\b\b\b\b\b\b\b\b\r4/4 [==============================] - 2s 619ms/step - loss: 0.1242 - val_loss: 0.0780\n",
            "Epoch 233/500\n",
            "4/4 [==============================] - 0s 12ms/step - loss: 0.1225 - val_loss: 0.0786\n",
            "Epoch 234/500\n",
            "4/4 [==============================] - 0s 9ms/step - loss: 0.1209 - val_loss: 0.0781\n",
            "Epoch 235/500\n",
            "4/4 [==============================] - 0s 13ms/step - loss: 0.1195 - val_loss: 0.0792\n",
            "Epoch 236/500\n",
            "4/4 [==============================] - 0s 9ms/step - loss: 0.1184 - val_loss: 0.0793\n",
            "Epoch 237/500\n",
            "4/4 [==============================] - 0s 9ms/step - loss: 0.1168 - val_loss: 0.0805\n",
            "Epoch 238/500\n",
            "4/4 [==============================] - 0s 9ms/step - loss: 0.1157 - val_loss: 0.0799\n",
            "Epoch 239/500\n",
            "4/4 [==============================] - 0s 9ms/step - loss: 0.1140 - val_loss: 0.0790\n",
            "Epoch 240/500\n",
            "4/4 [==============================] - 0s 9ms/step - loss: 0.1131 - val_loss: 0.0785\n",
            "Epoch 241/500\n",
            "4/4 [==============================] - 0s 11ms/step - loss: 0.1117 - val_loss: 0.0805\n",
            "Epoch 242/500\n",
            "4/4 [==============================] - 0s 17ms/step - loss: 0.1105 - val_loss: 0.0837\n",
            "Epoch 243/500\n",
            "4/4 [==============================] - 0s 9ms/step - loss: 0.1090 - val_loss: 0.0829\n",
            "Epoch 244/500\n",
            "4/4 [==============================] - 0s 9ms/step - loss: 0.1080 - val_loss: 0.0830\n",
            "Epoch 245/500\n",
            "4/4 [==============================] - 0s 9ms/step - loss: 0.1067 - val_loss: 0.0837\n",
            "Epoch 246/500\n",
            "4/4 [==============================] - 0s 9ms/step - loss: 0.1055 - val_loss: 0.0853\n",
            "Epoch 247/500\n",
            "4/4 [==============================] - 0s 14ms/step - loss: 0.1044 - val_loss: 0.0882\n",
            "Epoch 248/500\n",
            "4/4 [==============================] - 0s 12ms/step - loss: 0.1038 - val_loss: 0.0884\n",
            "Epoch 249/500\n",
            "4/4 [==============================] - 0s 9ms/step - loss: 0.1027 - val_loss: 0.0901\n",
            "Epoch 250/500\n",
            "4/4 [==============================] - 0s 10ms/step - loss: 0.1011 - val_loss: 0.0905\n",
            "Epoch 251/500\n",
            "4/4 [==============================] - 0s 9ms/step - loss: 0.1003 - val_loss: 0.0935\n",
            "Epoch 252/500\n",
            "4/4 [==============================] - 0s 9ms/step - loss: 0.0995 - val_loss: 0.0925\n",
            "Epoch 253/500\n",
            "4/4 [==============================] - 0s 9ms/step - loss: 0.0982 - val_loss: 0.0937\n",
            "Epoch 254/500\n",
            "4/4 [==============================] - 0s 9ms/step - loss: 0.0977 - val_loss: 0.0965\n",
            "Epoch 255/500\n",
            "4/4 [==============================] - 0s 8ms/step - loss: 0.0965 - val_loss: 0.1022\n",
            "Epoch 256/500\n",
            "4/4 [==============================] - 0s 9ms/step - loss: 0.0954 - val_loss: 0.1018\n",
            "Epoch 257/500\n",
            "4/4 [==============================] - 0s 11ms/step - loss: 0.0947 - val_loss: 0.1028\n",
            "Epoch 258/500\n",
            "4/4 [==============================] - 0s 9ms/step - loss: 0.0942 - val_loss: 0.1107\n",
            "Epoch 259/500\n",
            "4/4 [==============================] - 0s 11ms/step - loss: 0.0931 - val_loss: 0.1094\n",
            "Epoch 260/500\n",
            "4/4 [==============================] - 0s 10ms/step - loss: 0.0919 - val_loss: 0.1118\n",
            "Epoch 261/500\n",
            "4/4 [==============================] - 0s 9ms/step - loss: 0.0916 - val_loss: 0.1172\n",
            "Epoch 262/500\n",
            "4/4 [==============================] - 0s 9ms/step - loss: 0.0905 - val_loss: 0.1118\n",
            "Epoch 263/500\n",
            "4/4 [==============================] - 0s 12ms/step - loss: 0.0896 - val_loss: 0.1159\n",
            "Epoch 264/500\n",
            "4/4 [==============================] - 0s 9ms/step - loss: 0.0888 - val_loss: 0.1204\n",
            "Epoch 265/500\n",
            "4/4 [==============================] - 0s 10ms/step - loss: 0.0880 - val_loss: 0.1216\n",
            "Epoch 266/500\n",
            "4/4 [==============================] - 0s 9ms/step - loss: 0.0869 - val_loss: 0.1284\n",
            "Epoch 267/500\n",
            "4/4 [==============================] - 0s 9ms/step - loss: 0.0867 - val_loss: 0.1375\n",
            "Epoch 268/500\n",
            "4/4 [==============================] - 0s 10ms/step - loss: 0.0858 - val_loss: 0.1373\n",
            "Epoch 269/500\n",
            "4/4 [==============================] - 0s 9ms/step - loss: 0.0850 - val_loss: 0.1346\n",
            "Epoch 270/500\n",
            "4/4 [==============================] - 0s 10ms/step - loss: 0.0844 - val_loss: 0.1346\n",
            "Epoch 271/500\n",
            "4/4 [==============================] - 0s 11ms/step - loss: 0.0835 - val_loss: 0.1401\n",
            "Epoch 272/500\n",
            "4/4 [==============================] - 0s 9ms/step - loss: 0.0829 - val_loss: 0.1459\n",
            "Epoch 273/500\n",
            "4/4 [==============================] - 0s 9ms/step - loss: 0.0822 - val_loss: 0.1521\n",
            "Epoch 274/500\n",
            "4/4 [==============================] - 0s 10ms/step - loss: 0.0813 - val_loss: 0.1532\n",
            "Epoch 275/500\n",
            "4/4 [==============================] - 0s 16ms/step - loss: 0.0810 - val_loss: 0.1564\n",
            "Epoch 276/500\n",
            "4/4 [==============================] - 0s 10ms/step - loss: 0.0803 - val_loss: 0.1558\n",
            "Epoch 277/500\n",
            "4/4 [==============================] - 0s 9ms/step - loss: 0.0796 - val_loss: 0.1609\n",
            "Epoch 278/500\n",
            "4/4 [==============================] - 0s 9ms/step - loss: 0.0790 - val_loss: 0.1625\n",
            "Epoch 279/500\n",
            "4/4 [==============================] - 0s 9ms/step - loss: 0.0785 - val_loss: 0.1617\n",
            "Epoch 280/500\n",
            "4/4 [==============================] - 0s 11ms/step - loss: 0.0783 - val_loss: 0.1601\n",
            "Epoch 281/500\n",
            "4/4 [==============================] - 0s 9ms/step - loss: 0.0772 - val_loss: 0.1690\n",
            "Epoch 282/500\n",
            "4/4 [==============================] - 0s 11ms/step - loss: 0.0770 - val_loss: 0.1811\n",
            "Epoch 283/500\n",
            "4/4 [==============================] - 0s 10ms/step - loss: 0.0763 - val_loss: 0.1865\n",
            "Epoch 284/500\n",
            "4/4 [==============================] - 0s 8ms/step - loss: 0.0756 - val_loss: 0.1871\n",
            "Epoch 285/500\n",
            "4/4 [==============================] - 0s 9ms/step - loss: 0.0751 - val_loss: 0.1870\n",
            "Epoch 286/500\n",
            "4/4 [==============================] - 0s 9ms/step - loss: 0.0744 - val_loss: 0.1885\n",
            "Epoch 287/500\n",
            "4/4 [==============================] - 0s 9ms/step - loss: 0.0745 - val_loss: 0.1923\n",
            "Epoch 288/500\n",
            "4/4 [==============================] - 0s 13ms/step - loss: 0.0734 - val_loss: 0.1922\n",
            "Epoch 289/500\n",
            "4/4 [==============================] - 0s 10ms/step - loss: 0.0733 - val_loss: 0.1986\n",
            "Epoch 290/500\n",
            "4/4 [==============================] - 0s 9ms/step - loss: 0.0725 - val_loss: 0.2017\n",
            "Epoch 291/500\n",
            "4/4 [==============================] - 0s 9ms/step - loss: 0.0722 - val_loss: 0.2022\n",
            "Epoch 292/500\n",
            "4/4 [==============================] - 0s 9ms/step - loss: 0.0717 - val_loss: 0.2071\n",
            "Epoch 293/500\n",
            "4/4 [==============================] - 0s 9ms/step - loss: 0.0713 - val_loss: 0.2059\n",
            "Epoch 294/500\n",
            "4/4 [==============================] - 0s 13ms/step - loss: 0.0707 - val_loss: 0.2097\n",
            "Epoch 295/500\n",
            "4/4 [==============================] - 0s 11ms/step - loss: 0.0705 - val_loss: 0.2141\n",
            "Epoch 296/500\n",
            "4/4 [==============================] - 0s 9ms/step - loss: 0.0698 - val_loss: 0.2240\n",
            "Epoch 297/500\n",
            "4/4 [==============================] - 0s 13ms/step - loss: 0.0693 - val_loss: 0.2303\n",
            "Epoch 298/500\n",
            "4/4 [==============================] - 0s 9ms/step - loss: 0.0691 - val_loss: 0.2315\n",
            "Epoch 299/500\n",
            "4/4 [==============================] - 0s 9ms/step - loss: 0.0686 - val_loss: 0.2348\n",
            "Epoch 300/500\n",
            "4/4 [==============================] - 0s 9ms/step - loss: 0.0685 - val_loss: 0.2302\n",
            "Epoch 301/500\n",
            "4/4 [==============================] - 0s 9ms/step - loss: 0.0683 - val_loss: 0.2411\n",
            "Epoch 302/500\n",
            "4/4 [==============================] - 0s 11ms/step - loss: 0.0675 - val_loss: 0.2441\n",
            "Epoch 303/500\n",
            "4/4 [==============================] - 0s 9ms/step - loss: 0.0671 - val_loss: 0.2395\n",
            "Epoch 304/500\n",
            "4/4 [==============================] - 0s 9ms/step - loss: 0.0667 - val_loss: 0.2371\n",
            "Epoch 305/500\n",
            "4/4 [==============================] - 0s 10ms/step - loss: 0.0664 - val_loss: 0.2421\n",
            "Epoch 306/500\n",
            "4/4 [==============================] - 0s 9ms/step - loss: 0.0662 - val_loss: 0.2544\n",
            "Epoch 307/500\n",
            "4/4 [==============================] - 0s 10ms/step - loss: 0.0658 - val_loss: 0.2583\n",
            "Epoch 308/500\n",
            "4/4 [==============================] - 0s 9ms/step - loss: 0.0655 - val_loss: 0.2526\n",
            "Epoch 309/500\n",
            "4/4 [==============================] - 0s 13ms/step - loss: 0.0652 - val_loss: 0.2603\n",
            "Epoch 310/500\n",
            "4/4 [==============================] - 0s 10ms/step - loss: 0.0645 - val_loss: 0.2633\n",
            "Epoch 311/500\n",
            "4/4 [==============================] - 0s 9ms/step - loss: 0.0643 - val_loss: 0.2595\n",
            "Epoch 312/500\n",
            "4/4 [==============================] - 0s 9ms/step - loss: 0.0640 - val_loss: 0.2627\n",
            "Epoch 313/500\n",
            "4/4 [==============================] - 0s 9ms/step - loss: 0.0637 - val_loss: 0.2722\n",
            "Epoch 314/500\n",
            "4/4 [==============================] - 0s 10ms/step - loss: 0.0634 - val_loss: 0.2818\n",
            "Epoch 315/500\n",
            "4/4 [==============================] - 0s 11ms/step - loss: 0.0630 - val_loss: 0.2768\n",
            "Epoch 316/500\n",
            "4/4 [==============================] - 0s 9ms/step - loss: 0.0628 - val_loss: 0.2818\n",
            "Epoch 317/500\n",
            "4/4 [==============================] - 0s 15ms/step - loss: 0.0626 - val_loss: 0.2748\n",
            "Epoch 318/500\n",
            "4/4 [==============================] - 0s 9ms/step - loss: 0.0627 - val_loss: 0.2880\n",
            "Epoch 319/500\n",
            "4/4 [==============================] - 0s 9ms/step - loss: 0.0619 - val_loss: 0.2799\n",
            "Epoch 320/500\n",
            "4/4 [==============================] - 0s 9ms/step - loss: 0.0616 - val_loss: 0.2833\n",
            "Epoch 321/500\n",
            "4/4 [==============================] - 0s 9ms/step - loss: 0.0614 - val_loss: 0.2918\n",
            "Epoch 322/500\n",
            "4/4 [==============================] - 0s 10ms/step - loss: 0.0613 - val_loss: 0.2892\n",
            "Epoch 323/500\n",
            "4/4 [==============================] - 0s 9ms/step - loss: 0.0608 - val_loss: 0.2925\n",
            "Epoch 324/500\n",
            "4/4 [==============================] - 0s 11ms/step - loss: 0.0605 - val_loss: 0.2943\n",
            "Epoch 325/500\n",
            "4/4 [==============================] - 0s 9ms/step - loss: 0.0602 - val_loss: 0.3019\n",
            "Epoch 326/500\n",
            "4/4 [==============================] - 0s 11ms/step - loss: 0.0601 - val_loss: 0.3160\n",
            "Epoch 327/500\n",
            "4/4 [==============================] - 0s 10ms/step - loss: 0.0598 - val_loss: 0.3174\n",
            "Epoch 328/500\n",
            "4/4 [==============================] - 0s 9ms/step - loss: 0.0595 - val_loss: 0.3158\n",
            "Epoch 329/500\n",
            "4/4 [==============================] - 0s 10ms/step - loss: 0.0594 - val_loss: 0.3021\n",
            "Epoch 330/500\n",
            "4/4 [==============================] - 0s 13ms/step - loss: 0.0591 - val_loss: 0.3018\n",
            "Epoch 331/500\n",
            "4/4 [==============================] - 0s 10ms/step - loss: 0.0588 - val_loss: 0.3056\n",
            "Epoch 332/500\n",
            "4/4 [==============================] - 0s 11ms/step - loss: 0.0589 - val_loss: 0.3208\n",
            "Epoch 333/500\n",
            "4/4 [==============================] - 0s 9ms/step - loss: 0.0589 - val_loss: 0.3295\n",
            "Epoch 334/500\n",
            "4/4 [==============================] - 0s 10ms/step - loss: 0.0581 - val_loss: 0.3241\n",
            "Epoch 335/500\n",
            "4/4 [==============================] - 0s 12ms/step - loss: 0.0581 - val_loss: 0.3134\n",
            "Epoch 336/500\n",
            "4/4 [==============================] - 0s 9ms/step - loss: 0.0581 - val_loss: 0.3071\n",
            "Epoch 337/500\n",
            "4/4 [==============================] - 0s 12ms/step - loss: 0.0576 - val_loss: 0.3238\n",
            "Epoch 338/500\n",
            "4/4 [==============================] - 0s 11ms/step - loss: 0.0571 - val_loss: 0.3353\n",
            "Epoch 339/500\n",
            "4/4 [==============================] - 0s 14ms/step - loss: 0.0570 - val_loss: 0.3320\n",
            "Epoch 340/500\n",
            "4/4 [==============================] - 0s 10ms/step - loss: 0.0570 - val_loss: 0.3344\n",
            "Epoch 341/500\n",
            "4/4 [==============================] - 0s 9ms/step - loss: 0.0566 - val_loss: 0.3416\n",
            "Epoch 342/500\n",
            "4/4 [==============================] - 0s 13ms/step - loss: 0.0565 - val_loss: 0.3377\n",
            "Epoch 343/500\n",
            "4/4 [==============================] - 0s 10ms/step - loss: 0.0563 - val_loss: 0.3410\n",
            "Epoch 344/500\n",
            "4/4 [==============================] - 0s 9ms/step - loss: 0.0562 - val_loss: 0.3390\n",
            "Epoch 345/500\n",
            "4/4 [==============================] - 0s 9ms/step - loss: 0.0557 - val_loss: 0.3419\n",
            "Epoch 346/500\n",
            "4/4 [==============================] - 0s 9ms/step - loss: 0.0558 - val_loss: 0.3411\n",
            "Epoch 347/500\n",
            "4/4 [==============================] - 0s 9ms/step - loss: 0.0556 - val_loss: 0.3519\n",
            "Epoch 348/500\n",
            "4/4 [==============================] - 0s 12ms/step - loss: 0.0556 - val_loss: 0.3631\n",
            "Epoch 349/500\n",
            "4/4 [==============================] - 0s 9ms/step - loss: 0.0551 - val_loss: 0.3525\n",
            "Epoch 350/500\n",
            "4/4 [==============================] - 0s 12ms/step - loss: 0.0549 - val_loss: 0.3463\n",
            "Epoch 351/500\n",
            "4/4 [==============================] - 0s 9ms/step - loss: 0.0547 - val_loss: 0.3437\n",
            "Epoch 352/500\n",
            "4/4 [==============================] - 0s 10ms/step - loss: 0.0547 - val_loss: 0.3489\n",
            "Epoch 353/500\n",
            "4/4 [==============================] - 0s 9ms/step - loss: 0.0543 - val_loss: 0.3511\n",
            "Epoch 354/500\n",
            "4/4 [==============================] - 0s 10ms/step - loss: 0.0546 - val_loss: 0.3686\n",
            "Epoch 355/500\n",
            "4/4 [==============================] - 0s 10ms/step - loss: 0.0540 - val_loss: 0.3657\n",
            "Epoch 356/500\n",
            "4/4 [==============================] - 0s 11ms/step - loss: 0.0546 - val_loss: 0.3505\n",
            "Epoch 357/500\n",
            "4/4 [==============================] - 0s 10ms/step - loss: 0.0537 - val_loss: 0.3569\n",
            "Epoch 358/500\n",
            "4/4 [==============================] - 0s 9ms/step - loss: 0.0535 - val_loss: 0.3609\n",
            "Epoch 359/500\n",
            "4/4 [==============================] - 0s 9ms/step - loss: 0.0533 - val_loss: 0.3645\n",
            "Epoch 360/500\n",
            "4/4 [==============================] - 0s 9ms/step - loss: 0.0533 - val_loss: 0.3631\n",
            "Epoch 361/500\n",
            "4/4 [==============================] - 0s 9ms/step - loss: 0.0532 - val_loss: 0.3728\n",
            "Epoch 362/500\n",
            "4/4 [==============================] - 0s 9ms/step - loss: 0.0530 - val_loss: 0.3743\n",
            "Epoch 363/500\n",
            "4/4 [==============================] - 0s 12ms/step - loss: 0.0528 - val_loss: 0.3767\n",
            "Epoch 364/500\n",
            "4/4 [==============================] - 0s 10ms/step - loss: 0.0530 - val_loss: 0.3613\n",
            "Epoch 365/500\n",
            "4/4 [==============================] - 0s 10ms/step - loss: 0.0527 - val_loss: 0.3582\n",
            "Epoch 366/500\n",
            "4/4 [==============================] - 0s 10ms/step - loss: 0.0532 - val_loss: 0.3800\n",
            "Epoch 367/500\n",
            "4/4 [==============================] - 0s 12ms/step - loss: 0.0522 - val_loss: 0.3760\n",
            "Epoch 368/500\n",
            "4/4 [==============================] - 0s 9ms/step - loss: 0.0525 - val_loss: 0.3677\n",
            "Epoch 369/500\n",
            "4/4 [==============================] - 0s 9ms/step - loss: 0.0519 - val_loss: 0.3709\n",
            "Epoch 370/500\n",
            "4/4 [==============================] - 0s 10ms/step - loss: 0.0527 - val_loss: 0.3913\n",
            "Epoch 371/500\n",
            "4/4 [==============================] - 0s 16ms/step - loss: 0.0517 - val_loss: 0.3864\n",
            "Epoch 372/500\n",
            "4/4 [==============================] - 0s 9ms/step - loss: 0.0517 - val_loss: 0.3700\n",
            "Epoch 373/500\n",
            "4/4 [==============================] - 0s 14ms/step - loss: 0.0513 - val_loss: 0.3753\n",
            "Epoch 374/500\n",
            "4/4 [==============================] - 0s 9ms/step - loss: 0.0514 - val_loss: 0.3861\n",
            "Epoch 375/500\n",
            "4/4 [==============================] - 0s 10ms/step - loss: 0.0511 - val_loss: 0.3752\n",
            "Epoch 376/500\n",
            "4/4 [==============================] - 0s 10ms/step - loss: 0.0510 - val_loss: 0.3779\n",
            "Epoch 377/500\n",
            "4/4 [==============================] - 0s 9ms/step - loss: 0.0508 - val_loss: 0.3849\n",
            "Epoch 378/500\n",
            "4/4 [==============================] - 0s 10ms/step - loss: 0.0508 - val_loss: 0.3893\n",
            "Epoch 379/500\n",
            "4/4 [==============================] - 0s 14ms/step - loss: 0.0504 - val_loss: 0.3896\n",
            "Epoch 380/500\n",
            "4/4 [==============================] - 0s 9ms/step - loss: 0.0511 - val_loss: 0.3790\n",
            "Epoch 381/500\n",
            "4/4 [==============================] - 0s 10ms/step - loss: 0.0502 - val_loss: 0.3897\n",
            "Epoch 382/500\n",
            "4/4 [==============================] - 0s 11ms/step - loss: 0.0506 - val_loss: 0.4035\n",
            "Epoch 383/500\n",
            "4/4 [==============================] - 0s 11ms/step - loss: 0.0502 - val_loss: 0.4059\n",
            "Epoch 384/500\n",
            "4/4 [==============================] - 0s 10ms/step - loss: 0.0500 - val_loss: 0.3855\n",
            "Epoch 385/500\n",
            "4/4 [==============================] - 0s 12ms/step - loss: 0.0499 - val_loss: 0.3895\n",
            "Epoch 386/500\n",
            "4/4 [==============================] - 0s 15ms/step - loss: 0.0497 - val_loss: 0.3792\n",
            "Epoch 387/500\n",
            "4/4 [==============================] - 0s 11ms/step - loss: 0.0496 - val_loss: 0.3835\n",
            "Epoch 388/500\n",
            "4/4 [==============================] - 0s 10ms/step - loss: 0.0494 - val_loss: 0.3989\n",
            "Epoch 389/500\n",
            "4/4 [==============================] - 0s 11ms/step - loss: 0.0496 - val_loss: 0.4133\n",
            "Epoch 390/500\n",
            "4/4 [==============================] - 0s 10ms/step - loss: 0.0493 - val_loss: 0.4000\n",
            "Epoch 391/500\n",
            "4/4 [==============================] - 0s 12ms/step - loss: 0.0489 - val_loss: 0.3939\n",
            "Epoch 392/500\n",
            "4/4 [==============================] - 0s 9ms/step - loss: 0.0489 - val_loss: 0.3870\n",
            "Epoch 393/500\n",
            "4/4 [==============================] - 0s 14ms/step - loss: 0.0488 - val_loss: 0.3921\n",
            "Epoch 394/500\n",
            "4/4 [==============================] - 0s 9ms/step - loss: 0.0488 - val_loss: 0.3935\n",
            "Epoch 395/500\n",
            "4/4 [==============================] - 0s 9ms/step - loss: 0.0488 - val_loss: 0.3948\n",
            "Epoch 396/500\n",
            "4/4 [==============================] - 0s 10ms/step - loss: 0.0492 - val_loss: 0.4194\n",
            "Epoch 397/500\n",
            "4/4 [==============================] - 0s 10ms/step - loss: 0.0486 - val_loss: 0.4207\n",
            "Epoch 398/500\n",
            "4/4 [==============================] - 0s 10ms/step - loss: 0.0482 - val_loss: 0.4101\n",
            "Epoch 399/500\n",
            "4/4 [==============================] - 0s 11ms/step - loss: 0.0479 - val_loss: 0.3968\n",
            "Epoch 400/500\n",
            "4/4 [==============================] - 0s 9ms/step - loss: 0.0488 - val_loss: 0.3727\n",
            "Epoch 401/500\n",
            "4/4 [==============================] - 0s 11ms/step - loss: 0.0482 - val_loss: 0.3849\n",
            "Epoch 402/500\n",
            "4/4 [==============================] - 0s 9ms/step - loss: 0.0479 - val_loss: 0.4043\n",
            "Epoch 403/500\n",
            "4/4 [==============================] - 0s 12ms/step - loss: 0.0476 - val_loss: 0.4190\n",
            "Epoch 404/500\n",
            "4/4 [==============================] - 0s 9ms/step - loss: 0.0478 - val_loss: 0.4262\n",
            "Epoch 405/500\n",
            "4/4 [==============================] - 0s 11ms/step - loss: 0.0475 - val_loss: 0.4065\n",
            "Epoch 406/500\n",
            "4/4 [==============================] - 0s 11ms/step - loss: 0.0477 - val_loss: 0.4146\n",
            "Epoch 407/500\n",
            "4/4 [==============================] - 0s 10ms/step - loss: 0.0471 - val_loss: 0.4046\n",
            "Epoch 408/500\n",
            "4/4 [==============================] - 0s 9ms/step - loss: 0.0472 - val_loss: 0.4084\n",
            "Epoch 409/500\n",
            "4/4 [==============================] - 0s 9ms/step - loss: 0.0473 - val_loss: 0.3886\n",
            "Epoch 410/500\n",
            "4/4 [==============================] - 0s 9ms/step - loss: 0.0471 - val_loss: 0.3957\n",
            "Epoch 411/500\n",
            "4/4 [==============================] - 0s 8ms/step - loss: 0.0468 - val_loss: 0.3927\n",
            "Epoch 412/500\n",
            "4/4 [==============================] - 0s 15ms/step - loss: 0.0465 - val_loss: 0.4021\n",
            "Epoch 413/500\n",
            "4/4 [==============================] - 0s 9ms/step - loss: 0.0468 - val_loss: 0.4073\n",
            "Epoch 414/500\n",
            "4/4 [==============================] - 0s 10ms/step - loss: 0.0469 - val_loss: 0.4261\n",
            "Epoch 415/500\n",
            "4/4 [==============================] - 0s 9ms/step - loss: 0.0465 - val_loss: 0.4224\n",
            "Epoch 416/500\n",
            "4/4 [==============================] - 0s 9ms/step - loss: 0.0468 - val_loss: 0.4015\n",
            "Epoch 417/500\n",
            "4/4 [==============================] - 0s 11ms/step - loss: 0.0461 - val_loss: 0.3973\n",
            "Epoch 418/500\n",
            "4/4 [==============================] - 0s 9ms/step - loss: 0.0462 - val_loss: 0.3986\n",
            "Epoch 419/500\n",
            "4/4 [==============================] - 0s 9ms/step - loss: 0.0464 - val_loss: 0.3988\n",
            "Epoch 420/500\n",
            "4/4 [==============================] - 0s 11ms/step - loss: 0.0459 - val_loss: 0.4258\n",
            "Epoch 421/500\n",
            "4/4 [==============================] - 0s 11ms/step - loss: 0.0463 - val_loss: 0.4149\n",
            "Epoch 422/500\n",
            "4/4 [==============================] - 0s 10ms/step - loss: 0.0456 - val_loss: 0.4219\n",
            "Epoch 423/500\n",
            "4/4 [==============================] - 0s 10ms/step - loss: 0.0457 - val_loss: 0.4129\n",
            "Epoch 424/500\n",
            "4/4 [==============================] - 0s 9ms/step - loss: 0.0453 - val_loss: 0.4060\n",
            "Epoch 425/500\n",
            "4/4 [==============================] - 0s 9ms/step - loss: 0.0454 - val_loss: 0.4097\n",
            "Epoch 426/500\n",
            "4/4 [==============================] - 0s 9ms/step - loss: 0.0452 - val_loss: 0.4030\n",
            "Epoch 427/500\n",
            "4/4 [==============================] - 0s 12ms/step - loss: 0.0455 - val_loss: 0.4150\n",
            "Epoch 428/500\n",
            "4/4 [==============================] - 0s 11ms/step - loss: 0.0449 - val_loss: 0.4143\n",
            "Epoch 429/500\n",
            "4/4 [==============================] - 0s 12ms/step - loss: 0.0449 - val_loss: 0.4005\n",
            "Epoch 430/500\n",
            "4/4 [==============================] - 0s 9ms/step - loss: 0.0448 - val_loss: 0.4034\n",
            "Epoch 431/500\n",
            "4/4 [==============================] - 0s 9ms/step - loss: 0.0448 - val_loss: 0.4085\n",
            "Epoch 432/500\n",
            "4/4 [==============================] - 0s 10ms/step - loss: 0.0445 - val_loss: 0.4043\n",
            "Epoch 433/500\n",
            "4/4 [==============================] - 0s 9ms/step - loss: 0.0449 - val_loss: 0.3937\n",
            "Epoch 434/500\n",
            "4/4 [==============================] - 0s 11ms/step - loss: 0.0443 - val_loss: 0.4060\n",
            "Epoch 435/500\n",
            "4/4 [==============================] - 0s 12ms/step - loss: 0.0453 - val_loss: 0.4357\n",
            "Epoch 436/500\n",
            "4/4 [==============================] - 0s 11ms/step - loss: 0.0445 - val_loss: 0.4177\n",
            "Epoch 437/500\n",
            "4/4 [==============================] - 0s 11ms/step - loss: 0.0441 - val_loss: 0.4191\n",
            "Epoch 438/500\n",
            "4/4 [==============================] - 0s 9ms/step - loss: 0.0440 - val_loss: 0.4191\n",
            "Epoch 439/500\n",
            "4/4 [==============================] - 0s 11ms/step - loss: 0.0441 - val_loss: 0.4185\n",
            "Epoch 440/500\n",
            "4/4 [==============================] - 0s 10ms/step - loss: 0.0436 - val_loss: 0.4031\n",
            "Epoch 441/500\n",
            "4/4 [==============================] - 0s 10ms/step - loss: 0.0437 - val_loss: 0.3887\n",
            "Epoch 442/500\n",
            "4/4 [==============================] - 0s 10ms/step - loss: 0.0446 - val_loss: 0.3761\n",
            "Epoch 443/500\n",
            "4/4 [==============================] - 0s 9ms/step - loss: 0.0444 - val_loss: 0.4148\n",
            "Epoch 444/500\n",
            "4/4 [==============================] - 0s 10ms/step - loss: 0.0435 - val_loss: 0.4305\n",
            "Epoch 445/500\n",
            "4/4 [==============================] - 0s 10ms/step - loss: 0.0433 - val_loss: 0.4250\n",
            "Epoch 446/500\n",
            "4/4 [==============================] - 0s 9ms/step - loss: 0.0432 - val_loss: 0.4195\n",
            "Epoch 447/500\n",
            "4/4 [==============================] - 0s 9ms/step - loss: 0.0430 - val_loss: 0.4092\n",
            "Epoch 448/500\n",
            "4/4 [==============================] - 0s 9ms/step - loss: 0.0428 - val_loss: 0.4062\n",
            "Epoch 449/500\n",
            "4/4 [==============================] - 0s 10ms/step - loss: 0.0428 - val_loss: 0.4060\n",
            "Epoch 450/500\n",
            "4/4 [==============================] - 0s 11ms/step - loss: 0.0427 - val_loss: 0.4047\n",
            "Epoch 451/500\n",
            "4/4 [==============================] - 0s 17ms/step - loss: 0.0427 - val_loss: 0.4067\n",
            "Epoch 452/500\n",
            "4/4 [==============================] - 0s 9ms/step - loss: 0.0428 - val_loss: 0.4010\n",
            "Epoch 453/500\n",
            "4/4 [==============================] - 0s 9ms/step - loss: 0.0426 - val_loss: 0.4196\n",
            "Epoch 454/500\n",
            "4/4 [==============================] - 0s 9ms/step - loss: 0.0424 - val_loss: 0.4213\n",
            "Epoch 455/500\n",
            "4/4 [==============================] - 0s 9ms/step - loss: 0.0425 - val_loss: 0.4245\n",
            "Epoch 456/500\n",
            "4/4 [==============================] - 0s 18ms/step - loss: 0.0422 - val_loss: 0.4155\n",
            "Epoch 457/500\n",
            "4/4 [==============================] - 0s 17ms/step - loss: 0.0425 - val_loss: 0.3950\n",
            "Epoch 458/500\n",
            "4/4 [==============================] - 0s 9ms/step - loss: 0.0424 - val_loss: 0.3919\n",
            "Epoch 459/500\n",
            "4/4 [==============================] - 0s 9ms/step - loss: 0.0421 - val_loss: 0.4111\n",
            "Epoch 460/500\n",
            "4/4 [==============================] - 0s 9ms/step - loss: 0.0433 - val_loss: 0.4361\n",
            "Epoch 461/500\n",
            "4/4 [==============================] - 0s 10ms/step - loss: 0.0421 - val_loss: 0.4144\n",
            "Epoch 462/500\n",
            "4/4 [==============================] - 0s 8ms/step - loss: 0.0420 - val_loss: 0.3890\n",
            "Epoch 463/500\n",
            "4/4 [==============================] - 0s 11ms/step - loss: 0.0417 - val_loss: 0.3973\n",
            "Epoch 464/500\n",
            "4/4 [==============================] - 0s 9ms/step - loss: 0.0415 - val_loss: 0.4081\n",
            "Epoch 465/500\n",
            "4/4 [==============================] - 0s 12ms/step - loss: 0.0413 - val_loss: 0.4052\n",
            "Epoch 466/500\n",
            "4/4 [==============================] - 0s 10ms/step - loss: 0.0416 - val_loss: 0.4150\n",
            "Epoch 467/500\n",
            "4/4 [==============================] - 0s 10ms/step - loss: 0.0413 - val_loss: 0.4098\n",
            "Epoch 468/500\n",
            "4/4 [==============================] - 0s 9ms/step - loss: 0.0411 - val_loss: 0.4052\n",
            "Epoch 469/500\n",
            "4/4 [==============================] - 0s 10ms/step - loss: 0.0415 - val_loss: 0.3928\n",
            "Epoch 470/500\n",
            "4/4 [==============================] - 0s 9ms/step - loss: 0.0414 - val_loss: 0.4103\n",
            "Epoch 471/500\n",
            "4/4 [==============================] - 0s 12ms/step - loss: 0.0410 - val_loss: 0.4240\n",
            "Epoch 472/500\n",
            "4/4 [==============================] - 0s 13ms/step - loss: 0.0416 - val_loss: 0.4313\n",
            "Epoch 473/500\n",
            "4/4 [==============================] - 0s 9ms/step - loss: 0.0405 - val_loss: 0.4084\n",
            "Epoch 474/500\n",
            "4/4 [==============================] - 0s 18ms/step - loss: 0.0405 - val_loss: 0.3832\n",
            "Epoch 475/500\n",
            "4/4 [==============================] - 0s 15ms/step - loss: 0.0408 - val_loss: 0.3830\n",
            "Epoch 476/500\n",
            "4/4 [==============================] - 0s 12ms/step - loss: 0.0407 - val_loss: 0.4025\n",
            "Epoch 477/500\n",
            "4/4 [==============================] - 0s 13ms/step - loss: 0.0405 - val_loss: 0.4208\n",
            "Epoch 478/500\n",
            "4/4 [==============================] - 0s 12ms/step - loss: 0.0407 - val_loss: 0.4147\n",
            "Epoch 479/500\n",
            "4/4 [==============================] - 0s 10ms/step - loss: 0.0402 - val_loss: 0.4097\n",
            "Epoch 480/500\n",
            "4/4 [==============================] - 0s 10ms/step - loss: 0.0399 - val_loss: 0.3895\n",
            "Epoch 481/500\n",
            "4/4 [==============================] - 0s 9ms/step - loss: 0.0403 - val_loss: 0.3802\n",
            "Epoch 482/500\n",
            "4/4 [==============================] - 0s 10ms/step - loss: 0.0403 - val_loss: 0.3854\n",
            "Epoch 483/500\n",
            "4/4 [==============================] - 0s 10ms/step - loss: 0.0404 - val_loss: 0.4198\n",
            "Epoch 484/500\n",
            "4/4 [==============================] - 0s 18ms/step - loss: 0.0401 - val_loss: 0.4121\n",
            "Epoch 485/500\n",
            "4/4 [==============================] - 0s 9ms/step - loss: 0.0396 - val_loss: 0.4173\n",
            "Epoch 486/500\n",
            "4/4 [==============================] - 0s 10ms/step - loss: 0.0395 - val_loss: 0.4125\n",
            "Epoch 487/500\n",
            "4/4 [==============================] - 0s 12ms/step - loss: 0.0397 - val_loss: 0.3902\n",
            "Epoch 488/500\n",
            "4/4 [==============================] - 0s 10ms/step - loss: 0.0392 - val_loss: 0.3960\n",
            "Epoch 489/500\n",
            "4/4 [==============================] - 0s 11ms/step - loss: 0.0393 - val_loss: 0.4099\n",
            "Epoch 490/500\n",
            "4/4 [==============================] - 0s 9ms/step - loss: 0.0393 - val_loss: 0.4009\n",
            "Epoch 491/500\n",
            "4/4 [==============================] - 0s 11ms/step - loss: 0.0397 - val_loss: 0.4179\n",
            "Epoch 492/500\n",
            "4/4 [==============================] - 0s 9ms/step - loss: 0.0392 - val_loss: 0.4067\n",
            "Epoch 493/500\n",
            "4/4 [==============================] - 0s 10ms/step - loss: 0.0393 - val_loss: 0.4186\n",
            "Epoch 494/500\n",
            "4/4 [==============================] - 0s 10ms/step - loss: 0.0386 - val_loss: 0.4063\n",
            "Epoch 495/500\n",
            "4/4 [==============================] - 0s 10ms/step - loss: 0.0386 - val_loss: 0.3897\n",
            "Epoch 496/500\n",
            "4/4 [==============================] - 0s 9ms/step - loss: 0.0389 - val_loss: 0.3789\n",
            "Epoch 497/500\n",
            "4/4 [==============================] - 0s 11ms/step - loss: 0.0387 - val_loss: 0.3924\n",
            "Epoch 498/500\n",
            "4/4 [==============================] - 0s 9ms/step - loss: 0.0383 - val_loss: 0.3993\n",
            "Epoch 499/500\n",
            "4/4 [==============================] - 0s 9ms/step - loss: 0.0382 - val_loss: 0.3983\n",
            "Epoch 500/500\n",
            "4/4 [==============================] - 0s 9ms/step - loss: 0.0382 - val_loss: 0.3998\n"
          ]
        },
        {
          "output_type": "execute_result",
          "data": {
            "text/plain": [
              "<keras.callbacks.History at 0x7f9166c340d0>"
            ]
          },
          "metadata": {},
          "execution_count": 14
        }
      ]
    },
    {
      "cell_type": "code",
      "metadata": {
        "id": "d7kyZlz2D-F4",
        "colab": {
          "base_uri": "https://localhost:8080/"
        },
        "outputId": "50a0435e-823b-4d7b-ea02-7f89fba535c0"
      },
      "source": [
        "# predict the next two numbers coming after number 9 \n",
        "\n",
        "test_input = np.array([66])\n",
        "\n",
        "test_input = test_input.reshape((1, 1, 1))\n",
        "\n",
        "test_output = model.predict(test_input) #predict using the trained model\n",
        "print(test_output)"
      ],
      "execution_count": null,
      "outputs": [
        {
          "output_type": "stream",
          "name": "stdout",
          "text": [
            "1/1 [==============================] - 0s 18ms/step\n",
            "[[69.389336 71.108154]]\n"
          ]
        }
      ]
    },
    {
      "cell_type": "markdown",
      "metadata": {
        "id": "M6OBAURqNmnq"
      },
      "source": [
        "# Many to One"
      ]
    },
    {
      "cell_type": "markdown",
      "source": [
        "#### Create Dataset\n",
        "\n",
        "Create a dataset compsed of : \n",
        "\n",
        "Input: x = [[1 2 3] , [4 5 6], [7 8 9].............[43 44 45]]\n",
        "\n",
        "Output Y = [6 , 15, 25, ....... 132]\n",
        "\n",
        "So, our problem is to predict **the sum of three successive numbers**"
      ],
      "metadata": {
        "id": "khkoVWBTvhGX"
      }
    },
    {
      "cell_type": "code",
      "metadata": {
        "id": "k7ur1luwEMTg",
        "colab": {
          "base_uri": "https://localhost:8080/"
        },
        "outputId": "b49c3f56-88a0-4f4d-8ce3-ace7a25d2c77"
      },
      "source": [
        "X = np.array([x+1 for x in range(45)])\n",
        "print(X)"
      ],
      "execution_count": null,
      "outputs": [
        {
          "output_type": "stream",
          "name": "stdout",
          "text": [
            "[ 1  2  3  4  5  6  7  8  9 10 11 12 13 14 15 16 17 18 19 20 21 22 23 24\n",
            " 25 26 27 28 29 30 31 32 33 34 35 36 37 38 39 40 41 42 43 44 45]\n"
          ]
        }
      ]
    },
    {
      "cell_type": "code",
      "metadata": {
        "id": "TTcqfvnsNqzp",
        "colab": {
          "base_uri": "https://localhost:8080/"
        },
        "outputId": "46e8fe70-ed81-4205-ef04-faed217ad552"
      },
      "source": [
        "X = X.reshape(15,3,1)\n",
        "print(X)"
      ],
      "execution_count": null,
      "outputs": [
        {
          "output_type": "stream",
          "name": "stdout",
          "text": [
            "[[[ 1]\n",
            "  [ 2]\n",
            "  [ 3]]\n",
            "\n",
            " [[ 4]\n",
            "  [ 5]\n",
            "  [ 6]]\n",
            "\n",
            " [[ 7]\n",
            "  [ 8]\n",
            "  [ 9]]\n",
            "\n",
            " [[10]\n",
            "  [11]\n",
            "  [12]]\n",
            "\n",
            " [[13]\n",
            "  [14]\n",
            "  [15]]\n",
            "\n",
            " [[16]\n",
            "  [17]\n",
            "  [18]]\n",
            "\n",
            " [[19]\n",
            "  [20]\n",
            "  [21]]\n",
            "\n",
            " [[22]\n",
            "  [23]\n",
            "  [24]]\n",
            "\n",
            " [[25]\n",
            "  [26]\n",
            "  [27]]\n",
            "\n",
            " [[28]\n",
            "  [29]\n",
            "  [30]]\n",
            "\n",
            " [[31]\n",
            "  [32]\n",
            "  [33]]\n",
            "\n",
            " [[34]\n",
            "  [35]\n",
            "  [36]]\n",
            "\n",
            " [[37]\n",
            "  [38]\n",
            "  [39]]\n",
            "\n",
            " [[40]\n",
            "  [41]\n",
            "  [42]]\n",
            "\n",
            " [[43]\n",
            "  [44]\n",
            "  [45]]]\n"
          ]
        }
      ]
    },
    {
      "cell_type": "markdown",
      "metadata": {
        "id": "OpNRhSlsNzML"
      },
      "source": [
        "> Note: The X is reshaped into number of samples, time-steps and features. Each input have 3 time steps."
      ]
    },
    {
      "cell_type": "code",
      "metadata": {
        "id": "6n9SnjMFNuwn",
        "colab": {
          "base_uri": "https://localhost:8080/"
        },
        "outputId": "32fc1c2f-f2fa-4ae5-a952-08ef0d4b633f"
      },
      "source": [
        "Y = list()\n",
        "\n",
        "for x in X:\n",
        "  Y.append(x.sum())\n",
        "\n",
        "Y = np.array(Y)\n",
        "\n",
        "print(Y)"
      ],
      "execution_count": null,
      "outputs": [
        {
          "output_type": "stream",
          "name": "stdout",
          "text": [
            "[  6  15  24  33  42  51  60  69  78  87  96 105 114 123 132]\n"
          ]
        }
      ]
    },
    {
      "cell_type": "markdown",
      "metadata": {
        "id": "rdz-VFH_OKZo"
      },
      "source": [
        "> Notice: Output is the sum of values in three time steps. "
      ]
    },
    {
      "cell_type": "code",
      "metadata": {
        "id": "msC2JmWvOJi2",
        "colab": {
          "base_uri": "https://localhost:8080/",
          "height": 1000
        },
        "outputId": "5fd3fcc4-75e4-496a-eada-932c875ff384"
      },
      "source": [
        "tf.keras.backend.clear_session()\n",
        "import tensorflow as tf\n",
        "\n",
        "model = Sequential()\n",
        "model.add(LSTM(50,  input_shape=(3, 1),activation='ReLU'))\n",
        "#model.add(tf.keras.layers.Activation('ReLU'))\n",
        "model.add(Dense(1))\n",
        "\n",
        "model.compile(optimizer='adam', loss='mse')\n",
        "\n",
        "wandb.init(project='lstm')\n",
        "\n",
        "history = model.fit(X, Y, epochs=1000, validation_split=0.2, verbose=1, callbacks=[WandbCallback()])\n",
        "#history = model.fit(X, Y, epochs=500, validation_split=0.2, verbose=1)"
      ],
      "execution_count": null,
      "outputs": [
        {
          "output_type": "stream",
          "name": "stderr",
          "text": [
            "WARNING:tensorflow:Layer lstm will not use cuDNN kernels since it doesn't meet the criteria. It will use a generic GPU kernel as fallback when running on GPU.\n"
          ]
        },
        {
          "output_type": "display_data",
          "data": {
            "text/plain": [
              "<IPython.core.display.HTML object>"
            ],
            "text/html": [
              "Finishing last run (ID:2vkev4yv) before initializing another..."
            ]
          },
          "metadata": {}
        },
        {
          "output_type": "display_data",
          "data": {
            "text/plain": [
              "<IPython.core.display.HTML object>"
            ],
            "text/html": [
              "Waiting for W&B process to finish... <strong style=\"color:green\">(success).</strong>"
            ]
          },
          "metadata": {}
        },
        {
          "output_type": "display_data",
          "data": {
            "text/plain": [
              "<IPython.core.display.HTML object>"
            ],
            "text/html": [
              "<style>\n",
              "    table.wandb td:nth-child(1) { padding: 0 10px; text-align: left ; width: auto;} td:nth-child(2) {text-align: left ; width: 100%}\n",
              "    .wandb-row { display: flex; flex-direction: row; flex-wrap: wrap; justify-content: flex-start; width: 100% }\n",
              "    .wandb-col { display: flex; flex-direction: column; flex-basis: 100%; flex: 1; padding: 10px; }\n",
              "    </style>\n",
              "<div class=\"wandb-row\"><div class=\"wandb-col\"><h3>Run history:</h3><br/><table class=\"wandb\"><tr><td>epoch</td><td>▁▁▁▂▂▂▂▂▂▃▃▃▃▃▄▄▄▄▄▄▅▅▅▅▅▅▆▆▆▆▆▇▇▇▇▇▇███</td></tr><tr><td>loss</td><td>█▆▂▁▁▁▁▁▁▁▁▁▁▁▁▁▁▁▁▁▁▁▁▁▁▁▁▁▁▁▁▁▁▁▁▁▁▁▁▁</td></tr><tr><td>val_loss</td><td>█▆▂▁▁▁▁▁▁▁▁▁▁▁▁▁▁▁▁▁▁▁▁▁▁▁▁▁▁▁▁▁▁▁▁▁▁▁▁▁</td></tr></table><br/></div><div class=\"wandb-col\"><h3>Run summary:</h3><br/><table class=\"wandb\"><tr><td>best_epoch</td><td>231</td></tr><tr><td>best_val_loss</td><td>0.07802</td></tr><tr><td>epoch</td><td>499</td></tr><tr><td>loss</td><td>0.03819</td></tr><tr><td>val_loss</td><td>0.39978</td></tr></table><br/></div></div>"
            ]
          },
          "metadata": {}
        },
        {
          "output_type": "display_data",
          "data": {
            "text/plain": [
              "<IPython.core.display.HTML object>"
            ],
            "text/html": [
              "Synced <strong style=\"color:#cdcd00\">sleek-pine-2</strong>: <a href=\"https://wandb.ai/baptiste-guillemin-pro/simple-lstm/runs/2vkev4yv\" target=\"_blank\">https://wandb.ai/baptiste-guillemin-pro/simple-lstm/runs/2vkev4yv</a><br/>Synced 5 W&B file(s), 1 media file(s), 523 artifact file(s) and 1 other file(s)"
            ]
          },
          "metadata": {}
        },
        {
          "output_type": "display_data",
          "data": {
            "text/plain": [
              "<IPython.core.display.HTML object>"
            ],
            "text/html": [
              "Find logs at: <code>./wandb/run-20221209_131838-2vkev4yv/logs</code>"
            ]
          },
          "metadata": {}
        },
        {
          "output_type": "display_data",
          "data": {
            "text/plain": [
              "<IPython.core.display.HTML object>"
            ],
            "text/html": [
              "Successfully finished last run (ID:2vkev4yv). Initializing new run:<br/>"
            ]
          },
          "metadata": {}
        },
        {
          "output_type": "display_data",
          "data": {
            "text/plain": [
              "<IPython.core.display.HTML object>"
            ],
            "text/html": [
              "Tracking run with wandb version 0.13.6"
            ]
          },
          "metadata": {}
        },
        {
          "output_type": "display_data",
          "data": {
            "text/plain": [
              "<IPython.core.display.HTML object>"
            ],
            "text/html": [
              "Run data is saved locally in <code>/content/wandb/run-20221209_133927-1y8vhjwe</code>"
            ]
          },
          "metadata": {}
        },
        {
          "output_type": "display_data",
          "data": {
            "text/plain": [
              "<IPython.core.display.HTML object>"
            ],
            "text/html": [
              "Syncing run <strong><a href=\"https://wandb.ai/baptiste-guillemin-pro/lstm/runs/1y8vhjwe\" target=\"_blank\">sandy-blaze-1</a></strong> to <a href=\"https://wandb.ai/baptiste-guillemin-pro/lstm\" target=\"_blank\">Weights & Biases</a> (<a href=\"https://wandb.me/run\" target=\"_blank\">docs</a>)<br/>"
            ]
          },
          "metadata": {}
        },
        {
          "output_type": "stream",
          "name": "stdout",
          "text": [
            "Epoch 1/1000\n",
            "1/1 [==============================] - ETA: 0s - loss: 3604.9131"
          ]
        },
        {
          "output_type": "stream",
          "name": "stderr",
          "text": [
            "WARNING:absl:Found untraced functions such as re_lu_layer_call_fn, re_lu_layer_call_and_return_conditional_losses while saving (showing 2 of 2). These functions will not be directly callable after loading.\n",
            "\u001b[34m\u001b[1mwandb\u001b[0m: Adding directory to artifact (/content/wandb/run-20221209_133927-1y8vhjwe/files/model-best)... Done. 0.0s\n"
          ]
        },
        {
          "output_type": "stream",
          "name": "stdout",
          "text": [
            "\b\b\b\b\b\b\b\b\b\b\b\b\b\b\b\b\b\b\b\b\b\b\b\b\b\b\b\b\b\b\b\b\b\b\b\b\b\b\b\b\b\b\b\b\b\b\b\b\b\b\b\b\b\b\b\b\b\b\b\b\b\b\b\b\r1/1 [==============================] - 3s 3s/step - loss: 3604.9131 - val_loss: 13366.5156\n",
            "Epoch 2/1000\n",
            "1/1 [==============================] - ETA: 0s - loss: 3564.9004"
          ]
        },
        {
          "output_type": "stream",
          "name": "stderr",
          "text": [
            "WARNING:absl:Found untraced functions such as re_lu_layer_call_fn, re_lu_layer_call_and_return_conditional_losses while saving (showing 2 of 2). These functions will not be directly callable after loading.\n",
            "\u001b[34m\u001b[1mwandb\u001b[0m: Adding directory to artifact (/content/wandb/run-20221209_133927-1y8vhjwe/files/model-best)... Done. 0.0s\n"
          ]
        },
        {
          "output_type": "stream",
          "name": "stdout",
          "text": [
            "\b\b\b\b\b\b\b\b\b\b\b\b\b\b\b\b\b\b\b\b\b\b\b\b\b\b\b\b\b\b\b\b\b\b\b\b\b\b\b\b\b\b\b\b\b\b\b\b\b\b\b\b\b\b\b\b\b\b\b\b\b\b\b\b\r1/1 [==============================] - 2s 2s/step - loss: 3564.9004 - val_loss: 13208.7959\n",
            "Epoch 3/1000\n",
            "1/1 [==============================] - ETA: 0s - loss: 3524.7822"
          ]
        },
        {
          "output_type": "stream",
          "name": "stderr",
          "text": [
            "WARNING:absl:Found untraced functions such as re_lu_layer_call_fn, re_lu_layer_call_and_return_conditional_losses while saving (showing 2 of 2). These functions will not be directly callable after loading.\n",
            "\u001b[34m\u001b[1mwandb\u001b[0m: Adding directory to artifact (/content/wandb/run-20221209_133927-1y8vhjwe/files/model-best)... Done. 0.0s\n"
          ]
        },
        {
          "output_type": "stream",
          "name": "stdout",
          "text": [
            "\b\b\b\b\b\b\b\b\b\b\b\b\b\b\b\b\b\b\b\b\b\b\b\b\b\b\b\b\b\b\b\b\b\b\b\b\b\b\b\b\b\b\b\b\b\b\b\b\b\b\b\b\b\b\b\b\b\b\b\b\b\b\b\b\r1/1 [==============================] - 2s 2s/step - loss: 3524.7822 - val_loss: 13053.7646\n",
            "Epoch 4/1000\n",
            "1/1 [==============================] - ETA: 0s - loss: 3485.0134"
          ]
        },
        {
          "output_type": "stream",
          "name": "stderr",
          "text": [
            "WARNING:absl:Found untraced functions such as re_lu_layer_call_fn, re_lu_layer_call_and_return_conditional_losses while saving (showing 2 of 2). These functions will not be directly callable after loading.\n",
            "\u001b[34m\u001b[1mwandb\u001b[0m: Adding directory to artifact (/content/wandb/run-20221209_133927-1y8vhjwe/files/model-best)... Done. 0.0s\n"
          ]
        },
        {
          "output_type": "stream",
          "name": "stdout",
          "text": [
            "\b\b\b\b\b\b\b\b\b\b\b\b\b\b\b\b\b\b\b\b\b\b\b\b\b\b\b\b\b\b\b\b\b\b\b\b\b\b\b\b\b\b\b\b\b\b\b\b\b\b\b\b\b\b\b\b\b\b\b\b\b\b\b\b\r1/1 [==============================] - 2s 2s/step - loss: 3485.0134 - val_loss: 12897.0420\n",
            "Epoch 5/1000\n",
            "1/1 [==============================] - ETA: 0s - loss: 3445.9358"
          ]
        },
        {
          "output_type": "stream",
          "name": "stderr",
          "text": [
            "WARNING:absl:Found untraced functions such as re_lu_layer_call_fn, re_lu_layer_call_and_return_conditional_losses while saving (showing 2 of 2). These functions will not be directly callable after loading.\n",
            "\u001b[34m\u001b[1mwandb\u001b[0m: Adding directory to artifact (/content/wandb/run-20221209_133927-1y8vhjwe/files/model-best)... Done. 0.0s\n"
          ]
        },
        {
          "output_type": "stream",
          "name": "stdout",
          "text": [
            "\b\b\b\b\b\b\b\b\b\b\b\b\b\b\b\b\b\b\b\b\b\b\b\b\b\b\b\b\b\b\b\b\b\b\b\b\b\b\b\b\b\b\b\b\b\b\b\b\b\b\b\b\b\b\b\b\b\b\b\b\b\b\b\b\r1/1 [==============================] - 2s 2s/step - loss: 3445.9358 - val_loss: 12739.1885\n",
            "Epoch 6/1000\n",
            "1/1 [==============================] - ETA: 0s - loss: 3407.0723"
          ]
        },
        {
          "output_type": "stream",
          "name": "stderr",
          "text": [
            "WARNING:absl:Found untraced functions such as re_lu_layer_call_fn, re_lu_layer_call_and_return_conditional_losses while saving (showing 2 of 2). These functions will not be directly callable after loading.\n",
            "\u001b[34m\u001b[1mwandb\u001b[0m: Adding directory to artifact (/content/wandb/run-20221209_133927-1y8vhjwe/files/model-best)... Done. 0.0s\n"
          ]
        },
        {
          "output_type": "stream",
          "name": "stdout",
          "text": [
            "\b\b\b\b\b\b\b\b\b\b\b\b\b\b\b\b\b\b\b\b\b\b\b\b\b\b\b\b\b\b\b\b\b\b\b\b\b\b\b\b\b\b\b\b\b\b\b\b\b\b\b\b\b\b\b\b\b\b\b\b\b\b\b\b\r1/1 [==============================] - 2s 2s/step - loss: 3407.0723 - val_loss: 12580.0596\n",
            "Epoch 7/1000\n",
            "1/1 [==============================] - ETA: 0s - loss: 3368.1843"
          ]
        },
        {
          "output_type": "stream",
          "name": "stderr",
          "text": [
            "WARNING:absl:Found untraced functions such as re_lu_layer_call_fn, re_lu_layer_call_and_return_conditional_losses while saving (showing 2 of 2). These functions will not be directly callable after loading.\n",
            "\u001b[34m\u001b[1mwandb\u001b[0m: Adding directory to artifact (/content/wandb/run-20221209_133927-1y8vhjwe/files/model-best)... Done. 0.0s\n"
          ]
        },
        {
          "output_type": "stream",
          "name": "stdout",
          "text": [
            "\b\b\b\b\b\b\b\b\b\b\b\b\b\b\b\b\b\b\b\b\b\b\b\b\b\b\b\b\b\b\b\b\b\b\b\b\b\b\b\b\b\b\b\b\b\b\b\b\b\b\b\b\b\b\b\b\b\b\b\b\b\b\b\b\r1/1 [==============================] - 2s 2s/step - loss: 3368.1843 - val_loss: 12419.5518\n",
            "Epoch 8/1000\n",
            "1/1 [==============================] - ETA: 0s - loss: 3329.1191"
          ]
        },
        {
          "output_type": "stream",
          "name": "stderr",
          "text": [
            "WARNING:absl:Found untraced functions such as re_lu_layer_call_fn, re_lu_layer_call_and_return_conditional_losses while saving (showing 2 of 2). These functions will not be directly callable after loading.\n",
            "\u001b[34m\u001b[1mwandb\u001b[0m: Adding directory to artifact (/content/wandb/run-20221209_133927-1y8vhjwe/files/model-best)... Done. 0.0s\n"
          ]
        },
        {
          "output_type": "stream",
          "name": "stdout",
          "text": [
            "\b\b\b\b\b\b\b\b\b\b\b\b\b\b\b\b\b\b\b\b\b\b\b\b\b\b\b\b\b\b\b\b\b\b\b\b\b\b\b\b\b\b\b\b\b\b\b\b\b\b\b\b\b\b\b\b\b\b\b\b\b\b\b\b\r1/1 [==============================] - 2s 2s/step - loss: 3329.1191 - val_loss: 12257.2061\n",
            "Epoch 9/1000\n",
            "1/1 [==============================] - ETA: 0s - loss: 3289.6804"
          ]
        },
        {
          "output_type": "stream",
          "name": "stderr",
          "text": [
            "WARNING:absl:Found untraced functions such as re_lu_layer_call_fn, re_lu_layer_call_and_return_conditional_losses while saving (showing 2 of 2). These functions will not be directly callable after loading.\n",
            "\u001b[34m\u001b[1mwandb\u001b[0m: Adding directory to artifact (/content/wandb/run-20221209_133927-1y8vhjwe/files/model-best)... Done. 0.0s\n"
          ]
        },
        {
          "output_type": "stream",
          "name": "stdout",
          "text": [
            "\b\b\b\b\b\b\b\b\b\b\b\b\b\b\b\b\b\b\b\b\b\b\b\b\b\b\b\b\b\b\b\b\b\b\b\b\b\b\b\b\b\b\b\b\b\b\b\b\b\b\b\b\b\b\b\b\b\b\b\b\b\b\b\b\r1/1 [==============================] - 2s 2s/step - loss: 3289.6804 - val_loss: 12093.1123\n",
            "Epoch 10/1000\n",
            "1/1 [==============================] - ETA: 0s - loss: 3249.8518"
          ]
        },
        {
          "output_type": "stream",
          "name": "stderr",
          "text": [
            "WARNING:absl:Found untraced functions such as re_lu_layer_call_fn, re_lu_layer_call_and_return_conditional_losses while saving (showing 2 of 2). These functions will not be directly callable after loading.\n",
            "\u001b[34m\u001b[1mwandb\u001b[0m: Adding directory to artifact (/content/wandb/run-20221209_133927-1y8vhjwe/files/model-best)... Done. 0.0s\n"
          ]
        },
        {
          "output_type": "stream",
          "name": "stdout",
          "text": [
            "\b\b\b\b\b\b\b\b\b\b\b\b\b\b\b\b\b\b\b\b\b\b\b\b\b\b\b\b\b\b\b\b\b\b\b\b\b\b\b\b\b\b\b\b\b\b\b\b\b\b\b\b\b\b\b\b\b\b\b\b\b\b\b\b\r1/1 [==============================] - 2s 2s/step - loss: 3249.8518 - val_loss: 11927.8203\n",
            "Epoch 11/1000\n",
            "1/1 [==============================] - ETA: 0s - loss: 3209.7292"
          ]
        },
        {
          "output_type": "stream",
          "name": "stderr",
          "text": [
            "WARNING:absl:Found untraced functions such as re_lu_layer_call_fn, re_lu_layer_call_and_return_conditional_losses while saving (showing 2 of 2). These functions will not be directly callable after loading.\n",
            "\u001b[34m\u001b[1mwandb\u001b[0m: Adding directory to artifact (/content/wandb/run-20221209_133927-1y8vhjwe/files/model-best)... Done. 0.0s\n"
          ]
        },
        {
          "output_type": "stream",
          "name": "stdout",
          "text": [
            "\b\b\b\b\b\b\b\b\b\b\b\b\b\b\b\b\b\b\b\b\b\b\b\b\b\b\b\b\b\b\b\b\b\b\b\b\b\b\b\b\b\b\b\b\b\b\b\b\b\b\b\b\b\b\b\b\b\b\b\b\b\b\b\b\r1/1 [==============================] - 2s 2s/step - loss: 3209.7292 - val_loss: 11761.9502\n",
            "Epoch 12/1000\n",
            "1/1 [==============================] - ETA: 0s - loss: 3169.3914"
          ]
        },
        {
          "output_type": "stream",
          "name": "stderr",
          "text": [
            "WARNING:absl:Found untraced functions such as re_lu_layer_call_fn, re_lu_layer_call_and_return_conditional_losses while saving (showing 2 of 2). These functions will not be directly callable after loading.\n",
            "\u001b[34m\u001b[1mwandb\u001b[0m: Adding directory to artifact (/content/wandb/run-20221209_133927-1y8vhjwe/files/model-best)... Done. 0.0s\n"
          ]
        },
        {
          "output_type": "stream",
          "name": "stdout",
          "text": [
            "\b\b\b\b\b\b\b\b\b\b\b\b\b\b\b\b\b\b\b\b\b\b\b\b\b\b\b\b\b\b\b\b\b\b\b\b\b\b\b\b\b\b\b\b\b\b\b\b\b\b\b\b\b\b\b\b\b\b\b\b\b\b\b\b\r1/1 [==============================] - 2s 2s/step - loss: 3169.3914 - val_loss: 11595.3877\n",
            "Epoch 13/1000\n",
            "1/1 [==============================] - ETA: 0s - loss: 3128.5332"
          ]
        },
        {
          "output_type": "stream",
          "name": "stderr",
          "text": [
            "WARNING:absl:Found untraced functions such as re_lu_layer_call_fn, re_lu_layer_call_and_return_conditional_losses while saving (showing 2 of 2). These functions will not be directly callable after loading.\n",
            "\u001b[34m\u001b[1mwandb\u001b[0m: Adding directory to artifact (/content/wandb/run-20221209_133927-1y8vhjwe/files/model-best)... Done. 0.0s\n"
          ]
        },
        {
          "output_type": "stream",
          "name": "stdout",
          "text": [
            "\b\b\b\b\b\b\b\b\b\b\b\b\b\b\b\b\b\b\b\b\b\b\b\b\b\b\b\b\b\b\b\b\b\b\b\b\b\b\b\b\b\b\b\b\b\b\b\b\b\b\b\b\b\b\b\b\b\b\b\b\b\b\b\b\r1/1 [==============================] - 2s 2s/step - loss: 3128.5332 - val_loss: 11427.1514\n",
            "Epoch 14/1000\n",
            "1/1 [==============================] - ETA: 0s - loss: 3087.0671"
          ]
        },
        {
          "output_type": "stream",
          "name": "stderr",
          "text": [
            "WARNING:absl:Found untraced functions such as re_lu_layer_call_fn, re_lu_layer_call_and_return_conditional_losses while saving (showing 2 of 2). These functions will not be directly callable after loading.\n",
            "\u001b[34m\u001b[1mwandb\u001b[0m: Adding directory to artifact (/content/wandb/run-20221209_133927-1y8vhjwe/files/model-best)... Done. 0.0s\n"
          ]
        },
        {
          "output_type": "stream",
          "name": "stdout",
          "text": [
            "\b\b\b\b\b\b\b\b\b\b\b\b\b\b\b\b\b\b\b\b\b\b\b\b\b\b\b\b\b\b\b\b\b\b\b\b\b\b\b\b\b\b\b\b\b\b\b\b\b\b\b\b\b\b\b\b\b\b\b\b\b\b\b\b\r1/1 [==============================] - 2s 2s/step - loss: 3087.0671 - val_loss: 11257.1562\n",
            "Epoch 15/1000\n",
            "1/1 [==============================] - ETA: 0s - loss: 3044.9504"
          ]
        },
        {
          "output_type": "stream",
          "name": "stderr",
          "text": [
            "WARNING:absl:Found untraced functions such as re_lu_layer_call_fn, re_lu_layer_call_and_return_conditional_losses while saving (showing 2 of 2). These functions will not be directly callable after loading.\n",
            "\u001b[34m\u001b[1mwandb\u001b[0m: Adding directory to artifact (/content/wandb/run-20221209_133927-1y8vhjwe/files/model-best)... Done. 0.0s\n"
          ]
        },
        {
          "output_type": "stream",
          "name": "stdout",
          "text": [
            "\b\b\b\b\b\b\b\b\b\b\b\b\b\b\b\b\b\b\b\b\b\b\b\b\b\b\b\b\b\b\b\b\b\b\b\b\b\b\b\b\b\b\b\b\b\b\b\b\b\b\b\b\b\b\b\b\b\b\b\b\b\b\b\b\r1/1 [==============================] - 2s 2s/step - loss: 3044.9504 - val_loss: 11085.2627\n",
            "Epoch 16/1000\n",
            "1/1 [==============================] - ETA: 0s - loss: 3002.1123"
          ]
        },
        {
          "output_type": "stream",
          "name": "stderr",
          "text": [
            "WARNING:absl:Found untraced functions such as re_lu_layer_call_fn, re_lu_layer_call_and_return_conditional_losses while saving (showing 2 of 2). These functions will not be directly callable after loading.\n",
            "\u001b[34m\u001b[1mwandb\u001b[0m: Adding directory to artifact (/content/wandb/run-20221209_133927-1y8vhjwe/files/model-best)... Done. 0.0s\n"
          ]
        },
        {
          "output_type": "stream",
          "name": "stdout",
          "text": [
            "\b\b\b\b\b\b\b\b\b\b\b\b\b\b\b\b\b\b\b\b\b\b\b\b\b\b\b\b\b\b\b\b\b\b\b\b\b\b\b\b\b\b\b\b\b\b\b\b\b\b\b\b\b\b\b\b\b\b\b\b\b\b\b\b\r1/1 [==============================] - 2s 2s/step - loss: 3002.1123 - val_loss: 10911.2881\n",
            "Epoch 17/1000\n",
            "1/1 [==============================] - ETA: 0s - loss: 2958.4929"
          ]
        },
        {
          "output_type": "stream",
          "name": "stderr",
          "text": [
            "WARNING:absl:Found untraced functions such as re_lu_layer_call_fn, re_lu_layer_call_and_return_conditional_losses while saving (showing 2 of 2). These functions will not be directly callable after loading.\n",
            "\u001b[34m\u001b[1mwandb\u001b[0m: Adding directory to artifact (/content/wandb/run-20221209_133927-1y8vhjwe/files/model-best)... Done. 0.0s\n"
          ]
        },
        {
          "output_type": "stream",
          "name": "stdout",
          "text": [
            "\b\b\b\b\b\b\b\b\b\b\b\b\b\b\b\b\b\b\b\b\b\b\b\b\b\b\b\b\b\b\b\b\b\b\b\b\b\b\b\b\b\b\b\b\b\b\b\b\b\b\b\b\b\b\b\b\b\b\b\b\b\b\b\b\r1/1 [==============================] - 2s 2s/step - loss: 2958.4929 - val_loss: 10734.9619\n",
            "Epoch 18/1000\n",
            "1/1 [==============================] - ETA: 0s - loss: 2914.0271"
          ]
        },
        {
          "output_type": "stream",
          "name": "stderr",
          "text": [
            "WARNING:absl:Found untraced functions such as re_lu_layer_call_fn, re_lu_layer_call_and_return_conditional_losses while saving (showing 2 of 2). These functions will not be directly callable after loading.\n",
            "\u001b[34m\u001b[1mwandb\u001b[0m: Adding directory to artifact (/content/wandb/run-20221209_133927-1y8vhjwe/files/model-best)... Done. 0.0s\n"
          ]
        },
        {
          "output_type": "stream",
          "name": "stdout",
          "text": [
            "\b\b\b\b\b\b\b\b\b\b\b\b\b\b\b\b\b\b\b\b\b\b\b\b\b\b\b\b\b\b\b\b\b\b\b\b\b\b\b\b\b\b\b\b\b\b\b\b\b\b\b\b\b\b\b\b\b\b\b\b\b\b\b\b\r1/1 [==============================] - 2s 2s/step - loss: 2914.0271 - val_loss: 10555.9619\n",
            "Epoch 19/1000\n",
            "1/1 [==============================] - ETA: 0s - loss: 2868.6379"
          ]
        },
        {
          "output_type": "stream",
          "name": "stderr",
          "text": [
            "WARNING:absl:Found untraced functions such as re_lu_layer_call_fn, re_lu_layer_call_and_return_conditional_losses while saving (showing 2 of 2). These functions will not be directly callable after loading.\n",
            "\u001b[34m\u001b[1mwandb\u001b[0m: Adding directory to artifact (/content/wandb/run-20221209_133927-1y8vhjwe/files/model-best)... Done. 0.0s\n"
          ]
        },
        {
          "output_type": "stream",
          "name": "stdout",
          "text": [
            "\b\b\b\b\b\b\b\b\b\b\b\b\b\b\b\b\b\b\b\b\b\b\b\b\b\b\b\b\b\b\b\b\b\b\b\b\b\b\b\b\b\b\b\b\b\b\b\b\b\b\b\b\b\b\b\b\b\b\b\b\b\b\b\b\r1/1 [==============================] - 2s 2s/step - loss: 2868.6379 - val_loss: 10373.9043\n",
            "Epoch 20/1000\n",
            "1/1 [==============================] - ETA: 0s - loss: 2822.2422"
          ]
        },
        {
          "output_type": "stream",
          "name": "stderr",
          "text": [
            "WARNING:absl:Found untraced functions such as re_lu_layer_call_fn, re_lu_layer_call_and_return_conditional_losses while saving (showing 2 of 2). These functions will not be directly callable after loading.\n",
            "\u001b[34m\u001b[1mwandb\u001b[0m: Adding directory to artifact (/content/wandb/run-20221209_133927-1y8vhjwe/files/model-best)... Done. 0.0s\n"
          ]
        },
        {
          "output_type": "stream",
          "name": "stdout",
          "text": [
            "\b\b\b\b\b\b\b\b\b\b\b\b\b\b\b\b\b\b\b\b\b\b\b\b\b\b\b\b\b\b\b\b\b\b\b\b\b\b\b\b\b\b\b\b\b\b\b\b\b\b\b\b\b\b\b\b\b\b\b\b\b\b\b\b\r1/1 [==============================] - 2s 2s/step - loss: 2822.2422 - val_loss: 10188.3291\n",
            "Epoch 21/1000\n",
            "1/1 [==============================] - ETA: 0s - loss: 2774.7449"
          ]
        },
        {
          "output_type": "stream",
          "name": "stderr",
          "text": [
            "WARNING:absl:Found untraced functions such as re_lu_layer_call_fn, re_lu_layer_call_and_return_conditional_losses while saving (showing 2 of 2). These functions will not be directly callable after loading.\n",
            "\u001b[34m\u001b[1mwandb\u001b[0m: Adding directory to artifact (/content/wandb/run-20221209_133927-1y8vhjwe/files/model-best)... Done. 0.0s\n"
          ]
        },
        {
          "output_type": "stream",
          "name": "stdout",
          "text": [
            "\b\b\b\b\b\b\b\b\b\b\b\b\b\b\b\b\b\b\b\b\b\b\b\b\b\b\b\b\b\b\b\b\b\b\b\b\b\b\b\b\b\b\b\b\b\b\b\b\b\b\b\b\b\b\b\b\b\b\b\b\b\b\b\b\r1/1 [==============================] - 2s 2s/step - loss: 2774.7449 - val_loss: 9998.7148\n",
            "Epoch 22/1000\n",
            "1/1 [==============================] - ETA: 0s - loss: 2726.0486"
          ]
        },
        {
          "output_type": "stream",
          "name": "stderr",
          "text": [
            "WARNING:absl:Found untraced functions such as re_lu_layer_call_fn, re_lu_layer_call_and_return_conditional_losses while saving (showing 2 of 2). These functions will not be directly callable after loading.\n",
            "\u001b[34m\u001b[1mwandb\u001b[0m: Adding directory to artifact (/content/wandb/run-20221209_133927-1y8vhjwe/files/model-best)... Done. 0.0s\n"
          ]
        },
        {
          "output_type": "stream",
          "name": "stdout",
          "text": [
            "\b\b\b\b\b\b\b\b\b\b\b\b\b\b\b\b\b\b\b\b\b\b\b\b\b\b\b\b\b\b\b\b\b\b\b\b\b\b\b\b\b\b\b\b\b\b\b\b\b\b\b\b\b\b\b\b\b\b\b\b\b\b\b\b\r1/1 [==============================] - 2s 2s/step - loss: 2726.0486 - val_loss: 9804.4629\n",
            "Epoch 23/1000\n",
            "1/1 [==============================] - ETA: 0s - loss: 2676.0383"
          ]
        },
        {
          "output_type": "stream",
          "name": "stderr",
          "text": [
            "WARNING:absl:Found untraced functions such as re_lu_layer_call_fn, re_lu_layer_call_and_return_conditional_losses while saving (showing 2 of 2). These functions will not be directly callable after loading.\n",
            "\u001b[34m\u001b[1mwandb\u001b[0m: Adding directory to artifact (/content/wandb/run-20221209_133927-1y8vhjwe/files/model-best)... Done. 0.0s\n"
          ]
        },
        {
          "output_type": "stream",
          "name": "stdout",
          "text": [
            "\b\b\b\b\b\b\b\b\b\b\b\b\b\b\b\b\b\b\b\b\b\b\b\b\b\b\b\b\b\b\b\b\b\b\b\b\b\b\b\b\b\b\b\b\b\b\b\b\b\b\b\b\b\b\b\b\b\b\b\b\b\b\b\b\r1/1 [==============================] - 3s 3s/step - loss: 2676.0383 - val_loss: 9604.9092\n",
            "Epoch 24/1000\n",
            "1/1 [==============================] - ETA: 0s - loss: 2624.6001"
          ]
        },
        {
          "output_type": "stream",
          "name": "stderr",
          "text": [
            "WARNING:absl:Found untraced functions such as re_lu_layer_call_fn, re_lu_layer_call_and_return_conditional_losses while saving (showing 2 of 2). These functions will not be directly callable after loading.\n",
            "\u001b[34m\u001b[1mwandb\u001b[0m: Adding directory to artifact (/content/wandb/run-20221209_133927-1y8vhjwe/files/model-best)... Done. 0.0s\n"
          ]
        },
        {
          "output_type": "stream",
          "name": "stdout",
          "text": [
            "\b\b\b\b\b\b\b\b\b\b\b\b\b\b\b\b\b\b\b\b\b\b\b\b\b\b\b\b\b\b\b\b\b\b\b\b\b\b\b\b\b\b\b\b\b\b\b\b\b\b\b\b\b\b\b\b\b\b\b\b\b\b\b\b\r1/1 [==============================] - 2s 2s/step - loss: 2624.6001 - val_loss: 9399.3203\n",
            "Epoch 25/1000\n",
            "1/1 [==============================] - ETA: 0s - loss: 2571.6116"
          ]
        },
        {
          "output_type": "stream",
          "name": "stderr",
          "text": [
            "WARNING:absl:Found untraced functions such as re_lu_layer_call_fn, re_lu_layer_call_and_return_conditional_losses while saving (showing 2 of 2). These functions will not be directly callable after loading.\n",
            "\u001b[34m\u001b[1mwandb\u001b[0m: Adding directory to artifact (/content/wandb/run-20221209_133927-1y8vhjwe/files/model-best)... Done. 0.0s\n"
          ]
        },
        {
          "output_type": "stream",
          "name": "stdout",
          "text": [
            "\b\b\b\b\b\b\b\b\b\b\b\b\b\b\b\b\b\b\b\b\b\b\b\b\b\b\b\b\b\b\b\b\b\b\b\b\b\b\b\b\b\b\b\b\b\b\b\b\b\b\b\b\b\b\b\b\b\b\b\b\b\b\b\b\r1/1 [==============================] - 2s 2s/step - loss: 2571.6116 - val_loss: 9186.9219\n",
            "Epoch 26/1000\n",
            "1/1 [==============================] - ETA: 0s - loss: 2516.9519"
          ]
        },
        {
          "output_type": "stream",
          "name": "stderr",
          "text": [
            "WARNING:absl:Found untraced functions such as re_lu_layer_call_fn, re_lu_layer_call_and_return_conditional_losses while saving (showing 2 of 2). These functions will not be directly callable after loading.\n",
            "\u001b[34m\u001b[1mwandb\u001b[0m: Adding directory to artifact (/content/wandb/run-20221209_133927-1y8vhjwe/files/model-best)... Done. 0.0s\n"
          ]
        },
        {
          "output_type": "stream",
          "name": "stdout",
          "text": [
            "\b\b\b\b\b\b\b\b\b\b\b\b\b\b\b\b\b\b\b\b\b\b\b\b\b\b\b\b\b\b\b\b\b\b\b\b\b\b\b\b\b\b\b\b\b\b\b\b\b\b\b\b\b\b\b\b\b\b\b\b\b\b\b\b\r1/1 [==============================] - 2s 2s/step - loss: 2516.9519 - val_loss: 8966.9131\n",
            "Epoch 27/1000\n",
            "1/1 [==============================] - ETA: 0s - loss: 2460.5027"
          ]
        },
        {
          "output_type": "stream",
          "name": "stderr",
          "text": [
            "WARNING:absl:Found untraced functions such as re_lu_layer_call_fn, re_lu_layer_call_and_return_conditional_losses while saving (showing 2 of 2). These functions will not be directly callable after loading.\n",
            "\u001b[34m\u001b[1mwandb\u001b[0m: Adding directory to artifact (/content/wandb/run-20221209_133927-1y8vhjwe/files/model-best)... Done. 0.0s\n"
          ]
        },
        {
          "output_type": "stream",
          "name": "stdout",
          "text": [
            "\b\b\b\b\b\b\b\b\b\b\b\b\b\b\b\b\b\b\b\b\b\b\b\b\b\b\b\b\b\b\b\b\b\b\b\b\b\b\b\b\b\b\b\b\b\b\b\b\b\b\b\b\b\b\b\b\b\b\b\b\b\b\b\b\r1/1 [==============================] - 2s 2s/step - loss: 2460.5027 - val_loss: 8738.5166\n",
            "Epoch 28/1000\n",
            "1/1 [==============================] - ETA: 0s - loss: 2402.1516"
          ]
        },
        {
          "output_type": "stream",
          "name": "stderr",
          "text": [
            "WARNING:absl:Found untraced functions such as re_lu_layer_call_fn, re_lu_layer_call_and_return_conditional_losses while saving (showing 2 of 2). These functions will not be directly callable after loading.\n",
            "\u001b[34m\u001b[1mwandb\u001b[0m: Adding directory to artifact (/content/wandb/run-20221209_133927-1y8vhjwe/files/model-best)... Done. 0.0s\n"
          ]
        },
        {
          "output_type": "stream",
          "name": "stdout",
          "text": [
            "\b\b\b\b\b\b\b\b\b\b\b\b\b\b\b\b\b\b\b\b\b\b\b\b\b\b\b\b\b\b\b\b\b\b\b\b\b\b\b\b\b\b\b\b\b\b\b\b\b\b\b\b\b\b\b\b\b\b\b\b\b\b\b\b\r1/1 [==============================] - 2s 2s/step - loss: 2402.1516 - val_loss: 8501.0605\n",
            "Epoch 29/1000\n",
            "1/1 [==============================] - ETA: 0s - loss: 2341.8018"
          ]
        },
        {
          "output_type": "stream",
          "name": "stderr",
          "text": [
            "WARNING:absl:Found untraced functions such as re_lu_layer_call_fn, re_lu_layer_call_and_return_conditional_losses while saving (showing 2 of 2). These functions will not be directly callable after loading.\n",
            "\u001b[34m\u001b[1mwandb\u001b[0m: Adding directory to artifact (/content/wandb/run-20221209_133927-1y8vhjwe/files/model-best)... Done. 0.0s\n"
          ]
        },
        {
          "output_type": "stream",
          "name": "stdout",
          "text": [
            "\b\b\b\b\b\b\b\b\b\b\b\b\b\b\b\b\b\b\b\b\b\b\b\b\b\b\b\b\b\b\b\b\b\b\b\b\b\b\b\b\b\b\b\b\b\b\b\b\b\b\b\b\b\b\b\b\b\b\b\b\b\b\b\b\r1/1 [==============================] - 2s 2s/step - loss: 2341.8018 - val_loss: 8254.0771\n",
            "Epoch 30/1000\n",
            "1/1 [==============================] - ETA: 0s - loss: 2279.3784"
          ]
        },
        {
          "output_type": "stream",
          "name": "stderr",
          "text": [
            "WARNING:absl:Found untraced functions such as re_lu_layer_call_fn, re_lu_layer_call_and_return_conditional_losses while saving (showing 2 of 2). These functions will not be directly callable after loading.\n",
            "\u001b[34m\u001b[1mwandb\u001b[0m: Adding directory to artifact (/content/wandb/run-20221209_133927-1y8vhjwe/files/model-best)... Done. 0.0s\n"
          ]
        },
        {
          "output_type": "stream",
          "name": "stdout",
          "text": [
            "\b\b\b\b\b\b\b\b\b\b\b\b\b\b\b\b\b\b\b\b\b\b\b\b\b\b\b\b\b\b\b\b\b\b\b\b\b\b\b\b\b\b\b\b\b\b\b\b\b\b\b\b\b\b\b\b\b\b\b\b\b\b\b\b\r1/1 [==============================] - 2s 2s/step - loss: 2279.3784 - val_loss: 7997.4487\n",
            "Epoch 31/1000\n",
            "1/1 [==============================] - ETA: 0s - loss: 2214.8357"
          ]
        },
        {
          "output_type": "stream",
          "name": "stderr",
          "text": [
            "WARNING:absl:Found untraced functions such as re_lu_layer_call_fn, re_lu_layer_call_and_return_conditional_losses while saving (showing 2 of 2). These functions will not be directly callable after loading.\n",
            "\u001b[34m\u001b[1mwandb\u001b[0m: Adding directory to artifact (/content/wandb/run-20221209_133927-1y8vhjwe/files/model-best)... Done. 0.0s\n"
          ]
        },
        {
          "output_type": "stream",
          "name": "stdout",
          "text": [
            "\b\b\b\b\b\b\b\b\b\b\b\b\b\b\b\b\b\b\b\b\b\b\b\b\b\b\b\b\b\b\b\b\b\b\b\b\b\b\b\b\b\b\b\b\b\b\b\b\b\b\b\b\b\b\b\b\b\b\b\b\b\b\b\b\r1/1 [==============================] - 2s 2s/step - loss: 2214.8357 - val_loss: 7731.5425\n",
            "Epoch 32/1000\n",
            "1/1 [==============================] - ETA: 0s - loss: 2148.1628"
          ]
        },
        {
          "output_type": "stream",
          "name": "stderr",
          "text": [
            "WARNING:absl:Found untraced functions such as re_lu_layer_call_fn, re_lu_layer_call_and_return_conditional_losses while saving (showing 2 of 2). These functions will not be directly callable after loading.\n",
            "\u001b[34m\u001b[1mwandb\u001b[0m: Adding directory to artifact (/content/wandb/run-20221209_133927-1y8vhjwe/files/model-best)... Done. 0.0s\n"
          ]
        },
        {
          "output_type": "stream",
          "name": "stdout",
          "text": [
            "\b\b\b\b\b\b\b\b\b\b\b\b\b\b\b\b\b\b\b\b\b\b\b\b\b\b\b\b\b\b\b\b\b\b\b\b\b\b\b\b\b\b\b\b\b\b\b\b\b\b\b\b\b\b\b\b\b\b\b\b\b\b\b\b\r1/1 [==============================] - 2s 2s/step - loss: 2148.1628 - val_loss: 7457.3071\n",
            "Epoch 33/1000\n",
            "1/1 [==============================] - ETA: 0s - loss: 2079.3884"
          ]
        },
        {
          "output_type": "stream",
          "name": "stderr",
          "text": [
            "WARNING:absl:Found untraced functions such as re_lu_layer_call_fn, re_lu_layer_call_and_return_conditional_losses while saving (showing 2 of 2). These functions will not be directly callable after loading.\n",
            "\u001b[34m\u001b[1mwandb\u001b[0m: Adding directory to artifact (/content/wandb/run-20221209_133927-1y8vhjwe/files/model-best)... Done. 0.0s\n"
          ]
        },
        {
          "output_type": "stream",
          "name": "stdout",
          "text": [
            "\b\b\b\b\b\b\b\b\b\b\b\b\b\b\b\b\b\b\b\b\b\b\b\b\b\b\b\b\b\b\b\b\b\b\b\b\b\b\b\b\b\b\b\b\b\b\b\b\b\b\b\b\b\b\b\b\b\b\b\b\b\b\b\b\r1/1 [==============================] - 2s 2s/step - loss: 2079.3884 - val_loss: 7176.2358\n",
            "Epoch 34/1000\n",
            "1/1 [==============================] - ETA: 0s - loss: 2008.5797"
          ]
        },
        {
          "output_type": "stream",
          "name": "stderr",
          "text": [
            "WARNING:absl:Found untraced functions such as re_lu_layer_call_fn, re_lu_layer_call_and_return_conditional_losses while saving (showing 2 of 2). These functions will not be directly callable after loading.\n",
            "\u001b[34m\u001b[1mwandb\u001b[0m: Adding directory to artifact (/content/wandb/run-20221209_133927-1y8vhjwe/files/model-best)... Done. 0.0s\n"
          ]
        },
        {
          "output_type": "stream",
          "name": "stdout",
          "text": [
            "\b\b\b\b\b\b\b\b\b\b\b\b\b\b\b\b\b\b\b\b\b\b\b\b\b\b\b\b\b\b\b\b\b\b\b\b\b\b\b\b\b\b\b\b\b\b\b\b\b\b\b\b\b\b\b\b\b\b\b\b\b\b\b\b\r1/1 [==============================] - 2s 2s/step - loss: 2008.5797 - val_loss: 6890.1421\n",
            "Epoch 35/1000\n",
            "1/1 [==============================] - ETA: 0s - loss: 1935.8304"
          ]
        },
        {
          "output_type": "stream",
          "name": "stderr",
          "text": [
            "WARNING:absl:Found untraced functions such as re_lu_layer_call_fn, re_lu_layer_call_and_return_conditional_losses while saving (showing 2 of 2). These functions will not be directly callable after loading.\n",
            "\u001b[34m\u001b[1mwandb\u001b[0m: Adding directory to artifact (/content/wandb/run-20221209_133927-1y8vhjwe/files/model-best)... Done. 0.0s\n"
          ]
        },
        {
          "output_type": "stream",
          "name": "stdout",
          "text": [
            "\b\b\b\b\b\b\b\b\b\b\b\b\b\b\b\b\b\b\b\b\b\b\b\b\b\b\b\b\b\b\b\b\b\b\b\b\b\b\b\b\b\b\b\b\b\b\b\b\b\b\b\b\b\b\b\b\b\b\b\b\b\b\b\b\r1/1 [==============================] - 2s 2s/step - loss: 1935.8304 - val_loss: 6600.7720\n",
            "Epoch 36/1000\n",
            "1/1 [==============================] - ETA: 0s - loss: 1861.2495"
          ]
        },
        {
          "output_type": "stream",
          "name": "stderr",
          "text": [
            "WARNING:absl:Found untraced functions such as re_lu_layer_call_fn, re_lu_layer_call_and_return_conditional_losses while saving (showing 2 of 2). These functions will not be directly callable after loading.\n",
            "\u001b[34m\u001b[1mwandb\u001b[0m: Adding directory to artifact (/content/wandb/run-20221209_133927-1y8vhjwe/files/model-best)... Done. 0.0s\n"
          ]
        },
        {
          "output_type": "stream",
          "name": "stdout",
          "text": [
            "\b\b\b\b\b\b\b\b\b\b\b\b\b\b\b\b\b\b\b\b\b\b\b\b\b\b\b\b\b\b\b\b\b\b\b\b\b\b\b\b\b\b\b\b\b\b\b\b\b\b\b\b\b\b\b\b\b\b\b\b\b\b\b\b\r1/1 [==============================] - 2s 2s/step - loss: 1861.2495 - val_loss: 6309.3657\n",
            "Epoch 37/1000\n",
            "1/1 [==============================] - ETA: 0s - loss: 1784.9404"
          ]
        },
        {
          "output_type": "stream",
          "name": "stderr",
          "text": [
            "WARNING:absl:Found untraced functions such as re_lu_layer_call_fn, re_lu_layer_call_and_return_conditional_losses while saving (showing 2 of 2). These functions will not be directly callable after loading.\n",
            "\u001b[34m\u001b[1mwandb\u001b[0m: Adding directory to artifact (/content/wandb/run-20221209_133927-1y8vhjwe/files/model-best)... Done. 0.0s\n"
          ]
        },
        {
          "output_type": "stream",
          "name": "stdout",
          "text": [
            "\b\b\b\b\b\b\b\b\b\b\b\b\b\b\b\b\b\b\b\b\b\b\b\b\b\b\b\b\b\b\b\b\b\b\b\b\b\b\b\b\b\b\b\b\b\b\b\b\b\b\b\b\b\b\b\b\b\b\b\b\b\b\b\b\r1/1 [==============================] - 2s 2s/step - loss: 1784.9404 - val_loss: 6016.3354\n",
            "Epoch 38/1000\n",
            "1/1 [==============================] - ETA: 0s - loss: 1706.9816"
          ]
        },
        {
          "output_type": "stream",
          "name": "stderr",
          "text": [
            "WARNING:absl:Found untraced functions such as re_lu_layer_call_fn, re_lu_layer_call_and_return_conditional_losses while saving (showing 2 of 2). These functions will not be directly callable after loading.\n",
            "\u001b[34m\u001b[1mwandb\u001b[0m: Adding directory to artifact (/content/wandb/run-20221209_133927-1y8vhjwe/files/model-best)... Done. 0.0s\n"
          ]
        },
        {
          "output_type": "stream",
          "name": "stdout",
          "text": [
            "\b\b\b\b\b\b\b\b\b\b\b\b\b\b\b\b\b\b\b\b\b\b\b\b\b\b\b\b\b\b\b\b\b\b\b\b\b\b\b\b\b\b\b\b\b\b\b\b\b\b\b\b\b\b\b\b\b\b\b\b\b\b\b\b\r1/1 [==============================] - 2s 2s/step - loss: 1706.9816 - val_loss: 5721.2852\n",
            "Epoch 39/1000\n",
            "1/1 [==============================] - ETA: 0s - loss: 1627.4965"
          ]
        },
        {
          "output_type": "stream",
          "name": "stderr",
          "text": [
            "WARNING:absl:Found untraced functions such as re_lu_layer_call_fn, re_lu_layer_call_and_return_conditional_losses while saving (showing 2 of 2). These functions will not be directly callable after loading.\n",
            "\u001b[34m\u001b[1mwandb\u001b[0m: Adding directory to artifact (/content/wandb/run-20221209_133927-1y8vhjwe/files/model-best)... Done. 0.0s\n"
          ]
        },
        {
          "output_type": "stream",
          "name": "stdout",
          "text": [
            "\b\b\b\b\b\b\b\b\b\b\b\b\b\b\b\b\b\b\b\b\b\b\b\b\b\b\b\b\b\b\b\b\b\b\b\b\b\b\b\b\b\b\b\b\b\b\b\b\b\b\b\b\b\b\b\b\b\b\b\b\b\b\b\b\r1/1 [==============================] - 2s 2s/step - loss: 1627.4965 - val_loss: 5423.5767\n",
            "Epoch 40/1000\n",
            "1/1 [==============================] - ETA: 0s - loss: 1546.3395"
          ]
        },
        {
          "output_type": "stream",
          "name": "stderr",
          "text": [
            "WARNING:absl:Found untraced functions such as re_lu_layer_call_fn, re_lu_layer_call_and_return_conditional_losses while saving (showing 2 of 2). These functions will not be directly callable after loading.\n",
            "\u001b[34m\u001b[1mwandb\u001b[0m: Adding directory to artifact (/content/wandb/run-20221209_133927-1y8vhjwe/files/model-best)... Done. 0.0s\n"
          ]
        },
        {
          "output_type": "stream",
          "name": "stdout",
          "text": [
            "\b\b\b\b\b\b\b\b\b\b\b\b\b\b\b\b\b\b\b\b\b\b\b\b\b\b\b\b\b\b\b\b\b\b\b\b\b\b\b\b\b\b\b\b\b\b\b\b\b\b\b\b\b\b\b\b\b\b\b\b\b\b\b\b\r1/1 [==============================] - 2s 2s/step - loss: 1546.3395 - val_loss: 5121.0586\n",
            "Epoch 41/1000\n",
            "1/1 [==============================] - ETA: 0s - loss: 1463.5785"
          ]
        },
        {
          "output_type": "stream",
          "name": "stderr",
          "text": [
            "WARNING:absl:Found untraced functions such as re_lu_layer_call_fn, re_lu_layer_call_and_return_conditional_losses while saving (showing 2 of 2). These functions will not be directly callable after loading.\n",
            "\u001b[34m\u001b[1mwandb\u001b[0m: Adding directory to artifact (/content/wandb/run-20221209_133927-1y8vhjwe/files/model-best)... Done. 0.0s\n"
          ]
        },
        {
          "output_type": "stream",
          "name": "stdout",
          "text": [
            "\b\b\b\b\b\b\b\b\b\b\b\b\b\b\b\b\b\b\b\b\b\b\b\b\b\b\b\b\b\b\b\b\b\b\b\b\b\b\b\b\b\b\b\b\b\b\b\b\b\b\b\b\b\b\b\b\b\b\b\b\b\b\b\b\r1/1 [==============================] - 2s 2s/step - loss: 1463.5785 - val_loss: 4812.0806\n",
            "Epoch 42/1000\n",
            "1/1 [==============================] - ETA: 0s - loss: 1379.2623"
          ]
        },
        {
          "output_type": "stream",
          "name": "stderr",
          "text": [
            "WARNING:absl:Found untraced functions such as re_lu_layer_call_fn, re_lu_layer_call_and_return_conditional_losses while saving (showing 2 of 2). These functions will not be directly callable after loading.\n",
            "\u001b[34m\u001b[1mwandb\u001b[0m: Adding directory to artifact (/content/wandb/run-20221209_133927-1y8vhjwe/files/model-best)... Done. 0.0s\n"
          ]
        },
        {
          "output_type": "stream",
          "name": "stdout",
          "text": [
            "\b\b\b\b\b\b\b\b\b\b\b\b\b\b\b\b\b\b\b\b\b\b\b\b\b\b\b\b\b\b\b\b\b\b\b\b\b\b\b\b\b\b\b\b\b\b\b\b\b\b\b\b\b\b\b\b\b\b\b\b\b\b\b\b\r1/1 [==============================] - 2s 2s/step - loss: 1379.2623 - val_loss: 4495.2349\n",
            "Epoch 43/1000\n",
            "1/1 [==============================] - ETA: 0s - loss: 1293.2817"
          ]
        },
        {
          "output_type": "stream",
          "name": "stderr",
          "text": [
            "WARNING:absl:Found untraced functions such as re_lu_layer_call_fn, re_lu_layer_call_and_return_conditional_losses while saving (showing 2 of 2). These functions will not be directly callable after loading.\n",
            "\u001b[34m\u001b[1mwandb\u001b[0m: Adding directory to artifact (/content/wandb/run-20221209_133927-1y8vhjwe/files/model-best)... Done. 0.0s\n"
          ]
        },
        {
          "output_type": "stream",
          "name": "stdout",
          "text": [
            "\b\b\b\b\b\b\b\b\b\b\b\b\b\b\b\b\b\b\b\b\b\b\b\b\b\b\b\b\b\b\b\b\b\b\b\b\b\b\b\b\b\b\b\b\b\b\b\b\b\b\b\b\b\b\b\b\b\b\b\b\b\b\b\b\r1/1 [==============================] - 2s 2s/step - loss: 1293.2817 - val_loss: 4170.4746\n",
            "Epoch 44/1000\n",
            "1/1 [==============================] - ETA: 0s - loss: 1205.6613"
          ]
        },
        {
          "output_type": "stream",
          "name": "stderr",
          "text": [
            "WARNING:absl:Found untraced functions such as re_lu_layer_call_fn, re_lu_layer_call_and_return_conditional_losses while saving (showing 2 of 2). These functions will not be directly callable after loading.\n",
            "\u001b[34m\u001b[1mwandb\u001b[0m: Adding directory to artifact (/content/wandb/run-20221209_133927-1y8vhjwe/files/model-best)... Done. 0.0s\n"
          ]
        },
        {
          "output_type": "stream",
          "name": "stdout",
          "text": [
            "\b\b\b\b\b\b\b\b\b\b\b\b\b\b\b\b\b\b\b\b\b\b\b\b\b\b\b\b\b\b\b\b\b\b\b\b\b\b\b\b\b\b\b\b\b\b\b\b\b\b\b\b\b\b\b\b\b\b\b\b\b\b\b\b\r1/1 [==============================] - 2s 2s/step - loss: 1205.6613 - val_loss: 3836.4954\n",
            "Epoch 45/1000\n",
            "1/1 [==============================] - ETA: 0s - loss: 1116.5045"
          ]
        },
        {
          "output_type": "stream",
          "name": "stderr",
          "text": [
            "WARNING:absl:Found untraced functions such as re_lu_layer_call_fn, re_lu_layer_call_and_return_conditional_losses while saving (showing 2 of 2). These functions will not be directly callable after loading.\n",
            "\u001b[34m\u001b[1mwandb\u001b[0m: Adding directory to artifact (/content/wandb/run-20221209_133927-1y8vhjwe/files/model-best)... Done. 0.0s\n"
          ]
        },
        {
          "output_type": "stream",
          "name": "stdout",
          "text": [
            "\b\b\b\b\b\b\b\b\b\b\b\b\b\b\b\b\b\b\b\b\b\b\b\b\b\b\b\b\b\b\b\b\b\b\b\b\b\b\b\b\b\b\b\b\b\b\b\b\b\b\b\b\b\b\b\b\b\b\b\b\b\b\b\b\r1/1 [==============================] - 2s 2s/step - loss: 1116.5045 - val_loss: 3493.8643\n",
            "Epoch 46/1000\n",
            "1/1 [==============================] - ETA: 0s - loss: 1026.0217"
          ]
        },
        {
          "output_type": "stream",
          "name": "stderr",
          "text": [
            "WARNING:absl:Found untraced functions such as re_lu_layer_call_fn, re_lu_layer_call_and_return_conditional_losses while saving (showing 2 of 2). These functions will not be directly callable after loading.\n",
            "\u001b[34m\u001b[1mwandb\u001b[0m: Adding directory to artifact (/content/wandb/run-20221209_133927-1y8vhjwe/files/model-best)... Done. 0.0s\n"
          ]
        },
        {
          "output_type": "stream",
          "name": "stdout",
          "text": [
            "\b\b\b\b\b\b\b\b\b\b\b\b\b\b\b\b\b\b\b\b\b\b\b\b\b\b\b\b\b\b\b\b\b\b\b\b\b\b\b\b\b\b\b\b\b\b\b\b\b\b\b\b\b\b\b\b\b\b\b\b\b\b\b\b\r1/1 [==============================] - 2s 2s/step - loss: 1026.0217 - val_loss: 3143.6035\n",
            "Epoch 47/1000\n",
            "1/1 [==============================] - ETA: 0s - loss: 934.6025"
          ]
        },
        {
          "output_type": "stream",
          "name": "stderr",
          "text": [
            "WARNING:absl:Found untraced functions such as re_lu_layer_call_fn, re_lu_layer_call_and_return_conditional_losses while saving (showing 2 of 2). These functions will not be directly callable after loading.\n",
            "\u001b[34m\u001b[1mwandb\u001b[0m: Adding directory to artifact (/content/wandb/run-20221209_133927-1y8vhjwe/files/model-best)... Done. 0.0s\n"
          ]
        },
        {
          "output_type": "stream",
          "name": "stdout",
          "text": [
            "\b\b\b\b\b\b\b\b\b\b\b\b\b\b\b\b\b\b\b\b\b\b\b\b\b\b\b\b\b\b\b\b\b\b\b\b\b\b\b\b\b\b\b\b\b\b\b\b\b\b\b\b\b\b\b\b\b\b\b\b\b\b\b\r1/1 [==============================] - 2s 2s/step - loss: 934.6025 - val_loss: 2788.3040\n",
            "Epoch 48/1000\n",
            "1/1 [==============================] - ETA: 0s - loss: 842.8767"
          ]
        },
        {
          "output_type": "stream",
          "name": "stderr",
          "text": [
            "WARNING:absl:Found untraced functions such as re_lu_layer_call_fn, re_lu_layer_call_and_return_conditional_losses while saving (showing 2 of 2). These functions will not be directly callable after loading.\n",
            "\u001b[34m\u001b[1mwandb\u001b[0m: Adding directory to artifact (/content/wandb/run-20221209_133927-1y8vhjwe/files/model-best)... Done. 0.0s\n"
          ]
        },
        {
          "output_type": "stream",
          "name": "stdout",
          "text": [
            "\b\b\b\b\b\b\b\b\b\b\b\b\b\b\b\b\b\b\b\b\b\b\b\b\b\b\b\b\b\b\b\b\b\b\b\b\b\b\b\b\b\b\b\b\b\b\b\b\b\b\b\b\b\b\b\b\b\b\b\b\b\b\b\r1/1 [==============================] - 2s 2s/step - loss: 842.8767 - val_loss: 2434.0234\n",
            "Epoch 49/1000\n",
            "1/1 [==============================] - ETA: 0s - loss: 751.7947"
          ]
        },
        {
          "output_type": "stream",
          "name": "stderr",
          "text": [
            "WARNING:absl:Found untraced functions such as re_lu_layer_call_fn, re_lu_layer_call_and_return_conditional_losses while saving (showing 2 of 2). These functions will not be directly callable after loading.\n",
            "\u001b[34m\u001b[1mwandb\u001b[0m: Adding directory to artifact (/content/wandb/run-20221209_133927-1y8vhjwe/files/model-best)... Done. 0.0s\n"
          ]
        },
        {
          "output_type": "stream",
          "name": "stdout",
          "text": [
            "\b\b\b\b\b\b\b\b\b\b\b\b\b\b\b\b\b\b\b\b\b\b\b\b\b\b\b\b\b\b\b\b\b\b\b\b\b\b\b\b\b\b\b\b\b\b\b\b\b\b\b\b\b\b\b\b\b\b\b\b\b\b\b\r1/1 [==============================] - 2s 2s/step - loss: 751.7947 - val_loss: 2090.4502\n",
            "Epoch 50/1000\n",
            "1/1 [==============================] - ETA: 0s - loss: 662.6004"
          ]
        },
        {
          "output_type": "stream",
          "name": "stderr",
          "text": [
            "WARNING:absl:Found untraced functions such as re_lu_layer_call_fn, re_lu_layer_call_and_return_conditional_losses while saving (showing 2 of 2). These functions will not be directly callable after loading.\n",
            "\u001b[34m\u001b[1mwandb\u001b[0m: Adding directory to artifact (/content/wandb/run-20221209_133927-1y8vhjwe/files/model-best)... Done. 0.0s\n"
          ]
        },
        {
          "output_type": "stream",
          "name": "stdout",
          "text": [
            "\b\b\b\b\b\b\b\b\b\b\b\b\b\b\b\b\b\b\b\b\b\b\b\b\b\b\b\b\b\b\b\b\b\b\b\b\b\b\b\b\b\b\b\b\b\b\b\b\b\b\b\b\b\b\b\b\b\b\b\b\b\b\b\r1/1 [==============================] - 2s 2s/step - loss: 662.6004 - val_loss: 1767.8135\n",
            "Epoch 51/1000\n",
            "1/1 [==============================] - ETA: 0s - loss: 576.6460"
          ]
        },
        {
          "output_type": "stream",
          "name": "stderr",
          "text": [
            "WARNING:absl:Found untraced functions such as re_lu_layer_call_fn, re_lu_layer_call_and_return_conditional_losses while saving (showing 2 of 2). These functions will not be directly callable after loading.\n",
            "\u001b[34m\u001b[1mwandb\u001b[0m: Adding directory to artifact (/content/wandb/run-20221209_133927-1y8vhjwe/files/model-best)... Done. 0.0s\n"
          ]
        },
        {
          "output_type": "stream",
          "name": "stdout",
          "text": [
            "\b\b\b\b\b\b\b\b\b\b\b\b\b\b\b\b\b\b\b\b\b\b\b\b\b\b\b\b\b\b\b\b\b\b\b\b\b\b\b\b\b\b\b\b\b\b\b\b\b\b\b\b\b\b\b\b\b\b\b\b\b\b\b\r1/1 [==============================] - 1s 1s/step - loss: 576.6460 - val_loss: 1472.2543\n",
            "Epoch 52/1000\n",
            "1/1 [==============================] - ETA: 0s - loss: 495.1625"
          ]
        },
        {
          "output_type": "stream",
          "name": "stderr",
          "text": [
            "WARNING:absl:Found untraced functions such as re_lu_layer_call_fn, re_lu_layer_call_and_return_conditional_losses while saving (showing 2 of 2). These functions will not be directly callable after loading.\n",
            "\u001b[34m\u001b[1mwandb\u001b[0m: Adding directory to artifact (/content/wandb/run-20221209_133927-1y8vhjwe/files/model-best)... Done. 0.0s\n"
          ]
        },
        {
          "output_type": "stream",
          "name": "stdout",
          "text": [
            "\b\b\b\b\b\b\b\b\b\b\b\b\b\b\b\b\b\b\b\b\b\b\b\b\b\b\b\b\b\b\b\b\b\b\b\b\b\b\b\b\b\b\b\b\b\b\b\b\b\b\b\b\b\b\b\b\b\b\b\b\b\b\b\r1/1 [==============================] - 2s 2s/step - loss: 495.1625 - val_loss: 1204.8414\n",
            "Epoch 53/1000\n",
            "1/1 [==============================] - ETA: 0s - loss: 419.1652"
          ]
        },
        {
          "output_type": "stream",
          "name": "stderr",
          "text": [
            "WARNING:absl:Found untraced functions such as re_lu_layer_call_fn, re_lu_layer_call_and_return_conditional_losses while saving (showing 2 of 2). These functions will not be directly callable after loading.\n",
            "\u001b[34m\u001b[1mwandb\u001b[0m: Adding directory to artifact (/content/wandb/run-20221209_133927-1y8vhjwe/files/model-best)... Done. 0.0s\n"
          ]
        },
        {
          "output_type": "stream",
          "name": "stdout",
          "text": [
            "\b\b\b\b\b\b\b\b\b\b\b\b\b\b\b\b\b\b\b\b\b\b\b\b\b\b\b\b\b\b\b\b\b\b\b\b\b\b\b\b\b\b\b\b\b\b\b\b\b\b\b\b\b\b\b\b\b\b\b\b\b\b\b\r1/1 [==============================] - 2s 2s/step - loss: 419.1652 - val_loss: 964.9995\n",
            "Epoch 54/1000\n",
            "1/1 [==============================] - ETA: 0s - loss: 349.2045"
          ]
        },
        {
          "output_type": "stream",
          "name": "stderr",
          "text": [
            "WARNING:absl:Found untraced functions such as re_lu_layer_call_fn, re_lu_layer_call_and_return_conditional_losses while saving (showing 2 of 2). These functions will not be directly callable after loading.\n",
            "\u001b[34m\u001b[1mwandb\u001b[0m: Adding directory to artifact (/content/wandb/run-20221209_133927-1y8vhjwe/files/model-best)... Done. 0.0s\n"
          ]
        },
        {
          "output_type": "stream",
          "name": "stdout",
          "text": [
            "\b\b\b\b\b\b\b\b\b\b\b\b\b\b\b\b\b\b\b\b\b\b\b\b\b\b\b\b\b\b\b\b\b\b\b\b\b\b\b\b\b\b\b\b\b\b\b\b\b\b\b\b\b\b\b\b\b\b\b\b\b\b\b\r1/1 [==============================] - 2s 2s/step - loss: 349.2045 - val_loss: 751.0520\n",
            "Epoch 55/1000\n",
            "1/1 [==============================] - ETA: 0s - loss: 285.5762"
          ]
        },
        {
          "output_type": "stream",
          "name": "stderr",
          "text": [
            "WARNING:absl:Found untraced functions such as re_lu_layer_call_fn, re_lu_layer_call_and_return_conditional_losses while saving (showing 2 of 2). These functions will not be directly callable after loading.\n",
            "\u001b[34m\u001b[1mwandb\u001b[0m: Adding directory to artifact (/content/wandb/run-20221209_133927-1y8vhjwe/files/model-best)... Done. 0.0s\n"
          ]
        },
        {
          "output_type": "stream",
          "name": "stdout",
          "text": [
            "\b\b\b\b\b\b\b\b\b\b\b\b\b\b\b\b\b\b\b\b\b\b\b\b\b\b\b\b\b\b\b\b\b\b\b\b\b\b\b\b\b\b\b\b\b\b\b\b\b\b\b\b\b\b\b\b\b\b\b\b\b\b\b\r1/1 [==============================] - 2s 2s/step - loss: 285.5762 - val_loss: 562.3386\n",
            "Epoch 56/1000\n",
            "1/1 [==============================] - ETA: 0s - loss: 228.4739"
          ]
        },
        {
          "output_type": "stream",
          "name": "stderr",
          "text": [
            "WARNING:absl:Found untraced functions such as re_lu_layer_call_fn, re_lu_layer_call_and_return_conditional_losses while saving (showing 2 of 2). These functions will not be directly callable after loading.\n",
            "\u001b[34m\u001b[1mwandb\u001b[0m: Adding directory to artifact (/content/wandb/run-20221209_133927-1y8vhjwe/files/model-best)... Done. 0.0s\n"
          ]
        },
        {
          "output_type": "stream",
          "name": "stdout",
          "text": [
            "\b\b\b\b\b\b\b\b\b\b\b\b\b\b\b\b\b\b\b\b\b\b\b\b\b\b\b\b\b\b\b\b\b\b\b\b\b\b\b\b\b\b\b\b\b\b\b\b\b\b\b\b\b\b\b\b\b\b\b\b\b\b\b\r1/1 [==============================] - 2s 2s/step - loss: 228.4739 - val_loss: 399.2317\n",
            "Epoch 57/1000\n",
            "1/1 [==============================] - ETA: 0s - loss: 178.0613"
          ]
        },
        {
          "output_type": "stream",
          "name": "stderr",
          "text": [
            "WARNING:absl:Found untraced functions such as re_lu_layer_call_fn, re_lu_layer_call_and_return_conditional_losses while saving (showing 2 of 2). These functions will not be directly callable after loading.\n",
            "\u001b[34m\u001b[1mwandb\u001b[0m: Adding directory to artifact (/content/wandb/run-20221209_133927-1y8vhjwe/files/model-best)... Done. 0.0s\n"
          ]
        },
        {
          "output_type": "stream",
          "name": "stdout",
          "text": [
            "\b\b\b\b\b\b\b\b\b\b\b\b\b\b\b\b\b\b\b\b\b\b\b\b\b\b\b\b\b\b\b\b\b\b\b\b\b\b\b\b\b\b\b\b\b\b\b\b\b\b\b\b\b\b\b\b\b\b\b\b\b\b\b\r1/1 [==============================] - 2s 2s/step - loss: 178.0613 - val_loss: 262.7173\n",
            "Epoch 58/1000\n",
            "1/1 [==============================] - ETA: 0s - loss: 134.5395"
          ]
        },
        {
          "output_type": "stream",
          "name": "stderr",
          "text": [
            "WARNING:absl:Found untraced functions such as re_lu_layer_call_fn, re_lu_layer_call_and_return_conditional_losses while saving (showing 2 of 2). These functions will not be directly callable after loading.\n",
            "\u001b[34m\u001b[1mwandb\u001b[0m: Adding directory to artifact (/content/wandb/run-20221209_133927-1y8vhjwe/files/model-best)... Done. 0.0s\n"
          ]
        },
        {
          "output_type": "stream",
          "name": "stdout",
          "text": [
            "\b\b\b\b\b\b\b\b\b\b\b\b\b\b\b\b\b\b\b\b\b\b\b\b\b\b\b\b\b\b\b\b\b\b\b\b\b\b\b\b\b\b\b\b\b\b\b\b\b\b\b\b\b\b\b\b\b\b\b\b\b\b\b\r1/1 [==============================] - 2s 2s/step - loss: 134.5395 - val_loss: 154.0329\n",
            "Epoch 59/1000\n",
            "1/1 [==============================] - ETA: 0s - loss: 98.1304"
          ]
        },
        {
          "output_type": "stream",
          "name": "stderr",
          "text": [
            "WARNING:absl:Found untraced functions such as re_lu_layer_call_fn, re_lu_layer_call_and_return_conditional_losses while saving (showing 2 of 2). These functions will not be directly callable after loading.\n",
            "\u001b[34m\u001b[1mwandb\u001b[0m: Adding directory to artifact (/content/wandb/run-20221209_133927-1y8vhjwe/files/model-best)... Done. 0.0s\n"
          ]
        },
        {
          "output_type": "stream",
          "name": "stdout",
          "text": [
            "\b\b\b\b\b\b\b\b\b\b\b\b\b\b\b\b\b\b\b\b\b\b\b\b\b\b\b\b\b\b\b\b\b\b\b\b\b\b\b\b\b\b\b\b\b\b\b\b\b\b\b\b\b\b\b\b\b\b\b\b\b\b\r1/1 [==============================] - 2s 2s/step - loss: 98.1304 - val_loss: 74.0096\n",
            "Epoch 60/1000\n",
            "1/1 [==============================] - ETA: 0s - loss: 68.9780"
          ]
        },
        {
          "output_type": "stream",
          "name": "stderr",
          "text": [
            "WARNING:absl:Found untraced functions such as re_lu_layer_call_fn, re_lu_layer_call_and_return_conditional_losses while saving (showing 2 of 2). These functions will not be directly callable after loading.\n",
            "\u001b[34m\u001b[1mwandb\u001b[0m: Adding directory to artifact (/content/wandb/run-20221209_133927-1y8vhjwe/files/model-best)... Done. 0.0s\n"
          ]
        },
        {
          "output_type": "stream",
          "name": "stdout",
          "text": [
            "\b\b\b\b\b\b\b\b\b\b\b\b\b\b\b\b\b\b\b\b\b\b\b\b\b\b\b\b\b\b\b\b\b\b\b\b\b\b\b\b\b\b\b\b\b\b\b\b\b\b\b\b\b\b\b\b\b\b\b\b\b\b\r1/1 [==============================] - 2s 2s/step - loss: 68.9780 - val_loss: 23.1144\n",
            "Epoch 61/1000\n",
            "1/1 [==============================] - ETA: 0s - loss: 47.1061"
          ]
        },
        {
          "output_type": "stream",
          "name": "stderr",
          "text": [
            "WARNING:absl:Found untraced functions such as re_lu_layer_call_fn, re_lu_layer_call_and_return_conditional_losses while saving (showing 2 of 2). These functions will not be directly callable after loading.\n",
            "\u001b[34m\u001b[1mwandb\u001b[0m: Adding directory to artifact (/content/wandb/run-20221209_133927-1y8vhjwe/files/model-best)... Done. 0.0s\n"
          ]
        },
        {
          "output_type": "stream",
          "name": "stdout",
          "text": [
            "\b\b\b\b\b\b\b\b\b\b\b\b\b\b\b\b\b\b\b\b\b\b\b\b\b\b\b\b\b\b\b\b\b\b\b\b\b\b\b\b\b\b\b\b\b\b\b\b\b\b\b\b\b\b\b\b\b\b\b\b\b\b\r1/1 [==============================] - 2s 2s/step - loss: 47.1061 - val_loss: 1.1464\n",
            "Epoch 62/1000\n",
            "1/1 [==============================] - 0s 37ms/step - loss: 32.4593 - val_loss: 7.0054\n",
            "Epoch 63/1000\n",
            "1/1 [==============================] - 0s 33ms/step - loss: 24.7764 - val_loss: 38.2520\n",
            "Epoch 64/1000\n",
            "1/1 [==============================] - 0s 32ms/step - loss: 23.4942 - val_loss: 89.3025\n",
            "Epoch 65/1000\n",
            "1/1 [==============================] - 0s 32ms/step - loss: 27.5116 - val_loss: 150.3058\n",
            "Epoch 66/1000\n",
            "1/1 [==============================] - 0s 38ms/step - loss: 35.0148 - val_loss: 211.1160\n",
            "Epoch 67/1000\n",
            "1/1 [==============================] - 0s 32ms/step - loss: 43.9734 - val_loss: 264.1766\n",
            "Epoch 68/1000\n",
            "1/1 [==============================] - 0s 31ms/step - loss: 52.6628 - val_loss: 304.7182\n",
            "Epoch 69/1000\n",
            "1/1 [==============================] - 0s 30ms/step - loss: 59.8262 - val_loss: 330.6235\n",
            "Epoch 70/1000\n",
            "1/1 [==============================] - 0s 36ms/step - loss: 64.7185 - val_loss: 342.0352\n",
            "Epoch 71/1000\n",
            "1/1 [==============================] - 0s 32ms/step - loss: 67.0743 - val_loss: 340.3816\n",
            "Epoch 72/1000\n",
            "1/1 [==============================] - 0s 37ms/step - loss: 66.9959 - val_loss: 327.7097\n",
            "Epoch 73/1000\n",
            "1/1 [==============================] - 0s 36ms/step - loss: 64.8210 - val_loss: 306.2624\n",
            "Epoch 74/1000\n",
            "1/1 [==============================] - 0s 31ms/step - loss: 61.0075 - val_loss: 278.3457\n",
            "Epoch 75/1000\n",
            "1/1 [==============================] - 0s 42ms/step - loss: 56.0534 - val_loss: 246.2593\n",
            "Epoch 76/1000\n",
            "1/1 [==============================] - 0s 30ms/step - loss: 50.4483 - val_loss: 212.1936\n",
            "Epoch 77/1000\n",
            "1/1 [==============================] - 0s 30ms/step - loss: 44.6387 - val_loss: 178.0976\n",
            "Epoch 78/1000\n",
            "1/1 [==============================] - 0s 36ms/step - loss: 39.0026 - val_loss: 145.5714\n",
            "Epoch 79/1000\n",
            "1/1 [==============================] - 0s 32ms/step - loss: 33.8333 - val_loss: 115.8036\n",
            "Epoch 80/1000\n",
            "1/1 [==============================] - 0s 36ms/step - loss: 29.3317 - val_loss: 89.5604\n",
            "Epoch 81/1000\n",
            "1/1 [==============================] - 0s 36ms/step - loss: 25.6098 - val_loss: 67.2183\n",
            "Epoch 82/1000\n",
            "1/1 [==============================] - 0s 51ms/step - loss: 22.7009 - val_loss: 48.8320\n",
            "Epoch 83/1000\n",
            "1/1 [==============================] - 0s 31ms/step - loss: 20.5750 - val_loss: 34.2118\n",
            "Epoch 84/1000\n",
            "1/1 [==============================] - 0s 32ms/step - loss: 19.1561 - val_loss: 22.9977\n",
            "Epoch 85/1000\n",
            "1/1 [==============================] - 0s 31ms/step - loss: 18.3369 - val_loss: 14.7280\n",
            "Epoch 86/1000\n",
            "1/1 [==============================] - 0s 28ms/step - loss: 17.9935 - val_loss: 8.8950\n",
            "Epoch 87/1000\n",
            "1/1 [==============================] - 0s 51ms/step - loss: 17.9967 - val_loss: 4.9916\n",
            "Epoch 88/1000\n",
            "1/1 [==============================] - 0s 51ms/step - loss: 18.2212 - val_loss: 2.5441\n",
            "Epoch 89/1000\n",
            "1/1 [==============================] - ETA: 0s - loss: 18.5530"
          ]
        },
        {
          "output_type": "stream",
          "name": "stderr",
          "text": [
            "WARNING:absl:Found untraced functions such as re_lu_layer_call_fn, re_lu_layer_call_and_return_conditional_losses while saving (showing 2 of 2). These functions will not be directly callable after loading.\n",
            "\u001b[34m\u001b[1mwandb\u001b[0m: Adding directory to artifact (/content/wandb/run-20221209_133927-1y8vhjwe/files/model-best)... Done. 0.0s\n"
          ]
        },
        {
          "output_type": "stream",
          "name": "stdout",
          "text": [
            "\b\b\b\b\b\b\b\b\b\b\b\b\b\b\b\b\b\b\b\b\b\b\b\b\b\b\b\b\b\b\b\b\b\b\b\b\b\b\b\b\b\b\b\b\b\b\b\b\b\b\b\b\b\b\b\b\b\b\b\b\b\b\r1/1 [==============================] - 2s 2s/step - loss: 18.5530 - val_loss: 1.1345\n",
            "Epoch 90/1000\n",
            "1/1 [==============================] - ETA: 0s - loss: 18.8942"
          ]
        },
        {
          "output_type": "stream",
          "name": "stderr",
          "text": [
            "WARNING:absl:Found untraced functions such as re_lu_layer_call_fn, re_lu_layer_call_and_return_conditional_losses while saving (showing 2 of 2). These functions will not be directly callable after loading.\n",
            "\u001b[34m\u001b[1mwandb\u001b[0m: Adding directory to artifact (/content/wandb/run-20221209_133927-1y8vhjwe/files/model-best)... Done. 0.0s\n"
          ]
        },
        {
          "output_type": "stream",
          "name": "stdout",
          "text": [
            "\b\b\b\b\b\b\b\b\b\b\b\b\b\b\b\b\b\b\b\b\b\b\b\b\b\b\b\b\b\b\b\b\b\b\b\b\b\b\b\b\b\b\b\b\b\b\b\b\b\b\b\b\b\b\b\b\b\b\b\b\b\b\r1/1 [==============================] - 2s 2s/step - loss: 18.8942 - val_loss: 0.4137\n",
            "Epoch 91/1000\n",
            "1/1 [==============================] - ETA: 0s - loss: 19.1662"
          ]
        },
        {
          "output_type": "stream",
          "name": "stderr",
          "text": [
            "WARNING:absl:Found untraced functions such as re_lu_layer_call_fn, re_lu_layer_call_and_return_conditional_losses while saving (showing 2 of 2). These functions will not be directly callable after loading.\n",
            "\u001b[34m\u001b[1mwandb\u001b[0m: Adding directory to artifact (/content/wandb/run-20221209_133927-1y8vhjwe/files/model-best)... Done. 0.0s\n"
          ]
        },
        {
          "output_type": "stream",
          "name": "stdout",
          "text": [
            "\b\b\b\b\b\b\b\b\b\b\b\b\b\b\b\b\b\b\b\b\b\b\b\b\b\b\b\b\b\b\b\b\b\b\b\b\b\b\b\b\b\b\b\b\b\b\b\b\b\b\b\b\b\b\b\b\b\b\b\b\b\b\r1/1 [==============================] - 2s 2s/step - loss: 19.1662 - val_loss: 0.1076\n",
            "Epoch 92/1000\n",
            "1/1 [==============================] - ETA: 0s - loss: 19.3113"
          ]
        },
        {
          "output_type": "stream",
          "name": "stderr",
          "text": [
            "WARNING:absl:Found untraced functions such as re_lu_layer_call_fn, re_lu_layer_call_and_return_conditional_losses while saving (showing 2 of 2). These functions will not be directly callable after loading.\n",
            "\u001b[34m\u001b[1mwandb\u001b[0m: Adding directory to artifact (/content/wandb/run-20221209_133927-1y8vhjwe/files/model-best)... Done. 0.0s\n"
          ]
        },
        {
          "output_type": "stream",
          "name": "stdout",
          "text": [
            "\b\b\b\b\b\b\b\b\b\b\b\b\b\b\b\b\b\b\b\b\b\b\b\b\b\b\b\b\b\b\b\b\b\b\b\b\b\b\b\b\b\b\b\b\b\b\b\b\b\b\b\b\b\b\b\b\b\b\b\b\b\b\r1/1 [==============================] - 2s 2s/step - loss: 19.3113 - val_loss: 0.0161\n",
            "Epoch 93/1000\n",
            "1/1 [==============================] - ETA: 0s - loss: 19.2927"
          ]
        },
        {
          "output_type": "stream",
          "name": "stderr",
          "text": [
            "WARNING:absl:Found untraced functions such as re_lu_layer_call_fn, re_lu_layer_call_and_return_conditional_losses while saving (showing 2 of 2). These functions will not be directly callable after loading.\n",
            "\u001b[34m\u001b[1mwandb\u001b[0m: Adding directory to artifact (/content/wandb/run-20221209_133927-1y8vhjwe/files/model-best)... Done. 0.0s\n"
          ]
        },
        {
          "output_type": "stream",
          "name": "stdout",
          "text": [
            "\b\b\b\b\b\b\b\b\b\b\b\b\b\b\b\b\b\b\b\b\b\b\b\b\b\b\b\b\b\b\b\b\b\b\b\b\b\b\b\b\b\b\b\b\b\b\b\b\b\b\b\b\b\b\b\b\b\b\b\b\b\b\r1/1 [==============================] - 2s 2s/step - loss: 19.2927 - val_loss: 0.0072\n",
            "Epoch 94/1000\n",
            "1/1 [==============================] - 0s 35ms/step - loss: 19.0924 - val_loss: 0.0091\n",
            "Epoch 95/1000\n",
            "1/1 [==============================] - ETA: 0s - loss: 18.7101"
          ]
        },
        {
          "output_type": "stream",
          "name": "stderr",
          "text": [
            "WARNING:absl:Found untraced functions such as re_lu_layer_call_fn, re_lu_layer_call_and_return_conditional_losses while saving (showing 2 of 2). These functions will not be directly callable after loading.\n",
            "\u001b[34m\u001b[1mwandb\u001b[0m: Adding directory to artifact (/content/wandb/run-20221209_133927-1y8vhjwe/files/model-best)... Done. 0.0s\n"
          ]
        },
        {
          "output_type": "stream",
          "name": "stdout",
          "text": [
            "\b\b\b\b\b\b\b\b\b\b\b\b\b\b\b\b\b\b\b\b\b\b\b\b\b\b\b\b\b\b\b\b\b\b\b\b\b\b\b\b\b\b\b\b\b\b\b\b\b\b\b\b\b\b\b\b\b\b\b\b\b\b\r1/1 [==============================] - 2s 2s/step - loss: 18.7101 - val_loss: 0.0030\n",
            "Epoch 96/1000\n",
            "1/1 [==============================] - 0s 64ms/step - loss: 18.1613 - val_loss: 0.0223\n",
            "Epoch 97/1000\n",
            "1/1 [==============================] - 0s 34ms/step - loss: 17.4782 - val_loss: 0.1684\n",
            "Epoch 98/1000\n",
            "1/1 [==============================] - 0s 34ms/step - loss: 16.7126 - val_loss: 0.6607\n",
            "Epoch 99/1000\n",
            "1/1 [==============================] - 0s 35ms/step - loss: 15.9513 - val_loss: 1.9360\n",
            "Epoch 100/1000\n",
            "1/1 [==============================] - 0s 50ms/step - loss: 15.3073 - val_loss: 4.5855\n",
            "Epoch 101/1000\n",
            "1/1 [==============================] - 0s 38ms/step - loss: 14.9083 - val_loss: 8.3745\n",
            "Epoch 102/1000\n",
            "1/1 [==============================] - 0s 32ms/step - loss: 14.7960 - val_loss: 11.0540\n",
            "Epoch 103/1000\n",
            "1/1 [==============================] - 0s 36ms/step - loss: 14.7211 - val_loss: 11.5554\n",
            "Epoch 104/1000\n",
            "1/1 [==============================] - 0s 33ms/step - loss: 14.4912 - val_loss: 10.3915\n",
            "Epoch 105/1000\n",
            "1/1 [==============================] - 0s 37ms/step - loss: 14.1060 - val_loss: 8.4646\n",
            "Epoch 106/1000\n",
            "1/1 [==============================] - 0s 34ms/step - loss: 13.6395 - val_loss: 6.5169\n",
            "Epoch 107/1000\n",
            "1/1 [==============================] - 0s 32ms/step - loss: 13.1722 - val_loss: 4.9384\n",
            "Epoch 108/1000\n",
            "1/1 [==============================] - 0s 32ms/step - loss: 12.7563 - val_loss: 3.8134\n",
            "Epoch 109/1000\n",
            "1/1 [==============================] - 0s 37ms/step - loss: 12.4073 - val_loss: 3.0701\n",
            "Epoch 110/1000\n",
            "1/1 [==============================] - 0s 30ms/step - loss: 12.1148 - val_loss: 2.6023\n",
            "Epoch 111/1000\n",
            "1/1 [==============================] - 0s 32ms/step - loss: 11.8585 - val_loss: 2.3218\n",
            "Epoch 112/1000\n",
            "1/1 [==============================] - 0s 33ms/step - loss: 11.6217 - val_loss: 2.1686\n",
            "Epoch 113/1000\n",
            "1/1 [==============================] - 0s 38ms/step - loss: 11.3900 - val_loss: 2.1041\n",
            "Epoch 114/1000\n",
            "1/1 [==============================] - 0s 43ms/step - loss: 11.1563 - val_loss: 2.1038\n",
            "Epoch 115/1000\n",
            "1/1 [==============================] - 0s 34ms/step - loss: 10.9181 - val_loss: 2.1514\n",
            "Epoch 116/1000\n",
            "1/1 [==============================] - 0s 31ms/step - loss: 10.6759 - val_loss: 2.2349\n",
            "Epoch 117/1000\n",
            "1/1 [==============================] - 0s 53ms/step - loss: 10.4316 - val_loss: 2.3441\n",
            "Epoch 118/1000\n",
            "1/1 [==============================] - 0s 39ms/step - loss: 10.1879 - val_loss: 2.4697\n",
            "Epoch 119/1000\n",
            "1/1 [==============================] - 0s 30ms/step - loss: 9.9477 - val_loss: 2.6022\n",
            "Epoch 120/1000\n",
            "1/1 [==============================] - 0s 45ms/step - loss: 9.7134 - val_loss: 2.7317\n",
            "Epoch 121/1000\n",
            "1/1 [==============================] - 0s 33ms/step - loss: 9.4871 - val_loss: 2.8477\n",
            "Epoch 122/1000\n",
            "1/1 [==============================] - 0s 36ms/step - loss: 9.2695 - val_loss: 2.9395\n",
            "Epoch 123/1000\n",
            "1/1 [==============================] - 0s 33ms/step - loss: 9.0608 - val_loss: 2.9971\n",
            "Epoch 124/1000\n",
            "1/1 [==============================] - 0s 37ms/step - loss: 8.8599 - val_loss: 3.0112\n",
            "Epoch 125/1000\n",
            "1/1 [==============================] - 0s 39ms/step - loss: 8.6648 - val_loss: 2.9755\n",
            "Epoch 126/1000\n",
            "1/1 [==============================] - 0s 37ms/step - loss: 8.4734 - val_loss: 2.8865\n",
            "Epoch 127/1000\n",
            "1/1 [==============================] - 0s 33ms/step - loss: 8.2832 - val_loss: 2.7448\n",
            "Epoch 128/1000\n",
            "1/1 [==============================] - 0s 39ms/step - loss: 8.0923 - val_loss: 2.5557\n",
            "Epoch 129/1000\n",
            "1/1 [==============================] - 0s 32ms/step - loss: 7.8994 - val_loss: 2.3279\n",
            "Epoch 130/1000\n",
            "1/1 [==============================] - 0s 32ms/step - loss: 7.7045 - val_loss: 2.0729\n",
            "Epoch 131/1000\n",
            "1/1 [==============================] - 0s 30ms/step - loss: 7.5084 - val_loss: 1.8038\n",
            "Epoch 132/1000\n",
            "1/1 [==============================] - 0s 36ms/step - loss: 7.3125 - val_loss: 1.5331\n",
            "Epoch 133/1000\n",
            "1/1 [==============================] - 0s 32ms/step - loss: 7.1186 - val_loss: 1.2723\n",
            "Epoch 134/1000\n",
            "1/1 [==============================] - 0s 55ms/step - loss: 6.9280 - val_loss: 1.0302\n",
            "Epoch 135/1000\n",
            "1/1 [==============================] - 0s 36ms/step - loss: 6.7420 - val_loss: 0.8132\n",
            "Epoch 136/1000\n",
            "1/1 [==============================] - 0s 31ms/step - loss: 6.5610 - val_loss: 0.6251\n",
            "Epoch 137/1000\n",
            "1/1 [==============================] - 0s 32ms/step - loss: 6.3849 - val_loss: 0.4671\n",
            "Epoch 138/1000\n",
            "1/1 [==============================] - 0s 34ms/step - loss: 6.2135 - val_loss: 0.3387\n",
            "Epoch 139/1000\n",
            "1/1 [==============================] - 0s 38ms/step - loss: 6.0462 - val_loss: 0.2376\n",
            "Epoch 140/1000\n",
            "1/1 [==============================] - 0s 42ms/step - loss: 5.8826 - val_loss: 0.1611\n",
            "Epoch 141/1000\n",
            "1/1 [==============================] - 0s 31ms/step - loss: 5.7222 - val_loss: 0.1057\n",
            "Epoch 142/1000\n",
            "1/1 [==============================] - 0s 30ms/step - loss: 5.5649 - val_loss: 0.0680\n",
            "Epoch 143/1000\n",
            "1/1 [==============================] - 0s 38ms/step - loss: 5.4115 - val_loss: 0.0449\n",
            "Epoch 144/1000\n",
            "1/1 [==============================] - 0s 40ms/step - loss: 5.2617 - val_loss: 0.0338\n",
            "Epoch 145/1000\n",
            "1/1 [==============================] - 0s 30ms/step - loss: 5.1162 - val_loss: 0.0328\n",
            "Epoch 146/1000\n",
            "1/1 [==============================] - 0s 30ms/step - loss: 4.9753 - val_loss: 0.0404\n",
            "Epoch 147/1000\n",
            "1/1 [==============================] - 0s 31ms/step - loss: 4.8395 - val_loss: 0.0562\n",
            "Epoch 148/1000\n",
            "1/1 [==============================] - 0s 38ms/step - loss: 4.7087 - val_loss: 0.0802\n",
            "Epoch 149/1000\n",
            "1/1 [==============================] - 0s 31ms/step - loss: 4.5829 - val_loss: 0.1129\n",
            "Epoch 150/1000\n",
            "1/1 [==============================] - 0s 31ms/step - loss: 4.4617 - val_loss: 0.1552\n",
            "Epoch 151/1000\n",
            "1/1 [==============================] - 0s 34ms/step - loss: 4.3446 - val_loss: 0.2082\n",
            "Epoch 152/1000\n",
            "1/1 [==============================] - 0s 38ms/step - loss: 4.2312 - val_loss: 0.2727\n",
            "Epoch 153/1000\n",
            "1/1 [==============================] - 0s 31ms/step - loss: 4.1212 - val_loss: 0.3490\n",
            "Epoch 154/1000\n",
            "1/1 [==============================] - 0s 32ms/step - loss: 4.0146 - val_loss: 0.4368\n",
            "Epoch 155/1000\n",
            "1/1 [==============================] - 0s 32ms/step - loss: 3.9115 - val_loss: 0.5350\n",
            "Epoch 156/1000\n",
            "1/1 [==============================] - 0s 41ms/step - loss: 3.8121 - val_loss: 0.6417\n",
            "Epoch 157/1000\n",
            "1/1 [==============================] - 0s 37ms/step - loss: 3.7165 - val_loss: 0.7541\n",
            "Epoch 158/1000\n",
            "1/1 [==============================] - 0s 38ms/step - loss: 3.6247 - val_loss: 0.8693\n",
            "Epoch 159/1000\n",
            "1/1 [==============================] - 0s 32ms/step - loss: 3.5367 - val_loss: 0.9842\n",
            "Epoch 160/1000\n",
            "1/1 [==============================] - 0s 53ms/step - loss: 3.4523 - val_loss: 1.0957\n",
            "Epoch 161/1000\n",
            "1/1 [==============================] - 0s 35ms/step - loss: 3.3711 - val_loss: 1.2014\n",
            "Epoch 162/1000\n",
            "1/1 [==============================] - 0s 30ms/step - loss: 3.2928 - val_loss: 1.2995\n",
            "Epoch 163/1000\n",
            "1/1 [==============================] - 0s 55ms/step - loss: 3.2173 - val_loss: 1.3888\n",
            "Epoch 164/1000\n",
            "1/1 [==============================] - 0s 34ms/step - loss: 3.1443 - val_loss: 1.4690\n",
            "Epoch 165/1000\n",
            "1/1 [==============================] - 0s 32ms/step - loss: 3.0738 - val_loss: 1.5401\n",
            "Epoch 166/1000\n",
            "1/1 [==============================] - 0s 41ms/step - loss: 3.0057 - val_loss: 1.6031\n",
            "Epoch 167/1000\n",
            "1/1 [==============================] - 0s 32ms/step - loss: 2.9399 - val_loss: 1.6589\n",
            "Epoch 168/1000\n",
            "1/1 [==============================] - 0s 31ms/step - loss: 2.8764 - val_loss: 1.7086\n",
            "Epoch 169/1000\n",
            "1/1 [==============================] - 0s 32ms/step - loss: 2.8151 - val_loss: 1.7534\n",
            "Epoch 170/1000\n",
            "1/1 [==============================] - 0s 34ms/step - loss: 2.7558 - val_loss: 1.7942\n",
            "Epoch 171/1000\n",
            "1/1 [==============================] - 0s 34ms/step - loss: 2.6984 - val_loss: 1.8316\n",
            "Epoch 172/1000\n",
            "1/1 [==============================] - 0s 38ms/step - loss: 2.6426 - val_loss: 1.8657\n",
            "Epoch 173/1000\n",
            "1/1 [==============================] - 0s 43ms/step - loss: 2.5883 - val_loss: 1.8966\n",
            "Epoch 174/1000\n",
            "1/1 [==============================] - 0s 40ms/step - loss: 2.5354 - val_loss: 1.9238\n",
            "Epoch 175/1000\n",
            "1/1 [==============================] - 0s 32ms/step - loss: 2.4839 - val_loss: 1.9468\n",
            "Epoch 176/1000\n",
            "1/1 [==============================] - 0s 31ms/step - loss: 2.4336 - val_loss: 1.9650\n",
            "Epoch 177/1000\n",
            "1/1 [==============================] - 0s 35ms/step - loss: 2.3846 - val_loss: 1.9776\n",
            "Epoch 178/1000\n",
            "1/1 [==============================] - 0s 38ms/step - loss: 2.3369 - val_loss: 1.9842\n",
            "Epoch 179/1000\n",
            "1/1 [==============================] - 0s 33ms/step - loss: 2.2903 - val_loss: 1.9843\n",
            "Epoch 180/1000\n",
            "1/1 [==============================] - 0s 36ms/step - loss: 2.2449 - val_loss: 1.9778\n",
            "Epoch 181/1000\n",
            "1/1 [==============================] - 0s 31ms/step - loss: 2.2005 - val_loss: 1.9646\n",
            "Epoch 182/1000\n",
            "1/1 [==============================] - 0s 37ms/step - loss: 2.1571 - val_loss: 1.9452\n",
            "Epoch 183/1000\n",
            "1/1 [==============================] - 0s 33ms/step - loss: 2.1148 - val_loss: 1.9200\n",
            "Epoch 184/1000\n",
            "1/1 [==============================] - 0s 34ms/step - loss: 2.0734 - val_loss: 1.8897\n",
            "Epoch 185/1000\n",
            "1/1 [==============================] - 0s 31ms/step - loss: 2.0329 - val_loss: 1.8552\n",
            "Epoch 186/1000\n",
            "1/1 [==============================] - 0s 30ms/step - loss: 1.9933 - val_loss: 1.8174\n",
            "Epoch 187/1000\n",
            "1/1 [==============================] - 0s 50ms/step - loss: 1.9546 - val_loss: 1.7770\n",
            "Epoch 188/1000\n",
            "1/1 [==============================] - 0s 46ms/step - loss: 1.9169 - val_loss: 1.7350\n",
            "Epoch 189/1000\n",
            "1/1 [==============================] - 0s 34ms/step - loss: 1.8800 - val_loss: 1.6922\n",
            "Epoch 190/1000\n",
            "1/1 [==============================] - 0s 31ms/step - loss: 1.8440 - val_loss: 1.6492\n",
            "Epoch 191/1000\n",
            "1/1 [==============================] - 0s 37ms/step - loss: 1.8088 - val_loss: 1.6066\n",
            "Epoch 192/1000\n",
            "1/1 [==============================] - 0s 35ms/step - loss: 1.7744 - val_loss: 1.5648\n",
            "Epoch 193/1000\n",
            "1/1 [==============================] - 0s 32ms/step - loss: 1.7408 - val_loss: 1.5240\n",
            "Epoch 194/1000\n",
            "1/1 [==============================] - 0s 43ms/step - loss: 1.7080 - val_loss: 1.4846\n",
            "Epoch 195/1000\n",
            "1/1 [==============================] - 0s 51ms/step - loss: 1.6759 - val_loss: 1.4465\n",
            "Epoch 196/1000\n",
            "1/1 [==============================] - 0s 30ms/step - loss: 1.6445 - val_loss: 1.4098\n",
            "Epoch 197/1000\n",
            "1/1 [==============================] - 0s 37ms/step - loss: 1.6139 - val_loss: 1.3744\n",
            "Epoch 198/1000\n",
            "1/1 [==============================] - 0s 37ms/step - loss: 1.5839 - val_loss: 1.3403\n",
            "Epoch 199/1000\n",
            "1/1 [==============================] - 0s 45ms/step - loss: 1.5546 - val_loss: 1.3074\n",
            "Epoch 200/1000\n",
            "1/1 [==============================] - 0s 33ms/step - loss: 1.5260 - val_loss: 1.2756\n",
            "Epoch 201/1000\n",
            "1/1 [==============================] - 0s 33ms/step - loss: 1.4981 - val_loss: 1.2448\n",
            "Epoch 202/1000\n",
            "1/1 [==============================] - 0s 38ms/step - loss: 1.4709 - val_loss: 1.2148\n",
            "Epoch 203/1000\n",
            "1/1 [==============================] - 0s 38ms/step - loss: 1.4442 - val_loss: 1.1858\n",
            "Epoch 204/1000\n",
            "1/1 [==============================] - 0s 40ms/step - loss: 1.4182 - val_loss: 1.1575\n",
            "Epoch 205/1000\n",
            "1/1 [==============================] - 0s 38ms/step - loss: 1.3927 - val_loss: 1.1301\n",
            "Epoch 206/1000\n",
            "1/1 [==============================] - 0s 31ms/step - loss: 1.3677 - val_loss: 1.1034\n",
            "Epoch 207/1000\n",
            "1/1 [==============================] - 0s 32ms/step - loss: 1.3433 - val_loss: 1.0776\n",
            "Epoch 208/1000\n",
            "1/1 [==============================] - 0s 40ms/step - loss: 1.3194 - val_loss: 1.0525\n",
            "Epoch 209/1000\n",
            "1/1 [==============================] - 0s 32ms/step - loss: 1.2960 - val_loss: 1.0284\n",
            "Epoch 210/1000\n",
            "1/1 [==============================] - 0s 35ms/step - loss: 1.2731 - val_loss: 1.0052\n",
            "Epoch 211/1000\n",
            "1/1 [==============================] - 0s 54ms/step - loss: 1.2506 - val_loss: 0.9829\n",
            "Epoch 212/1000\n",
            "1/1 [==============================] - 0s 51ms/step - loss: 1.2287 - val_loss: 0.9616\n",
            "Epoch 213/1000\n",
            "1/1 [==============================] - 0s 35ms/step - loss: 1.2071 - val_loss: 0.9411\n",
            "Epoch 214/1000\n",
            "1/1 [==============================] - 0s 37ms/step - loss: 1.1860 - val_loss: 0.9216\n",
            "Epoch 215/1000\n",
            "1/1 [==============================] - 0s 35ms/step - loss: 1.1654 - val_loss: 0.9030\n",
            "Epoch 216/1000\n",
            "1/1 [==============================] - 0s 48ms/step - loss: 1.1452 - val_loss: 0.8853\n",
            "Epoch 217/1000\n",
            "1/1 [==============================] - 0s 32ms/step - loss: 1.1253 - val_loss: 0.8684\n",
            "Epoch 218/1000\n",
            "1/1 [==============================] - 0s 34ms/step - loss: 1.1059 - val_loss: 0.8522\n",
            "Epoch 219/1000\n",
            "1/1 [==============================] - 0s 40ms/step - loss: 1.0869 - val_loss: 0.8368\n",
            "Epoch 220/1000\n",
            "1/1 [==============================] - 0s 32ms/step - loss: 1.0683 - val_loss: 0.8219\n",
            "Epoch 221/1000\n",
            "1/1 [==============================] - 0s 41ms/step - loss: 1.0500 - val_loss: 0.8076\n",
            "Epoch 222/1000\n",
            "1/1 [==============================] - 0s 32ms/step - loss: 1.0321 - val_loss: 0.7937\n",
            "Epoch 223/1000\n",
            "1/1 [==============================] - 0s 33ms/step - loss: 1.0146 - val_loss: 0.7802\n",
            "Epoch 224/1000\n",
            "1/1 [==============================] - 0s 31ms/step - loss: 0.9974 - val_loss: 0.7670\n",
            "Epoch 225/1000\n",
            "1/1 [==============================] - 0s 44ms/step - loss: 0.9805 - val_loss: 0.7540\n",
            "Epoch 226/1000\n",
            "1/1 [==============================] - 0s 35ms/step - loss: 0.9640 - val_loss: 0.7412\n",
            "Epoch 227/1000\n",
            "1/1 [==============================] - 0s 39ms/step - loss: 0.9478 - val_loss: 0.7286\n",
            "Epoch 228/1000\n",
            "1/1 [==============================] - 0s 34ms/step - loss: 0.9319 - val_loss: 0.7160\n",
            "Epoch 229/1000\n",
            "1/1 [==============================] - 0s 32ms/step - loss: 0.9163 - val_loss: 0.7036\n",
            "Epoch 230/1000\n",
            "1/1 [==============================] - 0s 39ms/step - loss: 0.9011 - val_loss: 0.6911\n",
            "Epoch 231/1000\n",
            "1/1 [==============================] - 0s 38ms/step - loss: 0.8861 - val_loss: 0.6787\n",
            "Epoch 232/1000\n",
            "1/1 [==============================] - 0s 41ms/step - loss: 0.8714 - val_loss: 0.6664\n",
            "Epoch 233/1000\n",
            "1/1 [==============================] - 0s 32ms/step - loss: 0.8571 - val_loss: 0.6541\n",
            "Epoch 234/1000\n",
            "1/1 [==============================] - 0s 31ms/step - loss: 0.8430 - val_loss: 0.6418\n",
            "Epoch 235/1000\n",
            "1/1 [==============================] - 0s 32ms/step - loss: 0.8291 - val_loss: 0.6296\n",
            "Epoch 236/1000\n",
            "1/1 [==============================] - 0s 40ms/step - loss: 0.8155 - val_loss: 0.6175\n",
            "Epoch 237/1000\n",
            "1/1 [==============================] - 0s 34ms/step - loss: 0.8022 - val_loss: 0.6055\n",
            "Epoch 238/1000\n",
            "1/1 [==============================] - 0s 41ms/step - loss: 0.7892 - val_loss: 0.5936\n",
            "Epoch 239/1000\n",
            "1/1 [==============================] - 0s 55ms/step - loss: 0.7764 - val_loss: 0.5819\n",
            "Epoch 240/1000\n",
            "1/1 [==============================] - 0s 44ms/step - loss: 0.7638 - val_loss: 0.5702\n",
            "Epoch 241/1000\n",
            "1/1 [==============================] - 0s 33ms/step - loss: 0.7515 - val_loss: 0.5587\n",
            "Epoch 242/1000\n",
            "1/1 [==============================] - 0s 37ms/step - loss: 0.7394 - val_loss: 0.5474\n",
            "Epoch 243/1000\n",
            "1/1 [==============================] - 0s 39ms/step - loss: 0.7275 - val_loss: 0.5362\n",
            "Epoch 244/1000\n",
            "1/1 [==============================] - 0s 33ms/step - loss: 0.7159 - val_loss: 0.5251\n",
            "Epoch 245/1000\n",
            "1/1 [==============================] - 0s 34ms/step - loss: 0.7045 - val_loss: 0.5143\n",
            "Epoch 246/1000\n",
            "1/1 [==============================] - 0s 55ms/step - loss: 0.6933 - val_loss: 0.5035\n",
            "Epoch 247/1000\n",
            "1/1 [==============================] - 0s 37ms/step - loss: 0.6823 - val_loss: 0.4929\n",
            "Epoch 248/1000\n",
            "1/1 [==============================] - 0s 36ms/step - loss: 0.6715 - val_loss: 0.4825\n",
            "Epoch 249/1000\n",
            "1/1 [==============================] - 0s 39ms/step - loss: 0.6609 - val_loss: 0.4722\n",
            "Epoch 250/1000\n",
            "1/1 [==============================] - 0s 36ms/step - loss: 0.6505 - val_loss: 0.4620\n",
            "Epoch 251/1000\n",
            "1/1 [==============================] - 0s 32ms/step - loss: 0.6403 - val_loss: 0.4520\n",
            "Epoch 252/1000\n",
            "1/1 [==============================] - 0s 43ms/step - loss: 0.6303 - val_loss: 0.4422\n",
            "Epoch 253/1000\n",
            "1/1 [==============================] - 0s 31ms/step - loss: 0.6205 - val_loss: 0.4324\n",
            "Epoch 254/1000\n",
            "1/1 [==============================] - 0s 34ms/step - loss: 0.6109 - val_loss: 0.4229\n",
            "Epoch 255/1000\n",
            "1/1 [==============================] - 0s 39ms/step - loss: 0.6014 - val_loss: 0.4135\n",
            "Epoch 256/1000\n",
            "1/1 [==============================] - 0s 34ms/step - loss: 0.5922 - val_loss: 0.4042\n",
            "Epoch 257/1000\n",
            "1/1 [==============================] - 0s 36ms/step - loss: 0.5831 - val_loss: 0.3951\n",
            "Epoch 258/1000\n",
            "1/1 [==============================] - 0s 33ms/step - loss: 0.5741 - val_loss: 0.3862\n",
            "Epoch 259/1000\n",
            "1/1 [==============================] - 0s 32ms/step - loss: 0.5653 - val_loss: 0.3775\n",
            "Epoch 260/1000\n",
            "1/1 [==============================] - 0s 35ms/step - loss: 0.5567 - val_loss: 0.3690\n",
            "Epoch 261/1000\n",
            "1/1 [==============================] - 0s 37ms/step - loss: 0.5483 - val_loss: 0.3606\n",
            "Epoch 262/1000\n",
            "1/1 [==============================] - 0s 34ms/step - loss: 0.5400 - val_loss: 0.3525\n",
            "Epoch 263/1000\n",
            "1/1 [==============================] - 0s 35ms/step - loss: 0.5319 - val_loss: 0.3446\n",
            "Epoch 264/1000\n",
            "1/1 [==============================] - 0s 33ms/step - loss: 0.5239 - val_loss: 0.3368\n",
            "Epoch 265/1000\n",
            "1/1 [==============================] - 0s 32ms/step - loss: 0.5161 - val_loss: 0.3293\n",
            "Epoch 266/1000\n",
            "1/1 [==============================] - 0s 40ms/step - loss: 0.5084 - val_loss: 0.3220\n",
            "Epoch 267/1000\n",
            "1/1 [==============================] - 0s 35ms/step - loss: 0.5008 - val_loss: 0.3148\n",
            "Epoch 268/1000\n",
            "1/1 [==============================] - 0s 39ms/step - loss: 0.4934 - val_loss: 0.3079\n",
            "Epoch 269/1000\n",
            "1/1 [==============================] - 0s 46ms/step - loss: 0.4862 - val_loss: 0.3011\n",
            "Epoch 270/1000\n",
            "1/1 [==============================] - 0s 38ms/step - loss: 0.4790 - val_loss: 0.2945\n",
            "Epoch 271/1000\n",
            "1/1 [==============================] - 0s 35ms/step - loss: 0.4720 - val_loss: 0.2881\n",
            "Epoch 272/1000\n",
            "1/1 [==============================] - 0s 31ms/step - loss: 0.4651 - val_loss: 0.2818\n",
            "Epoch 273/1000\n",
            "1/1 [==============================] - 0s 43ms/step - loss: 0.4584 - val_loss: 0.2757\n",
            "Epoch 274/1000\n",
            "1/1 [==============================] - 0s 37ms/step - loss: 0.4517 - val_loss: 0.2698\n",
            "Epoch 275/1000\n",
            "1/1 [==============================] - 0s 44ms/step - loss: 0.4452 - val_loss: 0.2640\n",
            "Epoch 276/1000\n",
            "1/1 [==============================] - 0s 34ms/step - loss: 0.4388 - val_loss: 0.2583\n",
            "Epoch 277/1000\n",
            "1/1 [==============================] - 0s 42ms/step - loss: 0.4326 - val_loss: 0.2528\n",
            "Epoch 278/1000\n",
            "1/1 [==============================] - 0s 32ms/step - loss: 0.4264 - val_loss: 0.2474\n",
            "Epoch 279/1000\n",
            "1/1 [==============================] - 0s 33ms/step - loss: 0.4204 - val_loss: 0.2421\n",
            "Epoch 280/1000\n",
            "1/1 [==============================] - 0s 34ms/step - loss: 0.4144 - val_loss: 0.2370\n",
            "Epoch 281/1000\n",
            "1/1 [==============================] - 0s 56ms/step - loss: 0.4087 - val_loss: 0.2319\n",
            "Epoch 282/1000\n",
            "1/1 [==============================] - 0s 33ms/step - loss: 0.4030 - val_loss: 0.2270\n",
            "Epoch 283/1000\n",
            "1/1 [==============================] - 0s 47ms/step - loss: 0.3974 - val_loss: 0.2222\n",
            "Epoch 284/1000\n",
            "1/1 [==============================] - 0s 39ms/step - loss: 0.3919 - val_loss: 0.2175\n",
            "Epoch 285/1000\n",
            "1/1 [==============================] - 0s 36ms/step - loss: 0.3865 - val_loss: 0.2129\n",
            "Epoch 286/1000\n",
            "1/1 [==============================] - 0s 44ms/step - loss: 0.3812 - val_loss: 0.2084\n",
            "Epoch 287/1000\n",
            "1/1 [==============================] - 0s 32ms/step - loss: 0.3760 - val_loss: 0.2040\n",
            "Epoch 288/1000\n",
            "1/1 [==============================] - 0s 35ms/step - loss: 0.3709 - val_loss: 0.1998\n",
            "Epoch 289/1000\n",
            "1/1 [==============================] - 0s 38ms/step - loss: 0.3659 - val_loss: 0.1956\n",
            "Epoch 290/1000\n",
            "1/1 [==============================] - 0s 35ms/step - loss: 0.3610 - val_loss: 0.1915\n",
            "Epoch 291/1000\n",
            "1/1 [==============================] - 0s 37ms/step - loss: 0.3562 - val_loss: 0.1876\n",
            "Epoch 292/1000\n",
            "1/1 [==============================] - 0s 32ms/step - loss: 0.3514 - val_loss: 0.1837\n",
            "Epoch 293/1000\n",
            "1/1 [==============================] - 0s 35ms/step - loss: 0.3467 - val_loss: 0.1800\n",
            "Epoch 294/1000\n",
            "1/1 [==============================] - 0s 31ms/step - loss: 0.3421 - val_loss: 0.1763\n",
            "Epoch 295/1000\n",
            "1/1 [==============================] - 0s 31ms/step - loss: 0.3376 - val_loss: 0.1727\n",
            "Epoch 296/1000\n",
            "1/1 [==============================] - 0s 52ms/step - loss: 0.3332 - val_loss: 0.1692\n",
            "Epoch 297/1000\n",
            "1/1 [==============================] - 0s 33ms/step - loss: 0.3288 - val_loss: 0.1658\n",
            "Epoch 298/1000\n",
            "1/1 [==============================] - 0s 31ms/step - loss: 0.3245 - val_loss: 0.1625\n",
            "Epoch 299/1000\n",
            "1/1 [==============================] - 0s 31ms/step - loss: 0.3203 - val_loss: 0.1593\n",
            "Epoch 300/1000\n",
            "1/1 [==============================] - 0s 34ms/step - loss: 0.3162 - val_loss: 0.1561\n",
            "Epoch 301/1000\n",
            "1/1 [==============================] - 0s 41ms/step - loss: 0.3121 - val_loss: 0.1530\n",
            "Epoch 302/1000\n",
            "1/1 [==============================] - 0s 41ms/step - loss: 0.3081 - val_loss: 0.1500\n",
            "Epoch 303/1000\n",
            "1/1 [==============================] - 0s 31ms/step - loss: 0.3041 - val_loss: 0.1471\n",
            "Epoch 304/1000\n",
            "1/1 [==============================] - 0s 35ms/step - loss: 0.3003 - val_loss: 0.1444\n",
            "Epoch 305/1000\n",
            "1/1 [==============================] - 0s 30ms/step - loss: 0.2965 - val_loss: 0.1417\n",
            "Epoch 306/1000\n",
            "1/1 [==============================] - 0s 32ms/step - loss: 0.2927 - val_loss: 0.1393\n",
            "Epoch 307/1000\n",
            "1/1 [==============================] - 0s 40ms/step - loss: 0.2891 - val_loss: 0.1370\n",
            "Epoch 308/1000\n",
            "1/1 [==============================] - 0s 36ms/step - loss: 0.2855 - val_loss: 0.1350\n",
            "Epoch 309/1000\n",
            "1/1 [==============================] - 0s 34ms/step - loss: 0.2819 - val_loss: 0.1332\n",
            "Epoch 310/1000\n",
            "1/1 [==============================] - 0s 32ms/step - loss: 0.2785 - val_loss: 0.1317\n",
            "Epoch 311/1000\n",
            "1/1 [==============================] - 0s 30ms/step - loss: 0.2751 - val_loss: 0.1305\n",
            "Epoch 312/1000\n",
            "1/1 [==============================] - 0s 33ms/step - loss: 0.2717 - val_loss: 0.1295\n",
            "Epoch 313/1000\n",
            "1/1 [==============================] - 0s 31ms/step - loss: 0.2685 - val_loss: 0.1283\n",
            "Epoch 314/1000\n",
            "1/1 [==============================] - 0s 33ms/step - loss: 0.2653 - val_loss: 0.1268\n",
            "Epoch 315/1000\n",
            "1/1 [==============================] - 0s 35ms/step - loss: 0.2622 - val_loss: 0.1248\n",
            "Epoch 316/1000\n",
            "1/1 [==============================] - 0s 34ms/step - loss: 0.2591 - val_loss: 0.1220\n",
            "Epoch 317/1000\n",
            "1/1 [==============================] - 0s 35ms/step - loss: 0.2560 - val_loss: 0.1185\n",
            "Epoch 318/1000\n",
            "1/1 [==============================] - 0s 35ms/step - loss: 0.2530 - val_loss: 0.1145\n",
            "Epoch 319/1000\n",
            "1/1 [==============================] - 0s 45ms/step - loss: 0.2501 - val_loss: 0.1100\n",
            "Epoch 320/1000\n",
            "1/1 [==============================] - 0s 33ms/step - loss: 0.2472 - val_loss: 0.1055\n",
            "Epoch 321/1000\n",
            "1/1 [==============================] - 0s 33ms/step - loss: 0.2444 - val_loss: 0.1011\n",
            "Epoch 322/1000\n",
            "1/1 [==============================] - 0s 35ms/step - loss: 0.2416 - val_loss: 0.0971\n",
            "Epoch 323/1000\n",
            "1/1 [==============================] - 0s 42ms/step - loss: 0.2388 - val_loss: 0.0936\n",
            "Epoch 324/1000\n",
            "1/1 [==============================] - 0s 41ms/step - loss: 0.2362 - val_loss: 0.0906\n",
            "Epoch 325/1000\n",
            "1/1 [==============================] - 0s 36ms/step - loss: 0.2335 - val_loss: 0.0882\n",
            "Epoch 326/1000\n",
            "1/1 [==============================] - 0s 38ms/step - loss: 0.2309 - val_loss: 0.0863\n",
            "Epoch 327/1000\n",
            "1/1 [==============================] - 0s 36ms/step - loss: 0.2283 - val_loss: 0.0849\n",
            "Epoch 328/1000\n",
            "1/1 [==============================] - 0s 33ms/step - loss: 0.2258 - val_loss: 0.0837\n",
            "Epoch 329/1000\n",
            "1/1 [==============================] - 0s 34ms/step - loss: 0.2233 - val_loss: 0.0826\n",
            "Epoch 330/1000\n",
            "1/1 [==============================] - 0s 39ms/step - loss: 0.2209 - val_loss: 0.0814\n",
            "Epoch 331/1000\n",
            "1/1 [==============================] - 0s 45ms/step - loss: 0.2185 - val_loss: 0.0799\n",
            "Epoch 332/1000\n",
            "1/1 [==============================] - 0s 33ms/step - loss: 0.2161 - val_loss: 0.0781\n",
            "Epoch 333/1000\n",
            "1/1 [==============================] - 0s 33ms/step - loss: 0.2138 - val_loss: 0.0759\n",
            "Epoch 334/1000\n",
            "1/1 [==============================] - 0s 38ms/step - loss: 0.2115 - val_loss: 0.0734\n",
            "Epoch 335/1000\n",
            "1/1 [==============================] - 0s 33ms/step - loss: 0.2092 - val_loss: 0.0708\n",
            "Epoch 336/1000\n",
            "1/1 [==============================] - 0s 36ms/step - loss: 0.2070 - val_loss: 0.0682\n",
            "Epoch 337/1000\n",
            "1/1 [==============================] - 0s 33ms/step - loss: 0.2048 - val_loss: 0.0657\n",
            "Epoch 338/1000\n",
            "1/1 [==============================] - 0s 34ms/step - loss: 0.2027 - val_loss: 0.0636\n",
            "Epoch 339/1000\n",
            "1/1 [==============================] - 0s 32ms/step - loss: 0.2006 - val_loss: 0.0619\n",
            "Epoch 340/1000\n",
            "1/1 [==============================] - 0s 33ms/step - loss: 0.1985 - val_loss: 0.0605\n",
            "Epoch 341/1000\n",
            "1/1 [==============================] - 0s 36ms/step - loss: 0.1964 - val_loss: 0.0594\n",
            "Epoch 342/1000\n",
            "1/1 [==============================] - 0s 32ms/step - loss: 0.1944 - val_loss: 0.0585\n",
            "Epoch 343/1000\n",
            "1/1 [==============================] - 0s 37ms/step - loss: 0.1924 - val_loss: 0.0578\n",
            "Epoch 344/1000\n",
            "1/1 [==============================] - 0s 35ms/step - loss: 0.1905 - val_loss: 0.0572\n",
            "Epoch 345/1000\n",
            "1/1 [==============================] - 0s 36ms/step - loss: 0.1885 - val_loss: 0.0565\n",
            "Epoch 346/1000\n",
            "1/1 [==============================] - 0s 39ms/step - loss: 0.1866 - val_loss: 0.0557\n",
            "Epoch 347/1000\n",
            "1/1 [==============================] - 0s 30ms/step - loss: 0.1848 - val_loss: 0.0547\n",
            "Epoch 348/1000\n",
            "1/1 [==============================] - 0s 32ms/step - loss: 0.1829 - val_loss: 0.0536\n",
            "Epoch 349/1000\n",
            "1/1 [==============================] - 0s 35ms/step - loss: 0.1811 - val_loss: 0.0525\n",
            "Epoch 350/1000\n",
            "1/1 [==============================] - 0s 34ms/step - loss: 0.1793 - val_loss: 0.0513\n",
            "Epoch 351/1000\n",
            "1/1 [==============================] - 0s 33ms/step - loss: 0.1775 - val_loss: 0.0502\n",
            "Epoch 352/1000\n",
            "1/1 [==============================] - 0s 38ms/step - loss: 0.1758 - val_loss: 0.0492\n",
            "Epoch 353/1000\n",
            "1/1 [==============================] - 0s 41ms/step - loss: 0.1740 - val_loss: 0.0485\n",
            "Epoch 354/1000\n",
            "1/1 [==============================] - 0s 31ms/step - loss: 0.1723 - val_loss: 0.0478\n",
            "Epoch 355/1000\n",
            "1/1 [==============================] - 0s 34ms/step - loss: 0.1707 - val_loss: 0.0474\n",
            "Epoch 356/1000\n",
            "1/1 [==============================] - 0s 49ms/step - loss: 0.1690 - val_loss: 0.0470\n",
            "Epoch 357/1000\n",
            "1/1 [==============================] - 0s 37ms/step - loss: 0.1674 - val_loss: 0.0466\n",
            "Epoch 358/1000\n",
            "1/1 [==============================] - 0s 35ms/step - loss: 0.1658 - val_loss: 0.0462\n",
            "Epoch 359/1000\n",
            "1/1 [==============================] - 0s 63ms/step - loss: 0.1641 - val_loss: 0.0458\n",
            "Epoch 360/1000\n",
            "1/1 [==============================] - 0s 34ms/step - loss: 0.1626 - val_loss: 0.0454\n",
            "Epoch 361/1000\n",
            "1/1 [==============================] - 0s 36ms/step - loss: 0.1610 - val_loss: 0.0450\n",
            "Epoch 362/1000\n",
            "1/1 [==============================] - 0s 32ms/step - loss: 0.1594 - val_loss: 0.0445\n",
            "Epoch 363/1000\n",
            "1/1 [==============================] - 0s 55ms/step - loss: 0.1579 - val_loss: 0.0441\n",
            "Epoch 364/1000\n",
            "1/1 [==============================] - 0s 37ms/step - loss: 0.1564 - val_loss: 0.0438\n",
            "Epoch 365/1000\n",
            "1/1 [==============================] - 0s 41ms/step - loss: 0.1550 - val_loss: 0.0436\n",
            "Epoch 366/1000\n",
            "1/1 [==============================] - 0s 40ms/step - loss: 0.1536 - val_loss: 0.0436\n",
            "Epoch 367/1000\n",
            "1/1 [==============================] - 0s 40ms/step - loss: 0.1522 - val_loss: 0.0438\n",
            "Epoch 368/1000\n",
            "1/1 [==============================] - 0s 40ms/step - loss: 0.1508 - val_loss: 0.0441\n",
            "Epoch 369/1000\n",
            "1/1 [==============================] - 0s 34ms/step - loss: 0.1494 - val_loss: 0.0446\n",
            "Epoch 370/1000\n",
            "1/1 [==============================] - 0s 39ms/step - loss: 0.1479 - val_loss: 0.0453\n",
            "Epoch 371/1000\n",
            "1/1 [==============================] - 0s 36ms/step - loss: 0.1465 - val_loss: 0.0461\n",
            "Epoch 372/1000\n",
            "1/1 [==============================] - 0s 33ms/step - loss: 0.1452 - val_loss: 0.0470\n",
            "Epoch 373/1000\n",
            "1/1 [==============================] - 0s 41ms/step - loss: 0.1439 - val_loss: 0.0480\n",
            "Epoch 374/1000\n",
            "1/1 [==============================] - 0s 49ms/step - loss: 0.1425 - val_loss: 0.0491\n",
            "Epoch 375/1000\n",
            "1/1 [==============================] - 0s 35ms/step - loss: 0.1412 - val_loss: 0.0501\n",
            "Epoch 376/1000\n",
            "1/1 [==============================] - 0s 34ms/step - loss: 0.1399 - val_loss: 0.0512\n",
            "Epoch 377/1000\n",
            "1/1 [==============================] - 0s 33ms/step - loss: 0.1385 - val_loss: 0.0523\n",
            "Epoch 378/1000\n",
            "1/1 [==============================] - 0s 34ms/step - loss: 0.1372 - val_loss: 0.0534\n",
            "Epoch 379/1000\n",
            "1/1 [==============================] - 0s 50ms/step - loss: 0.1359 - val_loss: 0.0546\n",
            "Epoch 380/1000\n",
            "1/1 [==============================] - 0s 43ms/step - loss: 0.1346 - val_loss: 0.0557\n",
            "Epoch 381/1000\n",
            "1/1 [==============================] - 0s 35ms/step - loss: 0.1334 - val_loss: 0.0569\n",
            "Epoch 382/1000\n",
            "1/1 [==============================] - 0s 34ms/step - loss: 0.1321 - val_loss: 0.0581\n",
            "Epoch 383/1000\n",
            "1/1 [==============================] - 0s 41ms/step - loss: 0.1309 - val_loss: 0.0593\n",
            "Epoch 384/1000\n",
            "1/1 [==============================] - 0s 33ms/step - loss: 0.1296 - val_loss: 0.0605\n",
            "Epoch 385/1000\n",
            "1/1 [==============================] - 0s 34ms/step - loss: 0.1284 - val_loss: 0.0617\n",
            "Epoch 386/1000\n",
            "1/1 [==============================] - 0s 31ms/step - loss: 0.1272 - val_loss: 0.0628\n",
            "Epoch 387/1000\n",
            "1/1 [==============================] - 0s 34ms/step - loss: 0.1260 - val_loss: 0.0638\n",
            "Epoch 388/1000\n",
            "1/1 [==============================] - 0s 38ms/step - loss: 0.1249 - val_loss: 0.0647\n",
            "Epoch 389/1000\n",
            "1/1 [==============================] - 0s 44ms/step - loss: 0.1237 - val_loss: 0.0654\n",
            "Epoch 390/1000\n",
            "1/1 [==============================] - 0s 35ms/step - loss: 0.1226 - val_loss: 0.0660\n",
            "Epoch 391/1000\n",
            "1/1 [==============================] - 0s 41ms/step - loss: 0.1214 - val_loss: 0.0663\n",
            "Epoch 392/1000\n",
            "1/1 [==============================] - 0s 34ms/step - loss: 0.1203 - val_loss: 0.0665\n",
            "Epoch 393/1000\n",
            "1/1 [==============================] - 0s 30ms/step - loss: 0.1192 - val_loss: 0.0664\n",
            "Epoch 394/1000\n",
            "1/1 [==============================] - 0s 42ms/step - loss: 0.1181 - val_loss: 0.0662\n",
            "Epoch 395/1000\n",
            "1/1 [==============================] - 0s 40ms/step - loss: 0.1170 - val_loss: 0.0658\n",
            "Epoch 396/1000\n",
            "1/1 [==============================] - 0s 33ms/step - loss: 0.1159 - val_loss: 0.0652\n",
            "Epoch 397/1000\n",
            "1/1 [==============================] - 0s 44ms/step - loss: 0.1148 - val_loss: 0.0646\n",
            "Epoch 398/1000\n",
            "1/1 [==============================] - 0s 35ms/step - loss: 0.1138 - val_loss: 0.0639\n",
            "Epoch 399/1000\n",
            "1/1 [==============================] - 0s 35ms/step - loss: 0.1127 - val_loss: 0.0632\n",
            "Epoch 400/1000\n",
            "1/1 [==============================] - 0s 43ms/step - loss: 0.1117 - val_loss: 0.0624\n",
            "Epoch 401/1000\n",
            "1/1 [==============================] - 0s 39ms/step - loss: 0.1106 - val_loss: 0.0618\n",
            "Epoch 402/1000\n",
            "1/1 [==============================] - 0s 42ms/step - loss: 0.1096 - val_loss: 0.0612\n",
            "Epoch 403/1000\n",
            "1/1 [==============================] - 0s 38ms/step - loss: 0.1085 - val_loss: 0.0606\n",
            "Epoch 404/1000\n",
            "1/1 [==============================] - 0s 34ms/step - loss: 0.1075 - val_loss: 0.0602\n",
            "Epoch 405/1000\n",
            "1/1 [==============================] - 0s 36ms/step - loss: 0.1066 - val_loss: 0.0598\n",
            "Epoch 406/1000\n",
            "1/1 [==============================] - 0s 32ms/step - loss: 0.1056 - val_loss: 0.0596\n",
            "Epoch 407/1000\n",
            "1/1 [==============================] - 0s 35ms/step - loss: 0.1046 - val_loss: 0.0594\n",
            "Epoch 408/1000\n",
            "1/1 [==============================] - 0s 61ms/step - loss: 0.1036 - val_loss: 0.0594\n",
            "Epoch 409/1000\n",
            "1/1 [==============================] - 0s 38ms/step - loss: 0.1026 - val_loss: 0.0594\n",
            "Epoch 410/1000\n",
            "1/1 [==============================] - 0s 36ms/step - loss: 0.1017 - val_loss: 0.0595\n",
            "Epoch 411/1000\n",
            "1/1 [==============================] - 0s 37ms/step - loss: 0.1007 - val_loss: 0.0598\n",
            "Epoch 412/1000\n",
            "1/1 [==============================] - 0s 36ms/step - loss: 0.0997 - val_loss: 0.0600\n",
            "Epoch 413/1000\n",
            "1/1 [==============================] - 0s 41ms/step - loss: 0.0988 - val_loss: 0.0604\n",
            "Epoch 414/1000\n",
            "1/1 [==============================] - 0s 39ms/step - loss: 0.0979 - val_loss: 0.0608\n",
            "Epoch 415/1000\n",
            "1/1 [==============================] - 0s 32ms/step - loss: 0.0970 - val_loss: 0.0612\n",
            "Epoch 416/1000\n",
            "1/1 [==============================] - 0s 40ms/step - loss: 0.0961 - val_loss: 0.0617\n",
            "Epoch 417/1000\n",
            "1/1 [==============================] - 0s 35ms/step - loss: 0.0951 - val_loss: 0.0622\n",
            "Epoch 418/1000\n",
            "1/1 [==============================] - 0s 33ms/step - loss: 0.0942 - val_loss: 0.0627\n",
            "Epoch 419/1000\n",
            "1/1 [==============================] - 0s 31ms/step - loss: 0.0933 - val_loss: 0.0632\n",
            "Epoch 420/1000\n",
            "1/1 [==============================] - 0s 36ms/step - loss: 0.0924 - val_loss: 0.0637\n",
            "Epoch 421/1000\n",
            "1/1 [==============================] - 0s 41ms/step - loss: 0.0916 - val_loss: 0.0642\n",
            "Epoch 422/1000\n",
            "1/1 [==============================] - 0s 35ms/step - loss: 0.0907 - val_loss: 0.0647\n",
            "Epoch 423/1000\n",
            "1/1 [==============================] - 0s 40ms/step - loss: 0.0898 - val_loss: 0.0652\n",
            "Epoch 424/1000\n",
            "1/1 [==============================] - 0s 34ms/step - loss: 0.0890 - val_loss: 0.0656\n",
            "Epoch 425/1000\n",
            "1/1 [==============================] - 0s 39ms/step - loss: 0.0881 - val_loss: 0.0660\n",
            "Epoch 426/1000\n",
            "1/1 [==============================] - 0s 38ms/step - loss: 0.0873 - val_loss: 0.0664\n",
            "Epoch 427/1000\n",
            "1/1 [==============================] - 0s 38ms/step - loss: 0.0864 - val_loss: 0.0667\n",
            "Epoch 428/1000\n",
            "1/1 [==============================] - 0s 36ms/step - loss: 0.0856 - val_loss: 0.0670\n",
            "Epoch 429/1000\n",
            "1/1 [==============================] - 0s 40ms/step - loss: 0.0848 - val_loss: 0.0672\n",
            "Epoch 430/1000\n",
            "1/1 [==============================] - 0s 33ms/step - loss: 0.0839 - val_loss: 0.0674\n",
            "Epoch 431/1000\n",
            "1/1 [==============================] - 0s 42ms/step - loss: 0.0831 - val_loss: 0.0676\n",
            "Epoch 432/1000\n",
            "1/1 [==============================] - 0s 33ms/step - loss: 0.0823 - val_loss: 0.0678\n",
            "Epoch 433/1000\n",
            "1/1 [==============================] - 0s 44ms/step - loss: 0.0815 - val_loss: 0.0680\n",
            "Epoch 434/1000\n",
            "1/1 [==============================] - 0s 38ms/step - loss: 0.0807 - val_loss: 0.0682\n",
            "Epoch 435/1000\n",
            "1/1 [==============================] - 0s 38ms/step - loss: 0.0799 - val_loss: 0.0683\n",
            "Epoch 436/1000\n",
            "1/1 [==============================] - 0s 38ms/step - loss: 0.0791 - val_loss: 0.0685\n",
            "Epoch 437/1000\n",
            "1/1 [==============================] - 0s 36ms/step - loss: 0.0784 - val_loss: 0.0688\n",
            "Epoch 438/1000\n",
            "1/1 [==============================] - 0s 32ms/step - loss: 0.0776 - val_loss: 0.0690\n",
            "Epoch 439/1000\n",
            "1/1 [==============================] - 0s 40ms/step - loss: 0.0768 - val_loss: 0.0693\n",
            "Epoch 440/1000\n",
            "1/1 [==============================] - 0s 34ms/step - loss: 0.0761 - val_loss: 0.0696\n",
            "Epoch 441/1000\n",
            "1/1 [==============================] - 0s 34ms/step - loss: 0.0753 - val_loss: 0.0699\n",
            "Epoch 442/1000\n",
            "1/1 [==============================] - 0s 37ms/step - loss: 0.0745 - val_loss: 0.0702\n",
            "Epoch 443/1000\n",
            "1/1 [==============================] - 0s 55ms/step - loss: 0.0738 - val_loss: 0.0706\n",
            "Epoch 444/1000\n",
            "1/1 [==============================] - 0s 35ms/step - loss: 0.0731 - val_loss: 0.0710\n",
            "Epoch 445/1000\n",
            "1/1 [==============================] - 0s 37ms/step - loss: 0.0723 - val_loss: 0.0714\n",
            "Epoch 446/1000\n",
            "1/1 [==============================] - 0s 35ms/step - loss: 0.0716 - val_loss: 0.0718\n",
            "Epoch 447/1000\n",
            "1/1 [==============================] - 0s 30ms/step - loss: 0.0709 - val_loss: 0.0723\n",
            "Epoch 448/1000\n",
            "1/1 [==============================] - 0s 50ms/step - loss: 0.0702 - val_loss: 0.0728\n",
            "Epoch 449/1000\n",
            "1/1 [==============================] - 0s 39ms/step - loss: 0.0695 - val_loss: 0.0732\n",
            "Epoch 450/1000\n",
            "1/1 [==============================] - 0s 36ms/step - loss: 0.0688 - val_loss: 0.0737\n",
            "Epoch 451/1000\n",
            "1/1 [==============================] - 0s 37ms/step - loss: 0.0681 - val_loss: 0.0742\n",
            "Epoch 452/1000\n",
            "1/1 [==============================] - 0s 34ms/step - loss: 0.0674 - val_loss: 0.0747\n",
            "Epoch 453/1000\n",
            "1/1 [==============================] - 0s 38ms/step - loss: 0.0667 - val_loss: 0.0752\n",
            "Epoch 454/1000\n",
            "1/1 [==============================] - 0s 34ms/step - loss: 0.0661 - val_loss: 0.0756\n",
            "Epoch 455/1000\n",
            "1/1 [==============================] - 0s 35ms/step - loss: 0.0654 - val_loss: 0.0761\n",
            "Epoch 456/1000\n",
            "1/1 [==============================] - 0s 34ms/step - loss: 0.0647 - val_loss: 0.0766\n",
            "Epoch 457/1000\n",
            "1/1 [==============================] - 0s 36ms/step - loss: 0.0641 - val_loss: 0.0771\n",
            "Epoch 458/1000\n",
            "1/1 [==============================] - 0s 39ms/step - loss: 0.0634 - val_loss: 0.0775\n",
            "Epoch 459/1000\n",
            "1/1 [==============================] - 0s 34ms/step - loss: 0.0628 - val_loss: 0.0780\n",
            "Epoch 460/1000\n",
            "1/1 [==============================] - 0s 36ms/step - loss: 0.0621 - val_loss: 0.0784\n",
            "Epoch 461/1000\n",
            "1/1 [==============================] - 0s 35ms/step - loss: 0.0615 - val_loss: 0.0788\n",
            "Epoch 462/1000\n",
            "1/1 [==============================] - 0s 38ms/step - loss: 0.0608 - val_loss: 0.0793\n",
            "Epoch 463/1000\n",
            "1/1 [==============================] - 0s 34ms/step - loss: 0.0602 - val_loss: 0.0797\n",
            "Epoch 464/1000\n",
            "1/1 [==============================] - 0s 44ms/step - loss: 0.0596 - val_loss: 0.0802\n",
            "Epoch 465/1000\n",
            "1/1 [==============================] - 0s 36ms/step - loss: 0.0590 - val_loss: 0.0807\n",
            "Epoch 466/1000\n",
            "1/1 [==============================] - 0s 53ms/step - loss: 0.0583 - val_loss: 0.0811\n",
            "Epoch 467/1000\n",
            "1/1 [==============================] - 0s 62ms/step - loss: 0.0577 - val_loss: 0.0816\n",
            "Epoch 468/1000\n",
            "1/1 [==============================] - 0s 64ms/step - loss: 0.0571 - val_loss: 0.0820\n",
            "Epoch 469/1000\n",
            "1/1 [==============================] - 0s 81ms/step - loss: 0.0565 - val_loss: 0.0825\n",
            "Epoch 470/1000\n",
            "1/1 [==============================] - 0s 64ms/step - loss: 0.0559 - val_loss: 0.0830\n",
            "Epoch 471/1000\n",
            "1/1 [==============================] - 0s 57ms/step - loss: 0.0553 - val_loss: 0.0834\n",
            "Epoch 472/1000\n",
            "1/1 [==============================] - 0s 48ms/step - loss: 0.0547 - val_loss: 0.0839\n",
            "Epoch 473/1000\n",
            "1/1 [==============================] - 0s 49ms/step - loss: 0.0542 - val_loss: 0.0844\n",
            "Epoch 474/1000\n",
            "1/1 [==============================] - 0s 51ms/step - loss: 0.0536 - val_loss: 0.0849\n",
            "Epoch 475/1000\n",
            "1/1 [==============================] - 0s 65ms/step - loss: 0.0530 - val_loss: 0.0854\n",
            "Epoch 476/1000\n",
            "1/1 [==============================] - 0s 58ms/step - loss: 0.0524 - val_loss: 0.0859\n",
            "Epoch 477/1000\n",
            "1/1 [==============================] - 0s 43ms/step - loss: 0.0519 - val_loss: 0.0864\n",
            "Epoch 478/1000\n",
            "1/1 [==============================] - 0s 41ms/step - loss: 0.0513 - val_loss: 0.0869\n",
            "Epoch 479/1000\n",
            "1/1 [==============================] - 0s 47ms/step - loss: 0.0508 - val_loss: 0.0874\n",
            "Epoch 480/1000\n",
            "1/1 [==============================] - 0s 58ms/step - loss: 0.0502 - val_loss: 0.0879\n",
            "Epoch 481/1000\n",
            "1/1 [==============================] - 0s 59ms/step - loss: 0.0497 - val_loss: 0.0884\n",
            "Epoch 482/1000\n",
            "1/1 [==============================] - 0s 47ms/step - loss: 0.0491 - val_loss: 0.0890\n",
            "Epoch 483/1000\n",
            "1/1 [==============================] - 0s 43ms/step - loss: 0.0486 - val_loss: 0.0895\n",
            "Epoch 484/1000\n",
            "1/1 [==============================] - 0s 33ms/step - loss: 0.0481 - val_loss: 0.0899\n",
            "Epoch 485/1000\n",
            "1/1 [==============================] - 0s 41ms/step - loss: 0.0476 - val_loss: 0.0904\n",
            "Epoch 486/1000\n",
            "1/1 [==============================] - 0s 65ms/step - loss: 0.0470 - val_loss: 0.0909\n",
            "Epoch 487/1000\n",
            "1/1 [==============================] - 0s 36ms/step - loss: 0.0465 - val_loss: 0.0914\n",
            "Epoch 488/1000\n",
            "1/1 [==============================] - 0s 34ms/step - loss: 0.0460 - val_loss: 0.0918\n",
            "Epoch 489/1000\n",
            "1/1 [==============================] - 0s 36ms/step - loss: 0.0455 - val_loss: 0.0923\n",
            "Epoch 490/1000\n",
            "1/1 [==============================] - 0s 44ms/step - loss: 0.0450 - val_loss: 0.0928\n",
            "Epoch 491/1000\n",
            "1/1 [==============================] - 0s 46ms/step - loss: 0.0445 - val_loss: 0.0933\n",
            "Epoch 492/1000\n",
            "1/1 [==============================] - 0s 44ms/step - loss: 0.0440 - val_loss: 0.0938\n",
            "Epoch 493/1000\n",
            "1/1 [==============================] - 0s 48ms/step - loss: 0.0435 - val_loss: 0.0943\n",
            "Epoch 494/1000\n",
            "1/1 [==============================] - 0s 39ms/step - loss: 0.0430 - val_loss: 0.0948\n",
            "Epoch 495/1000\n",
            "1/1 [==============================] - 0s 41ms/step - loss: 0.0426 - val_loss: 0.0954\n",
            "Epoch 496/1000\n",
            "1/1 [==============================] - 0s 34ms/step - loss: 0.0421 - val_loss: 0.0959\n",
            "Epoch 497/1000\n",
            "1/1 [==============================] - 0s 35ms/step - loss: 0.0416 - val_loss: 0.0964\n",
            "Epoch 498/1000\n",
            "1/1 [==============================] - 0s 35ms/step - loss: 0.0412 - val_loss: 0.0969\n",
            "Epoch 499/1000\n",
            "1/1 [==============================] - 0s 33ms/step - loss: 0.0407 - val_loss: 0.0973\n",
            "Epoch 500/1000\n",
            "1/1 [==============================] - 0s 44ms/step - loss: 0.0402 - val_loss: 0.0977\n",
            "Epoch 501/1000\n",
            "1/1 [==============================] - 0s 33ms/step - loss: 0.0398 - val_loss: 0.0981\n",
            "Epoch 502/1000\n",
            "1/1 [==============================] - 0s 39ms/step - loss: 0.0394 - val_loss: 0.0985\n",
            "Epoch 503/1000\n",
            "1/1 [==============================] - 0s 40ms/step - loss: 0.0389 - val_loss: 0.0989\n",
            "Epoch 504/1000\n",
            "1/1 [==============================] - 0s 38ms/step - loss: 0.0385 - val_loss: 0.0994\n",
            "Epoch 505/1000\n",
            "1/1 [==============================] - 0s 42ms/step - loss: 0.0380 - val_loss: 0.0998\n",
            "Epoch 506/1000\n",
            "1/1 [==============================] - 0s 37ms/step - loss: 0.0376 - val_loss: 0.1002\n",
            "Epoch 507/1000\n",
            "1/1 [==============================] - 0s 37ms/step - loss: 0.0372 - val_loss: 0.1007\n",
            "Epoch 508/1000\n",
            "1/1 [==============================] - 0s 38ms/step - loss: 0.0368 - val_loss: 0.1011\n",
            "Epoch 509/1000\n",
            "1/1 [==============================] - 0s 39ms/step - loss: 0.0364 - val_loss: 0.1016\n",
            "Epoch 510/1000\n",
            "1/1 [==============================] - 0s 39ms/step - loss: 0.0360 - val_loss: 0.1019\n",
            "Epoch 511/1000\n",
            "1/1 [==============================] - 0s 33ms/step - loss: 0.0356 - val_loss: 0.1023\n",
            "Epoch 512/1000\n",
            "1/1 [==============================] - 0s 36ms/step - loss: 0.0352 - val_loss: 0.1026\n",
            "Epoch 513/1000\n",
            "1/1 [==============================] - 0s 43ms/step - loss: 0.0348 - val_loss: 0.1030\n",
            "Epoch 514/1000\n",
            "1/1 [==============================] - 0s 41ms/step - loss: 0.0344 - val_loss: 0.1033\n",
            "Epoch 515/1000\n",
            "1/1 [==============================] - 0s 43ms/step - loss: 0.0340 - val_loss: 0.1037\n",
            "Epoch 516/1000\n",
            "1/1 [==============================] - 0s 38ms/step - loss: 0.0336 - val_loss: 0.1040\n",
            "Epoch 517/1000\n",
            "1/1 [==============================] - 0s 36ms/step - loss: 0.0332 - val_loss: 0.1044\n",
            "Epoch 518/1000\n",
            "1/1 [==============================] - 0s 46ms/step - loss: 0.0328 - val_loss: 0.1048\n",
            "Epoch 519/1000\n",
            "1/1 [==============================] - 0s 37ms/step - loss: 0.0324 - val_loss: 0.1052\n",
            "Epoch 520/1000\n",
            "1/1 [==============================] - 0s 37ms/step - loss: 0.0321 - val_loss: 0.1055\n",
            "Epoch 521/1000\n",
            "1/1 [==============================] - 0s 41ms/step - loss: 0.0317 - val_loss: 0.1058\n",
            "Epoch 522/1000\n",
            "1/1 [==============================] - 0s 41ms/step - loss: 0.0314 - val_loss: 0.1062\n",
            "Epoch 523/1000\n",
            "1/1 [==============================] - 0s 35ms/step - loss: 0.0310 - val_loss: 0.1065\n",
            "Epoch 524/1000\n",
            "1/1 [==============================] - 0s 35ms/step - loss: 0.0307 - val_loss: 0.1068\n",
            "Epoch 525/1000\n",
            "1/1 [==============================] - 0s 38ms/step - loss: 0.0303 - val_loss: 0.1071\n",
            "Epoch 526/1000\n",
            "1/1 [==============================] - 0s 35ms/step - loss: 0.0300 - val_loss: 0.1073\n",
            "Epoch 527/1000\n",
            "1/1 [==============================] - 0s 40ms/step - loss: 0.0296 - val_loss: 0.1076\n",
            "Epoch 528/1000\n",
            "1/1 [==============================] - 0s 44ms/step - loss: 0.0293 - val_loss: 0.1079\n",
            "Epoch 529/1000\n",
            "1/1 [==============================] - 0s 35ms/step - loss: 0.0290 - val_loss: 0.1082\n",
            "Epoch 530/1000\n",
            "1/1 [==============================] - 0s 55ms/step - loss: 0.0286 - val_loss: 0.1085\n",
            "Epoch 531/1000\n",
            "1/1 [==============================] - 0s 48ms/step - loss: 0.0283 - val_loss: 0.1088\n",
            "Epoch 532/1000\n",
            "1/1 [==============================] - 0s 38ms/step - loss: 0.0280 - val_loss: 0.1090\n",
            "Epoch 533/1000\n",
            "1/1 [==============================] - 0s 43ms/step - loss: 0.0277 - val_loss: 0.1093\n",
            "Epoch 534/1000\n",
            "1/1 [==============================] - 0s 55ms/step - loss: 0.0273 - val_loss: 0.1096\n",
            "Epoch 535/1000\n",
            "1/1 [==============================] - 0s 52ms/step - loss: 0.0270 - val_loss: 0.1098\n",
            "Epoch 536/1000\n",
            "1/1 [==============================] - 0s 33ms/step - loss: 0.0267 - val_loss: 0.1100\n",
            "Epoch 537/1000\n",
            "1/1 [==============================] - 0s 44ms/step - loss: 0.0264 - val_loss: 0.1102\n",
            "Epoch 538/1000\n",
            "1/1 [==============================] - 0s 37ms/step - loss: 0.0261 - val_loss: 0.1104\n",
            "Epoch 539/1000\n",
            "1/1 [==============================] - 0s 49ms/step - loss: 0.0258 - val_loss: 0.1106\n",
            "Epoch 540/1000\n",
            "1/1 [==============================] - 0s 35ms/step - loss: 0.0255 - val_loss: 0.1108\n",
            "Epoch 541/1000\n",
            "1/1 [==============================] - 0s 40ms/step - loss: 0.0253 - val_loss: 0.1110\n",
            "Epoch 542/1000\n",
            "1/1 [==============================] - 0s 60ms/step - loss: 0.0250 - val_loss: 0.1112\n",
            "Epoch 543/1000\n",
            "1/1 [==============================] - 0s 36ms/step - loss: 0.0247 - val_loss: 0.1113\n",
            "Epoch 544/1000\n",
            "1/1 [==============================] - 0s 35ms/step - loss: 0.0244 - val_loss: 0.1115\n",
            "Epoch 545/1000\n",
            "1/1 [==============================] - 0s 41ms/step - loss: 0.0241 - val_loss: 0.1117\n",
            "Epoch 546/1000\n",
            "1/1 [==============================] - 0s 35ms/step - loss: 0.0239 - val_loss: 0.1118\n",
            "Epoch 547/1000\n",
            "1/1 [==============================] - 0s 36ms/step - loss: 0.0236 - val_loss: 0.1120\n",
            "Epoch 548/1000\n",
            "1/1 [==============================] - 0s 60ms/step - loss: 0.0234 - val_loss: 0.1121\n",
            "Epoch 549/1000\n",
            "1/1 [==============================] - 0s 35ms/step - loss: 0.0231 - val_loss: 0.1122\n",
            "Epoch 550/1000\n",
            "1/1 [==============================] - 0s 37ms/step - loss: 0.0228 - val_loss: 0.1123\n",
            "Epoch 551/1000\n",
            "1/1 [==============================] - 0s 42ms/step - loss: 0.0226 - val_loss: 0.1124\n",
            "Epoch 552/1000\n",
            "1/1 [==============================] - 0s 37ms/step - loss: 0.0223 - val_loss: 0.1126\n",
            "Epoch 553/1000\n",
            "1/1 [==============================] - 0s 32ms/step - loss: 0.0221 - val_loss: 0.1127\n",
            "Epoch 554/1000\n",
            "1/1 [==============================] - 0s 34ms/step - loss: 0.0218 - val_loss: 0.1128\n",
            "Epoch 555/1000\n",
            "1/1 [==============================] - 0s 34ms/step - loss: 0.0216 - val_loss: 0.1129\n",
            "Epoch 556/1000\n",
            "1/1 [==============================] - 0s 39ms/step - loss: 0.0213 - val_loss: 0.1130\n",
            "Epoch 557/1000\n",
            "1/1 [==============================] - 0s 38ms/step - loss: 0.0211 - val_loss: 0.1131\n",
            "Epoch 558/1000\n",
            "1/1 [==============================] - 0s 40ms/step - loss: 0.0209 - val_loss: 0.1132\n",
            "Epoch 559/1000\n",
            "1/1 [==============================] - 0s 45ms/step - loss: 0.0206 - val_loss: 0.1133\n",
            "Epoch 560/1000\n",
            "1/1 [==============================] - 0s 38ms/step - loss: 0.0204 - val_loss: 0.1133\n",
            "Epoch 561/1000\n",
            "1/1 [==============================] - 0s 40ms/step - loss: 0.0202 - val_loss: 0.1134\n",
            "Epoch 562/1000\n",
            "1/1 [==============================] - 0s 36ms/step - loss: 0.0200 - val_loss: 0.1134\n",
            "Epoch 563/1000\n",
            "1/1 [==============================] - 0s 41ms/step - loss: 0.0197 - val_loss: 0.1135\n",
            "Epoch 564/1000\n",
            "1/1 [==============================] - 0s 36ms/step - loss: 0.0195 - val_loss: 0.1135\n",
            "Epoch 565/1000\n",
            "1/1 [==============================] - 0s 35ms/step - loss: 0.0193 - val_loss: 0.1136\n",
            "Epoch 566/1000\n",
            "1/1 [==============================] - 0s 33ms/step - loss: 0.0191 - val_loss: 0.1136\n",
            "Epoch 567/1000\n",
            "1/1 [==============================] - 0s 40ms/step - loss: 0.0189 - val_loss: 0.1136\n",
            "Epoch 568/1000\n",
            "1/1 [==============================] - 0s 54ms/step - loss: 0.0187 - val_loss: 0.1136\n",
            "Epoch 569/1000\n",
            "1/1 [==============================] - 0s 36ms/step - loss: 0.0185 - val_loss: 0.1136\n",
            "Epoch 570/1000\n",
            "1/1 [==============================] - 0s 49ms/step - loss: 0.0183 - val_loss: 0.1136\n",
            "Epoch 571/1000\n",
            "1/1 [==============================] - 0s 44ms/step - loss: 0.0181 - val_loss: 0.1136\n",
            "Epoch 572/1000\n",
            "1/1 [==============================] - 0s 36ms/step - loss: 0.0179 - val_loss: 0.1136\n",
            "Epoch 573/1000\n",
            "1/1 [==============================] - 0s 43ms/step - loss: 0.0177 - val_loss: 0.1136\n",
            "Epoch 574/1000\n",
            "1/1 [==============================] - 0s 55ms/step - loss: 0.0175 - val_loss: 0.1136\n",
            "Epoch 575/1000\n",
            "1/1 [==============================] - 0s 37ms/step - loss: 0.0173 - val_loss: 0.1136\n",
            "Epoch 576/1000\n",
            "1/1 [==============================] - 0s 37ms/step - loss: 0.0172 - val_loss: 0.1135\n",
            "Epoch 577/1000\n",
            "1/1 [==============================] - 0s 35ms/step - loss: 0.0170 - val_loss: 0.1135\n",
            "Epoch 578/1000\n",
            "1/1 [==============================] - 0s 35ms/step - loss: 0.0168 - val_loss: 0.1135\n",
            "Epoch 579/1000\n",
            "1/1 [==============================] - 0s 34ms/step - loss: 0.0166 - val_loss: 0.1135\n",
            "Epoch 580/1000\n",
            "1/1 [==============================] - 0s 42ms/step - loss: 0.0165 - val_loss: 0.1134\n",
            "Epoch 581/1000\n",
            "1/1 [==============================] - 0s 37ms/step - loss: 0.0163 - val_loss: 0.1134\n",
            "Epoch 582/1000\n",
            "1/1 [==============================] - 0s 36ms/step - loss: 0.0161 - val_loss: 0.1133\n",
            "Epoch 583/1000\n",
            "1/1 [==============================] - 0s 37ms/step - loss: 0.0159 - val_loss: 0.1133\n",
            "Epoch 584/1000\n",
            "1/1 [==============================] - 0s 45ms/step - loss: 0.0158 - val_loss: 0.1132\n",
            "Epoch 585/1000\n",
            "1/1 [==============================] - 0s 42ms/step - loss: 0.0156 - val_loss: 0.1132\n",
            "Epoch 586/1000\n",
            "1/1 [==============================] - 0s 33ms/step - loss: 0.0155 - val_loss: 0.1131\n",
            "Epoch 587/1000\n",
            "1/1 [==============================] - 0s 36ms/step - loss: 0.0153 - val_loss: 0.1131\n",
            "Epoch 588/1000\n",
            "1/1 [==============================] - 0s 40ms/step - loss: 0.0151 - val_loss: 0.1130\n",
            "Epoch 589/1000\n",
            "1/1 [==============================] - 0s 55ms/step - loss: 0.0150 - val_loss: 0.1129\n",
            "Epoch 590/1000\n",
            "1/1 [==============================] - 0s 58ms/step - loss: 0.0148 - val_loss: 0.1129\n",
            "Epoch 591/1000\n",
            "1/1 [==============================] - 0s 42ms/step - loss: 0.0147 - val_loss: 0.1128\n",
            "Epoch 592/1000\n",
            "1/1 [==============================] - 0s 42ms/step - loss: 0.0145 - val_loss: 0.1127\n",
            "Epoch 593/1000\n",
            "1/1 [==============================] - 0s 39ms/step - loss: 0.0144 - val_loss: 0.1126\n",
            "Epoch 594/1000\n",
            "1/1 [==============================] - 0s 39ms/step - loss: 0.0142 - val_loss: 0.1126\n",
            "Epoch 595/1000\n",
            "1/1 [==============================] - 0s 40ms/step - loss: 0.0141 - val_loss: 0.1125\n",
            "Epoch 596/1000\n",
            "1/1 [==============================] - 0s 35ms/step - loss: 0.0140 - val_loss: 0.1124\n",
            "Epoch 597/1000\n",
            "1/1 [==============================] - 0s 44ms/step - loss: 0.0138 - val_loss: 0.1123\n",
            "Epoch 598/1000\n",
            "1/1 [==============================] - 0s 36ms/step - loss: 0.0137 - val_loss: 0.1122\n",
            "Epoch 599/1000\n",
            "1/1 [==============================] - 0s 57ms/step - loss: 0.0136 - val_loss: 0.1120\n",
            "Epoch 600/1000\n",
            "1/1 [==============================] - 0s 41ms/step - loss: 0.0134 - val_loss: 0.1120\n",
            "Epoch 601/1000\n",
            "1/1 [==============================] - 0s 39ms/step - loss: 0.0133 - val_loss: 0.1119\n",
            "Epoch 602/1000\n",
            "1/1 [==============================] - 0s 43ms/step - loss: 0.0132 - val_loss: 0.1118\n",
            "Epoch 603/1000\n",
            "1/1 [==============================] - 0s 38ms/step - loss: 0.0130 - val_loss: 0.1117\n",
            "Epoch 604/1000\n",
            "1/1 [==============================] - 0s 36ms/step - loss: 0.0129 - val_loss: 0.1116\n",
            "Epoch 605/1000\n",
            "1/1 [==============================] - 0s 38ms/step - loss: 0.0128 - val_loss: 0.1115\n",
            "Epoch 606/1000\n",
            "1/1 [==============================] - 0s 34ms/step - loss: 0.0127 - val_loss: 0.1114\n",
            "Epoch 607/1000\n",
            "1/1 [==============================] - 0s 42ms/step - loss: 0.0126 - val_loss: 0.1113\n",
            "Epoch 608/1000\n",
            "1/1 [==============================] - 0s 35ms/step - loss: 0.0124 - val_loss: 0.1111\n",
            "Epoch 609/1000\n",
            "1/1 [==============================] - 0s 41ms/step - loss: 0.0123 - val_loss: 0.1110\n",
            "Epoch 610/1000\n",
            "1/1 [==============================] - 0s 41ms/step - loss: 0.0122 - val_loss: 0.1109\n",
            "Epoch 611/1000\n",
            "1/1 [==============================] - 0s 40ms/step - loss: 0.0121 - val_loss: 0.1107\n",
            "Epoch 612/1000\n",
            "1/1 [==============================] - 0s 42ms/step - loss: 0.0120 - val_loss: 0.1106\n",
            "Epoch 613/1000\n",
            "1/1 [==============================] - 0s 38ms/step - loss: 0.0119 - val_loss: 0.1105\n",
            "Epoch 614/1000\n",
            "1/1 [==============================] - 0s 46ms/step - loss: 0.0118 - val_loss: 0.1104\n",
            "Epoch 615/1000\n",
            "1/1 [==============================] - 0s 39ms/step - loss: 0.0117 - val_loss: 0.1103\n",
            "Epoch 616/1000\n",
            "1/1 [==============================] - 0s 34ms/step - loss: 0.0115 - val_loss: 0.1101\n",
            "Epoch 617/1000\n",
            "1/1 [==============================] - 0s 46ms/step - loss: 0.0114 - val_loss: 0.1100\n",
            "Epoch 618/1000\n",
            "1/1 [==============================] - 0s 36ms/step - loss: 0.0113 - val_loss: 0.1098\n",
            "Epoch 619/1000\n",
            "1/1 [==============================] - 0s 35ms/step - loss: 0.0112 - val_loss: 0.1097\n",
            "Epoch 620/1000\n",
            "1/1 [==============================] - 0s 37ms/step - loss: 0.0111 - val_loss: 0.1096\n",
            "Epoch 621/1000\n",
            "1/1 [==============================] - 0s 38ms/step - loss: 0.0111 - val_loss: 0.1094\n",
            "Epoch 622/1000\n",
            "1/1 [==============================] - 0s 34ms/step - loss: 0.0110 - val_loss: 0.1093\n",
            "Epoch 623/1000\n",
            "1/1 [==============================] - 0s 38ms/step - loss: 0.0109 - val_loss: 0.1092\n",
            "Epoch 624/1000\n",
            "1/1 [==============================] - 0s 36ms/step - loss: 0.0108 - val_loss: 0.1090\n",
            "Epoch 625/1000\n",
            "1/1 [==============================] - 0s 45ms/step - loss: 0.0107 - val_loss: 0.1089\n",
            "Epoch 626/1000\n",
            "1/1 [==============================] - 0s 36ms/step - loss: 0.0106 - val_loss: 0.1087\n",
            "Epoch 627/1000\n",
            "1/1 [==============================] - 0s 42ms/step - loss: 0.0105 - val_loss: 0.1086\n",
            "Epoch 628/1000\n",
            "1/1 [==============================] - 0s 45ms/step - loss: 0.0104 - val_loss: 0.1084\n",
            "Epoch 629/1000\n",
            "1/1 [==============================] - 0s 39ms/step - loss: 0.0103 - val_loss: 0.1083\n",
            "Epoch 630/1000\n",
            "1/1 [==============================] - 0s 53ms/step - loss: 0.0102 - val_loss: 0.1082\n",
            "Epoch 631/1000\n",
            "1/1 [==============================] - 0s 36ms/step - loss: 0.0101 - val_loss: 0.1080\n",
            "Epoch 632/1000\n",
            "1/1 [==============================] - 0s 36ms/step - loss: 0.0101 - val_loss: 0.1079\n",
            "Epoch 633/1000\n",
            "1/1 [==============================] - 0s 36ms/step - loss: 0.0100 - val_loss: 0.1078\n",
            "Epoch 634/1000\n",
            "1/1 [==============================] - 0s 38ms/step - loss: 0.0099 - val_loss: 0.1076\n",
            "Epoch 635/1000\n",
            "1/1 [==============================] - 0s 38ms/step - loss: 0.0098 - val_loss: 0.1075\n",
            "Epoch 636/1000\n",
            "1/1 [==============================] - 0s 54ms/step - loss: 0.0097 - val_loss: 0.1073\n",
            "Epoch 637/1000\n",
            "1/1 [==============================] - 0s 40ms/step - loss: 0.0097 - val_loss: 0.1072\n",
            "Epoch 638/1000\n",
            "1/1 [==============================] - 0s 54ms/step - loss: 0.0096 - val_loss: 0.1070\n",
            "Epoch 639/1000\n",
            "1/1 [==============================] - 0s 58ms/step - loss: 0.0095 - val_loss: 0.1069\n",
            "Epoch 640/1000\n",
            "1/1 [==============================] - 0s 37ms/step - loss: 0.0094 - val_loss: 0.1068\n",
            "Epoch 641/1000\n",
            "1/1 [==============================] - 0s 41ms/step - loss: 0.0094 - val_loss: 0.1066\n",
            "Epoch 642/1000\n",
            "1/1 [==============================] - 0s 37ms/step - loss: 0.0093 - val_loss: 0.1065\n",
            "Epoch 643/1000\n",
            "1/1 [==============================] - 0s 37ms/step - loss: 0.0092 - val_loss: 0.1063\n",
            "Epoch 644/1000\n",
            "1/1 [==============================] - 0s 39ms/step - loss: 0.0091 - val_loss: 0.1062\n",
            "Epoch 645/1000\n",
            "1/1 [==============================] - 0s 36ms/step - loss: 0.0091 - val_loss: 0.1060\n",
            "Epoch 646/1000\n",
            "1/1 [==============================] - 0s 38ms/step - loss: 0.0090 - val_loss: 0.1059\n",
            "Epoch 647/1000\n",
            "1/1 [==============================] - 0s 38ms/step - loss: 0.0089 - val_loss: 0.1057\n",
            "Epoch 648/1000\n",
            "1/1 [==============================] - 0s 56ms/step - loss: 0.0089 - val_loss: 0.1056\n",
            "Epoch 649/1000\n",
            "1/1 [==============================] - 0s 40ms/step - loss: 0.0088 - val_loss: 0.1055\n",
            "Epoch 650/1000\n",
            "1/1 [==============================] - 0s 37ms/step - loss: 0.0087 - val_loss: 0.1053\n",
            "Epoch 651/1000\n",
            "1/1 [==============================] - 0s 42ms/step - loss: 0.0087 - val_loss: 0.1052\n",
            "Epoch 652/1000\n",
            "1/1 [==============================] - 0s 42ms/step - loss: 0.0086 - val_loss: 0.1050\n",
            "Epoch 653/1000\n",
            "1/1 [==============================] - 0s 41ms/step - loss: 0.0085 - val_loss: 0.1049\n",
            "Epoch 654/1000\n",
            "1/1 [==============================] - 0s 40ms/step - loss: 0.0085 - val_loss: 0.1047\n",
            "Epoch 655/1000\n",
            "1/1 [==============================] - 0s 39ms/step - loss: 0.0084 - val_loss: 0.1046\n",
            "Epoch 656/1000\n",
            "1/1 [==============================] - 0s 39ms/step - loss: 0.0084 - val_loss: 0.1045\n",
            "Epoch 657/1000\n",
            "1/1 [==============================] - 0s 37ms/step - loss: 0.0083 - val_loss: 0.1043\n",
            "Epoch 658/1000\n",
            "1/1 [==============================] - 0s 41ms/step - loss: 0.0082 - val_loss: 0.1042\n",
            "Epoch 659/1000\n",
            "1/1 [==============================] - 0s 43ms/step - loss: 0.0082 - val_loss: 0.1041\n",
            "Epoch 660/1000\n",
            "1/1 [==============================] - 0s 42ms/step - loss: 0.0081 - val_loss: 0.1039\n",
            "Epoch 661/1000\n",
            "1/1 [==============================] - 0s 41ms/step - loss: 0.0081 - val_loss: 0.1038\n",
            "Epoch 662/1000\n",
            "1/1 [==============================] - 0s 38ms/step - loss: 0.0080 - val_loss: 0.1036\n",
            "Epoch 663/1000\n",
            "1/1 [==============================] - 0s 37ms/step - loss: 0.0080 - val_loss: 0.1035\n",
            "Epoch 664/1000\n",
            "1/1 [==============================] - 0s 33ms/step - loss: 0.0079 - val_loss: 0.1033\n",
            "Epoch 665/1000\n",
            "1/1 [==============================] - 0s 41ms/step - loss: 0.0079 - val_loss: 0.1032\n",
            "Epoch 666/1000\n",
            "1/1 [==============================] - 0s 34ms/step - loss: 0.0078 - val_loss: 0.1031\n",
            "Epoch 667/1000\n",
            "1/1 [==============================] - 0s 37ms/step - loss: 0.0078 - val_loss: 0.1029\n",
            "Epoch 668/1000\n",
            "1/1 [==============================] - 0s 35ms/step - loss: 0.0077 - val_loss: 0.1028\n",
            "Epoch 669/1000\n",
            "1/1 [==============================] - 0s 37ms/step - loss: 0.0077 - val_loss: 0.1027\n",
            "Epoch 670/1000\n",
            "1/1 [==============================] - 0s 32ms/step - loss: 0.0076 - val_loss: 0.1025\n",
            "Epoch 671/1000\n",
            "1/1 [==============================] - 0s 65ms/step - loss: 0.0075 - val_loss: 0.1024\n",
            "Epoch 672/1000\n",
            "1/1 [==============================] - 0s 34ms/step - loss: 0.0075 - val_loss: 0.1023\n",
            "Epoch 673/1000\n",
            "1/1 [==============================] - 0s 38ms/step - loss: 0.0075 - val_loss: 0.1022\n",
            "Epoch 674/1000\n",
            "1/1 [==============================] - 0s 35ms/step - loss: 0.0074 - val_loss: 0.1020\n",
            "Epoch 675/1000\n",
            "1/1 [==============================] - 0s 62ms/step - loss: 0.0074 - val_loss: 0.1019\n",
            "Epoch 676/1000\n",
            "1/1 [==============================] - 0s 36ms/step - loss: 0.0073 - val_loss: 0.1018\n",
            "Epoch 677/1000\n",
            "1/1 [==============================] - 0s 50ms/step - loss: 0.0073 - val_loss: 0.1016\n",
            "Epoch 678/1000\n",
            "1/1 [==============================] - 0s 39ms/step - loss: 0.0072 - val_loss: 0.1015\n",
            "Epoch 679/1000\n",
            "1/1 [==============================] - 0s 36ms/step - loss: 0.0072 - val_loss: 0.1013\n",
            "Epoch 680/1000\n",
            "1/1 [==============================] - 0s 34ms/step - loss: 0.0071 - val_loss: 0.1012\n",
            "Epoch 681/1000\n",
            "1/1 [==============================] - 0s 50ms/step - loss: 0.0071 - val_loss: 0.1011\n",
            "Epoch 682/1000\n",
            "1/1 [==============================] - 0s 40ms/step - loss: 0.0070 - val_loss: 0.1010\n",
            "Epoch 683/1000\n",
            "1/1 [==============================] - 0s 39ms/step - loss: 0.0070 - val_loss: 0.1009\n",
            "Epoch 684/1000\n",
            "1/1 [==============================] - 0s 44ms/step - loss: 0.0070 - val_loss: 0.1007\n",
            "Epoch 685/1000\n",
            "1/1 [==============================] - 0s 34ms/step - loss: 0.0069 - val_loss: 0.1006\n",
            "Epoch 686/1000\n",
            "1/1 [==============================] - 0s 34ms/step - loss: 0.0069 - val_loss: 0.1005\n",
            "Epoch 687/1000\n",
            "1/1 [==============================] - 0s 41ms/step - loss: 0.0068 - val_loss: 0.1003\n",
            "Epoch 688/1000\n",
            "1/1 [==============================] - 0s 38ms/step - loss: 0.0068 - val_loss: 0.1002\n",
            "Epoch 689/1000\n",
            "1/1 [==============================] - 0s 34ms/step - loss: 0.0068 - val_loss: 0.1001\n",
            "Epoch 690/1000\n",
            "1/1 [==============================] - 0s 37ms/step - loss: 0.0067 - val_loss: 0.1000\n",
            "Epoch 691/1000\n",
            "1/1 [==============================] - 0s 37ms/step - loss: 0.0067 - val_loss: 0.0999\n",
            "Epoch 692/1000\n",
            "1/1 [==============================] - 0s 39ms/step - loss: 0.0066 - val_loss: 0.0998\n",
            "Epoch 693/1000\n",
            "1/1 [==============================] - 0s 47ms/step - loss: 0.0066 - val_loss: 0.0997\n",
            "Epoch 694/1000\n",
            "1/1 [==============================] - 0s 34ms/step - loss: 0.0066 - val_loss: 0.0996\n",
            "Epoch 695/1000\n",
            "1/1 [==============================] - 0s 34ms/step - loss: 0.0065 - val_loss: 0.0994\n",
            "Epoch 696/1000\n",
            "1/1 [==============================] - 0s 38ms/step - loss: 0.0065 - val_loss: 0.0993\n",
            "Epoch 697/1000\n",
            "1/1 [==============================] - 0s 35ms/step - loss: 0.0065 - val_loss: 0.0992\n",
            "Epoch 698/1000\n",
            "1/1 [==============================] - 0s 40ms/step - loss: 0.0064 - val_loss: 0.0991\n",
            "Epoch 699/1000\n",
            "1/1 [==============================] - 0s 35ms/step - loss: 0.0064 - val_loss: 0.0990\n",
            "Epoch 700/1000\n",
            "1/1 [==============================] - 0s 37ms/step - loss: 0.0064 - val_loss: 0.0989\n",
            "Epoch 701/1000\n",
            "1/1 [==============================] - 0s 36ms/step - loss: 0.0063 - val_loss: 0.0988\n",
            "Epoch 702/1000\n",
            "1/1 [==============================] - 0s 41ms/step - loss: 0.0063 - val_loss: 0.0987\n",
            "Epoch 703/1000\n",
            "1/1 [==============================] - 0s 37ms/step - loss: 0.0063 - val_loss: 0.0986\n",
            "Epoch 704/1000\n",
            "1/1 [==============================] - 0s 54ms/step - loss: 0.0062 - val_loss: 0.0985\n",
            "Epoch 705/1000\n",
            "1/1 [==============================] - 0s 35ms/step - loss: 0.0062 - val_loss: 0.0983\n",
            "Epoch 706/1000\n",
            "1/1 [==============================] - 0s 43ms/step - loss: 0.0062 - val_loss: 0.0982\n",
            "Epoch 707/1000\n",
            "1/1 [==============================] - 0s 47ms/step - loss: 0.0061 - val_loss: 0.0981\n",
            "Epoch 708/1000\n",
            "1/1 [==============================] - 0s 39ms/step - loss: 0.0061 - val_loss: 0.0980\n",
            "Epoch 709/1000\n",
            "1/1 [==============================] - 0s 39ms/step - loss: 0.0061 - val_loss: 0.0979\n",
            "Epoch 710/1000\n",
            "1/1 [==============================] - 0s 43ms/step - loss: 0.0060 - val_loss: 0.0979\n",
            "Epoch 711/1000\n",
            "1/1 [==============================] - 0s 43ms/step - loss: 0.0060 - val_loss: 0.0978\n",
            "Epoch 712/1000\n",
            "1/1 [==============================] - 0s 36ms/step - loss: 0.0060 - val_loss: 0.0977\n",
            "Epoch 713/1000\n",
            "1/1 [==============================] - 0s 36ms/step - loss: 0.0059 - val_loss: 0.0976\n",
            "Epoch 714/1000\n",
            "1/1 [==============================] - 0s 40ms/step - loss: 0.0059 - val_loss: 0.0975\n",
            "Epoch 715/1000\n",
            "1/1 [==============================] - 0s 38ms/step - loss: 0.0059 - val_loss: 0.0974\n",
            "Epoch 716/1000\n",
            "1/1 [==============================] - 0s 47ms/step - loss: 0.0059 - val_loss: 0.0973\n",
            "Epoch 717/1000\n",
            "1/1 [==============================] - 0s 37ms/step - loss: 0.0058 - val_loss: 0.0972\n",
            "Epoch 718/1000\n",
            "1/1 [==============================] - 0s 41ms/step - loss: 0.0058 - val_loss: 0.0971\n",
            "Epoch 719/1000\n",
            "1/1 [==============================] - 0s 39ms/step - loss: 0.0058 - val_loss: 0.0970\n",
            "Epoch 720/1000\n",
            "1/1 [==============================] - 0s 37ms/step - loss: 0.0057 - val_loss: 0.0969\n",
            "Epoch 721/1000\n",
            "1/1 [==============================] - 0s 49ms/step - loss: 0.0057 - val_loss: 0.0968\n",
            "Epoch 722/1000\n",
            "1/1 [==============================] - 0s 41ms/step - loss: 0.0057 - val_loss: 0.0967\n",
            "Epoch 723/1000\n",
            "1/1 [==============================] - 0s 37ms/step - loss: 0.0057 - val_loss: 0.0966\n",
            "Epoch 724/1000\n",
            "1/1 [==============================] - 0s 50ms/step - loss: 0.0056 - val_loss: 0.0966\n",
            "Epoch 725/1000\n",
            "1/1 [==============================] - 0s 44ms/step - loss: 0.0056 - val_loss: 0.0965\n",
            "Epoch 726/1000\n",
            "1/1 [==============================] - 0s 40ms/step - loss: 0.0056 - val_loss: 0.0964\n",
            "Epoch 727/1000\n",
            "1/1 [==============================] - 0s 39ms/step - loss: 0.0056 - val_loss: 0.0963\n",
            "Epoch 728/1000\n",
            "1/1 [==============================] - 0s 36ms/step - loss: 0.0055 - val_loss: 0.0963\n",
            "Epoch 729/1000\n",
            "1/1 [==============================] - 0s 37ms/step - loss: 0.0055 - val_loss: 0.0962\n",
            "Epoch 730/1000\n",
            "1/1 [==============================] - 0s 38ms/step - loss: 0.0055 - val_loss: 0.0961\n",
            "Epoch 731/1000\n",
            "1/1 [==============================] - 0s 37ms/step - loss: 0.0055 - val_loss: 0.0960\n",
            "Epoch 732/1000\n",
            "1/1 [==============================] - 0s 37ms/step - loss: 0.0054 - val_loss: 0.0959\n",
            "Epoch 733/1000\n",
            "1/1 [==============================] - 0s 43ms/step - loss: 0.0054 - val_loss: 0.0958\n",
            "Epoch 734/1000\n",
            "1/1 [==============================] - 0s 39ms/step - loss: 0.0054 - val_loss: 0.0958\n",
            "Epoch 735/1000\n",
            "1/1 [==============================] - 0s 36ms/step - loss: 0.0053 - val_loss: 0.0957\n",
            "Epoch 736/1000\n",
            "1/1 [==============================] - 0s 40ms/step - loss: 0.0053 - val_loss: 0.0957\n",
            "Epoch 737/1000\n",
            "1/1 [==============================] - 0s 41ms/step - loss: 0.0053 - val_loss: 0.0956\n",
            "Epoch 738/1000\n",
            "1/1 [==============================] - 0s 35ms/step - loss: 0.0053 - val_loss: 0.0955\n",
            "Epoch 739/1000\n",
            "1/1 [==============================] - 0s 38ms/step - loss: 0.0053 - val_loss: 0.0954\n",
            "Epoch 740/1000\n",
            "1/1 [==============================] - 0s 36ms/step - loss: 0.0052 - val_loss: 0.0953\n",
            "Epoch 741/1000\n",
            "1/1 [==============================] - 0s 36ms/step - loss: 0.0052 - val_loss: 0.0953\n",
            "Epoch 742/1000\n",
            "1/1 [==============================] - 0s 32ms/step - loss: 0.0052 - val_loss: 0.0952\n",
            "Epoch 743/1000\n",
            "1/1 [==============================] - 0s 44ms/step - loss: 0.0052 - val_loss: 0.0951\n",
            "Epoch 744/1000\n",
            "1/1 [==============================] - 0s 46ms/step - loss: 0.0051 - val_loss: 0.0950\n",
            "Epoch 745/1000\n",
            "1/1 [==============================] - 0s 39ms/step - loss: 0.0051 - val_loss: 0.0950\n",
            "Epoch 746/1000\n",
            "1/1 [==============================] - 0s 48ms/step - loss: 0.0051 - val_loss: 0.0949\n",
            "Epoch 747/1000\n",
            "1/1 [==============================] - 0s 36ms/step - loss: 0.0051 - val_loss: 0.0949\n",
            "Epoch 748/1000\n",
            "1/1 [==============================] - 0s 59ms/step - loss: 0.0050 - val_loss: 0.0948\n",
            "Epoch 749/1000\n",
            "1/1 [==============================] - 0s 45ms/step - loss: 0.0050 - val_loss: 0.0948\n",
            "Epoch 750/1000\n",
            "1/1 [==============================] - 0s 43ms/step - loss: 0.0050 - val_loss: 0.0947\n",
            "Epoch 751/1000\n",
            "1/1 [==============================] - 0s 35ms/step - loss: 0.0050 - val_loss: 0.0946\n",
            "Epoch 752/1000\n",
            "1/1 [==============================] - 0s 36ms/step - loss: 0.0050 - val_loss: 0.0945\n",
            "Epoch 753/1000\n",
            "1/1 [==============================] - 0s 39ms/step - loss: 0.0049 - val_loss: 0.0945\n",
            "Epoch 754/1000\n",
            "1/1 [==============================] - 0s 37ms/step - loss: 0.0049 - val_loss: 0.0944\n",
            "Epoch 755/1000\n",
            "1/1 [==============================] - 0s 43ms/step - loss: 0.0049 - val_loss: 0.0944\n",
            "Epoch 756/1000\n",
            "1/1 [==============================] - 0s 39ms/step - loss: 0.0049 - val_loss: 0.0943\n",
            "Epoch 757/1000\n",
            "1/1 [==============================] - 0s 42ms/step - loss: 0.0049 - val_loss: 0.0943\n",
            "Epoch 758/1000\n",
            "1/1 [==============================] - 0s 41ms/step - loss: 0.0048 - val_loss: 0.0942\n",
            "Epoch 759/1000\n",
            "1/1 [==============================] - 0s 40ms/step - loss: 0.0048 - val_loss: 0.0941\n",
            "Epoch 760/1000\n",
            "1/1 [==============================] - 0s 47ms/step - loss: 0.0048 - val_loss: 0.0941\n",
            "Epoch 761/1000\n",
            "1/1 [==============================] - 0s 38ms/step - loss: 0.0048 - val_loss: 0.0940\n",
            "Epoch 762/1000\n",
            "1/1 [==============================] - 0s 38ms/step - loss: 0.0048 - val_loss: 0.0940\n",
            "Epoch 763/1000\n",
            "1/1 [==============================] - 0s 39ms/step - loss: 0.0047 - val_loss: 0.0939\n",
            "Epoch 764/1000\n",
            "1/1 [==============================] - 0s 37ms/step - loss: 0.0047 - val_loss: 0.0939\n",
            "Epoch 765/1000\n",
            "1/1 [==============================] - 0s 41ms/step - loss: 0.0047 - val_loss: 0.0938\n",
            "Epoch 766/1000\n",
            "1/1 [==============================] - 0s 36ms/step - loss: 0.0047 - val_loss: 0.0938\n",
            "Epoch 767/1000\n",
            "1/1 [==============================] - 0s 46ms/step - loss: 0.0047 - val_loss: 0.0937\n",
            "Epoch 768/1000\n",
            "1/1 [==============================] - 0s 36ms/step - loss: 0.0046 - val_loss: 0.0937\n",
            "Epoch 769/1000\n",
            "1/1 [==============================] - 0s 34ms/step - loss: 0.0046 - val_loss: 0.0936\n",
            "Epoch 770/1000\n",
            "1/1 [==============================] - 0s 38ms/step - loss: 0.0046 - val_loss: 0.0936\n",
            "Epoch 771/1000\n",
            "1/1 [==============================] - 0s 37ms/step - loss: 0.0046 - val_loss: 0.0935\n",
            "Epoch 772/1000\n",
            "1/1 [==============================] - 0s 38ms/step - loss: 0.0046 - val_loss: 0.0935\n",
            "Epoch 773/1000\n",
            "1/1 [==============================] - 0s 42ms/step - loss: 0.0045 - val_loss: 0.0934\n",
            "Epoch 774/1000\n",
            "1/1 [==============================] - 0s 43ms/step - loss: 0.0045 - val_loss: 0.0934\n",
            "Epoch 775/1000\n",
            "1/1 [==============================] - 0s 40ms/step - loss: 0.0045 - val_loss: 0.0933\n",
            "Epoch 776/1000\n",
            "1/1 [==============================] - 0s 36ms/step - loss: 0.0045 - val_loss: 0.0933\n",
            "Epoch 777/1000\n",
            "1/1 [==============================] - 0s 38ms/step - loss: 0.0045 - val_loss: 0.0933\n",
            "Epoch 778/1000\n",
            "1/1 [==============================] - 0s 43ms/step - loss: 0.0045 - val_loss: 0.0932\n",
            "Epoch 779/1000\n",
            "1/1 [==============================] - 0s 49ms/step - loss: 0.0044 - val_loss: 0.0932\n",
            "Epoch 780/1000\n",
            "1/1 [==============================] - 0s 36ms/step - loss: 0.0044 - val_loss: 0.0932\n",
            "Epoch 781/1000\n",
            "1/1 [==============================] - 0s 45ms/step - loss: 0.0044 - val_loss: 0.0931\n",
            "Epoch 782/1000\n",
            "1/1 [==============================] - 0s 40ms/step - loss: 0.0044 - val_loss: 0.0931\n",
            "Epoch 783/1000\n",
            "1/1 [==============================] - 0s 39ms/step - loss: 0.0044 - val_loss: 0.0930\n",
            "Epoch 784/1000\n",
            "1/1 [==============================] - 0s 36ms/step - loss: 0.0043 - val_loss: 0.0930\n",
            "Epoch 785/1000\n",
            "1/1 [==============================] - 0s 43ms/step - loss: 0.0043 - val_loss: 0.0930\n",
            "Epoch 786/1000\n",
            "1/1 [==============================] - 0s 38ms/step - loss: 0.0043 - val_loss: 0.0929\n",
            "Epoch 787/1000\n",
            "1/1 [==============================] - 0s 36ms/step - loss: 0.0043 - val_loss: 0.0929\n",
            "Epoch 788/1000\n",
            "1/1 [==============================] - 0s 41ms/step - loss: 0.0043 - val_loss: 0.0929\n",
            "Epoch 789/1000\n",
            "1/1 [==============================] - 0s 46ms/step - loss: 0.0043 - val_loss: 0.0929\n",
            "Epoch 790/1000\n",
            "1/1 [==============================] - 0s 47ms/step - loss: 0.0042 - val_loss: 0.0928\n",
            "Epoch 791/1000\n",
            "1/1 [==============================] - 0s 41ms/step - loss: 0.0042 - val_loss: 0.0928\n",
            "Epoch 792/1000\n",
            "1/1 [==============================] - 0s 40ms/step - loss: 0.0042 - val_loss: 0.0928\n",
            "Epoch 793/1000\n",
            "1/1 [==============================] - 0s 35ms/step - loss: 0.0042 - val_loss: 0.0927\n",
            "Epoch 794/1000\n",
            "1/1 [==============================] - 0s 39ms/step - loss: 0.0042 - val_loss: 0.0927\n",
            "Epoch 795/1000\n",
            "1/1 [==============================] - 0s 37ms/step - loss: 0.0042 - val_loss: 0.0927\n",
            "Epoch 796/1000\n",
            "1/1 [==============================] - 0s 46ms/step - loss: 0.0042 - val_loss: 0.0926\n",
            "Epoch 797/1000\n",
            "1/1 [==============================] - 0s 41ms/step - loss: 0.0041 - val_loss: 0.0926\n",
            "Epoch 798/1000\n",
            "1/1 [==============================] - 0s 40ms/step - loss: 0.0041 - val_loss: 0.0926\n",
            "Epoch 799/1000\n",
            "1/1 [==============================] - 0s 36ms/step - loss: 0.0041 - val_loss: 0.0926\n",
            "Epoch 800/1000\n",
            "1/1 [==============================] - 0s 37ms/step - loss: 0.0041 - val_loss: 0.0925\n",
            "Epoch 801/1000\n",
            "1/1 [==============================] - 0s 50ms/step - loss: 0.0041 - val_loss: 0.0925\n",
            "Epoch 802/1000\n",
            "1/1 [==============================] - 0s 35ms/step - loss: 0.0041 - val_loss: 0.0925\n",
            "Epoch 803/1000\n",
            "1/1 [==============================] - 0s 38ms/step - loss: 0.0040 - val_loss: 0.0925\n",
            "Epoch 804/1000\n",
            "1/1 [==============================] - 0s 40ms/step - loss: 0.0040 - val_loss: 0.0925\n",
            "Epoch 805/1000\n",
            "1/1 [==============================] - 0s 39ms/step - loss: 0.0040 - val_loss: 0.0925\n",
            "Epoch 806/1000\n",
            "1/1 [==============================] - 0s 45ms/step - loss: 0.0040 - val_loss: 0.0924\n",
            "Epoch 807/1000\n",
            "1/1 [==============================] - 0s 40ms/step - loss: 0.0040 - val_loss: 0.0924\n",
            "Epoch 808/1000\n",
            "1/1 [==============================] - 0s 36ms/step - loss: 0.0040 - val_loss: 0.0924\n",
            "Epoch 809/1000\n",
            "1/1 [==============================] - 0s 41ms/step - loss: 0.0039 - val_loss: 0.0923\n",
            "Epoch 810/1000\n",
            "1/1 [==============================] - 0s 35ms/step - loss: 0.0039 - val_loss: 0.0923\n",
            "Epoch 811/1000\n",
            "1/1 [==============================] - 0s 56ms/step - loss: 0.0039 - val_loss: 0.0923\n",
            "Epoch 812/1000\n",
            "1/1 [==============================] - 0s 46ms/step - loss: 0.0039 - val_loss: 0.0923\n",
            "Epoch 813/1000\n",
            "1/1 [==============================] - 0s 42ms/step - loss: 0.0039 - val_loss: 0.0923\n",
            "Epoch 814/1000\n",
            "1/1 [==============================] - 0s 37ms/step - loss: 0.0039 - val_loss: 0.0923\n",
            "Epoch 815/1000\n",
            "1/1 [==============================] - 0s 42ms/step - loss: 0.0039 - val_loss: 0.0922\n",
            "Epoch 816/1000\n",
            "1/1 [==============================] - 0s 38ms/step - loss: 0.0038 - val_loss: 0.0922\n",
            "Epoch 817/1000\n",
            "1/1 [==============================] - 0s 49ms/step - loss: 0.0038 - val_loss: 0.0922\n",
            "Epoch 818/1000\n",
            "1/1 [==============================] - 0s 45ms/step - loss: 0.0038 - val_loss: 0.0922\n",
            "Epoch 819/1000\n",
            "1/1 [==============================] - 0s 38ms/step - loss: 0.0038 - val_loss: 0.0922\n",
            "Epoch 820/1000\n",
            "1/1 [==============================] - 0s 38ms/step - loss: 0.0038 - val_loss: 0.0922\n",
            "Epoch 821/1000\n",
            "1/1 [==============================] - 0s 33ms/step - loss: 0.0038 - val_loss: 0.0922\n",
            "Epoch 822/1000\n",
            "1/1 [==============================] - 0s 35ms/step - loss: 0.0038 - val_loss: 0.0922\n",
            "Epoch 823/1000\n",
            "1/1 [==============================] - 0s 43ms/step - loss: 0.0037 - val_loss: 0.0921\n",
            "Epoch 824/1000\n",
            "1/1 [==============================] - 0s 38ms/step - loss: 0.0037 - val_loss: 0.0921\n",
            "Epoch 825/1000\n",
            "1/1 [==============================] - 0s 40ms/step - loss: 0.0037 - val_loss: 0.0921\n",
            "Epoch 826/1000\n",
            "1/1 [==============================] - 0s 37ms/step - loss: 0.0037 - val_loss: 0.0921\n",
            "Epoch 827/1000\n",
            "1/1 [==============================] - 0s 41ms/step - loss: 0.0037 - val_loss: 0.0921\n",
            "Epoch 828/1000\n",
            "1/1 [==============================] - 0s 35ms/step - loss: 0.0037 - val_loss: 0.0922\n",
            "Epoch 829/1000\n",
            "1/1 [==============================] - 0s 48ms/step - loss: 0.0037 - val_loss: 0.0922\n",
            "Epoch 830/1000\n",
            "1/1 [==============================] - 0s 39ms/step - loss: 0.0037 - val_loss: 0.0922\n",
            "Epoch 831/1000\n",
            "1/1 [==============================] - 0s 40ms/step - loss: 0.0036 - val_loss: 0.0922\n",
            "Epoch 832/1000\n",
            "1/1 [==============================] - 0s 43ms/step - loss: 0.0036 - val_loss: 0.0922\n",
            "Epoch 833/1000\n",
            "1/1 [==============================] - 0s 43ms/step - loss: 0.0036 - val_loss: 0.0921\n",
            "Epoch 834/1000\n",
            "1/1 [==============================] - 0s 44ms/step - loss: 0.0036 - val_loss: 0.0921\n",
            "Epoch 835/1000\n",
            "1/1 [==============================] - 0s 34ms/step - loss: 0.0036 - val_loss: 0.0920\n",
            "Epoch 836/1000\n",
            "1/1 [==============================] - 0s 40ms/step - loss: 0.0036 - val_loss: 0.0920\n",
            "Epoch 837/1000\n",
            "1/1 [==============================] - 0s 35ms/step - loss: 0.0036 - val_loss: 0.0920\n",
            "Epoch 838/1000\n",
            "1/1 [==============================] - 0s 39ms/step - loss: 0.0035 - val_loss: 0.0920\n",
            "Epoch 839/1000\n",
            "1/1 [==============================] - 0s 43ms/step - loss: 0.0035 - val_loss: 0.0920\n",
            "Epoch 840/1000\n",
            "1/1 [==============================] - 0s 38ms/step - loss: 0.0035 - val_loss: 0.0921\n",
            "Epoch 841/1000\n",
            "1/1 [==============================] - 0s 38ms/step - loss: 0.0035 - val_loss: 0.0921\n",
            "Epoch 842/1000\n",
            "1/1 [==============================] - 0s 37ms/step - loss: 0.0035 - val_loss: 0.0921\n",
            "Epoch 843/1000\n",
            "1/1 [==============================] - 0s 36ms/step - loss: 0.0035 - val_loss: 0.0921\n",
            "Epoch 844/1000\n",
            "1/1 [==============================] - 0s 37ms/step - loss: 0.0035 - val_loss: 0.0921\n",
            "Epoch 845/1000\n",
            "1/1 [==============================] - 0s 45ms/step - loss: 0.0035 - val_loss: 0.0920\n",
            "Epoch 846/1000\n",
            "1/1 [==============================] - 0s 46ms/step - loss: 0.0034 - val_loss: 0.0920\n",
            "Epoch 847/1000\n",
            "1/1 [==============================] - 0s 32ms/step - loss: 0.0034 - val_loss: 0.0920\n",
            "Epoch 848/1000\n",
            "1/1 [==============================] - 0s 32ms/step - loss: 0.0034 - val_loss: 0.0919\n",
            "Epoch 849/1000\n",
            "1/1 [==============================] - 0s 38ms/step - loss: 0.0034 - val_loss: 0.0920\n",
            "Epoch 850/1000\n",
            "1/1 [==============================] - 0s 38ms/step - loss: 0.0034 - val_loss: 0.0920\n",
            "Epoch 851/1000\n",
            "1/1 [==============================] - 0s 41ms/step - loss: 0.0034 - val_loss: 0.0920\n",
            "Epoch 852/1000\n",
            "1/1 [==============================] - 0s 37ms/step - loss: 0.0034 - val_loss: 0.0920\n",
            "Epoch 853/1000\n",
            "1/1 [==============================] - 0s 40ms/step - loss: 0.0034 - val_loss: 0.0921\n",
            "Epoch 854/1000\n",
            "1/1 [==============================] - 0s 40ms/step - loss: 0.0034 - val_loss: 0.0920\n",
            "Epoch 855/1000\n",
            "1/1 [==============================] - 0s 44ms/step - loss: 0.0033 - val_loss: 0.0920\n",
            "Epoch 856/1000\n",
            "1/1 [==============================] - 0s 46ms/step - loss: 0.0033 - val_loss: 0.0920\n",
            "Epoch 857/1000\n",
            "1/1 [==============================] - 0s 39ms/step - loss: 0.0033 - val_loss: 0.0920\n",
            "Epoch 858/1000\n",
            "1/1 [==============================] - 0s 42ms/step - loss: 0.0033 - val_loss: 0.0919\n",
            "Epoch 859/1000\n",
            "1/1 [==============================] - 0s 34ms/step - loss: 0.0033 - val_loss: 0.0919\n",
            "Epoch 860/1000\n",
            "1/1 [==============================] - 0s 40ms/step - loss: 0.0033 - val_loss: 0.0919\n",
            "Epoch 861/1000\n",
            "1/1 [==============================] - 0s 36ms/step - loss: 0.0033 - val_loss: 0.0919\n",
            "Epoch 862/1000\n",
            "1/1 [==============================] - 0s 37ms/step - loss: 0.0033 - val_loss: 0.0920\n",
            "Epoch 863/1000\n",
            "1/1 [==============================] - 0s 35ms/step - loss: 0.0033 - val_loss: 0.0920\n",
            "Epoch 864/1000\n",
            "1/1 [==============================] - 0s 36ms/step - loss: 0.0032 - val_loss: 0.0920\n",
            "Epoch 865/1000\n",
            "1/1 [==============================] - 0s 33ms/step - loss: 0.0032 - val_loss: 0.0921\n",
            "Epoch 866/1000\n",
            "1/1 [==============================] - 0s 38ms/step - loss: 0.0032 - val_loss: 0.0921\n",
            "Epoch 867/1000\n",
            "1/1 [==============================] - 0s 36ms/step - loss: 0.0032 - val_loss: 0.0921\n",
            "Epoch 868/1000\n",
            "1/1 [==============================] - 0s 36ms/step - loss: 0.0032 - val_loss: 0.0921\n",
            "Epoch 869/1000\n",
            "1/1 [==============================] - 0s 33ms/step - loss: 0.0032 - val_loss: 0.0920\n",
            "Epoch 870/1000\n",
            "1/1 [==============================] - 0s 33ms/step - loss: 0.0032 - val_loss: 0.0920\n",
            "Epoch 871/1000\n",
            "1/1 [==============================] - 0s 33ms/step - loss: 0.0032 - val_loss: 0.0920\n",
            "Epoch 872/1000\n",
            "1/1 [==============================] - 0s 39ms/step - loss: 0.0032 - val_loss: 0.0920\n",
            "Epoch 873/1000\n",
            "1/1 [==============================] - 0s 33ms/step - loss: 0.0031 - val_loss: 0.0919\n",
            "Epoch 874/1000\n",
            "1/1 [==============================] - 0s 37ms/step - loss: 0.0031 - val_loss: 0.0920\n",
            "Epoch 875/1000\n",
            "1/1 [==============================] - 0s 42ms/step - loss: 0.0031 - val_loss: 0.0920\n",
            "Epoch 876/1000\n",
            "1/1 [==============================] - 0s 33ms/step - loss: 0.0031 - val_loss: 0.0920\n",
            "Epoch 877/1000\n",
            "1/1 [==============================] - 0s 46ms/step - loss: 0.0031 - val_loss: 0.0921\n",
            "Epoch 878/1000\n",
            "1/1 [==============================] - 0s 44ms/step - loss: 0.0031 - val_loss: 0.0921\n",
            "Epoch 879/1000\n",
            "1/1 [==============================] - 0s 43ms/step - loss: 0.0031 - val_loss: 0.0922\n",
            "Epoch 880/1000\n",
            "1/1 [==============================] - 0s 46ms/step - loss: 0.0031 - val_loss: 0.0922\n",
            "Epoch 881/1000\n",
            "1/1 [==============================] - 0s 37ms/step - loss: 0.0031 - val_loss: 0.0922\n",
            "Epoch 882/1000\n",
            "1/1 [==============================] - 0s 41ms/step - loss: 0.0030 - val_loss: 0.0921\n",
            "Epoch 883/1000\n",
            "1/1 [==============================] - 0s 44ms/step - loss: 0.0030 - val_loss: 0.0921\n",
            "Epoch 884/1000\n",
            "1/1 [==============================] - 0s 50ms/step - loss: 0.0030 - val_loss: 0.0921\n",
            "Epoch 885/1000\n",
            "1/1 [==============================] - 0s 38ms/step - loss: 0.0030 - val_loss: 0.0921\n",
            "Epoch 886/1000\n",
            "1/1 [==============================] - 0s 38ms/step - loss: 0.0030 - val_loss: 0.0921\n",
            "Epoch 887/1000\n",
            "1/1 [==============================] - 0s 42ms/step - loss: 0.0030 - val_loss: 0.0921\n",
            "Epoch 888/1000\n",
            "1/1 [==============================] - 0s 35ms/step - loss: 0.0030 - val_loss: 0.0921\n",
            "Epoch 889/1000\n",
            "1/1 [==============================] - 0s 41ms/step - loss: 0.0030 - val_loss: 0.0921\n",
            "Epoch 890/1000\n",
            "1/1 [==============================] - 0s 45ms/step - loss: 0.0030 - val_loss: 0.0921\n",
            "Epoch 891/1000\n",
            "1/1 [==============================] - 0s 40ms/step - loss: 0.0030 - val_loss: 0.0921\n",
            "Epoch 892/1000\n",
            "1/1 [==============================] - 0s 39ms/step - loss: 0.0029 - val_loss: 0.0921\n",
            "Epoch 893/1000\n",
            "1/1 [==============================] - 0s 39ms/step - loss: 0.0029 - val_loss: 0.0921\n",
            "Epoch 894/1000\n",
            "1/1 [==============================] - 0s 44ms/step - loss: 0.0029 - val_loss: 0.0921\n",
            "Epoch 895/1000\n",
            "1/1 [==============================] - 0s 43ms/step - loss: 0.0029 - val_loss: 0.0921\n",
            "Epoch 896/1000\n",
            "1/1 [==============================] - 0s 37ms/step - loss: 0.0029 - val_loss: 0.0921\n",
            "Epoch 897/1000\n",
            "1/1 [==============================] - 0s 47ms/step - loss: 0.0029 - val_loss: 0.0921\n",
            "Epoch 898/1000\n",
            "1/1 [==============================] - 0s 36ms/step - loss: 0.0029 - val_loss: 0.0921\n",
            "Epoch 899/1000\n",
            "1/1 [==============================] - 0s 37ms/step - loss: 0.0029 - val_loss: 0.0922\n",
            "Epoch 900/1000\n",
            "1/1 [==============================] - 0s 37ms/step - loss: 0.0029 - val_loss: 0.0922\n",
            "Epoch 901/1000\n",
            "1/1 [==============================] - 0s 34ms/step - loss: 0.0029 - val_loss: 0.0922\n",
            "Epoch 902/1000\n",
            "1/1 [==============================] - 0s 50ms/step - loss: 0.0029 - val_loss: 0.0921\n",
            "Epoch 903/1000\n",
            "1/1 [==============================] - 0s 37ms/step - loss: 0.0028 - val_loss: 0.0921\n",
            "Epoch 904/1000\n",
            "1/1 [==============================] - 0s 37ms/step - loss: 0.0028 - val_loss: 0.0922\n",
            "Epoch 905/1000\n",
            "1/1 [==============================] - 0s 46ms/step - loss: 0.0028 - val_loss: 0.0922\n",
            "Epoch 906/1000\n",
            "1/1 [==============================] - 0s 41ms/step - loss: 0.0028 - val_loss: 0.0922\n",
            "Epoch 907/1000\n",
            "1/1 [==============================] - 0s 37ms/step - loss: 0.0028 - val_loss: 0.0922\n",
            "Epoch 908/1000\n",
            "1/1 [==============================] - 0s 42ms/step - loss: 0.0028 - val_loss: 0.0923\n",
            "Epoch 909/1000\n",
            "1/1 [==============================] - 0s 36ms/step - loss: 0.0028 - val_loss: 0.0923\n",
            "Epoch 910/1000\n",
            "1/1 [==============================] - 0s 38ms/step - loss: 0.0028 - val_loss: 0.0923\n",
            "Epoch 911/1000\n",
            "1/1 [==============================] - 0s 36ms/step - loss: 0.0028 - val_loss: 0.0923\n",
            "Epoch 912/1000\n",
            "1/1 [==============================] - 0s 44ms/step - loss: 0.0028 - val_loss: 0.0923\n",
            "Epoch 913/1000\n",
            "1/1 [==============================] - 0s 39ms/step - loss: 0.0028 - val_loss: 0.0923\n",
            "Epoch 914/1000\n",
            "1/1 [==============================] - 0s 43ms/step - loss: 0.0027 - val_loss: 0.0923\n",
            "Epoch 915/1000\n",
            "1/1 [==============================] - 0s 40ms/step - loss: 0.0027 - val_loss: 0.0923\n",
            "Epoch 916/1000\n",
            "1/1 [==============================] - 0s 38ms/step - loss: 0.0027 - val_loss: 0.0923\n",
            "Epoch 917/1000\n",
            "1/1 [==============================] - 0s 40ms/step - loss: 0.0027 - val_loss: 0.0923\n",
            "Epoch 918/1000\n",
            "1/1 [==============================] - 0s 40ms/step - loss: 0.0027 - val_loss: 0.0923\n",
            "Epoch 919/1000\n",
            "1/1 [==============================] - 0s 39ms/step - loss: 0.0027 - val_loss: 0.0924\n",
            "Epoch 920/1000\n",
            "1/1 [==============================] - 0s 45ms/step - loss: 0.0027 - val_loss: 0.0924\n",
            "Epoch 921/1000\n",
            "1/1 [==============================] - 0s 41ms/step - loss: 0.0027 - val_loss: 0.0924\n",
            "Epoch 922/1000\n",
            "1/1 [==============================] - 0s 42ms/step - loss: 0.0027 - val_loss: 0.0924\n",
            "Epoch 923/1000\n",
            "1/1 [==============================] - 0s 36ms/step - loss: 0.0027 - val_loss: 0.0925\n",
            "Epoch 924/1000\n",
            "1/1 [==============================] - 0s 47ms/step - loss: 0.0027 - val_loss: 0.0925\n",
            "Epoch 925/1000\n",
            "1/1 [==============================] - 0s 45ms/step - loss: 0.0027 - val_loss: 0.0925\n",
            "Epoch 926/1000\n",
            "1/1 [==============================] - 0s 42ms/step - loss: 0.0026 - val_loss: 0.0925\n",
            "Epoch 927/1000\n",
            "1/1 [==============================] - 0s 42ms/step - loss: 0.0026 - val_loss: 0.0925\n",
            "Epoch 928/1000\n",
            "1/1 [==============================] - 0s 43ms/step - loss: 0.0026 - val_loss: 0.0925\n",
            "Epoch 929/1000\n",
            "1/1 [==============================] - 0s 37ms/step - loss: 0.0026 - val_loss: 0.0925\n",
            "Epoch 930/1000\n",
            "1/1 [==============================] - 0s 45ms/step - loss: 0.0026 - val_loss: 0.0926\n",
            "Epoch 931/1000\n",
            "1/1 [==============================] - 0s 36ms/step - loss: 0.0026 - val_loss: 0.0926\n",
            "Epoch 932/1000\n",
            "1/1 [==============================] - 0s 61ms/step - loss: 0.0026 - val_loss: 0.0926\n",
            "Epoch 933/1000\n",
            "1/1 [==============================] - 0s 42ms/step - loss: 0.0026 - val_loss: 0.0926\n",
            "Epoch 934/1000\n",
            "1/1 [==============================] - 0s 41ms/step - loss: 0.0026 - val_loss: 0.0926\n",
            "Epoch 935/1000\n",
            "1/1 [==============================] - 0s 45ms/step - loss: 0.0026 - val_loss: 0.0926\n",
            "Epoch 936/1000\n",
            "1/1 [==============================] - 0s 44ms/step - loss: 0.0026 - val_loss: 0.0927\n",
            "Epoch 937/1000\n",
            "1/1 [==============================] - 0s 44ms/step - loss: 0.0026 - val_loss: 0.0927\n",
            "Epoch 938/1000\n",
            "1/1 [==============================] - 0s 49ms/step - loss: 0.0025 - val_loss: 0.0927\n",
            "Epoch 939/1000\n",
            "1/1 [==============================] - 0s 37ms/step - loss: 0.0025 - val_loss: 0.0927\n",
            "Epoch 940/1000\n",
            "1/1 [==============================] - 0s 37ms/step - loss: 0.0025 - val_loss: 0.0927\n",
            "Epoch 941/1000\n",
            "1/1 [==============================] - 0s 43ms/step - loss: 0.0025 - val_loss: 0.0927\n",
            "Epoch 942/1000\n",
            "1/1 [==============================] - 0s 35ms/step - loss: 0.0025 - val_loss: 0.0928\n",
            "Epoch 943/1000\n",
            "1/1 [==============================] - 0s 39ms/step - loss: 0.0025 - val_loss: 0.0928\n",
            "Epoch 944/1000\n",
            "1/1 [==============================] - 0s 41ms/step - loss: 0.0025 - val_loss: 0.0928\n",
            "Epoch 945/1000\n",
            "1/1 [==============================] - 0s 63ms/step - loss: 0.0025 - val_loss: 0.0928\n",
            "Epoch 946/1000\n",
            "1/1 [==============================] - 0s 41ms/step - loss: 0.0025 - val_loss: 0.0928\n",
            "Epoch 947/1000\n",
            "1/1 [==============================] - 0s 41ms/step - loss: 0.0025 - val_loss: 0.0929\n",
            "Epoch 948/1000\n",
            "1/1 [==============================] - 0s 39ms/step - loss: 0.0025 - val_loss: 0.0929\n",
            "Epoch 949/1000\n",
            "1/1 [==============================] - 0s 45ms/step - loss: 0.0025 - val_loss: 0.0929\n",
            "Epoch 950/1000\n",
            "1/1 [==============================] - 0s 45ms/step - loss: 0.0025 - val_loss: 0.0929\n",
            "Epoch 951/1000\n",
            "1/1 [==============================] - 0s 46ms/step - loss: 0.0024 - val_loss: 0.0929\n",
            "Epoch 952/1000\n",
            "1/1 [==============================] - 0s 34ms/step - loss: 0.0024 - val_loss: 0.0929\n",
            "Epoch 953/1000\n",
            "1/1 [==============================] - 0s 39ms/step - loss: 0.0024 - val_loss: 0.0930\n",
            "Epoch 954/1000\n",
            "1/1 [==============================] - 0s 42ms/step - loss: 0.0024 - val_loss: 0.0930\n",
            "Epoch 955/1000\n",
            "1/1 [==============================] - 0s 35ms/step - loss: 0.0024 - val_loss: 0.0930\n",
            "Epoch 956/1000\n",
            "1/1 [==============================] - 0s 37ms/step - loss: 0.0024 - val_loss: 0.0930\n",
            "Epoch 957/1000\n",
            "1/1 [==============================] - 0s 37ms/step - loss: 0.0024 - val_loss: 0.0930\n",
            "Epoch 958/1000\n",
            "1/1 [==============================] - 0s 43ms/step - loss: 0.0024 - val_loss: 0.0930\n",
            "Epoch 959/1000\n",
            "1/1 [==============================] - 0s 42ms/step - loss: 0.0024 - val_loss: 0.0930\n",
            "Epoch 960/1000\n",
            "1/1 [==============================] - 0s 41ms/step - loss: 0.0024 - val_loss: 0.0930\n",
            "Epoch 961/1000\n",
            "1/1 [==============================] - 0s 52ms/step - loss: 0.0024 - val_loss: 0.0931\n",
            "Epoch 962/1000\n",
            "1/1 [==============================] - 0s 37ms/step - loss: 0.0024 - val_loss: 0.0931\n",
            "Epoch 963/1000\n",
            "1/1 [==============================] - 0s 41ms/step - loss: 0.0024 - val_loss: 0.0931\n",
            "Epoch 964/1000\n",
            "1/1 [==============================] - 0s 37ms/step - loss: 0.0024 - val_loss: 0.0931\n",
            "Epoch 965/1000\n",
            "1/1 [==============================] - 0s 42ms/step - loss: 0.0023 - val_loss: 0.0931\n",
            "Epoch 966/1000\n",
            "1/1 [==============================] - 0s 40ms/step - loss: 0.0023 - val_loss: 0.0932\n",
            "Epoch 967/1000\n",
            "1/1 [==============================] - 0s 35ms/step - loss: 0.0023 - val_loss: 0.0932\n",
            "Epoch 968/1000\n",
            "1/1 [==============================] - 0s 44ms/step - loss: 0.0023 - val_loss: 0.0932\n",
            "Epoch 969/1000\n",
            "1/1 [==============================] - 0s 34ms/step - loss: 0.0023 - val_loss: 0.0933\n",
            "Epoch 970/1000\n",
            "1/1 [==============================] - 0s 50ms/step - loss: 0.0023 - val_loss: 0.0933\n",
            "Epoch 971/1000\n",
            "1/1 [==============================] - 0s 44ms/step - loss: 0.0023 - val_loss: 0.0933\n",
            "Epoch 972/1000\n",
            "1/1 [==============================] - 0s 43ms/step - loss: 0.0023 - val_loss: 0.0933\n",
            "Epoch 973/1000\n",
            "1/1 [==============================] - 0s 56ms/step - loss: 0.0023 - val_loss: 0.0933\n",
            "Epoch 974/1000\n",
            "1/1 [==============================] - 0s 38ms/step - loss: 0.0023 - val_loss: 0.0933\n",
            "Epoch 975/1000\n",
            "1/1 [==============================] - 0s 35ms/step - loss: 0.0023 - val_loss: 0.0933\n",
            "Epoch 976/1000\n",
            "1/1 [==============================] - 0s 39ms/step - loss: 0.0023 - val_loss: 0.0933\n",
            "Epoch 977/1000\n",
            "1/1 [==============================] - 0s 41ms/step - loss: 0.0023 - val_loss: 0.0933\n",
            "Epoch 978/1000\n",
            "1/1 [==============================] - 0s 33ms/step - loss: 0.0023 - val_loss: 0.0933\n",
            "Epoch 979/1000\n",
            "1/1 [==============================] - 0s 39ms/step - loss: 0.0023 - val_loss: 0.0934\n",
            "Epoch 980/1000\n",
            "1/1 [==============================] - 0s 33ms/step - loss: 0.0022 - val_loss: 0.0934\n",
            "Epoch 981/1000\n",
            "1/1 [==============================] - 0s 38ms/step - loss: 0.0022 - val_loss: 0.0934\n",
            "Epoch 982/1000\n",
            "1/1 [==============================] - 0s 44ms/step - loss: 0.0022 - val_loss: 0.0934\n",
            "Epoch 983/1000\n",
            "1/1 [==============================] - 0s 41ms/step - loss: 0.0022 - val_loss: 0.0934\n",
            "Epoch 984/1000\n",
            "1/1 [==============================] - 0s 45ms/step - loss: 0.0022 - val_loss: 0.0935\n",
            "Epoch 985/1000\n",
            "1/1 [==============================] - 0s 41ms/step - loss: 0.0022 - val_loss: 0.0935\n",
            "Epoch 986/1000\n",
            "1/1 [==============================] - 0s 39ms/step - loss: 0.0022 - val_loss: 0.0935\n",
            "Epoch 987/1000\n",
            "1/1 [==============================] - 0s 40ms/step - loss: 0.0022 - val_loss: 0.0935\n",
            "Epoch 988/1000\n",
            "1/1 [==============================] - 0s 38ms/step - loss: 0.0022 - val_loss: 0.0935\n",
            "Epoch 989/1000\n",
            "1/1 [==============================] - 0s 43ms/step - loss: 0.0022 - val_loss: 0.0935\n",
            "Epoch 990/1000\n",
            "1/1 [==============================] - 0s 51ms/step - loss: 0.0022 - val_loss: 0.0936\n",
            "Epoch 991/1000\n",
            "1/1 [==============================] - 0s 47ms/step - loss: 0.0022 - val_loss: 0.0936\n",
            "Epoch 992/1000\n",
            "1/1 [==============================] - 0s 38ms/step - loss: 0.0022 - val_loss: 0.0936\n",
            "Epoch 993/1000\n",
            "1/1 [==============================] - 0s 36ms/step - loss: 0.0022 - val_loss: 0.0936\n",
            "Epoch 994/1000\n",
            "1/1 [==============================] - 0s 38ms/step - loss: 0.0022 - val_loss: 0.0936\n",
            "Epoch 995/1000\n",
            "1/1 [==============================] - 0s 47ms/step - loss: 0.0022 - val_loss: 0.0936\n",
            "Epoch 996/1000\n",
            "1/1 [==============================] - 0s 46ms/step - loss: 0.0021 - val_loss: 0.0936\n",
            "Epoch 997/1000\n",
            "1/1 [==============================] - 0s 56ms/step - loss: 0.0021 - val_loss: 0.0937\n",
            "Epoch 998/1000\n",
            "1/1 [==============================] - 0s 39ms/step - loss: 0.0021 - val_loss: 0.0937\n",
            "Epoch 999/1000\n",
            "1/1 [==============================] - 0s 43ms/step - loss: 0.0021 - val_loss: 0.0937\n",
            "Epoch 1000/1000\n",
            "1/1 [==============================] - 0s 40ms/step - loss: 0.0021 - val_loss: 0.0937\n"
          ]
        }
      ]
    },
    {
      "cell_type": "markdown",
      "source": [
        "### prediction\n",
        "\n",
        "- Predict the sum of 50,51,52\n",
        "- choose another triple "
      ],
      "metadata": {
        "id": "oWBxyNcFw-Xq"
      }
    },
    {
      "cell_type": "code",
      "metadata": {
        "id": "TeSgdMG5OkTc",
        "colab": {
          "base_uri": "https://localhost:8080/"
        },
        "outputId": "f8fb480a-b4d3-4b6d-e28f-d08fb1abbd4e"
      },
      "source": [
        "test_input = np.array([50, 51, 52])\n",
        "test_input = test_input.reshape((1, 3, 1))\n",
        "\n",
        "\n",
        "test_output = model.predict(test_input)\n",
        "print(test_output)"
      ],
      "execution_count": null,
      "outputs": [
        {
          "output_type": "stream",
          "name": "stdout",
          "text": [
            "1/1 [==============================] - 0s 135ms/step\n",
            "[[152.1181]]\n"
          ]
        }
      ]
    },
    {
      "cell_type": "markdown",
      "metadata": {
        "id": "ZLVy2n4mbNke"
      },
      "source": [
        "# Many to Many "
      ]
    },
    {
      "cell_type": "markdown",
      "source": [
        "#### Create Dataset\n",
        "\n",
        "Create a dataset compsed of : \n",
        "\n",
        "Input: x = [[5 10 15] , [20 25 30], [35 40 45].............[215 220 225]]\n",
        "\n",
        "Output Y = [[20 25 30], [35 40 45] [50 55 60] ............[230 235 240]]\n",
        "\n",
        "So, our problem is to **predict the next triple of numbers with** regard to a given triple, whose the difference between numbers is 5"
      ],
      "metadata": {
        "id": "n07ef-KCxh7n"
      }
    },
    {
      "cell_type": "code",
      "metadata": {
        "id": "R6gJT4QEOrTm"
      },
      "source": [
        "X = list()\n",
        "Y = list()\n",
        "X = [x for x in range(5, 301, 5)]\n",
        "Y = [y for y in range(20, 316, 5)]\n",
        "\n",
        "X = np.array(X).reshape(20, 3, 1)\n",
        "Y = np.array(Y).reshape(20, 3, 1)\n",
        "\n",
        "X = np.array(X).reshape(20, 3, 1)\n",
        "Y = np.array(Y).reshape(20, 3, 1)\n",
        "\n",
        "#mx = X.max()\n",
        "#my = Y.max()"
      ],
      "execution_count": null,
      "outputs": []
    },
    {
      "cell_type": "code",
      "metadata": {
        "id": "Cf8B_9MabSCO",
        "colab": {
          "base_uri": "https://localhost:8080/"
        },
        "outputId": "6776b39a-d98a-4d99-9ee5-7ae56fdd3c14"
      },
      "source": [
        "print(X)"
      ],
      "execution_count": null,
      "outputs": [
        {
          "output_type": "stream",
          "name": "stdout",
          "text": [
            "[[[  5]\n",
            "  [ 10]\n",
            "  [ 15]]\n",
            "\n",
            " [[ 20]\n",
            "  [ 25]\n",
            "  [ 30]]\n",
            "\n",
            " [[ 35]\n",
            "  [ 40]\n",
            "  [ 45]]\n",
            "\n",
            " [[ 50]\n",
            "  [ 55]\n",
            "  [ 60]]\n",
            "\n",
            " [[ 65]\n",
            "  [ 70]\n",
            "  [ 75]]\n",
            "\n",
            " [[ 80]\n",
            "  [ 85]\n",
            "  [ 90]]\n",
            "\n",
            " [[ 95]\n",
            "  [100]\n",
            "  [105]]\n",
            "\n",
            " [[110]\n",
            "  [115]\n",
            "  [120]]\n",
            "\n",
            " [[125]\n",
            "  [130]\n",
            "  [135]]\n",
            "\n",
            " [[140]\n",
            "  [145]\n",
            "  [150]]\n",
            "\n",
            " [[155]\n",
            "  [160]\n",
            "  [165]]\n",
            "\n",
            " [[170]\n",
            "  [175]\n",
            "  [180]]\n",
            "\n",
            " [[185]\n",
            "  [190]\n",
            "  [195]]\n",
            "\n",
            " [[200]\n",
            "  [205]\n",
            "  [210]]\n",
            "\n",
            " [[215]\n",
            "  [220]\n",
            "  [225]]\n",
            "\n",
            " [[230]\n",
            "  [235]\n",
            "  [240]]\n",
            "\n",
            " [[245]\n",
            "  [250]\n",
            "  [255]]\n",
            "\n",
            " [[260]\n",
            "  [265]\n",
            "  [270]]\n",
            "\n",
            " [[275]\n",
            "  [280]\n",
            "  [285]]\n",
            "\n",
            " [[290]\n",
            "  [295]\n",
            "  [300]]]\n"
          ]
        }
      ]
    },
    {
      "cell_type": "code",
      "metadata": {
        "id": "noU8upxxbsXB",
        "colab": {
          "base_uri": "https://localhost:8080/"
        },
        "outputId": "f7577e83-c14a-4dab-80f7-dcfa619f8c7d"
      },
      "source": [
        "print(Y)"
      ],
      "execution_count": null,
      "outputs": [
        {
          "output_type": "stream",
          "name": "stdout",
          "text": [
            "[[[ 20]\n",
            "  [ 25]\n",
            "  [ 30]]\n",
            "\n",
            " [[ 35]\n",
            "  [ 40]\n",
            "  [ 45]]\n",
            "\n",
            " [[ 50]\n",
            "  [ 55]\n",
            "  [ 60]]\n",
            "\n",
            " [[ 65]\n",
            "  [ 70]\n",
            "  [ 75]]\n",
            "\n",
            " [[ 80]\n",
            "  [ 85]\n",
            "  [ 90]]\n",
            "\n",
            " [[ 95]\n",
            "  [100]\n",
            "  [105]]\n",
            "\n",
            " [[110]\n",
            "  [115]\n",
            "  [120]]\n",
            "\n",
            " [[125]\n",
            "  [130]\n",
            "  [135]]\n",
            "\n",
            " [[140]\n",
            "  [145]\n",
            "  [150]]\n",
            "\n",
            " [[155]\n",
            "  [160]\n",
            "  [165]]\n",
            "\n",
            " [[170]\n",
            "  [175]\n",
            "  [180]]\n",
            "\n",
            " [[185]\n",
            "  [190]\n",
            "  [195]]\n",
            "\n",
            " [[200]\n",
            "  [205]\n",
            "  [210]]\n",
            "\n",
            " [[215]\n",
            "  [220]\n",
            "  [225]]\n",
            "\n",
            " [[230]\n",
            "  [235]\n",
            "  [240]]\n",
            "\n",
            " [[245]\n",
            "  [250]\n",
            "  [255]]\n",
            "\n",
            " [[260]\n",
            "  [265]\n",
            "  [270]]\n",
            "\n",
            " [[275]\n",
            "  [280]\n",
            "  [285]]\n",
            "\n",
            " [[290]\n",
            "  [295]\n",
            "  [300]]\n",
            "\n",
            " [[305]\n",
            "  [310]\n",
            "  [315]]]\n"
          ]
        }
      ]
    },
    {
      "cell_type": "code",
      "metadata": {
        "id": "0y76oAJXbwCY",
        "colab": {
          "base_uri": "https://localhost:8080/"
        },
        "outputId": "a3aa71e8-2849-4a1e-817f-b20815297202"
      },
      "source": [
        "model = Sequential()\n",
        "\n",
        "# encoder layer\n",
        "model.add(LSTM(100, activation='relu', input_shape=(3, 1)))\n",
        "\n",
        "# repeat vector\n",
        "model.add(RepeatVector(3))\n",
        "\n",
        "# decoder layer\n",
        "model.add(LSTM(100, activation='relu', return_sequences=True))\n",
        "\n",
        "model.add(TimeDistributed(Dense(1)))\n",
        "#model.add(Dense(3))\n",
        "model.compile(optimizer='adam', loss='mse')\n",
        "\n",
        "print(model.summary())\n",
        "\n",
        "#wandb.init(project='simple-lstm')\n",
        "from keras.utils.vis_utils import plot_model\n"
      ],
      "execution_count": null,
      "outputs": [
        {
          "output_type": "stream",
          "name": "stderr",
          "text": [
            "WARNING:tensorflow:Layer lstm_1 will not use cuDNN kernels since it doesn't meet the criteria. It will use a generic GPU kernel as fallback when running on GPU.\n",
            "WARNING:tensorflow:Layer lstm_2 will not use cuDNN kernels since it doesn't meet the criteria. It will use a generic GPU kernel as fallback when running on GPU.\n"
          ]
        },
        {
          "output_type": "stream",
          "name": "stdout",
          "text": [
            "Model: \"sequential_1\"\n",
            "_________________________________________________________________\n",
            " Layer (type)                Output Shape              Param #   \n",
            "=================================================================\n",
            " lstm_1 (LSTM)               (None, 100)               40800     \n",
            "                                                                 \n",
            " repeat_vector (RepeatVector  (None, 3, 100)           0         \n",
            " )                                                               \n",
            "                                                                 \n",
            " lstm_2 (LSTM)               (None, 3, 100)            80400     \n",
            "                                                                 \n",
            " time_distributed (TimeDistr  (None, 3, 1)             101       \n",
            " ibuted)                                                         \n",
            "                                                                 \n",
            "=================================================================\n",
            "Total params: 121,301\n",
            "Trainable params: 121,301\n",
            "Non-trainable params: 0\n",
            "_________________________________________________________________\n",
            "None\n"
          ]
        }
      ]
    },
    {
      "cell_type": "code",
      "source": [
        "plot_model(model, to_file='model_plot.png', show_shapes=True, show_layer_names=True)"
      ],
      "metadata": {
        "colab": {
          "base_uri": "https://localhost:8080/",
          "height": 533
        },
        "id": "M7RNwuqZ3cbD",
        "outputId": "36c6c153-a741-4050-ec03-9295106138f8"
      },
      "execution_count": null,
      "outputs": [
        {
          "output_type": "execute_result",
          "data": {
            "image/png": "[encoded data removed]",
            "text/plain": [
              "<IPython.core.display.Image object>"
            ]
          },
          "metadata": {},
          "execution_count": 50
        }
      ]
    },
    {
      "cell_type": "code",
      "source": [
        "history = model.fit(X, Y, epochs=1000, validation_split=0.2, verbose=1, batch_size=3, callbacks=[WandbCallback()])\n",
        "#history = model.fit(X, Y, epochs=1000, validation_split=0.2, verbose=1, batch_size=3)"
      ],
      "metadata": {
        "colab": {
          "base_uri": "https://localhost:8080/"
        },
        "id": "bH-chRu63Z7e",
        "outputId": "de46ca14-beee-4975-d59a-4404ad7c4d02"
      },
      "execution_count": null,
      "outputs": [
        {
          "output_type": "stream",
          "name": "stdout",
          "text": [
            "Epoch 1/1000\n",
            "6/6 [==============================] - 2s 81ms/step - loss: 23238.1602 - val_loss: 76056.9922\n",
            "Epoch 2/1000\n",
            "6/6 [==============================] - 0s 19ms/step - loss: 20912.1738 - val_loss: 65747.9844\n",
            "Epoch 3/1000\n",
            "6/6 [==============================] - 0s 17ms/step - loss: 16548.6465 - val_loss: 38620.7188\n",
            "Epoch 4/1000\n",
            "6/6 [==============================] - 0s 19ms/step - loss: 7334.1191 - val_loss: 26756.3906\n",
            "Epoch 5/1000\n",
            "6/6 [==============================] - 0s 17ms/step - loss: 5674.3394 - val_loss: 15188.9092\n",
            "Epoch 6/1000\n",
            "6/6 [==============================] - 0s 18ms/step - loss: 4100.0068 - val_loss: 12563.3652\n",
            "Epoch 7/1000\n",
            "6/6 [==============================] - 0s 17ms/step - loss: 3249.7751 - val_loss: 10043.4551\n",
            "Epoch 8/1000\n",
            "6/6 [==============================] - 0s 24ms/step - loss: 2530.6389 - val_loss: 7654.9678\n",
            "Epoch 9/1000\n",
            "6/6 [==============================] - 0s 17ms/step - loss: 1649.4531 - val_loss: 4160.7183\n",
            "Epoch 10/1000\n",
            "6/6 [==============================] - 0s 17ms/step - loss: 810.8654 - val_loss: 1159.7181\n",
            "Epoch 11/1000\n",
            "6/6 [==============================] - 0s 19ms/step - loss: 190.7628 - val_loss: 25.1991\n",
            "Epoch 12/1000\n",
            "6/6 [==============================] - 0s 20ms/step - loss: 28.2593 - val_loss: 107.8267\n",
            "Epoch 13/1000\n",
            "6/6 [==============================] - 0s 21ms/step - loss: 53.2992 - val_loss: 30.8161\n",
            "Epoch 14/1000\n",
            "6/6 [==============================] - 0s 16ms/step - loss: 23.8236 - val_loss: 26.8257\n",
            "Epoch 15/1000\n",
            "6/6 [==============================] - 0s 17ms/step - loss: 18.8587 - val_loss: 22.1512\n",
            "Epoch 16/1000\n",
            "6/6 [==============================] - 0s 17ms/step - loss: 15.7151 - val_loss: 52.0824\n",
            "Epoch 17/1000\n",
            "6/6 [==============================] - 0s 21ms/step - loss: 13.9858 - val_loss: 1.5669\n",
            "Epoch 18/1000\n",
            "6/6 [==============================] - 0s 19ms/step - loss: 14.1908 - val_loss: 34.8266\n",
            "Epoch 19/1000\n",
            "6/6 [==============================] - 0s 17ms/step - loss: 13.2159 - val_loss: 4.6682\n",
            "Epoch 20/1000\n",
            "6/6 [==============================] - 0s 18ms/step - loss: 11.3183 - val_loss: 12.2856\n",
            "Epoch 21/1000\n",
            "6/6 [==============================] - 0s 18ms/step - loss: 7.2080 - val_loss: 2.7393\n",
            "Epoch 22/1000\n",
            "6/6 [==============================] - 0s 18ms/step - loss: 6.3022 - val_loss: 8.9050\n",
            "Epoch 23/1000\n",
            "6/6 [==============================] - 0s 17ms/step - loss: 6.1187 - val_loss: 6.5017\n",
            "Epoch 24/1000\n",
            "6/6 [==============================] - 0s 19ms/step - loss: 5.3943 - val_loss: 15.2563\n",
            "Epoch 25/1000\n",
            "6/6 [==============================] - 0s 17ms/step - loss: 7.8275 - val_loss: 58.5141\n",
            "Epoch 26/1000\n",
            "6/6 [==============================] - 0s 19ms/step - loss: 9.2087 - val_loss: 4.0269\n",
            "Epoch 27/1000\n",
            "6/6 [==============================] - 0s 19ms/step - loss: 6.1739 - val_loss: 32.4796\n",
            "Epoch 28/1000\n",
            "6/6 [==============================] - 0s 19ms/step - loss: 4.6350 - val_loss: 3.2494\n",
            "Epoch 29/1000\n",
            "6/6 [==============================] - 0s 23ms/step - loss: 3.1541 - val_loss: 7.9097\n",
            "Epoch 30/1000\n",
            "6/6 [==============================] - 0s 21ms/step - loss: 2.9531 - val_loss: 1.8481\n",
            "Epoch 31/1000\n",
            "6/6 [==============================] - 0s 17ms/step - loss: 2.7959 - val_loss: 4.7129\n",
            "Epoch 32/1000\n",
            "6/6 [==============================] - 0s 17ms/step - loss: 2.7362 - val_loss: 1.5902\n",
            "Epoch 33/1000\n",
            "6/6 [==============================] - 0s 17ms/step - loss: 2.4334 - val_loss: 1.9742\n",
            "Epoch 34/1000\n",
            "6/6 [==============================] - 0s 20ms/step - loss: 2.2210 - val_loss: 2.0784\n",
            "Epoch 35/1000\n",
            "6/6 [==============================] - 0s 21ms/step - loss: 2.1557 - val_loss: 1.3555\n",
            "Epoch 36/1000\n",
            "6/6 [==============================] - 0s 17ms/step - loss: 2.2039 - val_loss: 1.3544\n",
            "Epoch 37/1000\n",
            "6/6 [==============================] - 0s 17ms/step - loss: 1.9633 - val_loss: 2.8889\n",
            "Epoch 38/1000\n",
            "6/6 [==============================] - 0s 17ms/step - loss: 2.1736 - val_loss: 0.9245\n",
            "Epoch 39/1000\n",
            "6/6 [==============================] - 0s 18ms/step - loss: 2.0138 - val_loss: 0.5238\n",
            "Epoch 40/1000\n",
            "6/6 [==============================] - 0s 17ms/step - loss: 1.7197 - val_loss: 1.6126\n",
            "Epoch 41/1000\n",
            "6/6 [==============================] - 0s 17ms/step - loss: 1.6206 - val_loss: 1.2916\n",
            "Epoch 42/1000\n",
            "6/6 [==============================] - 0s 17ms/step - loss: 1.4930 - val_loss: 0.9492\n",
            "Epoch 43/1000\n",
            "6/6 [==============================] - 0s 22ms/step - loss: 1.3400 - val_loss: 0.8150\n",
            "Epoch 44/1000\n",
            "6/6 [==============================] - 0s 18ms/step - loss: 1.3297 - val_loss: 0.8368\n",
            "Epoch 45/1000\n",
            "6/6 [==============================] - 0s 17ms/step - loss: 1.2190 - val_loss: 1.2254\n",
            "Epoch 46/1000\n",
            "6/6 [==============================] - 0s 17ms/step - loss: 1.1426 - val_loss: 1.5120\n",
            "Epoch 47/1000\n",
            "6/6 [==============================] - 0s 18ms/step - loss: 1.1791 - val_loss: 0.4892\n",
            "Epoch 48/1000\n",
            "6/6 [==============================] - 0s 19ms/step - loss: 1.1607 - val_loss: 0.5976\n",
            "Epoch 49/1000\n",
            "6/6 [==============================] - 0s 19ms/step - loss: 0.9943 - val_loss: 1.0547\n",
            "Epoch 50/1000\n",
            "6/6 [==============================] - 0s 18ms/step - loss: 1.0540 - val_loss: 1.4728\n",
            "Epoch 51/1000\n",
            "6/6 [==============================] - 0s 21ms/step - loss: 0.9237 - val_loss: 0.7689\n",
            "Epoch 52/1000\n",
            "6/6 [==============================] - 0s 26ms/step - loss: 0.9266 - val_loss: 0.6386\n",
            "Epoch 53/1000\n",
            "6/6 [==============================] - 0s 19ms/step - loss: 0.8294 - val_loss: 1.0205\n",
            "Epoch 54/1000\n",
            "6/6 [==============================] - 0s 18ms/step - loss: 0.7784 - val_loss: 0.9009\n",
            "Epoch 55/1000\n",
            "6/6 [==============================] - 0s 20ms/step - loss: 0.7852 - val_loss: 0.7419\n",
            "Epoch 56/1000\n",
            "6/6 [==============================] - 0s 19ms/step - loss: 0.7303 - val_loss: 0.8612\n",
            "Epoch 57/1000\n",
            "6/6 [==============================] - 0s 17ms/step - loss: 0.7144 - val_loss: 1.4149\n",
            "Epoch 58/1000\n",
            "6/6 [==============================] - 0s 17ms/step - loss: 0.7184 - val_loss: 0.4842\n",
            "Epoch 59/1000\n",
            "6/6 [==============================] - 0s 17ms/step - loss: 0.6652 - val_loss: 0.4984\n",
            "Epoch 60/1000\n",
            "6/6 [==============================] - 0s 17ms/step - loss: 0.6266 - val_loss: 0.7285\n",
            "Epoch 61/1000\n",
            "6/6 [==============================] - 0s 21ms/step - loss: 0.6091 - val_loss: 0.3759\n",
            "Epoch 62/1000\n",
            "6/6 [==============================] - 0s 19ms/step - loss: 0.5503 - val_loss: 0.4688\n",
            "Epoch 63/1000\n",
            "6/6 [==============================] - 0s 17ms/step - loss: 0.5347 - val_loss: 0.6135\n",
            "Epoch 64/1000\n",
            "6/6 [==============================] - 0s 18ms/step - loss: 0.4827 - val_loss: 0.7522\n",
            "Epoch 65/1000\n",
            "6/6 [==============================] - 0s 19ms/step - loss: 0.4937 - val_loss: 0.2572\n",
            "Epoch 66/1000\n",
            "6/6 [==============================] - 0s 18ms/step - loss: 0.4502 - val_loss: 0.4224\n",
            "Epoch 67/1000\n",
            "6/6 [==============================] - 0s 19ms/step - loss: 0.4528 - val_loss: 0.7201\n",
            "Epoch 68/1000\n",
            "6/6 [==============================] - 0s 17ms/step - loss: 0.3932 - val_loss: 1.4650\n",
            "Epoch 69/1000\n",
            "6/6 [==============================] - 0s 18ms/step - loss: 0.4133 - val_loss: 0.4715\n",
            "Epoch 70/1000\n",
            "6/6 [==============================] - 0s 20ms/step - loss: 0.3668 - val_loss: 0.3869\n",
            "Epoch 71/1000\n",
            "6/6 [==============================] - 0s 20ms/step - loss: 0.3870 - val_loss: 0.4582\n",
            "Epoch 72/1000\n",
            "6/6 [==============================] - 0s 17ms/step - loss: 0.3431 - val_loss: 0.7901\n",
            "Epoch 73/1000\n",
            "6/6 [==============================] - 0s 19ms/step - loss: 0.4202 - val_loss: 0.9656\n",
            "Epoch 74/1000\n",
            "6/6 [==============================] - 0s 20ms/step - loss: 0.3336 - val_loss: 1.1050\n",
            "Epoch 75/1000\n",
            "6/6 [==============================] - 0s 17ms/step - loss: 0.3834 - val_loss: 0.1845\n",
            "Epoch 76/1000\n",
            "6/6 [==============================] - 0s 18ms/step - loss: 0.3208 - val_loss: 0.3653\n",
            "Epoch 77/1000\n",
            "6/6 [==============================] - 0s 17ms/step - loss: 0.4537 - val_loss: 0.5035\n",
            "Epoch 78/1000\n",
            "6/6 [==============================] - 0s 22ms/step - loss: 0.4203 - val_loss: 1.8397\n",
            "Epoch 79/1000\n",
            "6/6 [==============================] - 0s 22ms/step - loss: 0.4239 - val_loss: 4.6464\n",
            "Epoch 80/1000\n",
            "6/6 [==============================] - 0s 24ms/step - loss: 0.7125 - val_loss: 0.4697\n",
            "Epoch 81/1000\n",
            "6/6 [==============================] - 0s 20ms/step - loss: 0.3425 - val_loss: 0.4832\n",
            "Epoch 82/1000\n",
            "6/6 [==============================] - 0s 18ms/step - loss: 0.2481 - val_loss: 0.4530\n",
            "Epoch 83/1000\n",
            "6/6 [==============================] - 0s 21ms/step - loss: 0.2426 - val_loss: 2.0999\n",
            "Epoch 84/1000\n",
            "6/6 [==============================] - 0s 18ms/step - loss: 0.2247 - val_loss: 0.8454\n",
            "Epoch 85/1000\n",
            "6/6 [==============================] - 0s 19ms/step - loss: 0.2115 - val_loss: 0.7505\n",
            "Epoch 86/1000\n",
            "6/6 [==============================] - 0s 18ms/step - loss: 0.2091 - val_loss: 0.6901\n",
            "Epoch 87/1000\n",
            "6/6 [==============================] - 0s 20ms/step - loss: 0.2183 - val_loss: 0.4608\n",
            "Epoch 88/1000\n",
            "6/6 [==============================] - 0s 18ms/step - loss: 0.2582 - val_loss: 0.4134\n",
            "Epoch 89/1000\n",
            "6/6 [==============================] - 0s 18ms/step - loss: 0.2036 - val_loss: 0.4437\n",
            "Epoch 90/1000\n",
            "6/6 [==============================] - 0s 17ms/step - loss: 0.1593 - val_loss: 0.3807\n",
            "Epoch 91/1000\n",
            "6/6 [==============================] - 0s 20ms/step - loss: 0.1395 - val_loss: 1.5483\n",
            "Epoch 92/1000\n",
            "6/6 [==============================] - 0s 18ms/step - loss: 0.1493 - val_loss: 1.0601\n",
            "Epoch 93/1000\n",
            "6/6 [==============================] - 0s 17ms/step - loss: 0.1602 - val_loss: 0.4678\n",
            "Epoch 94/1000\n",
            "6/6 [==============================] - 0s 17ms/step - loss: 0.1574 - val_loss: 0.5010\n",
            "Epoch 95/1000\n",
            "6/6 [==============================] - 0s 20ms/step - loss: 0.0971 - val_loss: 0.4000\n",
            "Epoch 96/1000\n",
            "6/6 [==============================] - 0s 21ms/step - loss: 0.0980 - val_loss: 0.3136\n",
            "Epoch 97/1000\n",
            "6/6 [==============================] - 0s 18ms/step - loss: 0.1059 - val_loss: 0.2309\n",
            "Epoch 98/1000\n",
            "6/6 [==============================] - 0s 17ms/step - loss: 0.0785 - val_loss: 0.6803\n",
            "Epoch 99/1000\n",
            "6/6 [==============================] - 0s 17ms/step - loss: 0.0787 - val_loss: 0.8737\n",
            "Epoch 100/1000\n",
            "6/6 [==============================] - 0s 21ms/step - loss: 0.0939 - val_loss: 1.0404\n",
            "Epoch 101/1000\n",
            "6/6 [==============================] - 0s 18ms/step - loss: 0.1027 - val_loss: 0.3330\n",
            "Epoch 102/1000\n",
            "6/6 [==============================] - 0s 19ms/step - loss: 0.0714 - val_loss: 0.3322\n",
            "Epoch 103/1000\n",
            "6/6 [==============================] - 0s 21ms/step - loss: 0.1011 - val_loss: 0.2925\n",
            "Epoch 104/1000\n",
            "6/6 [==============================] - 0s 18ms/step - loss: 0.2382 - val_loss: 0.1976\n",
            "Epoch 105/1000\n",
            "6/6 [==============================] - 0s 22ms/step - loss: 0.2646 - val_loss: 0.3462\n",
            "Epoch 106/1000\n",
            "6/6 [==============================] - 0s 18ms/step - loss: 0.3067 - val_loss: 0.4744\n",
            "Epoch 107/1000\n",
            "6/6 [==============================] - 0s 18ms/step - loss: 0.4403 - val_loss: 0.9912\n",
            "Epoch 108/1000\n",
            "6/6 [==============================] - 0s 21ms/step - loss: 0.2151 - val_loss: 9.3655\n",
            "Epoch 109/1000\n",
            "6/6 [==============================] - 0s 22ms/step - loss: 0.9991 - val_loss: 3.3241\n",
            "Epoch 110/1000\n",
            "6/6 [==============================] - 0s 20ms/step - loss: 0.2455 - val_loss: 0.8395\n",
            "Epoch 111/1000\n",
            "6/6 [==============================] - 0s 20ms/step - loss: 0.1660 - val_loss: 0.9455\n",
            "Epoch 112/1000\n",
            "6/6 [==============================] - 0s 18ms/step - loss: 0.1013 - val_loss: 1.0151\n",
            "Epoch 113/1000\n",
            "6/6 [==============================] - 0s 20ms/step - loss: 0.0909 - val_loss: 1.3526\n",
            "Epoch 114/1000\n",
            "6/6 [==============================] - 0s 19ms/step - loss: 0.1365 - val_loss: 0.6816\n",
            "Epoch 115/1000\n",
            "6/6 [==============================] - 0s 17ms/step - loss: 0.0745 - val_loss: 0.6658\n",
            "Epoch 116/1000\n",
            "6/6 [==============================] - 0s 18ms/step - loss: 0.2008 - val_loss: 0.5033\n",
            "Epoch 117/1000\n",
            "6/6 [==============================] - 0s 18ms/step - loss: 0.0513 - val_loss: 0.2938\n",
            "Epoch 118/1000\n",
            "6/6 [==============================] - 0s 18ms/step - loss: 0.0580 - val_loss: 0.2890\n",
            "Epoch 119/1000\n",
            "6/6 [==============================] - 0s 19ms/step - loss: 0.0404 - val_loss: 0.2430\n",
            "Epoch 120/1000\n",
            "6/6 [==============================] - 0s 18ms/step - loss: 0.0518 - val_loss: 0.1852\n",
            "Epoch 121/1000\n",
            "6/6 [==============================] - 0s 24ms/step - loss: 0.0457 - val_loss: 0.3226\n",
            "Epoch 122/1000\n",
            "6/6 [==============================] - 0s 19ms/step - loss: 0.0510 - val_loss: 0.3684\n",
            "Epoch 123/1000\n",
            "6/6 [==============================] - 0s 17ms/step - loss: 0.0411 - val_loss: 0.1894\n",
            "Epoch 124/1000\n",
            "6/6 [==============================] - 0s 18ms/step - loss: 0.0528 - val_loss: 0.1746\n",
            "Epoch 125/1000\n",
            "6/6 [==============================] - 0s 21ms/step - loss: 0.0389 - val_loss: 0.4029\n",
            "Epoch 126/1000\n",
            "6/6 [==============================] - 0s 18ms/step - loss: 0.0366 - val_loss: 0.2908\n",
            "Epoch 127/1000\n",
            "6/6 [==============================] - 0s 20ms/step - loss: 0.0362 - val_loss: 0.2040\n",
            "Epoch 128/1000\n",
            "6/6 [==============================] - 0s 19ms/step - loss: 0.0483 - val_loss: 0.2138\n",
            "Epoch 129/1000\n",
            "6/6 [==============================] - 0s 18ms/step - loss: 0.0935 - val_loss: 0.1706\n",
            "Epoch 130/1000\n",
            "6/6 [==============================] - 0s 19ms/step - loss: 0.0860 - val_loss: 0.3790\n",
            "Epoch 131/1000\n",
            "6/6 [==============================] - 0s 17ms/step - loss: 0.1392 - val_loss: 0.2181\n",
            "Epoch 132/1000\n",
            "6/6 [==============================] - 0s 18ms/step - loss: 0.2743 - val_loss: 1.6157\n",
            "Epoch 133/1000\n",
            "6/6 [==============================] - 0s 18ms/step - loss: 0.4993 - val_loss: 0.4014\n",
            "Epoch 134/1000\n",
            "6/6 [==============================] - 0s 17ms/step - loss: 0.0845 - val_loss: 0.3354\n",
            "Epoch 135/1000\n",
            "6/6 [==============================] - 0s 17ms/step - loss: 0.0680 - val_loss: 0.1787\n",
            "Epoch 136/1000\n",
            "6/6 [==============================] - 0s 18ms/step - loss: 0.0406 - val_loss: 0.4153\n",
            "Epoch 137/1000\n",
            "6/6 [==============================] - 0s 18ms/step - loss: 0.0975 - val_loss: 0.3933\n",
            "Epoch 138/1000\n",
            "6/6 [==============================] - 0s 18ms/step - loss: 0.0730 - val_loss: 0.2359\n",
            "Epoch 139/1000\n",
            "6/6 [==============================] - 0s 21ms/step - loss: 0.0988 - val_loss: 0.3439\n",
            "Epoch 140/1000\n",
            "6/6 [==============================] - 0s 18ms/step - loss: 0.1612 - val_loss: 0.3765\n",
            "Epoch 141/1000\n",
            "6/6 [==============================] - 0s 21ms/step - loss: 0.0803 - val_loss: 0.2501\n",
            "Epoch 142/1000\n",
            "6/6 [==============================] - 0s 18ms/step - loss: 0.0356 - val_loss: 0.5147\n",
            "Epoch 143/1000\n",
            "6/6 [==============================] - 0s 21ms/step - loss: 0.0523 - val_loss: 0.7067\n",
            "Epoch 144/1000\n",
            "6/6 [==============================] - 0s 22ms/step - loss: 0.0807 - val_loss: 0.8294\n",
            "Epoch 145/1000\n",
            "6/6 [==============================] - 0s 19ms/step - loss: 0.1005 - val_loss: 1.0081\n",
            "Epoch 146/1000\n",
            "6/6 [==============================] - 0s 19ms/step - loss: 0.1077 - val_loss: 0.6059\n",
            "Epoch 147/1000\n",
            "6/6 [==============================] - 0s 18ms/step - loss: 0.1333 - val_loss: 1.2823\n",
            "Epoch 148/1000\n",
            "6/6 [==============================] - 0s 19ms/step - loss: 0.0643 - val_loss: 1.5098\n",
            "Epoch 149/1000\n",
            "6/6 [==============================] - 0s 19ms/step - loss: 0.0762 - val_loss: 0.9591\n",
            "Epoch 150/1000\n",
            "6/6 [==============================] - 0s 18ms/step - loss: 0.0598 - val_loss: 0.9318\n",
            "Epoch 151/1000\n",
            "6/6 [==============================] - 0s 19ms/step - loss: 0.0996 - val_loss: 0.4127\n",
            "Epoch 152/1000\n",
            "6/6 [==============================] - 0s 21ms/step - loss: 0.0762 - val_loss: 0.2927\n",
            "Epoch 153/1000\n",
            "6/6 [==============================] - 0s 18ms/step - loss: 0.0839 - val_loss: 0.4490\n",
            "Epoch 154/1000\n",
            "6/6 [==============================] - 0s 19ms/step - loss: 0.2447 - val_loss: 0.3377\n",
            "Epoch 155/1000\n",
            "6/6 [==============================] - 0s 18ms/step - loss: 0.0707 - val_loss: 0.5845\n",
            "Epoch 156/1000\n",
            "6/6 [==============================] - 0s 18ms/step - loss: 0.0945 - val_loss: 0.3115\n",
            "Epoch 157/1000\n",
            "6/6 [==============================] - 0s 19ms/step - loss: 0.0746 - val_loss: 0.2451\n",
            "Epoch 158/1000\n",
            "6/6 [==============================] - 0s 17ms/step - loss: 0.0717 - val_loss: 0.2544\n",
            "Epoch 159/1000\n",
            "6/6 [==============================] - 0s 18ms/step - loss: 0.0382 - val_loss: 0.1363\n",
            "Epoch 160/1000\n",
            "6/6 [==============================] - 0s 19ms/step - loss: 0.0318 - val_loss: 0.1912\n",
            "Epoch 161/1000\n",
            "6/6 [==============================] - 0s 18ms/step - loss: 0.0642 - val_loss: 0.2153\n",
            "Epoch 162/1000\n",
            "6/6 [==============================] - 0s 18ms/step - loss: 0.0482 - val_loss: 0.3153\n",
            "Epoch 163/1000\n",
            "6/6 [==============================] - 0s 18ms/step - loss: 0.0545 - val_loss: 0.6195\n",
            "Epoch 164/1000\n",
            "6/6 [==============================] - 0s 18ms/step - loss: 0.0486 - val_loss: 0.2078\n",
            "Epoch 165/1000\n",
            "6/6 [==============================] - 0s 21ms/step - loss: 0.0151 - val_loss: 0.2098\n",
            "Epoch 166/1000\n",
            "6/6 [==============================] - 0s 18ms/step - loss: 0.0267 - val_loss: 0.1859\n",
            "Epoch 167/1000\n",
            "6/6 [==============================] - 0s 18ms/step - loss: 0.0256 - val_loss: 0.1806\n",
            "Epoch 168/1000\n",
            "6/6 [==============================] - 0s 18ms/step - loss: 0.0349 - val_loss: 0.2065\n",
            "Epoch 169/1000\n",
            "6/6 [==============================] - 0s 19ms/step - loss: 0.0254 - val_loss: 0.5305\n",
            "Epoch 170/1000\n",
            "6/6 [==============================] - 0s 22ms/step - loss: 0.1123 - val_loss: 1.4499\n",
            "Epoch 171/1000\n",
            "6/6 [==============================] - 0s 20ms/step - loss: 0.2296 - val_loss: 0.8188\n",
            "Epoch 172/1000\n",
            "6/6 [==============================] - 0s 19ms/step - loss: 1.4744 - val_loss: 3.5084\n",
            "Epoch 173/1000\n",
            "6/6 [==============================] - 0s 19ms/step - loss: 2.2782 - val_loss: 1.2080\n",
            "Epoch 174/1000\n",
            "6/6 [==============================] - 0s 26ms/step - loss: 0.9550 - val_loss: 1.3649\n",
            "Epoch 175/1000\n",
            "6/6 [==============================] - 0s 21ms/step - loss: 0.4119 - val_loss: 0.5639\n",
            "Epoch 176/1000\n",
            "6/6 [==============================] - 0s 20ms/step - loss: 0.1727 - val_loss: 0.7026\n",
            "Epoch 177/1000\n",
            "6/6 [==============================] - 0s 19ms/step - loss: 0.2193 - val_loss: 0.9055\n",
            "Epoch 178/1000\n",
            "6/6 [==============================] - 0s 20ms/step - loss: 0.1515 - val_loss: 1.0351\n",
            "Epoch 179/1000\n",
            "6/6 [==============================] - 0s 20ms/step - loss: 0.2839 - val_loss: 3.2639\n",
            "Epoch 180/1000\n",
            "6/6 [==============================] - 0s 19ms/step - loss: 0.5345 - val_loss: 0.3952\n",
            "Epoch 181/1000\n",
            "6/6 [==============================] - 0s 20ms/step - loss: 0.6206 - val_loss: 0.1929\n",
            "Epoch 182/1000\n",
            "6/6 [==============================] - 0s 19ms/step - loss: 0.1856 - val_loss: 0.2827\n",
            "Epoch 183/1000\n",
            "6/6 [==============================] - 0s 19ms/step - loss: 0.7949 - val_loss: 0.9172\n",
            "Epoch 184/1000\n",
            "6/6 [==============================] - 0s 19ms/step - loss: 0.6057 - val_loss: 0.4148\n",
            "Epoch 185/1000\n",
            "6/6 [==============================] - 0s 19ms/step - loss: 0.7318 - val_loss: 0.5932\n",
            "Epoch 186/1000\n",
            "6/6 [==============================] - 0s 18ms/step - loss: 0.4156 - val_loss: 1.2893\n",
            "Epoch 187/1000\n",
            "6/6 [==============================] - 0s 20ms/step - loss: 0.1567 - val_loss: 0.5667\n",
            "Epoch 188/1000\n",
            "6/6 [==============================] - 0s 18ms/step - loss: 0.1005 - val_loss: 0.3461\n",
            "Epoch 189/1000\n",
            "6/6 [==============================] - 0s 18ms/step - loss: 0.0641 - val_loss: 0.4331\n",
            "Epoch 190/1000\n",
            "6/6 [==============================] - 0s 20ms/step - loss: 0.0600 - val_loss: 0.1840\n",
            "Epoch 191/1000\n",
            "6/6 [==============================] - 0s 19ms/step - loss: 0.0364 - val_loss: 0.3164\n",
            "Epoch 192/1000\n",
            "6/6 [==============================] - 0s 18ms/step - loss: 0.0591 - val_loss: 0.5245\n",
            "Epoch 193/1000\n",
            "6/6 [==============================] - 0s 20ms/step - loss: 0.1123 - val_loss: 0.2103\n",
            "Epoch 194/1000\n",
            "6/6 [==============================] - 0s 20ms/step - loss: 0.1183 - val_loss: 0.4238\n",
            "Epoch 195/1000\n",
            "6/6 [==============================] - 0s 17ms/step - loss: 0.4041 - val_loss: 1.5131\n",
            "Epoch 196/1000\n",
            "6/6 [==============================] - 0s 21ms/step - loss: 1.0046 - val_loss: 5.9920\n",
            "Epoch 197/1000\n",
            "6/6 [==============================] - 0s 20ms/step - loss: 1.9845 - val_loss: 22.9079\n",
            "Epoch 198/1000\n",
            "6/6 [==============================] - 0s 19ms/step - loss: 4.4416 - val_loss: 13.3410\n",
            "Epoch 199/1000\n",
            "6/6 [==============================] - 0s 21ms/step - loss: 1.9513 - val_loss: 15.6443\n",
            "Epoch 200/1000\n",
            "6/6 [==============================] - 0s 18ms/step - loss: 1.6004 - val_loss: 11.2156\n",
            "Epoch 201/1000\n",
            "6/6 [==============================] - 0s 18ms/step - loss: 1.7569 - val_loss: 7.2459\n",
            "Epoch 202/1000\n",
            "6/6 [==============================] - 0s 20ms/step - loss: 0.8761 - val_loss: 1.9026\n",
            "Epoch 203/1000\n",
            "6/6 [==============================] - 0s 18ms/step - loss: 0.2635 - val_loss: 2.2735\n",
            "Epoch 204/1000\n",
            "6/6 [==============================] - 0s 19ms/step - loss: 0.3003 - val_loss: 2.2407\n",
            "Epoch 205/1000\n",
            "6/6 [==============================] - 0s 22ms/step - loss: 0.5744 - val_loss: 0.4825\n",
            "Epoch 206/1000\n",
            "6/6 [==============================] - 0s 18ms/step - loss: 0.3958 - val_loss: 3.8565\n",
            "Epoch 207/1000\n",
            "6/6 [==============================] - 0s 19ms/step - loss: 0.5464 - val_loss: 9.6962\n",
            "Epoch 208/1000\n",
            "6/6 [==============================] - 0s 21ms/step - loss: 1.7198 - val_loss: 4.7128\n",
            "Epoch 209/1000\n",
            "6/6 [==============================] - 0s 21ms/step - loss: 0.1899 - val_loss: 1.7999\n",
            "Epoch 210/1000\n",
            "6/6 [==============================] - 0s 21ms/step - loss: 0.1575 - val_loss: 0.7180\n",
            "Epoch 211/1000\n",
            "6/6 [==============================] - 0s 18ms/step - loss: 0.1218 - val_loss: 0.4005\n",
            "Epoch 212/1000\n",
            "6/6 [==============================] - 0s 19ms/step - loss: 0.0737 - val_loss: 0.3598\n",
            "Epoch 213/1000\n",
            "6/6 [==============================] - 0s 19ms/step - loss: 0.1415 - val_loss: 0.8282\n",
            "Epoch 214/1000\n",
            "6/6 [==============================] - 0s 20ms/step - loss: 0.2311 - val_loss: 1.3135\n",
            "Epoch 215/1000\n",
            "6/6 [==============================] - 0s 18ms/step - loss: 0.8676 - val_loss: 3.7623\n",
            "Epoch 216/1000\n",
            "6/6 [==============================] - 0s 20ms/step - loss: 1.0817 - val_loss: 7.4857\n",
            "Epoch 217/1000\n",
            "6/6 [==============================] - 0s 18ms/step - loss: 3.6516 - val_loss: 2.4873\n",
            "Epoch 218/1000\n",
            "6/6 [==============================] - 0s 19ms/step - loss: 4.4648 - val_loss: 22.8583\n",
            "Epoch 219/1000\n",
            "6/6 [==============================] - 0s 18ms/step - loss: 6.0855 - val_loss: 9.8176\n",
            "Epoch 220/1000\n",
            "6/6 [==============================] - 0s 18ms/step - loss: 5.0577 - val_loss: 9.2426\n",
            "Epoch 221/1000\n",
            "6/6 [==============================] - 0s 20ms/step - loss: 9.1483 - val_loss: 1.0297\n",
            "Epoch 222/1000\n",
            "6/6 [==============================] - 0s 19ms/step - loss: 14.6141 - val_loss: 25.9211\n",
            "Epoch 223/1000\n",
            "6/6 [==============================] - 0s 19ms/step - loss: 8.0020 - val_loss: 64.3593\n",
            "Epoch 224/1000\n",
            "6/6 [==============================] - 0s 18ms/step - loss: 12.3501 - val_loss: 0.5166\n",
            "Epoch 225/1000\n",
            "6/6 [==============================] - 0s 19ms/step - loss: 8.2084 - val_loss: 12.2728\n",
            "Epoch 226/1000\n",
            "6/6 [==============================] - 0s 19ms/step - loss: 3.1172 - val_loss: 9.6177\n",
            "Epoch 227/1000\n",
            "6/6 [==============================] - 0s 22ms/step - loss: 1.1657 - val_loss: 2.6935\n",
            "Epoch 228/1000\n",
            "6/6 [==============================] - 0s 18ms/step - loss: 0.8243 - val_loss: 1.1723\n",
            "Epoch 229/1000\n",
            "6/6 [==============================] - 0s 20ms/step - loss: 0.2759 - val_loss: 1.1960\n",
            "Epoch 230/1000\n",
            "6/6 [==============================] - 0s 18ms/step - loss: 0.6287 - val_loss: 1.0784\n",
            "Epoch 231/1000\n",
            "6/6 [==============================] - 0s 22ms/step - loss: 0.3071 - val_loss: 0.9375\n",
            "Epoch 232/1000\n",
            "6/6 [==============================] - 0s 18ms/step - loss: 0.3263 - val_loss: 0.8505\n",
            "Epoch 233/1000\n",
            "6/6 [==============================] - 0s 19ms/step - loss: 0.1500 - val_loss: 0.9037\n",
            "Epoch 234/1000\n",
            "6/6 [==============================] - 0s 18ms/step - loss: 0.1210 - val_loss: 1.1865\n",
            "Epoch 235/1000\n",
            "6/6 [==============================] - 0s 18ms/step - loss: 0.1068 - val_loss: 1.8301\n",
            "Epoch 236/1000\n",
            "6/6 [==============================] - 0s 18ms/step - loss: 0.1026 - val_loss: 1.5377\n",
            "Epoch 237/1000\n",
            "6/6 [==============================] - 0s 20ms/step - loss: 0.2693 - val_loss: 1.7745\n",
            "Epoch 238/1000\n",
            "6/6 [==============================] - 0s 22ms/step - loss: 0.3542 - val_loss: 0.7431\n",
            "Epoch 239/1000\n",
            "6/6 [==============================] - 0s 19ms/step - loss: 0.4712 - val_loss: 1.3410\n",
            "Epoch 240/1000\n",
            "6/6 [==============================] - 0s 20ms/step - loss: 0.5685 - val_loss: 0.6928\n",
            "Epoch 241/1000\n",
            "6/6 [==============================] - 0s 22ms/step - loss: 1.0412 - val_loss: 4.4607\n",
            "Epoch 242/1000\n",
            "6/6 [==============================] - 0s 20ms/step - loss: 1.6533 - val_loss: 24.5877\n",
            "Epoch 243/1000\n",
            "6/6 [==============================] - 0s 21ms/step - loss: 4.1913 - val_loss: 33.0706\n",
            "Epoch 244/1000\n",
            "6/6 [==============================] - 0s 20ms/step - loss: 6.1341 - val_loss: 4.2791\n",
            "Epoch 245/1000\n",
            "6/6 [==============================] - 0s 21ms/step - loss: 5.1364 - val_loss: 16.9974\n",
            "Epoch 246/1000\n",
            "6/6 [==============================] - 0s 19ms/step - loss: 4.9284 - val_loss: 34.3235\n",
            "Epoch 247/1000\n",
            "6/6 [==============================] - 0s 17ms/step - loss: 10.6670 - val_loss: 1.1924\n",
            "Epoch 248/1000\n",
            "6/6 [==============================] - 0s 20ms/step - loss: 2.6247 - val_loss: 63.9843\n",
            "Epoch 249/1000\n",
            "6/6 [==============================] - 0s 21ms/step - loss: 8.4575 - val_loss: 28.2482\n",
            "Epoch 250/1000\n",
            "6/6 [==============================] - 0s 19ms/step - loss: 2.8412 - val_loss: 2.9172\n",
            "Epoch 251/1000\n",
            "6/6 [==============================] - 0s 18ms/step - loss: 1.2053 - val_loss: 2.2739\n",
            "Epoch 252/1000\n",
            "6/6 [==============================] - 0s 18ms/step - loss: 0.7793 - val_loss: 1.1249\n",
            "Epoch 253/1000\n",
            "6/6 [==============================] - 0s 19ms/step - loss: 0.8307 - val_loss: 6.7300\n",
            "Epoch 254/1000\n",
            "6/6 [==============================] - 0s 17ms/step - loss: 1.8826 - val_loss: 1.1828\n",
            "Epoch 255/1000\n",
            "6/6 [==============================] - 0s 20ms/step - loss: 2.6156 - val_loss: 0.6473\n",
            "Epoch 256/1000\n",
            "6/6 [==============================] - 0s 21ms/step - loss: 6.5257 - val_loss: 11.3696\n",
            "Epoch 257/1000\n",
            "6/6 [==============================] - 0s 18ms/step - loss: 7.1391 - val_loss: 9.6170\n",
            "Epoch 258/1000\n",
            "6/6 [==============================] - 0s 21ms/step - loss: 4.5549 - val_loss: 20.9791\n",
            "Epoch 259/1000\n",
            "6/6 [==============================] - 0s 18ms/step - loss: 3.6277 - val_loss: 1.1028\n",
            "Epoch 260/1000\n",
            "6/6 [==============================] - 0s 19ms/step - loss: 2.0620 - val_loss: 0.5384\n",
            "Epoch 261/1000\n",
            "6/6 [==============================] - 0s 19ms/step - loss: 1.8494 - val_loss: 1.4010\n",
            "Epoch 262/1000\n",
            "6/6 [==============================] - 0s 19ms/step - loss: 0.8112 - val_loss: 2.5065\n",
            "Epoch 263/1000\n",
            "6/6 [==============================] - 0s 19ms/step - loss: 0.3417 - val_loss: 9.0834\n",
            "Epoch 264/1000\n",
            "6/6 [==============================] - 0s 18ms/step - loss: 0.8827 - val_loss: 8.0419\n",
            "Epoch 265/1000\n",
            "6/6 [==============================] - 0s 27ms/step - loss: 1.1069 - val_loss: 3.0992\n",
            "Epoch 266/1000\n",
            "6/6 [==============================] - 0s 21ms/step - loss: 1.7419 - val_loss: 1.0820\n",
            "Epoch 267/1000\n",
            "6/6 [==============================] - 0s 20ms/step - loss: 1.2534 - val_loss: 0.7773\n",
            "Epoch 268/1000\n",
            "6/6 [==============================] - 0s 18ms/step - loss: 3.4241 - val_loss: 0.8739\n",
            "Epoch 269/1000\n",
            "6/6 [==============================] - 0s 18ms/step - loss: 0.2168 - val_loss: 1.5889\n",
            "Epoch 270/1000\n",
            "6/6 [==============================] - 0s 19ms/step - loss: 0.2444 - val_loss: 1.1373\n",
            "Epoch 271/1000\n",
            "6/6 [==============================] - 0s 18ms/step - loss: 0.3272 - val_loss: 1.0498\n",
            "Epoch 272/1000\n",
            "6/6 [==============================] - 0s 19ms/step - loss: 0.2104 - val_loss: 2.0467\n",
            "Epoch 273/1000\n",
            "6/6 [==============================] - 0s 18ms/step - loss: 0.1275 - val_loss: 2.4822\n",
            "Epoch 274/1000\n",
            "6/6 [==============================] - 0s 20ms/step - loss: 0.1644 - val_loss: 2.2195\n",
            "Epoch 275/1000\n",
            "6/6 [==============================] - 0s 21ms/step - loss: 0.1514 - val_loss: 1.6708\n",
            "Epoch 276/1000\n",
            "6/6 [==============================] - 0s 19ms/step - loss: 0.0897 - val_loss: 0.5313\n",
            "Epoch 277/1000\n",
            "6/6 [==============================] - 0s 19ms/step - loss: 0.0790 - val_loss: 0.3928\n",
            "Epoch 278/1000\n",
            "6/6 [==============================] - 0s 20ms/step - loss: 0.1299 - val_loss: 0.3025\n",
            "Epoch 279/1000\n",
            "6/6 [==============================] - 0s 19ms/step - loss: 0.3189 - val_loss: 0.4501\n",
            "Epoch 280/1000\n",
            "6/6 [==============================] - 0s 19ms/step - loss: 0.2587 - val_loss: 1.3163\n",
            "Epoch 281/1000\n",
            "6/6 [==============================] - 0s 20ms/step - loss: 0.1336 - val_loss: 2.7356\n",
            "Epoch 282/1000\n",
            "6/6 [==============================] - 0s 20ms/step - loss: 0.2650 - val_loss: 1.1711\n",
            "Epoch 283/1000\n",
            "6/6 [==============================] - 0s 18ms/step - loss: 0.0927 - val_loss: 1.1163\n",
            "Epoch 284/1000\n",
            "6/6 [==============================] - 0s 19ms/step - loss: 0.0941 - val_loss: 2.4759\n",
            "Epoch 285/1000\n",
            "6/6 [==============================] - 0s 22ms/step - loss: 0.1166 - val_loss: 2.6543\n",
            "Epoch 286/1000\n",
            "6/6 [==============================] - 0s 22ms/step - loss: 0.1525 - val_loss: 2.4975\n",
            "Epoch 287/1000\n",
            "6/6 [==============================] - 0s 18ms/step - loss: 0.2332 - val_loss: 0.3177\n",
            "Epoch 288/1000\n",
            "6/6 [==============================] - 0s 17ms/step - loss: 0.2332 - val_loss: 1.8339\n",
            "Epoch 289/1000\n",
            "6/6 [==============================] - 0s 17ms/step - loss: 1.0356 - val_loss: 0.5414\n",
            "Epoch 290/1000\n",
            "6/6 [==============================] - 0s 18ms/step - loss: 0.7595 - val_loss: 1.1333\n",
            "Epoch 291/1000\n",
            "6/6 [==============================] - 0s 21ms/step - loss: 0.1934 - val_loss: 3.3521\n",
            "Epoch 292/1000\n",
            "6/6 [==============================] - 0s 18ms/step - loss: 0.1507 - val_loss: 4.1957\n",
            "Epoch 293/1000\n",
            "6/6 [==============================] - 0s 19ms/step - loss: 0.1950 - val_loss: 1.3103\n",
            "Epoch 294/1000\n",
            "6/6 [==============================] - 0s 24ms/step - loss: 0.0800 - val_loss: 0.9960\n",
            "Epoch 295/1000\n",
            "6/6 [==============================] - 0s 20ms/step - loss: 0.0981 - val_loss: 0.5250\n",
            "Epoch 296/1000\n",
            "6/6 [==============================] - 0s 18ms/step - loss: 0.1737 - val_loss: 1.2380\n",
            "Epoch 297/1000\n",
            "6/6 [==============================] - 0s 19ms/step - loss: 0.1325 - val_loss: 0.8741\n",
            "Epoch 298/1000\n",
            "6/6 [==============================] - 0s 20ms/step - loss: 0.1359 - val_loss: 0.3672\n",
            "Epoch 299/1000\n",
            "6/6 [==============================] - 0s 19ms/step - loss: 0.6210 - val_loss: 0.6667\n",
            "Epoch 300/1000\n",
            "6/6 [==============================] - 0s 20ms/step - loss: 0.3783 - val_loss: 4.7868\n",
            "Epoch 301/1000\n",
            "6/6 [==============================] - 0s 18ms/step - loss: 0.2453 - val_loss: 3.0399\n",
            "Epoch 302/1000\n",
            "6/6 [==============================] - 0s 19ms/step - loss: 0.4723 - val_loss: 3.0045\n",
            "Epoch 303/1000\n",
            "6/6 [==============================] - 0s 21ms/step - loss: 0.3628 - val_loss: 1.4469\n",
            "Epoch 304/1000\n",
            "6/6 [==============================] - 0s 20ms/step - loss: 0.5887 - val_loss: 0.2079\n",
            "Epoch 305/1000\n",
            "6/6 [==============================] - 0s 18ms/step - loss: 0.3468 - val_loss: 0.5526\n",
            "Epoch 306/1000\n",
            "6/6 [==============================] - 0s 18ms/step - loss: 0.4092 - val_loss: 0.5418\n",
            "Epoch 307/1000\n",
            "6/6 [==============================] - 0s 19ms/step - loss: 0.1355 - val_loss: 1.9243\n",
            "Epoch 308/1000\n",
            "6/6 [==============================] - 0s 25ms/step - loss: 0.2252 - val_loss: 8.3822\n",
            "Epoch 309/1000\n",
            "6/6 [==============================] - 0s 20ms/step - loss: 0.5672 - val_loss: 8.1586\n",
            "Epoch 310/1000\n",
            "6/6 [==============================] - 0s 20ms/step - loss: 0.6203 - val_loss: 3.5210\n",
            "Epoch 311/1000\n",
            "6/6 [==============================] - 0s 18ms/step - loss: 0.9313 - val_loss: 2.2317\n",
            "Epoch 312/1000\n",
            "6/6 [==============================] - 0s 19ms/step - loss: 0.4911 - val_loss: 3.8764\n",
            "Epoch 313/1000\n",
            "6/6 [==============================] - 0s 19ms/step - loss: 0.3203 - val_loss: 4.1452\n",
            "Epoch 314/1000\n",
            "6/6 [==============================] - 0s 21ms/step - loss: 0.4913 - val_loss: 0.5555\n",
            "Epoch 315/1000\n",
            "6/6 [==============================] - 0s 19ms/step - loss: 0.7875 - val_loss: 0.5077\n",
            "Epoch 316/1000\n",
            "6/6 [==============================] - 0s 20ms/step - loss: 0.2537 - val_loss: 0.7537\n",
            "Epoch 317/1000\n",
            "6/6 [==============================] - 0s 20ms/step - loss: 0.2136 - val_loss: 0.9977\n",
            "Epoch 318/1000\n",
            "6/6 [==============================] - 0s 19ms/step - loss: 0.0762 - val_loss: 1.1004\n",
            "Epoch 319/1000\n",
            "6/6 [==============================] - 0s 19ms/step - loss: 0.0548 - val_loss: 1.2882\n",
            "Epoch 320/1000\n",
            "6/6 [==============================] - 0s 18ms/step - loss: 0.0304 - val_loss: 1.7535\n",
            "Epoch 321/1000\n",
            "6/6 [==============================] - 0s 19ms/step - loss: 0.0512 - val_loss: 0.8361\n",
            "Epoch 322/1000\n",
            "6/6 [==============================] - 0s 18ms/step - loss: 0.0395 - val_loss: 0.7057\n",
            "Epoch 323/1000\n",
            "6/6 [==============================] - 0s 19ms/step - loss: 0.0326 - val_loss: 1.9261\n",
            "Epoch 324/1000\n",
            "6/6 [==============================] - 0s 21ms/step - loss: 0.0386 - val_loss: 1.6101\n",
            "Epoch 325/1000\n",
            "6/6 [==============================] - 0s 18ms/step - loss: 0.0426 - val_loss: 0.8356\n",
            "Epoch 326/1000\n",
            "6/6 [==============================] - 0s 21ms/step - loss: 0.0282 - val_loss: 0.4058\n",
            "Epoch 327/1000\n",
            "6/6 [==============================] - 0s 19ms/step - loss: 0.0538 - val_loss: 0.6977\n",
            "Epoch 328/1000\n",
            "6/6 [==============================] - 0s 19ms/step - loss: 0.0580 - val_loss: 0.8254\n",
            "Epoch 329/1000\n",
            "6/6 [==============================] - 0s 19ms/step - loss: 0.0189 - val_loss: 1.2207\n",
            "Epoch 330/1000\n",
            "6/6 [==============================] - 0s 19ms/step - loss: 0.0387 - val_loss: 2.3997\n",
            "Epoch 331/1000\n",
            "6/6 [==============================] - 0s 21ms/step - loss: 0.0756 - val_loss: 2.0389\n",
            "Epoch 332/1000\n",
            "6/6 [==============================] - 0s 19ms/step - loss: 0.1975 - val_loss: 3.9370\n",
            "Epoch 333/1000\n",
            "6/6 [==============================] - 0s 23ms/step - loss: 0.5919 - val_loss: 5.6113\n",
            "Epoch 334/1000\n",
            "6/6 [==============================] - 0s 25ms/step - loss: 1.4298 - val_loss: 2.3252\n",
            "Epoch 335/1000\n",
            "6/6 [==============================] - 0s 20ms/step - loss: 1.0790 - val_loss: 0.5662\n",
            "Epoch 336/1000\n",
            "6/6 [==============================] - 0s 21ms/step - loss: 1.3381 - val_loss: 9.1752\n",
            "Epoch 337/1000\n",
            "6/6 [==============================] - 0s 19ms/step - loss: 3.1919 - val_loss: 0.4106\n",
            "Epoch 338/1000\n",
            "6/6 [==============================] - 0s 19ms/step - loss: 1.0750 - val_loss: 2.6385\n",
            "Epoch 339/1000\n",
            "6/6 [==============================] - 0s 22ms/step - loss: 1.3954 - val_loss: 7.7525\n",
            "Epoch 340/1000\n",
            "6/6 [==============================] - 0s 20ms/step - loss: 6.3856 - val_loss: 6.2481\n",
            "Epoch 341/1000\n",
            "6/6 [==============================] - 0s 21ms/step - loss: 11.7135 - val_loss: 45.4097\n",
            "Epoch 342/1000\n",
            "6/6 [==============================] - 0s 20ms/step - loss: 68.3048 - val_loss: 11.7617\n",
            "Epoch 343/1000\n",
            "6/6 [==============================] - 0s 19ms/step - loss: 22.2641 - val_loss: 562.2255\n",
            "Epoch 344/1000\n",
            "6/6 [==============================] - 0s 19ms/step - loss: 62.2372 - val_loss: 68.0055\n",
            "Epoch 345/1000\n",
            "6/6 [==============================] - 0s 18ms/step - loss: 31.9304 - val_loss: 113.5402\n",
            "Epoch 346/1000\n",
            "6/6 [==============================] - 0s 19ms/step - loss: 46.7906 - val_loss: 35.5635\n",
            "Epoch 347/1000\n",
            "6/6 [==============================] - 0s 19ms/step - loss: 46.3997 - val_loss: 71.2930\n",
            "Epoch 348/1000\n",
            "6/6 [==============================] - 0s 22ms/step - loss: 48.4694 - val_loss: 215.4042\n",
            "Epoch 349/1000\n",
            "6/6 [==============================] - 0s 24ms/step - loss: 39.9053 - val_loss: 2.3453\n",
            "Epoch 350/1000\n",
            "6/6 [==============================] - 0s 20ms/step - loss: 16.4715 - val_loss: 1.3920\n",
            "Epoch 351/1000\n",
            "6/6 [==============================] - 0s 22ms/step - loss: 6.7205 - val_loss: 125.0374\n",
            "Epoch 352/1000\n",
            "6/6 [==============================] - 0s 20ms/step - loss: 19.8290 - val_loss: 1.2688\n",
            "Epoch 353/1000\n",
            "6/6 [==============================] - 0s 18ms/step - loss: 12.6276 - val_loss: 6.6904\n",
            "Epoch 354/1000\n",
            "6/6 [==============================] - 0s 18ms/step - loss: 5.0955 - val_loss: 74.6886\n",
            "Epoch 355/1000\n",
            "6/6 [==============================] - 0s 20ms/step - loss: 7.8983 - val_loss: 9.1069\n",
            "Epoch 356/1000\n",
            "6/6 [==============================] - 0s 20ms/step - loss: 4.2349 - val_loss: 1.3021\n",
            "Epoch 357/1000\n",
            "6/6 [==============================] - 0s 22ms/step - loss: 4.1510 - val_loss: 28.9353\n",
            "Epoch 358/1000\n",
            "6/6 [==============================] - 0s 19ms/step - loss: 3.5864 - val_loss: 6.1216\n",
            "Epoch 359/1000\n",
            "6/6 [==============================] - 0s 20ms/step - loss: 3.0868 - val_loss: 10.4087\n",
            "Epoch 360/1000\n",
            "6/6 [==============================] - 0s 22ms/step - loss: 4.5201 - val_loss: 34.1931\n",
            "Epoch 361/1000\n",
            "6/6 [==============================] - 0s 46ms/step - loss: 1.5811 - val_loss: 3.3586\n",
            "Epoch 362/1000\n",
            "6/6 [==============================] - 0s 53ms/step - loss: 1.8713 - val_loss: 2.7644\n",
            "Epoch 363/1000\n",
            "6/6 [==============================] - 0s 51ms/step - loss: 1.7776 - val_loss: 15.9733\n",
            "Epoch 364/1000\n",
            "6/6 [==============================] - 0s 20ms/step - loss: 0.8122 - val_loss: 0.9135\n",
            "Epoch 365/1000\n",
            "6/6 [==============================] - 0s 19ms/step - loss: 0.5159 - val_loss: 2.0006\n",
            "Epoch 366/1000\n",
            "6/6 [==============================] - 0s 19ms/step - loss: 0.3344 - val_loss: 5.2051\n",
            "Epoch 367/1000\n",
            "6/6 [==============================] - 0s 18ms/step - loss: 0.4681 - val_loss: 4.9931\n",
            "Epoch 368/1000\n",
            "6/6 [==============================] - 0s 21ms/step - loss: 0.3214 - val_loss: 0.8805\n",
            "Epoch 369/1000\n",
            "6/6 [==============================] - 0s 20ms/step - loss: 0.2363 - val_loss: 7.4328\n",
            "Epoch 370/1000\n",
            "6/6 [==============================] - 0s 22ms/step - loss: 0.4573 - val_loss: 4.8946\n",
            "Epoch 371/1000\n",
            "6/6 [==============================] - 0s 23ms/step - loss: 0.3818 - val_loss: 0.5385\n",
            "Epoch 372/1000\n",
            "6/6 [==============================] - 0s 19ms/step - loss: 0.9645 - val_loss: 1.7861\n",
            "Epoch 373/1000\n",
            "6/6 [==============================] - 0s 21ms/step - loss: 2.1547 - val_loss: 21.5601\n",
            "Epoch 374/1000\n",
            "6/6 [==============================] - 0s 20ms/step - loss: 9.3074 - val_loss: 0.6032\n",
            "Epoch 375/1000\n",
            "6/6 [==============================] - 0s 21ms/step - loss: 7.9328 - val_loss: 61.7241\n",
            "Epoch 376/1000\n",
            "6/6 [==============================] - 0s 19ms/step - loss: 11.1379 - val_loss: 31.4984\n",
            "Epoch 377/1000\n",
            "6/6 [==============================] - 0s 20ms/step - loss: 5.4219 - val_loss: 7.2480\n",
            "Epoch 378/1000\n",
            "6/6 [==============================] - 0s 21ms/step - loss: 2.9279 - val_loss: 0.7164\n",
            "Epoch 379/1000\n",
            "6/6 [==============================] - 0s 22ms/step - loss: 2.8653 - val_loss: 0.9874\n",
            "Epoch 380/1000\n",
            "6/6 [==============================] - 0s 23ms/step - loss: 3.2979 - val_loss: 26.6284\n",
            "Epoch 381/1000\n",
            "6/6 [==============================] - 0s 20ms/step - loss: 3.1420 - val_loss: 0.8931\n",
            "Epoch 382/1000\n",
            "6/6 [==============================] - 0s 23ms/step - loss: 1.5090 - val_loss: 1.0171\n",
            "Epoch 383/1000\n",
            "6/6 [==============================] - 0s 19ms/step - loss: 2.2740 - val_loss: 16.7010\n",
            "Epoch 384/1000\n",
            "6/6 [==============================] - 0s 21ms/step - loss: 1.7977 - val_loss: 1.8840\n",
            "Epoch 385/1000\n",
            "6/6 [==============================] - 0s 21ms/step - loss: 2.3318 - val_loss: 1.0934\n",
            "Epoch 386/1000\n",
            "6/6 [==============================] - 0s 26ms/step - loss: 0.5110 - val_loss: 3.7820\n",
            "Epoch 387/1000\n",
            "6/6 [==============================] - 0s 20ms/step - loss: 0.3009 - val_loss: 4.9735\n",
            "Epoch 388/1000\n",
            "6/6 [==============================] - 0s 21ms/step - loss: 0.3986 - val_loss: 0.7323\n",
            "Epoch 389/1000\n",
            "6/6 [==============================] - 0s 20ms/step - loss: 0.1366 - val_loss: 2.3393\n",
            "Epoch 390/1000\n",
            "6/6 [==============================] - 0s 19ms/step - loss: 0.1952 - val_loss: 5.0654\n",
            "Epoch 391/1000\n",
            "6/6 [==============================] - 0s 19ms/step - loss: 0.2873 - val_loss: 1.6924\n",
            "Epoch 392/1000\n",
            "6/6 [==============================] - 0s 22ms/step - loss: 0.1229 - val_loss: 0.9755\n",
            "Epoch 393/1000\n",
            "6/6 [==============================] - 0s 23ms/step - loss: 0.0784 - val_loss: 1.8268\n",
            "Epoch 394/1000\n",
            "6/6 [==============================] - 0s 19ms/step - loss: 0.0779 - val_loss: 2.2354\n",
            "Epoch 395/1000\n",
            "6/6 [==============================] - 0s 24ms/step - loss: 0.1456 - val_loss: 1.6091\n",
            "Epoch 396/1000\n",
            "6/6 [==============================] - 0s 20ms/step - loss: 0.1759 - val_loss: 0.5772\n",
            "Epoch 397/1000\n",
            "6/6 [==============================] - 0s 21ms/step - loss: 0.1198 - val_loss: 0.9883\n",
            "Epoch 398/1000\n",
            "6/6 [==============================] - 0s 21ms/step - loss: 0.0490 - val_loss: 2.1267\n",
            "Epoch 399/1000\n",
            "6/6 [==============================] - 0s 21ms/step - loss: 0.0530 - val_loss: 0.6838\n",
            "Epoch 400/1000\n",
            "6/6 [==============================] - 0s 21ms/step - loss: 0.0438 - val_loss: 1.8386\n",
            "Epoch 401/1000\n",
            "6/6 [==============================] - 0s 20ms/step - loss: 0.0423 - val_loss: 1.3615\n",
            "Epoch 402/1000\n",
            "6/6 [==============================] - 0s 19ms/step - loss: 0.0909 - val_loss: 0.3284\n",
            "Epoch 403/1000\n",
            "6/6 [==============================] - 0s 20ms/step - loss: 0.1096 - val_loss: 1.9598\n",
            "Epoch 404/1000\n",
            "6/6 [==============================] - 0s 21ms/step - loss: 0.0631 - val_loss: 1.0712\n",
            "Epoch 405/1000\n",
            "6/6 [==============================] - 0s 21ms/step - loss: 0.0371 - val_loss: 1.0032\n",
            "Epoch 406/1000\n",
            "6/6 [==============================] - 0s 21ms/step - loss: 0.0476 - val_loss: 2.6108\n",
            "Epoch 407/1000\n",
            "6/6 [==============================] - 0s 21ms/step - loss: 0.0733 - val_loss: 0.9445\n",
            "Epoch 408/1000\n",
            "6/6 [==============================] - 0s 21ms/step - loss: 0.0532 - val_loss: 0.8813\n",
            "Epoch 409/1000\n",
            "6/6 [==============================] - 0s 19ms/step - loss: 0.0552 - val_loss: 2.2910\n",
            "Epoch 410/1000\n",
            "6/6 [==============================] - 0s 19ms/step - loss: 0.0760 - val_loss: 1.0605\n",
            "Epoch 411/1000\n",
            "6/6 [==============================] - 0s 18ms/step - loss: 0.0439 - val_loss: 0.4202\n",
            "Epoch 412/1000\n",
            "6/6 [==============================] - 0s 19ms/step - loss: 0.0819 - val_loss: 0.9883\n",
            "Epoch 413/1000\n",
            "6/6 [==============================] - 0s 19ms/step - loss: 0.0378 - val_loss: 1.6039\n",
            "Epoch 414/1000\n",
            "6/6 [==============================] - 0s 20ms/step - loss: 0.0326 - val_loss: 0.7879\n",
            "Epoch 415/1000\n",
            "6/6 [==============================] - 0s 20ms/step - loss: 0.0421 - val_loss: 1.5771\n",
            "Epoch 416/1000\n",
            "6/6 [==============================] - 0s 22ms/step - loss: 0.0658 - val_loss: 2.1604\n",
            "Epoch 417/1000\n",
            "6/6 [==============================] - 0s 29ms/step - loss: 0.0372 - val_loss: 0.6233\n",
            "Epoch 418/1000\n",
            "6/6 [==============================] - 0s 21ms/step - loss: 0.0552 - val_loss: 0.8266\n",
            "Epoch 419/1000\n",
            "6/6 [==============================] - 0s 20ms/step - loss: 0.0432 - val_loss: 1.0556\n",
            "Epoch 420/1000\n",
            "6/6 [==============================] - 0s 21ms/step - loss: 0.0310 - val_loss: 1.2356\n",
            "Epoch 421/1000\n",
            "6/6 [==============================] - 0s 20ms/step - loss: 0.0423 - val_loss: 0.9828\n",
            "Epoch 422/1000\n",
            "6/6 [==============================] - 0s 20ms/step - loss: 0.0312 - val_loss: 0.4582\n",
            "Epoch 423/1000\n",
            "6/6 [==============================] - 0s 21ms/step - loss: 0.0390 - val_loss: 1.8103\n",
            "Epoch 424/1000\n",
            "6/6 [==============================] - 0s 21ms/step - loss: 0.0502 - val_loss: 1.5486\n",
            "Epoch 425/1000\n",
            "6/6 [==============================] - 0s 20ms/step - loss: 0.0287 - val_loss: 0.5686\n",
            "Epoch 426/1000\n",
            "6/6 [==============================] - 0s 20ms/step - loss: 0.0463 - val_loss: 0.8171\n",
            "Epoch 427/1000\n",
            "6/6 [==============================] - 0s 20ms/step - loss: 0.0231 - val_loss: 0.4120\n",
            "Epoch 428/1000\n",
            "6/6 [==============================] - 0s 19ms/step - loss: 0.0455 - val_loss: 1.5914\n",
            "Epoch 429/1000\n",
            "6/6 [==============================] - 0s 21ms/step - loss: 0.0340 - val_loss: 0.6251\n",
            "Epoch 430/1000\n",
            "6/6 [==============================] - 0s 22ms/step - loss: 0.0280 - val_loss: 0.8677\n",
            "Epoch 431/1000\n",
            "6/6 [==============================] - 0s 21ms/step - loss: 0.0163 - val_loss: 0.8592\n",
            "Epoch 432/1000\n",
            "6/6 [==============================] - 0s 21ms/step - loss: 0.0156 - val_loss: 0.5220\n",
            "Epoch 433/1000\n",
            "6/6 [==============================] - 0s 21ms/step - loss: 0.0205 - val_loss: 0.8051\n",
            "Epoch 434/1000\n",
            "6/6 [==============================] - 0s 20ms/step - loss: 0.0172 - val_loss: 0.5546\n",
            "Epoch 435/1000\n",
            "6/6 [==============================] - 0s 24ms/step - loss: 0.0205 - val_loss: 0.8630\n",
            "Epoch 436/1000\n",
            "6/6 [==============================] - 0s 20ms/step - loss: 0.0199 - val_loss: 0.9597\n",
            "Epoch 437/1000\n",
            "6/6 [==============================] - 0s 19ms/step - loss: 0.0186 - val_loss: 0.9234\n",
            "Epoch 438/1000\n",
            "6/6 [==============================] - 0s 21ms/step - loss: 0.0326 - val_loss: 0.8665\n",
            "Epoch 439/1000\n",
            "6/6 [==============================] - 0s 21ms/step - loss: 0.0366 - val_loss: 0.4189\n",
            "Epoch 440/1000\n",
            "6/6 [==============================] - 0s 22ms/step - loss: 0.0314 - val_loss: 0.2992\n",
            "Epoch 441/1000\n",
            "6/6 [==============================] - 0s 20ms/step - loss: 0.0275 - val_loss: 0.8439\n",
            "Epoch 442/1000\n",
            "6/6 [==============================] - 0s 21ms/step - loss: 0.0328 - val_loss: 1.0472\n",
            "Epoch 443/1000\n",
            "6/6 [==============================] - 0s 21ms/step - loss: 0.0331 - val_loss: 0.4178\n",
            "Epoch 444/1000\n",
            "6/6 [==============================] - 0s 19ms/step - loss: 0.0088 - val_loss: 0.6397\n",
            "Epoch 445/1000\n",
            "6/6 [==============================] - 0s 19ms/step - loss: 0.0111 - val_loss: 0.8456\n",
            "Epoch 446/1000\n",
            "6/6 [==============================] - 0s 20ms/step - loss: 0.0212 - val_loss: 0.4263\n",
            "Epoch 447/1000\n",
            "6/6 [==============================] - 0s 21ms/step - loss: 0.0158 - val_loss: 0.4236\n",
            "Epoch 448/1000\n",
            "6/6 [==============================] - 0s 23ms/step - loss: 0.0168 - val_loss: 0.8392\n",
            "Epoch 449/1000\n",
            "6/6 [==============================] - 0s 21ms/step - loss: 0.0213 - val_loss: 0.9654\n",
            "Epoch 450/1000\n",
            "6/6 [==============================] - 0s 20ms/step - loss: 0.0121 - val_loss: 0.3640\n",
            "Epoch 451/1000\n",
            "6/6 [==============================] - 0s 19ms/step - loss: 0.0192 - val_loss: 0.4708\n",
            "Epoch 452/1000\n",
            "6/6 [==============================] - 0s 20ms/step - loss: 0.0184 - val_loss: 0.5974\n",
            "Epoch 453/1000\n",
            "6/6 [==============================] - 0s 19ms/step - loss: 0.0077 - val_loss: 0.5870\n",
            "Epoch 454/1000\n",
            "6/6 [==============================] - 0s 19ms/step - loss: 0.0108 - val_loss: 0.6840\n",
            "Epoch 455/1000\n",
            "6/6 [==============================] - 0s 27ms/step - loss: 0.0090 - val_loss: 0.3907\n",
            "Epoch 456/1000\n",
            "6/6 [==============================] - 0s 20ms/step - loss: 0.0145 - val_loss: 0.4185\n",
            "Epoch 457/1000\n",
            "6/6 [==============================] - 0s 19ms/step - loss: 0.0139 - val_loss: 0.2415\n",
            "Epoch 458/1000\n",
            "6/6 [==============================] - 0s 19ms/step - loss: 0.0752 - val_loss: 0.7190\n",
            "Epoch 459/1000\n",
            "6/6 [==============================] - 0s 19ms/step - loss: 0.0298 - val_loss: 0.8304\n",
            "Epoch 460/1000\n",
            "6/6 [==============================] - 0s 22ms/step - loss: 0.0386 - val_loss: 0.2554\n",
            "Epoch 461/1000\n",
            "6/6 [==============================] - 0s 20ms/step - loss: 0.0160 - val_loss: 0.3906\n",
            "Epoch 462/1000\n",
            "6/6 [==============================] - 0s 20ms/step - loss: 0.0190 - val_loss: 1.0999\n",
            "Epoch 463/1000\n",
            "6/6 [==============================] - 0s 21ms/step - loss: 0.0243 - val_loss: 0.7855\n",
            "Epoch 464/1000\n",
            "6/6 [==============================] - 0s 23ms/step - loss: 0.0141 - val_loss: 0.4924\n",
            "Epoch 465/1000\n",
            "6/6 [==============================] - 0s 22ms/step - loss: 0.0107 - val_loss: 0.2843\n",
            "Epoch 466/1000\n",
            "6/6 [==============================] - 0s 19ms/step - loss: 0.0422 - val_loss: 0.6378\n",
            "Epoch 467/1000\n",
            "6/6 [==============================] - 0s 20ms/step - loss: 0.0139 - val_loss: 0.9680\n",
            "Epoch 468/1000\n",
            "6/6 [==============================] - 0s 21ms/step - loss: 0.0122 - val_loss: 0.9184\n",
            "Epoch 469/1000\n",
            "6/6 [==============================] - 0s 23ms/step - loss: 0.0314 - val_loss: 0.2273\n",
            "Epoch 470/1000\n",
            "6/6 [==============================] - 0s 23ms/step - loss: 0.0420 - val_loss: 0.2606\n",
            "Epoch 471/1000\n",
            "6/6 [==============================] - 0s 20ms/step - loss: 0.0770 - val_loss: 1.3130\n",
            "Epoch 472/1000\n",
            "6/6 [==============================] - 0s 22ms/step - loss: 0.0354 - val_loss: 1.0606\n",
            "Epoch 473/1000\n",
            "6/6 [==============================] - 0s 20ms/step - loss: 0.0305 - val_loss: 0.5904\n",
            "Epoch 474/1000\n",
            "6/6 [==============================] - 0s 20ms/step - loss: 0.0267 - val_loss: 0.5496\n",
            "Epoch 475/1000\n",
            "6/6 [==============================] - 0s 20ms/step - loss: 0.0104 - val_loss: 0.4563\n",
            "Epoch 476/1000\n",
            "6/6 [==============================] - 0s 21ms/step - loss: 0.0102 - val_loss: 0.4608\n",
            "Epoch 477/1000\n",
            "6/6 [==============================] - 0s 21ms/step - loss: 0.0081 - val_loss: 0.6670\n",
            "Epoch 478/1000\n",
            "6/6 [==============================] - 0s 21ms/step - loss: 0.0106 - val_loss: 0.3196\n",
            "Epoch 479/1000\n",
            "6/6 [==============================] - 0s 22ms/step - loss: 0.0064 - val_loss: 0.6247\n",
            "Epoch 480/1000\n",
            "6/6 [==============================] - 0s 21ms/step - loss: 0.0069 - val_loss: 0.6641\n",
            "Epoch 481/1000\n",
            "6/6 [==============================] - 0s 21ms/step - loss: 0.0074 - val_loss: 0.6678\n",
            "Epoch 482/1000\n",
            "6/6 [==============================] - 0s 20ms/step - loss: 0.0091 - val_loss: 0.4438\n",
            "Epoch 483/1000\n",
            "6/6 [==============================] - 0s 22ms/step - loss: 0.0048 - val_loss: 0.5109\n",
            "Epoch 484/1000\n",
            "6/6 [==============================] - 0s 20ms/step - loss: 0.0082 - val_loss: 0.2855\n",
            "Epoch 485/1000\n",
            "6/6 [==============================] - 0s 20ms/step - loss: 0.0177 - val_loss: 0.1770\n",
            "Epoch 486/1000\n",
            "6/6 [==============================] - 0s 22ms/step - loss: 0.0454 - val_loss: 0.2754\n",
            "Epoch 487/1000\n",
            "6/6 [==============================] - 0s 19ms/step - loss: 0.0103 - val_loss: 0.6719\n",
            "Epoch 488/1000\n",
            "6/6 [==============================] - 0s 20ms/step - loss: 0.0111 - val_loss: 0.4928\n",
            "Epoch 489/1000\n",
            "6/6 [==============================] - 0s 22ms/step - loss: 0.0082 - val_loss: 0.2886\n",
            "Epoch 490/1000\n",
            "6/6 [==============================] - 0s 20ms/step - loss: 0.0150 - val_loss: 0.3316\n",
            "Epoch 491/1000\n",
            "6/6 [==============================] - 0s 20ms/step - loss: 0.0243 - val_loss: 0.8679\n",
            "Epoch 492/1000\n",
            "6/6 [==============================] - 0s 20ms/step - loss: 0.0374 - val_loss: 0.5253\n",
            "Epoch 493/1000\n",
            "6/6 [==============================] - 0s 21ms/step - loss: 0.0044 - val_loss: 0.2702\n",
            "Epoch 494/1000\n",
            "6/6 [==============================] - 0s 22ms/step - loss: 0.0089 - val_loss: 0.4344\n",
            "Epoch 495/1000\n",
            "6/6 [==============================] - 0s 20ms/step - loss: 0.0058 - val_loss: 0.4608\n",
            "Epoch 496/1000\n",
            "6/6 [==============================] - 0s 21ms/step - loss: 0.0057 - val_loss: 0.3614\n",
            "Epoch 497/1000\n",
            "6/6 [==============================] - 0s 23ms/step - loss: 0.0075 - val_loss: 0.4859\n",
            "Epoch 498/1000\n",
            "6/6 [==============================] - 0s 22ms/step - loss: 0.0122 - val_loss: 0.2682\n",
            "Epoch 499/1000\n",
            "6/6 [==============================] - 0s 20ms/step - loss: 0.0111 - val_loss: 0.2179\n",
            "Epoch 500/1000\n",
            "6/6 [==============================] - 0s 21ms/step - loss: 0.0177 - val_loss: 0.2203\n",
            "Epoch 501/1000\n",
            "6/6 [==============================] - 0s 20ms/step - loss: 0.0182 - val_loss: 0.3489\n",
            "Epoch 502/1000\n",
            "6/6 [==============================] - 0s 22ms/step - loss: 0.0115 - val_loss: 0.5149\n",
            "Epoch 503/1000\n",
            "6/6 [==============================] - 0s 18ms/step - loss: 0.0060 - val_loss: 0.3912\n",
            "Epoch 504/1000\n",
            "6/6 [==============================] - 0s 23ms/step - loss: 0.0052 - val_loss: 0.4956\n",
            "Epoch 505/1000\n",
            "6/6 [==============================] - 0s 20ms/step - loss: 0.0068 - val_loss: 0.3181\n",
            "Epoch 506/1000\n",
            "6/6 [==============================] - 0s 22ms/step - loss: 0.0048 - val_loss: 0.3473\n",
            "Epoch 507/1000\n",
            "6/6 [==============================] - 0s 22ms/step - loss: 0.0042 - val_loss: 0.4387\n",
            "Epoch 508/1000\n",
            "6/6 [==============================] - 0s 23ms/step - loss: 0.0046 - val_loss: 0.3198\n",
            "Epoch 509/1000\n",
            "6/6 [==============================] - 0s 23ms/step - loss: 0.0073 - val_loss: 0.1676\n",
            "Epoch 510/1000\n",
            "6/6 [==============================] - 0s 23ms/step - loss: 0.0156 - val_loss: 0.3059\n",
            "Epoch 511/1000\n",
            "6/6 [==============================] - 0s 21ms/step - loss: 0.0097 - val_loss: 0.6098\n",
            "Epoch 512/1000\n",
            "6/6 [==============================] - 0s 22ms/step - loss: 0.0062 - val_loss: 0.6399\n",
            "Epoch 513/1000\n",
            "6/6 [==============================] - 0s 24ms/step - loss: 0.0063 - val_loss: 0.4272\n",
            "Epoch 514/1000\n",
            "6/6 [==============================] - 0s 20ms/step - loss: 0.0106 - val_loss: 0.4582\n",
            "Epoch 515/1000\n",
            "6/6 [==============================] - 0s 21ms/step - loss: 0.0158 - val_loss: 0.3666\n",
            "Epoch 516/1000\n",
            "6/6 [==============================] - 0s 22ms/step - loss: 0.0226 - val_loss: 0.3400\n",
            "Epoch 517/1000\n",
            "6/6 [==============================] - 0s 22ms/step - loss: 0.0069 - val_loss: 0.3624\n",
            "Epoch 518/1000\n",
            "6/6 [==============================] - 0s 20ms/step - loss: 0.0071 - val_loss: 0.5424\n",
            "Epoch 519/1000\n",
            "6/6 [==============================] - 0s 20ms/step - loss: 0.0394 - val_loss: 0.1627\n",
            "Epoch 520/1000\n",
            "6/6 [==============================] - 0s 19ms/step - loss: 0.0120 - val_loss: 0.0990\n",
            "Epoch 521/1000\n",
            "6/6 [==============================] - 0s 23ms/step - loss: 0.0278 - val_loss: 0.1343\n",
            "Epoch 522/1000\n",
            "6/6 [==============================] - 0s 20ms/step - loss: 0.0162 - val_loss: 0.3129\n",
            "Epoch 523/1000\n",
            "6/6 [==============================] - 0s 19ms/step - loss: 0.0054 - val_loss: 0.4872\n",
            "Epoch 524/1000\n",
            "6/6 [==============================] - 0s 20ms/step - loss: 0.0171 - val_loss: 0.2816\n",
            "Epoch 525/1000\n",
            "6/6 [==============================] - 0s 21ms/step - loss: 0.0072 - val_loss: 0.3526\n",
            "Epoch 526/1000\n",
            "6/6 [==============================] - 0s 20ms/step - loss: 0.0048 - val_loss: 0.2345\n",
            "Epoch 527/1000\n",
            "6/6 [==============================] - 0s 19ms/step - loss: 0.0074 - val_loss: 0.1918\n",
            "Epoch 528/1000\n",
            "6/6 [==============================] - 0s 19ms/step - loss: 0.0083 - val_loss: 0.2415\n",
            "Epoch 529/1000\n",
            "6/6 [==============================] - 0s 22ms/step - loss: 0.0080 - val_loss: 0.2476\n",
            "Epoch 530/1000\n",
            "6/6 [==============================] - 0s 27ms/step - loss: 0.0120 - val_loss: 0.1091\n",
            "Epoch 531/1000\n",
            "6/6 [==============================] - 0s 21ms/step - loss: 0.0422 - val_loss: 0.1734\n",
            "Epoch 532/1000\n",
            "6/6 [==============================] - 0s 24ms/step - loss: 0.0726 - val_loss: 0.8531\n",
            "Epoch 533/1000\n",
            "6/6 [==============================] - 0s 20ms/step - loss: 0.0979 - val_loss: 0.6918\n",
            "Epoch 534/1000\n",
            "6/6 [==============================] - 0s 22ms/step - loss: 0.1148 - val_loss: 4.5245\n",
            "Epoch 535/1000\n",
            "6/6 [==============================] - 0s 20ms/step - loss: 0.4665 - val_loss: 2.3193\n",
            "Epoch 536/1000\n",
            "6/6 [==============================] - 0s 21ms/step - loss: 0.5296 - val_loss: 2.0527\n",
            "Epoch 537/1000\n",
            "6/6 [==============================] - 0s 20ms/step - loss: 0.3836 - val_loss: 0.9573\n",
            "Epoch 538/1000\n",
            "6/6 [==============================] - 0s 22ms/step - loss: 0.2770 - val_loss: 0.3418\n",
            "Epoch 539/1000\n",
            "6/6 [==============================] - 0s 21ms/step - loss: 0.3309 - val_loss: 0.6102\n",
            "Epoch 540/1000\n",
            "6/6 [==============================] - 0s 22ms/step - loss: 0.4167 - val_loss: 5.3801\n",
            "Epoch 541/1000\n",
            "6/6 [==============================] - 0s 20ms/step - loss: 1.2158 - val_loss: 1.0742\n",
            "Epoch 542/1000\n",
            "6/6 [==============================] - 0s 20ms/step - loss: 0.8270 - val_loss: 0.3465\n",
            "Epoch 543/1000\n",
            "6/6 [==============================] - 0s 20ms/step - loss: 0.5837 - val_loss: 0.2085\n",
            "Epoch 544/1000\n",
            "6/6 [==============================] - 0s 19ms/step - loss: 0.2868 - val_loss: 1.6229\n",
            "Epoch 545/1000\n",
            "6/6 [==============================] - 0s 24ms/step - loss: 0.2578 - val_loss: 4.4293\n",
            "Epoch 546/1000\n",
            "6/6 [==============================] - 0s 19ms/step - loss: 0.7197 - val_loss: 4.0057\n",
            "Epoch 547/1000\n",
            "6/6 [==============================] - 0s 65ms/step - loss: 1.6513 - val_loss: 7.5700\n",
            "Epoch 548/1000\n",
            "6/6 [==============================] - 0s 47ms/step - loss: 5.0295 - val_loss: 20.2613\n",
            "Epoch 549/1000\n",
            "6/6 [==============================] - 0s 22ms/step - loss: 11.4458 - val_loss: 5.1834\n",
            "Epoch 550/1000\n",
            "6/6 [==============================] - 0s 21ms/step - loss: 3.0307 - val_loss: 99.6689\n",
            "Epoch 551/1000\n",
            "6/6 [==============================] - 0s 21ms/step - loss: 20.8247 - val_loss: 137.2487\n",
            "Epoch 552/1000\n",
            "6/6 [==============================] - 0s 33ms/step - loss: 26.0235 - val_loss: 3.6343\n",
            "Epoch 553/1000\n",
            "6/6 [==============================] - 0s 55ms/step - loss: 7.7592 - val_loss: 8.3486\n",
            "Epoch 554/1000\n",
            "6/6 [==============================] - 0s 23ms/step - loss: 6.5650 - val_loss: 31.2573\n",
            "Epoch 555/1000\n",
            "6/6 [==============================] - 0s 24ms/step - loss: 5.1995 - val_loss: 78.1644\n",
            "Epoch 556/1000\n",
            "6/6 [==============================] - 0s 24ms/step - loss: 14.2056 - val_loss: 56.5806\n",
            "Epoch 557/1000\n",
            "6/6 [==============================] - 0s 20ms/step - loss: 9.3474 - val_loss: 10.6719\n",
            "Epoch 558/1000\n",
            "6/6 [==============================] - 0s 23ms/step - loss: 3.9236 - val_loss: 1.7467\n",
            "Epoch 559/1000\n",
            "6/6 [==============================] - 0s 21ms/step - loss: 1.4691 - val_loss: 3.3990\n",
            "Epoch 560/1000\n",
            "6/6 [==============================] - 0s 20ms/step - loss: 0.5275 - val_loss: 5.6046\n",
            "Epoch 561/1000\n",
            "6/6 [==============================] - 0s 22ms/step - loss: 0.3364 - val_loss: 2.6889\n",
            "Epoch 562/1000\n",
            "6/6 [==============================] - 0s 19ms/step - loss: 0.4983 - val_loss: 0.3283\n",
            "Epoch 563/1000\n",
            "6/6 [==============================] - 0s 23ms/step - loss: 0.7544 - val_loss: 1.2852\n",
            "Epoch 564/1000\n",
            "6/6 [==============================] - 0s 19ms/step - loss: 0.2861 - val_loss: 2.9525\n",
            "Epoch 565/1000\n",
            "6/6 [==============================] - 0s 20ms/step - loss: 0.0778 - val_loss: 1.8840\n",
            "Epoch 566/1000\n",
            "6/6 [==============================] - 0s 20ms/step - loss: 0.2810 - val_loss: 1.3280\n",
            "Epoch 567/1000\n",
            "6/6 [==============================] - 0s 23ms/step - loss: 0.1375 - val_loss: 1.2090\n",
            "Epoch 568/1000\n",
            "6/6 [==============================] - 0s 23ms/step - loss: 0.2553 - val_loss: 0.2586\n",
            "Epoch 569/1000\n",
            "6/6 [==============================] - 0s 22ms/step - loss: 0.3288 - val_loss: 0.9628\n",
            "Epoch 570/1000\n",
            "6/6 [==============================] - 0s 19ms/step - loss: 0.2456 - val_loss: 0.8912\n",
            "Epoch 571/1000\n",
            "6/6 [==============================] - 0s 20ms/step - loss: 0.1168 - val_loss: 1.5683\n",
            "Epoch 572/1000\n",
            "6/6 [==============================] - 0s 21ms/step - loss: 0.0413 - val_loss: 1.6082\n",
            "Epoch 573/1000\n",
            "6/6 [==============================] - 0s 23ms/step - loss: 0.1050 - val_loss: 2.5565\n",
            "Epoch 574/1000\n",
            "6/6 [==============================] - 0s 21ms/step - loss: 0.3112 - val_loss: 1.3969\n",
            "Epoch 575/1000\n",
            "6/6 [==============================] - 0s 19ms/step - loss: 0.0781 - val_loss: 0.7247\n",
            "Epoch 576/1000\n",
            "6/6 [==============================] - 0s 22ms/step - loss: 0.0458 - val_loss: 0.1892\n",
            "Epoch 577/1000\n",
            "6/6 [==============================] - 0s 21ms/step - loss: 0.0939 - val_loss: 0.2569\n",
            "Epoch 578/1000\n",
            "6/6 [==============================] - 0s 20ms/step - loss: 0.0569 - val_loss: 0.2666\n",
            "Epoch 579/1000\n",
            "6/6 [==============================] - 0s 21ms/step - loss: 0.0757 - val_loss: 0.4178\n",
            "Epoch 580/1000\n",
            "6/6 [==============================] - 0s 21ms/step - loss: 0.0224 - val_loss: 0.5673\n",
            "Epoch 581/1000\n",
            "6/6 [==============================] - 0s 24ms/step - loss: 0.0261 - val_loss: 2.0414\n",
            "Epoch 582/1000\n",
            "6/6 [==============================] - 0s 21ms/step - loss: 0.0471 - val_loss: 2.2205\n",
            "Epoch 583/1000\n",
            "6/6 [==============================] - 0s 20ms/step - loss: 0.0508 - val_loss: 1.1641\n",
            "Epoch 584/1000\n",
            "6/6 [==============================] - 0s 26ms/step - loss: 0.0391 - val_loss: 0.1708\n",
            "Epoch 585/1000\n",
            "6/6 [==============================] - 0s 24ms/step - loss: 0.0897 - val_loss: 0.5217\n",
            "Epoch 586/1000\n",
            "6/6 [==============================] - 0s 20ms/step - loss: 0.0252 - val_loss: 0.6223\n",
            "Epoch 587/1000\n",
            "6/6 [==============================] - 0s 21ms/step - loss: 0.0123 - val_loss: 0.5551\n",
            "Epoch 588/1000\n",
            "6/6 [==============================] - 0s 28ms/step - loss: 0.0427 - val_loss: 0.5592\n",
            "Epoch 589/1000\n",
            "6/6 [==============================] - 0s 21ms/step - loss: 0.0371 - val_loss: 0.4391\n",
            "Epoch 590/1000\n",
            "6/6 [==============================] - 0s 23ms/step - loss: 0.0483 - val_loss: 0.5063\n",
            "Epoch 591/1000\n",
            "6/6 [==============================] - 0s 21ms/step - loss: 0.0277 - val_loss: 1.0605\n",
            "Epoch 592/1000\n",
            "6/6 [==============================] - 0s 20ms/step - loss: 0.0341 - val_loss: 1.4131\n",
            "Epoch 593/1000\n",
            "6/6 [==============================] - 0s 20ms/step - loss: 0.0386 - val_loss: 0.6875\n",
            "Epoch 594/1000\n",
            "6/6 [==============================] - 0s 19ms/step - loss: 0.0208 - val_loss: 0.4309\n",
            "Epoch 595/1000\n",
            "6/6 [==============================] - 0s 24ms/step - loss: 0.0386 - val_loss: 0.3389\n",
            "Epoch 596/1000\n",
            "6/6 [==============================] - 0s 20ms/step - loss: 0.0506 - val_loss: 0.1350\n",
            "Epoch 597/1000\n",
            "6/6 [==============================] - 0s 20ms/step - loss: 0.0895 - val_loss: 0.2602\n",
            "Epoch 598/1000\n",
            "6/6 [==============================] - 0s 20ms/step - loss: 0.0435 - val_loss: 0.8242\n",
            "Epoch 599/1000\n",
            "6/6 [==============================] - 0s 20ms/step - loss: 0.0247 - val_loss: 0.1733\n",
            "Epoch 600/1000\n",
            "6/6 [==============================] - 0s 21ms/step - loss: 0.3312 - val_loss: 0.1298\n",
            "Epoch 601/1000\n",
            "6/6 [==============================] - 0s 19ms/step - loss: 0.4462 - val_loss: 0.2194\n",
            "Epoch 602/1000\n",
            "6/6 [==============================] - 0s 21ms/step - loss: 0.8458 - val_loss: 0.1828\n",
            "Epoch 603/1000\n",
            "6/6 [==============================] - 0s 22ms/step - loss: 0.2693 - val_loss: 1.4752\n",
            "Epoch 604/1000\n",
            "6/6 [==============================] - 0s 21ms/step - loss: 0.0678 - val_loss: 1.7652\n",
            "Epoch 605/1000\n",
            "6/6 [==============================] - 0s 23ms/step - loss: 0.1729 - val_loss: 11.9706\n",
            "Epoch 606/1000\n",
            "6/6 [==============================] - 0s 25ms/step - loss: 1.3338 - val_loss: 20.8083\n",
            "Epoch 607/1000\n",
            "6/6 [==============================] - 0s 23ms/step - loss: 3.6807 - val_loss: 17.1731\n",
            "Epoch 608/1000\n",
            "6/6 [==============================] - 0s 19ms/step - loss: 8.7271 - val_loss: 14.0883\n",
            "Epoch 609/1000\n",
            "6/6 [==============================] - 0s 19ms/step - loss: 7.7235 - val_loss: 0.3851\n",
            "Epoch 610/1000\n",
            "6/6 [==============================] - 0s 21ms/step - loss: 5.9208 - val_loss: 7.7952\n",
            "Epoch 611/1000\n",
            "6/6 [==============================] - 0s 24ms/step - loss: 8.6210 - val_loss: 66.4852\n",
            "Epoch 612/1000\n",
            "6/6 [==============================] - 0s 21ms/step - loss: 25.9609 - val_loss: 43.9760\n",
            "Epoch 613/1000\n",
            "6/6 [==============================] - 0s 21ms/step - loss: 20.1512 - val_loss: 1.8032\n",
            "Epoch 614/1000\n",
            "6/6 [==============================] - 0s 23ms/step - loss: 5.8299 - val_loss: 54.9112\n",
            "Epoch 615/1000\n",
            "6/6 [==============================] - 0s 21ms/step - loss: 3.0611 - val_loss: 6.3696\n",
            "Epoch 616/1000\n",
            "6/6 [==============================] - 0s 23ms/step - loss: 5.7851 - val_loss: 2.0131\n",
            "Epoch 617/1000\n",
            "6/6 [==============================] - 0s 22ms/step - loss: 5.5758 - val_loss: 9.8835\n",
            "Epoch 618/1000\n",
            "6/6 [==============================] - 0s 23ms/step - loss: 6.3389 - val_loss: 32.5646\n",
            "Epoch 619/1000\n",
            "6/6 [==============================] - 0s 21ms/step - loss: 2.7095 - val_loss: 42.1902\n",
            "Epoch 620/1000\n",
            "6/6 [==============================] - 0s 20ms/step - loss: 4.7410 - val_loss: 14.7474\n",
            "Epoch 621/1000\n",
            "6/6 [==============================] - 0s 21ms/step - loss: 1.3815 - val_loss: 2.0070\n",
            "Epoch 622/1000\n",
            "6/6 [==============================] - 0s 21ms/step - loss: 2.1791 - val_loss: 8.3610\n",
            "Epoch 623/1000\n",
            "6/6 [==============================] - 0s 20ms/step - loss: 4.0423 - val_loss: 0.5913\n",
            "Epoch 624/1000\n",
            "6/6 [==============================] - 0s 20ms/step - loss: 2.1803 - val_loss: 1.6160\n",
            "Epoch 625/1000\n",
            "6/6 [==============================] - 0s 21ms/step - loss: 9.4580 - val_loss: 34.8084\n",
            "Epoch 626/1000\n",
            "6/6 [==============================] - 0s 24ms/step - loss: 6.0740 - val_loss: 74.2913\n",
            "Epoch 627/1000\n",
            "6/6 [==============================] - 0s 21ms/step - loss: 7.3050 - val_loss: 3.2914\n",
            "Epoch 628/1000\n",
            "6/6 [==============================] - 0s 22ms/step - loss: 6.2700 - val_loss: 6.2285\n",
            "Epoch 629/1000\n",
            "6/6 [==============================] - 0s 20ms/step - loss: 5.8076 - val_loss: 1.1318\n",
            "Epoch 630/1000\n",
            "6/6 [==============================] - 0s 25ms/step - loss: 5.7079 - val_loss: 104.7279\n",
            "Epoch 631/1000\n",
            "6/6 [==============================] - 0s 20ms/step - loss: 15.0315 - val_loss: 22.6912\n",
            "Epoch 632/1000\n",
            "6/6 [==============================] - 0s 19ms/step - loss: 8.7362 - val_loss: 48.0741\n",
            "Epoch 633/1000\n",
            "6/6 [==============================] - 0s 21ms/step - loss: 10.1237 - val_loss: 9.9545\n",
            "Epoch 634/1000\n",
            "6/6 [==============================] - 0s 19ms/step - loss: 3.4980 - val_loss: 12.5935\n",
            "Epoch 635/1000\n",
            "6/6 [==============================] - 0s 20ms/step - loss: 1.1755 - val_loss: 28.8055\n",
            "Epoch 636/1000\n",
            "6/6 [==============================] - 0s 20ms/step - loss: 1.3894 - val_loss: 5.5561\n",
            "Epoch 637/1000\n",
            "6/6 [==============================] - 0s 20ms/step - loss: 0.5357 - val_loss: 1.7677\n",
            "Epoch 638/1000\n",
            "6/6 [==============================] - 0s 22ms/step - loss: 0.2903 - val_loss: 1.3451\n",
            "Epoch 639/1000\n",
            "6/6 [==============================] - 0s 22ms/step - loss: 0.2047 - val_loss: 14.9245\n",
            "Epoch 640/1000\n",
            "6/6 [==============================] - 0s 19ms/step - loss: 0.4902 - val_loss: 2.1206\n",
            "Epoch 641/1000\n",
            "6/6 [==============================] - 0s 23ms/step - loss: 0.2827 - val_loss: 5.4635\n",
            "Epoch 642/1000\n",
            "6/6 [==============================] - 0s 21ms/step - loss: 0.1006 - val_loss: 2.0993\n",
            "Epoch 643/1000\n",
            "6/6 [==============================] - 0s 22ms/step - loss: 0.0840 - val_loss: 5.6991\n",
            "Epoch 644/1000\n",
            "6/6 [==============================] - 0s 26ms/step - loss: 0.1726 - val_loss: 4.3394\n",
            "Epoch 645/1000\n",
            "6/6 [==============================] - 0s 20ms/step - loss: 0.2400 - val_loss: 4.9991\n",
            "Epoch 646/1000\n",
            "6/6 [==============================] - 0s 22ms/step - loss: 0.2763 - val_loss: 0.6626\n",
            "Epoch 647/1000\n",
            "6/6 [==============================] - 0s 22ms/step - loss: 0.4220 - val_loss: 0.2775\n",
            "Epoch 648/1000\n",
            "6/6 [==============================] - 0s 22ms/step - loss: 1.0123 - val_loss: 11.2023\n",
            "Epoch 649/1000\n",
            "6/6 [==============================] - 0s 20ms/step - loss: 1.4529 - val_loss: 13.0005\n",
            "Epoch 650/1000\n",
            "6/6 [==============================] - 0s 20ms/step - loss: 1.6648 - val_loss: 5.0870\n",
            "Epoch 651/1000\n",
            "6/6 [==============================] - 0s 24ms/step - loss: 2.7967 - val_loss: 1.9965\n",
            "Epoch 652/1000\n",
            "6/6 [==============================] - 0s 21ms/step - loss: 2.1013 - val_loss: 10.0720\n",
            "Epoch 653/1000\n",
            "6/6 [==============================] - 0s 20ms/step - loss: 3.1698 - val_loss: 25.2878\n",
            "Epoch 654/1000\n",
            "6/6 [==============================] - 0s 19ms/step - loss: 1.9498 - val_loss: 14.2322\n",
            "Epoch 655/1000\n",
            "6/6 [==============================] - 0s 19ms/step - loss: 4.3485 - val_loss: 1.4771\n",
            "Epoch 656/1000\n",
            "6/6 [==============================] - 0s 22ms/step - loss: 4.5561 - val_loss: 14.2672\n",
            "Epoch 657/1000\n",
            "6/6 [==============================] - 0s 21ms/step - loss: 13.3248 - val_loss: 59.6711\n",
            "Epoch 658/1000\n",
            "6/6 [==============================] - 0s 20ms/step - loss: 20.2109 - val_loss: 3.1460\n",
            "Epoch 659/1000\n",
            "6/6 [==============================] - 0s 24ms/step - loss: 11.2977 - val_loss: 7.5625\n",
            "Epoch 660/1000\n",
            "6/6 [==============================] - 0s 21ms/step - loss: 4.9791 - val_loss: 33.6406\n",
            "Epoch 661/1000\n",
            "6/6 [==============================] - 0s 22ms/step - loss: 4.6546 - val_loss: 13.2016\n",
            "Epoch 662/1000\n",
            "6/6 [==============================] - 0s 22ms/step - loss: 2.6687 - val_loss: 0.7198\n",
            "Epoch 663/1000\n",
            "6/6 [==============================] - 0s 21ms/step - loss: 4.3184 - val_loss: 7.0469\n",
            "Epoch 664/1000\n",
            "6/6 [==============================] - 0s 26ms/step - loss: 2.5369 - val_loss: 34.1103\n",
            "Epoch 665/1000\n",
            "6/6 [==============================] - 0s 22ms/step - loss: 2.6365 - val_loss: 9.5187\n",
            "Epoch 666/1000\n",
            "6/6 [==============================] - 0s 21ms/step - loss: 4.2260 - val_loss: 3.2973\n",
            "Epoch 667/1000\n",
            "6/6 [==============================] - 0s 21ms/step - loss: 5.2973 - val_loss: 4.2439\n",
            "Epoch 668/1000\n",
            "6/6 [==============================] - 0s 22ms/step - loss: 11.7201 - val_loss: 77.4604\n",
            "Epoch 669/1000\n",
            "6/6 [==============================] - 0s 20ms/step - loss: 11.9436 - val_loss: 20.2932\n",
            "Epoch 670/1000\n",
            "6/6 [==============================] - 0s 22ms/step - loss: 6.1083 - val_loss: 43.0070\n",
            "Epoch 671/1000\n",
            "6/6 [==============================] - 0s 22ms/step - loss: 16.4856 - val_loss: 24.8552\n",
            "Epoch 672/1000\n",
            "6/6 [==============================] - 0s 21ms/step - loss: 9.9200 - val_loss: 0.5966\n",
            "Epoch 673/1000\n",
            "6/6 [==============================] - 0s 20ms/step - loss: 17.2638 - val_loss: 318.5523\n",
            "Epoch 674/1000\n",
            "6/6 [==============================] - 0s 23ms/step - loss: 36.0750 - val_loss: 7.4535\n",
            "Epoch 675/1000\n",
            "6/6 [==============================] - 0s 21ms/step - loss: 15.7155 - val_loss: 68.4296\n",
            "Epoch 676/1000\n",
            "6/6 [==============================] - 0s 21ms/step - loss: 22.8838 - val_loss: 5.7042\n",
            "Epoch 677/1000\n",
            "6/6 [==============================] - 0s 22ms/step - loss: 14.4781 - val_loss: 122.5754\n",
            "Epoch 678/1000\n",
            "6/6 [==============================] - 0s 24ms/step - loss: 17.3824 - val_loss: 2.5135\n",
            "Epoch 679/1000\n",
            "6/6 [==============================] - 0s 20ms/step - loss: 11.5555 - val_loss: 85.7457\n",
            "Epoch 680/1000\n",
            "6/6 [==============================] - 0s 22ms/step - loss: 19.6915 - val_loss: 43.0367\n",
            "Epoch 681/1000\n",
            "6/6 [==============================] - 0s 23ms/step - loss: 9.1881 - val_loss: 49.1955\n",
            "Epoch 682/1000\n",
            "6/6 [==============================] - 0s 21ms/step - loss: 5.9816 - val_loss: 17.0253\n",
            "Epoch 683/1000\n",
            "6/6 [==============================] - 0s 20ms/step - loss: 5.1509 - val_loss: 23.1038\n",
            "Epoch 684/1000\n",
            "6/6 [==============================] - 0s 20ms/step - loss: 2.3787 - val_loss: 2.5720\n",
            "Epoch 685/1000\n",
            "6/6 [==============================] - 0s 20ms/step - loss: 0.2921 - val_loss: 1.5797\n",
            "Epoch 686/1000\n",
            "6/6 [==============================] - 0s 21ms/step - loss: 0.2415 - val_loss: 9.2147\n",
            "Epoch 687/1000\n",
            "6/6 [==============================] - 0s 20ms/step - loss: 0.3275 - val_loss: 2.6017\n",
            "Epoch 688/1000\n",
            "6/6 [==============================] - 0s 20ms/step - loss: 0.1904 - val_loss: 11.2602\n",
            "Epoch 689/1000\n",
            "6/6 [==============================] - 0s 21ms/step - loss: 0.2867 - val_loss: 1.3128\n",
            "Epoch 690/1000\n",
            "6/6 [==============================] - 0s 20ms/step - loss: 0.4719 - val_loss: 0.3842\n",
            "Epoch 691/1000\n",
            "6/6 [==============================] - 0s 20ms/step - loss: 0.6341 - val_loss: 7.2934\n",
            "Epoch 692/1000\n",
            "6/6 [==============================] - 0s 21ms/step - loss: 0.5463 - val_loss: 7.1785\n",
            "Epoch 693/1000\n",
            "6/6 [==============================] - 0s 20ms/step - loss: 0.3462 - val_loss: 0.5355\n",
            "Epoch 694/1000\n",
            "6/6 [==============================] - 0s 24ms/step - loss: 0.3441 - val_loss: 0.6066\n",
            "Epoch 695/1000\n",
            "6/6 [==============================] - 0s 21ms/step - loss: 0.1810 - val_loss: 1.5886\n",
            "Epoch 696/1000\n",
            "6/6 [==============================] - 0s 22ms/step - loss: 0.0850 - val_loss: 4.6140\n",
            "Epoch 697/1000\n",
            "6/6 [==============================] - 0s 20ms/step - loss: 0.1498 - val_loss: 3.5752\n",
            "Epoch 698/1000\n",
            "6/6 [==============================] - 0s 18ms/step - loss: 0.0685 - val_loss: 2.6926\n",
            "Epoch 699/1000\n",
            "6/6 [==============================] - 0s 21ms/step - loss: 0.0413 - val_loss: 2.1620\n",
            "Epoch 700/1000\n",
            "6/6 [==============================] - 0s 21ms/step - loss: 0.0494 - val_loss: 1.1630\n",
            "Epoch 701/1000\n",
            "6/6 [==============================] - 0s 20ms/step - loss: 0.0272 - val_loss: 2.6839\n",
            "Epoch 702/1000\n",
            "6/6 [==============================] - 0s 22ms/step - loss: 0.0715 - val_loss: 2.2965\n",
            "Epoch 703/1000\n",
            "6/6 [==============================] - 0s 21ms/step - loss: 0.0619 - val_loss: 1.5384\n",
            "Epoch 704/1000\n",
            "6/6 [==============================] - 0s 22ms/step - loss: 0.0818 - val_loss: 0.8188\n",
            "Epoch 705/1000\n",
            "6/6 [==============================] - 0s 20ms/step - loss: 0.0572 - val_loss: 0.8355\n",
            "Epoch 706/1000\n",
            "6/6 [==============================] - 0s 22ms/step - loss: 0.1078 - val_loss: 3.2041\n",
            "Epoch 707/1000\n",
            "6/6 [==============================] - 0s 21ms/step - loss: 0.1419 - val_loss: 3.0761\n",
            "Epoch 708/1000\n",
            "6/6 [==============================] - 0s 20ms/step - loss: 0.1353 - val_loss: 0.5445\n",
            "Epoch 709/1000\n",
            "6/6 [==============================] - 0s 21ms/step - loss: 0.0930 - val_loss: 0.8313\n",
            "Epoch 710/1000\n",
            "6/6 [==============================] - 0s 20ms/step - loss: 0.1048 - val_loss: 0.7143\n",
            "Epoch 711/1000\n",
            "6/6 [==============================] - 0s 21ms/step - loss: 0.2783 - val_loss: 3.0148\n",
            "Epoch 712/1000\n",
            "6/6 [==============================] - 0s 20ms/step - loss: 0.1739 - val_loss: 2.2282\n",
            "Epoch 713/1000\n",
            "6/6 [==============================] - 0s 20ms/step - loss: 0.0796 - val_loss: 1.3089\n",
            "Epoch 714/1000\n",
            "6/6 [==============================] - 0s 22ms/step - loss: 0.1135 - val_loss: 0.2032\n",
            "Epoch 715/1000\n",
            "6/6 [==============================] - 0s 21ms/step - loss: 0.3254 - val_loss: 1.8774\n",
            "Epoch 716/1000\n",
            "6/6 [==============================] - 0s 20ms/step - loss: 0.0724 - val_loss: 3.5643\n",
            "Epoch 717/1000\n",
            "6/6 [==============================] - 0s 24ms/step - loss: 0.1705 - val_loss: 1.3592\n",
            "Epoch 718/1000\n",
            "6/6 [==============================] - 0s 21ms/step - loss: 0.0314 - val_loss: 0.5270\n",
            "Epoch 719/1000\n",
            "6/6 [==============================] - 0s 21ms/step - loss: 0.1219 - val_loss: 0.4570\n",
            "Epoch 720/1000\n",
            "6/6 [==============================] - 0s 22ms/step - loss: 0.1683 - val_loss: 1.1519\n",
            "Epoch 721/1000\n",
            "6/6 [==============================] - 0s 22ms/step - loss: 0.0482 - val_loss: 1.2800\n",
            "Epoch 722/1000\n",
            "6/6 [==============================] - 0s 20ms/step - loss: 0.0250 - val_loss: 1.1083\n",
            "Epoch 723/1000\n",
            "6/6 [==============================] - 0s 23ms/step - loss: 0.0150 - val_loss: 0.3964\n",
            "Epoch 724/1000\n",
            "6/6 [==============================] - 0s 23ms/step - loss: 0.0731 - val_loss: 1.4291\n",
            "Epoch 725/1000\n",
            "6/6 [==============================] - 0s 21ms/step - loss: 0.0890 - val_loss: 2.2810\n",
            "Epoch 726/1000\n",
            "6/6 [==============================] - 0s 22ms/step - loss: 0.0695 - val_loss: 0.3158\n",
            "Epoch 727/1000\n",
            "6/6 [==============================] - 0s 20ms/step - loss: 0.0925 - val_loss: 0.4289\n",
            "Epoch 728/1000\n",
            "6/6 [==============================] - 0s 23ms/step - loss: 0.0675 - val_loss: 1.3216\n",
            "Epoch 729/1000\n",
            "6/6 [==============================] - 0s 21ms/step - loss: 0.0133 - val_loss: 1.1203\n",
            "Epoch 730/1000\n",
            "6/6 [==============================] - 0s 23ms/step - loss: 0.0110 - val_loss: 0.7526\n",
            "Epoch 731/1000\n",
            "6/6 [==============================] - 0s 20ms/step - loss: 0.0160 - val_loss: 0.7483\n",
            "Epoch 732/1000\n",
            "6/6 [==============================] - 0s 22ms/step - loss: 0.0200 - val_loss: 0.5605\n",
            "Epoch 733/1000\n",
            "6/6 [==============================] - 0s 21ms/step - loss: 0.0648 - val_loss: 0.2410\n",
            "Epoch 734/1000\n",
            "6/6 [==============================] - 0s 21ms/step - loss: 0.2739 - val_loss: 4.8940\n",
            "Epoch 735/1000\n",
            "6/6 [==============================] - 0s 21ms/step - loss: 0.2756 - val_loss: 1.6485\n",
            "Epoch 736/1000\n",
            "6/6 [==============================] - 0s 22ms/step - loss: 0.1758 - val_loss: 0.2593\n",
            "Epoch 737/1000\n",
            "6/6 [==============================] - 0s 41ms/step - loss: 0.3918 - val_loss: 0.4334\n",
            "Epoch 738/1000\n",
            "6/6 [==============================] - 0s 39ms/step - loss: 0.1439 - val_loss: 6.4043\n",
            "Epoch 739/1000\n",
            "6/6 [==============================] - 0s 21ms/step - loss: 1.0998 - val_loss: 5.1488\n",
            "Epoch 740/1000\n",
            "6/6 [==============================] - 0s 19ms/step - loss: 3.2919 - val_loss: 4.5303\n",
            "Epoch 741/1000\n",
            "6/6 [==============================] - 0s 22ms/step - loss: 3.1629 - val_loss: 20.6210\n",
            "Epoch 742/1000\n",
            "6/6 [==============================] - 0s 21ms/step - loss: 6.5364 - val_loss: 1.9635\n",
            "Epoch 743/1000\n",
            "6/6 [==============================] - 0s 21ms/step - loss: 6.6869 - val_loss: 15.3053\n",
            "Epoch 744/1000\n",
            "6/6 [==============================] - 0s 21ms/step - loss: 3.2116 - val_loss: 13.3146\n",
            "Epoch 745/1000\n",
            "6/6 [==============================] - 0s 23ms/step - loss: 3.0661 - val_loss: 0.6387\n",
            "Epoch 746/1000\n",
            "6/6 [==============================] - 0s 22ms/step - loss: 1.1981 - val_loss: 0.4894\n",
            "Epoch 747/1000\n",
            "6/6 [==============================] - 0s 20ms/step - loss: 2.8542 - val_loss: 18.0822\n",
            "Epoch 748/1000\n",
            "6/6 [==============================] - 0s 24ms/step - loss: 0.5298 - val_loss: 1.8123\n",
            "Epoch 749/1000\n",
            "6/6 [==============================] - 0s 23ms/step - loss: 0.6415 - val_loss: 0.3805\n",
            "Epoch 750/1000\n",
            "6/6 [==============================] - 0s 19ms/step - loss: 0.2763 - val_loss: 4.7648\n",
            "Epoch 751/1000\n",
            "6/6 [==============================] - 0s 22ms/step - loss: 0.3313 - val_loss: 8.4961\n",
            "Epoch 752/1000\n",
            "6/6 [==============================] - 0s 21ms/step - loss: 0.2557 - val_loss: 0.9986\n",
            "Epoch 753/1000\n",
            "6/6 [==============================] - 0s 23ms/step - loss: 0.4546 - val_loss: 0.2918\n",
            "Epoch 754/1000\n",
            "6/6 [==============================] - 0s 21ms/step - loss: 0.6991 - val_loss: 15.8601\n",
            "Epoch 755/1000\n",
            "6/6 [==============================] - 0s 20ms/step - loss: 1.0047 - val_loss: 13.9258\n",
            "Epoch 756/1000\n",
            "6/6 [==============================] - 0s 20ms/step - loss: 1.1882 - val_loss: 2.8456\n",
            "Epoch 757/1000\n",
            "6/6 [==============================] - 0s 24ms/step - loss: 0.1436 - val_loss: 1.9550\n",
            "Epoch 758/1000\n",
            "6/6 [==============================] - 0s 20ms/step - loss: 0.0707 - val_loss: 1.2059\n",
            "Epoch 759/1000\n",
            "6/6 [==============================] - 0s 54ms/step - loss: 0.0828 - val_loss: 3.7431\n",
            "Epoch 760/1000\n",
            "6/6 [==============================] - 0s 35ms/step - loss: 0.1213 - val_loss: 6.0447\n",
            "Epoch 761/1000\n",
            "6/6 [==============================] - 0s 21ms/step - loss: 0.2311 - val_loss: 0.3321\n",
            "Epoch 762/1000\n",
            "6/6 [==============================] - 0s 22ms/step - loss: 0.1221 - val_loss: 2.5235\n",
            "Epoch 763/1000\n",
            "6/6 [==============================] - 0s 20ms/step - loss: 0.0423 - val_loss: 3.7771\n",
            "Epoch 764/1000\n",
            "6/6 [==============================] - 0s 22ms/step - loss: 0.0657 - val_loss: 0.4393\n",
            "Epoch 765/1000\n",
            "6/6 [==============================] - 0s 25ms/step - loss: 0.3313 - val_loss: 1.1874\n",
            "Epoch 766/1000\n",
            "6/6 [==============================] - 0s 28ms/step - loss: 0.2801 - val_loss: 6.3026\n",
            "Epoch 767/1000\n",
            "6/6 [==============================] - 0s 21ms/step - loss: 0.1812 - val_loss: 3.2711\n",
            "Epoch 768/1000\n",
            "6/6 [==============================] - 0s 20ms/step - loss: 0.2430 - val_loss: 1.2588\n",
            "Epoch 769/1000\n",
            "6/6 [==============================] - 0s 20ms/step - loss: 0.1258 - val_loss: 0.2448\n",
            "Epoch 770/1000\n",
            "6/6 [==============================] - 0s 21ms/step - loss: 0.2137 - val_loss: 1.1324\n",
            "Epoch 771/1000\n",
            "6/6 [==============================] - 0s 22ms/step - loss: 0.1225 - val_loss: 3.9661\n",
            "Epoch 772/1000\n",
            "6/6 [==============================] - 0s 21ms/step - loss: 0.0498 - val_loss: 1.8609\n",
            "Epoch 773/1000\n",
            "6/6 [==============================] - 0s 23ms/step - loss: 0.0588 - val_loss: 1.5217\n",
            "Epoch 774/1000\n",
            "6/6 [==============================] - 0s 22ms/step - loss: 0.0220 - val_loss: 2.0418\n",
            "Epoch 775/1000\n",
            "6/6 [==============================] - 0s 22ms/step - loss: 0.0226 - val_loss: 1.0742\n",
            "Epoch 776/1000\n",
            "6/6 [==============================] - 0s 22ms/step - loss: 0.0322 - val_loss: 0.6915\n",
            "Epoch 777/1000\n",
            "6/6 [==============================] - 0s 22ms/step - loss: 0.0385 - val_loss: 1.6911\n",
            "Epoch 778/1000\n",
            "6/6 [==============================] - 0s 27ms/step - loss: 0.0572 - val_loss: 1.1770\n",
            "Epoch 779/1000\n",
            "6/6 [==============================] - 0s 23ms/step - loss: 0.0465 - val_loss: 2.3978\n",
            "Epoch 780/1000\n",
            "6/6 [==============================] - 0s 26ms/step - loss: 0.0720 - val_loss: 1.7081\n",
            "Epoch 781/1000\n",
            "6/6 [==============================] - 0s 21ms/step - loss: 0.1312 - val_loss: 1.8225\n",
            "Epoch 782/1000\n",
            "6/6 [==============================] - 0s 22ms/step - loss: 0.3317 - val_loss: 0.2296\n",
            "Epoch 783/1000\n",
            "6/6 [==============================] - 0s 20ms/step - loss: 0.2481 - val_loss: 0.1817\n",
            "Epoch 784/1000\n",
            "6/6 [==============================] - 0s 19ms/step - loss: 0.2914 - val_loss: 0.1647\n",
            "Epoch 785/1000\n",
            "6/6 [==============================] - 0s 21ms/step - loss: 0.3766 - val_loss: 3.0123\n",
            "Epoch 786/1000\n",
            "6/6 [==============================] - 0s 22ms/step - loss: 0.8843 - val_loss: 2.2327\n",
            "Epoch 787/1000\n",
            "6/6 [==============================] - 0s 21ms/step - loss: 0.7178 - val_loss: 0.8459\n",
            "Epoch 788/1000\n",
            "6/6 [==============================] - 0s 22ms/step - loss: 0.3659 - val_loss: 0.5646\n",
            "Epoch 789/1000\n",
            "6/6 [==============================] - 0s 23ms/step - loss: 0.1986 - val_loss: 0.4709\n",
            "Epoch 790/1000\n",
            "6/6 [==============================] - 0s 20ms/step - loss: 0.3298 - val_loss: 8.0808\n",
            "Epoch 791/1000\n",
            "6/6 [==============================] - 0s 24ms/step - loss: 1.3569 - val_loss: 0.9924\n",
            "Epoch 792/1000\n",
            "6/6 [==============================] - 0s 24ms/step - loss: 0.6700 - val_loss: 1.1943\n",
            "Epoch 793/1000\n",
            "6/6 [==============================] - 0s 22ms/step - loss: 0.5669 - val_loss: 0.2021\n",
            "Epoch 794/1000\n",
            "6/6 [==============================] - 0s 42ms/step - loss: 0.3897 - val_loss: 0.1950\n",
            "Epoch 795/1000\n",
            "6/6 [==============================] - 0s 21ms/step - loss: 0.7234 - val_loss: 4.6535\n",
            "Epoch 796/1000\n",
            "6/6 [==============================] - 0s 22ms/step - loss: 0.3173 - val_loss: 1.8489\n",
            "Epoch 797/1000\n",
            "6/6 [==============================] - 0s 19ms/step - loss: 0.1694 - val_loss: 0.1710\n",
            "Epoch 798/1000\n",
            "6/6 [==============================] - 0s 25ms/step - loss: 0.1719 - val_loss: 0.2483\n",
            "Epoch 799/1000\n",
            "6/6 [==============================] - 0s 21ms/step - loss: 0.0857 - val_loss: 0.6119\n",
            "Epoch 800/1000\n",
            "6/6 [==============================] - 0s 19ms/step - loss: 0.0246 - val_loss: 1.3060\n",
            "Epoch 801/1000\n",
            "6/6 [==============================] - 0s 22ms/step - loss: 0.0148 - val_loss: 1.0362\n",
            "Epoch 802/1000\n",
            "6/6 [==============================] - 0s 22ms/step - loss: 0.0172 - val_loss: 0.4544\n",
            "Epoch 803/1000\n",
            "6/6 [==============================] - 0s 20ms/step - loss: 0.0361 - val_loss: 0.5350\n",
            "Epoch 804/1000\n",
            "6/6 [==============================] - 0s 20ms/step - loss: 0.0347 - val_loss: 0.5548\n",
            "Epoch 805/1000\n",
            "6/6 [==============================] - 0s 20ms/step - loss: 0.0474 - val_loss: 1.1189\n",
            "Epoch 806/1000\n",
            "6/6 [==============================] - 0s 19ms/step - loss: 0.0278 - val_loss: 2.0179\n",
            "Epoch 807/1000\n",
            "6/6 [==============================] - 0s 21ms/step - loss: 0.0374 - val_loss: 1.3861\n",
            "Epoch 808/1000\n",
            "6/6 [==============================] - 0s 21ms/step - loss: 0.0143 - val_loss: 0.4069\n",
            "Epoch 809/1000\n",
            "6/6 [==============================] - 0s 22ms/step - loss: 0.0822 - val_loss: 0.1534\n",
            "Epoch 810/1000\n",
            "6/6 [==============================] - 0s 19ms/step - loss: 0.3177 - val_loss: 1.0948\n",
            "Epoch 811/1000\n",
            "6/6 [==============================] - 0s 20ms/step - loss: 0.1790 - val_loss: 2.9788\n",
            "Epoch 812/1000\n",
            "6/6 [==============================] - 0s 20ms/step - loss: 0.1205 - val_loss: 2.7818\n",
            "Epoch 813/1000\n",
            "6/6 [==============================] - 0s 21ms/step - loss: 0.1530 - val_loss: 0.3279\n",
            "Epoch 814/1000\n",
            "6/6 [==============================] - 0s 23ms/step - loss: 0.1100 - val_loss: 0.2316\n",
            "Epoch 815/1000\n",
            "6/6 [==============================] - 0s 20ms/step - loss: 0.1659 - val_loss: 0.7481\n",
            "Epoch 816/1000\n",
            "6/6 [==============================] - 0s 22ms/step - loss: 0.1344 - val_loss: 1.4071\n",
            "Epoch 817/1000\n",
            "6/6 [==============================] - 0s 22ms/step - loss: 0.0770 - val_loss: 2.2538\n",
            "Epoch 818/1000\n",
            "6/6 [==============================] - 0s 22ms/step - loss: 0.1823 - val_loss: 2.3585\n",
            "Epoch 819/1000\n",
            "6/6 [==============================] - 0s 21ms/step - loss: 0.2455 - val_loss: 0.7693\n",
            "Epoch 820/1000\n",
            "6/6 [==============================] - 0s 22ms/step - loss: 0.1724 - val_loss: 0.2815\n",
            "Epoch 821/1000\n",
            "6/6 [==============================] - 0s 22ms/step - loss: 0.0463 - val_loss: 0.3710\n",
            "Epoch 822/1000\n",
            "6/6 [==============================] - 0s 20ms/step - loss: 0.0230 - val_loss: 0.5237\n",
            "Epoch 823/1000\n",
            "6/6 [==============================] - 0s 23ms/step - loss: 0.0212 - val_loss: 0.7734\n",
            "Epoch 824/1000\n",
            "6/6 [==============================] - 0s 22ms/step - loss: 0.0243 - val_loss: 0.4099\n",
            "Epoch 825/1000\n",
            "6/6 [==============================] - 0s 24ms/step - loss: 0.0241 - val_loss: 0.2051\n",
            "Epoch 826/1000\n",
            "6/6 [==============================] - 0s 25ms/step - loss: 0.0415 - val_loss: 0.3251\n",
            "Epoch 827/1000\n",
            "6/6 [==============================] - 0s 22ms/step - loss: 0.0210 - val_loss: 0.5639\n",
            "Epoch 828/1000\n",
            "6/6 [==============================] - 0s 20ms/step - loss: 0.0119 - val_loss: 0.6252\n",
            "Epoch 829/1000\n",
            "6/6 [==============================] - 0s 21ms/step - loss: 0.0490 - val_loss: 0.9438\n",
            "Epoch 830/1000\n",
            "6/6 [==============================] - 0s 22ms/step - loss: 0.0307 - val_loss: 0.6644\n",
            "Epoch 831/1000\n",
            "6/6 [==============================] - 0s 21ms/step - loss: 0.0375 - val_loss: 0.9508\n",
            "Epoch 832/1000\n",
            "6/6 [==============================] - 0s 20ms/step - loss: 0.0378 - val_loss: 0.4989\n",
            "Epoch 833/1000\n",
            "6/6 [==============================] - 0s 24ms/step - loss: 0.0071 - val_loss: 0.7532\n",
            "Epoch 834/1000\n",
            "6/6 [==============================] - 0s 20ms/step - loss: 0.0114 - val_loss: 0.6638\n",
            "Epoch 835/1000\n",
            "6/6 [==============================] - 0s 19ms/step - loss: 0.0184 - val_loss: 0.6480\n",
            "Epoch 836/1000\n",
            "6/6 [==============================] - 0s 22ms/step - loss: 0.0221 - val_loss: 0.2693\n",
            "Epoch 837/1000\n",
            "6/6 [==============================] - 0s 21ms/step - loss: 0.0178 - val_loss: 0.3774\n",
            "Epoch 838/1000\n",
            "6/6 [==============================] - 0s 20ms/step - loss: 0.0105 - val_loss: 0.6465\n",
            "Epoch 839/1000\n",
            "6/6 [==============================] - 0s 22ms/step - loss: 0.0260 - val_loss: 0.2420\n",
            "Epoch 840/1000\n",
            "6/6 [==============================] - 0s 19ms/step - loss: 0.0353 - val_loss: 0.2800\n",
            "Epoch 841/1000\n",
            "6/6 [==============================] - 0s 19ms/step - loss: 0.1888 - val_loss: 0.2955\n",
            "Epoch 842/1000\n",
            "6/6 [==============================] - 0s 25ms/step - loss: 0.1205 - val_loss: 0.1842\n",
            "Epoch 843/1000\n",
            "6/6 [==============================] - 0s 21ms/step - loss: 0.2357 - val_loss: 0.6362\n",
            "Epoch 844/1000\n",
            "6/6 [==============================] - 0s 21ms/step - loss: 0.1029 - val_loss: 0.4256\n",
            "Epoch 845/1000\n",
            "6/6 [==============================] - 0s 22ms/step - loss: 0.3342 - val_loss: 8.5778\n",
            "Epoch 846/1000\n",
            "6/6 [==============================] - 0s 22ms/step - loss: 1.0965 - val_loss: 1.4702\n",
            "Epoch 847/1000\n",
            "6/6 [==============================] - 0s 23ms/step - loss: 0.1962 - val_loss: 1.2263\n",
            "Epoch 848/1000\n",
            "6/6 [==============================] - 0s 20ms/step - loss: 0.2561 - val_loss: 0.1106\n",
            "Epoch 849/1000\n",
            "6/6 [==============================] - 0s 22ms/step - loss: 0.0831 - val_loss: 0.2478\n",
            "Epoch 850/1000\n",
            "6/6 [==============================] - 0s 21ms/step - loss: 0.0542 - val_loss: 0.2388\n",
            "Epoch 851/1000\n",
            "6/6 [==============================] - 0s 22ms/step - loss: 0.0338 - val_loss: 0.1429\n",
            "Epoch 852/1000\n",
            "6/6 [==============================] - 0s 22ms/step - loss: 0.1069 - val_loss: 0.1773\n",
            "Epoch 853/1000\n",
            "6/6 [==============================] - 0s 23ms/step - loss: 0.0671 - val_loss: 1.0095\n",
            "Epoch 854/1000\n",
            "6/6 [==============================] - 0s 23ms/step - loss: 0.0217 - val_loss: 0.5178\n",
            "Epoch 855/1000\n",
            "6/6 [==============================] - 0s 21ms/step - loss: 0.0427 - val_loss: 2.2083\n",
            "Epoch 856/1000\n",
            "6/6 [==============================] - 0s 20ms/step - loss: 0.1291 - val_loss: 2.5195\n",
            "Epoch 857/1000\n",
            "6/6 [==============================] - 0s 21ms/step - loss: 0.1406 - val_loss: 2.5014\n",
            "Epoch 858/1000\n",
            "6/6 [==============================] - 0s 22ms/step - loss: 0.1308 - val_loss: 2.3865\n",
            "Epoch 859/1000\n",
            "6/6 [==============================] - 0s 26ms/step - loss: 0.1194 - val_loss: 2.0080\n",
            "Epoch 860/1000\n",
            "6/6 [==============================] - 0s 21ms/step - loss: 0.2375 - val_loss: 2.6822\n",
            "Epoch 861/1000\n",
            "6/6 [==============================] - 0s 25ms/step - loss: 0.4958 - val_loss: 1.6954\n",
            "Epoch 862/1000\n",
            "6/6 [==============================] - 0s 22ms/step - loss: 0.2366 - val_loss: 0.9636\n",
            "Epoch 863/1000\n",
            "6/6 [==============================] - 0s 23ms/step - loss: 0.1320 - val_loss: 0.9701\n",
            "Epoch 864/1000\n",
            "6/6 [==============================] - 0s 22ms/step - loss: 0.0163 - val_loss: 0.4080\n",
            "Epoch 865/1000\n",
            "6/6 [==============================] - 0s 23ms/step - loss: 0.0152 - val_loss: 0.6496\n",
            "Epoch 866/1000\n",
            "6/6 [==============================] - 0s 23ms/step - loss: 0.0293 - val_loss: 0.5128\n",
            "Epoch 867/1000\n",
            "6/6 [==============================] - 0s 21ms/step - loss: 0.0055 - val_loss: 0.2176\n",
            "Epoch 868/1000\n",
            "6/6 [==============================] - 0s 22ms/step - loss: 0.0259 - val_loss: 0.1934\n",
            "Epoch 869/1000\n",
            "6/6 [==============================] - 0s 20ms/step - loss: 0.0421 - val_loss: 0.4257\n",
            "Epoch 870/1000\n",
            "6/6 [==============================] - 0s 22ms/step - loss: 0.0327 - val_loss: 0.9448\n",
            "Epoch 871/1000\n",
            "6/6 [==============================] - 0s 21ms/step - loss: 0.0098 - val_loss: 1.1759\n",
            "Epoch 872/1000\n",
            "6/6 [==============================] - 0s 22ms/step - loss: 0.0301 - val_loss: 1.5951\n",
            "Epoch 873/1000\n",
            "6/6 [==============================] - 0s 22ms/step - loss: 0.0774 - val_loss: 1.6667\n",
            "Epoch 874/1000\n",
            "6/6 [==============================] - 0s 21ms/step - loss: 0.1080 - val_loss: 2.2162\n",
            "Epoch 875/1000\n",
            "6/6 [==============================] - 0s 22ms/step - loss: 0.1386 - val_loss: 2.1622\n",
            "Epoch 876/1000\n",
            "6/6 [==============================] - 0s 25ms/step - loss: 0.0981 - val_loss: 0.4927\n",
            "Epoch 877/1000\n",
            "6/6 [==============================] - 0s 21ms/step - loss: 0.0146 - val_loss: 0.9171\n",
            "Epoch 878/1000\n",
            "6/6 [==============================] - 0s 25ms/step - loss: 0.0448 - val_loss: 0.6320\n",
            "Epoch 879/1000\n",
            "6/6 [==============================] - 0s 19ms/step - loss: 0.0138 - val_loss: 0.5614\n",
            "Epoch 880/1000\n",
            "6/6 [==============================] - 0s 23ms/step - loss: 0.0074 - val_loss: 0.8260\n",
            "Epoch 881/1000\n",
            "6/6 [==============================] - 0s 24ms/step - loss: 0.0077 - val_loss: 0.9006\n",
            "Epoch 882/1000\n",
            "6/6 [==============================] - 0s 23ms/step - loss: 0.0161 - val_loss: 1.0314\n",
            "Epoch 883/1000\n",
            "6/6 [==============================] - 0s 24ms/step - loss: 0.0211 - val_loss: 0.6948\n",
            "Epoch 884/1000\n",
            "6/6 [==============================] - 0s 20ms/step - loss: 0.0185 - val_loss: 1.2229\n",
            "Epoch 885/1000\n",
            "6/6 [==============================] - 0s 22ms/step - loss: 0.0366 - val_loss: 0.8658\n",
            "Epoch 886/1000\n",
            "6/6 [==============================] - 0s 21ms/step - loss: 0.0186 - val_loss: 0.5280\n",
            "Epoch 887/1000\n",
            "6/6 [==============================] - 0s 27ms/step - loss: 0.0104 - val_loss: 0.4952\n",
            "Epoch 888/1000\n",
            "6/6 [==============================] - 0s 21ms/step - loss: 0.0072 - val_loss: 0.5457\n",
            "Epoch 889/1000\n",
            "6/6 [==============================] - 0s 20ms/step - loss: 0.0158 - val_loss: 0.5295\n",
            "Epoch 890/1000\n",
            "6/6 [==============================] - 0s 23ms/step - loss: 0.0059 - val_loss: 0.5407\n",
            "Epoch 891/1000\n",
            "6/6 [==============================] - 0s 23ms/step - loss: 0.0092 - val_loss: 0.2624\n",
            "Epoch 892/1000\n",
            "6/6 [==============================] - 0s 20ms/step - loss: 0.0259 - val_loss: 0.1165\n",
            "Epoch 893/1000\n",
            "6/6 [==============================] - 0s 19ms/step - loss: 0.0659 - val_loss: 0.1354\n",
            "Epoch 894/1000\n",
            "6/6 [==============================] - 0s 21ms/step - loss: 0.0618 - val_loss: 0.7857\n",
            "Epoch 895/1000\n",
            "6/6 [==============================] - 0s 21ms/step - loss: 0.0101 - val_loss: 0.7942\n",
            "Epoch 896/1000\n",
            "6/6 [==============================] - 0s 22ms/step - loss: 0.0178 - val_loss: 1.4642\n",
            "Epoch 897/1000\n",
            "6/6 [==============================] - 0s 22ms/step - loss: 0.0566 - val_loss: 2.2931\n",
            "Epoch 898/1000\n",
            "6/6 [==============================] - 0s 21ms/step - loss: 0.1949 - val_loss: 2.5718\n",
            "Epoch 899/1000\n",
            "6/6 [==============================] - 0s 22ms/step - loss: 0.1990 - val_loss: 1.5604\n",
            "Epoch 900/1000\n",
            "6/6 [==============================] - 0s 21ms/step - loss: 0.1137 - val_loss: 0.8625\n",
            "Epoch 901/1000\n",
            "6/6 [==============================] - 0s 24ms/step - loss: 0.1018 - val_loss: 1.1773\n",
            "Epoch 902/1000\n",
            "6/6 [==============================] - 0s 24ms/step - loss: 0.0512 - val_loss: 2.4002\n",
            "Epoch 903/1000\n",
            "6/6 [==============================] - 0s 22ms/step - loss: 0.0791 - val_loss: 1.8377\n",
            "Epoch 904/1000\n",
            "6/6 [==============================] - 0s 23ms/step - loss: 0.1027 - val_loss: 1.8334\n",
            "Epoch 905/1000\n",
            "6/6 [==============================] - 0s 20ms/step - loss: 0.0598 - val_loss: 0.5670\n",
            "Epoch 906/1000\n",
            "6/6 [==============================] - 0s 20ms/step - loss: 0.0133 - val_loss: 0.9649\n",
            "Epoch 907/1000\n",
            "6/6 [==============================] - 0s 22ms/step - loss: 0.0554 - val_loss: 0.8254\n",
            "Epoch 908/1000\n",
            "6/6 [==============================] - 0s 23ms/step - loss: 0.0254 - val_loss: 1.0149\n",
            "Epoch 909/1000\n",
            "6/6 [==============================] - 0s 22ms/step - loss: 0.0261 - val_loss: 0.6458\n",
            "Epoch 910/1000\n",
            "6/6 [==============================] - 0s 21ms/step - loss: 0.0166 - val_loss: 1.0070\n",
            "Epoch 911/1000\n",
            "6/6 [==============================] - 0s 22ms/step - loss: 0.0642 - val_loss: 2.4196\n",
            "Epoch 912/1000\n",
            "6/6 [==============================] - 0s 24ms/step - loss: 0.2380 - val_loss: 6.2722\n",
            "Epoch 913/1000\n",
            "6/6 [==============================] - 0s 21ms/step - loss: 0.4064 - val_loss: 1.0769\n",
            "Epoch 914/1000\n",
            "6/6 [==============================] - 0s 21ms/step - loss: 0.0155 - val_loss: 0.8650\n",
            "Epoch 915/1000\n",
            "6/6 [==============================] - 0s 22ms/step - loss: 0.0206 - val_loss: 0.1474\n",
            "Epoch 916/1000\n",
            "6/6 [==============================] - 0s 21ms/step - loss: 0.1934 - val_loss: 0.6635\n",
            "Epoch 917/1000\n",
            "6/6 [==============================] - 0s 21ms/step - loss: 0.3004 - val_loss: 4.6765\n",
            "Epoch 918/1000\n",
            "6/6 [==============================] - 0s 20ms/step - loss: 1.1663 - val_loss: 9.5878\n",
            "Epoch 919/1000\n",
            "6/6 [==============================] - 0s 24ms/step - loss: 1.3992 - val_loss: 0.1769\n",
            "Epoch 920/1000\n",
            "6/6 [==============================] - 0s 21ms/step - loss: 0.2240 - val_loss: 0.2785\n",
            "Epoch 921/1000\n",
            "6/6 [==============================] - 0s 25ms/step - loss: 0.0888 - val_loss: 0.2058\n",
            "Epoch 922/1000\n",
            "6/6 [==============================] - 0s 23ms/step - loss: 0.4634 - val_loss: 1.0882\n",
            "Epoch 923/1000\n",
            "6/6 [==============================] - 0s 24ms/step - loss: 0.3747 - val_loss: 4.0690\n",
            "Epoch 924/1000\n",
            "6/6 [==============================] - 0s 21ms/step - loss: 0.3225 - val_loss: 1.1674\n",
            "Epoch 925/1000\n",
            "6/6 [==============================] - 0s 22ms/step - loss: 0.5452 - val_loss: 4.4189\n",
            "Epoch 926/1000\n",
            "6/6 [==============================] - 0s 23ms/step - loss: 0.4194 - val_loss: 3.7639\n",
            "Epoch 927/1000\n",
            "6/6 [==============================] - 0s 20ms/step - loss: 0.3738 - val_loss: 2.6453\n",
            "Epoch 928/1000\n",
            "6/6 [==============================] - 0s 23ms/step - loss: 0.1482 - val_loss: 1.7927\n",
            "Epoch 929/1000\n",
            "6/6 [==============================] - 0s 20ms/step - loss: 0.1285 - val_loss: 1.0032\n",
            "Epoch 930/1000\n",
            "6/6 [==============================] - 0s 21ms/step - loss: 0.0305 - val_loss: 1.3588\n",
            "Epoch 931/1000\n",
            "6/6 [==============================] - 0s 21ms/step - loss: 0.0728 - val_loss: 1.5255\n",
            "Epoch 932/1000\n",
            "6/6 [==============================] - 0s 25ms/step - loss: 0.0576 - val_loss: 2.3486\n",
            "Epoch 933/1000\n",
            "6/6 [==============================] - 0s 21ms/step - loss: 0.1258 - val_loss: 2.4388\n",
            "Epoch 934/1000\n",
            "6/6 [==============================] - 0s 24ms/step - loss: 0.1580 - val_loss: 1.6491\n",
            "Epoch 935/1000\n",
            "6/6 [==============================] - 0s 21ms/step - loss: 0.1416 - val_loss: 0.5065\n",
            "Epoch 936/1000\n",
            "6/6 [==============================] - 0s 21ms/step - loss: 0.0321 - val_loss: 0.3241\n",
            "Epoch 937/1000\n",
            "6/6 [==============================] - 0s 21ms/step - loss: 0.0396 - val_loss: 0.1970\n",
            "Epoch 938/1000\n",
            "6/6 [==============================] - 0s 23ms/step - loss: 0.0868 - val_loss: 0.2021\n",
            "Epoch 939/1000\n",
            "6/6 [==============================] - 0s 39ms/step - loss: 0.0915 - val_loss: 0.2378\n",
            "Epoch 940/1000\n",
            "6/6 [==============================] - 0s 29ms/step - loss: 0.1675 - val_loss: 0.9142\n",
            "Epoch 941/1000\n",
            "6/6 [==============================] - 0s 25ms/step - loss: 0.0805 - val_loss: 0.9558\n",
            "Epoch 942/1000\n",
            "6/6 [==============================] - 0s 23ms/step - loss: 0.0472 - val_loss: 0.2594\n",
            "Epoch 943/1000\n",
            "6/6 [==============================] - 0s 27ms/step - loss: 0.0871 - val_loss: 0.2134\n",
            "Epoch 944/1000\n",
            "6/6 [==============================] - 0s 21ms/step - loss: 0.0252 - val_loss: 0.2803\n",
            "Epoch 945/1000\n",
            "6/6 [==============================] - 0s 23ms/step - loss: 0.0243 - val_loss: 0.6069\n",
            "Epoch 946/1000\n",
            "6/6 [==============================] - 0s 24ms/step - loss: 0.0110 - val_loss: 0.6911\n",
            "Epoch 947/1000\n",
            "6/6 [==============================] - 0s 24ms/step - loss: 0.0219 - val_loss: 0.9974\n",
            "Epoch 948/1000\n",
            "6/6 [==============================] - 0s 20ms/step - loss: 0.0335 - val_loss: 1.0447\n",
            "Epoch 949/1000\n",
            "6/6 [==============================] - 0s 22ms/step - loss: 0.0532 - val_loss: 1.5973\n",
            "Epoch 950/1000\n",
            "6/6 [==============================] - 0s 22ms/step - loss: 0.0512 - val_loss: 1.6317\n",
            "Epoch 951/1000\n",
            "6/6 [==============================] - 0s 24ms/step - loss: 0.0621 - val_loss: 1.4481\n",
            "Epoch 952/1000\n",
            "6/6 [==============================] - 0s 21ms/step - loss: 0.0424 - val_loss: 1.1985\n",
            "Epoch 953/1000\n",
            "6/6 [==============================] - 0s 21ms/step - loss: 0.0265 - val_loss: 2.3195\n",
            "Epoch 954/1000\n",
            "6/6 [==============================] - 0s 23ms/step - loss: 0.1479 - val_loss: 1.1431\n",
            "Epoch 955/1000\n",
            "6/6 [==============================] - 0s 23ms/step - loss: 0.1349 - val_loss: 7.1577\n",
            "Epoch 956/1000\n",
            "6/6 [==============================] - 0s 20ms/step - loss: 0.5495 - val_loss: 4.4774\n",
            "Epoch 957/1000\n",
            "6/6 [==============================] - 0s 27ms/step - loss: 0.2948 - val_loss: 10.4509\n",
            "Epoch 958/1000\n",
            "6/6 [==============================] - 0s 24ms/step - loss: 0.8088 - val_loss: 11.5102\n",
            "Epoch 959/1000\n",
            "6/6 [==============================] - 0s 22ms/step - loss: 2.8599 - val_loss: 46.0914\n",
            "Epoch 960/1000\n",
            "6/6 [==============================] - 0s 32ms/step - loss: 4.5240 - val_loss: 20.8949\n",
            "Epoch 961/1000\n",
            "6/6 [==============================] - 0s 26ms/step - loss: 1.4962 - val_loss: 18.7402\n",
            "Epoch 962/1000\n",
            "6/6 [==============================] - 0s 23ms/step - loss: 1.3151 - val_loss: 18.6284\n",
            "Epoch 963/1000\n",
            "6/6 [==============================] - 0s 22ms/step - loss: 1.3218 - val_loss: 0.2716\n",
            "Epoch 964/1000\n",
            "6/6 [==============================] - 0s 23ms/step - loss: 0.8740 - val_loss: 3.3418\n",
            "Epoch 965/1000\n",
            "6/6 [==============================] - 0s 23ms/step - loss: 0.2464 - val_loss: 3.0457\n",
            "Epoch 966/1000\n",
            "6/6 [==============================] - 0s 21ms/step - loss: 0.1456 - val_loss: 2.0697\n",
            "Epoch 967/1000\n",
            "6/6 [==============================] - 0s 21ms/step - loss: 0.0727 - val_loss: 5.7267\n",
            "Epoch 968/1000\n",
            "6/6 [==============================] - 0s 23ms/step - loss: 0.4014 - val_loss: 6.9145\n",
            "Epoch 969/1000\n",
            "6/6 [==============================] - 0s 22ms/step - loss: 0.5483 - val_loss: 7.5648\n",
            "Epoch 970/1000\n",
            "6/6 [==============================] - 0s 21ms/step - loss: 0.5664 - val_loss: 4.5194\n",
            "Epoch 971/1000\n",
            "6/6 [==============================] - 0s 25ms/step - loss: 0.2792 - val_loss: 3.8444\n",
            "Epoch 972/1000\n",
            "6/6 [==============================] - 0s 22ms/step - loss: 0.2701 - val_loss: 17.5657\n",
            "Epoch 973/1000\n",
            "6/6 [==============================] - 0s 23ms/step - loss: 2.3119 - val_loss: 9.0404\n",
            "Epoch 974/1000\n",
            "6/6 [==============================] - 0s 21ms/step - loss: 4.0053 - val_loss: 26.8323\n",
            "Epoch 975/1000\n",
            "6/6 [==============================] - 0s 25ms/step - loss: 21.5913 - val_loss: 22.2427\n",
            "Epoch 976/1000\n",
            "6/6 [==============================] - 0s 22ms/step - loss: 25.9776 - val_loss: 46.4082\n",
            "Epoch 977/1000\n",
            "6/6 [==============================] - 0s 21ms/step - loss: 30.5379 - val_loss: 101.0026\n",
            "Epoch 978/1000\n",
            "6/6 [==============================] - 0s 23ms/step - loss: 46.0499 - val_loss: 109.1545\n",
            "Epoch 979/1000\n",
            "6/6 [==============================] - 0s 23ms/step - loss: 31.8965 - val_loss: 1.9919\n",
            "Epoch 980/1000\n",
            "6/6 [==============================] - 0s 21ms/step - loss: 34.0852 - val_loss: 951.2220\n",
            "Epoch 981/1000\n",
            "6/6 [==============================] - 0s 21ms/step - loss: 210.8055 - val_loss: 334.3012\n",
            "Epoch 982/1000\n",
            "6/6 [==============================] - 0s 24ms/step - loss: 110.1708 - val_loss: 642.7775\n",
            "Epoch 983/1000\n",
            "6/6 [==============================] - 0s 26ms/step - loss: 145.0826 - val_loss: 87.6659\n",
            "Epoch 984/1000\n",
            "6/6 [==============================] - 0s 19ms/step - loss: 106.9809 - val_loss: 290.0930\n",
            "Epoch 985/1000\n",
            "6/6 [==============================] - 0s 23ms/step - loss: 45.9937 - val_loss: 50.8833\n",
            "Epoch 986/1000\n",
            "6/6 [==============================] - 0s 24ms/step - loss: 12.1872 - val_loss: 5.6888\n",
            "Epoch 987/1000\n",
            "6/6 [==============================] - 0s 23ms/step - loss: 7.0683 - val_loss: 1.7653\n",
            "Epoch 988/1000\n",
            "6/6 [==============================] - 0s 21ms/step - loss: 4.9922 - val_loss: 137.2816\n",
            "Epoch 989/1000\n",
            "6/6 [==============================] - 0s 24ms/step - loss: 13.2226 - val_loss: 7.0622\n",
            "Epoch 990/1000\n",
            "6/6 [==============================] - 0s 24ms/step - loss: 4.8653 - val_loss: 55.0820\n",
            "Epoch 991/1000\n",
            "6/6 [==============================] - 0s 26ms/step - loss: 4.0437 - val_loss: 6.6902\n",
            "Epoch 992/1000\n",
            "6/6 [==============================] - 0s 22ms/step - loss: 3.8350 - val_loss: 50.6515\n",
            "Epoch 993/1000\n",
            "6/6 [==============================] - 0s 25ms/step - loss: 4.3052 - val_loss: 7.2084\n",
            "Epoch 994/1000\n",
            "6/6 [==============================] - 0s 26ms/step - loss: 1.7255 - val_loss: 4.5068\n",
            "Epoch 995/1000\n",
            "6/6 [==============================] - 0s 22ms/step - loss: 1.6340 - val_loss: 17.0168\n",
            "Epoch 996/1000\n",
            "6/6 [==============================] - 0s 24ms/step - loss: 1.3468 - val_loss: 4.7194\n",
            "Epoch 997/1000\n",
            "6/6 [==============================] - 0s 21ms/step - loss: 0.6256 - val_loss: 1.4475\n",
            "Epoch 998/1000\n",
            "6/6 [==============================] - 0s 22ms/step - loss: 1.2049 - val_loss: 7.4606\n",
            "Epoch 999/1000\n",
            "6/6 [==============================] - 0s 22ms/step - loss: 0.5062 - val_loss: 5.8933\n",
            "Epoch 1000/1000\n",
            "6/6 [==============================] - 0s 22ms/step - loss: 0.2875 - val_loss: 2.0584\n"
          ]
        }
      ]
    },
    {
      "cell_type": "code",
      "metadata": {
        "id": "WJpokT7-dfwF",
        "colab": {
          "base_uri": "https://localhost:8080/"
        },
        "outputId": "4e2d9fdc-fe2d-4576-dc24-c9bc7e1cfb99"
      },
      "source": [
        "test_input = np.array([50, 51, 52])\n",
        "test_input = test_input.reshape((1, 3, 1))\n",
        "test_output = model.predict(test_input, verbose=0)\n",
        "\n",
        "print(test_output)\n",
        "model.evaluate(X,Y)"
      ],
      "execution_count": null,
      "outputs": [
        {
          "output_type": "stream",
          "name": "stdout",
          "text": [
            "[[[61.62098]\n",
            "  [67.37461]\n",
            "  [71.65091]]]\n",
            "1/1 [==============================] - 0s 17ms/step - loss: 0.9748\n"
          ]
        },
        {
          "output_type": "execute_result",
          "data": {
            "text/plain": [
              "0.9748106002807617"
            ]
          },
          "metadata": {},
          "execution_count": 52
        }
      ]
    },
    {
      "cell_type": "markdown",
      "source": [
        "## Q. Create an LSTM network to replace to solve the equiation of conversion Celsius and Fahrenheit, given as following: \n",
        "<p align=\"center\">\n",
        "  <a href=\"url\"><img src=\"https://d138zd1ktt9iqe.cloudfront.net/media/seo_landing_files/c-to-f-formula-1638963368.png\" align=\"middle\" height=\"300\" width=\"600\" ></a>\n",
        "</p>\n"
      ],
      "metadata": {
        "id": "iv1Z1zUzbw1G"
      }
    },
    {
      "cell_type": "markdown",
      "metadata": {
        "id": "Iqt-0jhy3ABo"
      },
      "source": [
        "### What happens if you normalize Data ? \n",
        "\n",
        "\n",
        "\n",
        "### What is the job of repeatvector layer, and return _sequence parameter"
      ]
    },
    {
      "cell_type": "markdown",
      "source": [
        "What is the role of #model.add(TimeDistributed(Dense(1))) in case we activated it in the architecture of last model ? "
      ],
      "metadata": {
        "id": "BcC6PoZar0tB"
      }
    },
    {
      "cell_type": "markdown",
      "source": [
        "![RNN-cells.JPG](data:image/jpeg;base64,/9j/4AAQSkZJRgABAQEAYABgAAD/4RD4RXhpZgAATU0AKgAAAAgABAE7AAIAAAAPAAAISodpAAQAAAABAAAIWpydAAEAAAAeAAAQ0uocAAcAAAgMAAAAPgAAAAAc6gAAAAgAAAAAAAAAAAAAAAAAAAAAAAAAAAAAAAAAAAAAAAAAAAAAAAAAAAAAAAAAAAAAAAAAAAAAAAAAAAAAAAAAAAAAAAAAAAAAAAAAAAAAAAAAAAAAAAAAAAAAAAAAAAAAAAAAAAAAAAAAAAAAAAAAAAAAAAAAAAAAAAAAAAAAAAAAAAAAAAAAAAAAAAAAAAAAAAAAAAAAAAAAAAAAAAAAAAAAAAAAAAAAAAAAAAAAAAAAAAAAAAAAAAAAAAAAAAAAAAAAAAAAAAAAAAAAAAAAAAAAAAAAAAAAAAAAAAAAAAAAAAAAAAAAAAAAAAAAAAAAAAAAAAAAAAAAAAAAAAAAAAAAAAAAAAAAAAAAAAAAAAAAAAAAAAAAAAAAAAAAAAAAAAAAAAAAAAAAAAAAAAAAAAAAAAAAAAAAAAAAAAAAAAAAAAAAAAAAAAAAAAAAAAAAAAAAAAAAAAAAAAAAAAAAAAAAAAAAAAAAAAAAAAAAAAAAAAAAAAAAAAAAAAAAAAAAAAAAAAAAAAAAAAAAAAAAAAAAAAAAAAAAAAAAAAAAAAAAAAAAAAAAAAAAAAAAAAAAAAAAAAAAAAAAAAAAAAAAAAAAAAAAAAAAAAAAAAAAAAAAAAAAAAAAAAAAAAAAAAAAAAAAAAAAAAAAAAAAAAAAAAAAAAAAAAAAAAAAAAAAAAAAAAAAAAAAAAAAAAAAAAAAAAAAAAAAAAAAAAAAAAAAAAAAAAAAAAAAAAAAAAAAAAAAAAAAAAAAAAAAAAAAAAAAAAAAAAAAAAAAAAAAAAAAAAAAAAAAAAAAAAAAAAAAAAAAAAAAAAAAAAAAAAAAAAAAAAAAAAAAAAAAAAAAAAAAAAAAAAAAAAAAAAAAAAAAAAAAAAAAAAAAAAAAAAAAAAAAAAAAAAAAAAAAAAAAAAAAAAAAAAAAAAAAAAAAAAAAAAAAAAAAAAAAAAAAAAAAAAAAAAAAAAAAAAAAAAAAAAAAAAAAAAAAAAAAAAAAAAAAAAAAAAAAAAAAAAAAAAAAAAAAAAAAAAAAAAAAAAAAAAAAAAAAAAAAAAAAAAAAAAAAAAAAAAAAAAAAAAAAAAAAAAAAAAAAAAAAAAAAAAAAAAAAAAAAAAAAAAAAAAAAAAAAAAAAAAAAAAAAAAAAAAAAAAAAAAAAAAAAAAAAAAAAAAAAAAAAAAAAAAAAAAAAAAAAAAAAAAAAAAAAAAAAAAAAAAAAAAAAAAAAAAAAAAAAAAAAAAAAAAAAAAAAAAAAAAAAAAAAAAAAAAAAAAAAAAAAAAAAAAAAAAAAAAAAAAAAAAAAAAAAAAAAAAAAAAAAAAAAAAAAAAAAAAAAAAAAAAAAAAAAAAAAAAAAAAAAAAAAAAAAAAAAAAAAAAAAAAAAAAAAAAAAAAAAAAAAAAAAAAAAAAAAAAAAAAAAAAAAAAAAAAAAAAAAAAAAAAAAAAAAAAAAAAAAAAAAAAAAAAAAAAAAAAAAAAAAAAAAAAAAAAAAAAAAAAAAAAAAAAAAAAAAAAAAAAAAAAAAAAAAAAAAAAAAAAAAAAAAAAAAAAAAAAAAAAAAAAAAAAAAAAAAAAAAAAAAAAAAAAAAAAAAAAAAAAAAAAAAAAAAAAAAAAAAAAAAAAAAAAAAAAAAAAAAAAAAAAAAAAAAAAAAAAAAAAAAAAAAAAAAAAAAAAAAAAAAAAAAAAAAAAAAAAAAAAAAAAAAAAAAAAAAAAAAAAAAAAAAAAAAAAAAAAAAAAAAAAAAAAAAAAAAAAAAAAAAAAAAAAAAAAAAAAAAAAAAAAAAAAAAAAAAAAAAAAAAAAAAAAAAAAAAAAAAAAAAAAAAAAAAAAAAAAAAAAAAAAAAAAAAAAAAAAAAAAAAAAAAAAAAAAAAAAAAAAAAAAAAAAAAAAAAAAAAAAAAAAAAAAAAAAAAAAAAAAAAAAAAAAAAAAAAAAAAAAAAAAAAAAAAAAAAAAAAAAAAAAAAAAAAAAAAAAAAAAAAAAAAAAAAAAAAAAAAAAAAAAAAAAAAAAAAAAAAAAAAAAAAAAAAAAAAAAAAAAAAAAAAAAAAAAAAAAAAAAAAAAAAAAAAAAAAAAAAAAAAAAAAAAAAAAAAAAAAAAAAAAAAAAAAAAAAAAAAAAAAAAAAAAAAAAAAAAAAAAAAAAAAAAAAAAAAAAAAAAAAAAAAAAAAAAAAAAAAAAAAAAAAAAAAAAAAAAAAAAAAAAAAAAAAAAAAAAAAAAAAAAAAAAAAAAAAAAAAAAAAAAAAAAAAAAAAAAAAAAAAAAAAAAAAAAAAAAAAAAAAAAAAAAAAAAAAAAAAAAAAAAAAAAAAAAAAAAAAAAAAAAAAAAAAAAAAAAAAAAAAAAAAAAAAAAAAAAAAAAAAAAAAAAAAAAAAAAAAAAAAAAAAAAAAAAAAAAAAAAAAAAAAAAAAAAAAAAAAAAAAAAAAAAAAAAAAAAAAAAAAAAAAAAAAAAAAAAAAAAAAAAAAAAAAAAAAAAAAAAAAAAAAAAAAAAAAAAAAAAAAAAAAAAAAAAAAAAAAAAAAAAAAAAAAAAAAAAAAAAAAAAAAAAAAAAAAAAAAAAAAAAAAAAAAAAAAAAAAAAAAAAAAAAAAAAAAAAAAAAAAAAAAAAAAAAAAAAAAAAAAAAAAAAAAAAAAAAAAAAAAAAAAAAAAAAAAAAAAAAAAAAAAAAAAAAAAAAAAAAAAAAAAAAAAAAAAAAAAAAAAAAAAAAAAAAAAAAAAAAAAAAAAAAAAAAAAAAAAAAAAAAAAAFlhc3NlciBBTE1FSElPAAAABZADAAIAAAAUAAAQqJAEAAIAAAAUAAAQvJKRAAIAAAADMzAAAJKSAAIAAAADMzAAAOocAAcAAAgMAAAInAAAAAAc6gAAAAgAAAAAAAAAAAAAAAAAAAAAAAAAAAAAAAAAAAAAAAAAAAAAAAAAAAAAAAAAAAAAAAAAAAAAAAAAAAAAAAAAAAAAAAAAAAAAAAAAAAAAAAAAAAAAAAAAAAAAAAAAAAAAAAAAAAAAAAAAAAAAAAAAAAAAAAAAAAAAAAAAAAAAAAAAAAAAAAAAAAAAAAAAAAAAAAAAAAAAAAAAAAAAAAAAAAAAAAAAAAAAAAAAAAAAAAAAAAAAAAAAAAAAAAAAAAAAAAAAAAAAAAAAAAAAAAAAAAAAAAAAAAAAAAAAAAAAAAAAAAAAAAAAAAAAAAAAAAAAAAAAAAAAAAAAAAAAAAAAAAAAAAAAAAAAAAAAAAAAAAAAAAAAAAAAAAAAAAAAAAAAAAAAAAAAAAAAAAAAAAAAAAAAAAAAAAAAAAAAAAAAAAAAAAAAAAAAAAAAAAAAAAAAAAAAAAAAAAAAAAAAAAAAAAAAAAAAAAAAAAAAAAAAAAAAAAAAAAAAAAAAAAAAAAAAAAAAAAAAAAAAAAAAAAAAAAAAAAAAAAAAAAAAAAAAAAAAAAAAAAAAAAAAAAAAAAAAAAAAAAAAAAAAAAAAAAAAAAAAAAAAAAAAAAAAAAAAAAAAAAAAAAAAAAAAAAAAAAAAAAAAAAAAAAAAAAAAAAAAAAAAAAAAAAAAAAAAAAAAAAAAAAAAAAAAAAAAAAAAAAAAAAAAAAAAAAAAAAAAAAAAAAAAAAAAAAAAAAAAAAAAAAAAAAAAAAAAAAAAAAAAAAAAAAAAAAAAAAAAAAAAAAAAAAAAAAAAAAAAAAAAAAAAAAAAAAAAAAAAAAAAAAAAAAAAAAAAAAAAAAAAAAAAAAAAAAAAAAAAAAAAAAAAAAAAAAAAAAAAAAAAAAAAAAAAAAAAAAAAAAAAAAAAAAAAAAAAAAAAAAAAAAAAAAAAAAAAAAAAAAAAAAAAAAAAAAAAAAAAAAAAAAAAAAAAAAAAAAAAAAAAAAAAAAAAAAAAAAAAAAAAAAAAAAAAAAAAAAAAAAAAAAAAAAAAAAAAAAAAAAAAAAAAAAAAAAAAAAAAAAAAAAAAAAAAAAAAAAAAAAAAAAAAAAAAAAAAAAAAAAAAAAAAAAAAAAAAAAAAAAAAAAAAAAAAAAAAAAAAAAAAAAAAAAAAAAAAAAAAAAAAAAAAAAAAAAAAAAAAAAAAAAAAAAAAAAAAAAAAAAAAAAAAAAAAAAAAAAAAAAAAAAAAAAAAAAAAAAAAAAAAAAAAAAAAAAAAAAAAAAAAAAAAAAAAAAAAAAAAAAAAAAAAAAAAAAAAAAAAAAAAAAAAAAAAAAAAAAAAAAAAAAAAAAAAAAAAAAAAAAAAAAAAAAAAAAAAAAAAAAAAAAAAAAAAAAAAAAAAAAAAAAAAAAAAAAAAAAAAAAAAAAAAAAAAAAAAAAAAAAAAAAAAAAAAAAAAAAAAAAAAAAAAAAAAAAAAAAAAAAAAAAAAAAAAAAAAAAAAAAAAAAAAAAAAAAAAAAAAAAAAAAAAAAAAAAAAAAAAAAAAAAAAAAAAAAAAAAAAAAAAAAAAAAAAAAAAAAAAAAAAAAAAAAAAAAAAAAAAAAAAAAAAAAAAAAAAAAAAAAAAAAAAAAAAAAAAAAAAAAAAAAAAAAAAAAAAAAAAAAAAAAAAAAAAAAAAAAAAAAAAAAAAAAAAAAAAAAAAAAAAAAAAAAAAAAAAAAAAAAAAAAAAAAAAAAAAAAAAAAAAAAAAAAAAAAAAAAAAAAAAAAAAAAAAAAAAAAAAAAAAAAAAAAAAAAAAAAAAAAAAAAAAAAAAAAAAAAAAAAAAAAAAAAAAAAAAAAAAAAAAAAAAAAAAAAAAAAAAAAAAAAAAAAAAAAAAAAAAAAAAAAAAAAAAAAAAAAAAAAAAAAAAAAAAAAAAAAAAAAAAAAAAAAAAAAAAAAAAAAAAAAAAAAAAAAAAAAAAAAAAAAAAAAAAAAAAAAAAAAAAAAAAAAAAAAAAAAAAAAAAAAAAAAAAAAAAAAAAAAAAAAAAAAAAAAAAAAAAAAAAAAAAAAAAAAAAAAAAAAAAAAAAAAAAAAAAAAAAAAAAAAAAAAAAAAAAAAAAAAAAAAAAAAAAAAAAAAAAAAAAAAAAAAAAAAAAAAAAAAAAAAAAAAAAAAAAAAAAAAAAAAAAAAAAAAAAAAAAAAAAAAAAAAAAAAAAAAAAAAAAAAAAAAAAAAAAAAAAAAAAAAAAAAAAAAAAAAAAAAAAAAAAAAAAAAAAAAAAAAAAAAAAAAAAAAAAAAAAAAAAAAAAAAAAAAAAAAAAAAAAAAAAAAAAAAAAAAAAAAAAAAAAAAAAAAAAAAAAAAAAAAAAAAAAAAAAAAAAAAAAAAAAAAAAAAAAAAAAAAAAAAAAAAAAAAAAAAAAAAAAAAAAAAAAAAAAAAAAAAAAAAAAAAAAAAAAAAAAAAAAAAAAAAAAAAAAAAAAAAAAAAAAAAAAAAAAAAAAAAAAAAAAAAAAAAAAAAAAAAAAAAAAAAAAAAAAAAAAAAAAAAAAAAAAAAAAAAAAAAAAAAAAAAAAAAAAAAAAAAAAAAAAAAAAAAAAAAAAAAAAAAAAAAAAAAAAAAAAAAAAAAAAAAAAAAAAAAAAAAAAAAAAAAAAAAAAAAAAAAAAAAAAAAAAAAAAAAAAAAAAAAAAAAAAAAAAAAAAAAAAAAAAAAAAAAAAAAAAAAAAAAAAAAAAAAAAAAAAAAAAAAAAAAAAAAAAAAAAAAAAAAAAAAAAAAAAAAAAADIwMjI6MTI6MDggMTM6NTg6MzQAMjAyMjoxMjowOCAxMzo1ODozNAAAAFkAYQBzAHMAZQByACAAQQBMAE0ARQBIAEkATwAAAP/hCyFodHRwOi8vbnMuYWRvYmUuY29tL3hhcC8xLjAvADw/eHBhY2tldCBiZWdpbj0n77u/JyBpZD0nVzVNME1wQ2VoaUh6cmVTek5UY3prYzlkJz8+DQo8eDp4bXBtZXRhIHhtbG5zOng9ImFkb2JlOm5zOm1ldGEvIj48cmRmOlJERiB4bWxuczpyZGY9Imh0dHA6Ly93d3cudzMub3JnLzE5OTkvMDIvMjItcmRmLXN5bnRheC1ucyMiPjxyZGY6RGVzY3JpcHRpb24gcmRmOmFib3V0PSJ1dWlkOmZhZjViZGQ1LWJhM2QtMTFkYS1hZDMxLWQzM2Q3NTE4MmYxYiIgeG1sbnM6ZGM9Imh0dHA6Ly9wdXJsLm9yZy9kYy9lbGVtZW50cy8xLjEvIi8+PHJkZjpEZXNjcmlwdGlvbiByZGY6YWJvdXQ9InV1aWQ6ZmFmNWJkZDUtYmEzZC0xMWRhLWFkMzEtZDMzZDc1MTgyZjFiIiB4bWxuczp4bXA9Imh0dHA6Ly9ucy5hZG9iZS5jb20veGFwLzEuMC8iPjx4bXA6Q3JlYXRlRGF0ZT4yMDIyLTEyLTA4VDEzOjU4OjM0LjI5OTwveG1wOkNyZWF0ZURhdGU+PC9yZGY6RGVzY3JpcHRpb24+PHJkZjpEZXNjcmlwdGlvbiByZGY6YWJvdXQ9InV1aWQ6ZmFmNWJkZDUtYmEzZC0xMWRhLWFkMzEtZDMzZDc1MTgyZjFiIiB4bWxuczpkYz0iaHR0cDovL3B1cmwub3JnL2RjL2VsZW1lbnRzLzEuMS8iPjxkYzpjcmVhdG9yPjxyZGY6U2VxIHhtbG5zOnJkZj0iaHR0cDovL3d3dy53My5vcmcvMTk5OS8wMi8yMi1yZGYtc3ludGF4LW5zIyI+PHJkZjpsaT5ZYXNzZXIgQUxNRUhJTzwvcmRmOmxpPjwvcmRmOlNlcT4NCgkJCTwvZGM6Y3JlYXRvcj48L3JkZjpEZXNjcmlwdGlvbj48L3JkZjpSREY+PC94OnhtcG1ldGE+DQogICAgICAgICAgICAgICAgICAgICAgICAgICAgICAgICAgICAgICAgICAgICAgICAgICAgICAgICAgICAgICAgICAgICAgICAgICAgICAgICAgICAgICAgICAgICAgICAgICAgCiAgICAgICAgICAgICAgICAgICAgICAgICAgICAgICAgICAgICAgICAgICAgICAgICAgICAgICAgICAgICAgICAgICAgICAgICAgICAgICAgICAgICAgICAgICAgICAgICAgICAKICAgICAgICAgICAgICAgICAgICAgICAgICAgICAgICAgICAgICAgICAgICAgICAgICAgICAgICAgICAgICAgICAgICAgICAgICAgICAgICAgICAgICAgICAgICAgICAgICAgIAogICAgICAgICAgICAgICAgICAgICAgICAgICAgICAgICAgICAgICAgICAgICAgICAgICAgICAgICAgICAgICAgICAgICAgICAgICAgICAgICAgICAgICAgICAgICAgICAgICAgCiAgICAgICAgICAgICAgICAgICAgICAgICAgICAgICAgICAgICAgICAgICAgICAgICAgICAgICAgICAgICAgICAgICAgICAgICAgICAgICAgICAgICAgICAgICAgICAgICAgICAKICAgICAgICAgICAgICAgICAgICAgICAgICAgICAgICAgICAgICAgICAgICAgICAgICAgICAgICAgICAgICAgICAgICAgICAgICAgICAgICAgICAgICAgICAgICAgICAgICAgIAogICAgICAgICAgICAgICAgICAgICAgICAgICAgICAgICAgICAgICAgICAgICAgICAgICAgICAgICAgICAgICAgICAgICAgICAgICAgICAgICAgICAgICAgICAgICAgICAgICAgCiAgICAgICAgICAgICAgICAgICAgICAgICAgICAgICAgICAgICAgICAgICAgICAgICAgICAgICAgICAgICAgICAgICAgICAgICAgICAgICAgICAgICAgICAgICAgICAgICAgICAKICAgICAgICAgICAgICAgICAgICAgICAgICAgICAgICAgICAgICAgICAgICAgICAgICAgICAgICAgICAgICAgICAgICAgICAgICAgICAgICAgICAgICAgICAgICAgICAgICAgIAogICAgICAgICAgICAgICAgICAgICAgICAgICAgICAgICAgICAgICAgICAgICAgICAgICAgICAgICAgICAgICAgICAgICAgICAgICAgICAgICAgICAgICAgICAgICAgICAgICAgCiAgICAgICAgICAgICAgICAgICAgICAgICAgICAgICAgICAgICAgICAgICAgICAgICAgICAgICAgICAgICAgICAgICAgICAgICAgICAgICAgICAgICAgICAgICAgICAgICAgICAKICAgICAgICAgICAgICAgICAgICAgICAgICAgICAgICAgICAgICAgICAgICAgICAgICAgICAgICAgICAgICAgICAgICAgICAgICAgICAgICAgICAgICAgICAgICAgICAgICAgIAogICAgICAgICAgICAgICAgICAgICAgICAgICAgICAgICAgICAgICAgICAgICAgICAgICAgICAgICAgICAgICAgICAgICAgICAgICAgICAgICAgICAgICAgICAgICAgICAgICAgCiAgICAgICAgICAgICAgICAgICAgICAgICAgICAgICAgICAgICAgICAgICAgICAgICAgICAgICAgICAgICAgICAgICAgICAgICAgICAgICAgICAgICAgICAgICAgICAgICAgICAKICAgICAgICAgICAgICAgICAgICAgICAgICAgICAgICAgICAgICAgICAgICAgICAgICAgICAgICAgICAgICAgICAgICAgICAgICAgICAgICAgICAgICAgICAgICAgICAgICAgIAogICAgICAgICAgICAgICAgICAgICAgICAgICAgICAgICAgICAgICAgICAgICAgICAgICAgICAgICAgICAgICAgICAgICAgICAgICAgICAgICAgICAgICAgICAgICAgICAgICAgCiAgICAgICAgICAgICAgICAgICAgICAgICAgICAgICAgICAgICAgICAgICAgICAgICAgICAgICAgICAgICAgICAgICAgICAgICAgICAgICAgICAgICAgICAgICAgICAgICAgICAKICAgICAgICAgICAgICAgICAgICAgICAgICAgICAgICAgICAgICAgICAgICAgICAgICAgICAgICAgICAgICAgICAgICAgICAgICAgICAgICAgICAgICAgICAgICAgICAgICAgIAogICAgICAgICAgICAgICAgICAgICAgICAgICAgICAgICAgICAgICAgICAgICAgICAgICAgICAgICAgICAgICAgICAgICAgICAgICAgICAgICAgICAgICAgICAgICAgICAgICAgCiAgICAgICAgICAgICAgICAgICAgICAgICAgICAgICAgICAgICAgICAgICAgICAgICAgICAgICAgICAgICAgICAgICAgICAgICAgICAgICAgICAgICAgICAgICAgICAgICAgICAKICAgICAgICAgICAgICAgICAgICAgICAgICAgIDw/eHBhY2tldCBlbmQ9J3cnPz7/2wBDAAcFBQYFBAcGBQYIBwcIChELCgkJChUPEAwRGBUaGRgVGBcbHichGx0lHRcYIi4iJSgpKywrGiAvMy8qMicqKyr/2wBDAQcICAoJChQLCxQqHBgcKioqKioqKioqKioqKioqKioqKioqKioqKioqKioqKioqKioqKioqKioqKioqKioqKir/wAARCAK4B2IDASIAAhEBAxEB/8QAHwAAAQUBAQEBAQEAAAAAAAAAAAECAwQFBgcICQoL/8QAtRAAAgEDAwIEAwUFBAQAAAF9AQIDAAQRBRIhMUEGE1FhByJxFDKBkaEII0KxwRVS0fAkM2JyggkKFhcYGRolJicoKSo0NTY3ODk6Q0RFRkdISUpTVFVWV1hZWmNkZWZnaGlqc3R1dnd4eXqDhIWGh4iJipKTlJWWl5iZmqKjpKWmp6ipqrKztLW2t7i5usLDxMXGx8jJytLT1NXW19jZ2uHi4+Tl5ufo6erx8vP09fb3+Pn6/8QAHwEAAwEBAQEBAQEBAQAAAAAAAAECAwQFBgcICQoL/8QAtREAAgECBAQDBAcFBAQAAQJ3AAECAxEEBSExBhJBUQdhcRMiMoEIFEKRobHBCSMzUvAVYnLRChYkNOEl8RcYGRomJygpKjU2Nzg5OkNERUZHSElKU1RVVldYWVpjZGVmZ2hpanN0dXZ3eHl6goOEhYaHiImKkpOUlZaXmJmaoqOkpaanqKmqsrO0tba3uLm6wsPExcbHyMnK0tPU1dbX2Nna4uPk5ebn6Onq8vP09fb3+Pn6/9oADAMBAAIRAxEAPwD6RooooAKKKKACiiigAooooAKKKKACiiigAooooAKKKKACiiigAooooAKKKKACiiigAooooAKKKKACiiigAooooAKKKKACiiigAooooAKKKKACiiigAooooAKKKKACiiigAooooAKKKKACiiigAooooAKKKKACiiigAooooAKKKKACiiigAooooAKKKKACiiigAooooAKKKKACiiigAooooAKKKKACiiigAooooAKKKKACiiigAooooAKKKKACiiigAooooAKKKKACiiigAooooAKKKKACiiigAooooAKKKKACiiigAooooAKKKKACiiigAooooAKKKKACiiigAooooAKKKKACiiigAooooAKKKKACiiigAooooAKKKKACiiigAooooAKKKKACiiigAooooAKKKKACiiigAooooAKKKKACiiigAooooAKKKKACiiigAooooAKKKKACiiigAooooAKKKKACiiigAooooAKKKKACiiigAooooAKKKKACiiigAooooAKKKKACiiigAooooAKKKKACiiigAooooAKKKKACiiigAooooAKKKKACiiigAooooAKKKKACiiigAooooAKKKKACiiigAooooAKKKKACiiigAooooAKKKKACiiigAooooAKKKKACiiigAooooAKKQkA0ZpcyAWimlwo+Y4+tMiuYZ2dYZVdkOGCnOKOZDsyWiiimIKKKKACiiigAooooAKKKKACiiigAooooAKKKKACiiigAooooAKKKKACiiigAooooAKKKDQAUUzeo6sPzpQ6k8MCfrU8yva4WY6ikpaoAooooAKKKKACiiigAooooAKKKKACiiigAooooAKKKKACiiigAooooAKKKKACiiigAooooAKKKKACiiigAooooAKKKKACiiigAooooAKKKKACiiigAooooAKKKKACiiigAooooAKKKKACiiigAooooAKKKKACiiigAopCQB6Ubh60m0twFopu8djUctzFCu6WRUGcZY4pOSWo7MmopqurAFTkHoRTqoQUUUUAFFFFABRRRQAUUUUAFFFFABRRRQAUUUUAFFFFABRRRQAUUUUAFFFFABRRRQAUUUUAFFFN3D1/Wk2luA6ikzSO6ohZ2CqOpJxinsA6imRSpLGHjYOrdCDkGnUk7q4C0UlLTAKKKKACiiigAooooAKKKKACiiigAooooAKKKKACiiigAooooAKKKKACiiigAooooAKKKKACiiigAooooAKKKKACiiigAooooAKKKKACiiigAooooAKKKKACiiigAooooAKKKKACiiigAooooAKKKKACiiigAooooAKKKKACiiigAooooAKKKKACiiigAooooAKKKKACiiigAooooAKKKKACiiigAooooAKKKKACiiigAooooAKKKKACiiigAooooAKKKKACiiigAooooA5Lxg0tteWV5FIy+W2CA2Ae9Z/i7UnfUoUt3YLHEJCVPr/n9a6PxVZ/atBmwuWj+cfhXK6Hp8mqrfyzAttgCIT9OP5Cvmccqsazp07+9Z/due3g3S9mqk18N163sXtdv31Gy0u2t3YNOQ5KnB9P61R0vVzouo33l273JY4IU4xgnkmm+GIZb3WrdZORaxnA9Bn/E1p+GYlOsayGUHBxyPc1zw9rWnGrFtO9vuR0TVGlCdNq6tf72a9t4ntZ9Gk1BldAhwYz1z6VUt/F5e7jivLGS2jmP7uRmzu/Sues7aa48IXQgRmZJgxAGcAA02wfS7lraKWS8ecMBsByAc9q3WOxLcF/W5g8Lh0pNa6/odPqHisafqMloLR5iqgqUbliRnpVnQNfXWvNVoWhlj+8hbI/OseBAfiDKpXKiPjI/2RUnhpCnibU/lKrn046muqhiMRKvq9G2rGFSlRVLRa2Tua+u62NFSB2haXzGIwGxis9fF6ixkuJ7V4zvCxJuyZPfpxTPGkbSR2eFJ/ec4FQ+MLSaTT7WaKNmS3b5gg6A45p4mriYzqSg9I2/EVClh5xpqW7buXrLxV510ttd2UttK4ygY53Vk2fiO/bXJN8M0iOQPI3/AOq6VX0c6fd6zZsjXkku44LHgY559uKmW6XSfGd0bhGImICYHXOK43XrzjCTlZXOj2VCLnGMdbfqdFY68t5qt3ZeSU+zAksWzuwapweLEm027u/szL9mYKV3A7vxrFe+OieKtQaaGRvOB2bR97JyKqWKsPDWrhlKnepII6Vq8dVT5U9Ve/6GawcLc1tNPx3OhtfFz3SzuthIIo4jIH3/AHiO3Sof+E4HlJJ9gl2fxnf90+g45qW3i2+AG2jBNsx4Hsay2Qf8ICTtGfM9PenVrYqMU1PpfYIUsPKT93rbc7e1uEurZJojlHUMM+9LcTLb28ksn3UUk1R0A48P2P8A1wT/ANBFWdRZV02dnQyKEJKDqw9K9tTk6PN1seW4pVLdLmJYeJ5r+6VE02UQM+wTK2QD+VF74t8i8lgsbOS7MP8ArGDYC/oa52wmK6zbpor3Gx2HmQkZAGec/hUcsMdjrV6uo/aYUdyUaI435Ofxr5547E+zT631Z7X1Shzu/bRHXJ4ptH0M6iVZdp2GLuG9Kz18bkKvnafIjMRgbuCPXOKzJbCGbwg0mnLO0azbmDrkkAYzj0qrqmrR39rZxxQMnk4BY45PpVVcbXjZylbRfMilhaU78sb6vrsdj/bYbXhpnlNym/zN3tnpSW/iGKbUr22eMxi1Xc0hbg468VgapdHSPFSX0sbNG0IxjvxiqmmLNqV9qxWNkeeIsFYc8nitPr1ZT5Fq7v7jP6pTcObpZfffU2m8aAN5q2EzWmcednof8+9WL/xZDZXUUQgeVZYw4ZD1z0GK5CD7DHaLb3/22OUE5jToT9OxrXuIEi8S6THEG2CNAN3pzWUMZipQ33sazwtCErW7/gbek+J49SupLea3a2kRd3LZBFVj4w3zyfZ7GWaCNtplVv1qo0JfxldxxjBe2dRgdyBVLRNa/sS3msbizlaYynC4xntW0cXiF7tSVrN62M3hqbTlTV9FpfudBfeJhb3YtrS1luptoZlUgBaani23bSZLwxsHjcI8WejGuc1KNbbxFNLe+fHFNyskXX1xVmGPSk0O6kEF1JDJKqszDkf7QrL63i3OSTXUp4ahGEW1fY3tO8QS3m5riwmt4xGZFc8hhTP+Ey07H3Ln/v0aw/DUtw2qywafLLJaCM4Mg4U9q0/7G1r/AJ/YT9EFb08TialJShf7jOpQoQqOMtPmR6vYQ6rYy6xDPcR7YSVTpnHqKh8M6OJbWLVHupt8bsfLzwcVs30M8Xha5junDyrA2WUYzxUPhUf8Uvz1y9V7G+Ki2vs3+YvaWwzSf2rfIq2XjE3d3HCthKQz4Zg2Qvv0q/p3iNdQhvXFuyC1GfvZ3dfy6VneCIs6fckjkyGsWzvX0abUrOW3eSSfKqF+p/xqI4mtCEalSWjuVLD0pzlGmtrdfvOnt/FUEmjtfzRNGA+wRgglj7dKisvFhmvIYLyyktvOx5bE5Bz+Vc2ljPP4O3RRs3lXJZwo5AxjOPbNS2H9nXF5Zqz3rTb1ABPyqc/yrD69iXOK2Tt8zT6rQUZO2z+49DBzS1j2GtC71iew8kqYR9/d1/CtgV9FSqRqRvE8ecJQdpBRRRWpAUUUUAFFFFABRRRQAUUUUAFFFFABRRRQAUUUUAFFFFABRRRQAUUUUAFFFFABRRRQAUUUUAFFFFABRRRQAUUUUAFFFFABRRRQAUUUUAFFFFABRRRQAUUUUAFFFFABRRRQAUUUUAFFFFABRRRQBQ1q3e50a5ijJVihKkHHI5rk4NYlXwRLulPmhvKznnB/+tXdMoZSD0IrzKSzm/t5tLKkxPcjj2z/AIGvCzN1IVIyj1TX+R6uAjTnGSn0s/8AM09B1OSHQ9SjnY74V3LuPQniqU8Lx+DIpXZi090X+Y5xwR/Sm6/bSWWtT28GQtztOP72f/r1teKLQ23hW1hiXiN1AH4GvPh7VwnCf2FY7X7OM4Sj9p3/AAF07xcokt7WazeKJsIkrH73QZxWhqPiP7Nem1srZruVRlwpxisbxHEVj0QLHjGMgD/dqjqkX2LxBM979pjil+68I5PFbPFYqjDkv21+Rzxw9GpLmt30+Z0ieKoZdIlvY4XLRMFeMnGCarJ42R5Yc2MqwyHHmE4we/1/OssxWv8Awjl+bHzipkQMZcc/TFS6umPCGkEDB3JnA/2TVvEYnl5lLZX/ABBYehs47u34HbhwYt46EZrmIPGLXV4tvBp0jfvNrNv+6M4z0rooT/oMf/XMfyrmPBiAx3zFefNxnFejXqVXVpxg7Xvc4qMKfJOU1e1rfMtXfizybqWGzspLkQf6x92APWqGt+J5pdJgk0/zYRKx3SqRlCOxrFeCKx1C6i1L7Um9yVMP8QzWjeWsX/CFq9gk3l+dvIlHPHFeTLEYqrGavY9FYehTlB2vt6GpH4olttFjubq1kJ3iPJbl+M7qv6hr62MlmhhZ/tRGCGxtz/8ArrndQvP7W8IRNbRMRayKkn/fPX6VWvdU/tK70sR28iJE6oXboTkcCtZY2rTjy3vorfqZfVYy95q2rv8Aob1/4u+w6hNaLaPKyY2kN1OAf60XXjD7NKkRsZHd4wwCv3PbpVWyj3fEC53Lwqdx/sLS3CZ+IEOVyNvp/smtFXxLi3zbytsL2VC6Tj9m+5qaJ4iXV5ZYWgeCaIZKFs5rbU5rkNJB/wCE6vhjACn+ldcOBXpYOrKdL3902jhxUIwqWhs0mYuseIv7Nu0tYLWS4nddwVTgY+v4U/8A4SBItH+3XdvJAc7fKPUmsTxc9kNQUTieK4WMFJkGQeTx9ap3EOoX3g+OaRZJDFMWHByUwRn9a86rjK8K84rXTQ64YelKnCT011Nuz8WebdRQ3tnJbLMcRSMeG9KS/wDF62189va2ct15X+tZWxt9eO9c9ZDT7m8tEZr2ScOuAxBUGrEV7/Yes6glzbu7TM2wYHIJ461zxxmI5E3LS++/Q3eFo8z5Vrbb5m3B4qFxpl1efZmVbdgAu/7wP4cVPd+I/sui22o/ZywnYLs3dM5/wrmNMjefwzqyxLl9wYKOpwc1XvNW+1+H7Oxjt5CbdgXfHAxmhZhW9ndy3WnrcbwVN1LJaJ6+ljrdR8SrZtBFBbyXFxOu9Y0PQU2y8Ux3NtctLA0M9uu5oi2SRXPa5A0GqWc84mW2eFF8yPqDjpTrJLBrfUZLMXLSLCQXmHWr+u4hVWuxDw1BUk9zRHjjfGsqWMhhBw77vun06c1qX/iK3sLCG42vKZ13RopGTXOCPb8Pcgc+ZyQOvz0mowSxWOj3vlM8MKgtgdMEGj61ioQbbu7J7bCeHoTklFW1a330Ny38VDybh760ltjCoYAnO7PQVFB4yzdRJeWEttFMR5chbOc+2KoanqbeINLmFjaSYhw7N1z7cVm2f9m3Jtkla9ebI+TqqnP6UPF11NRjO69Nxxw1H2blOOvbsdNe+KzDqLWdnYyXToMsQ2OPbg+tT3Pia3so4TeQXEbypu2hM7a5rX5LNb+Z7Vri3vIyBgDIk6VsraazfadayrcJE3l/MHQEk1tTxOKlOcU7tbWRlKhRUYS2T7luDxPaX5eG2WdX8tmyyYAwK5PRrO11BJXv9VktXWTCjzMZHrzXS2+napB5jXlzFJH5bfKqY5xWV4U0e01G1uGvYBI0cm1c+mM1lV9vVqwU1rrvp+RpD2VKlNxemm2v5m1fazJphhtbS0nvW8sEEHqOmcge1UbrXhq/h/UYzA8E0SgMjHPeqnia6uLbWYIZHlhsRGApiHJrOsARZauwB/1Skbup+bvUVsXV9rKmr21/IulhqbpRqddPzNnTNcXSPCtgDE0ssm4IgOM/Ma17LW3lspri/tZLQwDLq3ORjsa5ctZ/8Ixpq3iyKx37JIx907jxTtP/ALR1HQNRjXzZYlA8ksOW9QPyp0sTWptRWq5dF8upNShSmnLZ82r+Zq/8JltlR5LCaO1c4WUn/P8AOunjcOgZTkEZBrzKA2DQLDeSX/mqcGNcFc+tdkusLa6xa6RHCcNGMPu6cen4V1YLGTleVZ6afeYYrDRjK1JbXN6ikFLXtnmBRRRQAUUUUAFFFFABRRRQAUUUUAFFFFABRRRQAUUUUAFFFFABRRRQAUUUUAFFFFABRRRQAUUUUAFFFFABRRRQAUUUUAFFFFABRRRQAUUUUAFFFFABRRRQAUUUUAFFFFABRRRQAUUUUAFFFFABRRRQAUUUUAFFFFABRRRQAUUUUAFFFFABRRRQAUUUUAFFFFABRRRQAUUUUAFFFFABRRRQAUUUUAFFFFABRRRQAUUUUAFFFFABRRRQAUUUUAFFFFABRRRQAUUUUAFGKM0ZoAMUYHpRRkUtAEwKQopOdoz64qhrOrx6RZi4kRpAWC4TrVyCZZoUkXgMARms1Ug58i3L5ZKPN0JAAO1G0Bs45paM1pZMi4x41fG4A49qXA6U6s/V9TTSbFrmVGcAgYXryaicowi5S26lRjKbUYl0Iq/dAH0FG0Z6VjSeJIIrqxiaKTN5t2njC5PetvpUU506l+QqVOcPiQm0elG2lzQDWySRFxMUbR6UbgehqC9vY7GzkuZcmOMZJFS3FasFduyMzUNK1Ke8aS01N4IiBiMKOOKS00nVIrmN59VeWNTlkKfeq1a65aXOnR3ryeTE5IHmcc5xWirBlBUggjINccKNKpLnUn9/6HQ6tSMeRr8BoiVfuqB9BQUB+8AfqKfn1orr5Ujnuxm3jGOKyNd0Q6qsHluI/Jbd061s5BpampRhVjyyV0VGo4vmiMWNTgEA4GOaeFC9AB9KTIFOzWiikiL3E2j0oxRketAYHpT03QBikKKTkqCfXFRXF7bWm37TMke44XcetTBgehqbxbsOzWohQNwwyPQ0oUKMAAD2o3Ad6XNO0RDQMGjHNNmuIreFpZ5FjjXqzHAFJFPFPCssMiujjKsDwaE0nbqFna/QkxmjFKKKoBMU0KPSn0VPKguN20nljnAHTHSn0U2kwWhl6XosGlPK6M0kspy8j9TWmOBSmkqYQjBWiipSlOXNJi0UUVZIUUUUAFFFFABRRRQAUUUUAFFFFABRRRQAUUUUAFFFFABRRRQAUUUUAFFFFABRRRQAUUUUAFFFFABRRRQAUUUUAFFFFABRRRQAUUUUAFFFFABRRRQAUUUUAFFFFABRRRQAUUUUAFFFFABRRRQAUYFFJketABigj1o3D1pGb5cjmlsAuBQUB6gflWXputxaleXNvFG6tbnBJ6Hkj+lagNZwnCqrrUqUZQdpBtAowBQSAOTVeC+trtXNrMkuw4baehpvlWgtXsWMUYFZek63Hqr3CxRshgfadw6+9aYb14pU6kKkeaDKnGUJcstxCit95QfqKcFGMDGPSjOagvbtbGyluZFJWNdxC9TTfLBOTErt2RKEQfdVR9BShQOgA/Cqmm6guo2SXMalVc8A1cyKIShKKlHVMJKUW0+gYpNtLmoWvLdbpbYzIJmGRHnk1TlFbiV3sQ6jbz3Fm0dpP5Ep6PjOKxv7B1r/AKDT/wDfNdLQDXPVw0Ksru/3mlOtKGit9xU0+0mgs0jvZvtMqk5kI9+Kt4oLAdTVPVdSj0rT5LuVS6pj5V6nJxWj5KMLvZE+9OVluy1sTdnaM+uKGRW+8oP1FZD+JIEaxBici8xtxjjJxzWyGyPSppzpVb8mpU4ThbmMfRdD/snzy0vmec27GMY61qhADwAPwp+Qe9HB6VVOlCnHkitCalSdSXNJibQRgjI96UKqjAUAewpagvLlbOzkuJPuxruOBVvlirslJvRE2BS4rMs9cs7nT1vHbyImYqDJxzWisiOgdGBVhkEd6UakJ/CxyhKPxIBGq/dAH0FGxeu0Z9cU7IoqrIV2R7BnOP0p4oOKMg0WC4UbQOgxRkHpQTT2EGBRtFGRRnFJ2uAFARggEemKAoAwBgfSobi8t7QKbmZYwxwu44yamDArkHj1pXi3ZDs7XEKDOQB+VZsGiQQapLfks88nQt/CPatPIxRuFJ04yabWxUZyimk9xAKdUck8cMLSyuERRlmPaiGeK4iEkDh0bow71XMr8vUmztckoooqhBRRRQAUUUUAFFFFABRRRQAUUUUAFFFFABRRRQAUUUUAFFFFABRRRQAUUUUAFFFFABRRRQAUUUUAFFFFABRRRQAUUUUAFFFFABRRRQAUUUUAFFFFABRRRQAUUUUAFFFFABRRRQAUUUUAFFFFABRRRQAUUUUAFFFFABRRRQAUUUUAFFFFABRRRQAUUUUAFFFFABRRRQAUUUUAFFFFABRRRQAUUUUAFFFFABRRRQAUUUUAFFFFABRRRQAUUUUAFFFFABQaKKAOS8UatPBqcNlFObZGXc8qjJFQ6JrF7JeXNk139ojEZaO4dcY46mtDxDoVxfXUN5YOguIhja/QiorbSdVlinjvnt0WSIoBEOh/KvnqlPErESava+np2PWjOh7BLS/X/MwrjVruyIkh1r7VPuG6EKdo/HpWtqeqX15qFnp9jMbczRqzOPUjJqkfCGrNbi3BtViU7gQeSfc4rT1Lw9ftcWd3p0scdxBGqMGJwcDGelc8aeM5ZXTtp/wbHRKWGvGzV9dfyKGvWl9aaA0d/ci5/fp5b98c9c1Atzq+kSWE9zdl45iqiNegGemPoa1LvRdZv9Hkgu7iGSdpQ6ckKoHbpVjVdAur210+OIxhrYgvuYjOMdOK1lhqvP7SCaslb7zONeCgoTaer/I27m5FtYy3DZIRC+PwrkNOOu6sH1GG+EYV8LEx+UjPPSuwmtxPaPBJ9102n8q5e10HXrJWt7W5gS3Z92c8jn0xXdi41ZVIOza8u5yYZ01CSdk/PsZt/rt3d6ldRm/ayjhJWMKpO8g47dKWfVLjU/A8rXDb5Ipgu/GNw6itKXw1qNrqM1xp7W7rNyRJ1B6mrF1oOoXfh2S0leD7Q8gYbflUAduBXmxo4v31K7umd0quGTi4Wsmv+CZF0m7U/D+R2j/9CrsdUu2sdLnuUGWjXIHqaxZfD1499pMytFtswnmZY84OTjit2/tBfWE1s5wJFxn0r0cLRqwp1NLPp9xx4irTnOHZb/eefnXr1IRdJqbmbdzb+Xxj69K09R1LUbjVrGGynaJriBW25+UE55p1t4d1qzjMERtXQE4kfr1+laM2hXcviSyvw0XlQxhXGSCSM9Bj3rz6dDFOFpXvdHZOph4zvG2z/wCAYcE+ty6jcaVFfMGj+ZpCeePQ/jVmx1O9n8O6kl1LukgBAY81qWehXUHia7v3aPyZlIUBju7dRj2qvb+G72Kx1GFmh3XJJjwx4578VUcNiI+8r31W/ToQ69GSs7dOn3mDqBupvDFncyTErvdSuOp3HmtHUZ9U0nRbY/bGcSvhpAvKLjgVek8NXUnhmKwLRmeORn4Y7Tknvj3pTp/iH+zEiMlq7q+GRuVKYGOcdev51Kw9anzOz1SG61OSirqybJvDTmRJG/tP7cpwRuXDL7daXxJNPEsQTUo7KJs7jjLn6U3w3oFxpc1xPdtHvmwAkfQCk8Q6Dc6leQXFoY90QxtkPFdzVZYOyj73Y5f3TxPxe73M7QNYuWv7qza9a7jWJmSVhg5H61QgutcvNLubqO/dYrViW+blsckVs6Z4e1C31OW6u2gPmRFf3ZPUj0xUmm+H7q08PahZStGZbgsUKscDIwM8VxU6GKcVGV1a/wDwDrlUw8G3G3T/AIJoeHryS/0eKa4OXOQT64rHv7vUdU8Qy6dY3BtY4By47nGa2tCsJdN0lLacqZFJJ2nIrL1HQ9RTWW1DSJo0aT76v9MV3V413h6ejvpe25y03RVebVutr7FOw1bUIhqNjdS75LaNismecjH+NPGp3n/CBNdee/2jfgSZ5+9irOm+HJ447ybUZVe6ulKnb0APf+VZ7eF9aNh9gW5hFsG3Abj8xznniuOMcXBWs2mml5drnTfDze6Wq/4JT11by4tdMuXuW/eqAoP8LetX9Yn1TTIbGBbwvNKzZbHXnjNW9R8PXtzo9jDC8QuLbrknaf0rN8RR3yxaal46favMYBkPA5GKwqU61BTk09UtfzNYTp1HCKto3/wB8F3q2ka9b291eG4SfGQxyBnir2g6ld3F7qizTM4i+4Cfu/eHFR2WgalPqsF5qs8TrFjAQ5Jx07Uj+HNVttQupNNuYo4rg/MWPIH0x7mt6ccVBKSTavt1tYym6E7xbV7b9L3Mtrm+1DwvPNNdOyxP84PO4HHH510HhG3ul0pJprnfBIo8qPH3ais/DdzD4fvLCV4/MmOUZTkfjRY6XrtrpEloJ4Y2UAQlTnHPPOKqhSrQqqpOLfu/iTVq050pU4tL3vwOpyKKp6bDcQ2EKXjiSdV+dgc5NXa+gjLminax48kk7IKKKMVQgooFFIANFFFMAooooAKKKKACiiigAooooAKKKKACiiigAooooAKKKKACiiigAooooAKKKKACiiigAooooAKKKKACiiigAooooAKKKKACiiigAooooAKKKKACiiigAooooAKKKKACiiigAooooAKKKKACiiigAooooAqahdmy02e5xkxIWx9BXG/adam0mTVxfFUV/wDVD0z/AJ4rtb20W+spbaQ4WRSpIrk/+Eb1xbE6eLiH7KzckHkDP0rx8fTrSqJxva3Tuejg3TjF8zV79exHfa9fS2Omy20rQvOSrAdCc4p9neanpniWGz1C5a4WZckE5xnOKt3fha4MOnRWjxlbVtzlyRnnJxxVi+0K7uPE9vqCNH5MaAMCx3d+2PeuT2OLb53fRr/gnR7Why8qtZp+vkYmmrO7a4bKVo5hhlZevBJxSyeJbp/DcSQysLxnKEjrxW5ouiXGnX17NOYyk7ArtJJxk9ePeufsNMSfxpJEh3QwymQj6dvzrOSr0Yx5dHJtfjuXCVGcpc2tkn+Gx10tvcy6EYjMVuDGMyY5z3rk/CVtdm6mkjuMQxv+8T+8eea70jKkeorltK0LVtL1JtskLWcj5bB+YivQxOHl7anNJuxx0KyVOcW0rmBpsOpStqElhc+QkblnwcFsHOAa0X8TXcfhZZg2bhpDHvI6D1+taulaDdWMOoLM0ZNwW2bWJxn14qmnhOdtBNpNIizrIXQqcj+VedTw+JpQXJe7Tud1Svh6k/etZNfdbUzrLXbq31O1Av3vElIWVGQqFJ7DP866zxAw/wCEfu/+uR/lWVYabrcNxCJxaLFGRuZRlmA/CtvVLV73Sp7eIgPIhUFjxmu3C0qyoTU73ff0OOvKn7aLjbTt6nLQTTp4Vs/Ivls0LEO5649qTRNWuRrn2Vb1r23ZSQzKRz+PNTXPhW+k0mziili863JLKT8rc5649ql07w/qMOsx3lx5CqqkEIenHHGK5PZ4qM4JJpKx1OWHcJttNu//AADMttSvL3UX+06rJaSh8CFk+XHp7Ul5Z3reLxAt7++k5WUD7owTir9z4e1m/uEF41tsVsmVPvEflVnVdA1BtVivtKkjDooXLnGCAR6ehrN4evJPmi3Zr5jValF+60rp9jfZ2tbEvM28xR5ZvXA5Ncjpr69rUUl7DfrFtfCxY447V2HktNYiK5wWaPbJjoTjmuWttA17Td0FldRfZ3bO7PI/DFeriY1JTirPl8jiw7hySu0peZW1fWrqXVpLVr42cEI2kopJZvwFQS6ncX/hO/iun8wwugVz1YFh/wDXrVvfDmoJqj3unPCxk5dZT3/KpZtH1S80G4tbk26zyOhQLwoAIPYe1eb7LFSc1K+z+Z2e0oRjDlt09V3Mm4wH8PD/AK5/+hCuw1C6az02W4UAmNCcetYk3h28kk0tgYv9E2+Zljzg544reu7Rbuzkt3JCyKVOK7sJSrQjUVrN2t9xx4ipCUoW1Svf7zgBrt+8P2z+1JPP3cW6oduM/l6+taWoarqVxqFglhcNE1xCOO2Tnkin23h/XLBTDbm0liz8pccgflV+fQryXXNPvA0Xl26KJBnBJGc4GPeuGnSxLhZ3vdHbKph4zurNWf8AwDFt5dbOqzaUt8xf7zSN2+h61a0vVL6TSNThupd724IVjyQea1oNFuIvFEuosY/JdcABvm6Dtiq1r4dvII9UVmi/0skx4Y8devFaxoYiLveXX7uhnOtRnG2nT7+pg3puLjwpbXMk5K72RkxjJ3HB/DkfjV25l1TR/D0BFy8omYHcF/1a7eBWgfDV03hZNPZoxOsm8HOV6n296VdM8QLpscBmtXZDja3KsuMYPFZRw1aMnJJ3aWpftqbSjdWTe5N4Xn89ZSdTN6pAIDKVKVJ4kluEihEWorYxsTuYjLH6VD4e0C50y7uLm8MW6XgJFnAFP8RaLdalNbT2TR74c5WToc4/wrukq/1O1nzHI/ZfWrp6GT4f1e6fWJbR7w3UBjZkcrg5/Hn1qpBc63fWl3cxXrLFalmY5wTgZx9K1tK0DUINYN7d+QMxspCH16cYqbTNBu7PR9StZTF5l0GCbWOOVxzxXHTo4iUYqV1v/wAA65VqMHJxs3p/wS94bvpdQ0WOW4bfICVZvXFZOpX+oaj4hfSrK4+zLGOXXgngGtnw7p02l6ULe5KF95b5Dkc1m6loF+dbOo6VLEjuPmEh79P6Cu2rGu8NTVnfS66nJB0VXm9La27FKx1PUbebUtOu7jzWt4GZJM/MCMd/xp9rqd4/gee7e4YzrIQHzyBuFWtO8N3Mcl1cajKr3FyhQlDwAf8A9QrN/wCEX1tLOSyS4hNuxJA3Yz+lcfLioR+F2aa9Ox1L6tJ2ulqn/mUdXN5caTplzNcM4lUDBPRsn5qv6pPqekaXYxLeNJK8jZbHbsDV698OXU/h+ytEeMT23Oc/Kay9fhv4rKwjv5EafzGwUPA6YrGdOrQjKVndpf8ABNYThU5Yprd/8AmW91fSNZtYr+589Ljblc9MnH6Ve0PUrq413UoZ5meOLOxSeF5NQ2ugape6pBdavPG0cOCgQ8nHIpZvDmq2+q3Fxpc8ax3AwxJwRWkFioxUop2vt12MJ+xk+VtXtv03Mxbm/wBQ8N3jyXUjeVJlgT95cdK3PB9teJYieW4327rhIv7nPWmad4ZurXRL2zmlj8yf7jA5/On6ZpOtWWlz2kk8I+QiAox+Vs59K0oUqsK0KtSLbt+NwrVKcqMqcGlr+FjpaWqGjwXtvYhNSlEs2Tlgc8Vfr36cnON2rHjyVnYKKKKsQUUUUAFFFFABRRRQAUUUUAFFFFABRRRQAUUUUAFFFFABRRRQAUUUUAFFFFABRRRQAUUUUAFFFFABRRRQAUUUUAFFFFABRRRQAUUUUAFFFFABRRRQAUUUUAFFFFABRRRQAUUUUAFFFFABRRRQAUUUUAFFFFABRRRQAUUUUAFFFFABRRRQAUUUUAFFFFABRRRQAUUUUAFFFFABRRRQAUUUUAFFFFABRRRQAUUUUAFFFFABRRRQAUUUUAFFFFABRRRQAhGaTbTqKAE6UHmlooAbtpwoooAM0UUUAFFFFABRRRQAUUUUAFFFFABRRQTigBMUtc/r/iu20j9zDtnujwEB+77n0rdR96KfUZqIzjJtJ7FypyjFSa3HYoxS0VZAmKNtLRQA3FGKdRQO4mKr3NhbXkkb3ESyNGcpuGcGrNFTKKkrME2tUN246UuKWinYQmKMUtFFgExiloopgFFFFABRRRQAUUUUAFFFFABRRRQAUUUUAFFFFABRRRQAUUUUAFFFFABRRRQAUUUUAFFFFABRRRQAUUUUAFFFFABRRRQAUUUUAFFFFABRRRQAUUUUAFFFFABRRRQAUUUUAFFFFABRRRQAUUUUAFFFFABRRRQAUUUUAFFFFABRRRQAUUUUgExVWHTre3neaCJEkk+8wHJq3RS5U3djUmthBwKWiiqEBpMUtFLcBuKWlopgJijFLR3pWATFGKWiiwBRRSGiwC4orK1vX7TRbYtOwaUj5Ih1arGkXx1HSoLp0CNKu4qO1ZqcHLlvqaOnNR5mtC7SYpaK1MwooooAMUYoooAMUYoooATFGKWilYBMUYpaKLAGKKKKYBijFFFAARVa60+2vNhuYVkMZyu4dDVmipcVJWY02thqrgU6iimIKKKKACiiimAUUUUAFFFFABRRRQAUUUUAFFFFABRRRQAUUUUAFFFFABRRRQAUUUUAFFFFABRRRQAUUUUAFFFFABRRRQAUUUUAFFFFABRRRQAUUUUAFFFFABRRRQAUUUUAFFFFABRRRQAUUUUAFFFFABRRRQAUUUUAFFFFABRRRQAUUUUAFFFFABRRRQAUUUUAFFFFABRRRQAUUUUAFFFFABRRRQAUUUUAFFFFABRRRQAUUUUAFFFFABRRRQAUUUUAFFFFABRRRQAUUUUAFFFFABRRRQAUUUUAFFFFABRRRQAUUUUAFFFFABRRRQAVj+I01R9NYaMUEv8AFk4bH+z2z9a2Ky9fv/sOmN5XNxMfKhUd2P8AnNZVknB3NKV1NWPIpY5hcP8AaNxkyQxbkk17Zbj/AEePH90fyrLttAsv7KitLqFZSoyzN1LHqc1sIoRQq8ADArkweGdG8m9zuxuLjiOVRVrC0UUV6B5oUUUUAFFFFABRRRQAUUUUAFFFFABRRRQAUUUUAFFFFABRRRQAUUUUAFFFFABRRRQAUUUUAFFFFABRRRQAUUUUAFFFFABRRRQAUUUUAFFFFABRRRQAUUUUAFFFFABRRRQAUUUUAFFFFABRRRQAUUUUAFFFFABRRRQAUUUUAFFFFABRRRQAUUUUAFFFFABRRRQAUUUUAFFFFABRRRQAUUUUAFFFFABRRRQAYooooAMUUUUAFFFFABVXUftf2GT+z/L+0Y+TzM4q1Ve/u47GxluZj8sakn39qmduV3Kj8SPG9XS/XUpxqhdrgH5i3Ydvwr1Twt/yLNj/ANchUOjaOkumyzanGss96/myBx90Hov4Cti0tYbO1SC3TZFGMKvoK8/DYXkftL7no4vFKrBU0tiWlFJS16R5gUUUUAFFFFABRRRQAUUUUAFFFFABRRRQAUUUUAFFFFABRRRQAUUUUAFFFFABRRRQAUUUUAFFFFABRRRQAUUUUAFFFFABRRRQAUUUUAFFFFABRRRQAUUUUAFFFFABRRRQAUUUUAFFFFABRRRQAUUUUAFFFFABRRRQAUUUUAFFFFABRRRQAUUUUAFFFFABRRRQAUUUUAFFFFABRRRQAUUUUAFFFFABRRRQAUUUUAFFFFABRRRQAUUUUAFFFFABRRRQAUUUUAFFFFABRRRQAUUUUAFFFFABRRRQAUUUUAFFFFABRRRQAUUUUAFFFFABRRRQAUUUUAFFFFABRRRQAUUUUAFFFFABRRRQAUUUUAFFFFACZ5rnof8AideJmuAc2unZSPjhpCPmP4Voa5fGw02R4gTPJ+7iHqx6U7RdOXTdMigzukAzI3qx5J/OsJe9PlRtC8IOXfRF4ClFLjFMeVIxl2AHua1lJRV2zFJj80VUfU7NPvTp+dQnWrTonmP/ALqE1i8TRX2kX7OfY0c0maz/AO10b7ltcN/wA0h1Kcn5bGYj6VP1yj0f4MfspmjmlrNGoXX8NhJ+dL/aF3/0D5P++hS+uUvP7mHspI0aKz/7RmH3rKYfhmmnWIl/1kMy/wDADR9co9/wY/ZTNKis9Nbsm4Muw+jqRQ+t2KD/AF4Y+i80/rlBbzQvZT7GhRWaNVeX/j3s5nHYkYpPtWpyNhLNUHq75pfW6b+G79EHs5dTTorNC6s3V4EH+6T/AFprWmqOf+P9U9liFH1mX8jDkXdGpmkyKy/sGonrqZ/79Cj+z9R7amfxiFHtan8jFyruauaKy/sWpr01AN7GIUbdXTo8D/VSP60fWJR3gxqCfVGpRWWbrUoiPMtFcdyj/wBKf/anl/8AHxbTIOxCE0LGUvtXXqg9nLoaNFU4tTs5iAk659GOCKthgRwcit41YS+F3Iaa3FooorQQUUUUAFFFFABRRRQAUUUUAFFFFABRRRQAUUUUAFFFFABRRRQAUUUUAFFFFABRRRQAUUUUAFFFFABRRRQAUUUUAFFFFABRRRQAUUUUAFFFFABRRRQAUUUUAFFFFABRRRQAUUUUAFFFFABRRRQAUUUUAFFFFABRRRQAUUUUAFFFFABRRRQAUUUUAGa5/V/+Jpq1tpiHMUZE1x9B90fia2b26Sys5bibOyNSzY9qyvDds4tHv7pSLm9bzWz/AAqfuj8sVhUvJqCN6dopzfyNpAAoA7cU6kHFLWyWhgFFFFMAooooAKKKKACiiigAooooAKKKKACiiigAooooAKKKKACiiigAooooAKKKKACiiigAooooAKKKKACiiigAooooAKKKKACiiigAooooAKKKKACiiigAooooAKKKKACiiigAooooAKKKKACiiigAooooAKKKKACiiigAooooAKKKKACiiigAooooAKKKKACiiigAooooAKKKKACiiigAooooAKKKKACiiigAooooAKKKKACiiigAooooAKKKKACiiigAooooAKKKKACiiigAooooAKKKKACiiigAooooAKKKKACiiigAooooAKKKKACiiigAooooAKKM0UAFFGajkuIolzJIqj3bFTKUY7sdmySis+TWrJHCrMJGPZAW/lTTqrN/x72c8npldoNYPFUV9opU5PoaVGazRc6jKMpapH7O9Js1V/8AlrDGPTbms/ra6Rb+Q/ZvqzTorL+zX5+/fKv+6mKcbGVh81/Jj1BFL61N7Qf3ofJHuaWaMj1rIk0+GOMvNfzBRySZMVQ2pM22xN3OP7/mEKPxrGpjpU94/iilST1udNketQXF3DbLumkVR7msaDQ7hubi9kCn+BXJx+NT/wBgwKxcyybs5yWpfWsTOHNCnb1Y1TpX1kSS6pFKQILaS5I5B24UH6ml36rOD+7itlPq28j+lQtALYEtqrRgdAxWqp1GaMjyL37Rk8DySc/lXJ7ee9dv5W/4cvljtH8bmj/Z08nM99KfURjaKcNFsx95WcnruYmqcOoamw/48Sw9SNufwon1PU0IH2AqPUDd/KtFVwijzODfqm/zB06q6r70akdhaxfchQf8BFThEHRVH0Fc/FqU00myS+ihb+60ZX+dXVtbmQZ/tF8dtiiuilioTX7qH5Ih0mviZqYFHFZbWEgUmW/mwOSSQOKoyhJTssZbm5f1D/KPxp1MXOmtaf4oSpp7M6Ike1U7jVLS1JE0qhuyjJJ/AVm2+iTtzd3cnP8AAjnA/Gp10G2Rt0TSK3qGpSrYupC9Onb1YctNOzkOGo3d5/x5WRVezznb+lL/AGfeXBzd3m3/AGIRih7AxfMuozRY6lmBH61TlvJYH/damspB6bNxP5VyymlriU381+SLS/kNCLR7SMklPMY9S5zTn0qzccwKPpVCHVtQZgP7PeQf3gpX+dE2s30LDfYGNO7PkgflVxr4Ll+DT/CP2da+/wCJbGkLH/x73E0P0fI/WkMWpwHKSw3I7hxsP51FDc316m6C7tR3wo3f1qX7Ffv9/UGA/wBhBRH2ctaMH8tPwJ1+00INWkjOLy0mhx/EPnX8xV23vYLgDypVaqZ0uViPM1CdsDGOBmo/+Eetw+8SSb/72ea2jLGQlpG682v0Bxovqa+aM1gXOj3aNugu5ZB/caQj9ajRYoyEu5bu3cjqzkr+dP67Vi7Tp2+ZPso2upHR5orMGnSbQ0N/L+JBFAt9RU/JdxsP9pK2jiam7pv8GRyR7mnRgd+azPtOpxE+ZaJMo7xvg/rTl1iFeLqOS3I/56LgfnVrFUno9PVC5JdC3NZ286kSQo2faqn9kqn/AB7TSwf7rZH5GrkNzDOgeGRXU9wwNS5puhRqu7SBSlEzSdTth/yzugPT5Sf6UQ6xAziO4V7aT+7KuM/Q960qjlhSdCkiBlPYipdGrD+HL5MfNF7oerhgCpBHqKdWadK8jLWU7w/7Gcr+VIt/NbNtv4Sq9pU5U/4ULEOOlZW/IHC6913NOio4pUmQPGwZT3BqSutSUldGeoUUUUwCiiigAooooAKKKKACiiigAooooAKKKKACiiigAooooAKKKKACiiigAooooAKKKKACiiigAooooAKKKKACiiigAooooAKKKKACiiigAooooAKKKKACiiigAooooAKKKKACiiigAooooAKKKKACiiigAooooAKKKKACiiigBrxrIpWRQynqDShQAABgDgUtFABRRRQAUUUUAFFFFABRRRQAUUUUAFFFFABRRRQAUUUUAFFFFABRRRQAUUUUAFFFFABRRRQAUUUUAFFFFABRRRQAUUUUAFFFFABRRRQAUUUUAFFFFABRRRQAUUUUAFFFFABRRRQAUUUUAFFFFABRRRQAUUUUAFFFFABRRRQAUUUUAFFFFABRRRQAUUUUAFFFFABRRRQAUUUUAFFFFABRRRQAUUUUAFFFFABRRRQAUUUUAFFFFABRRRQAUUUUAFFFFABRRRQAUUUUAFFFFABRRRQAUUUUAFFFFABRRRQAUUUUAFFFFABRRRQAUUZooAKKSigBaKKTNAC0UmahuLuC2TdPIqD3PWplKMFzSdkNJt2RNmmvIqLlmAHqTWLc627jbaLsB6PIMn8B1qutveXTB3ikuGP8Ux2KPoorzJ5jFvlormN1Qe8nY1ZNYtg5SMmZwcFUGagk1C8YfJFFAv8Aemf+gpI9KneILPceVj+G3UKB+PWp4tHtI+TH5jesh3fzqLYyt5L+vUP3UdDOknDs3najI4/55264x+NLFDAzZh02aY45eU5/nW4sSKoCooA7AU/FXHAveb/r53B1klZIy0W+2hYrS3hUdBn/AAFPNvqj/euoVH+zH/jWjilreODj1k/vM/aPsZn9m3jff1CT6KoFL/YwI+e9u29f3uK0xVS9v0tFUAF5H4WNeppToUKUXKY1Um9inJpFlGpeaWbA6l5jVA2VvduF0+3ZxnBlkZto/wAamldJJVk1Vw8n8NrHzj6jvVoHULobY0Szi7HqxH06CvOcadR8sY28lv8A8A2vJbv/ACK6aHYW0e6+nZ2HdnxiojFZs2NP+1S44zE5wK04dGtk+abdcP1LSnP/ANarqRpGuEUKPQDFdH1BSWkVH8WJ1td7mDDYaszZW5eFOwdt5p0+laixBe784f3MlQfyreFB5q/7NpOPK2/vJ+sSvsjBt4IrQ/vdLwVH31+fH51oW1/ZSfJG6qR/AeMVdxVe4sbe64miVvfHIrSOGnR+BprzRPPGW5YyCMUYrNGn3Vt/x5XJKj/lnNyPz60q6m8D7L+Ewn++OVP49q0+spO1WLj+X3k+zv8AC7luW3hmTE0aSD/aUGsa6trOCQx2QkFyeQsLkfn2FWpr2W8kMViwSNf9ZOR0HoPeo4bi3tf3WnQm4lY4Z/U+5rjrVKVbSH3/AORrBTj/AF+ZXbTtTmiDXLrOg58pmxn2zU8es21mPKng8kr0CYI/Sp/sF1d831xtT/nlEMD8TVqGwt7dNkUSgfTOazhhq0Zc1HT11f3f8EcqkbWnr6FMapPdpnT7fcD0eRsCni0vZ8G6vDH6rCMfr1p0ukQs2+3H2eQdGj4/TpUazahZj/So1uEH8cfBH4VtyVE74i79NvuRN01en+JKmjWe4NKrTOP4pXLVcjtYIlAjiRQOyqBUdveQXK5icH1B4I/CrIrtp06DV4JGUpS6gKa4yMGnUV02VrEFKbSrSdg7Qqrg/eXg/pUBsru2/wCPS4Lr/cl5/WtSjFc88LTl0s/ItVJLQzP7TMDBb6BoT/fHK/nV6OaOZd0bqw9Qae6KykMoYehFZ8uloMvZyNaydcxjg/UdKz/f09veX4jXK99C+RTZYkmj2SoGHoRWeuoz2jBNRi+Xp50eSD9R2rRjljlQNGwZT0INaRqwq+7+AnFrUz/7NltSTp0nljvG3Kn/AAp8WohZBHexmCQnjd90/Q1oA1HPBHcRlJkDKRjms/q7hrRdvLoNST+IkBB6Ux41kGHUMPcVnFLnTnHkkzWwHKHlk+h7j2q/bXUVzEJIWyD+lXTrRn7klZ9hSjb3lsVJdHtWfzIkaGQdGiO2oyNRtXypFzH/AHTwwrU6ijFDwsN4e76DjUa31KMGqQyP5cytbyf3ZBir2QRkdKjmt4rhCs0auD6iqBsrmxybCQvH1MMhz+RqOavSfvLmX4haMttDTHNIyh1wwyPQ1RtNUjmk8qdWgmH8EnGfoe9XwQelbwqQqxvHVENOL1M6XS/KkMunv5Eh+8vVW/CiDUts/wBnvV8mXsc/K30NaVQ3FtFcxlZkDD9axeH5HzUdPLoaKaatIl3ClrIMsukvibdLaE8OeSn1rUikWWMOhDK3II7itKVaM3y7NdCJRa16D6KKK6CQooooAKKKKACiiigAooooAKKKKACiiigAooooAKKKKACiiigAooooAKKKKACiiigAooooAKKKKACiiigAooooAKKKKACiiigAooooAKKM0ZoAKKM0ZoAKKM0UAFFGaM0AFFGaKACijNGaACijNGaACijNGaACiijNABRRmjNABRRRmgAoozRmgAoozRmgAoozRQAUUZpKAFooooAKKKKACiiigAooooAKKKKACiiigAooooAKKKKACiiigAooooAKKKKACiiigAooooAKKKKACiiigAooooAKKKKACiiigAooooAKKKKACiiigAooooAKKKKACiiigAooooAKKKKACiiigAooooAKKKKACiiigAooooAKKKKACiiigAooooAKKKKACiiigAooooAKKKKACiiigAooooAKKKKACiiigAooooAKKKKACiiigAooooAKKKKACiiigAooooAKKKKACiiigAooooAKKKKACiiigAooooAxPGGtTeHvCt5qltGkstuFKrJnBy4Xt9azRJ497Q6B/wB/Jv8A4mj4of8AJN9V/wB2P/0atdWg+UVqmlTTt1f6HNJSlVavbQ5XzPHv/PHw/wD9/Jv/AImjzPHv/PLw/wD9/Jv/AImuropcy7Fezf8AMzlPM8e/88vD/wD38m/+Jo8zx7/zy8P/APfyb/CurrM1W4kLR2dqdssp5b+6PWsK2IjShzOJUKMpO3Mzlp9c8ax3X2WO30SaTH/LJ5iAfTpUbaR46uXEsq6IXPJDTTZH5LXZafpkNhHhBuc8s7dSavAYHFc8YTrR/wBpin5dvxNXHkl+7kzjYLTxrb8xWnh1T3PmTEn9Knz49z/qvD2P+us//wATXV4o6120+SmrQgl8jFwk3dyZyufHn/PHw9/39m/+JpC3j0dIPDp/7az/APxNdXilq3U8kL2Xmzkt/j7/AJ9/Dv8A39n/APiaN/j8f8u/h3/v7P8A/E11tGKnn8h+y82cl5nj/wD59/Dv/f2f/wCJpfM8f/8APDw5/wB/Z/8A4musNJT5/IPZv+ZnGXepeObKIPNB4eOTgKss2T+lZ1qvjq9klmiTRtzH/XF5enovHT8K6h4P7V1hxIT5FsdpHZjWyiBFCqMKBwBXmwqSxU25QXItv8zolTjTgkpPmZxtrZ+NbQfu7fw8zHku0k5J/HFWw/j3/nj4e/7+zf8AxNdSRQOlehBxgrRivuMHByd3JnLl/HoH+p8Pf9/Zv/iab5nj7/nj4e/7+T//ABNdXS4qufyQvZv+ZnJ+Z4+/54+Hv+/k/wD8TR5nj7/nj4f/AO/k/wD8TXWYoxRzrsg9m/5mcn5nj7/nj4e/7+T/APxNHmePv+ePh/8A7+T/APxNdZijFHOuyD2b/mZym/x9/wA8fD3/AH9m/wDiaytV1HxmFa0nj0FSwydjzH8Oneu9llWGF5HOFRSxNYmkWf2p21C4GZHYlQe3vXDi68240acVeX5GtOileTk9DmI9L8cywh4otEgjOP3Pmzc49RirSXvjWGQW7WmgWzZ43tKA30IFd0OlQ3FtHcQmOVQVPanGkqMb0oq/p/VhtOek5M5pX8en/ll4ex6+ZNz+lN0/WfEMPiy10nXodNCXMEkqvZmQkbcdd2PWtYm60rnL3Fr37sg/qKyLqaOb4maI8Thg1jcEEH3WujD4hVrxlGzSehhVpunaSbaujrqQilop7mxRudLguGDqDFIOjocGoRd3OnsEvl8yL/nug6fUdq1Ka6BlIYAg9Qa5Z4e75qbs/wCtzRTdrS1FSRXUMhDKehFKDmsuW0lsXM9g3yfxwfwn6ehq5a3kd1Fuj7dQeoop125clRWYSjpzR2LNFIDS11EBSFc0tFICJkDKVYAg9QaoTac8DCXTmETA8ofutWpikIrKpSjU337lKTjqija6kkspgmUw3CjlG7+49avZyKq3djDdgeYoDr91xwy/Q1VhvZrKQQah8yE4Sfpn2PvWCqTpS5aruuj/AMy+WMleO/Y1CM1m3Nm8EhuLA7G6smflf8PWtEEEZByKCK3qU4VI+fRkxbiyC0vI7uPKZDDhlPUGrArMv7eWGT7ZZj94o+dP74/xq5bXCXNuksTZDDNRTqSUnTqb/mEo6cy2LFIaKXFdJBXurOG7j2zID6HuKoiS60w/vQbi1B4YfeQe/qK1u1NK5rmq0OaXPB2ZcZW0Y2KeOeNZImDKwyCKk61mTW0tm5nse/LQ9m+noas2d4l5Hvj4I4ZT1B9xRTq3fJPRhKNldbE7xhlIYAgjBBrKZJNImLx5ezY5ZR1j9x7VsdqY6hlIYAgjGCKdaipq8dGtmEJOOnQElV1DIcg8ginVkWxbTr/7I7FoZctET/Ce6/1rWHSnRqc8dd1uKcVF2QtLSUtbEhRRRTAKKKKACiiigAooooAKKKKACiiigAooooAKKKKACiiigAooooAKKKKACiiigAooooAKKKKACiiigAooooAKKKKACuMTW/Fep6tqkOi2+kfZ7G6Nvm6aUO2ADn5cjvXZHpXK+Dj/AMTfxP8A9hRv/QFrWnblk2tjCo3zRina4nmePv8Anh4e/wC/k/8AhR5nj7/nh4e/7+T/AOFdXRS512Q/ZvuzlN/j7/nh4e/7+T/4UeZ4+/54eHv+/k/+FdZijFLmXZB7N92cnv8AH3/PDw9/38n/AMKN/j7/AJ4eHv8Av5P/AIV1eKMU+ddkP2b7s5Tf4+/54+Hv+/k/+FHmePv+eHh7/v5P/hXV0uKOddkL2b7s5Pf4+/54+Hv+/k/+FG/x9/zw8Pf9/J/8K6vFLijnXZB7N92cn5nj7/nh4e/7+T/4UeZ4+/54eHv+/k/+FdZikxRzrsg9m+7OU3+Pv+eHh7/v5P8A4Ub/AB9/zw8Pf9/J/wDCusxSUc67IPZvuzlN/j7/AJ4eHv8Av5P/AIUeZ4+/54eHv+/k/wDhXWYpKOddkHs33Zym/wAff88PD3/fyf8Awo3+Pv8Anj4e/wC/k/8AhXWYpKOddkHs33ZynmePv+eHh7/v5P8A4Ub/AB9/zw8Pf9/J/wDCusxSYo512QezfdnKb/H3/PDw9/38n/wo8zx9/wA8PD3/AH8n/wAK6zFGKOddkHs33ZyfmePv+eHh7/v5P/hRv8ff88PD3/fyf/CurxS4o512QezfdnJ7/H3/ADw8Pf8Afyf/AAo3+Pv+eHh7/v5P/hXV0uKOddkHs33ZyfmePv8Anh4e/wC/k/8AhRv8ff8APDw9/wB/J/8ACurpcUc67IPZvuzk/M8ff88PD3/fyf8Awqpe6/4t0a80z+17bRmt72+itCbZpS67z1+bA6A121cj4/6+G/8AsO23/s1VFqTtYicZQjdSZ1wORS0i9BS1idC2CiiigYUUUUAFFFFABRRRQAUUUUAFFFFABRRRQAUUUUAFFFFABRRRQAUUUUAFFFFABRRRQAUUUUAFFFFABRRRQAUUUUAFFFFABRRRQAUUUUAFFFFABRRRQAUUUUAFFFFABRRRQAUUUUAFFFFABRRRQAUUUUAFFFFABRRRQAUUUUAFFFFABRRRQAUUUUAFFFFABRRmkz70ALRSZpaACiiigAooooAKKKKACiiigAooooAKKKKACiiigAooooAKKKKACiiigAooooAKKKKACiiigAooooAKKKKACiiigDkvih/yTjVf92P/ANGLXVp90VynxQ/5Jxqv+7H/AOjFrq0+6K0f8Ner/QwX8Z+i/U818TT+KtY+MQ8NaB4qk0Gzj0FNQby7GG43yfaHjP3xkcY79ulWf+EJ8f8A/RVLr/wSWv8AhSr/AMnLS/8AYop/6WNXoWKzNjzz/hCfH/8A0VS6/wDBJa/4U4+BvGjKpPxHk+0Kf+Pn+xoN5X+7jO3Hfpn3r0HFFTKMZbopNrY88/4Qfx//ANFUuv8AwSW1L/whHj7/AKKpdf8Agktf8K9CoqhHD/CjV9X1fwzqH/CQ6idSu7LVrqzFy0KRl0jbaPlQAD/69dxXn3wd/wCQD4g/7GTUP/Rteg0AFFFFABXkHhyPx3401PxRPa+P5tJttN8QXenQWyaVbzBY42BX5mAPRsc56da9frzn4P8A/M9f9jjqH/slAEn/AAhPxA/6Krc/+CO1/wAKP+EJ+IH/AEVW5/8ABHa/4V6FRQB5/J4H8a8G2+Iz2xIHmGPRYD5jd3O4nBPtgegFM/4Qjx9/0VS6/wDBJa/4V6HRUxioq0Rtt7nlHijQfiB4e8JatrSfE25nbT7OW5ER0a2UOUQttzjjOK9D8L3c+oeEdHvLt/MuLixgllfAG52jBJwOOp7Vl/Ez/klPir/sEXX/AKKarvgv/kQvD/8A2DLb/wBFLVCNuiiigArI8WXtxpvgvW76yk8q5tdPnmhkwDtdY2KnB4OCB1rXrB8d/wDJOvEf/YKuv/RTUAcR4a8P/EDX/Cmk6w/xOuYG1CyhujENFtWCGRA23OOcZxmtP/hCPH3/AEVS6/8ABJa/4VvfDn/klvhX/sDWf/olK6SgDz4eB/HRYC4+J088R+/E+i2wVx3UkYOD7EH3FN/4QbxyuVtvibPbRZO2KPRbcqg7AbsnA9ya9DoqeWPNzW1Hd2see/8ACEfED/oqt1/4JLWsTXovHXg3WPC8134+n1e11LXrbT57Z9Lt4QUfcW+ZRnomOMdeteu1538W/wDX+BP+xvsv/QZaoR6HtG3B6Vw2rwmw+JekyWMe4tZzsyHp1XOK7quR1Pn4paL/ANeFx/NaqFNSbfWz/IzqSsl6r8zp7W6ju4Q8R9iD1B9DU9ZV1bSW032yyHP/AC1iH8Y9frV+1uUuoFlj6EdD2rjo1JX9nU3/ADN5RVrrYm6UmaWjFdRAmKzL+zkjl+12HEw++naQf41qYpCM1lVpqpG3UqM3B3K1pdJd26yRcDoVPUH0q0Kym/0DVlYcQXBw3oG9a1azw9SUk4y3QSik7rZhRRikrpJFpKBS4oASop7eO4haKZA6MOQRU2KDUuKkrMFoZMbyaVIsVw5e2Y4SQ/wex9q1QQRkcimSxJNGY5VDKeoNZ9s0mn3f2Wd90Df6l2PI/wBmuNXw8rfZf4Gj97XqaZGazIv9B1MxDiGckqP7rVphgaz9WULbLOMBoXVgfxqsTH3VUW8RQWtn1NClpkbb41bGMjNOrqi7q5D0FoooqgGsM1n3Vm6S/arTiYfeHZx6VpUhFZ1KcZqzKjJxd0VrO8W7h3Y2uOGQ9VPpVnNZl/bvbyfbrQEuvMkY/jH+NXreVLiBZYjlWGaxozkn7Oe6/FDml8UdiHUbb7Rats4kT5kb0IpdPuRc2cb4wSvI9D3qyfun6VnaSPLku4T/AAS5HsCM1MvcrqS+1uUtYPyNKlpKWusyCiiimAUUUUAFFFFABRRRQAUUUUAFFFFABRRRQAUUUUAFFFFABRRRQAUUUUAFFFFABRRRQAUUUUAFFFFABRRRQAUUUUAIelcp4O/5C/if/sKN/wCgLXVnpXKeDf8AkL+KP+wo3/oC1rD4J/11MKn8SH9dCL4r65qPhr4Wa3q+iXP2W+tYkaGbYr7SZFU8MCDwT1FZq+CviAyA/wDC1bnkZ/5Adr/hTvjp/wAkR8R/9cY//RyV38f+qT/dFZG55/8A8IT8QP8Aoqtz/wCCO1/wo/4Qn4gf9FVuf/BHa/4V6FRQB57/AMIT8QP+iq3P/gjtf8KP+EJ+IH/RVbn/AMEdr/hXoVFAHlKv4y8L/FbwjpGr+NJddsNZF750L6dBBt8mHcvKDPVgeo6V6tXnPjT/AJLf8Nfpqv8A6TLXo1ABRRRQAV5/8SNQ19fEnhLRfDmuPop1e5uI57hLaOc4SLePlcEdR7da9Arz7x3/AMlQ+HP/AF/Xn/pM1ACf8IR4+/6Kpdf+CS1/wo/4Qjx9/wBFUuv/AASWv+FehUUAee/8IR4+/wCiqXX/AIJLX/Cj/hCPH3/RVLr/AMElr/hXoVFAHnv/AAhHj7/oql1/4JLX/Cm/Dy+8RR+O/GHh7xJr764mkrYm3ne1igI82N3bhAPRRyT0r0SvPPB5/wCL3/Ef/rnpX/oiSgD0OiiigAooooA8u1OXxf4h+LWtaFonjCTQbHTrK2nWOPT4Lje0m7PLjI+761eHgr4gf9FVuf8AwR2v+FGg/wDJfvF3/YLsP/Z69DxQB57/AMIT8QP+iq3P/gjtf8KP+EJ+IH/RVbn/AMEdr/hXoVFAHnv/AAhPxA/6Krc/+CO1/wAKP+EJ+IH/AEVW5/8ABHa/4V6FRQBxfwk1vU/EPw00/Udduze37y3CSzmNU37J5EHyqABwoqXx/wD8y3/2Hbb/ANmrL+Bv/JJNO/6+Lv8A9Kpa1PH/APzLf/Ydtv8A2arp/EjKt/DZ1y9BS0i9BS1BotgooooGFFFFABRRRQAUUUUAFFFFABRRRQAUUUUAFFFFABRRRQAUUUUAFFFFABRRRQAUUUUAFFFFABRRRQAUUUUAFFFFABRRRQAUUUUAFFFFABRRRQAUUUUAFFFFABRRRQAUUUUAFFFFABRRRQAUUUUAFFRtMkYy7BR6k4qpLrFpFn98rkdk+b+VYyr0obyKUZPZF+is7+193+rs7lx6iOkbUL4n5NOfHbLgVn9apdPyZXs5GlRWX9u1H/oGn/v6KX+0L5fvaa34SA1P1qHn9zD2bNOisz+1pVYB7C5HuFB/rT/7Yt1OJVlQ/wC1GaaxdF9bB7KfY0KKppqdo5wLiMn0zii41O2th+8lUseiryT+FaPEUUr8y+8nkle1i3mgsAMk4rKN7qF4cWlv5Ef/AD0nHP4CnDSXm/4/ryWYf3FO1f0rJ4iUv4cb/giuRL4mWZtStYD+8mXPoDmoG1fccW9rNL7hcVPFZWtsuI4kUepFD3trD9+eNf8AgQrOUqv25qJSUXsrlc3OpSDKWyRjtvak26q/WWFPopNSPrFkg/127/dUn+VMGt2nYyH/ALZt/hWTdD7VV/eP3ukQ+y6k3W8A+iCl+w3/AP0EG/79r/hR/blqOol/79mlGt2Z/icfWM/4UL6r1m/vYfvO34DTZ6iOl9n6oP8ACgwaqPu3MZ+qVMmrWbf8tQPrxVhJ4pB8kit9GrSMKEvhm/vE5SW6/Ao41dec27j2BFO+06ig+a0VvXa9aAIo4rb6v/LN/eTz90Zg1d1P7+xnj9TjNSprFo2d0mw+jjBq9tpjQRMSWjUn1IqeTELaafqg5oPoJHcRyfcdW+hqQHPSqUmj2cjbvL2N6odv8qhOm3UDZs76QD+7L84P+FP2leOs4X9GFoPZmpRWULrUbf8A4+LVZQP4oT/Q1PFq9rIQrP5bn+B+DVxxMH8WnroJ05bovUUgYHkEYpa6E09iAooopgFFFFABRRRQAUUUUAFFFFABRRRQAUUUUAFFFFABRRRQAUUUUAFFFFAHJfFD/knGq/7sf/oxa6tPu1ynxQ/5Jxqv+7H/AOjFrq0+7Wj/AIa9X+hgv4z9F+p5+v8AyctL/wBiin/pY1ehV56v/Jy0v/Yop/6WNXoVZm4UUUUAFB6UUHpQB578HP8AkAeIP+xk1D/0bXoVfMmhaH8WtQvvEM3gLXLey0n+3b0CKSRAfM807jyh9u9bH/CKftDf9DTZ/wDf2P8A+NUAfQdch4n+Jnhzwf4lsdH8RXTWTX0JliuHTMQwxGGI5Xp1Ix715X/win7Q3/Q02f8A39j/APjVeSfF/TPHOma1p8fxF1GK/u3ty1u8bKwVNx44Ud80AfbFreW99bJcWc8dxBIMpLE4ZXHqCOCK8/8Ag/8A8z1/2OOof+yV4d8GPDHxTW4juvDVxJpWlOdzm/B8mQeojPJ+ox9a9u+DIkW38bCdg0o8X34dh0J/d5I9KAPSaKKKACiiigDmPiZ/ySnxV/2CLr/0U1XPBf8AyIXh/wD7Blt/6KWqfxL/AOSU+Kv+wRdf+imrxXQ/DHx6l8PadJpfiW0jsXtYmtkMqZWMoNo/1fpigD6Ror59/wCEV/aG/wChps/+/sf/AMao/wCEV/aG/wChps/+/sf/AMaoA9Qtfit4Un8YXvhm51FbHU7SYw+Xd/Isp/2G6H6HB9q0/HRB+HfiTH/QKuv/AEU1fEHjHT9fXx5qFlrzG+1s3GycwjeZZPYADP4CvaPBnh34p6X8Odck12++y6J/ZFztsr/95Lt8puFHVPofyoA9y+HP/JLfCv8A2BrP/wBEpXSVzfw4z/wq3wrn/oDWf/ohK6SgAooooAK87+Lf+v8AAn/Y3WX/AKDLXoled/Fv/X+BP+xvsv8A0GWgD0OuS1L/AJKlov8A14XH81rrq5LUv+SpaL/143H81rWk7S+T/Ixq7L1R1NZkgOmXomjB+zStiRR0U+tauKZLEs0LRyDKsMGuKvSc1zR3Wx0RlYkU7gCDkHpS1m6ZI8W6zlOWiOFPdl7GtHNVRqe0gpdf1CS5XYKMUtFbEFHV4fN02XnBUbgfQjmrFpN59rHKf41DY9Mim3wBsZge6H+VR6Uc6Xb/AO4BXHtidOqNfsFyiiiuwzEFLRRQAUUUUAFVry1S7hMcn1BHY1ZpMColBTXLLYadijps5dXgmbM0Jw3uOxpdWUHTJs9AM1DqMf2W5jv4h935ZQO6n/Cp9SPmaROV6GIkflXDzNU505bpfgar4lImtG3WkR9UH8qnqpp3zafAe3lr/KrVdlH+HH0MpfExaKKK1EFFFFACEZrLQHTL4Rj/AI9picf7LVq1WvbUXVs6dGxlT6HtXLXpykuaHxL+rFwlbR7MsA5Xis2wP/E2vl91P6VLpdybizG/iWM7JB6EVFa/Jrt4D/EqEe9ZSqRm6c1s2UlZNGlS0lLXeZBRRRQAUUUUAFFFFABRRRQAUUUUAFFFFABRRRQAUUUUAFFFFABRRRQAUUUUAFFFFABRRRQAUUUUAFFFFABRRRQAUUUUAIelcp4O/wCQv4o/7Cjf+gLXVnpXKeDv+Qv4o/7Cjf8AoC1rD4Jf11MKn8SH9dDK+On/ACRHxH/1xj/9HJXfx/6pPoK4D46f8kR8R/8AXGP/ANHJXfx/6pP90VkbjqKKKACiiigDznxp/wAlv+Gv01X/ANJlr0avGPjfaeIr7x54Ct/Bd0lprT/2j9nmcgBcRRluSCOVDDp3rD/4RX9of/oabP8A7+x//GqAPoOs7xBrVv4d8P3usXqyPb2UJmkWMAsVHXGa8N/4RX9of/oabP8A7+x//GqxvF3hv4423g/VJvEfiK1uNKS3Y3USyoS8eORxGP50Ae9+E/HfhzxtZC48O6nFckDLwE7ZY/8AeQ8j69K5/wAd/wDJUPhz/wBf15/6TNXx/wCD9E8T6zr0Q8G295JfxMGWa1JXyvcv0X8TX0jbWPjHT/F3w4j8eajbXt59tu9hhT5lH2Y8M3Rj+FAHuFFFFABRRRQAV534O/5Lf8R/+uelf+iJK9Er558R6V8Q9T+OHjL/AIVtqkOn+XHYfbfNdV35g/d4yrdMP6daAPoaivnv/hFf2h/+hps/+/sf/wAao/4RT9of/oabP/v7H/8AGqAPX/GnjvR/AdjZ3mvtLHbXVyLfzY03eWSpOSOuOO2a1dH1zTNe09L7Rb+C+tn+7LA4YfTjofbrXyd8XNE+KWneG7WT4iaxBf2DXQWFI3Vism088IO2aw/hX4b+Il7qy3fgQ3Vim4B7tmMcDD0OeH+mDQB9N6B/yX7xd/2C7D/2pXoVeWeAotVh+MfiaPxBcQXOoLpNgJpbdCiMf3nQGvU6ACiiigAoooPtQB558DP+SSad/wBfF3/6VS1qeP8A/mW/+w7bf+zVi/B6SaL4XacumxrLD5lwd0h2neZ5N4x6Bsgeoq944nvmXw/51smRrlqVCvnJyeKypYiLqctn9xNaD9m9Tul6ClrL/tC8T7+nv/wFgacmrHH7y1nQ/wC5msfrlLq7fI2VKVjSorP/ALasQQHlKE9mUirUd1BN/qpUb6NWsa9KW0kS4yW6JqKQH0NLWqd1ckKKKKYBRRRQAUUUUAFFFFABRRRQAUUUUAFFFFABRRRQAUUUUAFFFFABRRRQAUUUUAFFFFABRRRQAUUUUAFFFFABRRRQAUUUUAFFFFABRRRQAUVDNdw24zNIqfU1TfV1cH7HDNOfZcD8zWE8RSg7SZUYSlsaVITiswnVZm+UxQL/AN9Gl/syWbH2m9mb1C/KP0rH6zKXwQf5FciXxMvtMiDLuqj3OKrvq1ihw11Hn0DZqJNHsR9+3Dn1ck5qyllbRD93BGv0UU74lrovvYe4Vn1yyX7rs/8AurmmDXYD0jmP/bM1oKiqeFApxKqpPAxSccRbWaXyHeHYzv7bh/54z/8Afs0ja7bou50mQepjNR3mtJFlbYCQjgv/AAj/ABqjFBfag2513gn70owo+i968yrjKqlyUpcz9DeNKLV5Ky9S3P4lgVR5CNJnueAKqNrP2hC09+kKHokSEn8yK0I9ERwPtcrS/wCyPlUfgKuJp1rGoVYI8D/Zq/Y4+q25yST6f8MHNQitE7mFDPaz4MNs9z/tTSgfoTV9BekAQ29pCPQnJ/Srj6XZOpDW0f4LioTotoufJDxH1RiMH1ojg68Fuvlp+hLqQYmzVWP+tgX6KTQU1Qf8tYW/4CRSf2XOn+q1CYezAH+dKF1SLoYZx7/LWvs5Q0mpffcV09rAH1VDzHbuPZiDSf2lcp/r7CZfTaQ1A1CeIH7VZSpg4LJ84p8Wp2cuf3wQjqGO0irjOP2ajT7P/gis+sR8Oq2kzbPMCP8A3XGD+tF3f21uuHO9m+6irktVGZ/7XOy3iUQDrPIvX6Zqp9lghuANLkke5UYYgAr+Nc1TGVkvdSa7/wCS6lxpQepb+x3GoczLHbQn+EDLt9T2pk9lpVnjLukoGBtJLH8BTJ/7R3D7fv8AJ/iNv2+taGnx2OwNZ7G9TnLfrUwpwqz5eTV9Zb/JFOTir308jPhl1UyYtFkeId7hQKWeTVQ3+liRIfW3AJ/xrfowD1rq/s92sqj/AEMvbq/woxLe3066Ys9y8zdCsjkHP0rRi0+0jHyW8Y/4DTrjTrW5/wBbCpI6MOCPxqqLS8szm2n86Mf8s5Ov51caXsHeUE/NC5lLZ2NBYIl+7Go+gp2xfQVSttUSSTyZ0aCb+4/f6HvV4EGuunKlUV4mUuZbibB6Unlr3UflT6StuSPYV2RNawv9+JD/AMBFVm0azJysWw+qHFX6KzlRpy3iNSktmZp0p0x9nvJkx0BORTR/atv/AARXK+x2mtSjFYvCxXwNofO3uZqazEpC3iPaue0g4/PpV+OaOVQ0bqwPQqc5oeNXXa6hh6GqMmkxA7rZmgf1Q8flR+/prX3vwD3X5GjRWWbm/sz+/iFxH/fj4I/Crdrew3a7oXz7HgitKeIhN8r0fZg4SSuWCtQzWsNwuJo1ce4qeitpRjLdE3MxtLeAA2M7R4/hc7gf8KT+05bQqupQ+WP+eqHK/wD1q1MUxkDDDAH61zfV3D+FK35F+0vpJXCORJFBRgwIyCO9PrLk0+S3Yyac/lnOfLP3T/hVi0vluGaKT5Jk+8h/pTjXalyVFZ/gDjpeJcooFFdKMwooopgFFFFABRRRQAUUUUAFFFFABRRRQAUUUUAFFFFABRRRQByXxQ/5Jxqv+7H/AOjFrq0+7XKfFD/knGq/7sf/AKMWurT7taP+GvV/oYL+M/Rfqefr/wAnLS/9iin/AKWNXoVecyXMFt+0pI1zNHCp8JIAZHCgn7Y3rXd/2tp3/QQtf+/y/wCNZm5boqp/a2nf8/8Aa/8Af5f8aP7W07/n/tf+/wAv+NAFug9Kqf2tp3/P/a/9/l/xoOradj/j/tf+/wAv+NAHEfBz/kA+IP8AsZNQ/wDRtehV558GmV/D2vMhDK3iO/IIOQR5teh0AFYmpeENC1fxBa6zqumW95e2kZjgknXeIhnOQp4znvjIrbooAQAAcAD6V538H+njn/scNQ/9p16LXmfwmvrS2bxwlxdQwsfF+oELJIFOPk55oA9Moqp/a2nf8/8Aa/8Af5f8aP7W07/n/tf+/wAv+NAFuiqn9rad/wA/9r/3+X/Gj+1tO/5/7X/v8v8AjQBh/Ev/AJJV4p/7BF1/6Karvgz/AJEPQP8AsG23/opayPiRqdhJ8LfFCR3tuztpN0FVZVJJ8pvetfwZ/wAiHoH/AGDbb/0UtAG1RRRQBiaf4P0DS9dvNas9MgXU71y812y7pCT2BP3R7DAqPx2APhz4jwMAaVdf+imrfrB8d/8AJOfEn/YKuv8A0U1AEPw55+FvhX/sDWf/AKISukrkfh3qdhH8L/CySXtsrLo9oGVpVBB8lOOtdH/a2nf8/wDa/wDf5f8AGgC3RVT+1tO/5/7X/v8AL/jR/a2nf8/9r/3+X/GgC3Xnfxb/ANf4E/7G+y/9Blruf7W07/oIWv8A3+X/ABrz/wCKl9aXN14FS2uoZmHi6yJWOQMQNsvPFAHpVclqP/JUdF/68bj+a11tclqP/JUtF/68bj+a1pT+L5P8jGtsjraQ06isjYy9RH2W4gvV4CNtk91NaSHcoI6Hmob2AXNrJEf4kIFQaRMZtLgLfeVdrfUcf0rkj7ldx/m1NH70b9i/RSUorsMyOdd8LqecqRVPRm3abGO6llI9ME1fIzWZo+Y5LyBuqTsQPY81yVNK8X30NF8DRqUUUV1mYUUUUAFFFFABRRRQBHNGssLI4yGGDWdas9xptzbPzJHujOfpxWoRWbF+51qaMf8ALVN2PpXBiIqM4z76M1hs0SaM2/SLc/7OOfbir9Zuj/u4ZoDx5UzAD0GeK0q2wsuajH+tianxMKKKK6SAooooAKRvu0tFIDKQfZNdZeiXS7vow4pZm8vX7du0kbL+XNGrKRJayr1jkH5Gl1UCOS0uSOI5QD9G4ryZxtzR/laf3nQtbeZp4ooByKK9ZanOFFFFMAooooAKKKKACiiigAooooAKKKKACiiigAooooAKKKKACiiigAooooAKKKKACiiigAooooAKKKKACiiigAooooAQ9K5Twd/yF/FH/YUb/wBAWurPSuU8Hf8AIX8Uf9hRv/QFrWHwS/rqYVP4kP66GV8dP+SI+I/+uMf/AKOSu/j/ANUn0FcD8c/+SI+I/wDrjH/6NSuzj1bTvLX/AE+16D/lsv8AjWRuXaKqf2tp3/QQtf8Av8v+NH9rad/0ELX/AL/L/jQBboqp/a2nf9BC1/7/AC/40f2tp3/QQtf+/wAv+NAHC+M/+S4fDX6ar/6TrXotea+K7u2uvjh8N/s1xFNtGqbvLcNj/R164r0qgAqnq2lWmuaRc6ZqUXm2l1GY5Y9xXcp6jI5FXKKAM/SNE0zQNPjsdGsILK1jGFihQKPr7n3PNcZ49/5Kd8Ov+v28/wDSY16HXnXxCljh+Jfw7kmdY0W9vMs5wB/o570Aei0VU/tbTv8An/tf+/y/40f2tp3/AD/2v/f5f8aALdFVP7W07/n/ALX/AL/L/jR/a2nf8/8Aa/8Af5f8aALded+Dv+S4fEf/AK56V/6Ikruf7W07/n/tf+/y/wCNcH4Jmjn+NfxGkgkSRCmlYZGBB/cSdxQB6PRRRQBj+IPC2j+KY7WLXrCK+htZhPHFNkrvAIBI6HqeDxWpBBFbQpFbxJFGgwqIoUKPQAVJRQB57oA/4v74u/7Bdj/7Ur0KvONIure1+Pniw3M8UIbS7HHmOFz9/wBa7z+1tO/5/wC1/wC/y/40AW6Kqf2tp3/QQtf+/wAv+NH9rad/0ELX/v8AL/jQBboqp/a2nf8AQQtf+/y/40f2tp3/AEELX/v8v+NAHD/A3/kkunf9fF3/AOlUtanj4YHhv/sPWv8ANqy/gYc/CTTiOQbi7wf+3qWtT4gfd8N/9h61/wDZq0paSRjX/hs64CgigfdFLWZsRPFG4wyKR7iqr6RZSfehA/3SRV+ispUact4lKTRm/wBlvFj7LeTR46Ancv5U1pNTtzlhFcr/ALHytWpRisfqsV8DaKU311M1NWhDBbhZIGP/AD0XA/OtBHSRcxsGHqDSSRJKpWRQwPYis+TSjFltOlNu/wDd6qfwpXr0t/eX4i92T7GnRWXFqM0Egi1KMISeJV+6a0gQwBU5FbUq0aq90UouI6iiitiQooooAKKKKACiiigAooooAKKKKACiiigAooooAKKKKACiiigAooooAKKKKACiiigAooooAKKKKACiiigAoJwKqXd9DagbyWc/dReS1U/KvL/LXUn2WEj/AFS/eP1Ncs8TFPlhq/63LjBvV6Is3GqQxN5cYaeU9Ej5qALqN8MvJ9kT+6vLfnQt5YWA8uBfMfoBGNxJoNxqNyw8m3W2U/xSHJ/IVxupz/HK/lH/ADNVGy0VvNk0Gl20Lb5AZ5P78p3H9amku7aE7XljX2J6VVXTJJRm7upXPcKdo/KpodLs4hxCrH1YZP51rBVF/DgorzIduruRNq9qDiLfL/1zQmk/tC5f/U2EuD0LkCtBY0QAKoUDsBTsVq6deW87eiFzRXQzvN1N/uwQp/vNnH5UeXqrdZbdR7KTWjjmq19ex2NuZJOeyr3Y+gqKlGFOHNUm7LzKjJt2ikZ9415Zw+bNqKKP+uYrMT+0tY+USsYc8llwv6dauW1hLq85u9QyIs/JHjHFb0cSRRhI1CqOgArzYYWeLlz3cYdr6s3lUVLRJORhQeH57eTzI7pS3bdH0+lWxDqycLPAw/2kNauKK9GGAo0/guvmYuvKXxamWJNUQ/PDFKP9hyM0v9ozxn9/YzKB1ZfmrSFBFaewmneE2vxJ5090UE1e0PDyeUfSQbf51cSWOVcxsrD1BzSPBHJ99Fb6iqT6Na7i0KtC2ODGxFH+0U+il+DF7j8jR7UVlm31K2x9nuFuF7pKMH86P7X8jK31u9uw79VP0NJ4uMP4q5fUPZyl8OpeubiO3hMkpwB09z6Vg3JWdllvI+pzFboMu31pvnz6pdB0QM4P7tSfljX1Pqa2bHTorVdx/eSt96RuSa8+XNj5Xh8KNklRWu5kw6NPJG37020bciEOSB9easwm603ia1SSEfxwjn8q18c07GVxXXDL6dJXpNp9yPrEpaS2K9vfW14uI3BP9xhgj8KiuNLhkk86AmCcdJIzj8x3p11p0Fzyy7X7OvBFVBc3OnuFv/3sGcCYDlfqP6053+GutO6/rQUU94bkqX01vII9QUKCcCUfdP8AhWiCD0OaiZYbmIBgsiMM+oNZ7LNpMheMGW0J5XPKfT2qlKpR+L3o9+wvdqbaM1qMUyGVZow8bBlboRUldsWpK6MvUguLSG5TbMgb0PcfSqCyXOlyBLhzNbk4Vz1T61rUySNZEKuMgjBBrCrRu+eGkvzLjK2jHKwZQVOQelFZtg7QXc1k54jAaPPdT2/CtIVdGpzxu9+opRs7C0UUVsSFFFFABRRRQAhUHsKo3WmRTv5sZMMw6SRnB/H1q/RWVSlGorSRSk1sZaXtxZNs1EAp0EyDj8RWkjrIoZDkHvSPGrqQwyD2NZklvPprebZbpIScyRE8j3X/AArn9/Dr+aP4ov3ZeTNaioLe6iuYg8LZH8qnrrjJTV0ZCEVS1Cx+0RiSFvLuI+Ucfyq9QeaipTVSLixptbFXT7s3dvuddsikq6+hFWqzbTEWs3ca8BlVyPetKs8NNyp+9urr7ippJ6BRRRXSQFFFFABRRRQAUUUUAFFFFABRRRQAUUUUAFFFFABRRRQByXxQ/wCScar/ALsf/oxa6tPu1ynxQ/5Jxqv+7H/6MWurT7taP+GvV/oYL+M/RfqeHfEb4dWHxK+PcemaneXNpHb+GY7hXtwuSRdSLg5B4+aoP+GUfDX/AEH9W/KP/wCJruF/5OXl/wCxRT/0savQazNzwcfsoeGf+g/q35R//E0v/DKHhn/oP6t+Uf8A8TXvAooA8H/4ZQ8M/wDQf1b8o/8A4mj/AIZR8M/9B/Vvyj/+Jr3ig9KAPMfgLp0ej+BdS0yF2kjstbvLdHfqwRwoJ9+K9Orz34Of8gDxB/2Mmof+ja9CoAKKKKACvm7Rvgjo/wASPEXjPWNT1S+tJYfE19bBLcJtKqwbPIPPzn8q+ka86+EH/M8/9jhqH/tOgDjP+GUPDP8A0H9W/KP/AOJo/wCGUPDP/Qf1b8o//ia94ooA8H/4ZQ8M/wDQf1b8o/8A4mj/AIZQ8M/9B/Vvyj/+Jr3iigD5w8Wfs0eHvD/g3WNZt9b1OWXT7Ga5RJBHtZkQsAcL04r3XwZ/yIegf9g22/8ARS1S+Jf/ACSnxV/2CLr/ANFNV3wZ/wAiHoH/AGDbb/0UtAG1RRRQAVg+O/8AknXiT/sFXX/opq3qwfHf/JOvEn/YKuv/AEU1AHiHhb9mfw9r3g/RtYuNb1OKXULCC6dEEe1WkjViBlemTWr/AMMo+Gf+g/q35R//ABNeqfDn/klnhT/sDWf/AKISukoA8H/4ZR8M/wDQf1b8o/8A4mj/AIZR8M/9B/Vvyj/+Jr3iigDwb/hlDwz/ANB/Vvyj/wDiaytU+CekfDXxP4M1bTNTvbuWfxLZ2xS4CbQp3tngDn5B+dfR1ed/Fv8A1/gT/sb7L/0GWgD0OuS1H/kqWi/9eNx/Na62uS1H/kqWi/8AXjcfzWtKfxfJ/kY1tl6nXUUUVmbCGs3Sjta6j7LO2B6CtI1mad/yEL4ekn9K5K38Wn8zSOzNMUUUuK6zMKy1Jg18g9J48jjuP/rVqVm6opjMFyvWJxn/AHT1rixatBTXR3/zNKb1t3NKiqOrapHpWi3WpOhljt4WmKqeWAGcVz8PjDV54Umi8I3zRyKGVvPi5BGQetd8YuSujnlUhF2bOtzS5rlD4q1v/oTr/wD8CIv8aP8AhK9b/wChOv8A/wACIv8AGq9nIn28Dq80ZrlP+Er1v/oTr/8A8CIv8aP+Er1v/oTr/wD8CIv8aPZzD29PudXmjNcp/wAJXrf/AEJ1/wD+BEX+NH/CV63/ANCdf/8AgRF/jR7OQe3p9zq6zJeNfhPrCw/UVj/8JXrf/Qn3/wD4ERf41Tm8S6ydSglbwjfqwVlCefF8361y4qhUlFW6NFwrQuzpIG8vXbmLs6K+T3xxWnXC3niXWY7+C6fwlfR7Ts5nj+bPbrV7/hLNcHXwZqH/AIERf408PQnHmjpo+66hPEU9H+j/AMjq80ZrlP8AhLNb/wChN1D/AMCIv8aP+Es1v/oTdQ/8CIv8a6fZyI9tDudXRmuU/wCEs1v/AKE3UP8AwIi/xo/4SzW/+hNv/wDwIi/xo9nLsHtodzq80Zrk/wDhLNb/AOhNv/8AwIi/xpf+Es1v/oTb/wD8CIv8aPZyD20O5uaxxZ7/AO6w/nT76L7Rpsq4ySmR9a5bU/E+sy2Eit4RvoxwdxniOOfrU6eKdcMY/wCKOviMf894uf1rjlhpzqTXdLqvM1+sQUV/kzpbCYz2MTnqVGfrVrNcLYeJ9atnlg/4RO+Lbi4Tz48gH8avf8JXrf8A0J99/wCBEX+NbYelP2aUt1vqjOVamn/wGdZmjNcn/wAJXrf/AEJ99/4ERf40f8JXrn/Qn33/AIERf41t7KYvrFPudZSZrlP+Eq1z/oT77/wIi/xo/wCEq1z/AKE++/8AAiL/ABo9nIX1in3Osork/wDhKtc/6E++/wDAiL/Gj/hKtc/6E++/8CIv8aPZyD6xT7nV5ozXKf8ACVa5/wBCfff+BEX+NH/CU67/ANCdff8AgRF/jT9lP+mg+sU/6TOszRXIjxnewX1lBqfh27skvLhbdJZJkYBmzjgHPY/lXXVEoShuaQqRn8IUUUVJYUUUUAFFFFABRRRQAUUUUAFFFFABRRRQAUUUUAFFFFABRRRQAUUUUAFFFFACHpXKeDf+Qv4o/wCwo3/oC11Z6Vyng3/kMeJ/+wo3/oC1rD4JfL8zCp/Eh/XQy/jp/wAkR8R/9cY//RqVwifspeGmRSdf1bkZ6R//ABNd38dP+SJeI/8ArjH/AOjUrvov9Un+6KyNzwj/AIZQ8M/9B/Vvyj/+Jo/4ZQ8M/wDQf1b8o/8A4mveaKAPBv8AhlDwz/0H9W/KP/4mj/hlDwz/ANB/Vvyj/wDia95ooA+ftF+E+mfDD44+CP7K1C7vP7SXUBJ9pC/J5dvxjaB13n8q+ga868Z/8lw+Gv01X/0nWvRaACiiigAryP42eF7bxn4j8D+H72eW3gvby5V5Ycbl2w7uM8dVr1yvPvHf/JUPhz/1/Xn/AKTNQBxB/ZR8Nf8AQf1b8o//AImk/wCGUfDX/Qf1b8o//ia95ooA8G/4ZR8Nf9B/Vvyj/wDiaP8AhlHw1/0H9W/KP/4mveaKAPBv+GUfDX/Qf1b8o/8A4mtb4LeELXwL8QfHvh+wuJrmC2XTSss2Nx3xyuc446tXsded+Dv+S3/Ef/rnpX/oiSgD0SiiigAooooA8G8W/C/Tvib8c9eg1S+urNbHTrR0NuF+bduBzkH0pT+yj4Z/6D+rflH/APE122gf8l98Xf8AYLsf/alehUAeDf8ADKHhn/oP6t+Uf/xNH/DKHhn/AKD+rflH/wDE17zRQB4N/wAMoeGf+g/q35R//E0f8MoeGf8AoP6t+Uf/AMTXvNFAHnHwFhFv8GtKgUkiOa6QE98XMg/pWx8QPu+G/wDsPWv/ALNWZ8Dv+SSaf/183n/pVLWn8QPu+G/+w9a/zarp/EjKt/DZ1y/dFLSKflFLUGi2CiiigYUUUUAFBoooAjliWWNkkAZTwQRWbC0mnXS2xOYJf9Vn+E+laxrO1aImGOZQSYZA+B+tceJjyr2sd0aQ1dmaOaKihkSWJXRgQwyMVLXVGSkroz2CiiiqAKKKKACiiigAooooAKKKKACiiigAooooAKKKKACiiigAooooAKKKKACiik3gd6AuhaKTePUUbx60CuhaKTcPWjcPWgLoWsy+1Blc21kN838R6hPrSaxqX2SDy4mHnScD/ZHrVSwsHmXEpMcXUj+KU+p/wry8TiZSl7Cjq+pvCCUeeQkTpFO32RGvblvvTEfKPx6VbTTri5O7ULksvaKP5VH+NXoo44YwkKqijsKkBHrWlPBae/8Ad/W4SrJ6oihtYYFxFGFHsKmAoyPWjcPUV3Rgoq0UYOd9xetFJuHrRuHrTaYcyHCim7h60bh60WYcyGSyiKNncgKozk1jWds+rXhvroHyVJESHuPWptULXd5DYRthWG+Ug9BWpF5cUaxpgKowBXBKDxNWz+GP4v8A4BupqlHR6seBgADtRSbh6ijcPUV6FjC6HUUm4eopNw9aNQuh1FN3D1FG4eoo1C6HUnWk3D1FGR60ahdAeOtc5fzSavqQtbUAxxn5nI4B9a1NYvPsunuY/wDWP8qfWk0fTxY2Y3/61+ZOe9eVioyxNRYeO27/AMjppNU4+069CMaMkMamyleGRR1B4b6ik+33FjxqMWU7TRjI/Edq1ePakIBGDyK6PqihrRdn+H3Gftb/ABajI5UmjEkTq6HoynINSCs2TTzbyNLp7CInkx/wt+Hap7S9Wc+XIpimX7yN1+o9RVwru/LVVn+AnHS8WXKY8aupVxlSMEHvT6K6Wk1ZkIybT/QNSayyTFIC8QP8PqK1CoYEEZBrP1EiC8tblhwG2E+ma0Qc1xYZWc6T2T09DSetpGW6tpU4dButHPzD/nmfX6VqIwZAw6HkUksayxtG43KwwQe9Z+mM8EsljMTmPmMnutOK+rz5V8L/AAZTfPG/VGnRRSV2mJl3I+z67BO33JEMWewPUVqDpUF3ardwNG2R6EdQfWqtreNBKLS+IEn8Dno9cSfsKrUvhfXzNbc0brdGkKKQuo6mk3r612mVx1FN3r60u8etAroWik3j1o3D1oC6FopN49aN49aAuhaDSbx60bxSC6Mm7t3snN5aKWGcyxj+Iev1rTgnS4hSWJtysMg07cp9KzYF/s/UPJX/AFE5JT/Zb0ria+rzTXwv8GbJqovNGpRTSwHejd9PzruMbozLr/RtaglPCzDYT79q1BVW+txd2xjHD9VbPQ03Trz7REUmws8fyuvfPr+NcdP91VcXs9V+pq3zRuuhdopN6+tG9fUV2GV0LRSbl9RRuX1FAXQtFJuX1FG5fUUBdC0Um5fUUbl9RQF0LRSbl9RRuX1FAXQtFJuX1FG9fUUBdC0Um9fUUoOaAumFFFFAwooooA5L4of8k41X/dj/APRi11afdrlPih/yTjVf92P/ANGLXVp92tH/AA16v9DBfxn6L9Tz9f8Ak5eX/sUU/wDSxq9Brz5f+Tl5f+xRT/0savQazNxRRQKKACg9KKD0oA89+Dn/ACAPEH/Yyah/6Nr0KvmLRPH3xI8OX3iGx8HeDxq+nf25ev8AaTZTS/OZTldyMBxgVrf8Lc+Nf/ROF/8ABZdf/F0AfQ9Z114g0my1eHS7zUIIL24TzIoZHCs65xkZ68ivCf8Ahbnxr/6Jwv8A4LLr/wCLryj4teK/GXiPXNOufGeh/wBhXdvAVt1SCWEuu7O752J69xQB9vZrzr4Qf8zz/wBjhqH/ALTrxL4Q/E74ltfQ6XpthN4lslwDHOSDEvtMeF/4FkV7T8GWke38atPH5cjeLr8ugOdhxHkZ749aAPSaKKKACiiigDmPiX/ySnxV/wBgi6/9FNV3wZ/yIegf9g22/wDRS1S+Jf8AySnxV/2CLr/0U1eIaJ8U/jHaeH9PttO+Hy3FpDaxxwTf2bct5kYUBWyHwcjByKAPpaivnf8A4W38bf8Aom6/+Cy6/wDi6P8Ahbfxt/6Juv8A4LLr/wCLoA92s/EOk6hqV3p9nfwS3lm5SeBXG9CPUdap+O/+SdeJP+wVdf8Aopq+IvFXiHxDJ8QNQ1jUIpdG1iSffNFEHiML+mCcj8TXsngz4h/ETxL8PdftNZ0d9S0z+yrkHVpCIWjHlN1J4k+gGaAPc/hz/wAks8Kf9gaz/wDRCV0lc38Of+SW+Ff+wNaY/wC/KV0lABRRRQAV538W/wDX+BP+xvsv/QZa9Erzv4t/6/wJ/wBjfZf+gy0Aeh1yWo/8lS0X/rxuP5rXW1yWo/8AJUtF/wCvG4/mtaU/i+T/ACMa2y9TrqKKKzNgNZdmCms3obgsFYfTGK1KzZMxa8h7TRbfxBz/AFrkxGkoS7M0hs15GiDxS0g6UtdS2MwqKeJZo2jcZVhg1LSEZpSipKzGtDk/EEpPgDXLaQ5kt7SVfqNpwa3dDH/FP6f/ANe0f/oIrC8eWzw+FdUuLccNaSJKvqNvX8K1dLvYbbw9pbStgPbxKMdvkFZUpqlh7VXazsZyjet7vZGjd3lrYwede3ENtFnG+Zwi59MmqP8Awkug/wDQa07/AMCk/wAa4341QQXvhPRre5jWaCfX7GOSNxlXUyYIPsQa2P8AhVPgL/oUdI/8BVrdO6uimja/4SXQf+g1p3/gVH/jR/wkmg/9BrTv/AqP/GsX/hVHgL/oUdI/8BVo/wCFUeAv+hR0j/wFWgVja/4SXQf+g1p3/gVH/jR/wkmg/wDQa07/AMCo/wDGsb/hVHgH/oUdI/8AAVaP+FUeAf8AoUdI/wDAVaB2OhtNX02/mMVhqFpcyBdxSGZXIHrgHpyKivD/AMTez+p/lXnujeHNG8NftFLbaBpttp0EnhV5Hjtowis32tBkgd8AflXoWqHyrmzl/wCmwX865cVf2d/Nfma0viLGoW/2mzkjH3iMr9e1Jp0/2mySQ/fxhh6EcVazWLPc/wBkXkkjA+RMpKqOzjt+NZ16ioTVZ7bMIR51yLc1ri5gs7dp7uaKCFcbpJWCquTgZJ9zVD/hJdCHXWdO/wDApP8AGvOvjBqR1L4H+IBKBvEltlR6G6irqv8AhVPgIjnwjpP/AICrW9DEQxFNVIbMU4OD5Zbm3/wk2g/9BrTf/AuP/Gk/4SXQf+g1p3/gXH/jWL/wqfwD/wBCjpP/AICrR/wqfwD/ANCjpP8A4CrW9yNDa/4SXQf+g1pv/gXH/jS/8JLoP/Qa07/wLj/xrE/4VP4B/wChR0n/AMBVo/4VP4B/6FDSP/AVaBGpfa1pV9YTQ2OpWdxMUJEcM6sxxz0BrUt/mtYz/sivJtW8I6D4c+NHhGPw/pNppouLHUTKLaIJvKxpjOOuMn869U0xzJpkDN12DNcmqxPqv1Nf+XfzIL8eRJFfIP8AVHa/up/w61oIwkUMuCCODSPGsiFGAKnqD3rOgnGmu1tdP+75MLnuPT8Khv2FRyl8MvzBLnjbqaeBWa3iPQkYq+saerKcEG6QEH86dpmrx6j5i4CupPy56rng15Z8KvAXhPX/AAZJf614e0++u5NRvA088AZmAncAZPoK6aNaFaHPB3RMqbg7SR6h/wAJLoP/AEGtO/8AAtP8aP8AhJdB/wCgzp3/AIFx/wCNYg+E/gH/AKFHSP8AwFWl/wCFT+Af+hR0j/wFWtSdDa/4SXQv+gzp3/gXH/jR/wAJJoP/AEGtO/8AAuP/ABrF/wCFUeAf+hQ0j/wFWj/hVHgH/oUdI/8AAVaYaG1/wkmg/wDQa07/AMC0/wAa08CvHPjD8O/B+jfCPXdQ0rw3ptpdwRIYp4bdVZCZUHB+hNexJ/q1+gpCsjlvG/8ArvDf/Ybg/wDQXrrBXJ+OP9f4b/7DcH/oL11g6VpL4I/Mxp/xJfIKKKKzNwooooAKKKKACiiigAooooAKKKKACiiigAooooAKKKKACiiigAooooAKKKKAEPSuU8G/8hjxR/2FG/8AQFrqz0rlPBv/ACGPFH/YUb/0Ba1h8Evl+ZhU/iQ/roZfx0/5Il4j/wCuMf8A6NSu9j/1Sf7orgvjp/yRLxH/ANcY/wD0ald9F/qk/wB0VkbjqKKKACiiigDzrxn/AMlw+Gv01X/0nWvRa8X+OOsa5oPjvwFqPhTTRqmqw/2j5NoYmk8zMcSt8qkE4Uk8HtWAfi18bu3w4T/wWXX/AMXQB9D1W1HULXStOnv9QmWC1t0Lyyt0RR1JrwD/AIW18bv+icJ/4LLr/wCLrI8W/E34uaj4Q1Sz1zwGllp89syXFx/Z9wnlIRy2WcgfjQB9LWGo2eqWaXem3MV1byDKyxOGU/iK4fx3/wAlQ+HP/X9ef+kzV8ieDvG3inwnqCHwvfXEcjsM265dJT6FOhr6KtPEPinxB4v+HFz4x8PDRrn7bd7D5n+uH2Y/N5Z+ZPoTQB7lRRRQAUUUUAFed+Dv+S3/ABH/AOuelf8AoiSvRK+ePEvi7xt4V+N/jL/hBPDY1z7THYfas2ss3k7YPk+4wxnc3X0oA+h6K+d/+FtfG3/onC/+Cy6/+Lo/4W18bf8AonK/+Cy6/wDi6APedU1zTNEFu2rXsNotzL5UTTNtDPjOM+vFXVdXUMjBlYZBByDXx98WPHHxD8S+G7a18beExo1lHciSOcWc0W6TaQFy7EdCfyrM+GfxJ8f6LqUGneFxPrMTH/kHSI0qkd8d1+oNAH0poH/JffF3/YLsf/alehV5b4Du9RvvjH4luda04aZeyaTYGW1E4l8s/P8AxCvUqACiiigAoooIzQB538EpFh+FGnpKwR/tF2drHBwbmUg/ka0vHsiSDw4EdWP9u2x4P+9WV8HLePUPhXpk16vnSCW5Tc5ydq3EiqPwAA/CrvjvT7SH/hHdkIXfrlshxxwd1Z0nXdSzSsTX5PZs7dGGByPzp+azf7Ftv4DIv0c0f2XLF/x7X0yezYYVh7WunrD8TRRjbc0c0tZmzU4c4mjn/wB5dv8AKkOo3kBH2mxfb3aM7v0pvExWkk0VyN7GoKKpQ6raTHHmhG9H+U/rVsOrDKnI9q2hUhP4WQ4tbjqKM0VoIKRlDDBGRS0Umk1ZgZLW1zpshezAktyctETyv0q5bX8Fxwj/ADjqp4I/CrJ5FU7jTILpgzqVcdHQ4IrjdGdF81Hbsa80ZL3i5mgVmeTqVnkxSLdx/wB2T5WH0PenJq8akLdwzWzdP3i8fmKtYiK0qLl9SeR9DSoqGK7gmH7qVX+hqUHNdEZRl8LJaa3FopM0oOaoQUUUhbHWgBaKTNY+p+I49O1FLJbK7u5mi83bbRhsLkjuR6VUYuTsiJzjBXkbNFc9/wAJTJ/0AdX/APAdf/iqT/hKpf8AoA6v/wCA4/8Aiqr2UjL6xTOioNc7/wAJXJ20HV//AAHX/wCKo/4SqT/oA6v/AOA6/wDxVP2Ug+s0zoqK57/hKZe2g6v/AOA4/wDiq0dH1iLWbaSaGKaHy5DEyTKAwYYzwCfWpcJJXZUa0JPlRoUUUVBsFFFFABRRRQAhrzfw74Q0TxDe+IbrV7Rp5k1m5iVhPImFBBAwrAdSa9IauR8BdfEn/Yeuv/Za2g3GEnF22OerGM5xUlfcd/wrLwkP+YY//gXN/wDF0f8ACs/CX/QMf/wLm/8Ai66mVtkLsOqqTXL6fqPinU9PivLZNLEcq7lDmQEfXFVGVaSvzP7zOaoQkouGr8hP+FZeEv8AoGP/AOBc3/xdIfhn4SAP/EsccZ/4+5v/AIure7xd/d0j85f8KCvi11IZdIwwwfml/wAKHKrbSf4k3pX0p/gZ2keE9LmhuLeOB49PLFREkzgt6/Pnd+tTH4Y+Ejn/AIlsv4Xk3/xdTwW/iqzh8q2XR9gPG95SfzxTs+Mefk0X/vqX/CuPB0alGndy96Wr16m9atTlK3I7LbQrL8MfCXbTZf8AwMm/+Lp3/CsvCf8A0DZP/Ayb/wCLou9U8T6YIZL6LSjC8yRt5RkLfM2OM4rrBXXKdWKu5P7zOmqNRtKO3kcn/wAKy8J/9A2T/wADJv8A4uk/4Vj4T/6Bsv8A4GTf/F11tJUe1qfzM19jT/lRyf8AwrLwn/0DJf8AwMm/+LpP+FZeEv8AoGy/+Bk3/wAXXW1zNxquuT+IL2w0iOw2WgjJa53gncue2fQ1cJ1Zfa/EzqRo00m47+RCPhl4S/6Bsv8A4GTf/F0h+GXhMD/kGy/+Bk3/AMXVrzPGH9zRv++pf8KUN4uP3k0fH+9L/hTcqttJfiQnRv8AB+BmWXgnQb+1aCezY2sErCCP7RJ8vXJzuyevfNWf+FY+Eu+mN/4FTf8AxdSwWvimzj2Wq6RtJyfMeUnP1AFS58Yjtov/AH1L/hXNhIVadJKUtXrv1ZpWnSc78j+4qf8ACr/CX/QMf/wLm/8Ai6P+FX+Ev+gY/wD4Fzf/ABdWjJ4wAyU0b/vqX/Cr3hvU5tY8P219cKiSTA7lTOBhiOM/SulyqpX5vxIh7GUuXl/Ax/8AhV/hL/oGP/4Fzf8AxdH/AAq/wl/0DH/8C5v/AIuuuoqPbVP5mb+xp/yo5H/hV/hL/oGP/wCBc3/xdH/Cr/CX/QMf/wAC5v8A4uuurF17U76xezh05YGmupvLHn52jgnt9KqNSrJ2Un95nOFKCu4/gZf/AAq7wl/0DH/8C5v/AIuj/hV/hL/oGP8A+Bc3/wAXVrd4uPQaR/31L/hS7vF/ppH/AH1L/hT5qv8AN+JlzUv5PwM1PBOgWeqCysbFkhmiPnj7RISw9Mlsj8Kn/wCFY+EiSf7Kb/wKm/8Ai6lFr4pFwbgDSvNIwSWkIx9MVNnxeO2j/wDkWuahGrGU5ylq33NqlSk0lyaLyKv/AArHwl/0C2/8Cpv/AIuk/wCFY+Ev+gW3/gVN/wDF1b3eL/TR/wDyLUmianqU+q3ljq62oe3RGBtw2Duz/e+ldXNVs3zbeZipUeZR5LX8jC1r4ceF7TQdQubfTWSaG2kkjb7VKdrBSQfveta3h6xW88E6KxYrOtlCUkzyDsFafiI/8UvquP8Anzm/9ANV/CP/ACJejf8AXjD/AOgCsaq9tRcamupvBKnV9xW0LljeNIzW9yAk8fBH94etXqz9StmaP7TbjFxD8ykdx3FWbWdbm3SVD8rDOPSuGjKUZOlPps+6OqS05kOuYFubd4nGQwxVKzuWtpRaXn3gMRydnH+NaVQ3FrHcx7ZFBHY9xTrUpuSqU9/zHGStyvYn61maorQTQXkQ+aNgr+6mmrLd6b8lwGuIB0kUfMo9x3pdQu4LvR5zE6sNmcVz1q0Z0mpaSWtvQqEWprsaYORQKitX32kT/wB5Qealrvg7xTMWrOwVwOkeH9N1bxv4jvL6F3uLe5jSJ1mddoMYJGAQD+Irv65Pwt/yNXin/r7j/wDRQreKUqc0+36mFT44ev6FG7+HmiLcPPNpv2pWOSFnkRh+CsB+lLbeAvBVycLp7I/dHupgfy3123bivH9D1r4oeN9FGs6VaeDEs5JZoohdm6WUeXIyEnbkdV7GuJfWKX8GenZv8jZ0qM3ecTtR8MfCJ/5hj/8AgXN/8XTv+FY+Eh00x/8AwLm/+Lqj4dtviHa/L4hHh9lPR7O6nOP+AvHz/wB9VV1vUfihaXmNITwzLbH+K7t7lCv4o7Z/IfSr+vVIu1RtC+q0vspGx/wrHwn/ANA1/wDwLm/+Lo/4Vj4T/wCga/8A4Fzf/F1zceq/F2X7kvgD6F7wH+VWBL8aGUFV8BEHvvvP8K2hi3P4Z3+ZDw1Nbx/A3P8AhWPhP/oGv/4Fzf8AxdH/AArHwn/0DX/8C5v/AIuuM8WeKvi34M8LXmv6rb+C5bOzCmRLY3bSHc4QYDYHVh3r18dK19tU/mf3i+r0v5Ucn/wrHwn/ANA1/wDwLm/+Lo/4Vj4T/wCgY/8A4Fzf/F11maRnVcbiBnpk0vbVP5n94fV6X8qOU/4Vl4U/6Bj/APgVN/8AF1Fc+APDthZTzWWnskgQg/6RK24dxy3/AOquxzXnPiTxN4um+JEvhfwxDon2SHTY725k1DzhJtaRkYIUOM4HGR+NZVpznTaci4UacXokasHw48KTwLJ/Zz/MM/8AH3N/8XT/APhWHhM/8w1//Aub/wCLrHz8VskaIvg02AOLc3jXXm7O27aMZ+lL/wAXo/ueA/8Avu9/wp0q9SVNPmexMsPSTa5Ua/8Awq/wln/kGyf+Bk3/AMXRe/D7Qxppt7SyYJu3mNriQ7j9S2R+BFZH/F6P7ngP/vu9/wAKT/i9B6p4D/77vP8AClW560eWUmVCnTg9Ei7Y/D/wfdxn/iWyLIpw6Ndy5U/99Vb/AOFY+Ev+gY//AIFS/wDxVc89h8XZbtJZo/BMZBG54JbtHx3AJUj8wa6Dwj4zXXdF+2XMLxeXPJbSOBld8bFW/UcHH5VgsXXo6VW7d/8AMp4elLWKQv8AwrDwl/0DH/8AAqX/AOKo/wCFYeEv+gY//gVL/wDFV1Mc0cqbo2DD1Bp+eCa61iJNXUvxM/YU19lHJ/8ACsPCX/QMf/wKl/8AiqP+FYeEv+gY/wD4FS//ABVdTFPHMuYnDD2rk/iR4m1fwzo2mN4dhspb/UtVt9Oj+3B/KUy5AJ2EHqB68Z4NCrzaupfiJ0Ka3iP/AOFY+Ef+gY//AIFS/wDxVH/CsPCX/QMf/wACpf8A4qsf/i9P93wJ/wB93n/xNH/F6f7ngP8A77vP/iaftan8zD2NP+VGz/wq/wAJf9Ax/wDwKl/+Ko/4Vh4S/wCgY/8A4FS//FVj5+NH9zwJ/wB93n+FGfjR/c8Cf993n+FHtqn8zH7Gn/KjY/4Vh4S/6Bj/APgVL/8AFUf8Kw8Jf9Ax/wDwKl/+KrHz8aP7ngT/AL7vP8KXwt4p8Zn4mzeE/GsGhBl0f+0o5NJ849ZhGATIfZjjHpzT9rU/mYexp/yo1H+GPhNY2I0xsgHH+lS//FVZ+HBJ+H2lZ5Pln/0Nq6OX/Uv9DXN/Dj/kn2lf9cz/AOhtVOcpU3zO+pChGFRcqsdRRRRWB0BRRRQByXxQ/wCScar/ALsf/oxa6tPu1ynxQ/5Jxqv+7H/6MWurT7taP+GvV/oYL+M/Rfqefr/ycvL/ANiin/pY1eg158v/ACcvL/2KKf8ApY1eg1mbiiigUUAFB6UUHoaAPPfg5/yAPEH/AGMmof8Ao2vQsV578HP+QB4g/wCxk1D/ANG16FQAYrh/GPwp0Hx14nsNW8RedOljD5SWqttR/mLZYjk9eldxRQBS0zR9P0WySz0mzhtLeMYWOFAorhvg/wD8z1/2OOof+069Grzn4Pf8z1/2OOof+06APRqKKKACiiigDmPiX/ySrxT/ANgi6/8ARTVc8F/8iHoH/YNt/wD0UtU/iX/ySrxT/wBgi6/9FNVzwX/yIegf9g23/wDRS0AbdFFFAHnyfBnwtN401DxPq9udSvbyYyqlxzHF6AL3/Gt7xrFHbfDPxFHBGsUaaRdBURQAo8lugFdHWB49/wCSb+Jf+wTdf+iWoAi+HP8AyS3wr/2BrP8A9EpXSVzfw5/5Jb4V/wCwNZ/+iUrpKACiiigArzv4t/6/wJ/2N9l/6DLXoled/Fv/AF/gT/sb7L/0GWgD0OuS1H/kqWi/9eNx/Na62uS1H/kqWi/9eNx/Na0p/F8n+RjW2XqddRRRWZsFZmrfunt7o/dikGfoeK06r30P2iymixksvGfWufEQc6TS/qxcHaRMhDKCORTqpaZcG4sY3b7wG1h7jg1dHSrpVFUgpLqTJWdgpKWitBGH40XPgfWcjP8Aocn/AKCa5SCcNp9rHE5aJYI9oz0O0ZrqvGo3eBtaHrZS/wDoJqTRNOtH0DT2a3iJ+zR5Owc/KK8/M8FPF4eMIO1n/kaYatGjXcmr6HnXxC1L7R4b0G1kJMieIrAg+o82vXBXnXxagjstB0R7VREZNfsI32DG5TKMj9BXo2MVrgqVWjQVOq7tFVpQnLmirC0GgUV2GICiiigDz5/+TlYv+xRf/wBLFrr9cX/Q45OnlSq+fTBrkH/5OVi/7FF//Sxa7TVk8zSrgdfkJ/KufEpujK3YuDtJFofdrB1jTL2+mLRMvlqPlXODnvWzay+baRScfMgPX1FcBb/Gvwp/wmN/4b1W4bTbyzuWtxJPjypCDjIbt+NZVsPHFUfZzbs+xVOq6Mrx3Mrx/wCHbm88C6nZXMi2ccixnzZmCpuWRWQE5wMsqj8a9aVtwBxjNec/HSRJvgfrMsLrJGxtSrochh9qi5Br0Zfuj6VOCwawcHBSuiq9d1nzNai0tBoFdxgFFFFMDzrxWN3xy8Dg97LUh/45HXZ6NkWGw9Udh+tcd4o/5Lt4F/69NR/9Ajrr7A+VqV9DjALiQfiOa46vu1oS9UWrcrNOsPxJ5jWqRRQvIWPJVCcVtg5rz69+MvhjSfHl54W12RtPuLdkC3Ev+qfcobr2696rFUPrFJ072uFKfs5qRPaC7sbhZ1gkG08/KeR6dKT4QWU1h4FaC4ChxqF23ynIwZmI5/Gu0guILu3Se1mjngkGUkjYMrD1BFcL8FB/xbo/9hK9/wDSh65MvwDwV4qV0zevX9tq1qehClNIOtLXqI5QxRRRTA8/+Og/4sl4j/64x/8Ao1K71P8AVr9BXBfHT/kiPiP/AK4x/wDo1K76P/VL9KAOV8cf6/w3/wBhuD/0F66wVyfjj/X+G/8AsNwf+gvXWVpL4ImFP+JL5BRRRWZuFFFFABRRRQAUUUUAFFFFABRRRQAUUUUAFFFFABRRRQAUUUUAFFFFABRRRQAh6Vyng3/kMeKP+wo3/oC11Z6Vyng3/kMeKP8AsKN/6Ataw+CXy/MwqfxIf10Mv46f8kS8R/8AXGP/ANGpXexj90n+6K4L46f8kS8R/wDXGP8A9GpXfRf6pP8AdFZG46iiigAooooA868Z/wDJcPhp9NV/9J1r0WvOvGf/ACXD4afTVf8A0nWvRaACsvxLokfiTwzqGjTytDHfQtC0igEqD3Ga1KKAOP8ABvwu8LeBok/sbTozcgfNdzDfK34np+FZvjsf8XQ+HP8A1/Xf/pM1ehV5748/5Kh8Of8Ar+u//SZqAPQqKKKACiiigArzvwd/yW/4j/8AXPSv/REleiV534O/5Lf8R/8ArnpX/oiSgD0SiiigDlPHvw/034habZ6frEs0drb3IuGWE4MmFIxnt1rS8OeEtD8J2As/D+mwWcfcovzN9W6mtmigDz3Qf+S/eLv+wXY/+1K9Crz3Qf8Akv3i7/sF2P8A7Ur0KgAooooAKKKKAPPfgdz8JNN/6+Lv/wBKpa0viAPl8Nf9h61/m1ZvwN/5JJp3/Xxd/wDpVLWn8QPu+G/+w9a/+zVpT+JGVb+GzrgOKWkX7opazNFsGKaVzTqKBkEtnDOpEsat+FU/7KMJJs7iSI9lzlfyNadGK56mHp1NWtSlOSVrmUL28tDi8g8xB1kiOcfhV63u4bqPdDIrD2NS7eeapz6XC7mWEmCb++nGfr61nyVqWsXddnv95V4yXYvUVmw30tvJ5OoLtOcJKPuv/ga0A2elbU6sam25MotDqKKK2JCmtGrjDAEehFOopOKe4FKXSbWQkqnlt6x/LUP9m3EX/HveSD0V+RWnRXNLC0m7pWfkaKpJKxl/8TaMf8sJfqCM04Xd8B89n+KuK0SKTFSsNLpNhzrqkZv9slDiWyuh7iPIrP1jWFlt0FsZY3DZyVIroSM9az9X0+S/t0jiKrhskmuXGUcS6Eowlf8AM0pTpxmnJaGVYeJGTCXo3r/fXqKWGeKf4hI8Db1bS8gj/rrWhY+H7e0UM5Msncnp+AqpgL8RUAGP+JX/AO1a2ymnjKcGsS09Pmc+YOlKUXSXVHQUv1pc460ld4BgUUppKYBXPeE/+Yvj/oJz/wAxXQ1z3hT/AJi//YTn/mK0j8LOap/Eh8zohRQOlFZnSFFFFABRRRQAjVyPgHr4k/7D11/7LXXNXI+AeviT/sO3X/stax/hy+RhP+JD5nVXH/HtL/uH+VZHg7/kU7H/AK5/1NbFx/x7yf7h/lWP4P8A+RUsP+uf9TQv4T9V+pEv94j6P9DbxRioXvrWK6jtZLmFLiUEpE0gDuB3A6mp6yOnQSjFVr3VNP0xVfUr62tFY4UzzKgJ9smp45Y54lkhdZI2GVdDkEexoGYXi4f8S22/6/If/QxW+OlYPi7/AJBtt/1+Q/8AoYrdT7orR/w18/0OaH8aXyHUYopMjdjPPXFZHSB4rnNLH/Fba9/u23/oLV0ZrndJ/wCR217/AHbf/wBBatYbP0OevvD1OhAoxSSzRW8DzXEiRRINzu7BVUepJ6UkM8VzAk1tKk0TjKSRsGVh6gjrWZvYdigihmVELOwVVGSScAVVs9W03UXdNP1C1umj++sEyuV+uDxQFixIP3ZrC8C/8iZYf7rf+htW9J/qzWF4G/5E2w/3W/8AQ2rRfw36/wCZj/y+Xob9LmkpGYKMsQBnHJrM2HVz/iH/AJC2if8AX3/7Ia36wPEP/IW0T/r7/wDZGrWl8X3/AJGFf4PmvzN4ClpBxS1kbJBRRQTjrxQUFc/pw/4rXVv+uEP/ALNW+elYOnf8jrq3/XCH/wBmrantL0/VHLXXv0/X9GXPEfHhbVP+vOX/ANANQeER/wAUXo3/AF4w/wDoAqfxJ/yK2qf9ecv/AKAah8I/8iZo/wD14w/+gCl/y7+Zp/y9+RsEcGs3SVMT3MA+4khK/jWnWbbHytauoz/EoYV51dqNSE/O34HXB6SRpClpAaXNdhkJjPWs280mCcP5a+W7Dkrxn61pikIzWNWjCrFxkioylF3TMHTbm/WzULEsyRnYyqcMpHbnrV1NZgU7bhZIHzjEi4H50xiNP1UueILj73oG9a0GVZEIZQynqCK8+hCrGPJGXw9HqbSlF6yW4R3EUy5idWH+yc1xekah/Z/ibxNIU3q17ECM/wDTIV1MmkWUzBjAqMOjJwR+VcKmW17WrdF4gvFRdo+Zsxg5Pqa0xOIxVDDTkorZar1XQzhTpzrQTfX9Dv7LUIL6LfC3Tqp6iuI+B/8AySu0H/T5ef8ApTJWpp+iXkkiylmtx696ofBl45fhnavBCIUN3d4QNnH+kSd6WX4mtXp3qwsbYinTpytCVzvCAaNoopRXpPVHIVp9PtbhcTQRt7kc1VbRolOYZpYj7PwPwrTorCeGpTd5RNFOS2Z5x8W4EtvhXrLa3PJc6YqxedFFhZGHmpjDfXB/CuzEmqJ1ghlGeCr4z+dcd8ex/wAWO8Rf7kP/AKPjr0PvUvDfyza+f+Y/aPqih9uvEH7zTn/4DIDWRruoNLBGvkzQMrZBcYzx2rp8Vmatpn9pNCnmCMLkn1PTpXDjsPiJ4eUac7v5GtGpCNRSkjE07xFPCVS5zKvTPesWwkW5/aG1JgrhX8NQcMpB/wBe/Y13Nro9raAFF3P/AHm61xdmuP2idT/7FuD/ANKHqsvw2Jo0uWvK48TUpTlemrHZ6M4+xmHduaJ2U/nx+laNZY/0PWt5/wBXdAL9GH+IrUzXXhX7nJ1joY1NZX7hRRRXWZiEV558Go1k8E36uAynWr7g/wDXZq9ENeffBf8A5Eu+/wCw1ff+j2pNJ6MDr5NHjD77SR7d/wDYPH5VHPJqNtA4JimUKfmxtI/CtaobqFZraSN22Ky4J9K4qmFiot0tH5G0ajuubU4m0vp7WQvE5GTkjPFZXxJ1D7fZeDyYnQjxZp2SQcH5z0Nd9aaJZ2q8RiRu7PzXHfFn5bTwcBwP+Et04f8Aj5rz8twWJwzvUnp2N8TXp1X7sT0SiiiveOIKKKKACvOh/wAnPP8A9iev/pYa9Frzof8AJzz/APYnr/6WmgD0Kb/Uv/umua+G/wDyT3Sv+uZ/9Daukn/1L/7prm/hv/yT3Sv+uR/9DatF/DfqYv8AiI6iiiiszYKKKKAOS+KH/JONV/3Y/wD0YtdWn3a5T4of8k41X/dj/wDRi11afdrR/wANer/QwX8Z+i/U8l8Sr4ob9of/AIox9JS7/wCEWj806qkjR+X9rfp5ZB3Zx14xmtny/jJ/z8eB/wDvzd//ABVKn/Jy0v8A2KKf+lj16FWZuee+X8ZP+fjwP/35u/8A4qjy/jJ/z8eB/wDvzd//ABVehUUAee+X8ZP+fjwP/wB+bv8A+Ko8v4yd7jwP/wB+bv8A+Kr0KigDzb4Hi6HhHWf7RMJu/wC377zzACI9/mfNtzzjOcZ5xXpNeffB3/kA+IP+xk1D/wBG16DQAUUUUAFeHeBV8fnU/G//AAhsvhxLH/hLL/eNVjnaXzNy5x5ZA242++c17jXnPwe/5nr/ALHHUP8A2nQA/Z8ZP+e/gf8A78Xf/wAVTvL+Mf8Az8eB/wDvzd//ABVeg0UAefeX8Y/+fjwP/wB+bv8A+Ko8v4x/8/Hgf/vzd/8AxVeg0UAeQeOk+Ko+HviD+1p/B5sf7NuPtItoboSmPy23bNzY3YzjPGa9E8F/8iHoH/YNt/8A0UtU/iX/AMkq8U/9gi6/9FNVzwX/AMiHoH/YNt//AEUtAG3RRRQAVgePBn4c+JB66Tdf+iWrfrB8df8AJO/Ef/YKuv8A0U1AHn/glPiwfh/4eOlT+DRY/wBmW32YXMV0ZRH5S7d+1sbsYzjjOcVueX8ZP+fjwN/35u//AIqt74c/8kt8K/8AYGtP/RKV0lAHnvl/GT/n48Df9+bv/wCKo8v4yf8APx4G/wC/N3/8VXoVFAHnvl/GT/n48D/9+Lv/AOKrlPGq+Pl1nwQfGUvhx7H/AISmy8saVHOsvmYfGfMJG3G73zivba87+Lf+v8Cf9jfZf+gy0Aeh1yWof8lS0X/rxuP5rXW1yWo/8lS0X/rxuP5rWlP4vk/yMa2y9TrqKKKzNgoNFFAGTbA2WsSw9Ipx5iex7itYdKo6nA8lv5kXEsR3J/UVYtrhLiFHXuOnpXFRap1JUn6o0n7yUiaijNJXYZmH41OPA2s/9ecv/oJq9of/ACL+n/8AXrH/AOgiqHjb/kRdZ/68pf8A0E1e0P8A5F/T/wDr1i/9BFav+GvX/IxX8R+hxnxl/wCRd0H/ALGOw/8ARteh1558Zf8AkXdB/wCxj0//ANG16HWZsFFFFABRRRQB4Z8UfDfiXxR8b7Ky8G642iX0fh0yyXAnki3Ri5IKZj55LKcdOKyn+DnxidSr/EqQqRgj+07vn9K9Gf8A5OVi/wCxSf8A9LFr0Gh7AfOFn8Jfi9NbgW/xGkjRCU2/2ndDGPoK8S1zw1r7+P8AUdEkM+tavFctFNLCXlaV88tk8nnua+6bE+XqN3B0DESqD7jn9adZaBpWnXtzeWNhBDc3chlnmRAGkY9ST1rnw83Ond7lzVmfL118OvHnhT4Lazd+Idca10xjbk6M373cTcRgEk/6sgkHjk4wa+s8V5z8fP8AkiGu/wC9a/8ApVFXo1dBAUUUUAFFFFAHivxq0PXfEXxF8G6d4U1Y6RqT298yXQmeLaAIyw3JzyOK5mT4R/F22uos/EWTzZ8r5n9pXXbnBOM16d4m/wCS7+Bf+vPUv/QI67HWY2ax81MhoWEgx7VhiHKNNyjui4b2PCB8HvjGef8AhZUg/wC4ndf4V4p428L+I7L4iXei6rdT67rKlN8yM8zS5QEcsNxwCBz6V93RSCSFHU5DKCDVODQ9MttXuNUgsYUvrnHm3AQb3wMDn6CtovmVybHhfwX+GHxD0C4jvtR1yTRNOLBn01gJjMP9pTwh7Z616H8Ezn4dH/sJXv8A6UPXoJ6V598E/wDknZ/7Cd7/AOlD0xHoIpaQUtABRRRQB5/8dP8AkiPiP/rjH/6NSu+j/wBUv0rgfjp/yRHxH/1xj/8ARqV30f8Aql+lAHK+OP8AX+G/+w3B/wCgvXWVyfjj/X+G/wDsNwf+gvXWVpL4ImFP45BRRRWZuFFFFABRRRQAUUUUAFFFFABRRRQAUUUUAFFFFABRRRQAUUUUAFFFFABRRRQAh6Vyng3/AJDHif8A7Cjf+gLXVnpXKeDf+Qx4n/7Cjf8AoC1rD4JfL8zCp/Eh/XQy/jp/yRLxJ/1xj/8ARqVHGnxi8tcXHgfGBjMN3/8AFVJ8dP8AkiXiT/rjH/6NSu8i/wBUn+6KyNzgdnxj/wCfjwP/AN+Lv/4qjZ8Y/wDn48D/APfi7/8Aiq9BooA8+2fGP/n48D/9+Lv/AOKo2fGP/n48D/8Afi7/APiq9BooA8auV8ZD44/D/wD4TaTQ341L7N/ZKTLj/Rxu3+YT/s4x717NXnXjL/kuHw1+mq/+k616LQAUUUUAFeXfFcau3jjwCPDbWS6l9tuvIN+HMIPkHO4J83TPTvivUa8+8d/8lS+HP/X7ef8ApMaAE8v4yf8APx4H/wC/N3/8VR5fxk/5+PA//fm7/wDiq9CooA898v4yf8/Hgf8A783f/wAVR5fxk/5+PA//AH5u/wD4qvQqKAPPfL+Mn/Px4H/783f/AMVWZ8MBrS/Ff4hDxQ1g2p7NM806eriHHkybdoclumM575r1WvPPB/8AyXD4j/8AXPSv/RElAHodFFFABRRRQB49djxcfjx4l/4Qp9FST+zbL7R/aySsCPn27fLI565z7VvhPjH3uPA//fi7/wDiqNB/5L94u/7Bdh/7Ur0KgDz7y/jH/wA/Hgf/AL83f/xVHl/GP/n48D/9+bv/AOKr0GigDz7y/jH/AM/Hgf8A783f/wAVR5fxj/5+PA//AH5u/wD4qvQaKAPO/gTv/wCFPaZ5u3zPPu923pn7TLnHtWr8QPu+G/8AsPWv/s1ZnwN/5JHp3/Xzef8ApVLWn8QPu+G/+w9a/wDs1XT+JGVb+Gzrl+6KWkX7opag0WwUUUUDCiiigAoxRRQBDPbx3ETRyruVhgiqNi8trdPY3Db8DdE56svofcVqVmasCslpMvGyUAt7HtXHiUoWrLdfkaQd9GaYopAaWutO5mFFFFMAooooAKKKKADFGKKKQBXPN/yUdf8AsF/+1a6Gudb/AJKOv/YL/wDatbUuvozmxG0fVGb8Rh4uk0dovCd5babAIJJbu/kXfLGqrkLGvTJ9T09qj+DWpXusfCHQr/VbqW7u5kl8yeZy7viZwMk8ngAVo+OvEei6H4ZvYtY1W0sZbq0mWBLiZUMp2kYUE89R0rjfgf4s0G2+Dem2surWv2nTbaea8t1kDSQoJZG3FBk9OenesTpNf4reJNW0y30XQ/DlwLXU9fv1tI7nbkwJjLMO2egrnd3iL4afEjw1YXnia+8Q6P4id7WRdSIeSGYAbWQ9gSw49M+xpvxK16yv4fAvj/TJXutDstS3yzLGRtjb5SxBGQAVx0703xPr+l/EH4seBdP8K3sWpxaXdPqV7c2x3pAigFQWHAJK4x6kUwPZ+1c94T/5i/8A2E5/5iuirnfCf/MX/wCwnP8AzFaR+FnPU/iQ+Z0Q6UUCiszoCiiigAooooARq5HwD18Sf9h26/8AZa65q5HwD18Sf9h26/8AZa1j/Dl8jCp/Eh8zq7j/AI9pP9w/yrH8H/8AIqWP/XP+prYuP+PaT/cP8qx/B/8AyKlj/wBc/wCpoX8J+q/UiX+8R9H+h5NJ4RXwt8fPCUk2qXmrahqEN1Jd3l2/LkY2gKOFUA8AV7pXhHiPxVq2pfFTw74it/APi/7Jo8U8U6NpnzuXxgrhsEcdyK9O1HxXqdtL4e+weGb+6i1eVVuNw2PpylQcyjBweehIHB5rI6bHC+HvD2mfET4o+MtQ8WWseqQ6Xcrp1jBMxMcSgZJC9Mnjn1zWh8GlbSdT8XeF0kkez0nUsWiyOW8uN13bRnsM1QiuNa+GPxI8T3T+GtX1zR9flS7gm0qAStFNyCjLkYHPX2HXPHQ/CnQdVso9b17xDamyvtevTdfZHOWgjAwqt74oGW/iv4jt/CvgxdXvIpJooLyHckQG4/N2yQK4EftV+FAMf2JrP/fMX/xdep+NIIrnR7eOeNZIzeQ5V1yD847VoroWkbR/xK7L/wAB0/wrTXkRgnH2rSWuh45/w1Z4U/6Ams/98xf/ABdeY/FH43HxT4g0nVfBj6no89hGyM8jKpbLZ/hYgj2NfWX9haR/0CrL/wAB0/wrzP4nfBQfEDxFpMlrNa6Vp1rE4uDDCBI5LZAUAAdO5PHvWZucV4A/aauZ5YNN8aacZ5Gwq3tjGdzH1aMdT/u4+le1eHp0vPFet3EQYRyR2rLuGDgo3UdqpeCvhV4V8DRg6RpqPdYAa7uP3krH1yen0GK0tFbPjPxCPa2/9ANawtyy9P1Rz1rc9Nef6M5v4weEU8QeFNV1G+1S+S10zSrmeLT4H2RSTLGzLI5HLYwML04961vhQc/Cbw4c5/0FKo/FbXrm08K6nodj4c1zVrjVtNngim06z86KJnRkG85yOTngHiqXwo1rUIvANvo934Y1vT7zR7EBjf2vkpcuM/LGSck/UCsjoI/jdc3E2jaHoFvO8MeuarFa3JRyrNFgsy5HrgD8awfG3hXR/hz4o8Fa54RtE0syaomm3aQsQLiKQZO8Z5OFPPv7CtDxfB4k8d/DjRPENr4fmsNa0vUfto0mdv3jBGZCvIHJXkcenXqYL6fWvir4r8Mwt4W1bRNK0a8GoX0+qRCEvKowscYydw5PPHXtjkEexOMqRXz14e/aa8L6NoVtYTaPq7vCCCyLFg5Ynu/vX0JJwhxXK+C9F0p/CVk0mmWbMVbJNupJ+Y+1XryMzuvar0PN/wDhq3wn/wBAPWf++Yv/AIuua+In7RWgeLfAOp6HpWmara3d2sYimlEYVCsisclXJ6KelfRf9haR/wBAqy/8B0/wrmfiL4Ch8U+AdS0bRbOwtb27EaxzNEECYlVicgZ6A9Kg1PnPwL+0Z4n8M+Xaa/nXbAYGZmxNGPZ/4vo2fqK9/wBP8aad43h0HVNJiuY4mu8FLmExsp2H14P1HFY3gf8AZ58LeFliudWB1vUF5LzriJT/ALKf45ruNchii1PQ0ijREW6wqquABsPAraj8X3/kc+I+D5o0tbh1O50W5g0O6is7+RMQ3Ese9Yz64715d8I7C+0n4n+OdM1DV7vVngFoWuLpsszESEnHQfQV6pq+rWWhaRcanqcrRWlsm+V1jZyo/wB1QSfwFeKeBviL4ai+Mniy+kvJ1ttbe0isHNlP++YbwRjZleWHLY61ibo9b8ba3J4b8DaxrEKhpbO0eSMHpvxhc+2SK8bufAk8Hwbj8fLreqnxY1mmqG8a7cj5sP5ezO3bggYx+nFeheJdVg8eaP4x8G6ZaXiX9nbGIvPGFildl3KFbPTOBkgV57J8RE1D4MQeB7fTdR/4S02UelNp72jgqyAJvLY24wM9fwoGe1eFtVfXPCOl6pIMPeWkczD3ZQar6d/yOurf9cIf/ZqseFtJbQvCOlaU5y1naRwsfdVAqvp3/I7at/1xh/8AZq2p7S9P1Ry4j4qfr+jLniT/AJFbVP8Arzl/9ANQ+Ef+RM0b/rxh/wDQBU3iT/kVtU/685f/AEA1D4R/5EzRv+vGH/0AUv8Al38zT/l78jZrMv8A/R763u/4AfLc+gPf8606inhSaB45BlXGDXFWpOcGludEXZkikEZHSlrL02Z7c/Yro/vEGEY/xrWoM1VGoqkL9QlFxdhaKKDWxJFNBHPGUlUMp7Gs2G4ksJxa3hLRk/upj6eh961qint4rmIxzLuU1zVaMpPnhpIuMktHsPB4zXKeF0U+LPFJIBIvY8HH/TIVsH7RpZ5DT2vqOXT8O4rH8JkyeJPE0oHySXcbI2PvDyxzWtCtGcZxnpJLb5rYxqxfPBrv+h1g4FcB8EOfhXZn/p7vP/SmSvQP4a8/+B//ACSqz/6+7z/0pkq9yz0GgUZoFMAooooA87+PZx8DvEWf7kH/AKUR1x3/AA1b4Sz/AMgTWv8AvmL/AOLrsPj5/wAkN8Rf7kH/AKUR1239haR/0CrL/wAB0/woA8Z/4at8J/8AQE1n/vmL/wCLrzr4sfHG28aNok/hJNT0m702SVzNIyofmCgbSjH+6evrX1X/AGFpH/QKsv8AwHT/AArzn4sfB/8A4WBJokGlNZ6Vb2kkrXUyQjeQwTAVRjJ4PUgCjYDzXwF+03qVu0OneNbI6gvCC9tUAl/4Eg4b8MH616poN/Dqvx3vL+08wQ3Hhi3dBLGUbBuH6qeRV7wR8HfCfgaMSWFl9rvtuGvLvDv+HZfwqGx/5OO1T/sWoP8A0oegDuL61NzbsinD9VPoaSwuftEe2TiaPiRfQ1crOvLeSKb7ZaD96Bhl/vr/AI1x1k6U1Wjt19DRWkuVmjRUFpdx3cIdD9R3B9KnrqjKM4qUdiGmnZga+bPCXx50HwDaanoWp6ZqNxcR6tdyGS3Ee0hpmI6sDX0ma8z+D+k6dd+EL+W6sLaeQ6zfAvJCrH/Xt3IqhHL/APDVvhT/AKAmsf8AfMX/AMXWJ4w/aU8O+IfBuq6RY6Vq0FxeW7RRyuIwEJ7kh817/wD2Bo//AECrL/wHT/CsTxj4Ls9c8HappmmafYw3d1btHFI0SqFY98gZFAHy74D/AGgPFfhEJaag41rTlwPKumPmRj/Zk6/gc+2K9h8QePtM8f8Ah7wdf6XBdW4XxbpoeO4iKkHeeh6N9RUngf8AZv8ADvh1o7vxC/8Abd8uDtcbYEPsv8X1P5Cuh+KttBaWXguG1hSGJPFmnBUjUKB87dhQB6PRRRQAUUUUAFedD/k55/8AsT1/9LTXotedD/k55/8AsT1/9LTQB6DP/qX/AN01zfw3/wCSe6V/1yP/AKG1dJP/AKl/901zfw3/AOSe6V/1yP8A6G1aL+G/Uxf8RHUUUUVmbBRRRQByXxQ/5Jxqv+7H/wCjFrq0+7XKfFD/AJJxqv8Aux/+jFrq0+7Wj/hr1f6GC/jP0X6nn6f8nLy/9iin/pY9ehV56n/Jy8v/AGKKf+lj16FWZuFFFFABRRRQB598Hf8AkA+IP+xk1D/0bXoNeffB3/kA+IP+xk1D/wBG16DQAUUUUAFec/B7/mev+xx1D/2nXo1ec/B7/mev+xx1D/2nQB6NRRRQAUUUUAcx8S/+SVeKf+wRdf8AopqueC/+RD0D/sG2/wD6KWqfxL/5JV4p/wCwRdf+imq54L/5EPQP+wbb/wDopaANuiiigArB8df8k78R/wDYKuv/AEU1b1YPjr/knfiP/sFXX/opqAIfhz/yS3wr/wBga0/9EpXSVzfw5/5Jb4V/7A1p/wCiUrpKACiiigArzv4t/wCv8Cf9jfZf+gy16JXnfxb/ANf4E/7G+y/9BloA9DrktQ/5Klov/XjcfzWutrktR/5Klov/AF43H81rSn8Xyf5GNbZep11FFFZmwUUUUABAPWsr/kH6kE6QTn5f9lvT8a1ar3Vsl1A0cnfofQ+tc9em5JSjutS4ys9diZTS1nWNy6SG0vDiZfusf4x61o1VGoqkboUo8rsYXjb/AJEbWf8Aryl/9BNXtD/5F/T/APr1j/8AQRVHxv8A8iLrP/XlL/6CavaH/wAi/p//AF6xf+giup/AvV/oc6/iP0OJ+Nc0Vv4X0Sa4lSGGPxDYvJJIwVUUSZJJPAAHOa6P/hYvgn/ocNA/8GkP/wAVXL/HbT4dW8E6Zp13uEF3rlnBIUOG2u5U4Prg1i/8MveAv+e+sf8AgUn/AMRWZsehf8LF8E/9DhoH/g0h/wDiqP8AhYvgn/ocNA/8GkP/AMVXn3/DL3gL/ntrH/gUn/xFH/DL3gL/AJ7ax/4FJ/8AEUAeg/8ACxfBP/Q4aB/4NIf/AIqj/hYvgn/ocNA/8GkP/wAVXn3/AAy94C/57ax/4FJ/8RR/wy94C/57ax/4FJ/8RQBqadrela7+0ak+ianZ6jCnhR0aS0nWVVb7WhwSpIzgjivT68W8D+ANH+Hf7QDaboDXLQXHhiSdzcyB23fao16gDjCivaaAMy722+q205zh8xE9hnpWkDmqmqQGexcJ99fnXHqKksZ/tNnFL3Zefr3rjpP2daUH11X6mj1imcF8fP8AkiOu5OPmteT/ANfUVdF/wsXwT/0OOgf+DSH/AOKrnfj6of4Ia6h6M1qOP+vqKsH/AIZe8Bf89tY/8Ck/+IrsMz0H/hYvgn/ocNA/8GkP/wAVR/wsXwT/ANDhoH/g0h/+Krz3/hl/wF/z21j/AMCk/wDiKP8Ahl/wF/z21j/wKT/4igD0L/hYvgn/AKHDQP8AwaQ//FUf8LF8E/8AQ4aB/wCDOH/4qvPf+GX/AAF/z21j/wACk/8AiKX/AIZe8Bf89tY/8Ck/+IoA0dR8Q6Nr3x08FNoWr2OpCGz1ESGzuUm2ZRMZ2k4zg/lXqEiCSNlboRivD9I+GWhfDf45eE4/Dz3bLfWl8ZftUoc/JGuMYA/vGvcqUlzKzAztJbbFJbN96ByuPbtWjWXc5stUS5/5ZT4jfHY9jWoPauTCyai6ct1+XQ0nvddQPSvJfhL4w8M6P4Iks9W8RaTY3SaleFoLm+ijdQZ3IyrMDyK9ar538C/Azwr440C41zWZdRW7m1C6RhBOqphZmUcFT2HrXZczPZf+FieCh/zOGg/+DOH/AOKpf+Fi+Cv+hw0H/wAGcP8A8VXnv/DL3gT/AJ76x/4FJ/8AEUv/AAy94D/576x/4FJ/8RQB6D/wsXwV/wBDhoP/AIM4f/iqP+Fi+Cv+hw0H/wAGcP8A8VXn3/DL3gP/AJ76x/4FJ/8AEUf8MveA/wDnvrH/AIFJ/wDEUAWPjN428K6p8H9fs9N8S6PeXUsSCOC3v4pHc+ah4UMSeAa9ajOYl+gr5z+JfwB8IeEvhxq+uaXLqbXdnGrRia4VkyXVeQEHYnvX0XGP3S/7ooA5bxx/r/Df/Ybg/wDQXrrK5Pxx/r/Df/Ybg/8AQXrrK0l8ETCn8cgooorM3CiiigAooooAKKKKACiiigAooooAKKKKACiiigAooooAKKKKACiiigAooooAQ9K5Twb/AMhjxP8A9hRv/QFrqz0rlPBv/IY8T/8AYUb/ANAWtYfBL+uphU/iQ/roZfx0/wCSI+I/+uMf/o1K72Ifuk/3RXBfHX/kiPiP/rjH/wCjkrvYv9Un+6KyNx+KMUUUAGKMUUUAec+NOPjh8NPpqv8A6TrXo1ec+Nf+S4fDT6ar/wCk616NQAUUUUAFee+PP+SpfDj/AK/rz/0mNehV5748/wCSpfDj/r+vP/SY0AehUUUUAFFFFABXnfg//kuHxH/656V/6Ikr0SvO/B//ACXD4kf9c9K/9ESUAeiUUUUAFFFFAHnugf8AJfvF3/YLsf8A2evQq890D/kv3i7/ALBdj/7PXoVABRRRQAUUUUAee/A3/kkWnf8AXzef+lUtafxA+74b/wCw9a/zasz4G/8AJI9O/wCvm8/9Kpa0/iB93w3/ANh61/8AZqun8SMq38NnXL90UtNXoKdUGi2CiiigYUUUUAFFFFABVe+thdWjxZwSMg+h7VYoqJwU4uL6jTsyhYXhkBgn4nj4YHv71eBzVO8sFnIlhby50+44/r61FFqBt3EWor5Tno4+63+FcsKjpLkq/f8A5ltKWqNKikVg6gqQR6ilrsTTV0ZhRRRTAKKKKACiiigArnT/AMlHX/sGf+1a6KuI8SXGp2vjaKTRIFnuTYYKsM/L5h56jviujDwc5OK7M4sZNU4Kb6NHVX+j6Zqmz+1NOtLzy87PtECybc9cbgcVFa+HtEsjIbLR7C3MqFJDFaom9T1BwOR7Vyf9seOv+gXF/wB8f/ZUn9seOv8AoFR/98f/AGVa/U5/zR+8w/tOn/JL/wABO2XTrFNPFglnbrZhdgtxEBHt9NuMYqPTtF0vSAw0rTrWyD/e+zwrHu+uBzXHf2z46/6BUf8A3x/9lSf2z46/6BUf/fH/ANlR9Tl/NH7w/tOH8kv/AAE741z/AIT+5q3r/ak/8xWCdY8dY50qPH+5/wDZVseBmmfS71rpds7X0plX0bjP60p4eVOm22nts7hDFxr14xUWt91Y6cUUgpa4z1AooooAKKKKAEauR8A9fEn/AGHrr/2WuubpXI+AeviT/sO3X/stax/hy+RhU/iQ+Z1dx/x7y/7h/lWP4P8A+RUsc/8APP8Aqa17n/j2lz/cP8q850XU/FsOkW6aZp0ctqqfu3K5JGfrW1Gi6tNpNLVb/M5cTXVCvFtN6PZX7HpRxjHaiuDOseOv+gVF/wB8f/ZU3+2PHf8A0C4/++P/ALKq+pz/AJo/eZ/2nD+SX3Hf0gGK4H+2PHf/AEC4/wDvj/7Kj+2PHX/QLi/74/8Asqf1Kf8ANH7w/tOn/JL7joPFv/INtv8Ar7h/9DFbq/dFecX2oeKLr7LHrNkkFv8AaoiXC453DHevR1+6KzrUnSik2n6GuFrxr1JSSa23VhaXFIKWuU9AQ1zui/8AI6eIfpbf+gNXRmvPr281uz8Z6v8A2DarcbhD5u5c7cJx3HvXRRhz80V2/VHDjKqpOE2m7Pp6M9AIB60cVwZ1nxv/ANAuP/vj/wCypP7Z8b/9AuP/AL4/+yrT6nP+ZfeYf2nT/kl9x3uB+VLxXA/2z43/AOgXH/3x/wDZUf2z44/6Bcf/AHx/9lR9Tn/MvvD+04fyS/8AATvWGVP0rB8Ff8ihY/7rf+hGsA6z43xzpcf/AHx/9lW74Gz/AMIbYZ/ut/6GaVWi6VJ3aeq2+ZdHFRxFZKMWrJ7q3Y6GiiiuQ9IDXP8AiLjVNDP/AE+H/wBANdBXKeN5LqH+yXsEElyt0fLU9ztNdGHjzVEvX8jlxcuSi5drfmdV1FAUVwX9teOe2kx/98f/AGVH9s+Oj/zCo/8Avj/7KtvqM/5o/ecv9pU/5Jfcd7SbF37sDd61wf8AbHjv/oFR/wDfH/2VH9seO/8AoFR/98f/AGVL6lP+aP3h/aUP5Jf+Ane1g6eMeNNX/wCuEH/s1c//AGx47/6BUf8A3x/9lV3wjPqNx4i1V9YhENyYoQUAxx82O5p/V5U4Sk5J6dH5oj67GtVpxUZLXqrdGb3iT/kV9U/685f/AEA1D4R/5E3R/wDrxh/9AFT+JP8AkV9U/wCvOX/0A1B4R/5EzR/+vGH/ANAFcv8Ay7+Z6P8Ay9NmlxmkFLWW5sU76yW5VWU7JkOUcdjUdjfNI5guh5c69j0b3FXyM1VvbJLtQCdrryrjqK5alOSn7Snv27mikmrMtClrKS8nsZPLvwWj6CcDj8fStJJVdQyHIPcVpSrxqabPsS4tD6SlpK3JEIyK4/RYprrxJ4i8q4aM290ixL/CAYwcY+tdjXLeFf8AkaPFP/X5H/6KFDowq05cy2X6oylJxnG3X/I1hqM1t8moRbB2lXlT/hXK/BiCaz+Gdrb3cTQzLd3e6Nxhhm4kI4+ld3IiupVwCp6givmfwf4p+LCRLPpHh99Y0pbiZEuNwEkoEjA5YtzgjHTtXIo1qe3vL8TqXJLfQ+mqUV5WfEHxM1S1L6bpKaRcKvMOpWm9D9HST+lcheeO/jlZ3pth4e0uduzRQHB/OQVccRB76eonTa21PoOivnweN/j833PB9ow9RAP/AI7S/wDCa/tAf9Cbaf8Afgf/AB2t009URZo734+f8kN8Rf7kH/pRHXotfK/xE8U/GLUPAOp2vi/wzb2WjSLH9pnSIAoBIpXnzD/EFHTvX1RmmIKKM0UAFee2X/Jx2qf9i1B/6UPXoWa8F+Ier+N9H+O08vw80qLUruTQoFuEkj3hY/Ofn7y98UAe9UhGa+e/+E2/aD/6E60/8Bv/ALbS/wDCbftBf9CdZ/8AgN/9toA9yubOaGYXNhjdnLxk4D1PZahFeRkrlHHDI3BU14N/wmv7QX/Qm2f/AID/AP22o18U/HOS+imvvBMLBXBbyIxGzD0z5hrjdKdN81L7jRNSVmfQ+a8/+C//ACJV9/2Gr7/0e1c9rfiX4rrpa6jomk2kAAxJZX9v+9U+zK+GH5Vt/AtL5fhwzatAbe8k1G6kmjK7cM0hJwPTmtqdaFTRb9uopQcT0eiiitiArz34uf6jwd/2Nunf+htXoVeW/Hue/tvCegz6JCs+pReIbN7SJhkSTDeUUjI6tgdRQB6lRXz5/wAJv+0D/wBCdZ/+A/8A9to/4Tf9oH/oTrP/AMB//ttAH0HRXz5/wm/7QP8A0J1n/wCA/wD9to/4Tf8AaB/6E6z/APAf/wC20AfQdedD/k55/wDsT1/9LTXA/wDCb/tA/wDQnWf/AID/AP22rnwx1Txhq/x4u5/iDpsem6kvhrZFFGm0ND9qUhsbm/iLjr2oA9zn/wBS/wDumub+G/8AyT3Sv+uR/wDQ2rpJ/wDUv/umub+G/wDyT3Sv+uR/9DatF/DfqYv+IjqKKKKzNgooooA5L4of8k41X/dj/wDRi11afdrlPih/yTjVf92P/wBGLXVp92tH/DXq/wBDBfxn6L9Tz9P+Tl5f+xRT/wBLHr0KvPU/5OXl/wCxRT/0sevQqzNwooooAKKKKAPPvg7/AMgHxB/2Mmof+ja9Brz74O/8gHxB/wBjJqH/AKNr0GgAooooAK85+D3/ADPX/Y46h/7Tr0avOfg9/wAz1/2OOof+06APRqKKKACiiigDmPiX/wAkq8U/9gi6/wDRTVc8F/8AIh6B/wBg23/9FLVP4l/8kq8U/wDYIuv/AEU1XPBf/Ih6B/2Dbf8A9FLQBt0UUUAFYPjr/knfiP8A7BV1/wCimrerB8df8k78R/8AYKuv/RTUAQ/Dn/klvhX/ALA1p/6JSukrm/hz/wAkt8K/9ga0/wDRKV0lABRRRQAV538W/wDX+BP+xvsv/QZa9Erzv4t/6/wJ/wBjfZf+gy0Aeh1yWo/8lS0X/rxuP5rXW1yWo/8AJUtF/wCvG4/mtaU/i+T/ACMa2y9TrqKKKzNgooooAKMUUUAVL2xW6jGDslXlHHUH/CobO8bd9nuxsmXoezj1FaNVruziuotjjGDkEdQa5KlKcZc9Lfr5mkZK3LLYyvGpz4F1r/ryl/8AQTV7Q/8AkX9P/wCvWL/0EVz/AIwF7Z+DNXjk/wBIhazkAkA+ZflPUd6g0/W5ILayaE7oltolKN0yEGamvmFKhRi6mmtiadGVSs4x7X/EqfGP/kXtB/7GOw/9G16EOleafFa+hvvDGgSQsD/xUVhkdx+9716WOldVOpGpFSi7piacXZhRRRViCiiigDz1/wDk5iL/ALFF/wD0sWvQq8u1rXdK8P8A7Rlvda7qVpptu/hR41lu5liVnN2pCgsQM4BOPY11P/CzPAv/AEOOhf8Agxi/+KoA6dhlT9KybWQadfS2shCxSfvIiT+YrOPxM8DY/wCRx0L/AMGMX/xVeE6v+0JcWfjbVdPvYrfVtEivHFpcWrDeseTgqw4YY/P1rkxUJuPPTXvLY1ptXtLZnp/xs1CK++CevmHkJLaj/wAmoq9Pr558T+KtN8c/CnWYPDN7HcyyRxSPbE7ZFEcySHKnngIfY19DCssBXqVqX71Wktyq1OMJWi7oKKKK9AwCiiigDz3xP/yXbwL/ANeepf8AoEdehV5j471bTtE+NHge91i+t7C1S01ENPcyiNASkYALHjk10/8AwszwN/0OOhf+DGL/AOKoA37u2W6tJIW6OOvp71X026Z4WhuPlnh+Vwe/vWP/AMLM8Df9DhoX/gxi/wDiq8Q8XfHyXRfiZqNtZSWuraHhFhntJFJAKDdhxkNznrXHiIVIv2tJXfbuaQs/dZ9HwXcN1GzQOGAYqceorhfgn/yTo/8AYTvf/Sh6yvAPxK0DX5k/su9XMmBJbS/JIh9dp6/UZFa3wUx/wrrjvqV6f/Jh6nB4iVan+8jyyW6LrUlTlaLuj0Giiiu4wCiiigDgPjn/AMkT8R/9cY//AEald7H/AKpf90VwXxz/AOSJ+I/+uMf/AKNSu9j/ANUv+6KAOV8cf6/w3/2G4P8A0F66yuT8cf6/w3/2G4P/AEF66ytJfBEwp/HIKKKKzNwooooAKKKKACiiigAooooAKKKKACiiigAooooAKKKKACiiigAooooAKKKKAEPSuU8G/wDIY8T/APYUb/0Ba6s9K5Twb/yGPE//AGFG/wDQFrWHwS/rqc9T+JD+uhl/HT/kiPiP/rjH/wCjkrvYv9Un+6K4L46/8kR8R/8AXGP/ANHJXexf6pP90VkdA+iiigAooooA858a/wDJcPhp9NV/9J1r0avOfGv/ACXD4afTVf8A0nWvRqACiiigArz3x5/yVL4cf9f15/6TGvQq898ef8lS+HH/AF/Xn/pMaAPQqKKKACiiigArzvwf/wAlw+JH/XPSv/REleiV534P/wCS4fEj/rnpX/oiSgD0SiiigAooooA890D/AJL94u/7Bdj/AOz16FXnugf8l+8Xf9gux/8AZ69CoAKKKKACiiigDz34G/8AJItO/wCvm8/9Kpa0/iB93w3/ANh61/m1ZnwN/wCSR6d/183n/pVLWn8QPu+G/wDsPWv/ALNV0/iRlW/hs65egpaavQU6oNFsFFFFAwooooAKKKKACiiigAqOaGOaMpKgZT1BFSUUmk1ZhsZZsLi1bOnTbU/55Scj8PSlXU3h+W+geFv7w5U/jWnSMoYYYAj0Ncrw7jrTlb8jTnT0kiKG6hnH7qRW+hqUGqMukWrtuVPLb+9Gdppn2K+hAFtelwO0wzn8RR7WtD44X9A5YvZmlRWYbvUocCSyWUdzG/8AjS/21Ep/fQzw+vmRnj8s0/rVO3vaeoOnLoaVFUl1eyb/AJeI1/3jj+dVNX1XybVHs5kZtwzgg5FTVxtClBzctghSnOXKkbFc63/JRk/7Bn/tWprDxFBcYjuB5MnqehqAkH4ioQc50z/2rXRg8VSxMXKm76HLjKc6bipLqjogKXFNZ1jXLsFHqTihZFkXcjKynoQc1aNhaKCQBycfWmpLHIPkkVvoc0wFb7p+lYHhTpq3/YTn/mK32+6fpWB4V/5iv/YSn/mK0j8LOep/Ej8zoRRQKKzOgKKKKACiiigBGrkfAPXxJ/2Hrr/2WuubpXI+AeviT/sO3X/stax/hy+RhU/iQ+Z1Vz/x7S/7h/lWT4Q/5FOw/wCuf9TWtc/8e0v+4f5Vk+EDjwlYZ/55/wBTQv4T9V+pEv8AeF6P80bVFZMfivw9Lqn9mxa5pz327b9mW6QyZ9Nuc1r/AErI6hKDWfqniDR9DVDrOq2dgH+6bqdY93bjJFXLa6t723S4s5454XGVkjYMrD2IoAxfF3/INtv+vyH/ANDFbqfdFYXi7/kG23/X5D/6GK3V+6K0+wvV/oc8f40vRCilpKxdW8Y6DoWtWml6xqMVldXiF7dZjtWTBwQG6Z9iazOg2j1rndI/5HTX/pb/APoBroFcOoZSGB6EHOa5/SB/xWmv/S3/APQDWkNn6fqc9b4oev6M6KlrO1XXtI0KNZNb1Sz09G+611OsYP03EVZsr+01K0S6066hurd/uywuHVvoRxWZuT0U2WaOCJpJnWNFGWZjgAepNZ+meJNE1qV49H1exvnj++ttcJIV+oBoGX5OENYfgf8A5E2w/wB1v/QzW5L9w1heCP8AkTrD/db/ANCNaL+G/VHM/wCOvR/odDRRWfr2u6f4a0WfVtan+zWNvt86bYW2BmCg4AJ6kVmdJoVz/iH/AJC+if8AX5/7I1aem6tYazZJd6VewXlu4+WWCQMp/EVmeIP+Qvof/X5/7I1bUfi+/wDI58R8HzX5m8OlKBUc08VtA01xKkUSDLO7BQo9STVDSvEuh65K8WjaxY38kf31trlJCv1ANYnQtjToorKHinQP7U/s3+29P+3Zx9m+0p5mfTbnNAjVrA0//kddX/64Qf8As1b5rA0//kdtX/64Qf8As1a09pen6nNX0lT9f0Zc8Sf8itqf/XnL/wCgGofCP/ImaP8A9eMP/oAqfxJ/yK2qf9ecv/oBqDwj/wAiZo3/AF4w/wDoAo/5d/M1/wCXpsilpBS1kahRRRQAx1DqQwyCOQazn014X83TpWibvHn5G/CtSisalGFTffv1KjJxZmJqjwts1CBoSP8AloBlD+NXoriGdQ0UquD/AHTmpGVXUq4BB7GqEujWrvujUwvnO6M4rDlxFN+6+Zfcyrxl5GhXH+GrmKHxb4mjlcKz3ke3Pf8Aditz7JfQtiG93L6Srk/nXC4C+JtaHmEzm4RpQB8obYOFPfiscTmE8NQlNwd9PzCGH9rWhFS7/kem5z0rz74JD/i1tp/1+Xn/AKUyVq6Xqd7GyosclxHnoBkisr4JKB8LbTDK3+mXnzLnB/0mT1rTBY2OLp8yTRdai6UuVs9BxUU1rDcJtmjDD3FS0orscYyVmjFNrYzDo6pj7HcTW+P4QxK/kaQJqkDH54blO24bGrUorn+qU1rDT0K9o+up5x8XY7jWPhXrOmyxx2TTrEBPPIBEpEyH5m7Zxge5FdwNXtf4y6H/AGkIriPj2P8Aix3iL/cg/wDR8dehtGrdVB+oo9nWjtO/qh3i90Vl1Ozf7twn51T1jVDZwRSW5R/n+YZ6itBrK2f70EZ/4DXJ+M77SNDWyW8ubXT/ALU7IhnkWMORjgEn3rixv1yOHk42b8tzagqTqLm2N2x162u9qv8AunPYng/jXKWf/Jxepnt/wjcH/pQ9bOm6AksaSyXCsrYYCJgQR9awtOiWL9ofUYoxhV8NwY5z/wAvD1eXVMVOn/tEbCxKpKX7p3PRhRRRXqnMFFFFADWUNwwyDXnHwtS61Xwpd3cl7OLlNVvIlctuGxZmCrj0A4r0mvPvgv8A8iTe/wDYavv/AEe1ZTowqfEioycdjrRcajaj/SYEuAOrxNg/lStrFuEIcPG+DhXUitIiszxDe22l+H72/vnEdvbxNJI5BO0DvxXLUpVoQfs5/eaKUW9UZNj4gkgbZc5ljzwc8j/Guf8Aincw3Vp4NeB9y/8ACWad/wChtWl4ctrDxHp6X+nanb3dq/Ia2kD49j6H2rJ+KGnw2Nt4NEK4J8W6dknqfnavNyz6+nasvd89zpxKw9/3e56dRRRX0JwBRRRQAV50P+Tnn/7E9f8A0tNei150P+Tnn/7E9f8A0tNAHoM/+pf/AHTXN/Df/knulf8AXI/+htXST/6l/wDdNc38N/8Aknulf9cj/wChtWi/hv1MX/ER1FFFFZmwUUUUAcl8UP8AknGq/wC7H/6MWurT7tcp8UP+Scar/ux/+jFrq0+7Wj/hr1f6GC/jP0X6nn6f8nLy/wDYop/6WPXoVeep/wAnLy/9iin/AKWPXoVZm4UUUUAFFFFAHn3wd/5APiD/ALGTUP8A0bXoNeffB3/kA+IP+xk1D/0bXoNABRRRQAV5z8Hv+Z6/7HHUP/adejV5z8Hv+Z6/7HHUP/adAHo1FFFABRRRQBzHxL/5JV4p/wCwRdf+imq54L/5EPQP+wbb/wDopap/Ev8A5JV4p/7BF1/6Karngv8A5EPQP+wbb/8AopaANuiiigArB8df8k78R/8AYKuv/RTVvVg+Ov8AknfiP/sFXX/opqAIfhz/AMkt8K/9ga0/9EpXSVzfw5/5Jb4V/wCwNaf+iUrpKACiiigArzv4t/6/wJ/2N9l/6DLXoled/Fv/AF/gT/sb7L/0GWgD0OuS1H/kqWi/9eNx/Na62uS1H/kqWi/9eNx/Na0p/F8n+RjW2XqddRRRWZsFFFFABRRRQAUlLSYoAw/Gpx4F1r/ryl/9BNY+i+HLm40izllkjQPBGRjn+EVseNv+RF1r/ryl/wDQTV7Qv+Re07/r1i/9AFYYrBUcXSiqq2YUq06VVuHY89+JmlrpGiaLIjea0mv2CHeOBmUcj34r1AV598Y/+Re0H/sY7D/0bXoIp0qFOjHkpqyLlOU3eTFooorYgKKKKAPGvHPgbRviB8fbTSvEKzNbQ+GWuVEMmw7xdbRz6Yc1Y/4Zn+Hv/PHUf/Aw/wCFbT/8nLxf9ii//pYtehUAeR/8Mz/D3/njqP8A4Fn/AArxp/gB4h1jx/qtjollJY6HbXjww3t6SAUB4293+o496+wcUtAHzx4k+EWkfCv4W6jr2nSSXWu2zW+y9lPEe64jVtq9OVYjnPWvoVVwoA9K89+PX/JFNb/37X/0qir0QdBSsr3AKKKKYBRRRQB5F8VfCemeNfip4K0XXFlazltr92ET7Gyqxkc/UUf8M0fD3/njqP8A4GH/AArb8Uf8l28C/wDXnqX/AKBHXoNAHkf/AAzR8Pf+eOo/+Bh/wryDxD8Adau/iZf6T4Q06aDRIGjVL69c7BlFLYbGW5J6CvrvFJt6daAPJPAv7PPhvwr5V3qjyatqSHcJGOyND/sqP5mt74NTPc+AGlkChjqV5nauBxO46V33avPvgj/yTk/9hO9/9KHqXFOXN1Hd2sehUUUVQgooooA4D45/8kT8R/8AXGP/ANGpXex/6pf90VwXxz/5In4j/wCuMf8A6NSu9j/1S/7ooA5Xxx/r/Df/AGG4P/QXrrK5Pxx/r/Df/Ybg/wDQXrrK0l8ETCn8cgooorM3CiiigAooooAKKKKACiiigAooooAKKKKACiiigAooooAKKKKACiiigAooooAQ9K5Twb/yGPE//YUb/wBAWurPSuU8G/8AIY8T/wDYUb/0Ba1h8Ev66nPU/iQ/roZfx1/5Ij4j/wCuMf8A6OSu9i/1Sf7orgvjr/yRHxH/ANcY/wD0cld7F/qk/wB0VkdA+iiigAooooA858a/8lw+Gn01X/0nWvRq858a/wDJcPhp9NV/9J1r0agAooooAK898ef8lS+HH/X9ef8ApMa9Crz3x5/yVL4cf9f15/6TGgD0KiiigAooooAK878H/wDJcPiR/wBc9K/9ESV6JXnfg/8A5Lh8SP8ArnpX/oiSgD0SiiigAooooA890D/kv3i7/sF2P/s9ehV57oH/ACX7xd/2C7H/ANnr0KgAooooAKKKKAPPfgb/AMki07/r5vP/AEqlrT+IH3fDf/Yetf5tWZ8Df+SR6d/183n/AKVS1p/ED7vhv/sPWv8A7NV0/iRlW/hs65egpaRegpag0WwUUUUDCiiigAooooAKKKKACiiigAooooAKKKKACmlQeop1FJpPcCJ7aF/vxI31UGsbW9M3xRiyg+cschRit6jFcmIwlKvTdOS0ZrSqypyUkc1ZeGDw15Jj/YXt+NEdvHb+P444xhV0zj/v7XSYrn3/AOSiL/2DP/ataYHBUcKmqa6HPja06ri590VvFnw/0fxneW03iB7qa3t4yotEnKROSfvMB1NcP8FENl4q8Z6VpNxNceHbG9Edk0khcI2PmVSewIP6VY+Nfi/W9Nt7Xw5oFpqEY1JcXep2lq8xt4ScMECj75H5dvWrvw/8SeHNI8MS6P4X0LWoItLtXuCt1YPE1wQMn5mA3OTXRYsb8Yr27uZvC/he0upbRNe1MQXMkTbW8lRkgEdMkisLVdAtPhd8UPBkvhV57ey1q4awvrVpmZJSQNr4PfLZz7CrnjybUfEXh7wf470nRb3ztKvhdTaa6fv1iOVb5fX5QcehqK5vp/in8SvCs+l6VqNno3h+Z766ur62aHfJxsjUNyeV59s0CPY2+6fpWB4U6ar/ANhKf+YrfP3T9KwPCn3dV/7Cc/8AMVpH4Gc9T+JH5nQiigUVmdIUUUUAFFFFACNXI+AeviT/ALDt1/7LXXN0rkfAPXxJ/wBh26/9lrWP8OXyMKn8SHzOquP+PaX/AHD/ACrF8LxLP4Ms4pM7JICrYOODkVtXP/HtL/uH+VYXhyWSDwLbzQQm4ljtmZIlODIRkhR9elNfwn6r9SZf7zH0f5o8k+Mfgrwr4e8I6TpXhjSobbXrq9jj04wD98SD8zFuuO5Jr3e2V1s4llI80IAxH97HNeCeGrjxjb+MrrxX4t8AazqeryEx2oieMQ2UX91AW6+pr1m/17XoH8Pmx8OSzx6hIPt++UBrBSAfmx1IJx+FZHScJ4Q0PT/HHxO8bar4ntItSFheLp9pFcrvSFFGThTxzxV/4OJ/ZGt+MvDUBYWWman/AKLGTkRq67to9qrLB4m+HPxE8R32meHLvX9H191uk+xuoeCcAghg2ODn9K6D4XeGtV0mDWNZ8RRC31PXLw3UluG3eQuMKmfYUgJPi3Prlt4I8zwtAs+pi7h8pHAwfm9yBXmY8QftF9vD1n/3zB/8cr2bxh/yDLb/AK/If/QxW2n3BV29y5gpfvXG3Y+fv+Eh/aM/6F6z/wC+YP8A45XlXxgvfiBf3+mt8SbCKznWJhbCIIAy55J2se/rX2xiuW8UfDfw74z1mw1HxJateGwRligZyIzk5ywHX6dKg3Pm34L698UTeR23hWGXUdKRtsgvc/Z4x6Bz0+gz9K+l/DzSv4o1s3Sos5jtjIsZyoOw5wa37aztrK2jtrO3it4IhtjiiQIqD0AHAFYukf8AI5a+P9m3/wDQDWsPhl6fqjnrfHD1/Rkeu+DfC+p6i2ueItOtrmSC3KGW65SKMZJODwO/NcH+z9albDxNeaekkWg3Wqu2lo4IHlgkZAPbp+VHxiXxfrep2nh/TtB1G88Mvtk1GTT3RZLkA58oFiMDjn/61dZ4O1nUG0iexi8FXmgwadbYtIJ3TbKQOEXaTj8fWsjoMP43yzXWm+HtAimaOHWdYitrnBI3RAFiuR6kCsb4h+GtK8D+JfA+u+GbOLTpl1aPT5lt12iaKRSSGx1+6fzrT8Wab4p8cfDjR9XbR103xHpl99tTTmkznYzLt3f7S8/jVe5g8TfEzxb4aOq+GbrQdI0S5+3XLXjrummUYVUAJ45P50AeusMqc182aHrvx7i0W3TR9CtZLQA+WzLDk8nPWT1zX0i/ER+lYngkf8UhY/7rf+hGrt7jZjf96l5HjX/CQftG/wDQu2f/AHzB/wDHK5v4g6z8brnwHqcXjDRba20VlT7VLGsOVHmLj7rk/e29q+qKyPFXhuy8X+GbvQtVMotLvYJfKbaxCurYB7fdqDY+HvAeteM9N1uOPwLLftdu3/HvbKXV/wDeXpj3PSvrXSbnxVdWnh1/G9paWuo/a/mS1fIPyHluwPsCRXU+G/COg+EbAWfh3TILGLjcYx8zn1Zjy34mofEPGraHj/n8P/oBraj8f3/kc+I/h/d+aLuvaBp/iXR5NL1iHz7OUqZI9xG7aQQDjtkV49qvh7SLL9ojwnZeBbKKyuLGGSbVfso2okOMAPjuRx/wIV6j461LXdL8HXlx4U05tR1bAS3hGOCTgtz1wOcV5r8NZde8LnZeeAdbm1LVLhW1LVp3iy7E8k/NnauScVj0Nz0f4i6tPofw413UbNilxBZuYnHVWIwCPoTmvL7r4daDb/s4RakllGNX/syPUv7Q/wCW3nsokJ39erV32qR6z40t/FfhjUtHOnae0Hk2N+ZMi4JXOcdsN/KuDB+IF98M4fh7L4UnhvFgXT5NVaRPswhX5Q4wc52gdqAPV/BOoy6v4C0TULkkzXNjFI5PclRmmWH/ACO2rf8AXGD/ANmrQ0LS49E8O2GlwMWjs7dIVY99oxWfYf8AI7at/wBcIP8A2atae0vT9TmxHxU/X9GXPEn/ACK2qf8AXnL/AOgGofCP/ImaN/14w/8AoAqfxJ/yK+qf9ecv/oBqDwj/AMiZo/8A14w/+gCj/l38zT/l78jZFLSClrG5sFFFFMAooooAKKKKAEIritD062vvF3iZ7hN7R3iADPH+rWu2rlPC3/I2eLP+v2L/ANFCq9lCrTkpq60/NGcpONSLX9aM6WCFIVCxoFHsK4P4HsW+FdmT/wA/l5/6UyV6CBXnvwN/5JTZ/wDX5ef+lMlZxjGKtFWNW23dnodFFFUIKKKKAPO/j5/yQ3xF/uQf+j468/8A+Eg/aN/6F2z/AO+YP/jlegfHv/khviL/AHIP/R8deiUAfPf/AAkH7Rv/AELtn/3zB/8AHK81+MWo/Eu+s9K/4WXpsFlEkkn2QxiP5mIXd91j2Ar7OrlvGPw90Lx3c6Y/iOGS5h053dIBIUVy4UfNjkj5exFAHyx8Idd+JsWorbeCEuL+zVgJYbgFrZBnux4X8Dn2NfQmgG9f493j6rHDFeHwxb+ckDFkVvPfIBPJFeh6fptlpVjHZ6ZaQ2dtEMJDBGEVR7AVw1nx+0Zqf/Ytwf8ApQ9AHoVFFFABRRRQAV8w+GtW+MVpDqcXgLR7e60YardlJZFiJL+c24fM4PX2r6erz34L/wDIk3v/AGGr7/0e1AHn3/CQftGf9C7Z/wDfMH/xysbxdrfx1n8H6nF4l0O1g0l7dhdyIsOVj7kYcn8hX05Wdr+i2/iLQLzSL1nW3vIjFIYzhgD6UAfB3hDVvFGm67EPB016t/IcLDaAsZPYqOo+tfSesXfjK98L+DJPH1ha2d5/wlmm7BC+WPzn7wHAP0NeneEvA3h7wTYm28O6ZDabhiSbG6WT/ec8n6dK5z4vDFv4Mxx/xV2nf+htQB6JRRRQAUUUUAFedD/k55/+xPX/ANLTXotedD/k55/+xPX/ANLTQB6DP/qX/wB01zfw3/5J7pX/AFyP/obV0k/+pf8A3TXN/Df/AJJ7pX/XI/8AobVov4b9TF/xEdRRRRWZsFFFFAHJfFD/AJJxqv8Aux/+jFrq0+7XKfFD/knGq/7sf/oxa6tPu1o/4a9X+hgv4z9F+p5+n/Jy8v8A2KKf+lj16FXnqf8AJy8v/Yop/wClj16FWZuFFFFABRRRQB598Hf+QD4g/wCxk1D/ANG16DXn3wd/5APiD/sZNQ/9G16DQAUUUUAFec/B7/mev+xx1D/2nXo1ec/B7/mev+xx1D/2nQB6NRRRQAUUUUAcx8S/+SVeKf8AsEXX/opqueC/+RD0D/sG2/8A6KWqfxL/AOSVeKf+wRdf+imq54L/AORD0D/sG2//AKKWgDbooooAKwfHX/JO/Ef/AGCrr/0U1b1YPjr/AJJ34j/7BV1/6KagCH4c/wDJLfCv/YGtP/RKV0lc38Of+SW+Ff8AsDWn/olK6SgAooooAK87+Lf+v8Cf9jfZf+gy16JXnfxb/wBf4E/7G+y/9BloA9DrktR/5Klov/XjcfzWutrktR/5Klov/XjcfzWrp/F8n+RjW2XqddRRRUGwUUUUAFFFFABRRRQBg+Nj/wAUNrP/AF5S/wDoJq/of/Iv6d/16xf+gCqHjb/kR9Z/68pf/QTV/Q/+Rf07/r1i/wDQBWr/AIa9TFfxWcb8Yv8AkX9B/wCxjsP/AEbXoArzf44x3Evg/SI7KcW9y+vWSxTMm8RuZOGK98HBx3qb/hGfif8A9FDsP/BCn/xdZGx6HRXnn/CM/E//AKKJYf8AghT/AOLpf+EZ+J//AEUSw/8ABCn/AMXQB6FRXnv/AAjPxP8A+iiWH/ghT/4uj/hGfif/ANFEsP8AwQp/8XQAj/8AJy8X/Yov/wCli16FXkfhvT9f0/8AaH8vxRrcOs3LeFpGjmhsxbBE+1p8u0E55BOfevXKAFooooA87+PX/JFNb/37T/0qir0QdK85+PuT8ENd2nB3WuD6f6VFTx4Y+J+P+Si2H/ggT/4ugD0OivPf+EY+J/8A0USw/wDBAn/xdH/CMfE//oolh/4IE/8Ai6APQqK89/4Rj4n/APRRLD/wQJ/8XR/wjHxP/wCiiWH/AIIE/wDi6ADxR/yXbwL/ANeepf8AoEdehV44umeJtO+Ong//AISvxDBrTPaX/kGGwW28rCJuzhjuzkfTFex0AFFFFAAeleefBH/knJ/7Cd7/AOlD16GeleG/DHQvHF94Rln8PeMbXS7FtRuwlrJpKzspE75O8sM5PPSgD3KivPf+EX+J3/RRLH/wQp/8XR/wi/xO/wCiiWP/AIIU/wDi6APQqK89/wCEX+J3/RRLH/wQp/8AF0f8Iv8AE7/oolj/AOCFP/i6AH/HP/kifiP/AK4x/wDo1K72P/VL/uivDvizoHj2z+Fetz6341tNRsUiQzWsejrC0g8xcAOHOOcHp2r3GP8A1S/7ooA5Xxx/r/Df/Ybg/wDQXrrK5Pxx/r/Df/Ybg/8AQXrrK0l8ETCn8cgooorM3CiiigAooooAKKKKACiiigAooooAKKKKACiiigAooooAKKKKACiiigAooooAQ9K5Twb/AMhjxP8A9hRv/QFrqz0rlPBv/IY8T/8AYUb/ANAWtYfBL+upz1P4kP66GX8df+SI+I/+uMf/AKOSu9i/1Sf7orgvjr/yRHxH/wBcY/8A0cld7F/qk/3RWR0D6KKKACiiigDznxr/AMlw+Gn01X/0nWvRq858a/8AJcPhp9NV/wDSda9GoAKKKKACvPfHn/JUvhx/1/Xn/pMa9Crz3x5/yVL4cf8AX9ef+kxoA9CooooAKKKKACvO/B//ACXD4kf9c9K/9ESV6JXnfg//AJLh8SP+uelf+iJKAPRKKKKACiiigDz3QP8Akv3i7/sF2P8A7PXoVee6B/yX7xd/2C7H/wBnr0KgAooooAKKKKAPPfgb/wAki07/AK+bz/0qlrT+IH3fDf8A2HrX+bVmfA3/AJJFp3/Xzef+lUtafxA+74b/AOw9a/zarp/EjKt/DZ1y9BS0i9BS1BotgooooGFFFFABRRRQAUUUUAFFFFABRRRQAUUUUAFFFFABRRRQAVzz/wDJRF/7Bn/tSuhrktV1W00jx4k9/IY4jp20MFLc+Z6AVtRTbaXZnJipKMYuTsro6sU6udHjnQP+fx/+/En/AMTSjxzoH/P4/wD34k/+JqfY1f5WX9aofzo6AgEUAYXHauf/AOE60D/n8b/vxJ/8TR/wnOgf8/jf9+JP/iafsav8rF9aofzo3z90/SsHwp/q9V/7Cc/8xTf+E40A8fbG/wC/En/xNM8GTpc2mozwnMcmoTOhwRkHBHWqUJRg+ZWMva06laPI77nSCloFFYHcFFFFABRRRQAjVyPgHr4k/wCw7df+y11zVyPgHr4k/wCw7df+y1rH+HL5GFT+JD5nVXH/AB7S/wC4f5VkeEP+RTsP+uf9TWvc/wDHtL/uH+Vcd4c1LWovDtolpoRuIlTCy/akXcM9cGrhHmpP1X6mNWahiIt9n+h2tGOvvXO/2v4iH/MtN/4Gx0v9seIv+hZb/wADY6z9m/L7zX28ez+5nQbR6Uo4Fc9/bHiL/oWW/wDA2Oj+1/EX/QtN/wCBsdHs3/TH7ePZ/cx/i/8A5Btt/wBfkP8A6GK3FHyiuK1/UdXuLe1S/wBFNpF9rhzL9pR8HeOwrtl+6KucbQXzMqU1OrJ+gopaQUtYHYJ3rndI/wCR017/AHbf/wBANdF3rjReX9n4y1n+ztON8WEG/Eyx7PkOOvXPP5VrTTaa8jlxEuVwb7/odkOKK54azr5/5ltv/A2Ol/tjX/8AoXG/8DI6Xs35feivbxts/uOgxzS1z39sa/8A9C23/gbHR/bGv/8AQuN/4GR0/Zvy+9D9tHs/uN6T/VmsPwT/AMihY/7rf+hmo31jXypz4cYD/r9jqTwRz4Psf91v/QzTcWqb9TOM1KsrdjfooorE6xKwPEP/ACF9D/6/P/ZGrfrmfFss0N5o720H2iUXXyRbwu47D3NbUfj+/wDI5sS7U7+n5nSjpTq5z+1/EI/5ls/+BsdH9teIf+haP/gbHS9lLy+9AsRHs/uZ0ZGaTGOlc7/bXiH/AKFpv/A2Oj+2fEP/AELR/wDA2Oj2UvL70H1iHZ/czou1YGn/API7av8A9cYP/Zqb/bPiH/oWj/4Gx1X8PT3Nz4q1WS+tPskxihBiMgfA+bnIrSFNqMm+36oxqVYznBK+/byZr+Jf+RX1T/rzl/8AQDUHhH/kTNH/AOvGH/0AVP4k/wCRX1T/AK85f/QDUHhH/kTNG/68Yf8A0AVl9j5nT/y9+RsilpBS1mbBRRRQAUUUUAFFFFABXJ+FT/xVniv/AK/Yv/RQrrK5Pwt/yNniv/r8i/8ARQran8E/Rfmc9X44er/I6yvPfgb/AMkps/8Ar8vP/SmSvQq8L+FvibxnpvgOG10P4fvrNkl3deXejWIIPMzO5PyPyMHI564zWB0HulFeef8ACafEb/olEn/hQ2tH/CafEb/olEn/AIUNrTA9Dorzz/hNPiN/0SiT/wAKG1o/4TT4jf8ARKJP/ChtaAE+Pn/JDfEX+5B/6Pjr0QV4P8X/ABR411D4Ua1a6z8PZNIspFi829Os28/lYmQj5F5OSAOPXNe8UAFFFFABXntp/wAnG6n/ANi3B/6UPXoVeQ67quvaT+0Dey+G/DTeIJn8PQLJCt9HbeWvnud2X4PPGBQB69RXnn/CafEb/olEn/hQ2tJ/wmnxH/6JPJ/4UNrQB6JRXnf/AAmnxH/6JPJ/4UNrR/wmnxH/AOiTyf8AhQ2tAHolee/Bb/kSL7/sNX3/AKPam/8ACafEf/ok8n/hQ2tR/A2SWX4ezyXMP2eZ9WvWkh3hvLYzHK5HBweM0AekCigUUAFeefF//j38Gf8AY3ad/wChtXodeZ/G+e5ttE8LT2Np9tuovFFi8NsJBH5zgsVTceFycDJ4GaAPTKK87/4TX4jf9Eok/wDChtaB41+Ix/5pRJ/4UNrQB6JRXnn/AAmnxG/6JRL/AOFBa0f8Jp8Rv+iUS/8AhQWtAHodedD/AJOef/sT1/8AS007/hNPiN/0SiX/AMKC1rE8L6nrWrftFzz+I/D7aBdL4VCJbNeR3O9PteQ+5OBkkjHX5fegD1qf/Uv/ALprm/hv/wAk90r/AK5H/wBDaukn/wBS/wDumub+G/8AyT3Sv+uR/wDQ2rRfw36mL/iI6iiiiszYKKKKAOS+KH/JONV/3Y//AEYtdWn3a5T4of8AJONV/wB2P/0YtdWn3a0f8Ner/QwX8Z+i/U8/T/k5eX/sUU/9LHr0KvPU/wCTl5f+xRT/ANLHr0KszcKKKKACiiigDz74O/8AIB8Qf9jJqH/o2vQa8++Dv/IB8Qf9jJqH/o2vQaACiiigArzn4Pf8z1/2OOof+069Grzn4Pf8z1/2OOof+06APRqKKKACiiigDmPiX/ySrxT/ANgi6/8ARTVc8F/8iHoH/YNt/wD0UtU/iX/ySrxT/wBgi6/9FNVzwX/yIegf9g23/wDRS0AbdFFFABWD46/5J34j/wCwVdf+imrerB8df8k78R/9gq6/9FNQBD8Of+SW+Ff+wNaf+iUrpK5v4c/8kt8K/wDYGtP/AESldJQAUUUUAFed/Fv/AF/gT/sb7L/0GWvRK87+Lf8Ar/An/Y32X/oMtAHodclqP/JUtF/68bj+a11tclqH/JUtF/68bj+a1pT+L5P8jGtsvU66iiiszYKKKKACiiigApKWkoEYXjb/AJEbWf8Aryl/9BNX9D/5F/Tv+vWL/wBAFUPG3/Ijaz/15S/+gmr+h/8AIv6d/wBesX/oArR/w16mS/iP0OM+Mn/IvaD/ANjHp/8A6Nr0IdK89+MYz4f0H/sY9P8A/RtehVmbBRRRQAUUUUAeev8A8nLRf9ii/wD6WLXoNefP/wAnKxf9ii//AKWLXoNAC0UUUAedfHv/AJIlrn+/a/8ApVFXog6V538e/wDkieuf79r/AOlUVeijpQAUUUUAFFFFAHnvib/ku/gX/rz1L/0COvQq898Tf8l38C/9eepf+gR16FQAUUUUAB6V558Ef+Scn/sJ3v8A6UPXoZ6V558Ef+Scn/sJ3v8A6UPQB6HRRRQAUUUUAef/AB0/5Il4j/64x/8Ao1K76P8A1a/QVwPx0/5Il4j/AOuMf/o1K76P/VL/ALooA5Xxx/r/AA3/ANhuD/0F66yuT8cf6/w3/wBhuD/0F66ytJfBEwp/HIKKKKzNwooooAKKKKACiiigAooooAKKKKACiiigAooooAKKKKACiiigAooooAKKKKAEPSuU8G/8hjxP/wBhRv8A0Ba6s9K5Twb/AMhjxP8A9hRv/QFrWHwS/rqc9T+JD+uhl/HX/kiPiP8A64x/+jkrvYv9Un+6K4L46/8AJEfEf/XGP/0cld7F/qk/3RWR0D6KKKACiiigDznxr/yXD4afTVf/AEnWvRq858a/8lw+Gn01X/0nWvRqACiiigArz3x5/wAlS+HH/X9ef+kxr0KvPfHn/JUvhx/1/Xn/AKTGgD0KiiigAooooAK878H/APJcPiR/1z0r/wBESV6JXnfg/wD5Lh8SP+uelf8AoiSgD0SiiigAooooA890D/kv3i7/ALBdj/7PXoVee6B/yX7xd/2C7H/2evQqACiiigAooooA89+Bv/JI9O/6+bz/ANKpa0/iB93w3/2HrX+bVmfA3/kkWnf9fN5/6VS1p/ED7vhv/sPWv82q6fxIyrfw2dcvQUtIvQUtQaLYKKKKBhRRRQAUUUUAFFFFABRRRQAUUUUAFFFFABRRRQAUUUUABrnWH/FxE/7Bp/8ARldFXOt/yUVP+wYf/Rta0+vozlxO0fVHQbaNvsKd2orHU6rIbsHoKNg/yKdRT1FZDCg64rA8KnjVf+wlP/MV0LdK5/wqPk1U/wDUSn/mK1j8DOapZVY/M6EUUgpayOkKTNMmyYnwSDtOCK5W38QXEDBZ/wB6o7968/F4+jhJRVXS500qE6qbj0OuorPtNatLvAV9jf3WNXwwNdVKvSrK9OVzGcJQdpKwNXI+AeviT/sO3X/stdeelcj4BGD4j/7Dtz/7LXXH+HL5HLU/iw+Z1Nx/x7y/7h/lWT4P/wCRTsP+uf8AU1rXP/HtL/uH+VZHg/8A5FLT/wDrn/U0L+E/VfqTL/eY+j/NG3RS0lZHSFFLRQM5/wAX/wDIMtv+v2H/ANDFby/dFYPi/wD5Blr/ANfkP/oYreX7orR/w18zmj/Gl6IUUtIKWszpE71zuk/8jpr3+7b/APoBroj1rndJH/Faa9/u2/8A6Aa0hs/Q563xQ9f0OiooorM3CilxRQAyQfuzWH4IP/FH2P8Aut/6Ga3JP9WawvBH/InWP+63/oZrT/l2/VfqYP8AjL0OgooorM6BK5/xD/yGdC/6/P8A2Rq6Cuf8Q/8AIZ0L/r8/9kataXxff+Rz1/g+a/M6GjFFFZHQGKKKKAA9K53Tv+R41f8A64wfyauiPSue0/8A5HfV/wDrjB/Jq1p7S9P1Ry4j4oev6Mu+JP8AkVtU/wCvOX/0A1D4R/5EzRv+vGH/ANAFTeJD/wAUvqn/AF6S/wDoBqHwj/yJmjf9eMP/AKAKX2Pmaf8AL35GyKWkFLWZsFFFFABRRRQAUUUUAFcn4V/5GzxX/wBfkX/ooV1hrlPCv/I2eK/+v2L/ANFCtqfwT9F+ZhU+OHr+h1deefA4/wDFqrT/AK/Lz/0pkr0OvO/gb/ySm0/6/Lz/ANKZKwNz0SiiimAUUUUAed/Hv/kh3iL/AHIP/R8deiV538e/+SHeIv8Acg/9Hx16JQAUUUUAFefWX/Jxuqf9i3b/APpQ9eg157Zf8nG6p/2LVv8A+lD0AehUUUUAFFFFABXnnwW48E33/Yavv/R7V6HXnvwW/wCRJvv+w1ff+j2oA9CFFFFABXnnxe/1Hgz/ALG7Tv8A0Nq9Drzz4vf8e/gz/sbtO/8AQ2oA9DooooAKKKKACvOh/wAnPP8A9iev/paa9Frzof8AJzz/APYnr/6WmgD0Gf8A1L/7prm/hv8A8k90r/rkf/Q2rpJ/9S/+6a5v4b/8k90r/rkf/Q2rRfw36mL/AIiOoooorM2CiiigDkvih/yTjVf92P8A9GLXVp92uU+KH/JONV/3Y/8A0YtdWn3a0f8ADXq/0MF/Gfov1PP0/wCTl5f+xRT/ANLHr0KvPU/5OXl/7FFP/Sx69CrM3CiiigAooooA8++Dv/IB8Qf9jJqH/o2vQa8++Dv/ACAfEH/Yyah/6Nr0GgAooooAK85+D3/M9f8AY46h/wC069Grzn4Pf8z1/wBjjqH/ALToA9GooooAKKKKAOY+Jf8AySrxT/2CLr/0U1XPBf8AyIegf9g23/8ARS1T+Jf/ACSrxT/2CLr/ANFNVzwX/wAiHoH/AGDbf/0UtAG3RRRQAVg+Ov8AknfiP/sFXX/opq3qwfHX/JO/Ef8A2Crr/wBFNQBD8Of+SW+Ff+wNaf8AolK6Sub+HP8AyS3wr/2BrT/0SldJQAUUUUAFed/Fv/X+BP8Asb7L/wBBlr0SvO/i3/r/AAJ/2N9l/wCgy0Aeh1yWo/8AJUtF/wCvG4/mtdbXJah/yVLRf+vG4/mtaU/i+T/IxrbL1OuooorM2CiiigAooooAKSlooAwfG3/Ijaz/ANeUv/oJq/of/Iv6d/16xf8AoAqj42/5EbWf+vOX/wBBNXtD/wCRf07/AK9Yv/QBWj/hr1MV/Efocb8Yv+Rf0H/sY9P/APRteg1598Yv+Rf0H/sY9P8A/Rteg1mbBRRRQAUUUUAeev8A8nKxf9ii/wD6WLXoNefP/wAnKxf9ii//AKWLXoNAC0UUUAed/Hr/AJInrn+/a/8ApVFXogrzv49f8kT1z/ftf/SqKvRBQAUUUUAFFFFAHnvib/ku/gX/AK89S/8AQI69Crz3xN/yXfwL/wBeepf+gR16FQAUUUUAB6V558Ef+Scn/sJ3v/pQ9ehnpXnnwR/5Jyf+wne/+lD0Aeh0UUUAFFFFAHn/AMdP+SJ+I/8ArjH/AOjUrvo/9Uv+6K4H46f8kT8R/wDXGP8A9GpXfR/6pf8AdFAHK+OP9f4b/wCw3B/6C9dZXJ+OP9f4b/7DcH/oL11laS+CJhT+OQUUUVmbhRRRQAUUUUAFFFFABRRRQAUUUUAFFFFABRRRQAUUUUAFFFFABRRRQAUUUUAIelcp4N/5DHif/sKN/wCgLXVnpXKeDf8AkMeJ/wDsKN/6Ataw+CX9dTnqfxIf10Mv46/8kR8R/wDXGP8A9HJXexf6pP8AdFcF8dP+SI+I/wDrjH/6OSu9i/1Sf7orI6B9FFFABRRRQB5z41/5Lh8NPpqv/pOtejV5z41/5Lh8NPpqv/pOtejUAFFFFABXnvjz/kqXw4/6/rz/ANJjXoVee+PP+SpfDj/r+vP/AEmNAHoVFFFABRRRQAV534P/AOS4fEj/AK56V/6Ikr0SvO/B/wDyXD4kf9c9K/8ARElAHolFFFABRRRQB57oH/JfvF3/AGC7H/2evQq890D/AJL94u/7Bdj/AOz16FQAUUUUAFFFFAHnvwN/5JHp3/Xzef8ApVLWn8QPu+G/+w9a/wDs1ZnwN/5JFp3/AF83n/pVLWn8QPu+G/8AsPWv82q6fxIyrfw2davQU6kXoKWoNFsFFFFAwooooAKKKKACiiigAooooAKKKKACiiigAooooAKKKKACudb/AJKMn/YMP/o2uirnW/5KMn/YMP8A6NrWn9r0Zy4jaPqjoqKKKxR1BRRRTARuRXK6PqMOl/2jHdBg0l9LIoAzlSeP5V1R6VwF7hr+62FSBM469MMRXjZtja+EpJ0urOnC4alXq3m9joz4ptAcCKU+4A/xpjeKov4Ld/xIrmNh9KkWCUrlYmP0FfMSzjMJbfket9Sw8epvP4p44ts/8D/+tXO5y2asfY7oj/j2m/74NQYx1GK4MViMViLe36eR00aVGnf2Yh9qv2et3tngK/mJ/dfmqFWLSxuL1wsEZIzy3YVjh54hS/cN38jSqqbj+82OmtfEVtMAs/7pj+I/OsnwAwb/AISMryP7ducH1+7WpY6BDbsHn/euPy/KsrwBwfEmP+g9df8AstfpOXfWvq8vrNr6f0z5TFey9tH2fmdXc/8AHtL/ALh/lWR4O/5FGw/65/1Na1z/AMe0v+4f5Vk+Dv8AkUbD/rn/AFNeiv4T9f8AM5Jf7wvR/mjcooFBrI6gooFFAHP+L/8AkG2v/X5D/wChit5fuisHxf8A8g21/wCvyH/0MVvJ90Vp9herOaP8aXohRS0gpazOkQ9a57Sf+R013/dt/wD0A10J61z2k/8AI6a9/u2//oBrSGzOet8UPX9DoaWgUVmdAUGig0AMl/1ZrD8Ef8idYf7rf+hmtyX/AFZrD8Ef8idYf7rf+hmtP+Xb9V+pzv8AjL0N+iiiszoErn/EP/IZ0L/r8/8AZGroK5/xD/yGdC/6/P8A2Rq1o/F9/wCRz1vh+a/M6GiiisjoCiiigAPSue0//kd9X/64wfyauhPSue0//kd9X/64wfyatae0vT9TlxHxU/X9GXfEn/Ir6p/15y/+gGofCP8AyJmjf9eMP/oAqbxJ/wAivqn/AF6S/wDoBqHwj/yJmjf9eMP/AKAKP+XfzNP+XpsilpBS1ijYKKKKYBRRRQAUUUUAFcn4V/5GzxX/ANfkX/ooV1lcn4V/5GzxX/1+Rf8AooVtT+CfovzOer/Eh6v8jrK87+Bv/JKbT/r8vP8A0pkr0SvO/gb/AMkptP8Ar8vP/SmSsDoPRKKKKYBRRRQB538e/wDkh3iL/cg/9Hx16JXnfx7/AOSHeIv9yD/0fHXolABRRRQAV57Zf8nHap/2LUH/AKUPXoVee2X/ACcdqn/YtQf+lD0AehUUUUAFFFFAB3rz34Lf8iTff9hq+/8AR7V6F3rz34Lf8iTff9hq+/8AR7UAehUUUUAFeefF/wD49/Bn/Y3ad/6G1eh1558X/wDj38Gf9jdp3/obUAeh0UUUAFFFFABXnQ/5Oef/ALE9f/S016LXnQ/5Oef/ALE9f/S00Aegz/6l/wDdNc38N/8Aknulf9cj/wChtXST/wCpf/dNc38N/wDknulf9cj/AOhtWi/hv1MX/ER1FFFFZmwUUUUAcl8UP+Scar/ux/8Aoxa6tPu1ynxQ/wCScar/ALsf/oxa6tPu1o/4a9X+hgv4z9F+p5+n/Jy8v/Yop/6WPXoVeep/ycvL/wBiin/pY9ehVmbhRRRQAUUUUAeffB3/AJAPiD/sZNQ/9G16DXn3wd/5APiD/sZNQ/8ARteg0AFFFFABXnPwe/5nr/scdQ/9p16NXnPwe/5nr/scdQ/9p0AejUUUUAFFFFAHMfEv/klXin/sEXX/AKKarngv/kQ9A/7Btv8A+ilqn8S/+SVeKf8AsEXX/opqueC/+RD0D/sG2/8A6KWgDbooooAKwfHX/JO/Ef8A2Crr/wBFNW9WD46/5J34j/7BV1/6KagCH4c/8kt8K/8AYGtP/RKV0lc38Of+SW+Ff+wNaf8AolK6SgAooooAK87+Lf8Ar/An/Y32X/oMteiV538W/wDX+BP+xvsv/QZaAPQ65LUf+SpaL/143H81rra5LUf+SpaL/wBeNx/Na0p/F8n+RjW2XqddRRRWZsFFFFABRRRQAUUUUAYXjb/kRtZ/685f/QTV7Q/+Rf07/r1i/wDQBVHxt/yI2s/9ecv/AKCavaH/AMi/p3/XrF/6AK0f8Nepkv4j9DjfjF/yL+g/9jHp/wD6Nr0GvPvjF/yL+g/9jHp//o2vQazNQooooAKKKKAPPX/5OVi/7FF//Sxa9Brz5/8Ak5WL/sUX/wDSxa9BoAWiiigDzv49f8kT1z/ftf8A0qir0QV538ev+SJ65/v2v/pVFXogoAKKKKACiiigDz3xN/yXfwL/ANeepf8AoEdehV574m/5Lv4F/wCvPUv/AECOvQqACiiigAPSvPPgj/yTk/8AYTvf/Sh69DPSvPPgj/yTk/8AYTvf/Sh6APQ6KKKACiiigDz/AOOn/JE/Ef8A1xj/APRqV30f+qX/AHRXA/HT/kifiP8A64x/+jUrvo/9Uv8AuigDlfHH+v8ADf8A2G4P/QXrrK5Pxx/r/Df/AGG4P/QXrrK0l8ETCn8cgooorM3CiiigAooooAKKKKACiiigAooooAKKKKACiiigAooooAKKKKACiiigAooooAQ9K5Twb/yGPE//AGFG/wDQFrqz0rlPBv8AyGPE/wD2FG/9AWtYfBL+upz1P4kP66GX8df+SI+I/wDrjH/6OSu9i/1Sf7orgvjp/wAkR8R/9cY//RyV3sX+qT/dFZHQPooooAKKKKAPOfGv/JcPhp9NV/8ASda9Grznxr/yXD4afTVf/Sda9GoAKKKKACvPfHn/ACVL4cf9f15/6TGvQq898ef8lS+HH/X9ef8ApMaAPQqKKKACiiigArzvwf8A8lw+JH/XPSv/AERJXoled+D/APkuHxI/656V/wCiJKAPRKKKKACiiigDz3QP+S/eLv8AsF2P/s9ehV57oH/JfvF3/YLsf/Z69CoAKKKKACiiigDz34G/8kj07/r5vP8A0qlrT+IH3fDf/Yetf/ZqzPgb/wAki07/AK+bz/0qlrT+IH3fDf8A2HrX+bVdP4kZVv4bOtXoKdSL0FLUGi2CiiigYUUUUAFFFFABRRRQAUUUUAFFFFABRRRQAUUUUAFFFFABXOt/yUZf+wYf/RtdFXOt/wAlGX/sGH/0bWtP7XocuI2j6o6KiiisUdQUUUUwENc/4WVJE1UuqsRqc4BIz3FdAfun6Vz/AITPy6t/2E5/5iqUVKDujCbaqx+ZveWoPCgfhSlB6ClNFZKEV0N7sTbXDXEEk2qTxwozsJWHH1Nd1UcdvHEzMiAFzljjqa83McvWNUVeyTOnD4h0W2luYNh4c6PenIz/AKsf41uw28duoSFAqjsBUtFdGFwNHCxtTRnVrTqu8mJiuR8Afe8Sf9h66/8AZa681yPgHr4j/wCw9df+y16Mfgl8jkl/Fj8zqrn/AI9pf9w/yrI8Hf8AIpWH/XP+prWuf+PaX/cP8qyfB3/IpWH/AFz/AKmqX8F+q/Uzl/vC9H+aNyig0VidQUUUnegDA8X/APINtf8Ar8h/9DFby/dFYPi//kG2v/X5D/6GK3l+6K0+wvVnPH+NL0QopaQUtZnQIa57Sf8AkdNd/wB23/8AQDXQnrXPaT/yOmvf7tv/AOgGtIbM563xQ9f0OiFFAorM6AoNFBoAZL/qzWH4I/5E6w/3W/8AQzW5L/qzWH4I/wCROsP91v8A0M1p/wAu36o53/GXob9FFFZnQJXP+If+QzoX/X5/7I1dBXP+If8AkM6F/wBfn/sjVrR+L7/yOet8PzX5nQ0UUVkdAUUUUAB6Vz2n/wDI76v/ANcYP5NXQnpXPaf/AMjvq/8A1xg/k1a09pen6nLiPip+v6Mu+JP+RX1T/rzl/wDQDUPhH/kTNG/68Yf/AEAVN4k/5FfVP+vSX/0A1D4R/wCRM0b/AK8Yf/QBR/y7+Zp/y9NkUtIKWsjYKKKKACiiigAooooADXJ+Ff8AkbPFf/X7F/6KFdYa5Pwr/wAjZ4r/AOv2L/0UK2p/BP0X5mFT44ev6HWV538Df+SU2n/X5ef+lMleiV538Df+SU2n/X5ef+lMlYG56JRRRTAKKKKAPO/j3/yQ7xF/uQf+j469Erzv49/8kO8Rf7kH/o+OvRKACiiigArz2y/5OO1T/sWoP/Sh69Crz2y/5OO1T/sWoP8A0oegD0KiiigAooooAO9ee/Bb/kSb7/sNX3/o9q9C71578Fv+RJvv+w1ff+j2oA9CooooAK88+L//AB7+DP8AsbtO/wDQ2r0OvPPi/wD8e/gz/sbtO/8AQ2oA9DooooAKKKKACvOh/wAnPP8A9iev/paa9Frzof8AJzz/APYnr/6WmgD0Gf8A1L/7prm/hv8A8k90r/rkf/Q2rpJ/9S/+6a5v4b/8k90r/rkf/Q2rRfw36mL/AIiOoooorM2CiiigDkvih/yTjVf92P8A9GLXVp92uU+KH/JONV/3Y/8A0YtdWn3a0f8ADXq/0MF/Gfov1PP0/wCTl5f+xRT/ANLHr0KvPU/5OXl/7FFP/Sx69CrM3CiiigAooooA8++Dv/IB8Qf9jJqH/o2vQa8++Dv/ACAfEH/Yyah/6Nr0GgAooooAK85+D3/M9f8AY46h/wC069Grzn4Pf8z1/wBjjqH/ALToA9GooooAKKKKAOY+Jf8AySrxT/2CLr/0U1XPBf8AyIegf9g23/8ARS1T+Jf/ACSrxT/2CLr/ANFNVzwX/wAiHoH/AGDbf/0UtAG3RRRQAVg+Ov8AknfiP/sFXX/opq3qwfHX/JO/Ef8A2Crr/wBFNQBD8Of+SW+Ff+wNaf8AolK6Sub+HP8AyS3wr/2BrT/0SldJQAUUUUAFed/Fv/X+BP8Asb7L/wBBlr0SvO/i3/r/AAJ/2N9l/wCgy0Aeh1yWo/8AJUtF/wCvG4/mtdbXJaj/AMlS0X/rxuP5rWlP4vk/yMa2y9TrqKKKzNgooooAKKKKACg0UlAGF42/5EfWf+vKX/0E1f0P/kX9O/69Yv8A0AVQ8bf8iNrP/XlL/wCgmr+h/wDIv6d/16xf+gCtX/DXqYr+I/Q434xf8i/oP/Yx6f8A+ja9Brz74xf8i/oP/Yx6f/6Nr0GsjYKKKKACiiigDz1/+TlYv+xRf/0sWvQa8+f/AJOVi/7FF/8A0sWvQaAFooooA87+PX/JE9c/37X/ANKoq9EFed/Hr/kieuf79r/6VRV6IKACiiigAooooA898Tf8l38C/wDXnqX/AKBHXoVee+Jv+S7+Bf8Arz1L/wBAjr0KgAooooAD0rzz4I/8k5P/AGE73/0oevQz0rzz4I/8k5P/AGE73/0oegD0OiiigAooooA8/wDjp/yRPxH/ANcY/wD0ald9H/ql/wB0VwPx0/5In4j/AOuMf/o1K76P/VL/ALooA5Xxx/r/AA3/ANhuD/0F66yuT8cf6/w3/wBhuD/0F66ytJfBEwp/HIKKKKzNwooooAKKKKACiiigAooooAKKKKACiiigAooooAKKKKACiiigAooooAKKKKAEPSuU8G/8hjxP/wBhRv8A0Ba6s9K5Twb/AMhjxP8A9hRv/QFrWHwS/rqc9T+JD+uhl/HX/kiPiP8A64x/+jkrvYv9Un+6K4L46/8AJEfEf/XGP/0cld7F/qk/3RWR0D6KKKACiiigDznxr/yXD4afTVf/AEnWvRq858a/8lw+Gn01X/0nWvRqACiiigArz3x5/wAlS+HH/X9ef+kxr0KvPfHn/JUvhx/1/Xn/AKTGgD0KiiigAooooAK878H/APJcPiR/1z0r/wBESV6JXnfg/wD5Lh8SP+uelf8AoiSgD0SiiigAooooA890D/kv3i7/ALBdj/7PXoVee6B/yX7xd/2C7H/2evQqACiiigAooooA89+Bv/JI9O/6+bz/ANKpa0/iB93w3/2HrX/2asz4G/8AJItO/wCvm8/9Kpa0/iB93w3/ANh61/m1XT+JGVb+GzrV6CnUi9BS1BotgooooGFFFFABRRRQAUUUUAFFFFABRRRQAUUUUAFFFFABRRRQAVzrf8lGX/sGH/0bXRVzrf8AJRl/7Bh/9G1rT+16HLiNo+qOiooorFHUFFFFMBD90/Sue8Kf8xb/ALCc/wDMV0J+6fpXPeFP+Yt/2E5/5itI/Czmq/xIfM6EUUUprM6ApBS0UDCiiigBD0rkfAP/ADMf/Yeuv/Za641yPgHr4j/7D11/7LWkfgl8jGf8WPzOquf+PaX/AHD/ACrI8Hf8ijYf9c/6mta5/wCPeX/cP8qyfB3/ACKNh/1z/qaa/hP1/wAzOX+8L0f5o26WiisjqCk70tJ3oAwPF/8AyDbX/r8h/wDQxW6n3RWF4v8A+Qba/wDX5D/6GK3l+6K0+wvVnNH+NL0QopaQUtZnSIetc9pP/I6a7/u2/wD6Aa6E9a57Sf8AkdNe/wB23/8AQDWkNmc9b4oev6HRCigUVmdAUGig0AMl/wBWaw/BH/InWH+63/oZrcl/1ZrD8Ef8idYf7rf+hmtP+Xb9Uc7/AIy9DfooorM6BK5/xD/yGdC/6/P/AGRq6Cuf8Q/8hnQv+vz/ANkataPxff8Akc9b4fmvzOhooorI6AooooAD0rntP/5HfV/+uMH8mroT0rntP/5HfV/+uMH8mrWntL0/U5cR8VP1/Rl3xJ/yK+qf9ecv/oBqHwj/AMiZo3/XjD/6AKm8Sf8AIr6p/wBekv8A6Aah8I/8iZo3/XjD/wCgCj/l38zT/l78jZFLSClrFGwUUUUwCiiigAooooAK5Pwr/wAjZ4r/AOvyL/0UK6yuT8K/8jZ4r/6/Iv8A0UK2p/BP0X5nPV/iQ9X+R1led/A3/klNp/1+Xn/pTJXoled/A3/klNp/1+Xn/pTJWB0HolFFFMAooooA87+Pf/JDvEX+5B/6Pjr0SvO/j3/yQ7xF/uQf+j469EoAKKKKACvPbL/k47VP+xag/wDSh69Crz2y/wCTjtU/7FqD/wBKHoA9CooooAKKKKADvXnvwW/5Em+/7DV9/wCj2r0LvXnvwW/5Em+/7DV9/wCj2oA9CooooAK88+L/APx7+DP+xu07/wBDavQ688+L/wDx7+DP+xu07/0NqAPQ6KKKACiiigArzof8nPP/ANiev/paa9Frzof8nPP/ANiev/paaAPQZ/8AUv8A7prm/hv/AMk90r/rkf8A0Nq6Sf8A1L/7prm/hv8A8k90r/rkf/Q2rRfw36mL/iI6iiiiszYKKKKAOS+KH/JONV/3Y/8A0YtdWn3a5T4of8k41X/dj/8ARi11afdrR/w16v8AQwX8Z+i/U8/T/k5eX/sUU/8ASx69Crz1P+Tl5f8AsUU/9LHr0KszcKKKKACiiigDz74O/wDIB8Qf9jJqH/o2vQa8++Dv/IB8Qf8AYyah/wCja9BoAKKKKACvOfg9/wAz1/2OOof+069Grzn4Pf8AM9f9jjqH/tOgD0aiiigAooooA5j4l/8AJKvFP/YIuv8A0U1XPBf/ACIegf8AYNt//RS1T+Jf/JKvFP8A2CLr/wBFNVzwX/yIegf9g23/APRS0AbdFFFABWD46/5J34j/AOwVdf8Aopq3qwfHX/JO/Ef/AGCrr/0U1AEPw5/5Jb4V/wCwNaf+iUrpK5v4c/8AJLfCv/YGtP8A0SldJQAUUUUAFed/Fv8A1/gT/sb7L/0GWvRK87+Lf+v8Cf8AY32X/oMtAHodclqP/JUtF/68bj+a11tclqP/ACVLRf8ArxuP5rWlP4vk/wAjGtsvU66iiiszYKKKKACiiigApKWkoEYXjb/kRtZ/68pf/QTV/Q/+Rf07/r1i/wDQBVDxt/yI2s/9eUv/AKCav6H/AMi/p3/XrF/6AK0f8Nepkv4j9DjfjF/yL+g/9jHp/wD6Nr0GvPvjF/yL+g/9jHp//o2vQazNgooooAKKKKAPPX/5OVi/7FF//Sxa9Brz5/8Ak5WL/sUX/wDSxa9BoAWiiigDzv49f8kT1z/ftf8A0qir0QV538ev+SJ65/v2v/pVFXogoAKKKKACiiigDz3xN/yXfwL/ANeepf8AoEdehV574m/5Lv4F/wCvPUv/AECOvQqACiiigAPSvPPgj/yTk/8AYTvf/Sh69DPSvPPgj/yTk/8AYTvf/Sh6APQ6KKKACiiigDz/AOOn/JE/Ef8A1xj/APRqV30f+qX/AHRXA/HT/kifiP8A64x/+jUrvo/9Uv8AuigDlfHH+v8ADf8A2G4P/QXrrK5Pxx/r/Df/AGG4P/QXrrK0l8ETCn8cgooorM3CiiigAooooAKKKKACiiigAooooAKKKKACiiigAooooAKKKKACiiigAooooAQ9K5Twb/yGPE//AGFG/wDQFrqz0rlPBv8AyGPE/wD2FG/9AWtYfBL+upz1P4kP66GX8df+SI+I/wDrjH/6OSu9i/1Sf7orgvjr/wAkR8R/9cY//RyV3sX+qT/dFZHQPooooAKKKKAPOfGv/JcPhp9NV/8ASda9Grznxr/yXD4afTVf/Sda9GoAKKKKACvPfHn/ACVL4cf9f15/6TGvQq898ef8lS+HH/X9ef8ApMaAPQqKKKACiiigArzvwf8A8lw+JH/XPSv/AERJXoled+D/APkuHxI/656V/wCiJKAPRKKKKACiiigDz3QP+S/eLv8AsF2P/s9ehV57oH/JfvF3/YLsf/Z69CoAKKKKACiiigDz34G/8kj07/r5vP8A0qlrT+IH3fDf/Yetf/ZqzPgb/wAki07/AK+bz/0qlrT+IH3fDf8A2HrX+bVdP4kZVv4bOuXoKWkXoKWoNFsFFFFAwooooAKKKKACiiigAooooAKKKKACiiigAooooAKKKKACudb/AJKMv/YMP/o2uirnW/5KMv8A2DD/AOja1p/a9DlxG0fVHRUUUVidQUUUUwEP3T9K5/wn01f/ALCc/wDMV0B+6fpXP+Ezj+1/+wnP/MVpH4ZHPU/iw+Z0JpKOtLWZuFFFFAwooooAQ1yPgH/mY/8AsPXX/stdca5HwD/zMf8A2Hrr/wBlrSPwS+RjL+LH5nU3P/HtL/uH+VZPg7/kUrD/AK5/1Na1z/x7S/7h/lWT4O/5FKw/65/1NUv4L9V+pnL/AHhej/NG4aQUtFYnUFJ3paTvQBgeL/8AkG2v/X5D/wChit5PuisHxf8A8g21/wCvyH/0MVvL90Vp9herOaNvbS9EKKWkFLWZ0iHrXPaT/wAjprv+7b/+gGuhPWue0n/kdNe/3bf/ANANaQ2Zz1vih6/odEKKBRWZ0BQaKDQAyX/VmsPwR/yJ1h/ut/6Ga3Jf9Waw/BH/ACJ1h/ut/wChmtP+Xb9Uc7/jL0N+iiiszoErn/EP/IZ0L/r8/wDZGroK5/xD/wAhnQv+vz/2Rq1o/F9/5HPW+H5r8zoaKKKyOgKKKKAA9K57T/8Akd9X/wCuMH8mroT0rntP/wCR31f/AK4wfyatae0vT9TlxHxU/X9GXfEn/Ir6p/15y/8AoBqHwj/yJmjf9eMP/oAqbxJ/yK+qf9ecv/oBqHwj/wAiZo3/AF4w/wDoAo/5d/M0/wCXpsilpBS1kbBRRRQAUUUUAFFFFAAa5Pwr/wAjZ4r/AOv2L/0UK6yuT8K/8jZ4r/6/Iv8A0UK2p/BP0X5mFT44er/I6yvO/gb/AMkptP8Ar8vP/SmSvRK87+Bv/JKbT/r8vP8A0pkrA3PRKKKKYBRRRQB538e/+SHeIv8Acg/9Hx16JXnfx7/5Id4i/wByD/0fHXolABRRRQAV57Zf8nHap/2LUH/pQ9ehV57Zf8nHap/2LUH/AKUPQB6FRRRQAUUUUAHevPfgt/yJN9/2Gr7/ANHtXoXevPfgt/yJN9/2Gr7/ANHtQB6FRRRQAV558X/+PfwZ/wBjdp3/AKG1eh1558X/APj38Gf9jdp3/obUAeh0UUUAFFFFABXnQ/5Oef8A7E9f/S016LXnQ/5Oef8A7E9f/S00Aegz/wCpf/dNc38N/wDknulf9cj/AOhtXST/AOpf/dNc38N/+Se6V/1yP/obVov4b9TF/wARHUUUUVmbBRRRQByXxQ/5Jxqv+7H/AOjFrq0+7XKfFD/knGq/7sf/AKMWurT7taP+GvV/oYL+M/Rfqefp/wAnLy/9iin/AKWPXoVeep/ycvL/ANiin/pY9ehVmbhRRRQAUUUUAeffB3/kA+IP+xk1D/0bXoNeffB3/kA+IP8AsZNQ/wDRteg0AFFFFABXnPwe/wCZ6/7HHUP/AGnXo1ec/B7/AJnr/scdQ/8AadAHo1FFFABRRRQBzHxL/wCSVeKf+wRdf+imq54L/wCRD0D/ALBtv/6KWqfxL/5JV4p/7BF1/wCimq54L/5EPQP+wbb/APopaANuiiigArB8df8AJO/Ef/YKuv8A0U1b1YPjr/knfiP/ALBV1/6KagCH4c/8kt8K/wDYGtP/AESldJXN/Dn/AJJb4V/7A1p/6JSukoAKKKKACvO/i3/r/An/AGN9l/6DLXoled/Fv/X+BP8Asb7L/wBBloA9DrktQ/5Klov/AF43H81rra5LUf8AkqWi/wDXjcfzWtKfxfJ/kY1tl6nXUUUVmbBRRRQAUUUUAFGKKKAMLxt/yI2s/wDXnL/6CavaH/yL+nf9esX/AKAKo+Nv+RG1n/rzl/8AQTV7Q/8AkX9O/wCvWL/0AVo/4a9TJfxH6HG/GL/kX9B/7GPT/wD0bXoNeffGL/kX9B/7GPT/AP0bXoNZmoUUUUAFFFFAHnr/APJysX/Yov8A+li16DXnz/8AJysX/Yov/wCli16DQAtFFFAHnfx6/wCSJ65/v2v/AKVRV6IK87+PX/JE9c/37X/0qir0QUAFFFFABRRRQB574m/5Lv4F/wCvPUv/AECOvQq898Tf8l38C/8AXnqX/oEdehUAFFFFAAeleefBH/knJ/7Cd7/6UPXoZ6V558Ef+Scn/sJ3v/pQ9AHodFFFABRRRQB5/wDHT/kifiP/AK4x/wDo1K76P/VL/uiuB+On/JE/Ef8A1xj/APRqV30f+qX/AHRQByvjj/X+G/8AsNwf+gvXWVyfjj/X+G/+w3B/6C9dZWkvgiYU/jkFFFFZm4UUUUAFFFFABRRRQAUUUUAFFFFABRRRQAUUUUAFFFFABRRRQAUUUUAFFFFACHpXKeDf+Qx4n/7Cjf8AoC11Z6Vyng3/AJDHif8A7Cjf+gLWsPgl/XU56n8SH9dDL+Ov/JEfEf8A1xj/APRyV3sX+qT/AHRXBfHX/kiPiP8A64x/+jkrvYv9Un+6KyOgfRRRQAUUUUAec+Nf+S4fDT6ar/6TrXo1ec+Nf+S4fDT6ar/6TrXo1ABRRRQAV5748/5Kl8OP+v68/wDSY16FXnvjz/kqXw4/6/rz/wBJjQB6FRRRQAUUUUAFed+D/wDkuHxI/wCuelf+iJK9Erzvwf8A8lw+JH/XPSv/AERJQB6JRRRQAUUUUAee6B/yX7xd/wBgux/9nr0KvPdA/wCS/eLv+wXY/wDs9ehUAFFFFABRRRQB578Df+SRad/183n/AKVS1p/ED7vhv/sPWv8ANqzPgb/ySPTv+vm8/wDSqWtP4gfd8N/9h61/m1XT+JGVb+Gzrl6ClpF6ClqDRbBRRRQMKKKKACiiigAooooAKKKKACiiigAooooAKKKKACiiigArnW/5KMv/AGDD/wCja6Kudb/koy/9gw/+ja1p/a9DlxG0fVHRUUUVidQUUUUwEP3T9K57wp/zFv8AsJz/AMxXQn7p+lc/4T/5i3/YTn/mK0j8MjmqfxIfM6CloorM6QooooAKKKKAENcj4B/5mP8A7D11/wCy11xrkfAP/Mx/9h66/wDZa0j8EvkYy/ix+Z1Vz/x7S/7h/lWR4O/5FKw/65/1Na1z/wAe0v8AuH+VZPg7/kUrD/rn/U01/Cfqv1M5f7wvR/mjcooorI6gpO9LSd6AMDxf/wAg21/6/If/AEMVvL90Vg+L/wDkG2v/AF+Q/wDoYrdT7orT7C9Wc0be2l6IcKWkFLWZ0iHrXPaT/wAjprv+7b/+gGuhPWue0n/kdNd/3bf/ANANaQ2Zz1vih6/odEKKBRWZ0BQaKDQAyX/VmsPwR/yJ1h/ut/6Ga3Jf9Waw/BH/ACJ1h/ut/wChmtP+Xb9Uc7/jL0N+iiiszoErn/EP/IZ0L/r8/wDZGroK5/xD/wAhnQv+vz/2Rq1o/F9/5HPW+H5r8zoaKKKyOgKKKKAA9K57T/8Akd9X/wCuMH8mroT0rntP/wCR31f/AK4wfyatae0vT9TlxHxU/X9GXfEn/Ir6p/15y/8AoBqHwj/yJmj/APXjD/6AKm8Sf8ivqn/XnL/6Aah8I/8AImaN/wBeMP8A6AKP+XfzNP8Al78jZFLSClrE2CiiimAUUUUAFFFFABXJ+Fv+Rs8V/wDX5F/6KFdZXJ+Ff+Rs8V/9fkX/AKKFbU/gn6L8znq/HD1f5HWV538Df+SU2n/X5ef+lMleiV538Df+SU2n/X5ef+lMlYHQeiUUUUwCiiigDzv49/8AJDvEX+5B/wCj469Erzv49/8AJDvEX+5B/wCj469EoAKKKKACvPbL/k47VP8AsWoP/Sh69Crz2y/5OO1T/sWoP/Sh6APQqKKKACiiigA71578Fv8AkSb7/sNX3/o9q9C71578Fv8AkSb7/sNX3/o9qAPQqKKKACvPPi//AMe/gz/sbtO/9DavQ688+L//AB7+DP8AsbtO/wDQ2oA9DooooAKKKKACvOh/yc8//Ynr/wClpr0WvOh/yc8//Ynr/wClpoA9Bn/1L/7prm/hv/yT3Sv+uR/9Daukn/1L/wC6a5v4b/8AJPdK/wCuR/8AQ2rRfw36mL/iI6iiiiszYKKKKAOS+KH/ACTjVf8Adj/9GLXVp92uU+KH/JONV/3Y/wD0YtdWn3a0f8Ner/QwX8Z+i/U8/T/k5eX/ALFFP/Sx69Crz1P+Tl5f+xRT/wBLHr0KszcKKKKACiiigDz74O/8gHxB/wBjJqH/AKNr0GvPvg7/AMgHxB/2Mmof+ja9BoAKKKKACvOfg9/zPX/Y46h/7Tr0avOfg9/zPX/Y46h/7ToA9GooooAKKKKAOY+Jf/JKvFP/AGCLr/0U1XPBf/Ih6B/2Dbf/ANFLVP4l/wDJKvFP/YIuv/RTVc8F/wDIh6B/2Dbf/wBFLQBt0UUUAFYPjr/knfiP/sFXX/opq3qwfHX/ACTvxH/2Crr/ANFNQBD8Of8AklvhX/sDWn/olK6Sub+HP/JLfCv/AGBrT/0SldJQAUUUUAFed/Fv/X+BP+xvsv8A0GWvRK87+Lf+v8Cf9jfZf+gy0Aeh1yWof8lS0X/rxuP5rXW1yWo/8lS0X/rxuP5rWlP4vk/yMa2y9TrqKKKzNgooooAKKKKACiiigDC8bf8AIjaz/wBecv8A6CavaH/yL+nf9esX/oAqh42/5EfWf+vKX/0E1f0P/kX9O/69Yv8A0AVq/wCGvUxX8R+hxvxi/wCRf0H/ALGPT/8A0bXoNeffGL/kX9B/7GPT/wD0bXoNZGwUUUUAFFFFAHnr/wDJysX/AGKL/wDpYteg158//JysX/Yov/6WLXoNAC0UUUAed/Hr/kieuf79r/6VRV6IK87+PX/JE9c/37X/ANKoq9EFABRRRQAUUUUAee+Jv+S7+Bf+vPUv/QI69Crz3xN/yXfwL/156l/6BHXoVABRRRQAHpXnnwR/5Jyf+wne/wDpQ9ehnpXnnwR/5Jyf+wne/wDpQ9AHodFFFABRRRQB5/8AHT/kifiP/rjH/wCjUrvo/wDVL/uiuB+On/JE/Ef/AFxj/wDRqV30f+qX/dFAHK+OP9f4b/7DcH/oL11lcn44/wBf4b/7DcH/AKC9dZWkvgiYU/jkFFFFZm4UUUUAFFFFABRRRQAUUUUAFFFFABRRRQAUUUUAFFFFABRRRQAUUUUAFFFFACHpXKeDf+Qx4n/7Cjf+gLXVnpXKeDf+Qx4n/wCwo3/oC1rD4JfL8zCp/Eh/XQy/jr/yRHxH/wBcY/8A0cld7F/qk/3RXBfHX/kiPiP/AK4x/wDo5K72L/VJ/uisjcfRRRQAUUUUAec+Nf8AkuHw0+mq/wDpOtejV5z41/5Lh8NPpqv/AKTrXo1ABRRRQAV5748/5Kl8OP8Ar+vP/SY16FXnvjz/AJKl8OP+v68/9JjQB6FRRRQAUUUUAFed+D/+S4fEj/rnpX/oiSvRK878H/8AJcPiR/1z0r/0RJQB6JRRRQAUUUUAee6B/wAl+8Xf9gux/wDZ69Crz3QP+S/eLv8AsF2P/s9ehUAFFFFABRRRQB578Df+SRad/wBfN5/6VS1p/ED7vhv/ALD1r/NqzPgb/wAkj07/AK+bz/0qlrT+IH3fDf8A2HrX/wBmq6fxIyrfw2dcvQUtNXoKdUGi2CiiigYUUUUAFFFFABRRRQAUUUUAFFFFABRRRQAUUUUAFFFFABXOt/yUZf8AsGH/ANG10Vc63/JRl/7Bh/8ARta0/tehy4jaPqjoqKKKxOoKKKKYCH7p+lc/4T6av/2E5/5iugP3T9K57wp/zFv+wnP/ADFaR+GRz1P4kPmdFRSClrM6AooooAKKKKAENcj4B6+I/wDsPXX/ALLXXGuR8A/8zH/2Hrr/ANlrSPwS+RjP+LH5nU3X/HtJ/un+VZPg7/kUbD/rn/U1r3P/AB7S/wC4f5VkeDv+RSsP+uf9TVJ/un6r9TOX+8L0f5o26WiisTqCk70tJ3oAwPF//INtf+vyH/0MVvL90Vg+L/8AkG2v/X5D/wChit1PuitPsL1ZzR/jS9EOFLSClrM6RD1rntJ/5HTXv923/wDQDXQnrXPaT/yOmu/7tv8A+gGtIbM563xQ9f0OiFFAorM6AoNFBoAZL/qzWH4I/wCROsP91v8A0M1uS/6s1h+CP+ROsP8Adb/0M1p/y7fqjnf8Zehv0UUVmdAlc/4h/wCQzoX/AF+f+yNXQVz/AIh/5DOhf9fn/sjVrR+L7/yOet8PzX5nQ0UUVkdAUUUUAB6Vz2n/API76v8A9cYP5NXQnpXPaf8A8jvq/wD1xg/k1a09pen6nLiPip+v6Mu+JP8AkV9U/wCvOX/0A1D4R/5EvRv+vGH/ANAFTeJP+RX1T/rzl/8AQDUPhH/kTNG/68Yf/QBR/wAu/maf8vTZFLSClrK5sFFFFABRRRQAUUUUABrlPCv/ACNniv8A6/Yv/RQrq65Pwr/yNniv/r8i/wDRQran8E/RfmYVH78PV/kdZXnfwN/5JTaf9fl5/wClMleiV538Df8AklNp/wBfl5/6UyVgbnolFFFMAooooA87+Pf/ACQ7xF/uQf8Ao+OvRK87+Pf/ACQ7xF/uQf8Ao+OvRKACiiigArz2y/5OO1T/ALFqD/0oevQq89sv+TjtU/7FqD/0oegD0KiiigAooooAO9ee/Bb/AJEm+/7DV9/6PavQu9ee/Bb/AJEm+/7DV9/6PagD0KiiigArzz4v/wDHv4M/7G7Tv/Q2r0OvPPi//wAe/gz/ALG7Tv8A0NqAPQ6KKKACiiigArzof8nPP/2J6/8Apaa9Frzof8nPP/2J6/8ApaaAPQZ/9S/+6a5v4b/8k90r/rkf/Q2rpJ/9S/8Aumub+G//ACT3Sv8Arkf/AENq0X8N+pi/4iOoooorM2CiiigDkvih/wAk41X/AHY//Ri11afdrlPih/yTjVf92P8A9GLXVp92tH/DXq/0MF/Gfov1PP0/5OXl/wCxRT/0sevQq89T/k5eX/sUU/8ASx69CrM3CiiigAooooA8++Dv/IB8Qf8AYyah/wCja9Brz74O/wDIB8Qf9jJqH/o2vQaACiiigArzn4Pf8z1/2OOof+069Grzn4Pf8z1/2OOof+06APRqKKKACiiigDmPiX/ySrxT/wBgi6/9FNVzwX/yIegf9g23/wDRS1T+Jf8AySrxT/2CLr/0U1XPBf8AyIegf9g23/8ARS0AbdFFFABWD46/5J34j/7BV1/6Kat6sHx1/wAk78R/9gq6/wDRTUAQ/Dn/AJJb4V/7A1p/6JSukrm/hz/yS3wr/wBga0/9EpXSUAFFFFABXnfxb/1/gT/sb7L/ANBlr0SvO/i3/r/An/Y32X/oMtAHodclqP8AyVLRf+vG4/mtdbXJaj/yVLRf+vG4/mtaU/i+T/IxrbL1OuooorM2CiiigAooooAKSlpKBGF42/5EfWf+vKX/ANBNX9D/AORf07/r1i/9AFUPG3/Ijaz/ANeUv/oJq/of/Iv6d/16xf8AoArV/wANepkv4j9DjfjF/wAi/oP/AGMen/8Ao2vQa8++MX/Iv6D/ANjHp/8A6Nr0GsjYKKKKACiiigDz1/8Ak5WL/sUX/wDSxa9Brz5/+TlYv+xRf/0sWvQaAFooooA87+PX/JE9c/37X/0qir0QV538ev8Akieuf79r/wClUVeiCgAooooAKKKKAPPfE3/Jd/Av/XnqX/oEdehV574m/wCS7+Bf+vPUv/QI69CoAKKKKAA9K88+CP8AyTk/9hO9/wDSh69DPSvPPgj/AMk5P/YTvf8A0oegD0OiiigAooooA8/+On/JE/Ef/XGP/wBGpXfR/wCqX/dFcD8dP+SJ+I/+uMf/AKNSu+j/ANUv+6KAOV8cf6/w3/2G4P8A0F66yuT8cf6/w3/2G4P/AEF66ytJfBEwp/HIKKKKzNwooooAKKKKACiiigAooooAKKKKACiiigAooooAKKKKACiiigAooooAKKKKAEPSuU8G/wDIY8T/APYUb/0Ba6s9K5Twb/yGPE//AGFG/wDQFrWHwS/rqc9T+JD+uhl/HT/kiPiP/rjH/wCjkrvYv9Un+6K4L46/8kR8R/8AXGP/ANHJXexf6pP90VkdA+iiigAooooA858a/wDJcPhp9NV/9J1r0avOfGv/ACXD4afTVf8A0nWvRqACiiigArz3x5/yVL4cf9f15/6TGvQq898ef8lS+HH/AF/Xn/pMaAPQqKKKACiiigArzvwf/wAlw+JH/XPSv/REleiV534P/wCS4fEj/rnpX/oiSgD0SiiigAooooA890D/AJL94u/7Bdj/AOz16FXnugf8l+8Xf9gux/8AZ69CoAKKKKACiiigDz34G/8AJItO/wCvm8/9Kpa0/iB93w3/ANh61/m1ZnwN/wCSR6d/183n/pVLWn8QPu+G/wDsPWv/ALNV0/iRlW/hs65egpaavQU6oNFsFFFFAwooooAKKKKACiiigAooooAKKKKACiiigAooooAKKKKACudb/koy/wDYMP8A6Nroq51v+SjL/wBgw/8Ao2taf2vQ5cRtH1R0VFFFYnUFFFFMBD90/Sue8Kf8xb/sJz/zFdCfun6Vz/hP/mL/APYTn/mK0j8MjnqfxIfM6CloorM6AooooAKKKKAENcj4B6+I/wDsPXX/ALLXXGuR8A/8zH/2Hrr/ANlrSPwS+RjL+LH5nU3P/HtL/uH+VZPg7/kUrD/rn/U1r3P/AB7S/wC4f5VkeDv+RRsP+uf9TVJfun6r9TOX+8L0f5o2zQKWisTqCk70tJ3oAwPF/wDyDbX/AK/If/QxW8v3RWD4v/5Btr/1+Q/+hit1PuitPsL1ZzR/jS9EOFLSClrM6RD1rntJ/wCR017/AHbf/wBANdCa57Sf+R013/dt/wD0A1pDZnPW+KHr+h0QooFFZnQFBooNADJf9Waw/BH/ACJ1h/ut/wChmtyX/VmsPwR/yJ1h/ut/6Ga0/wCXb9V+pzv+MvQ36KKKzOgSuf8AEP8AyGdC/wCvz/2Rq6Cuf8Q/8hnQv+vz/wBkataPxff+Rz1vh+a/M6GiiisjoCiiigAPSue0/wD5HfV/+uMH8mroT0rntP8A+R31f/rjB/Jq1p7S9P1OXEfFT9f0Zd8Sf8ivqn/XpL/6Aah8I/8AImaN/wBeMP8A6AKm8Sf8ivqn/XnL/wCgGofCP/ImaN/14w/+gCj/AJd/M0/5emyKWkFLWRsFFFFABRRRQAUUUUAFcn4V/wCRs8V/9fkX/ooV1hrk/Cv/ACNniv8A6/Yv/RQran8E/RfmYVF78PV/kdZXnfwN/wCSU2n/AF+Xn/pTJXoled/A3/klNp/1+Xn/AKUyVgbnolFFFMAooooA87+Pf/JDvEX+5B/6Pjr0SvO/j3/yQ7xF/uQf+j469EoAKKKKACvPbL/k47VP+xag/wDSh69Crz2y/wCTjtU/7FqD/wBKHoA9CooooAKKKKADvXnvwW/5Em+/7DV9/wCj2r0LvXnvwW/5Em+/7DV9/wCj2oA9CooooAK88+L/APx7+DP+xu07/wBDavQ688+L/wDx7+DP+xu07/0NqAPQ6KKKACiiigArzof8nPP/ANiev/paa9Frzof8nPP/ANiev/paaAPQZ/8AUv8A7prm/hv/AMk90r/rkf8A0Nq6Sf8A1L/7prm/hv8A8k90r/rkf/Q2rRfw36mL/iI6iiiiszYKKKKAOS+KH/JONV/3Y/8A0YtdWn3a5T4of8k41X/dj/8ARi11afdrR/w16v8AQwX8Z+i/U8/T/k5eX/sUU/8ASx69Crz1P+Tl5f8AsUU/9LHr0KszcKKKKACiiigDz74O/wDIB8Qf9jJqH/o2vQa8++Dv/IB8Qf8AYyah/wCja9BoAKKKKACvOfg9/wAz1/2OOof+069Grzn4Pf8AM9f9jjqH/tOgD0aiiigAooooA5j4l/8AJKvFP/YIuv8A0U1XPBf/ACIegf8AYNt//RS1T+Jf/JKvFP8A2CLr/wBFNVzwX/yIegf9g23/APRS0AbdFFFABWD46/5J34j/AOwVdf8Aopq3qwfHX/JO/Ef/AGCrr/0U1AEPw5/5Jb4V/wCwNaf+iUrpK5v4c/8AJLfCv/YGtP8A0SldJQAUUUUAFed/Fv8A1/gT/sb7L/0GWvRK87+Lf+v8Cf8AY32X/oMtAHodclqP/JUtF/68bj+a11tclqP/ACVLRf8ArxuP5rWlP4vk/wAjGtsvU66iiiszYKKKKACiiigApKWkoAwvG3/Ijaz/ANeUv/oJq/of/Iv6d/16xf8AoAqh42/5EbWf+vKX/wBBNX9D/wCRf07/AK9Yv/QBWj/hr1MV/Efocb8Yv+Rf0H/sY9P/APRteg15z8bLmGy8KaNdXcqxQQ6/YySSOcBFEmST7ACtX/hbnw//AOhu0r/wIFZmx2NFcd/wtzwB/wBDdpX/AIECj/hbfgD/AKG7Sv8AwIFAHY0Vx3/C2/AH/Q3aV/4ECj/hbfgD/obtK/8AAgUAZz/8nKxf9ii//pYteg15XoviTRvE/wC0Ut14f1K31GCPwrJG8lu+4K32tDg++CPzr1SgBaKKKAPO/j1/yRPXP9+1/wDSqKvRBXnXx7IHwR10ngBrUn/wKirU/wCFt+AP+ht0v/wIFAHY0Vx3/C2/AH/Q26X/AOBAo/4W34A/6G3S/wDwIFAHY0Vx3/C2/AH/AENul/8AgQKP+Ft+AP8AobdL/wDAgUAZ3ib/AJLv4F/689S/9Ajr0KvJbjxZoPin46eDG8O6ta6iLe01ASm3k3bNyJjP1wfyr1qgAooooAD0rzz4I/8AJOT/ANhO9/8ASh69DNeNfCn4g+EvD/gqTT9b8QWFjdx6leF4ZpQrKDO5HH0oA9lorjv+FufD/wD6G7Sv/AgUf8Lc+H//AEN2lf8AgQKAOxorjv8Ahbnw/wD+hu0r/wACBR/wtz4f/wDQ3aV/4ECgCh8dP+SJ+I/+uMf/AKNSu+j/ANUv+6K8a+MPxI8G618Jdd0/SfEmn3d5PEgigimBZyJUPA+gNeyx/wCqX/dFAHK+OP8AX+G/+w3B/wCgvXWVyfjj/X+G/wDsNwf+gvXWVpL4ImFP+JL5BRRRWZuFFFFABRRRQAUUUUAFFFFABRRRQAUUUUAFFFFABRRRQAUUUUAFFFFABRRRQAh6Vyng3/kMeJ/+wo3/AKAtdWelcp4N/wCQx4n/AOwo3/oC1rD4Jf11Oep/Eh/XQy/jp/yRHxH/ANcY/wD0cld7F/qk/wB0VwXx1/5Ij4j/AOuMf/o5K72L/VJ/uisjoH0UUUAFFFFAHnPjX/kuHw0+mq/+k616NXnPjX/kuHw0+mq/+k616NQAUUUUAFee+PP+SpfDj/r+vP8A0mNehV5748/5Kl8OP+v68/8ASY0AehUUUUAFFFFABXnfg/8A5Lh8SP8ArnpX/oiSvRK878H/APJcPiR/1z0r/wBESUAeiUUUUAFFFFAHnugf8l+8Xf8AYLsf/Z69Crz3QP8Akv3i7/sF2P8A7PXoVABRRRQAUUUUAee/A3/kkWnf9fN5/wClUtafxA+74b/7D1r/ADasz4G/8kj07/r5vP8A0qlrT+IH3fDf/Yetf/Zqun8SMq38NnXL0FLTV6CnVBotgooooGFFFFABRRRQAUUUUAFFFFABRRRQAUUUUAFFFFABRRRQAVzrf8lGX/sGH/0bXRVzzf8AJRU/7Bh/9G1rT+16HNiNo+qOhooozWJ0hRRmjNMBD90/Suf8J/8AMX/7Cc/8xXQE/Ka57wnyNW/7Cc/8xWkfhkc1R/vYfM6GlpBSmszpCiiigAooooAQ1yPgHr4j/wCw9df+y11xrkfAP/Mx/wDYeuv/AGWtI/BL5GMv4sfmdTc/8e0v+4f5Vk+Dv+RSsP8Arn/U1r3P/HtL/uH+VZHg/wD5FGw/65/1NUn+6fqv1Il/vC9H+aNyikzRmsLo6RaTvRmjNFwMDxf/AMg21/6/If8A0MVvL90Vg+Lz/wAS21/6/Yf/AEMVup90Vr9herOaP8aXohwpaQUtZnSIetc9pP8AyOmvf7tv/wCgGuirnNJ48Z67/u2//oBrSOz9DnrfFD1/Q6MUUgpazOgKDRRQAyX/AFZrD8Ef8idYf7rf+hmtyT/VmsPwR/yJ9j/ut/6Ga0/5dv1Rzv8AjL0N+iiiszoErn/EP/IZ0L/r8/8AZGroK5/xF/yGND/6/P8A2Rq1o/F9/wCRz4h2h81+Z0NFIKXNZHQFFGaM0AB6Vz2n/wDI76v/ANcYP5NXQE8Vz+n/API76v8A9cYP/Zq1p7S9P1OXEfFT9f0Zd8Sf8ivqn/XpL/6Aah8I/wDImaN/14w/+gCpvEn/ACK+qf8AXnL/AOgGofCP/ImaN/14w/8AoAo/5d/M0/5e/I2RS0gpayubBRRRQAUUUUAFFFFAAa5Pwr/yNniv/r9i/wDRQrrK5Pwt/wAjZ4r/AOvyL/0UK2p/BP0X5mFR+/D1/Q6yvO/gb/ySm0/6/Lz/ANKZK9Erzz4G/wDJKrT/AK/Lz/0pkrA3PQ6KKKYBRRRQB538e/8Akh3iL/cg/wDR8deiV538e/8Akh3iL/cg/wDR8deiUAFFFFABXntl/wAnHap/2LUH/pQ9ehV57Zf8nG6p/wBi1B/6UPQB6FRRRQAUUUUAHevPfgt/yJN9/wBhq+/9HtXoXevPfgt/yJN9/wBhq+/9HtQB6FRRRQAV558X/wDj38Gf9jdp3/obV6HXnnxf/wCPfwZ/2N2nf+htQB6HRRRQAUUUUAFedD/k55/+xPX/ANLTXotedD/k55/+xPX/ANLTQB6DP/qX/wB01zfw3/5J7pX/AFyP/obV0k/+pf8A3TXN/Df/AJJ7pX/XI/8AobVov4b9TF/xEdRRRRWZsFFFFAHJfFD/AJJxqv8Aux/+jFrq0+7XKfFD/knGq/7sf/oxa6tPu1o/4a9X+hgv4z9F+p5+n/Jy8v8A2KKf+lj16FXnqf8AJy8v/Yop/wClj16FWZuFFFFABRRRQB598Hf+QD4g/wCxk1D/ANG16DXn3wd/5APiD/sZNQ/9G16DQAUUUUAFec/B7/mev+xx1D/2nXo1ec/B7/mev+xx1D/2nQB6NRRRQAUUUUAcx8S/+SVeKf8AsEXX/opqueC/+RD0D/sG2/8A6KWqfxL/AOSVeKf+wRdf+imq54L/AORD0D/sG2//AKKWgDbooooAKwfHX/JO/Ef/AGCrr/0U1b1YPjr/AJJ34j/7BV1/6KagCH4c/wDJLfCv/YGtP/RKV0lc38Of+SW+Ff8AsDWn/olK6SgAooooAK87+Lf+v8Cf9jfZf+gy16JXnfxb/wBf4E/7G+y/9BloA9DrktR/5Klov/XjcfzWutrktR/5Klov/XjcfzWrp/F8n+RjW2XqddRRRUGwUUUUAFFFFABRRRQBheNv+RG1n/rzl/8AQTV7Q/8AkX9O/wCvWL/0EU7WNNTWNHu9Pldo0uYmiZ1HIBGM1zsXg7V4IY4YfF+orHGoVVEUfAHAHSto8rhZuxhLnjO6Vzqbq1tr2HyryCKePOdkqBhn6GqX/CPaL/0CLD/wGT/Csf8A4RPWf+hw1L/v1F/hR/wies/9DhqX/fqL/ClyQ/m/MPaVP5PyNn/hHtF/6BFj/wCAyf4Uf8I/ov8A0CLH/wABk/wrG/4RPWf+hw1L/v1F/hR/wies/wDQ46l/36i/wo5IfzfmHtKn8n5Gz/wj+i/9Aix/8Bk/wo/4R/Rf+gRY/wDgMn+FY3/CJ6z/ANDjqX/fqL/Cj/hE9Z/6HHUv+/UX+FHJD+b8w9pU/k/I6C10vTrGUyWVjbW8hXaXihVCR6ZA9hVriuV/4RPWf+hw1L/v1F/hR/wies/9DhqX/fqL/Cjkh/N+Ye0qfyfkdXmjNcp/wies/wDQ4al/36i/wo/4RPWf+hw1L/v1F/hRyQ/m/MPaVP5PyOmngguoGhuoo5omxujkUMp5zyD71SPh/Rf+gRY/+Ayf4Vjf8InrP/Q4al/36i/wo/4RPWf+hw1L/v1F/hRyQ/m/MPaVP5PyNn/hH9F/6BFh/wCAyf4Uf8I/ov8A0CLD/wABk/wrG/4RPWf+hx1L/v1F/hR/wies/wDQ46l/36i/wo5IfzfmHtKn8n5Gz/wj+i/9Aiw/8Bk/wo/4R/Rf+gRYf+Ayf4Vjf8InrP8A0OOpf9+ov8KP+ET1n/ocdS/79Rf4UckP5vzD2lT+T8jettI0yzmE1pp9rBKBgPFAqsPxAq7muU/4RPWf+hx1L/v1F/hR/wAInrP/AEOGpf8AfqL/AAo5IfzfmHtKn8n5HV5ozXKf8InrP/Q4al/36i/wo/4RPWf+hw1L/v1F/hRyQ/m/MPaVP5PyOrzWe2g6Ozlm0qxZmOSTbIcn8qxP+ET1n/ocNS/79Rf4U3/hE9b/AOhx1L/v1F/8TRyQ/m/MPaVP5PyNz/hH9F/6BFh/4DJ/hR/wj+i/9Aiw/wDAZP8ACsQeE9a7+MdS/wC/UX/xNL/wies/9DjqX/fqL/Cjkh/N+Ye0qfyfkbX/AAj+i/8AQIsP/AZP8KP+Ef0X/oEWH/gMn+FYv/CJ6z/0OOpf9+ov8KP+ET1n/ocdS/79Rf4UckP5vzD2lT+T8jZ/4R/RP+gRYf8AgMn+FaII7Vyn/CJaz/0OOpf9+o/8KX/hE9Z/6HDUv+/UX+FHJD+b8w9pU/k/IPG/+u8N/wDYbg/9BeurFcl/whV5NfWU+o+I769SzuUuUiljQAsvToPQn8660UT5bJJ3HTUuZyatcKKKKyNgooooAKKKKACiiigAooooAKKKKACiiigAooooAKKKKACiiigAooooAKKKKAEPSuU8G/8AIY8T/wDYUb/0Ba6s9K5Twb/yGPE//YUb/wBAWtYfBL+upz1P4kP66GX8df8AkiPiP/rjH/6OSu9i/wBUn+6K4L46/wDJEfEf/XGP/wBHJXexf6pP90VkdA+iiigAooooA858a/8AJcPhp9NV/wDSda9Grznxr/yXD4afTVf/AEnWvRqACiiigArz3x5/yVL4cf8AX9ef+kxr0KvPfHn/ACVL4cf9f15/6TGgD0KiiigAooooAK878H/8lw+JH/XPSv8A0RJXoled+D/+S4fEj/rnpX/oiSgD0SiiigAooooA890D/kv3i7/sF2P/ALPXoVee6B/yX7xd/wBgux/9nr0KgAooooAKKKKAPPfgb/ySLTv+vm8/9Kpa0/iB93w3/wBh61/m1ZnwN/5JHp3/AF83n/pVLWn8QPu+G/8AsPWv/s1XT+JGVb+Gzrl6ClpF6ClqDRbBRRRQMKKKKACiiigAooooAKKKKACiiigAooooAKKKKACiiigArC1LRb641tNS07UFtZFt/IIaAPkbt3c/St2jFVGTi7ozqU41FZnP/wBneJP+g7F/4BL/AI0f2d4k/wCg7F/4BL/jXQUVftZdl9yMvq0f5n97Of8A7N8Sf9B2L/wCX/Gj+zfEn/Qdi/8AAJf8a6Cij2suy+5B9Wj/ADP72c//AGb4jx/yHYv/AACX/GrWgaRLpFrOlxci5lnnad3CbOWxnjJ9K1qMUpVJSVtPuKjQjGXNq/VhRRRWZuFFFFABRRRQAhrkfAP/ADMf/Yeuv/Za68153oOtyeHLzXbe80TWJjPq9xPG9vYs6MjEAEH8K1ppuMkjnqPlnFvzPQZV3xMg43AjNc1ZaBrun2cdra63GsUYwoNoDgfnUf8AwnkX/Qv+IP8AwWvS/wDCexf9C/4g/wDBa9XH2kFZL8jOapVGm2/ldFr+zPEf/Qdi/wDANf8AGj+zPEf/AEHYv/ANf8aq/wDCeRf9C/4g/wDBa1H/AAnkX/Qv+IP/AAWvVXq9l9yJ9nS/mf3stf2Z4j/6DsX/AIBr/jR/ZniP/oOxf+Aa/wCNVP8AhPIv+hf8Qf8Agtej/hPIv+hf8Qf+C16L1ey+5C9nS/mf3smuPD+sX/krf6zHLFHKspQWoXJU56g10iggcmuV/wCE8i/6F/xB/wCC16P+E8i/6F/xB/4LWqJKpJar8jWHsoO6Z1dLmuT/AOE8i/6F/wAQf+C16P8AhPIv+hf8Qf8Agteo9lPsa+1gdWa5640HURrV3f6bqi2v2oIHRrYP90YHJP1qt/wnsX/Qv+IP/Ba9J/wnkX/Qv+IP/Ba1XGNSD0RlU9lVS5i5/ZniLtr8X/gEv/xVH9meI/8AoPxf+AS//FVU/wCE8i/6F/xB/wCC1qT/AITyL/oX/EH/AILWqr1NrL7kZezo/wAz+9lz+zPEf/Qfi/8AAJf/AIqj+zPEf/Qfi/8AAJf/AIqqf/CeRf8AQv8AiD/wWtR/wnkX/Qv+IP8AwWtR+97L7kHs6X8z+9lttL8RMMHX4v8AwCX/AOKq/oWmf2PosFiZfOMII37ducknpk+tYv8AwnkX/Qv+IP8AwWtR/wAJ5F/0L/iD/wAFz0pe0mrW/IuEaNOXMm7+bbOsozXKf8J7F/0L/iD/AMFr0n/CeRf9C/4g/wDBa9Z+yn2N/awOrrJ1zSJ9UNq9pdC2ltpfMVzHvzwR0yPWsr/hPIv+hf8AEH/gtel/4TyL/oX/ABB/4LXqoxqRfMkROVOa5ZFr+zPEn/Qdi/8AAJf8aX+zfEn/AEHYv/ANf8aqf8J7F/0L/iD/AMFr0f8ACexf9C/4g/8ABa9afvOy+5GLhSf2n97Lf9meI/8AoOxf+Aa/40f2Z4j/AOg7F/4Br/jVP/hPIv8AoX/EH/guel/4TyL/AKF/xB/4LnovV7L7kL2VL+aX3st/2b4j/wCg7F/4Br/jUukaLd2OpXV7f3y3ctwqKSsWzG3Pv71nf8J5F/0L/iD/AMFz0v8AwnkX/Qv+IP8AwWvSbqNWsvuQ4woxad27d2zX8Sf8ivqn/XpL/wCgGofCP/ImaN/14w/+gCsDV/GIvtFvbSHQNeEk8Dxru05wMlSBn866LwtDJB4S0mKdGjkjs4ldHGCpCDII7GplFxp69zWElKpp2NYUtIKWsDpCiiigAooooAKKKKACuT8Lf8jZ4r/6/Y//AEUK6yuAtNXk8P8AizxCbnR9VuEurlJIpLWzaRSBGB1+tbU9YyXl+pzVnaUG+/6Hf/SvLdE+G3jnw1pv9m6F8Qba2sVlkljifQ0kK73Ln5jJk8sa6f8A4TyL/oAa/wD+C5qP+E8i/wCgBr//AILmqfZy7GntodzI/wCEV+Jv/RSbT/wno/8A45R/wivxN/6KTaf+E9H/APHK1/8AhPIv+gBr/wD4Lmo/4TyL/oAa/wD+C5qPZy7B7aBkf8Ir8Tf+ik2n/hPR/wDxyj/hFfib/wBFJtP/AAno/wD45Wv/AMJ5F/0ANf8A/Bc1H/CeRf8AQA1//wAFzUezl2D20DlfEfw08eeK/D9zoutfES2lsboKJUXQUQkKwYciTPVRXqtcp/wnkX/QA1//AMFzUf8ACeRf9ADX/wDwXNR7OXYPbQOrorlP+E8i/wCgBr//AILmo/4TyL/oAa//AOC5qPZy7B7aB1ea4DxD4F8RXnjyTxP4X8Uw6NLNYJZSRyaatzuVXZ85LjHLenatT/hO4v8AoAa//wCC5qP+E7i/6AGv/wDguaj2cuwvbQMf/hFvib/0Uez/APCfj/8AjlH/AAivxN/6KRZ/+E/H/wDHK2P+E8i/6AGv/wDguaj/AITyL/oAa/8A+C5qPZz7D9tAx/8AhFfib/0Uiz/8J+P/AOOUf8Ir8Tf+ikWf/hPx/wDxytj/AITyL/oAa/8A+C5qP+E8i/6AGv8A/guaj2cuwe2gZH/CLfE3/opFn/4T8f8A8crc8AeE5/Bnhg6Zd6iuozvdTXMlwsHlBmkcsflyccn1qL/hPIv+gBr/AP4Lmo/4TyL/AKAGv/8Aguaj2c+we2gdXmiuU/4TuL/oAa//AOC5qP8AhPIv+gBr/wD4Lmo9nLsL20Dq65X4geELvxjpOnQadqi6Xd6fqUOow3DW/ngPFnaNu4dyD17Un/CeRf8AQA1//wAFzUf8J5F/0ANf/wDBc1Hs5dh+2gZH/CMfEz/oo1n/AOE/H/8AHKP+EY+Jn/RRrP8A8J+P/wCOVr/8J5F/0ANf/wDBc1H/AAnkX/QA1/8A8FzUezl2D20DI/4Rf4m/9FGs/wDwn4//AI5R/wAIv8Tf+ijWf/hPx/8Axytf/hPIv+gBr/8A4Lmo/wCE8i/6AGv/APguaj2cuwe2gZH/AAi/xN/6KNZ/+E/H/wDHKm8MeBde03x9L4q8TeJ4tZun0z+zkSPTltgqeaJAeHIPO7t39q0f+E8i/wCgBr//AILmo/4TyL/oAa//AOC5qPZy7B7aB08/+pf/AHTXNfDc/wDFvdK/65H/ANDao5PHUbxso0DX+Rj/AJBzVZ8AW09n4F0yC7hkgmSMho5FKsvzHqD0quVxp6kKalUVjpM0UlFYm4tFFFAzkvih/wAk41X/AHY//Ri11afdrlPih/yTjVf92P8A9GLXVp92tH/DXq/0MF/Gfov1PP0/5OXl/wCxRT/0sevQq89T/k5eX/sUU/8ASx69CrM3CiiigAooooA8++Dv/IB8Qf8AYyah/wCja9Brz74O/wDIB8Qf9jJqH/o2vQaACiiigArzn4Pf8z1/2OOof+069Grzn4Pf8z1/2OOof+06APRqKKKACiiigDmPiX/ySrxT/wBgi6/9FNVzwX/yIegf9g23/wDRS1T+Jf8AySrxT/2CLr/0U1XPBf8AyIegf9g23/8ARS0AbdFFFABWD46/5J34j/7BV1/6Kat6sHx1/wAk78R/9gq6/wDRTUAQ/Dn/AJJb4V/7A1p/6JSukrm/hz/yS3wr/wBga0/9EpXSUAFFFFABXnfxb/1/gT/sb7L/ANBlr0SvO/i3/r/An/Y32X/oMtAHodclqP8AyVLRf+vG4/mtdbXJah/yVLRf+vG4/mtaU/i+T/IxrbL1OuooorM2CiiigAooooAKKKKACiiigAooooAKKKKACiiigAooooAKKKKACiiigAooooAKKKKACiiigAooooAKKKKACiiigAooooAKKKKACiiigAooooAKKKKACiiigAooooAKKKKACiiigAooooAKKKKACiiigAooooAKKKKACiiigBD0rlPBv/IY8T/9hRv/AEBa6s9K5Twb/wAhjxP/ANhRv/QFrWHwS/rqc9T+JD+uhl/HX/kiPiP/AK4x/wDo5K72L/VJ/uiuC+Ov/JEfEf8A1xj/APRyV3sX+qT/AHRWR0D6KKKACiiigDznxr/yXD4afTVf/Sda9Grznxr/AMlw+Gn01X/0nWvRqACiiigArz3x5/yVL4cf9f15/wCkxr0KvPfHn/JUvhx/1/Xn/pMaAPQqKKKACiiigArzvwf/AMlw+JH/AFz0r/0RJXoled+D/wDkuHxI/wCuelf+iJKAPRKKKKACiiigDz3QP+S/eLv+wXY/+z16FXnugf8AJfvF3/YLsf8A2evQqACiiigAooooA89+Bv8AySLTv+vm8/8ASqWtP4gfd8N/9h61/m1ZnwN/5JFp3/Xzef8ApVLWn8QPu+G/+w9a/wA2q6fxIyrfw2dcvQUtIvQUtQaLYKKKKBhRRRQAUUUUAFFFFABRRRQAUUUUAFFFFABRRRQAUUUUAFFFFABRRRQAUUUUAFFFFABRRRQAUUUUAFFFFABSYpaKAExSYp1FArIbilxS0UBZCYoxS0lAWQmKMUtLQFkNxS4pc0ZoDQTFG2lzRmgNBNtJinUUBZCYo20tJQGgm2lxS0UBZCYo20tFAWQ3FLilooCyExRilzSZNABijFGaWgNBuKMU6igLITFGKWjFAWEFLRRQMKKKKACiiigAooooAKQjNLRQAlFLRQAmKMUtFACYoxS0UAJijFLRQAmKMUtFACYoxS0UAJijFLRQAmKMUtFACYoxS0UAJijFLRQAmKMUtFACYoxS0UAJijFLRQAmKMUtFACYpaKKACiiigAooooA5L4of8k41X/dj/8ARi11afdrlPih/wAk41X/AHY//Ri11afdrR/w16v9DBfxn6L9Tz9P+Tl5f+xRT/0sevQq89T/AJOXl/7FFP8A0sevQqzNwooooAKKKKAPPvg7/wAgHxB/2Mmof+ja9Brz74O/8gHxB/2Mmof+ja9BoAKKKKACvOfg9/zPX/Y46h/7Tr0avOfg9/zPX/Y46h/7ToA9GooooAKKKKAOY+Jf/JKvFP8A2CLr/wBFNVzwX/yIegf9g23/APRS1T+Jf/JKvFP/AGCLr/0U1XPBf/Ih6B/2Dbf/ANFLQBt0UUUAFYPjr/knfiP/ALBV1/6Kat6sHx1/yTvxH/2Crr/0U1AEPw5/5Jb4V/7A1p/6JSukrm/hz/yS3wr/ANga0/8ARKV0lABRRRQAV538W/8AX+BP+xvsv/QZa9Erzv4t/wCv8Cf9jfZf+gy0Aeh1yWo/8lS0X/rxuP5rXW1yWof8lS0X/rxuP5rWlP4vk/yMa2y9TrqKKKzNgooooAKKKKACiiigAooooAKKKKACiiigAooooAKKKKACiiigAooooAKKKKACiiigAooooAKKKKACiiigAooooAKKKKACiiigAooooAKKKKACiiigAooooAKKKKACiiigAooooAKKKKACiiigAooooAKKKKACiiigAooooAQ9K5Twb/yGPE//AGFG/wDQFrqz0rlPBv8AyGPE/wD2FG/9AWtYfBL+upz1P4kP66GX8df+SI+I/wDrjH/6OSu9i/1Sf7orgvjr/wAkR8R/9cY//RyV3sX+qT/dFZHQPooooAKKKKAPOfGv/JcPhp9NV/8ASda9Grznxr/yXD4afTVf/Sda9GoAKKKKACvPfHn/ACVL4cf9f15/6TGvQq898ef8lS+HH/X9ef8ApMaAPQqKKKACiiigArzvwf8A8lw+JH/XPSv/AERJXoled+D/APkuHxI/656V/wCiJKAPRKKKKACiiigDz3QP+S/eLv8AsF2P/s9ehV57oH/JfvF3/YLsf/Z69CoAKKKKACiiigDz34G/8kj07/r5vP8A0qlrT+IH3fDf/Yetf5tWZ8Df+SRad/183n/pVLWn8QPu+G/+w9a/zarp/EjKt/DZ1y9BS0i9BS1BotgooooGFFFFABRRRQAUUUUAFFFFABRRRQAUUUUAFFFFABRRRQAUUUUAFFFFABRRRQAUUUUAFFFFABRRRQAUUUUAFFFFABRRRQAUUUUAFch421fVdOu9HtNGniglv7gwl5Y94HAxXX1wHxJt2utY8MQJM8DSXrKJE+8vA5FbUEpVEmc2JbVNtE2l+INfsPGcWgeITbXS3EJliuYF2Yx2IroNT8WaHo90ttqWpQQTsAfLZssAe5A6D3NcToFi3hr4mPa6tcPey3lv/ol5McsAOqVn6HbalqXiTxGts2mtcG6ZJlvoyz7O2PRfp6V1yo05S0dkkv66nHHEThC27uenT67pttYw3s97CtrM4SObflWJ6ciq1h4t0PUr42VnqltNcAnCK33vp6/hXnHiTRzonwutbK7uobiNdTUsYSSiqSxKj6VpeKoNGivvCh0BLdZvtsYT7PjLRZGenUYzWaoQffrr6Gn1mdtUr6aHdat4m0bQmRdW1CG2d/uozZYj1wOce9SrremvpZ1Jb63+xAZNwZAEHOOv1rzaOHUbz4na9FEbE3ACrGl7Hu/d7R9wfqfrVuOBPBng3VDqf2PUkmvgY7ZOYo3O35T6AHnFDw8Ukk9WCxM227aI7PS/F2ia1cG303UIp5gCdgyCQPQHrWPY/EbTbzxNd6a88KwoUW3lBJ81j2/OuYkN4PiN4bkv4tOt5m34Sy67Sh4b1HpWvoMFhH8UfEMbwwKQkTRgqODgcj8aqVCEE/S5EcTOdktNbGp4Q8RX1/rOs6RrDo91YT/IwULujPQ4Htg/8Cp9hr97qXxB1LT4HT+zNOtwJPlGTMT6/Tdx7Vh+Lbj/AIRLx3Z+Ifu215A1vcADqwHyk/p/3zUnhyyuLb4a6tqJB+3alHNdgj73K/IPy/nSlThbnXW339SlWm5ezb1V2/Q6f/hMvDw1L7B/a1t9ozt27+M+memfarmqa7p+iQrLqt3FbI5wu9uWPsOpryvStAv9c+HscUNxpEVmy5aZkxJGwOcluxrZa3jHxO0m11uSO5ij0tRE8nKSSDqRn86csNTUrJ3tf8Ajiqjje29vxNzXPiJpWn6B/aOnXVveM77IkDH5iCNwPoQDnmtnTPEum6ppTX9veQGCJf30m/5YzjJBJrk/H1roq+B9TbS4bUSR3CeaYVHyvlc5x0OMVD48EMfw9sFsFVLSW5gF0YFABTHfHvt/SpVKnKEbJptlOrUhKTk01Y63TvGOg6rd/ZbDVLeaY/dQNgt9M9fwpdS8XaHpE0sOoalDDLEVDo2cjIyOPp6Vx3j230mHTtFOix263v22L7N9nADMvtjqOlT6ZpdnqPxa1t763juDDBFtEgDAZVexo9jT5ebWwLEVb8mj8zQ8QatcX3jTQtG0y5McTg3lyyHG6MfdH0OG/Sl1weMEkvryy1Cxs7O3BMMTxbzIoGcsT92qaYj+OYSRQqf2UFhHoN3b8jVvxRoFl4kjupY9fmgWFCksUU48pSB0YfzzTioqUU9rEyc3CUk9bkT6rqHiX4WPqNvK1rfCJpN8JI5Q5OPqBXS+GdWGueGrHUR96eIFx6MOGH5g1y/gfU2vfhpK91FGiWqSxDyxhWRR1x9KufCrf/wruxDjjfLtPqPMb+uamtFRjJdmXh5yco36o7GiiiuM7wooooAKKKKACiiigAooooAKKKKACiiigAooooAKKKKACiiigAooooAKKKKACiiigAooooAKKKKACiiigAooooAKKKKACiiigAooooAKKKKACiiigAooooAKKKKAOS+KH/JONV/3Y/8A0YtdWn3a5T4of8k41X/dj/8ARi11afdrR/w16v8AQwX8Z+i/U8/T/k5eX/sUU/8ASx69Crz1P+Tl5f8AsUU/9LHr0KszcKKKKACiiigDz74O/wDIB8Qf9jJqH/o2vQa8++Dv/IB8Qf8AYyah/wCja9BoAKKKKACvOfg9/wAz1/2OOof+069Grzn4Pf8AM9f9jjqH/tOgD0aiiigAooooA5j4l/8AJKvFP/YIuv8A0U1XPBf/ACIegf8AYNt//RS1T+Jf/JKvFP8A2CLr/wBFNVzwX/yIegf9g23/APRS0AbdFFFABWD46/5J34j/AOwVdf8Aopq3qwfHX/JO/Ef/AGCrr/0U1AEPw5/5Jb4V/wCwNaf+iUrpK5v4c/8AJLfCv/YGtP8A0SldJQAUUUUAFed/Fv8A1/gT/sb7L/0GWvRK87+Lf/Hx4E/7G6x/9BloA9DrktR/5Klov/XjcfzWutrktR/5Klov/XjcfzWtKfxfJ/kY1tkddRRRWZsFFFFABRRRQAUUUUAFFFFABRRRQAUUUUAFFFFABRRRQAUUUUAFFFFABRRRQAUUUUAFFFFABRRRQAUUUUAFFFFABRRRQAUUUUAFFFFABRRRQAUUUUAFFFFABRRRQAUUUUAFFFFABRRRQAUUUUAFFFFABRRRQAUUUUAFFFFACHpXKeDf+Qx4n/7Cjf8AoC11Z6Vyng3/AJDHif8A7Cjf+gLWsPgl/XU56n8SH9dDL+Ov/JEfEf8A1xj/APRyV3sX+qT/AHRXBfHT/kiPiP8A64x/+jkrvYv9Un+6KyOgfRRRQAUUUUAec+Nf+S4fDT6ar/6TrXo1ec+Nf+S4fDT6ar/6TrXo1ABRRRQAV5748/5Kl8OP+v68/wDSY16FXnvjz/kqXw4/6/rz/wBJjQB6FRRRQAUUUUAFed+D/wDkuHxI/wCuelf+iJK9Erzvwf8A8lw+JH/XPSv/AERJQB6JRRRQAUUUUAee6B/yX7xd/wBgux/9nr0KvPdA/wCS/eLv+wXY/wDs9ehUAFFFFABRRRQB578Df+SR6d/183n/AKVS1p/ED7vhv/sPWv8A7NWZ8Df+SRad/wBfN5/6VS1p/ED7vhv/ALD1r/Nqun8SMq38NnWr0FOpF6ClqDRbBRRRQMKKKKACiiigAooooAKKKKACiiigAooooAKKKKACiiigAooooAKKKKACiiigAooooAKKKKACiiigAooooAKKKKACiiigAooooAKo3+jWGp3NpPfQebLZyeZA25hsb14PP41eopptO6E0mrMz73QtO1C+tLy8thJcWbboJNzAofwPP41Q1fwP4d1y8N1qempNOww0gdkLfXaRmt+kqlOS2ZEqcHujhfGfhMP4PtNH8PWSrFHeRv5KnovO45P1ra0vwT4f0e+W90/TkiuADtYuzbc9cAkgfhXQYoqvbT5eW+hCoQ5uaxh6z4P0TxBMk2q2SyyoNokV2RsehIIzT4fCWhw6JJpEdgn2GVtzxFmO5vXOc54HOe1bWKKn2k9rl+yhe9jndP8AAXhvS7yC6stOCTwMXjkMrkqSMdzz9DU9/wCENE1LV4tTvLISXcRUrIHYfdORkA4PPrW2KKHUm9WwVKmvsozdY0PTtesxa6tai4hDBghYjBHfIIq1DbRQW6QQoFiRQqp2AHarGKMUru1iuWN721OVk+G3hSa5adtIjDs24hZHVSf90Nj8MVp6v4X0jXYYYtVsknWD/VHJUp7AqQce1a9FP2k73uT7KFrWRjWvhPRbPRZdJt7GNLKbJkjyTuPTJJOc++aLDwlomm6VPptpYqLO4bdLE7M4Y4A/iJ9BWzRR7SdrXH7OHY57SvAnhzRb5bvTdNSKdfuuZHfb9NxOK0rfRbC11a51K3twl3dKqzSbidwHA4zgdO1X6KHOct2CpwjsjkvEehXknizRtd0mMPLbsYblScbom7/hz+dTX3w88Manevd3emAzSHc5SR0DH1wCBXT0VXtZ2VnsR7GF3dbnO+ItJmi8GXOmeG7eOF3j8mNEwoVTwf0zWjoOlpougWWnRcrbxKhP949z+Jya0cetFTztx5fmUqcVLmQUUUVBoFFFFABRRRQAUUUUAFFFFABRRRQAUUUUAFFFFABRRRQAUUUUAFFFFABRRRQAUUUUAFFFFABRRRQAUUUUAFFFFABRRRQAUUUUAFFFFABRRRQAUUUUAFFFFABRRRQByXxQ/wCScar/ALsf/oxa6tPu1ynxQ/5Jxqv+7H/6MWtdfE+hBRnWdP8A/ApP8a1s3TVu7/Q5+ZKs7vov1MjxN8NdA8Wa7HrGp/bo72O2FqJLS8kgzGGZgDtIzyxrL/4Ut4Y/5+9d/wDBxP8A/FV1h8UaD/0GdP8A/ApP8aT/AISjQf8AoM6f/wCBSf41HLLsa+0h3OU/4Ut4Y/5+9d/8HE//AMVR/wAKW8Mf8/eu/wDg4n/+KrrP+Em0L/oNaf8A+BSf40v/AAk2hf8AQa0//wACk/xo5Zdg54dzkv8AhS3hj/n713/wcT//ABVH/ClvDH/P3rv/AIOJ/wD4qut/4SbQv+g1p/8A4FJ/jR/wk2hf9BrT/wDwKT/Gjll2Dnh3IfCvhTS/B2jtpuiJMtu0zzt50rSMzt94ljz2rarL/wCEm0L/AKDWn/8AgUn+NH/CTaF/0GtP/wDApP8AGjll2Dnh3NSisv8A4SbQv+g1p/8A4FJ/jR/wk2hf9BrT/wDwKT/Gjll2Dnh3NSuAuvgx4VudTvr/AH6rBNf3Ml1OLfUpY1aRzlm2qcda6v8A4SbQv+g1p/8A4FJ/jR/wk2hf9BrT/wDwKT/Gjll2Dnh3OR/4Up4X/wCfrXf/AAcT/wDxVH/ClPC//P1rv/g4n/8Aiq67/hJtC/6DWn/+BSf40f8ACTaF/wBBrT//AAKT/Gjll2Dnh3OR/wCFKeF/+frXf/BxP/8AFUf8KU8L/wDP1rv/AIOJ/wD4quu/4SbQv+g1p/8A4FJ/jR/wk2hf9BrT/wDwKT/Gjll2Dnh3OOl+B/hOeF4p59bkjdSro+rTkMD1BBbkV3thZQabpttY2gKwWsSQxAnJCqABz34FUj4m0If8xrT/APwKT/Gk/wCEo0L/AKDNh/4FJ/jRyy7C9pDua1FZX/CT6F/0GdP/APApP8aP+Em0L/oNaf8A+BSf40csuw/aQ7mrVbUrCDVdKu9PvFLW93C8EoU4JRlKnntwaqf8JNoX/Qa0/wD8Ck/xo/4SbQv+g1p//gUn+NHLLsHPHucdF8EPCkEKRQ3GtxxxqFRE1acBQOgA3cCn/wDClfDH/P3rv/g3n/8Aiq6w+J9CH/MZ0/8A8Ck/xoHijQv+gzp//gUn+NHLLsL2kO5yf/ClfDH/AD967/4OJ/8A4qj/AIUr4Y/5+9d/8HE//wAVXW/8JPoX/Qa0/wD8Ck/xpf8AhJtC/wCg1p//AIFJ/jRyy7D54dzkf+FK+GP+fvXf/BxP/wDFVJZ/BzwvZ6tZagH1WeaxuEuYBcalLKqyIcqdrEiuq/4SbQv+g1p//gUn+NIfE2hD/mNaf/4FJ/jRyy7B7SPc1e1clqfHxS0X/rwuP5rWv/wlGhf9Bmw/8Ck/xrnp9SstS+KGkNp93BdKljOGMMgfacr1wauEWne3R/kY1ZxcdH1R2+aKSlrI6QooooAKKKKACiiigAooooAKKKKACiiigAooooAKKKKACiiigAooooAKKKKACiiigAooooAKKKKACiiigAooooAKKKKACiiigAooooAKKKKACiiigAooooAKKKKACiiigAooooAKKKKACiiigAooooAKKKKACiiigAooooAQ9K5Twb/yGPE//YUb/wBAWusPSuH8Naxp2na34mjv7+1tnbU2KrNMqEjYvOCa2ppuErf1qc9RpVIN/wBaHS+I/D9h4q8PXWi6xG8lldqFlVHKkgMGHI6cgVyH/Cl/DPa71z/wbz//ABVdZ/wlGhf9BrT/APwKT/Gj/hKNC/6DOn/+BSf41nyy7GvtI9zk/wDhS/hn/n71z/wbz/8AxVH/AApfwz/z965/4N5//iq6z/hJ9C/6DOn/APgUn+NH/CUaF/0GdP8A/ApP8aOWXYPaR7nJ/wDCl/DP/P3rn/g3n/8AiqP+FL+Gf+fvXP8Awbz/APxVdZ/wlGhf9BrT/wDwKT/Gj/hKNC/6DOn/APgUn+NHLLsHtI9zn9G+FHhvQ/ENnrdqdRmvrLzPIe6v5Zgm9CjYDEjkH+VdtWT/AMJPoX/Qa0//AMCk/wAaX/hJ9C/6DOn/APgUn+NHLLsHtI9zVorK/wCEn0L/AKDWn/8AgUn+NH/CT6F/0GdP/wDApP8AGjll2D2ke5q1zvizwPo3jQWX9tC5DWLs8D21w0LIWGDypB6Vd/4SfQv+g1p//gUn+NH/AAk+hf8AQZ0//wACk/xo5Zdg9pHucn/wpbwx/wA/eu/+Dif/AOKo/wCFLeGP+fvXf/BxP/8AFV1n/CT6F/0GtP8A/ApP8aP+En0L/oNaf/4FJ/jRyy7B7SPc5P8A4Ut4Y/5+9d/8HE//AMVR/wAKW8Mf8/eu/wDg4n/+KrrP+En0L/oNaf8A+BSf40f8JPoX/Qa0/wD8Ck/xo5Zdg9pHucn/AMKW8Mf8/eu/+Dif/wCKrc8JeAdE8F3F/PowujNqHl/aJLq5eZn8vcF5Yk8bjWh/wk+hf9BnT/8AwKT/ABo/4SfQv+g1p/8A4FJ/jRyy7B7SPc1aKyv+En0L/oM6f/4FJ/jR/wAJPoX/AEGtP/8AApP8aOWXYPaR7mrRWV/wk+hf9BnT/wDwKT/Gj/hJ9C/6DWn/APgUn+NHLLsHtI9zC1/4XeHvEfiCXWr46hFezRpFI9rfSQhlX7oIUiqH/CmPDP8Az965/wCDef8A+KrrP+En0L/oM6f/AOBSf40f8JPoX/Qa0/8A8Ck/xo5Zdg9pHucn/wAKY8M/8/euf+Def/4qj/hTHhn/AJ+9c/8ABvP/APFV1n/CT6F/0GtP/wDApP8AGj/hJ9C/6DWn/wDgUn+NHLLsHtI9zk/+FMeGf+fvXP8Awbz/APxVH/CmPDP/AD965/4N5/8A4qus/wCEn0L/AKDWn/8AgUn+NH/CT6F/0GtP/wDApP8AGjll2D2ke4nhnw1p3hHw9b6LoqSR2duXKLJIXbLOXOSeTyxrG+IH3fDf/Yetf/Zq2v8AhJ9C/wCgzp//AIFJ/jXMeM9Z03UZPDsNjqFrcyLrlsxSGZXIGTzgH3q4RfMtDKtOLg9Tul6CnUi/dFLWRutgooooGFFFFABRRRQAUUUUAFFFFABRRRQAUUUUAFFFFABRRRQAUUUUAFFFFABRRRQAUUUUAFFFFABRRRQAUUUUAFFFFABRRRQAUUUUAFFFFABSUtFACUtFFACUUtFAAKKKKACiiigAooooAKKKKACiiigAooooAKKKKACiiigAooooAKKKKACiiigAooooAKKKKACiiigAooooAKKKKACiiigAooooAKKKKACiiigAooooAKKKKACiiigAooooAKKKKACiiigAooooAKKKKACiiigAooooAKKKKAIbq0t763e3vII7iF/vRyoGVu/IPFZf/CI+Hf8AoA6b/wCAcf8AhW1RTu0S4xbu0Yw8I+Hf+gDpv/gHH/hR/wAIj4d/6AOmf+Acf+FbNFPmfcXJDsY3/CI+HP8AoA6b/wCAcf8AhR/wiPhz/oA6b/4CR/4Vs0Uc8u4vZU+yMb/hEfDn/QB03/wEj/wo/wCER8Of9AHTf/ASP/Ctminzy7h7Kn2Rjf8ACI+HP+gDpv8A4CR/4Uf8Ij4c/wCgDpv/AICR/wCFbNFHPLuHsqfZGN/wiPhz/oA6b/4CR/4Uf8Ij4c/6AOm/+Akf+FbNFHPLuHsqfZGN/wAIj4c/6AOm/wDgJH/hR/wiPhz/AKAOm/8AgJH/AIVs0Uc8u4eyp9kY3/CI+HP+gDpv/gJH/hR/wiPhz/oA6b/4CR/4Vs0Uc8u4eyp9kY3/AAiPhz/oA6b/AOAkf+FH/CI+HP8AoA6b/wCAkf8AhWzRRzy7h7Kn2Rjf8Ij4d/6AOm/+Acf+FH/CJeHf+gBpv/gHH/hWzRS5pdxqnBdDG/4RHw5/0AdM/wDAOP8Awo/4RHw5/wBAHTf/AADj/wAK2aKOeXcXsodjG/4RHw5/0AdN/wDASP8Awo/4RHw5/wBAHTf/AADj/wAK2aKfPLuHsqf8qMb/AIRHw7/0ANN/8A4/8KP+ER8O/wDQB03/AMA4/wDCtmilzPuPkh2Mb/hEfDn/AEAdN/8AAOP/AAo/4RHw5/0AdN/8BI/8K2aKOeXcXsqfZGN/wiPhz/oA6b/4CR/4Uf8ACI+Hf+gDpv8A4Bx/4Vs0Uc8u4eyp/wAqMb/hEvDv/QA03/wDj/wqxZ+H9H0648+w0qytZsEeZDbojYPbIGa0aKXMyuSPYKKKKRQUUUUAFFFFABRRRQAUUUUAFFFFABRRRQAUUUUAFFFFABRRRQAUUUUAFFFFABRRRQAUUUUAFFFFABRRRQAUUUUAFFFFABRRRQAUUUUAFFFFABRRRQAUUUUAFFFFABRRRQAUUUUAFFFFABRRRQAUUUUAFFFFABRRRQAUUUUAFZVx4Z0O7uHnutG0+aaQ5eSS1RmY+pJHNatFNNrYTSe5jf8ACIeHP+gBpn/gHH/hR/wiHhz/AKAGmf8AgHH/AIVs0U+aXcnkj2Mb/hEPDn/QA0z/AMA4/wDCj/hEPDn/AEANM/8AAOP/AArZoo5pdw5I9jG/4RDw5/0ANM/8A4/8KP8AhEPDn/QB0z/wDj/wrZopc8u4ezj2Mb/hEPDn/QA0z/wDj/wo/wCEQ8Of9AHTP/AOP/Ctmijml3Dkj2Mb/hEPDn/QB0z/AMA4/wDCj/hEPDn/AEAdM/8AAOP/AArZop80u4ezj2Mb/hEPDn/QB0z/AMA4/wDCl/4RDw5/0ANM/wDAOP8AwrYopc0u4ckexj/8Ih4c/wCgBpn/AIBx/wCFJ/wiHhz/AKAOmf8AgHH/AIVs0Uc0u4ckexjf8Ih4c/6AOmf+Acf+FH/CIeHP+gDpn/gHH/hWzRT5pdw9nHsY3/CIeHP+gDpn/gHH/hS/8Ih4c/6AGmf+Acf+FbFFLml3Dkj2Mb/hEPDn/QB0z/wDj/wo/wCEQ8Of9AHTP/AOP/Ctmijml3D2cexjf8Ih4c/6AOmf+Acf+FH/AAiHhz/oA6Z/4Bx/4Vs0Uc0u4ezj2Mf/AIRDw5/0ANM/8A4/8KP+EQ8Of9ADTP8AwDj/AMK2KKOaXcOSPYxv+EQ8Of8AQB0z/wAA4/8ACj/hEPDn/QB0z/wDj/wrZoo5pdw9nHsY3/CIeHP+gDpn/gHH/hR/wiHhz/oA6Z/4Bx/4Vs0Uc0u4ezj2Mb/hEPDn/QA0z/wDj/wqSHwtoFvMk0GiadHLGwZHS0jDKRyCCBwa1aKOZ9x8kV0ExS0UUigooooAKKKKACiiigAooooAKKKKACiiigAooooAKKKKACiiigAooooAKKKKACiiigAooooAKKKKACiiigAooooAKKKKACiiigAooooAKKKKACiiigAooooAKKKKACiiigAooooAKKKKACiiigAooooAKKKKACiiigAooooAKKKKACiiigAooooAKKKKACiiigAooooAKKKKACiiigAooooAKKKKACiiigAooooAKKKKACiiigAooooAKKKKACiiigAooooAKKKKACiiigAooooAKKKKACiiigAoopKAFopM0ZoAWiiigAopKWgAooooAKKM0ZoAKKM0lAC0UlLQAUUUZoAKKKKACijNJmgBaKKM0AFFZz+INHjco+qWaspwQZ1BB/Op7XU7K/3fYbuC52Y3eVIG256Zx9KrlfYhTi3ZMtZozSA5oqSxc0ZpKKAFooooAKKKKACiiigAooooAKKKKACiiigAooooAKKKKACiiigAooooAKKKKACiiigAooooAKKKKACiiigAooooAKKKKACiiigAooooAKKKKACiiigAooooAKKKKACiiigAooooAKKKKACiiigAooooAKKKKACiiigAooooAKKKKACiiigAooozQAUUmaN2OtAC0UZpKAFooooAKKKKACiiigAopKKAFooFFABRRmigAopKWgAoopKAFooooAKKinuYbWPfcSpEmcbnOBUUGo2tzJ5cFxFI+M4VwTUOcU7N6j5W1exaooqvLfQQ3UdvJIFllBKKe+KpyS3BJvYsUUmaKLiFzRRRTAKKKKSAKKKKYBRRRQAUUUUAFFFFABRRRQAUUUUAFFFFABRRRQAUUUUAFFFFABRRRQAUUUUAFFFFABRRRQAUUUUAFFFFABRRRQAUUUUAFFFFABRRRQAUUUUAFFFFABRRRQAUUUUAFFFFABRRRQAUUUUAFFFFABRRRQAUUUUAFFFFABRRRQAUUUUAFFFFABRRRQAUUUUAFFFFABRRRQAUUUUAFFFFABRRRQAUUUUAFFFFABRRRQAUUUUAFFFFABRRRQAUUUUAFFFFABRRRQAUUUUAFFFFABRRRQAUUUUAcz438TXHhfTrS5tbVbpprlYjGSckHPT3rOm8W61o2g/avEGnQR3lxMsdnBFLwxYdGPbFT/EKwu7+DRhZW0s5i1OKSQRoW2qDyTjoKZ8RdButZ0a0lsYPtUllcLO1tnHmqOoH4V201StBS67nn1XV5puPTYhsvGGpweIrTS9etbRTfA+RNZzbgGH8LD+tZWjX/ihviJq8aW1u4HlCaN5ztjTnBX3I61a0G30qfXLJ7bwXqFlLGSzXV1DsWEgdRyc8/SpfM1DQfiTqNz/ZV3e2upRxKk1tHuCEcHd6DrV+4nJJdP66mXvtKUm9ze0DxDPq2p6xazQxoun3HlIyk5Ybc81i2/jq7l8EanrbWsPm2dy8KRgnawXHJ/OqiTa14W8Sa59m0G71KPUJBNbyQr8u7GMM38I96zLHRdYX4T63aXGm3CX013I624jJZs7eVHcdeaSp093tp/wSpVar0V+v/ANyLxZ4jTw/fa3f6RbW1qlv51svmEuTxgN+HNVpPHXiCxtrPVdS0eGLSbiRIyRLmQbv4senXitzxJZXNz8Nrm0ggkkuWswoiVSWJx0x61keL9Mvrn4YWVpb2k0twhg3RIhLDHXiheze6W/4DarJ2vsvxPQFOao61qQ0fRbrUGjaUW8ZfYp5b2q2MjrVTWLh4NHuJIrJr9lX/j2UjMnqOa4Y7nfLWOjOe8OeINd1Rob29tLAaZPEX823mJeHjIDDv/SsyTx7rN1Y3eq6TYWL6bbFwFmnxLKF6kDtWdoml3EnjNJdD0bUtF0ySCQXsd2uxGJXACrk9yP89aOnaRDoVtPput+ENQ1GWGRjFcWsW9JlJ4yc8frXpeyopv8Ar9Tyva1+W6f9fcddqXjorp+knR7T7Te6sMwxSNhUx97cfbmotK8Wa4fF9roGu6XBbSyRPIZYpCyuAMgr+oNUdX029sm8O63pGiSmOwUrLp8eC8atycDuetVbPVbzWPi9ptxdabNp8QtJFgS44kYc5LL256VCp03B8q6MqVSopK76o67w94im1mTVlmgSP7BdNCm0/eAAOTWMnxDKeDW1e5tFa5e6a2hto2OJGBwOT0rPtLjW/C2sa7aR6DdX4vrgzWs0K/uyWGMO3boKy4/CmsXPw5hjksG+3Wt+9y1pICvmDccgZpqlS5rvZ2HKtWUbLfU6ez8Y6rba5ZWHiC0tEW+JWKS0m37G/ut/jTLvxfr9x4p1PRNE0q3uGs2TEsshVQCuTu98niqehxaVPrVmtv4L1C0mVsvPcxbEiIHXOTnnjtWr4bsbuD4g+Jrme3ljguDD5UjRkLJhTnB71MlTi37vT+upUZVZJa7sZZeP/wDijLvV9QtPKurOY28lujZBkyAAD75FW9G1fxRNewHV9Hghs7hSwkhly0XGRuB6+lcs3hXU77wf4itoraRLp9VNzbxyrs80DaeM9jggH1rp9F8S6rqN1aWk3hy9s12f6TPcDYiED+H+9zRKELNwS/pDhOpdKbf9Myn8eatf/bLzRLKyfT7N2XNxPtkn29So7VY1Dx+/9j6LPpFtG0+rsVTz32pERgMGP1OK5fS9Cj8PPeWGueEtQ1QrKzW93aReYsinpnkY/wDr10mpC1h8M6dZXPg+7mspUZmt7dd0lq/Ucepyec1UoUuZcqv/AF6mcalZxbcrP0NuLWdZs9BkudT0nz7mNwqw2Dh/MU/xDPSqcHjO/luI428KasgdgpdlXC5PU81m+EdB1W58M3tnfz6jpkEl1vtP3uJ4oxjjJBxyOlakHgiSC4jl/wCEm1yQowbY9wpVsHofl6VhJU4tp2OiLqSSauc98RvDOj2dhZz2unwxSz38YkdV5YM3OfrW3rf2H4f+GZ9R0HS7dJHeJXRVxvy2O31NP+IdhdX2k2CWdvLcMl7EzCNSxChhk8U74hWF1f8AhAwWVvJcTedCfLjUscBxk4rSMuaNNSel2Zyg4ym4LWyKkvinxDYeE7/W9T0u3t1jRJLaLzCSQzAYf3wRV/XfFNxpPhnTtThgjeS7lhRkYnCh+tT+LdKuNX8C3un2i5uJIRsX1KkNj8cYrhtVutf17w7pOmxeGr6AWc0BuHlQj7pAyo6kdye1KEIVNbW1/AKk6lN2u3p+J1WteL75PEB0XQre2kuY4hLPLdSbUjz0Huen51d8JeJ318XkF5Alve2MvlTJG+5T6MD6HmuV8RaE1n48l1a90O51rTryFVYWqbnhdQB93Izwv6103guC1SG7nstAn0dJJAuLldrygDrt7Dk06kaapXjvZf1v+g6dSq6tnsdTRRRXAeiFFFFMAooooAKKKKACiiigAooooAKKKKACiiigAooooAKKKKACiiigAooooAKKKKACiiigAooooAKKKKACiiigAooooAKKKKACiiigAooooAKKKKACiiigAooooAKKKKACiiigAooooAKKKKACiiigAooooAKKKKACiiigAooooAbIdsZPoM1wWgeL/EWv32620m3WwhuDFcTtIckBuSo9QK7yYZhcD0Ncn4C0+4s/DVzBewSQSPdTMFdcEgscH6VvT5eRtnJWUnUikZTePdYvbe91HRrCybT7RmXE8+2SXb1IHas/xf4i1LVdN8PaloyIlrdTIyb5CrGTkFDjtx1qjp+hRaDHdWGveEr/AFJ0lYw3FpH5iSoTxnkYre8TaVcHwZo0ukaNJELG4S4NhGNzouSSMDqea7kqUJxsv6+84pe1nTlqa2oeJNW0m10ZNQtbZbq/vBbyqjErGpzgj1OMVb1LxDPZeMtI0eOFGiv1kLuSdy7VLcflWF4q/tDXfD+k6vp+l3Qnsb5ZzZzJtkZVyOgz7fgarQz61r/xH0XUZdCu7HT7ZZV8ydMNkxsMsOwyQBXPGnGS5nbr95tKrNPlV+nToWbLxf4k1fxBeWGlaRbvBZXRjmneTA2bscD+9jJpP+E08SX+s6pp+iaPbzHT52RpZJSoABOBjuxxWj4H067sdR8RNd28kKz37PEXQrvXnkeopng/Truz8S+KJrq2lijuL3fC7oQJBzyPUU5OmnKyWiRS9q1HV6tmt4U8QHxJoSXzwfZ5d7Ryx5yFZTg4Nblcj8PLO7sPD9xFfW8lvI15KwWVSpILcHmutJ4OePeuaqkptI6qTbppy3OIufFutXniO/07QLOzb7AQHW6mKvMSM/KPT35q74j8W3WmXllpem2kU2p3aeYVmk2xxL3JPfkH8q5rxrE2o3d1HbeFdTTWI5Ntpf24xG4zwzOD09iDj1p3ifw/ff2vous3+lyavHDaC3vYIeX3c/MB35Y/lXXGFNtNr+repwzqVVdRfzN3RPGckt1qVlrsMNtdWEP2h2t33xvH3I/z3rIm8eeJF0OTX00SD+ycHy/3p3gdAxHpmrGkaXYana6tDpnhu60cz2bQLc3cexn3D7uMngYBrn73VNZtPhnNoFx4dvIZIIjFPcyLiEID94HuaqMKcpaLqiXUqxhq+j1sdivi65N14Zj+zxgaxbiWTk/uyVBwPzq7L4klj8fx6D5EfktY/aTMSdwO4jH04rlLu01CPR/BetafYS3yWNpGJoYBl9rRryB36VPpa6vq/wATBqt9o9zp9qbBoYzKvOMn73YNknj0xWXsoNX8n95oq1S9vT8iabxzq96b660KysmsrN2X/SZysk20c7QOnTirGpfEGSPw/o2p6bY+e2oS+W0BPzBumAfrXM2WgQ6JcXtnrnhK/wBV/fM8F1Zx7w6n15GDW1qWkzyWfhUabo01nFDfLJJbKu4wLu6sR09a1lGjdJL+vvM4TrtPU0dO8V6zF4nttJ8R6bBafbY2kgeCQtgjqp9TUb+LNd1PV7628M6ZBPBp7iOWW4lK727qv+NTeIdPvLj4heHLmG3lkt4FmEsqoSqZ24ye1Y9hcat4I1bV7eTRLzUbe8uTc201om4EkY2t6dBWajTcbpa22KcqqlZt2vua+p+Mb+2m0/TbbT4hq11CZZI7iXbHABnOT36UzTvHFx/xNLbWbONLzT4fPP2Z9ySrjOQe1Y/iTSr271nTPEWo6FNewNbGO6sYDukhJ6EY6/8A6+laOh/Y4Y9SvNJ8H3lqUhxtuk2NceqAHPam4U4wTtdj56rm1fT/AIBb8LeItf1x4LuaysRptwhbdDOWki9AwNSy+Nb6OZ0Xwpq7hWIDBFw3v96ub0Oxnk8b2Vz4f0TUtEtNrG/W5TZG/HAUZ/zxxXSS+BpZJmf/AISbW1DMTtW5GB7D5amapRnrsVTdacLoh17UpNT8OW1zc2M9kDcgNDcABsD6VpaPLoTXg/syNRcBT91McVV1XQ57TQra0hnvNSZbkMZJyHcD3IA4ro/syRRObeNUk2kAgd68GUG8XOaWit/SPbhO2HjGT11/pmBda3q1rG9xNb20cKH/AFZky+Kbqcq3HiHRpV6OrN+maxZrG6NnNFPpl1NfSOS0xyVxntW3cWVydQ0V1hfEKMHO04X5eh9K85VK0+aLvbT8zt5acEpK19fyJbTWtQ1C6f7JbweRHLsZWfD4zjNOv9cnTUzY6csJeNd0jStgL7Vj3cM1zfRSWelXFpeeZ88gyEIz1z/9ap9Q01rXXZLm5sJNQgnAz5S5KEcdK09rXUGrvffy+4Xs6PNd222/pm5omsPqUcyzxrHNbvtcKcj6itasXQIolWdodNexDMBhxgvjv+tbVeth3N0lzu7POrKKqPl2CiiiugyCiiigAooooAKKKKACiiigAooooAKKKKACiiigAooooAKKKKACiiigAooooAKKKKACiiigAooooAKKKKACiiigAooooAKKKKACiiigAooooAKKKKACiiigAooooAKKKKACiiigAooooAKKKKACiiigAooooAKKKKACiiigAooooAKKKKACiiigAooooAKKKKACiiigAooooAKKKKACiiigAooooAKKKKACiiigAooooAKKKKACiiigAooooAKKKKACiiigAooooAKKKKACiiigAooooAKKKKACk2ilooAMUUUUAJijFLRQAmKCKWigDlrvwfNd3ks39u6nEJGLbI5gFX2HFWtH8MNpN59obVr67+UqUnk3L9elb9FaOpN6GCoU072E2j0pNop1JWZuGKy59AtrjxNba27P9otoWhRQflIOf8a1aKabWxLinuJtBoIFLRSKE2igKBS0UbgGKTaKWigBMCjFLRQAmKMUtFACYo2g0tFIBAKMClopisJtFGKWiluMKKKKYBRRRQAUUUUAFFFFABRRRQAUUUUAFFFFABRRRQAUUUUAFFFFABRRRQAUUUUAFFFFABRRRQAUUUUAFFFFABRRRQAUUUUAFFFFABRRRQAUUUUAFFFFABRRRQAUUUUAFFFFABRRRQAUUUUAFFFFABRRRQAUUUUAFFFFABRRRQAUUUUAFJiloNAhMD0oxRS0AJjBpaO1AoGFGKKKAMjW9EbWY40W/urLZnm3fbuzjr+VY48DSr18R6sf+2w/wrr8UYrSNSUVZGTpQk7sjgTy4I0LFyqgFm6n3qTrQKKzNRMCqWr6ZDq+k3NhclhFcIUYp1FXqKabWqE0mrFTTrGPTtLtrKEsY7aFYkLdSFAAz+VWdop3Sii4JJIbgUuKWikAhFGKWigY3aM0u2looAaFAPFOoooATGaWiilYApMUtFMBuwZo2inUZpWQhMUtJS0xhRRRQAUUUUAFFFFABRRRQAUUUUAFFFFABRRRQAUUUUAFFFFABRRRQAUUUUAFFFFABRRRQAUUUUAFFFFABRRRQAUUUUAFFFFABRRRQAUUUUAFFFFABRRRQAUUUUAFFFFABRRRQAUUUUAFFFFABRRRQAUUUUAFFFFABRRRQAUUUUAFFFFABRRRQAUUUUAFFFFABRRRQAUUUUAFFFFABRRRQAUUUUAFFFFABRRRQAUUUUAFFFFABRRRQAUUUUAFFFFABRRRQAUUUUAFFFFABRRRQAUUUUAFFFFABRRRQAUUUUAFFFFABRRRQAUUUUAFFFFABRRRQAUUUUAFFFFABRRRQAUUUUAFFFFABRRRQAUUUUAFFFFABRRRQAUUUUAFFFFABRRRQAUUUUAFFFFABRRRQAUUUUAFFFFABRRRQAUUUUAFFFFABRRRQAUUUUAFFFFABRRRQAUUUUAFFFFABRRRQAUUUUAFFFFABRRRQAUUUUAFFFFABRRRQAUUUUAFFFFABRRRQAUUUUAFFFFABRRRQAUUUUAFFFFABRRRQAUUUUAFFFFABRRRQAUUUUAFFFFABRRRQAUUUUAFFFFABRRRQAUUUUAFFFFABRRRQAUUUUAFFFFABRRRQAUUUUAFFFFABRRRQAUUUUAFFFFABRRRQAUUUUAFFFFABRRRQAUUUUAFFFFABRRRQAUUUUAFFFFABRRRQAUUUUAFFFFABRRRQAUUVT1bVrLQ9Ln1LVbhba0t13SytnCj8KALlFU9I1ex13SoNS0q4W5tLhd0Uq9GFXKACiiigAooooAKKKKACiiigAooooAKKKKACiiigAooooAKKKKACiiigAooooAKKKKACiiigAooooAKKKKACiiigAooooAKKKKACiiigAooooAKKKKACiiigAooooAKKKKACiiigAooooAKKKKACiiigAooooAKKKKACiiigAooooAKKKKACiiigAooooAKKKKACiiigAooooAKKKKACiiigAooooAKKKKACiiigAooooAKKKKACiiigAooooAKKKKACiiigAooooAKKKKACiiigAooooAK5fxX8SPCngqQQ+ItYhtrhl3rbqC8hHrtUEge5rqK8o8fX3wr8MeLm1bxhZw3ut3USgQtEbhgq8A+WflH1xmgDp/CnxU8H+NL42Wgaukt2FLC3lRonYeqhgN3HPGa7CvkrXvEPhy/+MnhLVPBGlz6Q32hFuAbb7OknzDBCjg5DEH8K+tRQAUUUUAFFFFABRRRQAUUUUAFFFFABRRRQAUUUUAFFFFABRRRQAUUUUAFFFFABRRRQAUUUUAFFFFABRRRQAUUUUAFFFFABRRRQAUUUUAFFFFABRRRQAUUUUAFFFFABRRRQAUUUUAFFFFABRRRQAUUUUAFFFFABRRRQAUUUUAFFFFABRRRQAUUUUAFFFFABRRRQAUUUUAFFFFABRRRQAUUUUAFFFFABRRRQAUUUUAFFFFABRRRQAUUUUAFFFFABRRRQAUUUUAFFFFABRRRQAUUUUAFFFFABRRRQAUUUUAFFFFABRRRQAUUUUAFFFFABRRRQAUUUUAFFFFABXCfGv8A5I54h/69j/MV3dcJ8a/+SOeIf+vY/wAxQBxvw6+KXhHwZ8J/Dtnr+sRQ3TW27yI1aR1G44JCg7fx69q9W8OeKtE8W6b9v8O6jDfW27azx5BU+hBwQfqK8o+B3ww8Ky/Dez1XU9KttSvNSjLyvdxCQIuSAqg9PqOaw/hhZL4M/aU17w1phKaZPbu6Q5ztxtK/luYUAfRVFFFABRRRQAUUUUAFFFFABRRRQAUUUUAFFFFABRRRQAUUUUAFFFFABRRRQAUUUUAFFFFABRRRQAUUUUAFFFFABRRRQAUUUUAFFFFABRRRQAUUUUAFFFFABRRRQAUUUUAFFFFABRRRQAUUUUAFFFFABRRRQAUUUUAFFFFABRRRQAUUUUAFFFFABRRRQAUUUUAFFFFABRRRQAUUUUAFFFFABRRRQAUUUUAFFFFABRRRQAUUUUAFFFFABRRRQAUUUUAFFFFABRRRQAUUUUAFFFFABRRRQAHpXzb4jkufAX7RGo+KPEmg3Wq6XeIDazww+Z5fyKBgHjIwR29a+kqY8ayLh1DD0IzQB8ueLvEWsfEL4ieEdVtvC95pmjW175VrJNCRJKSyFy2OABxj8efT1v4s/EPxB4FbR08O6Kmpm9kZZmkR2CBdvAC9Ccnk+lelBQqgAAAdPajaD1AoAbC7SQRu6FGZQSp/hOOlPoooAKKKKACiiigAooooAKKKKACiiigAooooAKKKKACiiigAooooAKKKKACiiigAooooAKKKKACiiigAooooAKKKKACiiigAooooAKKKKACiiigAooooAKKKKACiiigAooooAKKKKACiiigAooooAKKKKACiiigAooooAKKKKACiiigAooooAKKKKACiiigAooooAKKKKACiiigAooooAKKKKACiiigAooooAKKKKACiiigAooooAKKKKACiiigAooooAKKKKACiiigAooooAKKKKACiiigAooooAKKKKACiiigAooooAKKKKACiiigAooooAKKKKACuH+MsEtz8Idfit4nlka2IVEUknkdAK7iigD5p+HvxX1v4ceEbXRvFnhTUJ4PIEmmzWsWN6NyFfPHBPXr7V0HwW0DXtd+IWtfEbxLZPY/bkaK0hkBBwSM8HnACgZ75Ne6NGjgB0VgOgIzTqAPM9O+I3iC7+Nt54Ql0JY9IgQlb3Y+4nYGzu+7jJxjH416ZSbRuyBzjGaWgAooooAKKKKACiiigAooooAKKKKACiiigAooooAKKKKACiiigAooooAKKKKACiiigAooooAKKKKACiiigAooooAKKKKACiiigAooooAKKKKACiiigAooooAKKKKACiiigAooooAKKKKACiiigAooooAKKKKACiiigAooooAKKKKACiiigAooooAKKKKACiiigAooooAKKKKACiiigAooooAKKKKACiiigAooooAKKKKACiiigAooooAKKKKACiiigAooooAKKKKACiiigAooooAKKKKACiiigAooooAKKKKACiiigAooooAKKKKACiiigAooooAKKKKACiiigAooooAKKKKACiiigAooooAKKKKACiiigAooooAKKKKACiiigAooooAKKKKACiiigAooooAKKKKACiiigAooooAKKKKACiiigAooooAKKKKACiiigAooooAKKKKACiiigAooooAKKKKACiiigAooooAKKKKACiiigAooooAKKKKACiiigAooooAKKKKACiiigAooooAKKKKACiiigAooooAKKKKACiiigAooooAKKKKACiiigAooooAKKKKACiiigAooooAKKKKACiiigAooooAKKKKACiiigAooooAKKKKACiiigAooooAKKKKACiiigAooooAKKKKACiiigAooooAKKKKACiiigAooooAKKKKACiiigAooooAKKKKACiiigAooooAKKKKACiiigAooooAKKKKACiiigAooooAKKKKACiiigAooooAKKKKACiiigAooooAKKKKACiiigAooooAKKKKACiiigD//Z)"
      ],
      "metadata": {
        "id": "qEQKmQcrZlYl"
      }
    },
    {
      "cell_type": "code",
      "metadata": {
        "id": "qrU_UcVKn2q6"
      },
      "source": [],
      "execution_count": null,
      "outputs": []
    },
    {
      "cell_type": "code",
      "metadata": {
        "id": "7VR7OmJFn4MP"
      },
      "source": [],
      "execution_count": null,
      "outputs": []
    }
  ]
}