{
  "nbformat": 4,
  "nbformat_minor": 0,
  "metadata": {
    "colab": {
      "provenance": [],
      "collapsed_sections": []
    },
    "kernelspec": {
      "name": "python3",
      "display_name": "Python 3"
    },
    "language_info": {
      "name": "python"
    },
    "accelerator": "GPU",
    "gpuClass": "standard"
  },
  "cells": [
    {
      "cell_type": "markdown",
      "metadata": {
        "id": "plt1FdUufAbX"
      },
      "source": [
        "##Multi-Layer Perceptron\n",
        "In this project, you will practice what we have been working with all first course. You will implement a multi-layer perceptron for a classification task. This model (MLP) will learn to classify  the content of an image (object in an image), our images are taken from the MNIST dataset. The MNIST database has images of handwritten digits, has a training set of 60,000 examples, and a test set of 10,000 examples. It is a subset of a larger set available from NIST. The digits have been size-normalized and centered in a fixed-size image. \n",
        "\n",
        "To build MPL neural network, you will use MLPClassifier in sklearn library."
      ]
    },
    {
      "cell_type": "markdown",
      "metadata": {
        "id": "a69JCvp9hwyH"
      },
      "source": [
        "## Steps\n",
        "\n",
        "\n",
        "### 1) First, Imports \n",
        "let’s import all the packages  will be needing:"
      ]
    },
    {
      "cell_type": "code",
      "metadata": {
        "id": "04tZH3ZH-6Qz"
      },
      "source": [
        "from scipy.stats import mode\n",
        "import numpy as np\n",
        "from time import time\n",
        "import pandas as pd\n",
        "import os\n",
        "import matplotlib.pyplot as plt\n",
        "import matplotlib\n",
        "%matplotlib inline\n",
        "\n",
        "import random\n",
        "matplot.rcdefaults()\n",
        "from time import time\n",
        "from IPython.display import display, HTML\n",
        "from itertools import chain\n",
        "from sklearn.metrics import confusion_matrix\n",
        "\n",
        "import seaborn as sb\n",
        "from sklearn.model_selection import ParameterGrid\n",
        "from sklearn.neural_network import MLPClassifier\n",
        "import warnings\n",
        "warnings.filterwarnings('ignore')\n"
      ],
      "execution_count": null,
      "outputs": []
    },
    {
      "cell_type": "markdown",
      "metadata": {
        "id": "R4B6Bq8viDwS"
      },
      "source": [
        "### 2) Download the Dataset MNIST from keras datasets repos\n",
        "and load the images into splits train and test"
      ]
    },
    {
      "cell_type": "code",
      "metadata": {
        "id": "WXsR7xtm_SsW"
      },
      "source": [
        "from tensorflow.keras.datasets import mnist\n",
        "(X_train, Y_train), (X_test, Y_test) = mnist.load_data()"
      ],
      "execution_count": null,
      "outputs": []
    },
    {
      "cell_type": "markdown",
      "metadata": {
        "id": "k0nZVoKYhVKK"
      },
      "source": [
        "**Exercise** \n",
        "Check: \n",
        "- the size each train dataset and test dataset\n",
        "- How much percent represent train and test dataset of original dataset ? \n",
        "- size of image"
      ]
    },
    {
      "cell_type": "code",
      "metadata": {
        "id": "Qd2bkq_JhcdK",
        "colab": {
          "base_uri": "https://localhost:8080/"
        },
        "outputId": "3dff0730-f2ee-4673-bfbd-90e225a394bf"
      },
      "source": [
        "X_train.shape"
      ],
      "execution_count": null,
      "outputs": [
        {
          "output_type": "execute_result",
          "data": {
            "text/plain": [
              "(60000, 28, 28)"
            ]
          },
          "metadata": {},
          "execution_count": 14
        }
      ]
    },
    {
      "cell_type": "code",
      "source": [
        "Y_train.shape"
      ],
      "metadata": {
        "colab": {
          "base_uri": "https://localhost:8080/"
        },
        "id": "heTpBUhLceA8",
        "outputId": "5d8d84b3-31d0-4d59-d58d-54a64bc7b137"
      },
      "execution_count": null,
      "outputs": [
        {
          "output_type": "execute_result",
          "data": {
            "text/plain": [
              "(60000,)"
            ]
          },
          "metadata": {},
          "execution_count": 10
        }
      ]
    },
    {
      "cell_type": "code",
      "source": [
        "X_test.shape"
      ],
      "metadata": {
        "colab": {
          "base_uri": "https://localhost:8080/"
        },
        "id": "402wEVvAciEV",
        "outputId": "f05b8299-dd9c-4a75-8f18-7782df188bd8"
      },
      "execution_count": null,
      "outputs": [
        {
          "output_type": "execute_result",
          "data": {
            "text/plain": [
              "(10000, 28, 28)"
            ]
          },
          "metadata": {},
          "execution_count": 11
        }
      ]
    },
    {
      "cell_type": "code",
      "source": [
        "Y_test.shape"
      ],
      "metadata": {
        "colab": {
          "base_uri": "https://localhost:8080/"
        },
        "id": "wTedi0p-clsZ",
        "outputId": "d85d6a1f-fb80-4909-ec0e-894398a6e729"
      },
      "execution_count": null,
      "outputs": [
        {
          "output_type": "execute_result",
          "data": {
            "text/plain": [
              "(10000,)"
            ]
          },
          "metadata": {},
          "execution_count": 12
        }
      ]
    },
    {
      "cell_type": "code",
      "source": [
        "df_balance_percent = (X_train.shape[0] * X_train.shape[1] * X_train.shape[2])/(X_train.shape[0] * X_train.shape[1] * X_train.shape[2] + X_test.shape[0] * X_test.shape[1] * X_test.shape[2])\n",
        "df_balance_percent"
      ],
      "metadata": {
        "colab": {
          "base_uri": "https://localhost:8080/"
        },
        "id": "uhoGLz_zgB71",
        "outputId": "cbf84520-b63b-4274-83f6-9195b915896e"
      },
      "execution_count": null,
      "outputs": [
        {
          "output_type": "execute_result",
          "data": {
            "text/plain": [
              "0.8571428571428571"
            ]
          },
          "metadata": {},
          "execution_count": 26
        }
      ]
    },
    {
      "cell_type": "code",
      "source": [
        "nb_pictures = X_train.shape[0] + X_test.shape[0]\n",
        "nb_pictures"
      ],
      "metadata": {
        "colab": {
          "base_uri": "https://localhost:8080/"
        },
        "id": "iL4igwhhiwZe",
        "outputId": "95299f14-d0b5-4a0a-a158-0cad0ef2e7d1"
      },
      "execution_count": null,
      "outputs": [
        {
          "output_type": "execute_result",
          "data": {
            "text/plain": [
              "70000"
            ]
          },
          "metadata": {},
          "execution_count": 29
        }
      ]
    },
    {
      "cell_type": "markdown",
      "metadata": {
        "id": "6Pw718N7j30V"
      },
      "source": [
        "Now, Since The model is 1D layers, so the data images must be converted from 2D to 1D, so we need to use reshape function \n",
        "\n",
        "\n",
        "**Exercise**  Convert 2D dataset to 1D\n",
        "\n",
        "**Tips**\n",
        "\n",
        "Number of images stays as it is for x_train, and x_test\n",
        "the new 1D shape of 2D image is the reult of multiplication of width and height \n",
        "\n",
        "so if we know the original dimensions by: \n",
        "nsamples, nx, ny = X_train.shape\n",
        "\n",
        "Use X_train.reshape(? ) to find the new dimensions"
      ]
    },
    {
      "cell_type": "code",
      "metadata": {
        "id": "QZVJhfyTBvNq"
      },
      "source": [
        "'''# complete the code\n",
        "nsamples, nx, ny = ?   # for train dataset\n",
        "X_train_ = ?'''\n",
        "nsamples, nx, ny = X_train.shape\n",
        "X_train_ = X_train.reshape((nsamples, nx*ny))\n",
        "\n",
        "'''nsamples, nx, ny = ?  #for train dataset\n",
        "X_test_ = ?'''\n",
        "\n",
        "nsamples, nx, ny = X_test.shape\n",
        "X_test_ = X_test.reshape((nsamples, nx*ny))\n"
      ],
      "execution_count": null,
      "outputs": []
    },
    {
      "cell_type": "code",
      "metadata": {
        "colab": {
          "base_uri": "https://localhost:8080/"
        },
        "id": "fTF-OE-Bk_ac",
        "outputId": "fd9fe818-e53a-45f3-97ab-60cbbadd4a8b"
      },
      "source": [
        "#verify the shape after reshaping to 1D\n",
        "X_train_.shape"
      ],
      "execution_count": null,
      "outputs": [
        {
          "output_type": "execute_result",
          "data": {
            "text/plain": [
              "(60000, 784)"
            ]
          },
          "metadata": {},
          "execution_count": 37
        }
      ]
    },
    {
      "cell_type": "markdown",
      "metadata": {
        "id": "JcwTL1gflmkv"
      },
      "source": [
        "**Exercise** \n",
        "Using the *matplotlib.pyplot* plot some images from x_train, and display their corresponding label from y_train"
      ]
    },
    {
      "cell_type": "code",
      "metadata": {
        "colab": {
          "base_uri": "https://localhost:8080/",
          "height": 649
        },
        "id": "oxFsQUjpMAsk",
        "outputId": "b8033a65-4f6d-4dc2-8362-d6afcf106869"
      },
      "source": [
        "import matplotlib.pyplot as plt\n",
        "\n",
        "plt.gray() \n",
        "\n",
        "for i in range(5):\n",
        "  fig, ax = plt.subplots(figsize=(1,1))\n",
        "  ax.matshow(X_train[i]) \n",
        "  plt.title(\"label = \"+str(Y_train[i]))\n",
        "  ax.axis('off')\n",
        "plt.show()"
      ],
      "execution_count": null,
      "outputs": [
        {
          "output_type": "display_data",
          "data": {
            "text/plain": [
              "<Figure size 640x480 with 0 Axes>"
            ]
          },
          "metadata": {}
        },
        {
          "output_type": "display_data",
          "data": {
            "text/plain": [
              "<Figure size 100x100 with 1 Axes>"
            ],
            "image/png": "[encoded data removed]"
          },
          "metadata": {}
        },
        {
          "output_type": "display_data",
          "data": {
            "text/plain": [
              "<Figure size 100x100 with 1 Axes>"
            ],
            "image/png": "[encoded data removed]"
          },
          "metadata": {}
        },
        {
          "output_type": "display_data",
          "data": {
            "text/plain": [
              "<Figure size 100x100 with 1 Axes>"
            ],
            "image/png": "[encoded data removed]"
          },
          "metadata": {}
        },
        {
          "output_type": "display_data",
          "data": {
            "text/plain": [
              "<Figure size 100x100 with 1 Axes>"
            ],
            "image/png": "[encoded data removed]"
          },
          "metadata": {}
        },
        {
          "output_type": "display_data",
          "data": {
            "text/plain": [
              "<Figure size 100x100 with 1 Axes>"
            ],
            "image/png": "[encoded data removed]"
          },
          "metadata": {}
        }
      ]
    },
    {
      "cell_type": "markdown",
      "metadata": {
        "id": "GPlbIad_mo1w"
      },
      "source": [
        "## Training MLP \n",
        "\n",
        "Using built-in MLPClassifier function, you will train your model. This function has few parameters to be tuned to affect the performance of training. Right now, we will set only parameter of ieteration, and leaving the rest to get the default values."
      ]
    },
    {
      "cell_type": "code",
      "metadata": {
        "colab": {
          "base_uri": "https://localhost:8080/"
        },
        "id": "1c3xu1tmEDwS",
        "outputId": "95d928ba-3599-45b5-a486-d3315f9527e3"
      },
      "source": [
        "mlp = MLPClassifier(verbose=True, max_iter=50)\n",
        "st = time()\n",
        "mlp.fit(X_train_, Y_train)\n",
        "end = time() - st\n",
        "\n",
        "print('elapsed time in seconds', end)\n"
      ],
      "execution_count": null,
      "outputs": [
        {
          "output_type": "stream",
          "name": "stdout",
          "text": [
            "Iteration 1, loss = 3.31637242\n",
            "Iteration 2, loss = 0.77647799\n",
            "Iteration 3, loss = 0.45563393\n",
            "Iteration 4, loss = 0.33746154\n",
            "Iteration 5, loss = 0.27260337\n",
            "Iteration 6, loss = 0.22442895\n",
            "Iteration 7, loss = 0.18783966\n",
            "Iteration 8, loss = 0.16421048\n",
            "Iteration 9, loss = 0.15145756\n",
            "Iteration 10, loss = 0.14014979\n",
            "Iteration 11, loss = 0.12793070\n",
            "Iteration 12, loss = 0.12489182\n",
            "Iteration 13, loss = 0.12308069\n",
            "Iteration 14, loss = 0.11134676\n",
            "Iteration 15, loss = 0.10208319\n",
            "Iteration 16, loss = 0.10849520\n",
            "Iteration 17, loss = 0.10456090\n",
            "Iteration 18, loss = 0.10700660\n",
            "Iteration 19, loss = 0.09169266\n",
            "Iteration 20, loss = 0.08881433\n",
            "Iteration 21, loss = 0.08485334\n",
            "Iteration 22, loss = 0.08025851\n",
            "Iteration 23, loss = 0.07728575\n",
            "Iteration 24, loss = 0.07879231\n",
            "Iteration 25, loss = 0.07470828\n",
            "Iteration 26, loss = 0.07215369\n",
            "Iteration 27, loss = 0.07866115\n",
            "Iteration 28, loss = 0.07708976\n",
            "Iteration 29, loss = 0.06309354\n",
            "Iteration 30, loss = 0.06669450\n",
            "Iteration 31, loss = 0.06268334\n",
            "Iteration 32, loss = 0.06803021\n",
            "Iteration 33, loss = 0.06152345\n",
            "Iteration 34, loss = 0.06119628\n",
            "Iteration 35, loss = 0.05838332\n",
            "Iteration 36, loss = 0.05655005\n",
            "Iteration 37, loss = 0.05854485\n",
            "Iteration 38, loss = 0.06234869\n",
            "Iteration 39, loss = 0.05575925\n",
            "Iteration 40, loss = 0.05418275\n",
            "Iteration 41, loss = 0.04734301\n",
            "Iteration 42, loss = 0.04927028\n",
            "Iteration 43, loss = 0.05236409\n",
            "Iteration 44, loss = 0.04547538\n",
            "Iteration 45, loss = 0.05995388\n",
            "Iteration 46, loss = 0.04827951\n",
            "Iteration 47, loss = 0.06196670\n",
            "Iteration 48, loss = 0.04174299\n",
            "Iteration 49, loss = 0.03667219\n",
            "Iteration 50, loss = 0.04684862\n",
            "elapsed time in seconds 88.95461368560791\n"
          ]
        }
      ]
    },
    {
      "cell_type": "markdown",
      "metadata": {
        "id": "2utNm9EsnoKG"
      },
      "source": [
        "## Evaluation \n",
        "Now, you need to evaluate the accuracy of your model and validate it on test data \n",
        "\n",
        "\n",
        "Use the function *accuracy_score* from *sklearn.metrics*: \n",
        "- to caluculate the accuracy on train dataset\n",
        "- to caluculate the accuracy on test dataset"
      ]
    },
    {
      "cell_type": "code",
      "metadata": {
        "colab": {
          "base_uri": "https://localhost:8080/"
        },
        "id": "Bl-9GO8AI3yP",
        "outputId": "6a48ee27-7c47-4ad6-96e5-e7480852c308"
      },
      "source": [
        "from sklearn.metrics import accuracy_score\n",
        "\n",
        "acc_tr = accuracy_score(Y_train, mlp.predict(X_train_)) # which data ? explain this line\n",
        "acc_ts = accuracy_score(Y_test, mlp.predict(X_test_)) # which data ? explain this line\n",
        "\n",
        "print(\"training accuracy:\", acc_tr)\n",
        "print(\"Test accuracy:\",acc_ts)\n",
        "\n",
        "# explain the results"
      ],
      "execution_count": null,
      "outputs": [
        {
          "output_type": "stream",
          "name": "stdout",
          "text": [
            "training accuracy: 0.98795\n",
            "Test accuracy: 0.9613\n"
          ]
        }
      ]
    },
    {
      "cell_type": "markdown",
      "metadata": {
        "id": "80GhLNEr1zre"
      },
      "source": [
        "There are many other metrics to evaluate the performance of a model, please check *[classification_report](https://scikit-learn.org/stable/modules/generated/sklearn.metrics.classification_report.html)*\n",
        "\n",
        "**Exercise**\n",
        "\n",
        "Could you read and learn more about those different meatrics, and what are the differences between them ? "
      ]
    },
    {
      "cell_type": "code",
      "metadata": {
        "colab": {
          "base_uri": "https://localhost:8080/"
        },
        "id": "j5hCN82C1E4i",
        "outputId": "5f7183ee-939a-4945-e1e9-6abda7ddfc9c"
      },
      "source": [
        "from sklearn.metrics import classification_report\n",
        "print(classification_report(Y_test, mlp.predict(X_test_)))\n"
      ],
      "execution_count": null,
      "outputs": [
        {
          "output_type": "stream",
          "name": "stdout",
          "text": [
            "              precision    recall  f1-score   support\n",
            "\n",
            "           0       0.98      0.99      0.98       980\n",
            "           1       0.99      0.98      0.98      1135\n",
            "           2       0.97      0.96      0.96      1032\n",
            "           3       0.96      0.97      0.97      1010\n",
            "           4       0.97      0.96      0.97       982\n",
            "           5       0.95      0.96      0.96       892\n",
            "           6       0.97      0.98      0.97       958\n",
            "           7       0.96      0.97      0.97      1028\n",
            "           8       0.96      0.94      0.95       974\n",
            "           9       0.96      0.95      0.96      1009\n",
            "\n",
            "    accuracy                           0.97     10000\n",
            "   macro avg       0.97      0.97      0.97     10000\n",
            "weighted avg       0.97      0.97      0.97     10000\n",
            "\n"
          ]
        }
      ]
    },
    {
      "cell_type": "markdown",
      "metadata": {
        "id": "Pjuaw4wm19ay"
      },
      "source": [
        "## Plot the LEARNING CURVE\n",
        "\n",
        "As seen during training, the error (loss) has been decreasing, all values of loss are saved in a structure of the model, called loss_curve_, you can access it as \n",
        "mlp.loss_curve_\n",
        "\n",
        "- Could you plot training loss values as a curve ? "
      ]
    },
    {
      "cell_type": "code",
      "metadata": {
        "id": "-3y5N5Vh0y6z",
        "colab": {
          "base_uri": "https://localhost:8080/",
          "height": 472
        },
        "outputId": "4e3ef675-2bc3-409b-d513-9e29a8403a9f"
      },
      "source": [
        "import matplotlib.pyplot as plt\n",
        "plt.title(\"Evolution of TRAINING ERROR during training\")\n",
        "plt.xlabel(\"Iterations (epochs)\")\n",
        "plt.ylabel(\"TRAINING ERROR\")\n",
        "plt.plot(mlp.loss_curve_)\n",
        "plt.show()\n"
      ],
      "execution_count": null,
      "outputs": [
        {
          "output_type": "display_data",
          "data": {
            "text/plain": [
              "<Figure size 640x480 with 1 Axes>"
            ],
            "image/png": "[encoded data removed]"
          },
          "metadata": {}
        }
      ]
    },
    {
      "cell_type": "markdown",
      "metadata": {
        "id": "x2O3OOuxXFr0"
      },
      "source": [
        "##Benchmark 1\n",
        "\n",
        "\n",
        "To get the best performance of *MLPClassifier*, you have to benchmark the classifier with different combinations of parameters to fall on the optimal combination of parameter values corresponding the best performance\n",
        "\n",
        "Start with two parameters: \n",
        "1.   variation on alpha param: alpha is a learning rate, that you may consider it as a factor to improve learning, we will take it in details in the next course\n",
        "2.   variation on the iterations number\n",
        "\n",
        "**Tips** \n",
        "consider the following values of each parameter\n",
        "\n",
        "alphas = [0.0001,0.001, 0.1, 10]\n",
        "\n",
        "max_iter = [10,100,200]\n",
        "\n"
      ]
    },
    {
      "cell_type": "code",
      "metadata": {
        "colab": {
          "base_uri": "https://localhost:8080/"
        },
        "id": "uM8YkEOvYkd-",
        "outputId": "14b0d4c7-04ad-4105-d8d4-925cde60d511"
      },
      "source": [
        "i = 0\n",
        "alphas = [0.0001,0.001, 0.1, 10]\n",
        "max_iter = [10,100,200]\n",
        "df = pd.DataFrame(columns = ['alpha','max_iter','acc_train','acc_test','train_estim'])\n",
        "# train with all possible alphas and max inter \n",
        "        \n",
        "for a in alphas:\n",
        "    for mi in max_iter:\n",
        "        st = time()\n",
        "        print('alpha = ',a, 'max_iter=',mi)\n",
        "        mlp = MLPClassifier(alpha=a, max_iter=mi)\n",
        "        mlp.fit(X_train_, Y_train)\n",
        "        end = time() - st\n",
        "        \n",
        "        acc_tr = accuracy_score(Y_train, mlp.predict(X_train_)) # Train Accuracy\n",
        "        acc_ts = accuracy_score(Y_test, mlp.predict(X_test_)) # Test Accuracy\n",
        "        df.loc[i] = [a,mi,acc_tr,acc_ts,end]\n",
        "        i=i+1"
      ],
      "execution_count": null,
      "outputs": [
        {
          "output_type": "stream",
          "name": "stdout",
          "text": [
            "alpha =  0.0001 max_iter= 10\n",
            "alpha =  0.0001 max_iter= 100\n",
            "alpha =  0.0001 max_iter= 200\n",
            "alpha =  0.001 max_iter= 10\n",
            "alpha =  0.001 max_iter= 100\n",
            "alpha =  0.001 max_iter= 200\n",
            "alpha =  0.1 max_iter= 10\n",
            "alpha =  0.1 max_iter= 100\n",
            "alpha =  0.1 max_iter= 200\n",
            "alpha =  10 max_iter= 10\n",
            "alpha =  10 max_iter= 100\n",
            "alpha =  10 max_iter= 200\n"
          ]
        }
      ]
    },
    {
      "cell_type": "code",
      "metadata": {
        "colab": {
          "base_uri": "https://localhost:8080/",
          "height": 426
        },
        "id": "z5FEjNn9mRTs",
        "outputId": "6f1e2fba-5be2-4bc7-9db9-74c8024cc985"
      },
      "source": [
        "df.sort_values([\"acc_test\"], ascending=False) # Results\n"
      ],
      "execution_count": null,
      "outputs": [
        {
          "output_type": "execute_result",
          "data": {
            "text/plain": [
              "      alpha  max_iter  acc_train  acc_test  train_estim\n",
              "2    0.0001     200.0   0.994833    0.9661   149.063017\n",
              "1    0.0001     100.0   0.993833    0.9649   153.098377\n",
              "4    0.0010     100.0   0.995483    0.9645   155.639117\n",
              "8    0.1000     200.0   0.987600    0.9639    89.149441\n",
              "11  10.0000     200.0   0.969967    0.9632    51.003253\n",
              "5    0.0010     200.0   0.994233    0.9627   170.869135\n",
              "9   10.0000      10.0   0.967383    0.9598    16.281613\n",
              "10  10.0000     100.0   0.965633    0.9568   124.546376\n",
              "7    0.1000     100.0   0.981883    0.9558   109.151009\n",
              "6    0.1000      10.0   0.967400    0.9480    16.989255\n",
              "0    0.0001      10.0   0.968817    0.9436    17.093143\n",
              "3    0.0010      10.0   0.963917    0.9428    16.591054"
            ],
            "text/html": [
              "\n",
              "  <div id=\"df-cbf97109-2d3f-49c8-97b0-f21a62922a40\">\n",
              "    <div class=\"colab-df-container\">\n",
              "      <div>\n",
              "<style scoped>\n",
              "    .dataframe tbody tr th:only-of-type {\n",
              "        vertical-align: middle;\n",
              "    }\n",
              "\n",
              "    .dataframe tbody tr th {\n",
              "        vertical-align: top;\n",
              "    }\n",
              "\n",
              "    .dataframe thead th {\n",
              "        text-align: right;\n",
              "    }\n",
              "</style>\n",
              "<table border=\"1\" class=\"dataframe\">\n",
              "  <thead>\n",
              "    <tr style=\"text-align: right;\">\n",
              "      <th></th>\n",
              "      <th>alpha</th>\n",
              "      <th>max_iter</th>\n",
              "      <th>acc_train</th>\n",
              "      <th>acc_test</th>\n",
              "      <th>train_estim</th>\n",
              "    </tr>\n",
              "  </thead>\n",
              "  <tbody>\n",
              "    <tr>\n",
              "      <th>2</th>\n",
              "      <td>0.0001</td>\n",
              "      <td>200.0</td>\n",
              "      <td>0.994833</td>\n",
              "      <td>0.9661</td>\n",
              "      <td>149.063017</td>\n",
              "    </tr>\n",
              "    <tr>\n",
              "      <th>1</th>\n",
              "      <td>0.0001</td>\n",
              "      <td>100.0</td>\n",
              "      <td>0.993833</td>\n",
              "      <td>0.9649</td>\n",
              "      <td>153.098377</td>\n",
              "    </tr>\n",
              "    <tr>\n",
              "      <th>4</th>\n",
              "      <td>0.0010</td>\n",
              "      <td>100.0</td>\n",
              "      <td>0.995483</td>\n",
              "      <td>0.9645</td>\n",
              "      <td>155.639117</td>\n",
              "    </tr>\n",
              "    <tr>\n",
              "      <th>8</th>\n",
              "      <td>0.1000</td>\n",
              "      <td>200.0</td>\n",
              "      <td>0.987600</td>\n",
              "      <td>0.9639</td>\n",
              "      <td>89.149441</td>\n",
              "    </tr>\n",
              "    <tr>\n",
              "      <th>11</th>\n",
              "      <td>10.0000</td>\n",
              "      <td>200.0</td>\n",
              "      <td>0.969967</td>\n",
              "      <td>0.9632</td>\n",
              "      <td>51.003253</td>\n",
              "    </tr>\n",
              "    <tr>\n",
              "      <th>5</th>\n",
              "      <td>0.0010</td>\n",
              "      <td>200.0</td>\n",
              "      <td>0.994233</td>\n",
              "      <td>0.9627</td>\n",
              "      <td>170.869135</td>\n",
              "    </tr>\n",
              "    <tr>\n",
              "      <th>9</th>\n",
              "      <td>10.0000</td>\n",
              "      <td>10.0</td>\n",
              "      <td>0.967383</td>\n",
              "      <td>0.9598</td>\n",
              "      <td>16.281613</td>\n",
              "    </tr>\n",
              "    <tr>\n",
              "      <th>10</th>\n",
              "      <td>10.0000</td>\n",
              "      <td>100.0</td>\n",
              "      <td>0.965633</td>\n",
              "      <td>0.9568</td>\n",
              "      <td>124.546376</td>\n",
              "    </tr>\n",
              "    <tr>\n",
              "      <th>7</th>\n",
              "      <td>0.1000</td>\n",
              "      <td>100.0</td>\n",
              "      <td>0.981883</td>\n",
              "      <td>0.9558</td>\n",
              "      <td>109.151009</td>\n",
              "    </tr>\n",
              "    <tr>\n",
              "      <th>6</th>\n",
              "      <td>0.1000</td>\n",
              "      <td>10.0</td>\n",
              "      <td>0.967400</td>\n",
              "      <td>0.9480</td>\n",
              "      <td>16.989255</td>\n",
              "    </tr>\n",
              "    <tr>\n",
              "      <th>0</th>\n",
              "      <td>0.0001</td>\n",
              "      <td>10.0</td>\n",
              "      <td>0.968817</td>\n",
              "      <td>0.9436</td>\n",
              "      <td>17.093143</td>\n",
              "    </tr>\n",
              "    <tr>\n",
              "      <th>3</th>\n",
              "      <td>0.0010</td>\n",
              "      <td>10.0</td>\n",
              "      <td>0.963917</td>\n",
              "      <td>0.9428</td>\n",
              "      <td>16.591054</td>\n",
              "    </tr>\n",
              "  </tbody>\n",
              "</table>\n",
              "</div>\n",
              "      <button class=\"colab-df-convert\" onclick=\"convertToInteractive('df-cbf97109-2d3f-49c8-97b0-f21a62922a40')\"\n",
              "              title=\"Convert this dataframe to an interactive table.\"\n",
              "              style=\"display:none;\">\n",
              "        \n",
              "  <svg xmlns=\"http://www.w3.org/2000/svg\" height=\"24px\"viewBox=\"0 0 24 24\"\n",
              "       width=\"24px\">\n",
              "    <path d=\"M0 0h24v24H0V0z\" fill=\"none\"/>\n",
              "    <path d=\"M18.56 5.44l.94 2.06.94-2.06 2.06-.94-2.06-.94-.94-2.06-.94 2.06-2.06.94zm-11 1L8.5 8.5l.94-2.06 2.06-.94-2.06-.94L8.5 2.5l-.94 2.06-2.06.94zm10 10l.94 2.06.94-2.06 2.06-.94-2.06-.94-.94-2.06-.94 2.06-2.06.94z\"/><path d=\"M17.41 7.96l-1.37-1.37c-.4-.4-.92-.59-1.43-.59-.52 0-1.04.2-1.43.59L10.3 9.45l-7.72 7.72c-.78.78-.78 2.05 0 2.83L4 21.41c.39.39.9.59 1.41.59.51 0 1.02-.2 1.41-.59l7.78-7.78 2.81-2.81c.8-.78.8-2.07 0-2.86zM5.41 20L4 18.59l7.72-7.72 1.47 1.35L5.41 20z\"/>\n",
              "  </svg>\n",
              "      </button>\n",
              "      \n",
              "  <style>\n",
              "    .colab-df-container {\n",
              "      display:flex;\n",
              "      flex-wrap:wrap;\n",
              "      gap: 12px;\n",
              "    }\n",
              "\n",
              "    .colab-df-convert {\n",
              "      background-color: #E8F0FE;\n",
              "      border: none;\n",
              "      border-radius: 50%;\n",
              "      cursor: pointer;\n",
              "      display: none;\n",
              "      fill: #1967D2;\n",
              "      height: 32px;\n",
              "      padding: 0 0 0 0;\n",
              "      width: 32px;\n",
              "    }\n",
              "\n",
              "    .colab-df-convert:hover {\n",
              "      background-color: #E2EBFA;\n",
              "      box-shadow: 0px 1px 2px rgba(60, 64, 67, 0.3), 0px 1px 3px 1px rgba(60, 64, 67, 0.15);\n",
              "      fill: #174EA6;\n",
              "    }\n",
              "\n",
              "    [theme=dark] .colab-df-convert {\n",
              "      background-color: #3B4455;\n",
              "      fill: #D2E3FC;\n",
              "    }\n",
              "\n",
              "    [theme=dark] .colab-df-convert:hover {\n",
              "      background-color: #434B5C;\n",
              "      box-shadow: 0px 1px 3px 1px rgba(0, 0, 0, 0.15);\n",
              "      filter: drop-shadow(0px 1px 2px rgba(0, 0, 0, 0.3));\n",
              "      fill: #FFFFFF;\n",
              "    }\n",
              "  </style>\n",
              "\n",
              "      <script>\n",
              "        const buttonEl =\n",
              "          document.querySelector('#df-cbf97109-2d3f-49c8-97b0-f21a62922a40 button.colab-df-convert');\n",
              "        buttonEl.style.display =\n",
              "          google.colab.kernel.accessAllowed ? 'block' : 'none';\n",
              "\n",
              "        async function convertToInteractive(key) {\n",
              "          const element = document.querySelector('#df-cbf97109-2d3f-49c8-97b0-f21a62922a40');\n",
              "          const dataTable =\n",
              "            await google.colab.kernel.invokeFunction('convertToInteractive',\n",
              "                                                     [key], {});\n",
              "          if (!dataTable) return;\n",
              "\n",
              "          const docLinkHtml = 'Like what you see? Visit the ' +\n",
              "            '<a target=\"_blank\" href=https://colab.research.google.com/notebooks/data_table.ipynb>data table notebook</a>'\n",
              "            + ' to learn more about interactive tables.';\n",
              "          element.innerHTML = '';\n",
              "          dataTable['output_type'] = 'display_data';\n",
              "          await google.colab.output.renderOutput(dataTable, element);\n",
              "          const docLink = document.createElement('div');\n",
              "          docLink.innerHTML = docLinkHtml;\n",
              "          element.appendChild(docLink);\n",
              "        }\n",
              "      </script>\n",
              "    </div>\n",
              "  </div>\n",
              "  "
            ]
          },
          "metadata": {},
          "execution_count": 49
        }
      ]
    },
    {
      "cell_type": "code",
      "metadata": {
        "id": "PEj9tUZRmR7b"
      },
      "source": [],
      "execution_count": null,
      "outputs": []
    },
    {
      "cell_type": "markdown",
      "metadata": {
        "id": "wtRHv1SGnf90"
      },
      "source": [
        "##Benchmark 2\n",
        "\n",
        "After finiding the best max_iterations and best alpha, \n",
        "1.   Use them to do a second benchmark to find the number of nodes in hidden layer which make the performance optimal \n",
        "2.   You can plot a curve of accuracy which is function of number of nodes ==> *acc = f(Nodes_Num)* \n",
        "3.   Please Comment your results.\n"
      ]
    },
    {
      "cell_type": "code",
      "metadata": {
        "colab": {
          "base_uri": "https://localhost:8080/"
        },
        "id": "jF6aF4BTpFGg",
        "outputId": "2b64f757-bdea-4de4-f53c-a96fb45b331a"
      },
      "source": [
        "\n",
        "Nodes_Num = [10,20,50,100,400,1000]\n",
        "acc_tr = [] # to stock all training acc of each training on a new node num\n",
        "acc_ts = [] # to stock all test acc of each test on a new node num\n",
        "timelog = []\n",
        "\n",
        "for nn in Nodes_Num:\n",
        "  st = time()\n",
        "  print('numbers of nodes = ',nn)\n",
        "  mlp = MLPClassifier(alpha=0.001, max_iter=200, hidden_layer_sizes= (nn, ) )\n",
        "  mlp.fit(X_train_, Y_train)\n",
        "  end = time() - st\n",
        "  timelog.append(end)\n",
        "  \n",
        "  acc_train = accuracy_score(Y_train, mlp.predict(X_train_)) # Train Accuracy\n",
        "  acc_tr.append(acc_train)\n",
        "  acc_test = accuracy_score(Y_test, mlp.predict(X_test_)) # Test Accuracy\n",
        "  acc_ts.append(acc_test)\n",
        "  "
      ],
      "execution_count": null,
      "outputs": [
        {
          "output_type": "stream",
          "name": "stdout",
          "text": [
            "numbers of nodes =  10\n",
            "numbers of nodes =  20\n",
            "numbers of nodes =  50\n",
            "numbers of nodes =  100\n",
            "numbers of nodes =  400\n",
            "numbers of nodes =  1000\n"
          ]
        }
      ]
    },
    {
      "cell_type": "code",
      "source": [
        "acc_tr"
      ],
      "metadata": {
        "colab": {
          "base_uri": "https://localhost:8080/"
        },
        "id": "3Un4eCSS3Vnu",
        "outputId": "31932c97-0a4f-4bb7-d9a6-beab58d616bb"
      },
      "execution_count": null,
      "outputs": [
        {
          "output_type": "execute_result",
          "data": {
            "text/plain": [
              "[0.9320833333333334,\n",
              " 0.9617833333333333,\n",
              " 0.9873666666666666,\n",
              " 0.9940333333333333,\n",
              " 0.9980166666666667,\n",
              " 0.9969]"
            ]
          },
          "metadata": {},
          "execution_count": 54
        }
      ]
    },
    {
      "cell_type": "code",
      "source": [
        "acc_ts"
      ],
      "metadata": {
        "colab": {
          "base_uri": "https://localhost:8080/"
        },
        "id": "0o6U6t_k-ls1",
        "outputId": "88b04477-29e5-4516-95bd-25428b079a12"
      },
      "execution_count": null,
      "outputs": [
        {
          "output_type": "execute_result",
          "data": {
            "text/plain": [
              "[0.9175, 0.9376, 0.9483, 0.9671, 0.9782, 0.9779]"
            ]
          },
          "metadata": {},
          "execution_count": 55
        }
      ]
    },
    {
      "cell_type": "code",
      "source": [
        "d = {'Nb of Nodes':Nodes_Num,'Accuracy train':acc_tr,'Accuracy test':acc_ts, 'Runtime':timelog}\n",
        "df_Bench2 = pd.DataFrame(d)\n",
        "df_Bench2.sort_values(by=['Accuracy test'], ascending=False)"
      ],
      "metadata": {
        "colab": {
          "base_uri": "https://localhost:8080/",
          "height": 238
        },
        "id": "pJlswBiyAlYu",
        "outputId": "541b160c-5f68-409a-cdca-c200b3d23abb"
      },
      "execution_count": null,
      "outputs": [
        {
          "output_type": "execute_result",
          "data": {
            "text/plain": [
              "   Nb of Nodes  Accuracy train  Accuracy test     Runtime\n",
              "4          400        0.998017         0.9782  354.373474\n",
              "5         1000        0.996900         0.9779  706.796428\n",
              "3          100        0.994033         0.9671  179.647910\n",
              "2           50        0.987367         0.9483  181.996170\n",
              "1           20        0.961783         0.9376  277.585488\n",
              "0           10        0.932083         0.9175  128.169945"
            ],
            "text/html": [
              "\n",
              "  <div id=\"df-1d544326-3980-4625-ae8b-84aabffe4258\">\n",
              "    <div class=\"colab-df-container\">\n",
              "      <div>\n",
              "<style scoped>\n",
              "    .dataframe tbody tr th:only-of-type {\n",
              "        vertical-align: middle;\n",
              "    }\n",
              "\n",
              "    .dataframe tbody tr th {\n",
              "        vertical-align: top;\n",
              "    }\n",
              "\n",
              "    .dataframe thead th {\n",
              "        text-align: right;\n",
              "    }\n",
              "</style>\n",
              "<table border=\"1\" class=\"dataframe\">\n",
              "  <thead>\n",
              "    <tr style=\"text-align: right;\">\n",
              "      <th></th>\n",
              "      <th>Nb of Nodes</th>\n",
              "      <th>Accuracy train</th>\n",
              "      <th>Accuracy test</th>\n",
              "      <th>Runtime</th>\n",
              "    </tr>\n",
              "  </thead>\n",
              "  <tbody>\n",
              "    <tr>\n",
              "      <th>4</th>\n",
              "      <td>400</td>\n",
              "      <td>0.998017</td>\n",
              "      <td>0.9782</td>\n",
              "      <td>354.373474</td>\n",
              "    </tr>\n",
              "    <tr>\n",
              "      <th>5</th>\n",
              "      <td>1000</td>\n",
              "      <td>0.996900</td>\n",
              "      <td>0.9779</td>\n",
              "      <td>706.796428</td>\n",
              "    </tr>\n",
              "    <tr>\n",
              "      <th>3</th>\n",
              "      <td>100</td>\n",
              "      <td>0.994033</td>\n",
              "      <td>0.9671</td>\n",
              "      <td>179.647910</td>\n",
              "    </tr>\n",
              "    <tr>\n",
              "      <th>2</th>\n",
              "      <td>50</td>\n",
              "      <td>0.987367</td>\n",
              "      <td>0.9483</td>\n",
              "      <td>181.996170</td>\n",
              "    </tr>\n",
              "    <tr>\n",
              "      <th>1</th>\n",
              "      <td>20</td>\n",
              "      <td>0.961783</td>\n",
              "      <td>0.9376</td>\n",
              "      <td>277.585488</td>\n",
              "    </tr>\n",
              "    <tr>\n",
              "      <th>0</th>\n",
              "      <td>10</td>\n",
              "      <td>0.932083</td>\n",
              "      <td>0.9175</td>\n",
              "      <td>128.169945</td>\n",
              "    </tr>\n",
              "  </tbody>\n",
              "</table>\n",
              "</div>\n",
              "      <button class=\"colab-df-convert\" onclick=\"convertToInteractive('df-1d544326-3980-4625-ae8b-84aabffe4258')\"\n",
              "              title=\"Convert this dataframe to an interactive table.\"\n",
              "              style=\"display:none;\">\n",
              "        \n",
              "  <svg xmlns=\"http://www.w3.org/2000/svg\" height=\"24px\"viewBox=\"0 0 24 24\"\n",
              "       width=\"24px\">\n",
              "    <path d=\"M0 0h24v24H0V0z\" fill=\"none\"/>\n",
              "    <path d=\"M18.56 5.44l.94 2.06.94-2.06 2.06-.94-2.06-.94-.94-2.06-.94 2.06-2.06.94zm-11 1L8.5 8.5l.94-2.06 2.06-.94-2.06-.94L8.5 2.5l-.94 2.06-2.06.94zm10 10l.94 2.06.94-2.06 2.06-.94-2.06-.94-.94-2.06-.94 2.06-2.06.94z\"/><path d=\"M17.41 7.96l-1.37-1.37c-.4-.4-.92-.59-1.43-.59-.52 0-1.04.2-1.43.59L10.3 9.45l-7.72 7.72c-.78.78-.78 2.05 0 2.83L4 21.41c.39.39.9.59 1.41.59.51 0 1.02-.2 1.41-.59l7.78-7.78 2.81-2.81c.8-.78.8-2.07 0-2.86zM5.41 20L4 18.59l7.72-7.72 1.47 1.35L5.41 20z\"/>\n",
              "  </svg>\n",
              "      </button>\n",
              "      \n",
              "  <style>\n",
              "    .colab-df-container {\n",
              "      display:flex;\n",
              "      flex-wrap:wrap;\n",
              "      gap: 12px;\n",
              "    }\n",
              "\n",
              "    .colab-df-convert {\n",
              "      background-color: #E8F0FE;\n",
              "      border: none;\n",
              "      border-radius: 50%;\n",
              "      cursor: pointer;\n",
              "      display: none;\n",
              "      fill: #1967D2;\n",
              "      height: 32px;\n",
              "      padding: 0 0 0 0;\n",
              "      width: 32px;\n",
              "    }\n",
              "\n",
              "    .colab-df-convert:hover {\n",
              "      background-color: #E2EBFA;\n",
              "      box-shadow: 0px 1px 2px rgba(60, 64, 67, 0.3), 0px 1px 3px 1px rgba(60, 64, 67, 0.15);\n",
              "      fill: #174EA6;\n",
              "    }\n",
              "\n",
              "    [theme=dark] .colab-df-convert {\n",
              "      background-color: #3B4455;\n",
              "      fill: #D2E3FC;\n",
              "    }\n",
              "\n",
              "    [theme=dark] .colab-df-convert:hover {\n",
              "      background-color: #434B5C;\n",
              "      box-shadow: 0px 1px 3px 1px rgba(0, 0, 0, 0.15);\n",
              "      filter: drop-shadow(0px 1px 2px rgba(0, 0, 0, 0.3));\n",
              "      fill: #FFFFFF;\n",
              "    }\n",
              "  </style>\n",
              "\n",
              "      <script>\n",
              "        const buttonEl =\n",
              "          document.querySelector('#df-1d544326-3980-4625-ae8b-84aabffe4258 button.colab-df-convert');\n",
              "        buttonEl.style.display =\n",
              "          google.colab.kernel.accessAllowed ? 'block' : 'none';\n",
              "\n",
              "        async function convertToInteractive(key) {\n",
              "          const element = document.querySelector('#df-1d544326-3980-4625-ae8b-84aabffe4258');\n",
              "          const dataTable =\n",
              "            await google.colab.kernel.invokeFunction('convertToInteractive',\n",
              "                                                     [key], {});\n",
              "          if (!dataTable) return;\n",
              "\n",
              "          const docLinkHtml = 'Like what you see? Visit the ' +\n",
              "            '<a target=\"_blank\" href=https://colab.research.google.com/notebooks/data_table.ipynb>data table notebook</a>'\n",
              "            + ' to learn more about interactive tables.';\n",
              "          element.innerHTML = '';\n",
              "          dataTable['output_type'] = 'display_data';\n",
              "          await google.colab.output.renderOutput(dataTable, element);\n",
              "          const docLink = document.createElement('div');\n",
              "          docLink.innerHTML = docLinkHtml;\n",
              "          element.appendChild(docLink);\n",
              "        }\n",
              "      </script>\n",
              "    </div>\n",
              "  </div>\n",
              "  "
            ]
          },
          "metadata": {},
          "execution_count": 56
        }
      ]
    },
    {
      "cell_type": "code",
      "metadata": {
        "colab": {
          "base_uri": "https://localhost:8080/",
          "height": 407
        },
        "id": "3REcOIgtrD5h",
        "outputId": "3bbd0159-f067-4bb3-b88f-482195972621"
      },
      "source": [
        "#define your range of x axis \n",
        "# code here your stuff to plot curve of accuracy values  \n",
        "df_Bench2.plot(x = \"Nb of Nodes\", y = ['Accuracy train', \"Accuracy test\"], kind=\"line\", figsize=(7, 4), grid= True)\n",
        "\n",
        "plt.xlabel(\"# of Hidden Layer Nodes\")\n",
        "plt.ylabel(\"Accuracy\")\n",
        "plt.legend(loc ='lower right')\n",
        "plt.title('Accuracy versus Nodes number of Hidden Layer', fontsize=10)\n",
        "plt.show()"
      ],
      "execution_count": null,
      "outputs": [
        {
          "output_type": "display_data",
          "data": {
            "text/plain": [
              "<Figure size 700x400 with 1 Axes>"
            ],
            "image/png": "[encoded data removed]"
          },
          "metadata": {}
        }
      ]
    },
    {
      "cell_type": "code",
      "metadata": {
        "id": "ZrFu5fnl4g10"
      },
      "source": [],
      "execution_count": null,
      "outputs": []
    }
  ]
}