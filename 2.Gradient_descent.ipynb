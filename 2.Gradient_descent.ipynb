{
 "cells": [
  {
   "cell_type": "markdown",
   "metadata": {
    "id": "nXH1gvO_vQk-"
   },
   "source": [
    " # **Logistic Regression and Gradient Descent in Neural Networks**\n",
    "\n",
    " Logistic regression is a simple form of a neural network that classifies data categorically. \n",
    "The goal of a good logistic regression algorithm is to reduce loss or optimize weights by improving the correctness of the output and this is achieved by a function called **Gradient Descent**. As seen in the course, a good way to evaluate the performance of the logistic regression algorithm is by achieving a minimal cost function (loss function) . Cost function quantifies the error between the predicted value and the expected values. Therefore, a logistic regression model must contain all these functions and we will code out these functions in python.\n",
    "\n",
    "Your task is to build a logistic regression classifier to recognize image if it contains a cat or not. This project is your first step toward deep learning \n",
    "\n",
    "\n",
    "\n",
    "**Instructions:**\n",
    "\n",
    "To build your NN, you need to follow the prinicipal steps:\n",
    "\n",
    "- Implement a function for Initializing parameters( weights and bias)\n",
    "- Implement a function for Calculating the loss function and its gradient\n",
    "- Implement a function for the optimization algorithm applying the gradient descent method\n",
    "- Gather all three functions above into a main model function, in the right order."
   ]
  },
  {
   "cell_type": "code",
   "execution_count": null,
   "metadata": {
    "id": "V4Jm3t426PiM"
   },
   "outputs": [],
   "source": []
  },
  {
   "cell_type": "markdown",
   "metadata": {
    "id": "ZPgOKuAg1WrN"
   },
   "source": [
    "First, let’s import all the packages that we will be needing:"
   ]
  },
  {
   "cell_type": "code",
   "execution_count": 1,
   "metadata": {
    "id": "c9tobv6Y1YuF"
   },
   "outputs": [],
   "source": [
    "import numpy as np\n",
    "import matplotlib.pyplot as plt\n",
    "import h5py\n",
    "import scipy\n",
    "from PIL import Image\n",
    "from scipy import ndimage\n",
    "import numpy as np\n",
    "import h5py\n",
    "#from lr_utils import load_dataset\n",
    "%matplotlib inline"
   ]
  },
  {
   "cell_type": "markdown",
   "metadata": {
    "id": "gN4xk-mz1qbc"
   },
   "source": [
    "Second, Download the dataset of images, and put it in data structure\n",
    "Please, get the dataset of training and testing using these commands \n",
    "\n",
    "\n",
    "```\n",
    "!wget -q https://raw.githubusercontent.com/mymehio/test/master/train_catvnoncat.h5\n",
    "!wget -q https://raw.githubusercontent.com/mymehio/test/master/test_catvnoncat.h5\n",
    "```\n",
    "\n",
    "Then, define a function to load them properly into corresponding matrices \n"
   ]
  },
  {
   "cell_type": "code",
   "execution_count": 2,
   "metadata": {
    "id": "9G20VMXe2Hry"
   },
   "outputs": [
    {
     "name": "stdout",
     "output_type": "stream",
     "text": [
      "zsh:1: command not found: wget\n",
      "zsh:1: command not found: wget\n"
     ]
    }
   ],
   "source": [
    "!wget -q https://raw.githubusercontent.com/mymehio/test/master/train_catvnoncat.h5\n",
    "!wget -q https://raw.githubusercontent.com/mymehio/test/master/test_catvnoncat.h5\n",
    "\n",
    "def load_dataset():\n",
    "    train_dataset = h5py.File('train_catvnoncat.h5', \"r\")\n",
    "    train_set_x_orig = np.array(train_dataset[\"train_set_x\"][:]) # your train set of images  \n",
    "    train_set_y_orig = np.array(train_dataset[\"train_set_y\"][:]) # your train set labels\n",
    "\n",
    "    test_dataset = h5py.File('test_catvnoncat.h5', \"r\")\n",
    "    test_set_x_orig = np.array(test_dataset[\"test_set_x\"][:]) # your test of images\n",
    "    test_set_y_orig = np.array(test_dataset[\"test_set_y\"][:]) # your test set labels\n",
    "\n",
    "    classes = np.array(test_dataset[\"list_classes\"][:]) # the list of classes\n",
    "    \n",
    "    train_set_y_orig = train_set_y_orig.reshape((1, train_set_y_orig.shape[0]))\n",
    "    test_set_y_orig = test_set_y_orig.reshape((1, test_set_y_orig.shape[0]))\n",
    "    \n",
    "    return train_set_x_orig, train_set_y_orig, test_set_x_orig, test_set_y_orig, classes"
   ]
  },
  {
   "cell_type": "markdown",
   "metadata": {
    "id": "-Y4vzwGr4djJ"
   },
   "source": [
    "**Description of the Dataset**\n",
    " \n",
    " \n",
    " Dataset files\".h5\"  contain:\n",
    "\n",
    "- a training set of train images labeled as cat (y=1) or non-cat (y=0)\n",
    "- a test set of test images labeled as cat or non-cat\n",
    "- each image is of shape (num_pxas hieght , num_px as width, 3) where 3 is for the 3 channels (RGB). Thus, each image is square \n",
    "\n",
    "\n",
    "\n",
    "Now, Using the function load_dataset, you have to load matrices into variables: "
   ]
  },
  {
   "cell_type": "code",
   "execution_count": null,
   "metadata": {
    "id": "1Mt3lHjx5OIv"
   },
   "outputs": [],
   "source": [
    "train_set_x_orig, train_set_y, test_set_x_orig, test_set_y, classes = load_dataset()"
   ]
  },
  {
   "cell_type": "code",
   "execution_count": null,
   "metadata": {
    "colab": {
     "base_uri": "https://localhost:8080/"
    },
    "executionInfo": {
     "elapsed": 6,
     "status": "ok",
     "timestamp": 1637772687708,
     "user": {
      "displayName": "Franck Tchouanga",
      "photoUrl": "https://lh3.googleusercontent.com/a-/AOh14Ggpa4lyMwfa-KUju1ZYe9_Xu8E5BkJcjuOkeuJtTQ=s64",
      "userId": "08976604899167737531"
     },
     "user_tz": -60
    },
    "id": "wrd1tLEj-dcg",
    "outputId": "aa5914fc-a072-4e2c-9a23-4372674eeb6c"
   },
   "outputs": [
    {
     "data": {
      "text/plain": [
       "(209, 64, 64, 3)"
      ]
     },
     "execution_count": 4,
     "metadata": {},
     "output_type": "execute_result"
    }
   ],
   "source": [
    "train_set_x_orig.shape\n"
   ]
  },
  {
   "cell_type": "markdown",
   "metadata": {
    "id": "ThkMSZSO551Z"
   },
   "source": [
    "**Exercise:** Show an image of your dataset, with its corresponding label"
   ]
  },
  {
   "cell_type": "code",
   "execution_count": null,
   "metadata": {
    "colab": {
     "base_uri": "https://localhost:8080/",
     "height": 285
    },
    "executionInfo": {
     "elapsed": 641,
     "status": "ok",
     "timestamp": 1637772688345,
     "user": {
      "displayName": "Franck Tchouanga",
      "photoUrl": "https://lh3.googleusercontent.com/a-/AOh14Ggpa4lyMwfa-KUju1ZYe9_Xu8E5BkJcjuOkeuJtTQ=s64",
      "userId": "08976604899167737531"
     },
     "user_tz": -60
    },
    "id": "rzKS4yht6CNB",
    "outputId": "dace9635-af76-4596-c812-57a5a2c72d97"
   },
   "outputs": [
    {
     "name": "stdout",
     "output_type": "stream",
     "text": [
      "  y = [1] ==> cat\n"
     ]
    },
    {
     "data": {
      "image/png": "[encoded data removed]",
      "text/plain": [
       "<Figure size 432x288 with 1 Axes>"
      ]
     },
     "metadata": {
      "needs_background": "light"
     },
     "output_type": "display_data"
    }
   ],
   "source": [
    "# Example of a picture\n",
    "index =7  # index of image to be shown \n",
    "# plot here \n",
    "# print the corresponding label"
   ]
  },
  {
   "cell_type": "markdown",
   "metadata": {
    "id": "UGTnyZmLBJeV"
   },
   "source": [
    "**Exercise:**\n",
    "Find the values for these variables:\n",
    "- m_train = ?  (number of training examples)\n",
    "- m_test = ? (number of test examples)\n",
    "- num_px = ? height or  width of an image\n",
    "- Print them"
   ]
  },
  {
   "cell_type": "code",
   "execution_count": null,
   "metadata": {
    "colab": {
     "base_uri": "https://localhost:8080/"
    },
    "executionInfo": {
     "elapsed": 12,
     "status": "ok",
     "timestamp": 1637772688346,
     "user": {
      "displayName": "Franck Tchouanga",
      "photoUrl": "https://lh3.googleusercontent.com/a-/AOh14Ggpa4lyMwfa-KUju1ZYe9_Xu8E5BkJcjuOkeuJtTQ=s64",
      "userId": "08976604899167737531"
     },
     "user_tz": -60
    },
    "id": "mAH6mUn6A_Wf",
    "outputId": "013dd312-9b09-4c55-f3c5-ac6ece12100b"
   },
   "outputs": [
    {
     "name": "stdout",
     "output_type": "stream",
     "text": [
      "train_set_x shape: (209, 64, 64, 3)\n",
      "train_set_y shape: (1, 209)\n",
      "test_set_x shape: (50, 64, 64, 3)\n",
      "test_set_y shape: (1, 50)\n"
     ]
    },
    {
     "data": {
      "text/plain": [
       "64"
      ]
     },
     "execution_count": 6,
     "metadata": {},
     "output_type": "execute_result"
    }
   ],
   "source": []
  },
  {
   "cell_type": "markdown",
   "metadata": {
    "id": "zB_INELHB-K2"
   },
   "source": [
    "###Reshape images,, why ?\n",
    "\n",
    "Remember that images are of shape (num_px, num_px, 3). Because we are going to uses full-connected 1D NN see figure, you have to reshape images into shape (num_px $*$ num_px $*$ 3, 1) which is numpy-array.\n",
    "So that, after this reshaping, you get a dataset of numpy-array where each column represents a flattened image. There should be m_train (respectively m_test) columns.\n",
    "\n",
    "<img src=https://raw.githubusercontent.com/mymehio/test/master/LogReg_kiank.png width=\"550\" height = 350>\n",
    "\n",
    "**Exercise:**\n",
    " Reshape the training and test datasets so that images of size (num_px, num_px, 3) are flattened into single vectors of shape (num_px $*$ num_px $*$ 3, 1).\n",
    "\n",
    "A trick when you want to flatten a matrix X of shape (a,b,c,d) to a matrix X_flatten of shape (b$*$c$*$d, a) is to use:\n",
    "\n",
    "X_flatten = X.reshape(X.shape[0], -1).T      # X.T is the transpose of X"
   ]
  },
  {
   "cell_type": "code",
   "execution_count": null,
   "metadata": {
    "colab": {
     "base_uri": "https://localhost:8080/"
    },
    "executionInfo": {
     "elapsed": 10,
     "status": "ok",
     "timestamp": 1637772688346,
     "user": {
      "displayName": "Franck Tchouanga",
      "photoUrl": "https://lh3.googleusercontent.com/a-/AOh14Ggpa4lyMwfa-KUju1ZYe9_Xu8E5BkJcjuOkeuJtTQ=s64",
      "userId": "08976604899167737531"
     },
     "user_tz": -60
    },
    "id": "SyJrR8I6B9e2",
    "outputId": "50bf68db-e78d-497c-f684-f3254305f626"
   },
   "outputs": [
    {
     "name": "stdout",
     "output_type": "stream",
     "text": [
      "train_set_x_flatten shape: (12288, 209)\n",
      "train_set_y shape: (1, 209)\n",
      "test_set_x_flatten shape: (12288, 50)\n",
      "test_set_y shape: (1, 50)\n",
      "sanity check after reshaping: [17 31 56 22 33]\n"
     ]
    }
   ],
   "source": [
    "\n",
    "train_set_x_flatten = train_set_x_orig.reshape(train_set_x_orig.shape[0],-1).T\n",
    "test_set_x_flatten = test_set_x_orig.reshape(test_set_x_orig.shape[0],-1).T\n",
    "\n",
    "\n",
    "print (\"train_set_x_flatten shape: \" + str(train_set_x_flatten.shape))\n",
    "print (\"train_set_y shape: \" + str(train_set_y.shape))\n",
    "print (\"test_set_x_flatten shape: \" + str(test_set_x_flatten.shape))\n",
    "print (\"test_set_y shape: \" + str(test_set_y.shape))\n",
    "print (\"sanity check after reshaping: \" + str(train_set_x_flatten[0:5,0]))"
   ]
  },
  {
   "cell_type": "markdown",
   "metadata": {
    "id": "BWTDiH4bFSBq"
   },
   "source": [
    "### Dataset Normalization\n",
    "One common preprocessing step in machine learning is to center and standardize your dataset, meaning that you substract the mean of the whole numpy array from each example, and then divide each example by the standard deviation of the whole numpy array. But for picture datasets, it is simpler and more convenient and works almost as well to just divide every row of the dataset by 255 (the maximum value of a pixel channel).\n",
    "\n",
    "Let's standardize our dataset."
   ]
  },
  {
   "cell_type": "code",
   "execution_count": null,
   "metadata": {
    "id": "WcRTB8zT-2U-"
   },
   "outputs": [],
   "source": [
    "train_set_x = train_set_x_flatten / 255.    #why \n",
    "test_set_x = test_set_x_flatten / 255."
   ]
  },
  {
   "cell_type": "markdown",
   "metadata": {
    "id": "ZkMVzAEhGJ07"
   },
   "source": [
    "#**Building the parts of NN Architecture**\n",
    "\n",
    "### **1) Implement the sigmoid Function**\n",
    "First, You will begin by coding the sigmoid function by computing sigmoid( z) = 1/1+exp(-z), Where z = wx+b . Use np.exp()."
   ]
  },
  {
   "cell_type": "code",
   "execution_count": null,
   "metadata": {
    "id": "XnNXN6GnG6Pv"
   },
   "outputs": [],
   "source": [
    "def sigmoid(z):\n",
    "   # your code here\n",
    "    return s"
   ]
  },
  {
   "cell_type": "code",
   "execution_count": null,
   "metadata": {
    "colab": {
     "base_uri": "https://localhost:8080/"
    },
    "executionInfo": {
     "elapsed": 9,
     "status": "ok",
     "timestamp": 1637772688348,
     "user": {
      "displayName": "Franck Tchouanga",
      "photoUrl": "https://lh3.googleusercontent.com/a-/AOh14Ggpa4lyMwfa-KUju1ZYe9_Xu8E5BkJcjuOkeuJtTQ=s64",
      "userId": "08976604899167737531"
     },
     "user_tz": -60
    },
    "id": "iSUvpTRTHKuz",
    "outputId": "2f337e8a-ba48-4cbf-d1cf-cbd26c42c62c"
   },
   "outputs": [
    {
     "name": "stdout",
     "output_type": "stream",
     "text": [
      "sigmoid([1, 2]) = [0.73105858 0.88079708]\n"
     ]
    }
   ],
   "source": [
    "print (\"sigmoid([1, 2]) = \" + str(sigmoid(np.array([1,2]))))"
   ]
  },
  {
   "cell_type": "markdown",
   "metadata": {
    "id": "mXoBFpCuHu3A"
   },
   "source": [
    "### **2) Initialize the model parameters**\n",
    "Now, you will continue by initializing the model parameters. The model parameters are the weights (w) and bias (b) with x as the input feature.\n",
    "\n",
    " w — initialized vector of shape (dim, 1)\n",
    " b — initialized scalar (corresponds to the bias)"
   ]
  },
  {
   "cell_type": "code",
   "execution_count": null,
   "metadata": {
    "id": "BzVK3yCdHPlP"
   },
   "outputs": [],
   "source": [
    "def initialize_with_zeros(dim):\n",
    "     \n",
    "     return w,b"
   ]
  },
  {
   "cell_type": "code",
   "execution_count": null,
   "metadata": {
    "colab": {
     "base_uri": "https://localhost:8080/"
    },
    "executionInfo": {
     "elapsed": 19,
     "status": "ok",
     "timestamp": 1637772688723,
     "user": {
      "displayName": "Franck Tchouanga",
      "photoUrl": "https://lh3.googleusercontent.com/a-/AOh14Ggpa4lyMwfa-KUju1ZYe9_Xu8E5BkJcjuOkeuJtTQ=s64",
      "userId": "08976604899167737531"
     },
     "user_tz": -60
    },
    "id": "duXq9MSOIWFe",
    "outputId": "d439906f-9c3c-49df-dfef-990ae6850a38"
   },
   "outputs": [
    {
     "name": "stdout",
     "output_type": "stream",
     "text": [
      "w = [[0.]\n",
      " [0.]]\n",
      "b = 0\n"
     ]
    }
   ],
   "source": [
    "dim = 2\n",
    "w, b = initialize_with_zeros(dim)\n",
    "print (\"w = \" + str(w))\n",
    "print (\"b = \" + str(b))"
   ]
  },
  {
   "cell_type": "markdown",
   "metadata": {
    "id": "98tELRPiIgEr"
   },
   "source": [
    "### **3) Implement forward and backward propagation for learning the parameters**\n",
    "\n",
    "This step is to implement the function called propagate() that learns the parameters w, b, and find y from x by computing the loss function (forward) and its gradient (backward).\n",
    "\n",
    "**Hints:**\n",
    "\n",
    "###Forward Propagation:\n",
    "\n",
    "- You get X\n",
    "- You compute $A = \\sigma(w^T X + b) = (a^{(1)}, a^{(2)}, ..., a^{(m-1)}, a^{(m)})$\n",
    "- You calculate the cost function: $J = -\\frac{1}{m}\\sum_{i=1}^{m}y^{(i)}\\log(a^{(i)})+(1-y^{(i)})\\log(1-a^{(i)})$\n",
    "\n",
    "Here are the two formulas you will be using:\n",
    "\n",
    "$$ \\frac{\\partial J}{\\partial w} = \\frac{1}{m}X(A-Y)^T$$$$ \\frac{\\partial J}{\\partial b} = \\frac{1}{m} \\sum_{i=1}^m (a^{(i)}-y^{(i)})$$\n",
    "\n",
    "\n",
    "\n",
    "**Tips:**\n",
    "\n",
    "```\n",
    "Arguments:\n",
    "    w -- weights, a numpy array of size (num_px * num_px * 3, 1)\n",
    "    b -- bias, a scalar\n",
    "    X -- data of size (num_px * num_px * 3, number of examples)\n",
    "    Y -- true \"label\" vector (containing 0 if non-cat, 1 if cat) of size (1, number of examples)\n",
    "\n",
    "    Return:\n",
    "    cost -- negative log-likelihood cost for logistic regression\n",
    "    dw -- gradient of the loss with respect to w, thus same shape as w\n",
    "    db -- gradient of the loss with respect to b, thus same shape as b\n",
    "    \n",
    "    - Write your code step by step for the propagation. np.log(), np.dot()\n",
    "    \"\"\"\n",
    "```\n",
    "\n"
   ]
  },
  {
   "cell_type": "code",
   "execution_count": null,
   "metadata": {
    "id": "-AFpwpWcIYEG"
   },
   "outputs": [],
   "source": [
    "def propagate(w, b, X, Y):\n",
    "    \n",
    "    \n",
    "    m = X.shape[1]\n",
    "    \n",
    "    # FORWARD PROPAGATION (FROM X TO COST)\n",
    "    y_hat = sigmoid(np.dot(w.T, X) + b)  # compute activation\n",
    "    cost = -1/m*(np.sum(?*np.log(?) + ? ))   # compute cost\n",
    "   \n",
    "    # BACKWARD PROPAGATION (TO FIND GRAD)\n",
    "    dw = 1/m*(np.dot(?, ((y_hat-Y).T)))\n",
    "    db = 1/m*(np.sum(y_hat-?))\n",
    "  \n",
    "    grads = {\"dw\": dw,\n",
    "             \"db\": db}\n",
    "\n",
    "    return grads, cost"
   ]
  },
  {
   "cell_type": "code",
   "execution_count": null,
   "metadata": {
    "colab": {
     "base_uri": "https://localhost:8080/"
    },
    "executionInfo": {
     "elapsed": 17,
     "status": "ok",
     "timestamp": 1637772688724,
     "user": {
      "displayName": "Franck Tchouanga",
      "photoUrl": "https://lh3.googleusercontent.com/a-/AOh14Ggpa4lyMwfa-KUju1ZYe9_Xu8E5BkJcjuOkeuJtTQ=s64",
      "userId": "08976604899167737531"
     },
     "user_tz": -60
    },
    "id": "NUyBWeGAKqjE",
    "outputId": "2ee19fe8-be3a-41a8-a417-7073df40095a"
   },
   "outputs": [
    {
     "name": "stdout",
     "output_type": "stream",
     "text": [
      "dw = [[0.99845601]\n",
      " [2.39507239]]\n",
      "db = 0.001455578136784208\n",
      "cost = 5.801545319394553\n"
     ]
    }
   ],
   "source": [
    "w, b, X, Y = np.array([[1.],[2.]]), 2., np.array([[1.,2.,-1.],[3.,4.,-3.2]]), np.array([[1,0,1]])\n",
    "grads, cost = propagate(w, b, X, Y)\n",
    "print (\"dw = \" + str(grads[\"dw\"]))\n",
    "print (\"db = \" + str(grads[\"db\"]))\n",
    "print (\"cost = \" + str(cost))"
   ]
  },
  {
   "cell_type": "markdown",
   "metadata": {
    "id": "eoKV6yAxsqU-"
   },
   "source": [
    "### **4) Optimization**\n",
    "\n",
    "- You have initialized your parameters.\n",
    "- You are also able to compute a loss function and its gradient\n",
    "- Now, you want to update repeatly the parameters using gradient descent .\n",
    "\n",
    "\n",
    "**Exercise:** \n",
    "\n",
    "Write down the optimization function. The goal is to learn $w$ and $b$ by minimizing the loss function $J$. \n",
    "\n",
    "For a parameter $\\theta$, the update rule is $ \\theta = \\theta - \\alpha \\text{ } d\\theta$, where $\\alpha$ is the learning rate.\n",
    "\n",
    "\n",
    "Tips: \n",
    "\n",
    "\n",
    "\n",
    "```\n",
    "Arguments:\n",
    "    w -- weights, a numpy array of size (num_px * num_px * 3, 1)\n",
    "    b -- bias, a scalar\n",
    "    X -- data of shape (num_px * num_px * 3, number of examples)\n",
    "    Y -- true \"label\" vector (containing 0 if non-cat, 1 if cat), of shape (1, number of examples)\n",
    "    num_iterations -- number of iterations of the optimization loop\n",
    "    learning_rate -- learning rate of the gradient descent update rule\n",
    "    print_cost -- True to print the loss every 100 steps\n",
    "    \n",
    "    Returns:\n",
    "    params -- dictionary containing the weights w and bias b\n",
    "    grads -- dictionary containing the gradients of the weights and bias with respect to the cost function\n",
    "    costs -- list of all the costs computed during the optimization, this will be used to plot the learning curve.\n",
    "    \n",
    "  \n",
    "    You basically need to write down two steps and iterate through them:\n",
    "        1) Calculate the loss and the gradient for the current parameters. Use propagate().\n",
    "        2) Update the parameters using gradient descent rule for w and b.\n",
    "```\n",
    "\n"
   ]
  },
  {
   "cell_type": "code",
   "execution_count": null,
   "metadata": {
    "id": "wV6LvwKWuDIC"
   },
   "outputs": [],
   "source": [
    "def optimize(w, b, X, Y, num_iterations, learning_rate, print_cost = False):\n",
    "    \n",
    "    losses = []\n",
    "    for i in range(num_iterations):\n",
    "        grads, loss = ?    # which function calculates the loss an grads ? \n",
    "        \n",
    "        # Retrieve derivatives from grads\n",
    "        dw = grads[\"dw\"]\n",
    "        db = grads[\"db\"]\n",
    "        \n",
    "        # update learning rules \n",
    "       \n",
    "        w = ?\n",
    "        b = ?\n",
    "        \n",
    "        # Record the costs\n",
    "        if i % 100 == 0:\n",
    "            losses.append(loss)\n",
    "        \n",
    "        # Print the cost every 100 training iterations\n",
    "        if print_cost and i % 100 == 0:\n",
    "            print (\"loss after iteration %i: %f\" %(i, loss))\n",
    "    \n",
    "    params = {\"w\": w,\n",
    "              \"b\": b}\n",
    "    \n",
    "    grads = {\"dw\": dw,\n",
    "             \"db\": db}\n",
    "    \n",
    "    return params, grads, losses"
   ]
  },
  {
   "cell_type": "code",
   "execution_count": null,
   "metadata": {
    "colab": {
     "base_uri": "https://localhost:8080/"
    },
    "executionInfo": {
     "elapsed": 15,
     "status": "ok",
     "timestamp": 1637772688725,
     "user": {
      "displayName": "Franck Tchouanga",
      "photoUrl": "https://lh3.googleusercontent.com/a-/AOh14Ggpa4lyMwfa-KUju1ZYe9_Xu8E5BkJcjuOkeuJtTQ=s64",
      "userId": "08976604899167737531"
     },
     "user_tz": -60
    },
    "id": "5rZnBzuhv7CF",
    "outputId": "738be33a-b335-450c-9352-243ba01527bc"
   },
   "outputs": [
    {
     "name": "stdout",
     "output_type": "stream",
     "text": [
      "w = [[0.19033591]\n",
      " [0.12259159]]\n",
      "b = 1.9253598300845747\n",
      "dw = [[0.67752042]\n",
      " [1.41625495]]\n",
      "db = 0.21919450454067652\n"
     ]
    }
   ],
   "source": [
    "params, grads, costs = optimize(w, b, X, Y, num_iterations= 100, learning_rate = 0.009, print_cost = False)\n",
    "print (\"w = \" + str(params[\"w\"]))\n",
    "print (\"b = \" + str(params[\"b\"]))\n",
    "print (\"dw = \" + str(grads[\"dw\"]))\n",
    "print (\"db = \" + str(grads[\"db\"]))"
   ]
  },
  {
   "cell_type": "markdown",
   "metadata": {
    "id": "OiCFEcylx0qt"
   },
   "source": [
    "**Exercise:**\n",
    "\n",
    "The previous function will output the learned w and b. \n",
    "\n",
    "Which means that you have already a learned model, and it's able to use w and b to predict the labels for a dataset X as input.  \n",
    "Implement the predict() function. There are two steps to computing predictions:\n",
    "\n",
    "- Calculate $\\hat{Y} = A = \\sigma(w^T X + b)$\n",
    "\n",
    "- Convert the entries of $A$ into 0 (if activation <= 0.5) or 1 (if activation > 0.5), stores the predictions in a vector Y_prediction. If you wish, you can use an if/else statement in a for loop (though there is also a way to vectorize this).\n",
    "\n",
    "**Tips:**\n",
    "\n",
    "\n",
    "```\n",
    "Predict whether the label is 0 or 1 using learned logistic regression parameters (w, b)\n",
    "    \n",
    "    Arguments:\n",
    "    w -- weights, a numpy array of size (num_px * num_px * 3, 1)\n",
    "    b -- bias, a scalar\n",
    "    X -- data of size (num_px * num_px * 3, number of examples)\n",
    "    \n",
    "    Returns:\n",
    "    Y_prediction -- a numpy array (vector) containing all predictions (0/1) for the examples in X\n",
    "```\n",
    "\n"
   ]
  },
  {
   "cell_type": "code",
   "execution_count": null,
   "metadata": {
    "id": "uJIyFUzYwM3M"
   },
   "outputs": [],
   "source": [
    "def predict(w, b, X):\n",
    "    m = X.shape[1] # m becomes the num of entries after reshape\n",
    "    # your code here\n",
    "    \n",
    "    return Y_prediction"
   ]
  },
  {
   "cell_type": "code",
   "execution_count": null,
   "metadata": {
    "colab": {
     "base_uri": "https://localhost:8080/"
    },
    "executionInfo": {
     "elapsed": 14,
     "status": "ok",
     "timestamp": 1637772688726,
     "user": {
      "displayName": "Franck Tchouanga",
      "photoUrl": "https://lh3.googleusercontent.com/a-/AOh14Ggpa4lyMwfa-KUju1ZYe9_Xu8E5BkJcjuOkeuJtTQ=s64",
      "userId": "08976604899167737531"
     },
     "user_tz": -60
    },
    "id": "VSEeGRzVzDEM",
    "outputId": "6f2a77b0-96d7-4d2b-bfbf-72935f0b7f8b"
   },
   "outputs": [
    {
     "name": "stdout",
     "output_type": "stream",
     "text": [
      "predictions = [[1. 1. 0.]]\n"
     ]
    }
   ],
   "source": [
    "w = np.array([[0.1124579],[0.23106775]])\n",
    "b = -0.3\n",
    "X = np.array([[1.,-1.1,-3.2],[1.2,2.,0.1]])\n",
    "print (\"predictions = \" + str(predict(w, b, X)))"
   ]
  },
  {
   "cell_type": "code",
   "execution_count": null,
   "metadata": {
    "colab": {
     "base_uri": "https://localhost:8080/"
    },
    "executionInfo": {
     "elapsed": 13,
     "status": "ok",
     "timestamp": 1637772688726,
     "user": {
      "displayName": "Franck Tchouanga",
      "photoUrl": "https://lh3.googleusercontent.com/a-/AOh14Ggpa4lyMwfa-KUju1ZYe9_Xu8E5BkJcjuOkeuJtTQ=s64",
      "userId": "08976604899167737531"
     },
     "user_tz": -60
    },
    "id": "V-3-PnVzAAPy",
    "outputId": "9c73844f-8d9d-4558-b0ca-637d1fedf9db"
   },
   "outputs": [
    {
     "name": "stdout",
     "output_type": "stream",
     "text": [
      "(2, 1)\n",
      "(2, 3)\n"
     ]
    }
   ],
   "source": [
    "print(w.shape)\n",
    "print(X.shape)"
   ]
  },
  {
   "cell_type": "markdown",
   "metadata": {
    "id": "_GCQBC4_Geng"
   },
   "source": [
    "You have already done: \n",
    "\n",
    "- Initialize (w,b)\n",
    "- Optimize the loss iteratively to learn parameters (w,b):\n",
    "- computing the loss function and its gradient\n",
    "- updating the parameters using gradient descent\n",
    " - Use the learned (w,b) to predict the labels for a given set of examples\n",
    "Now Let's merge all together\n",
    "\n",
    "## **5) Putting it all together to form a model**\n",
    "Now that you have our sigmoid function, loss function, and gradient descent, we will then combine everything into one single model and use this model to predict whether an image is a cat or non-cat\n",
    "\n",
    "\n",
    "**Exercise:** Implement the model function. Use the following notation:\n",
    "\n",
    "- Y_prediction_test for your predictions on the test set\n",
    "- Y_prediction_train for your predictions on the train set\n",
    "- w, costs, grads for the outputs of optimize()\n",
    "\n",
    "**Tips:**\n",
    "\n",
    "```\n",
    "Arguments:\n",
    "    X_train -- training set represented by a numpy array of shape (num_px * num_px * 3, m_train)\n",
    "    Y_train -- training labels represented by a numpy array (vector) of shape (1, m_train)\n",
    "    X_test -- test set represented by a numpy array of shape (num_px * num_px * 3, m_test)\n",
    "    Y_test -- test labels represented by a numpy array (vector) of shape (1, m_test)\n",
    "    num_iterations -- hyperparameter representing the number of iterations to optimize the parameters\n",
    "    learning_rate -- hyperparameter representing the learning rate used in the update rule of optimize()\n",
    "    print_cost -- Set to true to print the cost every 100 iterations\n",
    "    \n",
    "    Returns:\n",
    "    d -- dictionary containing information about the model.\n",
    "```\n",
    "\n"
   ]
  },
  {
   "cell_type": "code",
   "execution_count": null,
   "metadata": {
    "colab": {
     "base_uri": "https://localhost:8080/",
     "height": 129
    },
    "executionInfo": {
     "elapsed": 15,
     "status": "error",
     "timestamp": 1637772688729,
     "user": {
      "displayName": "Franck Tchouanga",
      "photoUrl": "https://lh3.googleusercontent.com/a-/AOh14Ggpa4lyMwfa-KUju1ZYe9_Xu8E5BkJcjuOkeuJtTQ=s64",
      "userId": "08976604899167737531"
     },
     "user_tz": -60
    },
    "id": "JbbA7pVSFrVb",
    "outputId": "69f0ba33-7a38-4a01-f3f4-3abd5fce6dd7"
   },
   "outputs": [
    {
     "ename": "SyntaxError",
     "evalue": "ignored",
     "output_type": "error",
     "traceback": [
      "\u001b[0;36m  File \u001b[0;32m\"<ipython-input-20-f96bf745489d>\"\u001b[0;36m, line \u001b[0;32m3\u001b[0m\n\u001b[0;31m    w, b = ?\u001b[0m\n\u001b[0m           ^\u001b[0m\n\u001b[0;31mSyntaxError\u001b[0m\u001b[0;31m:\u001b[0m invalid syntax\n"
     ]
    }
   ],
   "source": [
    "def model(X_train, Y_train, X_test, Y_test, num_iterations = 2000, learning_rate = 0.5, print_cost = False):\n",
    "    \n",
    "    w, b = ?\n",
    "    #print('shape of weights', w.shape)\n",
    "    # Gradient descent\n",
    "    parameters, grads, costs = ?\n",
    "    \n",
    "    # Retrieve parameters w and b from dictionary \"parameters\"\n",
    "    w = parameters[\"w\"]\n",
    "    b = parameters[\"b\"]\n",
    "    \n",
    "    # Predict test/train set examples\n",
    "    Y_prediction_test = ?\n",
    "    Y_prediction_train = ?\n",
    "\n",
    "    # Print train/test Errors\n",
    "    print(\"train accuracy: {} %\".format(100 - np.mean(?) * 100))\n",
    "    print(\"test accuracy: {} %\".format(100 - np.mean(?) * 100))\n",
    "\n",
    "    \n",
    "    d = {\"costs\": costs,\n",
    "         \"Y_prediction_test\": Y_prediction_test, \n",
    "         \"Y_prediction_train\" : Y_prediction_train, \n",
    "         \"w\" : w, \n",
    "         \"b\" : b,\n",
    "         \"learning_rate\" : learning_rate,\n",
    "         \"num_iterations\": num_iterations}\n",
    "    \n",
    "    return d"
   ]
  },
  {
   "cell_type": "markdown",
   "metadata": {
    "id": "ChHyR59fIrzX"
   },
   "source": [
    "Call the function on the real data (train_set_x, train_set_y, test_set_x, test_set_y) to train your model.\n",
    "itrerations = 2000"
   ]
  },
  {
   "cell_type": "markdown",
   "metadata": {
    "id": "VuSg_pwQdkeE"
   },
   "source": []
  },
  {
   "cell_type": "code",
   "execution_count": null,
   "metadata": {
    "colab": {
     "base_uri": "https://localhost:8080/"
    },
    "executionInfo": {
     "elapsed": 4858,
     "status": "ok",
     "timestamp": 1637156395500,
     "user": {
      "displayName": "Yasser ALMEHIO",
      "photoUrl": "https://lh3.googleusercontent.com/a-/AOh14Gij0wzGqMNjD5sCRLAXEatSpiC6bdV_bpGmoAtxFQ=s64",
      "userId": "17884573495595278135"
     },
     "user_tz": -60
    },
    "id": "QIoXWL7IdlDq",
    "outputId": "d73f2482-5ce4-49a0-aa4a-cf39f8ef711e"
   },
   "outputs": [
    {
     "name": "stdout",
     "output_type": "stream",
     "text": [
      "train accuracy: 99.52153110047847 %\n",
      "test accuracy: 70.0 %\n"
     ]
    }
   ],
   "source": [
    "d = model(train_set_x, train_set_y, test_set_x, test_set_y, num_iterations = 2000, learning_rate = 0.01, print_cost = True)"
   ]
  },
  {
   "cell_type": "markdown",
   "metadata": {
    "id": "0Z1udjZZOGMh"
   },
   "source": [
    "* Try different: learning rate values, number of iterations, and see the results onf test accuracy"
   ]
  },
  {
   "cell_type": "code",
   "execution_count": null,
   "metadata": {
    "id": "gp18nOgGOF2W"
   },
   "outputs": [],
   "source": [
    "train_set_x.shape"
   ]
  },
  {
   "cell_type": "code",
   "execution_count": null,
   "metadata": {
    "id": "3R7TrthaIn9y"
   },
   "outputs": [],
   "source": [
    "index = 9\n",
    "plt.imshow(test_set_x[:,index].reshape((num_px, num_px, 3)))\n",
    "print (\"y = \" + str(test_set_y[0,index]) + \", you predicted that it is a \\\"\" + classes[np.int(?['Y_prediction_test'][0,index])].decode(\"utf-8\") +  \"\\\" picture.\")"
   ]
  },
  {
   "cell_type": "markdown",
   "metadata": {
    "id": "szzaKUsrOXEL"
   },
   "source": [
    "Let's plot the curve of loss function during the training "
   ]
  },
  {
   "cell_type": "code",
   "execution_count": null,
   "metadata": {
    "id": "lkLJVBG9J5bY"
   },
   "outputs": [],
   "source": [
    "# Plot learning curve (with costs)\n",
    "costs = np.squeeze(d['costs'])\n",
    "plt.plot(costs)\n",
    "plt.ylabel('cost/loss')\n",
    "plt.xlabel('iterations (per hundreds)')\n",
    "plt.title(\"Learning rate =\" + str(d[\"learning_rate\"]))\n",
    "plt.show()"
   ]
  },
  {
   "cell_type": "markdown",
   "metadata": {
    "id": "mJcYjJg0SCMi"
   },
   "source": [
    "## **Further Exercises**\n",
    "\n",
    "**Reminder:** In order for Gradient Descent to work, you must choose the learning rate wisely. The learning rate $\\alpha$ determines how rapidly we update the parameters. If the learning rate is too large we may \"overshoot\" the optimal value. Similarly, if it is too small we will need too many iterations to converge to the best values. That's why it is crucial to use a well-tuned learning rate.\n",
    "\n",
    "* Let's compare the learning curve of your model with several choices of learning rates.\n",
    "* Feel free also to try different values than the three we have initialized the learning_rates variable to contain, and see what happens.\n",
    "\n",
    "* Please put your comments and interpretations after seeing the results  "
   ]
  },
  {
   "cell_type": "code",
   "execution_count": null,
   "metadata": {
    "id": "a1Oe2O1bS0zv"
   },
   "outputs": [],
   "source": [
    "learning_rates = [0.01, 0.001, 0.0001]\n",
    "models = {}\n",
    "for i in learning_rates:\n",
    "    #suggest your code "
   ]
  },
  {
   "cell_type": "markdown",
   "metadata": {
    "id": "k_w3tiKUTeca"
   },
   "source": [
    "**Interpretation:**\n",
    "\n",
    "-put your interpretations"
   ]
  },
  {
   "cell_type": "markdown",
   "metadata": {
    "id": "VWcKyQZ0VfW8"
   },
   "source": [
    "## **Test with your own image** \n",
    "1. Add your image to this Notebook's directory, in the \"images\" folder (take or download one)\n",
    "2. choose your image's name in the following code\n",
    "3. Run the code and check if the algorithm is right (1 = cat, 0 = non-cat)"
   ]
  },
  {
   "cell_type": "code",
   "execution_count": null,
   "metadata": {
    "id": "58H_hmMmTVCK"
   },
   "outputs": [],
   "source": [
    "import cv2    #use opencv library to read and resize the image\n",
    "my_image = \"cat.jpg\"   \n",
    "\n",
    "fname =  my_image\n",
    "image = cv2.imread(fname,cv2.IMREAD_UNCHANGED)\n",
    "#normalize and resize your original image\n",
    "your_image = #normalize it\n",
    "your_image =  #resize it\n",
    "#display it\n",
    "\n",
    "my_predicted_image = predict(d[\"w\"], d[\"b\"], your_image)\n",
    "\n"
   ]
  },
  {
   "cell_type": "markdown",
   "metadata": {
    "id": "NZRRFb2AZSn7"
   },
   "source": [
    "**Bibliography:**\n",
    "\n",
    "http://www.wildml.com/2015/09/implementing-a-neural-network-from-scratch/\n"
   ]
  },
  {
   "cell_type": "markdown",
   "metadata": {
    "id": "tgyHvJ489p9-"
   },
   "source": [
    "# Exercise \n",
    "## Build Your Model using Keras library and tensorflow as backend\n",
    "\n",
    "[Keras is an open-source software library](https://keras.io/getting_started/) that provides a Python interface for artificial neural networks. Keras acts as an interface for the TensorFlow library.\n",
    "\n",
    "Up until version 2.3, Keras supported multiple backends, including TensorFlow, Microsoft Cognitive Toolkit, Theano, and PlaidML\n"
   ]
  },
  {
   "cell_type": "code",
   "execution_count": null,
   "metadata": {
    "id": "d-jlRtgD9yfF"
   },
   "outputs": [],
   "source": [
    "from tensorflow.keras import layers\n",
    "from tensorflow.keras import models\n",
    "from tensorflow.keras import optimizers"
   ]
  },
  {
   "cell_type": "markdown",
   "metadata": {
    "id": "oi9zTvYJ93F6"
   },
   "source": [
    "### Load Data from hdf file\n",
    "- \n",
    "\n",
    "1.   Use the same method of above\n",
    "2. List all keys available in the loaded data set \n",
    "\n",
    "```\n",
    "train_dataset = h5py.File('train_catvnoncat.h5', \"r\")\n",
    "list(train_dataset.keys())\n",
    "```\n",
    "3.   Use a a percent of train dataset to validate with during the training, as\n",
    "\n",
    "```\n",
    "\n",
    "from sklearn.model_selection import train_test_split\n",
    "train_dataset = h5py.File('train_catvnoncat.h5', \"r\")\n",
    "train_set_x_orig = ? # your train set of images  \n",
    "train_set_y_orig = ? # your train set labels\n",
    "\n",
    "\n",
    "X_train,X_val,Y_train,Y_val = train_test_split(train_set_x_orig,train_set_y_orig,test_size = 0.1)\n",
    "```  \n",
    "\n",
    "4.   Visualize a histogram of how many images are cat and non-cat, use seaborn library\n",
    "\n",
    "```\n",
    "import seaborn as sns\n",
    "sns.set_style('darkgrid')\n",
    "sns.countplot(list(train_set_y_orig),palette='twilight')\n",
    "```\n",
    "4.  Build the model using keras API \n",
    "\n",
    "```\n",
    "model = models.Sequential()\n",
    "model.add(layers.Flatten(input_shape = ?)) # this layer is to put 3D image into a 1D vector\n",
    "\n",
    "model.add(layers.Dense(?,activation='relu'))# dense layer is full connected layer\n",
    "model.add(layers.Dense(?,activation='sigmoid')) # why sigmoid ?\n",
    "\n",
    "- Please provide your own model architecture ( N layers) and justify your choice.\n",
    "- Please provide your interpretation of sigmoid choice.\n",
    "```\n",
    "5. To train the model, use *compile function* it needs to specify the loss function and an optimizer (to learn more about it in the next sessions). Then Use *fit function*  to start the learning process by the model \n",
    "\n",
    "\n",
    "```\n",
    "model.compile(loss='binary_crossentropy',optimizer='adam',metrics=['accuracy'])\n",
    "\n",
    "model.fit(X_train, Y_train,validation_data = (X_val, Y_val),epochs=100, batch_size=16)\n",
    "\n",
    "adam*: is an advanced version of gradient descent, you can use it as is for now. \n",
    "\n",
    "Why using binary_crossentropy ?\n",
    "```\n",
    "6. Plot Loss and accuracy curves of training and validation dataset \n",
    "\n",
    "\n",
    "```\n",
    "acc = modelk.history.history['accuracy']\n",
    "val_acc = modelk.history.history['val_accuracy']\n",
    "loss = modelk.history.history['loss']\n",
    "val_loss = modelk.history.history['val_loss']\n",
    "epochs = range(1, len(acc) + 1)\n",
    "\n",
    "plt.plot(epochs, acc, 'b', label= 'Training accuracy')\n",
    "plt.plot(epochs, val_acc, 'r', label= 'Validation accuracy')\n",
    "plt.title('Training and Validation accuracy')\n",
    "plt.legend()\n",
    "\n",
    "## then plot the loss curves \n",
    "```\n",
    "\n",
    "\n",
    "\n"
   ]
  },
  {
   "cell_type": "markdown",
   "metadata": {
    "id": "snwZl9wWAlYr"
   },
   "source": [
    "## How tesing your model\n",
    "\n",
    "1. Load your test dataset\n",
    "\n",
    "\n",
    "```\n",
    "file = 'test_catvnoncat.h5'\n",
    "test_dataset = h5py.File(file, 'r')\n",
    "group_key = list(test_dataset.keys())\n",
    "\n",
    "\n",
    "test_set_x_orig = ? # your test of images\n",
    "test_set_y_orig = ? # your test set labels\n",
    "```\n",
    "\n",
    "2. prdict the test data with the trained model\n",
    "\n",
    "\n",
    "```\n",
    "predk = modelk.predict(test_set_x_orig)\n",
    "predictions= []\n",
    "for i in predk:\n",
    "    if i>=0.5:\n",
    "        predictions.append(1)\n",
    "    else:\n",
    "        predictions.append(0)\n",
    "```\n",
    "\n",
    "3. Evaluate the accuracy and the loss using testing dataset\n",
    "\n",
    "\n",
    "```\n",
    "loss, acc = modelk.evaluate(test_set_x_orig, test_set_y_orig,\n",
    "                            batch_size=32)\n",
    "print('Test score:', loss)\n",
    "print('Test accuracy:', acc)\n",
    "```\n",
    "\n",
    "\n",
    "4. Test with your own image\n",
    "```\n",
    "As explained before, follow the same steps please\n",
    "```\n",
    "\n",
    "\n"
   ]
  },
  {
   "cell_type": "markdown",
   "metadata": {
    "id": "9pnEZAcSBlvx"
   },
   "source": [
    "Please, Use your own notebook to implement and complete your work, then please email me the following elements:\n",
    "\n",
    "* a copy pdf of your notebook\n",
    "* share me your notebook via my address mymehio@gmail.com\n",
    "* deadline: 24/11 11:59 PM"
   ]
  }
 ],
 "metadata": {
  "colab": {
   "collapsed_sections": [],
   "provenance": [
    {
     "file_id": "1duaX69OiWvMkE27RvN2NHlP1ywretybW",
     "timestamp": 1637154834241
    }
   ]
  },
  "kernelspec": {
   "display_name": "Python 3 (ipykernel)",
   "language": "python",
   "name": "python3"
  },
  "language_info": {
   "codemirror_mode": {
    "name": "ipython",
    "version": 3
   },
   "file_extension": ".py",
   "mimetype": "text/x-python",
   "name": "python",
   "nbconvert_exporter": "python",
   "pygments_lexer": "ipython3",
   "version": "3.9.7"
  }
 },
 "nbformat": 4,
 "nbformat_minor": 1
}
