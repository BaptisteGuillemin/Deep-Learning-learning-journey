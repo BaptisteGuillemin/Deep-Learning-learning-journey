{
  "cells": [
    {
      "cell_type": "markdown",
      "metadata": {
        "id": "nXH1gvO_vQk-"
      },
      "source": [
        " # **Logistic Regression and Gradient Descent in Neural Networks**\n",
        "\n",
        " Logistic regression is a simple form of a neural network that classifies data categorically. \n",
        "The goal of a good logistic regression algorithm is to reduce loss or optimize weights by improving the correctness of the output and this is achieved by a function called **Gradient Descent**. As seen in the course, a good way to evaluate the performance of the logistic regression algorithm is by achieving a minimal cost function (loss function) . Cost function quantifies the error between the predicted value and the expected values. Therefore, a logistic regression model must contain all these functions and we will code out these functions in python.\n",
        "\n",
        "Your task is to build a logistic regression classifier to recognize image if it contains a cat or not. This project is your first step toward deep learning \n",
        "\n",
        "\n",
        "\n",
        "**Instructions:**\n",
        "\n",
        "To build your NN, you need to follow the prinicipal steps:\n",
        "\n",
        "- Implement a function for Initializing parameters( weights and bias)\n",
        "- Implement a function for Calculating the loss function and its gradient\n",
        "- Implement a function for the optimization algorithm applying the gradient descent method\n",
        "- Gather all three functions above into a main model function, in the right order."
      ]
    },
    {
      "cell_type": "code",
      "execution_count": null,
      "metadata": {
        "id": "V4Jm3t426PiM"
      },
      "outputs": [],
      "source": []
    },
    {
      "cell_type": "markdown",
      "metadata": {
        "id": "ZPgOKuAg1WrN"
      },
      "source": [
        "First, let’s import all the packages that we will be needing:"
      ]
    },
    {
      "cell_type": "code",
      "execution_count": null,
      "metadata": {
        "id": "c9tobv6Y1YuF"
      },
      "outputs": [],
      "source": [
        "import numpy as np\n",
        "import matplotlib.pyplot as plt\n",
        "import h5py\n",
        "import scipy\n",
        "from PIL import Image\n",
        "from scipy import ndimage\n",
        "import numpy as np\n",
        "import h5py\n",
        "#from lr_utils import load_dataset\n",
        "%matplotlib inline"
      ]
    },
    {
      "cell_type": "markdown",
      "metadata": {
        "id": "gN4xk-mz1qbc"
      },
      "source": [
        "Second, Download the dataset of images, and put it in data structure\n",
        "Please, get the dataset of training and testing using these commands \n",
        "\n",
        "\n",
        "```\n",
        "!wget -q https://raw.githubusercontent.com/mymehio/test/master/train_catvnoncat.h5\n",
        "!wget -q https://raw.githubusercontent.com/mymehio/test/master/test_catvnoncat.h5\n",
        "```\n",
        "\n",
        "Then, define a function to load them properly into corresponding matrices \n"
      ]
    },
    {
      "cell_type": "code",
      "execution_count": null,
      "metadata": {
        "id": "9G20VMXe2Hry"
      },
      "outputs": [],
      "source": [
        "!wget -q https://raw.githubusercontent.com/mymehio/test/master/train_catvnoncat.h5\n",
        "!wget -q https://raw.githubusercontent.com/mymehio/test/master/test_catvnoncat.h5\n",
        "\n",
        "def load_dataset():\n",
        "    train_dataset = h5py.File('train_catvnoncat.h5', \"r\")\n",
        "    train_set_x_orig = np.array(train_dataset[\"train_set_x\"][:]) # your train set of images  \n",
        "    train_set_y_orig = np.array(train_dataset[\"train_set_y\"][:]) # your train set labels\n",
        "\n",
        "    test_dataset = h5py.File('test_catvnoncat.h5', \"r\")\n",
        "    test_set_x_orig = np.array(test_dataset[\"test_set_x\"][:]) # your test of images\n",
        "    test_set_y_orig = np.array(test_dataset[\"test_set_y\"][:]) # your test set labels\n",
        "\n",
        "    classes = np.array(test_dataset[\"list_classes\"][:]) # the list of classes\n",
        "    \n",
        "    train_set_y_orig = train_set_y_orig.reshape((1, train_set_y_orig.shape[0]))\n",
        "    test_set_y_orig = test_set_y_orig.reshape((1, test_set_y_orig.shape[0]))\n",
        "    \n",
        "    return train_set_x_orig, train_set_y_orig, test_set_x_orig, test_set_y_orig, classes"
      ]
    },
    {
      "cell_type": "markdown",
      "metadata": {
        "id": "-Y4vzwGr4djJ"
      },
      "source": [
        "**Description of the Dataset**\n",
        " \n",
        " \n",
        " Dataset files\".h5\"  contain:\n",
        "\n",
        "- a training set of train images labeled as cat (y=1) or non-cat (y=0)\n",
        "- a test set of test images labeled as cat or non-cat\n",
        "- each image is of shape (num_pxas hieght , num_px as width, 3) where 3 is for the 3 channels (RGB). Thus, each image is square \n",
        "\n",
        "\n",
        "\n",
        "Now, Using the function load_dataset, you have to load matrices into variables: "
      ]
    },
    {
      "cell_type": "code",
      "execution_count": null,
      "metadata": {
        "id": "1Mt3lHjx5OIv"
      },
      "outputs": [],
      "source": [
        "train_set_x_orig, train_set_y, test_set_x_orig, test_set_y, classes = load_dataset()"
      ]
    },
    {
      "cell_type": "code",
      "execution_count": null,
      "metadata": {
        "colab": {
          "base_uri": "https://localhost:8080/"
        },
        "id": "wrd1tLEj-dcg",
        "outputId": "8f871e74-4b26-48b8-cd82-549de46e37f9"
      },
      "outputs": [
        {
          "output_type": "execute_result",
          "data": {
            "text/plain": [
              "(209, 64, 64, 3)"
            ]
          },
          "metadata": {},
          "execution_count": 4
        }
      ],
      "source": [
        "train_set_x_orig.shape\n"
      ]
    },
    {
      "cell_type": "markdown",
      "metadata": {
        "id": "ThkMSZSO551Z"
      },
      "source": [
        "**Exercise:** Show an image of your dataset, with its corresponding label"
      ]
    },
    {
      "cell_type": "code",
      "execution_count": null,
      "metadata": {
        "colab": {
          "base_uri": "https://localhost:8080/",
          "height": 161
        },
        "id": "rzKS4yht6CNB",
        "outputId": "62103aa5-93e6-4005-ceae-5629f5fdd00e"
      },
      "outputs": [
        {
          "output_type": "display_data",
          "data": {
            "text/plain": [
              "<Figure size 144x144 with 1 Axes>"
            ],
            "image/png": "[encoded data removed]"
          },
          "metadata": {
            "needs_background": "light"
          }
        }
      ],
      "source": [
        "# Example of a picture\n",
        "index =7  # index of image to be shown \n",
        "# plot here \n",
        "# print the corresponding label\n",
        "\n",
        "fig, ax = plt.subplots(figsize=(2,2))\n",
        "ax.matshow(train_set_x_orig[index]) \n",
        "plt.title(\"label = \"+ str(classes[train_set_y.transpose()[index]]))\n",
        "ax.axis('off')\n",
        "plt.show()"
      ]
    },
    {
      "cell_type": "markdown",
      "metadata": {
        "id": "UGTnyZmLBJeV"
      },
      "source": [
        "**Exercise:**\n",
        "Find the values for these variables:\n",
        "- m_train = ?  (number of training examples)\n",
        "- m_test = ? (number of test examples)\n",
        "- num_px = ? height or  width of an image\n",
        "- Print them"
      ]
    },
    {
      "cell_type": "code",
      "execution_count": null,
      "metadata": {
        "colab": {
          "base_uri": "https://localhost:8080/"
        },
        "id": "mAH6mUn6A_Wf",
        "outputId": "67774a37-180b-4ad1-87cb-8625aa15d6bf"
      },
      "outputs": [
        {
          "output_type": "stream",
          "name": "stdout",
          "text": [
            "Number of training examples: m_train = 209\n",
            "Number of testing examples: m_test = 50\n",
            "Height/Width of each image: num_px = 64\n",
            "Each image is of size: (64, 64, 3)\n",
            "train_set_x shape: (209, 64, 64, 3)\n",
            "train_set_y shape: (1, 209)\n",
            "test_set_x shape: (50, 64, 64, 3)\n",
            "test_set_y shape: (1, 50)\n"
          ]
        }
      ],
      "source": [
        "m_train = train_set_x_orig.shape[0] #\n",
        "m_test = test_set_x_orig.shape[0] #\n",
        "num_px = test_set_x_orig[0].shape[0] #\n",
        "\n",
        "\n",
        "print (\"Number of training examples: m_train = \" + str(m_train))\n",
        "print (\"Number of testing examples: m_test = \" + str(m_test))\n",
        "print (\"Height/Width of each image: num_px = \" + str(num_px))\n",
        "print (\"Each image is of size: (\" + str(num_px) + \", \" + str(num_px) + \", 3)\")\n",
        "print (\"train_set_x shape: \" + str(train_set_x_orig.shape))\n",
        "print (\"train_set_y shape: \" + str(train_set_y.shape))\n",
        "print (\"test_set_x shape: \" + str(test_set_x_orig.shape))\n",
        "print (\"test_set_y shape: \" + str(test_set_y.shape))"
      ]
    },
    {
      "cell_type": "markdown",
      "metadata": {
        "id": "zB_INELHB-K2"
      },
      "source": [
        "###Reshape images,, why ?\n",
        "\n",
        "Remember that images are of shape (num_px, num_px, 3). Because we are going to uses full-connected 1D NN see figure, you have to reshape images into shape (num_px $*$ num_px $*$ 3, 1) which is numpy-array.\n",
        "So that, after this reshaping, you get a dataset of numpy-array where each column represents a flattened image. There should be m_train (respectively m_test) columns.\n",
        "\n",
        "<img src=https://raw.githubusercontent.com/mymehio/test/master/LogReg_kiank.png width=\"550\" height = 350>\n",
        "\n",
        "**Exercise:**\n",
        " Reshape the training and test datasets so that images of size (num_px, num_px, 3) are flattened into single vectors of shape (num_px $*$ num_px $*$ 3, 1).\n",
        "\n",
        "A trick when you want to flatten a matrix X of shape (a,b,c,d) to a matrix X_flatten of shape (b$*$c$*$d, a) is to use:\n",
        "\n",
        "X_flatten = X.reshape(X.shape[0], -1).T      # X.T is the transpose of X"
      ]
    },
    {
      "cell_type": "code",
      "execution_count": null,
      "metadata": {
        "colab": {
          "base_uri": "https://localhost:8080/"
        },
        "id": "SyJrR8I6B9e2",
        "outputId": "dba81a57-23d6-45bf-a4da-8b4bbc4f6a34"
      },
      "outputs": [
        {
          "output_type": "stream",
          "name": "stdout",
          "text": [
            "train_set_x_flatten shape: (12288, 209)\n",
            "train_set_y shape: (1, 209)\n",
            "test_set_x_flatten shape: (12288, 50)\n",
            "test_set_y shape: (1, 50)\n",
            "sanity check after reshaping: [17 31 56 22 33]\n"
          ]
        }
      ],
      "source": [
        "\n",
        "train_set_x_flatten = train_set_x_orig.reshape(train_set_x_orig.shape[0],-1).T\n",
        "test_set_x_flatten = test_set_x_orig.reshape(test_set_x_orig.shape[0],-1).T\n",
        "\n",
        "\n",
        "print (\"train_set_x_flatten shape: \" + str(train_set_x_flatten.shape))\n",
        "print (\"train_set_y shape: \" + str(train_set_y.shape))\n",
        "print (\"test_set_x_flatten shape: \" + str(test_set_x_flatten.shape))\n",
        "print (\"test_set_y shape: \" + str(test_set_y.shape))\n",
        "print (\"sanity check after reshaping: \" + str(train_set_x_flatten[0:5,0]))"
      ]
    },
    {
      "cell_type": "markdown",
      "metadata": {
        "id": "BWTDiH4bFSBq"
      },
      "source": [
        "### Dataset Normalization\n",
        "One common preprocessing step in machine learning is to center and standardize your dataset, meaning that you substract the mean of the whole numpy array from each example, and then divide each example by the standard deviation of the whole numpy array. But for picture datasets, it is simpler and more convenient and works almost as well to just divide every row of the dataset by 255 (the maximum value of a pixel channel).\n",
        "\n",
        "Let's standardize our dataset."
      ]
    },
    {
      "cell_type": "code",
      "execution_count": null,
      "metadata": {
        "id": "WcRTB8zT-2U-"
      },
      "outputs": [],
      "source": [
        "train_set_x = train_set_x_flatten / 255.    #why \n",
        "test_set_x = test_set_x_flatten / 255."
      ]
    },
    {
      "cell_type": "markdown",
      "metadata": {
        "id": "ZkMVzAEhGJ07"
      },
      "source": [
        "#**Building the parts of NN Architecture**\n",
        "\n",
        "### **1) Implement the sigmoid Function**\n",
        "First, You will begin by coding the sigmoid function by computing sigmoid( z) = 1/1+exp(-z), Where z = wx+b . Use np.exp()."
      ]
    },
    {
      "cell_type": "code",
      "execution_count": null,
      "metadata": {
        "id": "XnNXN6GnG6Pv"
      },
      "outputs": [],
      "source": [
        "def sigmoid(z):\n",
        "    s= 1/(1+np.exp(-z))\n",
        "    return s"
      ]
    },
    {
      "cell_type": "code",
      "execution_count": null,
      "metadata": {
        "colab": {
          "base_uri": "https://localhost:8080/"
        },
        "id": "iSUvpTRTHKuz",
        "outputId": "bc6e3418-1210-41e3-af97-f0fd42f6401b"
      },
      "outputs": [
        {
          "output_type": "stream",
          "name": "stdout",
          "text": [
            "sigmoid([1, 2]) = [0.73105858 0.88079708]\n"
          ]
        }
      ],
      "source": [
        "print (\"sigmoid([1, 2]) = \" + str(sigmoid(np.array([1,2]))))"
      ]
    },
    {
      "cell_type": "markdown",
      "metadata": {
        "id": "mXoBFpCuHu3A"
      },
      "source": [
        "### **2) Initialize the model parameters**\n",
        "Now, you will continue by initializing the model parameters. The model parameters are the weights (w) and bias (b) with x as the input feature.\n",
        "\n",
        " w — initialized vector of shape (dim, 1)\n",
        " b — initialized scalar (corresponds to the bias)"
      ]
    },
    {
      "cell_type": "code",
      "execution_count": null,
      "metadata": {
        "id": "BzVK3yCdHPlP"
      },
      "outputs": [],
      "source": [
        "def initialize_with_zeros(dim):\n",
        "     w = np.zeros((dim, 1))\n",
        "     b = 0\n",
        "     return w,b"
      ]
    },
    {
      "cell_type": "code",
      "execution_count": null,
      "metadata": {
        "colab": {
          "base_uri": "https://localhost:8080/"
        },
        "id": "duXq9MSOIWFe",
        "outputId": "d6207d73-e44c-4ae6-b421-bab78cc60f2e"
      },
      "outputs": [
        {
          "output_type": "stream",
          "name": "stdout",
          "text": [
            "w = [[0.]\n",
            " [0.]]\n",
            "b = 0\n"
          ]
        }
      ],
      "source": [
        "dim = 2  # if dim=2 so 2 weights et 1 bias\n",
        "w, b = initialize_with_zeros(dim)\n",
        "print (\"w = \" + str(w))\n",
        "print (\"b = \" + str(b))"
      ]
    },
    {
      "cell_type": "markdown",
      "metadata": {
        "id": "98tELRPiIgEr"
      },
      "source": [
        "### **3) Implement forward and backward propagation for learning the parameters**\n",
        "\n",
        "This step is to implement the function called propagate() that learns the parameters w, b, and find y from x by computing the loss function (forward) and its gradient (backward).\n",
        "\n",
        "**Hints:**\n",
        "\n",
        "###Forward Propagation:\n",
        "\n",
        "- You get X\n",
        "- You compute $A = \\sigma(w^T X + b) = (a^{(1)}, a^{(2)}, ..., a^{(m-1)}, a^{(m)})$\n",
        "- You calculate the cost function: $J = -\\frac{1}{m}\\sum_{i=1}^{m}y^{(i)}\\log(a^{(i)})+(1-y^{(i)})\\log(1-a^{(i)})$\n",
        "\n",
        "Here are the two formulas you will be using:\n",
        "\n",
        "$$ \\frac{\\partial J}{\\partial w} = \\frac{1}{m}X(A-Y)^T$$$$ \\frac{\\partial J}{\\partial b} = \\frac{1}{m} \\sum_{i=1}^m (a^{(i)}-y^{(i)})$$\n",
        "\n",
        "\n",
        "\n",
        "**Tips:**\n",
        "\n",
        "```\n",
        "Arguments:\n",
        "    w -- weights, a numpy array of size (num_px * num_px * 3, 1)\n",
        "    b -- bias, a scalar\n",
        "    X -- data of size (num_px * num_px * 3, number of examples)\n",
        "    Y -- true \"label\" vector (containing 0 if non-cat, 1 if cat) of size (1, number of examples)\n",
        "\n",
        "    Return:\n",
        "    cost -- negative log-likelihood cost for logistic regression\n",
        "    dw -- gradient of the loss with respect to w, thus same shape as w\n",
        "    db -- gradient of the loss with respect to b, thus same shape as b\n",
        "    \n",
        "    - Write your code step by step for the propagation. np.log(), np.dot()\n",
        "    \"\"\"\n",
        "```\n",
        "\n"
      ]
    },
    {
      "cell_type": "code",
      "execution_count": null,
      "metadata": {
        "id": "-AFpwpWcIYEG"
      },
      "outputs": [],
      "source": [
        "def propagate(w, b, X, Y):\n",
        "    m = X.shape[1]\n",
        "    \n",
        "    # FORWARD PROPAGATION (FROM X TO COST)\n",
        "    y_hat = sigmoid(np.dot(w.T, X) + b)  # compute activation\n",
        "    cost = -1 / m*(np.sum(Y * np.log(y_hat) + (1-Y) * np.log(1-y_hat) ))   # compute cost\n",
        "   \n",
        "    # BACKWARD PROPAGATION (TO FIND GRAD)  derivative of weights and bias\n",
        "    dw = 1/m*(np.dot(X, ((y_hat-Y).T)))\n",
        "    db = 1/m*(np.sum(y_hat-Y))\n",
        "  \n",
        "    grads = {\"dw\": dw,\n",
        "             \"db\": db}\n",
        "\n",
        "    return grads, cost"
      ]
    },
    {
      "cell_type": "code",
      "execution_count": null,
      "metadata": {
        "colab": {
          "base_uri": "https://localhost:8080/"
        },
        "id": "NUyBWeGAKqjE",
        "outputId": "05da7a81-27ef-45f0-8b7b-c2f5181fb1f4"
      },
      "outputs": [
        {
          "output_type": "stream",
          "name": "stdout",
          "text": [
            "dw = [[0.99845601]\n",
            " [2.39507239]]\n",
            "db = 0.001455578136784208\n",
            "cost = 5.801545319394553\n"
          ]
        }
      ],
      "source": [
        "w, b, X, Y = np.array([[1.],[2.]]), 2., np.array([[1.,2.,-1.],[3.,4.,-3.2]]), np.array([[1,0,1]])\n",
        "grads, cost = propagate(w, b, X, Y)\n",
        "print (\"dw = \" + str(grads[\"dw\"]))\n",
        "print (\"db = \" + str(grads[\"db\"]))\n",
        "print (\"cost = \" + str(cost))"
      ]
    },
    {
      "cell_type": "markdown",
      "metadata": {
        "id": "eoKV6yAxsqU-"
      },
      "source": [
        "### **4) Optimization**\n",
        "\n",
        "- You have initialized your parameters.\n",
        "- You are also able to compute a loss function and its gradient\n",
        "- Now, you want to update repeatly the parameters using gradient descent .\n",
        "\n",
        "\n",
        "**Exercise:** \n",
        "\n",
        "Write down the optimization function. The goal is to learn $w$ and $b$ by minimizing the loss function $J$. \n",
        "\n",
        "For a parameter $\\theta$, the update rule is $ \\theta = \\theta - \\alpha \\text{ } d\\theta$, where $\\alpha$ is the learning rate.\n",
        "\n",
        "\n",
        "Tips: \n",
        "\n",
        "\n",
        "\n",
        "```\n",
        "Arguments:\n",
        "    w -- weights, a numpy array of size (num_px * num_px * 3, 1)\n",
        "    b -- bias, a scalar\n",
        "    X -- data of shape (num_px * num_px * 3, number of examples)\n",
        "    Y -- true \"label\" vector (containing 0 if non-cat, 1 if cat), of shape (1, number of examples)\n",
        "    num_iterations -- number of iterations of the optimization loop\n",
        "    learning_rate -- learning rate of the gradient descent update rule\n",
        "    print_cost -- True to print the loss every 100 steps\n",
        "    \n",
        "    Returns:\n",
        "    params -- dictionary containing the weights w and bias b\n",
        "    grads -- dictionary containing the gradients of the weights and bias with respect to the cost function\n",
        "    costs -- list of all the costs computed during the optimization, this will be used to plot the learning curve.\n",
        "    \n",
        "  \n",
        "    You basically need to write down two steps and iterate through them:\n",
        "        1) Calculate the loss and the gradient for the current parameters. Use propagate().\n",
        "        2) Update the parameters using gradient descent rule for w and b.\n",
        "```\n",
        "\n"
      ]
    },
    {
      "cell_type": "code",
      "execution_count": null,
      "metadata": {
        "id": "wV6LvwKWuDIC"
      },
      "outputs": [],
      "source": [
        "def optimize(w, b, X, Y, num_iterations, learning_rate, print_cost = False):\n",
        "    \n",
        "    losses = []\n",
        "    for i in range(num_iterations):\n",
        "        grads, loss = propagate(w, b, X, Y)    # which function calculates the loss an grads ? \n",
        "        \n",
        "        # Retrieve derivatives from grads\n",
        "        dw = grads[\"dw\"]\n",
        "        db = grads[\"db\"]\n",
        "        \n",
        "        # update learning rules \n",
        "        w = w - learning_rate * dw\n",
        "        b = b - learning_rate * db\n",
        "        \n",
        "        # Record the costs\n",
        "        if i % 100 == 0:\n",
        "            losses.append(loss)\n",
        "        \n",
        "        # Print the cost every 100 training iterations\n",
        "        if print_cost and i % 100 == 0:\n",
        "            print (\"loss after iteration %i: %f\" %(i, loss))\n",
        "    \n",
        "    params = {\"w\": w,\n",
        "              \"b\": b}\n",
        "    \n",
        "    grads = {\"dw\": dw,\n",
        "             \"db\": db}\n",
        "    \n",
        "    return params, grads, losses"
      ]
    },
    {
      "cell_type": "code",
      "execution_count": null,
      "metadata": {
        "colab": {
          "base_uri": "https://localhost:8080/"
        },
        "id": "5rZnBzuhv7CF",
        "outputId": "5f80dabe-0d13-4170-cb30-b0782577f74e"
      },
      "outputs": [
        {
          "output_type": "stream",
          "name": "stdout",
          "text": [
            "w = [[0.19033591]\n",
            " [0.12259159]]\n",
            "b = 1.9253598300845747\n",
            "dw = [[0.67752042]\n",
            " [1.41625495]]\n",
            "db = 0.21919450454067657\n"
          ]
        }
      ],
      "source": [
        "params, grads, costs = optimize(w, b, X, Y, num_iterations= 100, learning_rate = 0.009, print_cost = False)\n",
        "print (\"w = \" + str(params[\"w\"]))\n",
        "print (\"b = \" + str(params[\"b\"]))\n",
        "print (\"dw = \" + str(grads[\"dw\"]))\n",
        "print (\"db = \" + str(grads[\"db\"]))"
      ]
    },
    {
      "cell_type": "markdown",
      "metadata": {
        "id": "OiCFEcylx0qt"
      },
      "source": [
        "**Exercise:**\n",
        "\n",
        "The previous function will output the learned w and b. \n",
        "\n",
        "Which means that you have already a learned model, and it's able to use w and b to predict the labels for a dataset X as input.  \n",
        "Implement the predict() function. There are two steps to computing predictions:\n",
        "\n",
        "- Calculate $\\hat{Y} = A = \\sigma(w^T X + b)$\n",
        "\n",
        "- Convert the entries of $A$ into 0 (if activation <= 0.5) or 1 (if activation > 0.5), stores the predictions in a vector Y_prediction. If you wish, you can use an if/else statement in a for loop (though there is also a way to vectorize this).\n",
        "\n",
        "**Tips:**\n",
        "\n",
        "\n",
        "```\n",
        "Predict whether the label is 0 or 1 using learned logistic regression parameters (w, b)\n",
        "    \n",
        "    Arguments:\n",
        "    w -- weights, a numpy array of size (num_px * num_px * 3, 1)\n",
        "    b -- bias, a scalar\n",
        "    X -- data of size (num_px * num_px * 3, number of examples)\n",
        "    \n",
        "    Returns:\n",
        "    Y_prediction -- a numpy array (vector) containing all predictions (0/1) for the examples in X\n",
        "```\n",
        "\n"
      ]
    },
    {
      "cell_type": "code",
      "execution_count": null,
      "metadata": {
        "id": "uJIyFUzYwM3M"
      },
      "outputs": [],
      "source": [
        "def predict(w, b, X):\n",
        "    m = X.shape[1] # m becomes the num of entries after reshape\n",
        "\n",
        "    Y_prediction = np.zeros((1, m))\n",
        "    w = w.reshape(X.shape[0], 1)\n",
        "    A = sigmoid(np.dot(w.T, X) +b)\n",
        "\n",
        "    for i in range(A.shape[1]):  #A the numbers of image\n",
        "        # Convert probabilities A[0,i] to actual predictions p[0,i]\n",
        "        Y_prediction[0][i] = 1 if A[0][i]>0.5 else 0\n",
        "\n",
        "    return Y_prediction"
      ]
    },
    {
      "cell_type": "code",
      "execution_count": null,
      "metadata": {
        "colab": {
          "base_uri": "https://localhost:8080/"
        },
        "id": "VSEeGRzVzDEM",
        "outputId": "6c11d28e-0f17-46da-b049-489b59def34e"
      },
      "outputs": [
        {
          "output_type": "stream",
          "name": "stdout",
          "text": [
            "predictions = [[1. 1. 0.]]\n"
          ]
        }
      ],
      "source": [
        "w = np.array([[0.1124579],[0.23106775]])\n",
        "b = -0.3\n",
        "X = np.array([[1.,-1.1,-3.2],[1.2,2.,0.1]])\n",
        "print (\"predictions = \" + str(predict(w, b, X)))"
      ]
    },
    {
      "cell_type": "code",
      "execution_count": null,
      "metadata": {
        "colab": {
          "base_uri": "https://localhost:8080/"
        },
        "id": "V-3-PnVzAAPy",
        "outputId": "adff7562-28eb-4aae-f877-c2dd36b0f324"
      },
      "outputs": [
        {
          "output_type": "stream",
          "name": "stdout",
          "text": [
            "(2, 1)\n",
            "(2, 3)\n"
          ]
        }
      ],
      "source": [
        "print(w.shape)\n",
        "print(X.shape)"
      ]
    },
    {
      "cell_type": "markdown",
      "metadata": {
        "id": "_GCQBC4_Geng"
      },
      "source": [
        "You have already done: \n",
        "\n",
        "- Initialize (w,b)\n",
        "- Optimize the loss iteratively to learn parameters (w,b):\n",
        "- computing the loss function and its gradient\n",
        "- updating the parameters using gradient descent\n",
        " - Use the learned (w,b) to predict the labels for a given set of examples\n",
        "Now Let's merge all together\n",
        "\n",
        "## **5) Putting it all together to form a model**\n",
        "Now that you have our sigmoid function, loss function, and gradient descent, we will then combine everything into one single model and use this model to predict whether an image is a cat or non-cat\n",
        "\n",
        "\n",
        "**Exercise:** Implement the model function. Use the following notation:\n",
        "\n",
        "- Y_prediction_test for your predictions on the test set\n",
        "- Y_prediction_train for your predictions on the train set\n",
        "- w, costs, grads for the outputs of optimize()\n",
        "\n",
        "**Tips:**\n",
        "\n",
        "```\n",
        "Arguments:\n",
        "    X_train -- training set represented by a numpy array of shape (num_px * num_px * 3, m_train)\n",
        "    Y_train -- training labels represented by a numpy array (vector) of shape (1, m_train)\n",
        "    X_test -- test set represented by a numpy array of shape (num_px * num_px * 3, m_test)\n",
        "    Y_test -- test labels represented by a numpy array (vector) of shape (1, m_test)\n",
        "    num_iterations -- hyperparameter representing the number of iterations to optimize the parameters\n",
        "    learning_rate -- hyperparameter representing the learning rate used in the update rule of optimize()\n",
        "    print_cost -- Set to true to print the cost every 100 iterations\n",
        "    \n",
        "    Returns:\n",
        "    d -- dictionary containing information about the model.\n",
        "```\n",
        "\n"
      ]
    },
    {
      "cell_type": "code",
      "execution_count": null,
      "metadata": {
        "id": "JbbA7pVSFrVb"
      },
      "outputs": [],
      "source": [
        "def model(X_train, Y_train, X_test, Y_test, num_iterations = 2000, learning_rate = 0.5, print_cost = False):\n",
        "    \n",
        "    w, b = initialize_with_zeros(X_train.shape[0])\n",
        "    #print('shape of weights', w.shape)\n",
        "    # Gradient descent\n",
        "    parameters, grads, costs = optimize(w, b, X_train, Y_train, num_iterations, learning_rate, print_cost)\n",
        "    \n",
        "    # Retrieve parameters w and b from dictionary \"parameters\"\n",
        "    w = parameters[\"w\"]\n",
        "    b = parameters[\"b\"]\n",
        "    \n",
        "    # Predict test/train set examples\n",
        "    Y_prediction_test = predict(w, b, X_test)\n",
        "    Y_prediction_train = predict(w, b, X_train)\n",
        "\n",
        "    # Print train/test Errors\n",
        "    print(\"train accuracy: {} %\".format(100 - np.mean(np.abs(Y_prediction_train - Y_train)) * 100))\n",
        "    print(\"test accuracy: {} %\".format(100 - np.mean(np.abs(Y_prediction_test - Y_test)) * 100))\n",
        "\n",
        "    \n",
        "    d = {\"costs\": costs,\n",
        "         \"Y_prediction_test\": Y_prediction_test, \n",
        "         \"Y_prediction_train\" : Y_prediction_train, \n",
        "         \"w\" : w, \n",
        "         \"b\" : b,\n",
        "         \"learning_rate\" : learning_rate,\n",
        "         \"num_iterations\": num_iterations}\n",
        "    \n",
        "    return d"
      ]
    },
    {
      "cell_type": "markdown",
      "metadata": {
        "id": "ChHyR59fIrzX"
      },
      "source": [
        "Call the function on the real data (train_set_x, train_set_y, test_set_x, test_set_y) to train your model.\n",
        "itrerations = 2000"
      ]
    },
    {
      "cell_type": "markdown",
      "metadata": {
        "id": "VuSg_pwQdkeE"
      },
      "source": []
    },
    {
      "cell_type": "code",
      "execution_count": null,
      "metadata": {
        "colab": {
          "base_uri": "https://localhost:8080/"
        },
        "id": "QIoXWL7IdlDq",
        "outputId": "b566fc79-08eb-4153-a2d7-29af2e777377"
      },
      "outputs": [
        {
          "output_type": "stream",
          "name": "stdout",
          "text": [
            "loss after iteration 0: 0.693147\n",
            "loss after iteration 100: 0.823921\n",
            "loss after iteration 200: 0.418944\n",
            "loss after iteration 300: 0.617350\n",
            "loss after iteration 400: 0.522116\n",
            "loss after iteration 500: 0.387709\n",
            "loss after iteration 600: 0.236254\n",
            "loss after iteration 700: 0.154222\n",
            "loss after iteration 800: 0.135328\n",
            "loss after iteration 900: 0.124971\n",
            "loss after iteration 1000: 0.116478\n",
            "loss after iteration 1100: 0.109193\n",
            "loss after iteration 1200: 0.102804\n",
            "loss after iteration 1300: 0.097130\n",
            "loss after iteration 1400: 0.092043\n",
            "loss after iteration 1500: 0.087453\n",
            "loss after iteration 1600: 0.083286\n",
            "loss after iteration 1700: 0.079487\n",
            "loss after iteration 1800: 0.076007\n",
            "loss after iteration 1900: 0.072809\n",
            "train accuracy: 99.52153110047847 %\n",
            "test accuracy: 70.0 %\n"
          ]
        }
      ],
      "source": [
        "d = model(train_set_x, train_set_y, test_set_x, test_set_y, num_iterations = 2000, learning_rate = 0.01, print_cost = True)\n"
      ]
    },
    {
      "cell_type": "markdown",
      "metadata": {
        "id": "0Z1udjZZOGMh"
      },
      "source": [
        "* Try different: learning rate values, number of iterations, and see the results onf test accuracy"
      ]
    },
    {
      "cell_type": "code",
      "execution_count": null,
      "metadata": {
        "id": "gp18nOgGOF2W",
        "colab": {
          "base_uri": "https://localhost:8080/"
        },
        "outputId": "6470fd9c-2070-4970-b6b4-c41d4815a7be"
      },
      "outputs": [
        {
          "output_type": "execute_result",
          "data": {
            "text/plain": [
              "(12288, 209)"
            ]
          },
          "metadata": {},
          "execution_count": 22
        }
      ],
      "source": [
        "train_set_x.shape"
      ]
    },
    {
      "cell_type": "code",
      "execution_count": null,
      "metadata": {
        "id": "3R7TrthaIn9y",
        "colab": {
          "base_uri": "https://localhost:8080/",
          "height": 357
        },
        "outputId": "b40d4179-d82c-444d-a8d7-bd9d38e5bcd3"
      },
      "outputs": [
        {
          "output_type": "stream",
          "name": "stderr",
          "text": [
            "/usr/local/lib/python3.7/dist-packages/ipykernel_launcher.py:3: DeprecationWarning: `np.int` is a deprecated alias for the builtin `int`. To silence this warning, use `int` by itself. Doing this will not modify any behavior and is safe. When replacing `np.int`, you may wish to use e.g. `np.int64` or `np.int32` to specify the precision. If you wish to review your current use, check the release note link for additional information.\n",
            "Deprecated in NumPy 1.20; for more details and guidance: https://numpy.org/devdocs/release/1.20.0-notes.html#deprecations\n",
            "  This is separate from the ipykernel package so we can avoid doing imports until\n"
          ]
        },
        {
          "output_type": "stream",
          "name": "stdout",
          "text": [
            "y = 1, you predicted that it is a \"cat\" picture.\n"
          ]
        },
        {
          "output_type": "display_data",
          "data": {
            "text/plain": [
              "<Figure size 432x288 with 1 Axes>"
            ],
            "image/png": "[encoded data removed]"
          },
          "metadata": {
            "needs_background": "light"
          }
        }
      ],
      "source": [
        "index = 9\n",
        "plt.imshow(test_set_x[:,index].reshape((num_px, num_px, 3)))\n",
        "print (\"y = \" + str(test_set_y[0,index]) + \", you predicted that it is a \\\"\" + classes[np.int(d['Y_prediction_test'][0,index])].decode(\"utf-8\") +  \"\\\" picture.\")"
      ]
    },
    {
      "cell_type": "markdown",
      "metadata": {
        "id": "szzaKUsrOXEL"
      },
      "source": [
        "Let's plot the curve of loss function during the training "
      ]
    },
    {
      "cell_type": "code",
      "execution_count": null,
      "metadata": {
        "id": "lkLJVBG9J5bY",
        "colab": {
          "base_uri": "https://localhost:8080/",
          "height": 295
        },
        "outputId": "921037fc-3446-44fa-b39c-2b837e2a915d"
      },
      "outputs": [
        {
          "output_type": "display_data",
          "data": {
            "text/plain": [
              "<Figure size 432x288 with 1 Axes>"
            ],
            "image/png": "[encoded data removed]"
          },
          "metadata": {
            "needs_background": "light"
          }
        }
      ],
      "source": [
        "# Plot learning curve (with costs)\n",
        "costs = np.squeeze(d['costs'])\n",
        "plt.plot(costs)\n",
        "plt.ylabel('cost/loss')\n",
        "plt.xlabel('iterations (per hundreds)')\n",
        "plt.title(\"Learning rate =\" + str(d[\"learning_rate\"]))\n",
        "plt.show()"
      ]
    },
    {
      "cell_type": "markdown",
      "metadata": {
        "id": "mJcYjJg0SCMi"
      },
      "source": [
        "## **Further Exercises**\n",
        "\n",
        "**Reminder:** In order for Gradient Descent to work, you must choose the learning rate wisely. The learning rate $\\alpha$ determines how rapidly we update the parameters. If the learning rate is too large we may \"overshoot\" the optimal value. Similarly, if it is too small we will need too many iterations to converge to the best values. That's why it is crucial to use a well-tuned learning rate.\n",
        "\n",
        "* Let's compare the learning curve of your model with several choices of learning rates.\n",
        "* Feel free also to try different values than the three we have initialized the learning_rates variable to contain, and see what happens.\n",
        "\n",
        "* Please put your comments and interpretations after seeing the results  "
      ]
    },
    {
      "cell_type": "code",
      "execution_count": null,
      "metadata": {
        "id": "a1Oe2O1bS0zv",
        "colab": {
          "base_uri": "https://localhost:8080/",
          "height": 1000
        },
        "outputId": "49ffb6a0-68f6-4f4e-ff87-64e7e08e3007"
      },
      "outputs": [
        {
          "output_type": "stream",
          "name": "stdout",
          "text": [
            "loss after iteration 0: 0.693147\n",
            "loss after iteration 100: 0.823921\n",
            "loss after iteration 200: 0.418944\n",
            "loss after iteration 300: 0.617350\n",
            "loss after iteration 400: 0.522116\n",
            "loss after iteration 500: 0.387709\n",
            "loss after iteration 600: 0.236254\n",
            "loss after iteration 700: 0.154222\n",
            "loss after iteration 800: 0.135328\n",
            "loss after iteration 900: 0.124971\n",
            "loss after iteration 1000: 0.116478\n",
            "loss after iteration 1100: 0.109193\n",
            "loss after iteration 1200: 0.102804\n",
            "loss after iteration 1300: 0.097130\n",
            "loss after iteration 1400: 0.092043\n",
            "loss after iteration 1500: 0.087453\n",
            "loss after iteration 1600: 0.083286\n",
            "loss after iteration 1700: 0.079487\n",
            "loss after iteration 1800: 0.076007\n",
            "loss after iteration 1900: 0.072809\n",
            "train accuracy: 99.52153110047847 %\n",
            "test accuracy: 70.0 %\n",
            "loss after iteration 0: 0.693147\n",
            "loss after iteration 100: 0.591289\n",
            "loss after iteration 200: 0.555796\n",
            "loss after iteration 300: 0.528977\n",
            "loss after iteration 400: 0.506881\n",
            "loss after iteration 500: 0.487880\n",
            "loss after iteration 600: 0.471108\n",
            "loss after iteration 700: 0.456046\n",
            "loss after iteration 800: 0.442350\n",
            "loss after iteration 900: 0.429782\n",
            "loss after iteration 1000: 0.418164\n",
            "loss after iteration 1100: 0.407362\n",
            "loss after iteration 1200: 0.397269\n",
            "loss after iteration 1300: 0.387802\n",
            "loss after iteration 1400: 0.378888\n",
            "loss after iteration 1500: 0.370471\n",
            "loss after iteration 1600: 0.362500\n",
            "loss after iteration 1700: 0.354934\n",
            "loss after iteration 1800: 0.347737\n",
            "loss after iteration 1900: 0.340877\n",
            "train accuracy: 91.38755980861244 %\n",
            "test accuracy: 68.0 %\n",
            "loss after iteration 0: 0.693147\n",
            "loss after iteration 100: 0.643677\n",
            "loss after iteration 200: 0.635737\n",
            "loss after iteration 300: 0.628572\n",
            "loss after iteration 400: 0.622040\n",
            "loss after iteration 500: 0.616029\n",
            "loss after iteration 600: 0.610455\n",
            "loss after iteration 700: 0.605248\n",
            "loss after iteration 800: 0.600354\n",
            "loss after iteration 900: 0.595729\n",
            "loss after iteration 1000: 0.591339\n",
            "loss after iteration 1100: 0.587153\n",
            "loss after iteration 1200: 0.583149\n",
            "loss after iteration 1300: 0.579307\n",
            "loss after iteration 1400: 0.575611\n",
            "loss after iteration 1500: 0.572046\n",
            "loss after iteration 1600: 0.568601\n",
            "loss after iteration 1700: 0.565266\n",
            "loss after iteration 1800: 0.562032\n",
            "loss after iteration 1900: 0.558891\n",
            "train accuracy: 71.29186602870814 %\n",
            "test accuracy: 40.0 %\n"
          ]
        },
        {
          "output_type": "display_data",
          "data": {
            "text/plain": [
              "<Figure size 432x288 with 1 Axes>"
            ],
            "image/png": "[encoded data removed]"
          },
          "metadata": {
            "needs_background": "light"
          }
        }
      ],
      "source": [
        "learning_rates = [0.01, 0.001, 0.0001]\n",
        "models = {}\n",
        "for i in learning_rates:\n",
        "  d = model(train_set_x, train_set_y, test_set_x, test_set_y, num_iterations = 2000, learning_rate = i, print_cost = True)\n",
        "  costs = np.squeeze(d['costs'])\n",
        "  plt.plot(costs, label=i)\n",
        "\n",
        "plt.ylabel('cost/loss')\n",
        "plt.xlabel('iterations (per hundreds)')\n",
        "plt.title(\"Learning rate =\" + str(d[\"learning_rate\"]))\n",
        "plt.legend()\n",
        "plt.show()"
      ]
    },
    {
      "cell_type": "markdown",
      "metadata": {
        "id": "k_w3tiKUTeca"
      },
      "source": [
        "**Interpretation:**\n",
        "\n",
        "- The biggest learning rate give the smallest error, the smaller one might found a local minimum that is not the best\n",
        "\n",
        "The smallest learning rate 0.01 give the best performance in both computing complexity and accuracy area. Indeed, it seems to converge faster to a better performance than the larger learning rate. \n",
        "The way I see it, the loss function has probably many local minimum in which smaller learning rate converged toward.  "
      ]
    },
    {
      "cell_type": "markdown",
      "metadata": {
        "id": "VWcKyQZ0VfW8"
      },
      "source": [
        "## **Test with your own image** \n",
        "1. Add your image to this Notebook's directory, in the \"images\" folder (take or download one)\n",
        "2. choose your image's name in the following code\n",
        "3. Run the code and check if the algorithm is right (1 = cat, 0 = non-cat)"
      ]
    },
    {
      "cell_type": "code",
      "execution_count": null,
      "metadata": {
        "id": "58H_hmMmTVCK",
        "colab": {
          "base_uri": "https://localhost:8080/",
          "height": 388
        },
        "outputId": "a83487de-20ce-4f5f-adbc-89f6ec8e18ee"
      },
      "outputs": [
        {
          "output_type": "stream",
          "name": "stdout",
          "text": [
            "(64, 64, 3)\n",
            "(12288, 1)\n"
          ]
        },
        {
          "output_type": "stream",
          "name": "stderr",
          "text": [
            "/usr/local/lib/python3.7/dist-packages/ipykernel_launcher.py:18: DeprecationWarning: `np.int` is a deprecated alias for the builtin `int`. To silence this warning, use `int` by itself. Doing this will not modify any behavior and is safe. When replacing `np.int`, you may wish to use e.g. `np.int64` or `np.int32` to specify the precision. If you wish to review your current use, check the release note link for additional information.\n",
            "Deprecated in NumPy 1.20; for more details and guidance: https://numpy.org/devdocs/release/1.20.0-notes.html#deprecations\n"
          ]
        },
        {
          "output_type": "execute_result",
          "data": {
            "text/plain": [
              "Text(0.5, 1.0, 'you predicted that it is a \"non-cat\" picture.')"
            ]
          },
          "metadata": {},
          "execution_count": 29
        },
        {
          "output_type": "display_data",
          "data": {
            "text/plain": [
              "<Figure size 432x288 with 1 Axes>"
            ],
            "image/png": "[encoded data removed]"
          },
          "metadata": {
            "needs_background": "light"
          }
        }
      ],
      "source": [
        "import cv2    #use opencv library to read and resize the image\n",
        "my_image = \"cat.jpeg\"   \n",
        "\n",
        "fname =  my_image\n",
        "image = cv2.imread(fname,cv2.IMREAD_UNCHANGED)\n",
        "#print(image)\n",
        "#normalize and resize your original image\n",
        "your_image = image/255 #normalize it\n",
        "#print(your_image.shape)\n",
        "your_image = cv2.resize(your_image, (64, 64)) #resize it\n",
        "#display it\n",
        "print(your_image.shape)\n",
        "#flatten the image\n",
        "image_flatten = your_image.reshape(-1, 1)\n",
        "print(image_flatten.shape)\n",
        "my_predicted_image = predict(d[\"w\"], d[\"b\"], image_flatten)\n",
        "plt.imshow(your_image)\n",
        "plt.title(\"you predicted that it is a \\\"\" + classes[np.int(my_predicted_image)].decode(\"utf-8\") + \"\\\" picture.\")"
      ]
    },
    {
      "cell_type": "markdown",
      "metadata": {
        "id": "NZRRFb2AZSn7"
      },
      "source": [
        "**Bibliography:**\n",
        "\n",
        "http://www.wildml.com/2015/09/implementing-a-neural-network-from-scratch/\n"
      ]
    },
    {
      "cell_type": "markdown",
      "metadata": {
        "id": "tgyHvJ489p9-"
      },
      "source": [
        "# Exercise \n",
        "## Build Your Model using Keras library and tensorflow as backend\n",
        "\n",
        "[Keras is an open-source software library](https://keras.io/getting_started/) that provides a Python interface for artificial neural networks. Keras acts as an interface for the TensorFlow library.\n",
        "\n",
        "Up until version 2.3, Keras supported multiple backends, including TensorFlow, Microsoft Cognitive Toolkit, Theano, and PlaidML\n"
      ]
    },
    {
      "cell_type": "code",
      "execution_count": null,
      "metadata": {
        "id": "d-jlRtgD9yfF"
      },
      "outputs": [],
      "source": [
        "from tensorflow.keras import layers\n",
        "from tensorflow.keras import models\n",
        "from tensorflow.keras import optimizers"
      ]
    },
    {
      "cell_type": "markdown",
      "metadata": {
        "id": "oi9zTvYJ93F6"
      },
      "source": [
        "### Load Data from hdf file\n",
        "- \n",
        "\n",
        "1.   Use the same method of above\n",
        "2. List all keys available in the loaded data set \n",
        "\n",
        "```\n",
        "train_dataset = h5py.File('train_catvnoncat.h5', \"r\")\n",
        "list(train_dataset.keys())\n",
        "```\n",
        "3.   Use a a percent of train dataset to validate with during the training, as\n",
        "\n",
        "```\n",
        "\n",
        "from sklearn.model_selection import train_test_split\n",
        "train_dataset = h5py.File('train_catvnoncat.h5', \"r\")\n",
        "train_set_x_orig = ? # your train set of images  \n",
        "train_set_y_orig = ? # your train set labels\n",
        "\n",
        "\n",
        "X_train,X_val,Y_train,Y_val = train_test_split(train_set_x_orig,train_set_y_orig,test_size = 0.1)\n",
        "```  \n",
        "\n",
        "4.   Visualize a histogram of how many images are cat and non-cat, use seaborn library\n",
        "\n",
        "```\n",
        "import seaborn as sns\n",
        "sns.set_style('darkgrid')\n",
        "sns.countplot(list(train_set_y_orig),palette='twilight')\n",
        "```\n",
        "4.  Build the model using keras API \n",
        "\n",
        "```\n",
        "model = models.Sequential()\n",
        "model.add(layers.Flatten(input_shape = ?)) # this layer is to put 3D image into a 1D vector\n",
        "\n",
        "model.add(layers.Dense(?,activation='relu'))# dense layer is full connected layer\n",
        "model.add(layers.Dense(?,activation='sigmoid')) # why sigmoid ?\n",
        "\n",
        "- Please provide your own model architecture ( N layers) and justify your choice.\n",
        "- Please provide your interpretation of sigmoid choice.\n",
        "```\n",
        "5. To train the model, use *compile function* it needs to specify the loss function and an optimizer (to learn more about it in the next sessions). Then Use *fit function*  to start the learning process by the model \n",
        "\n",
        "\n",
        "```\n",
        "model.compile(loss='binary_crossentropy',optimizer='adam',metrics=['accuracy'])\n",
        "\n",
        "model.fit(X_train, Y_train,validation_data = (X_val, Y_val),epochs=100, batch_size=16)\n",
        "\n",
        "adam*: is an advanced version of gradient descent, you can use it as is for now. \n",
        "\n",
        "Why using binary_crossentropy ?\n",
        "```\n",
        "6. Plot Loss and accuracy curves of training and validation dataset \n",
        "\n",
        "\n",
        "```\n",
        "acc = modelk.history.history['accuracy']\n",
        "val_acc = modelk.history.history['val_accuracy']\n",
        "loss = modelk.history.history['loss']\n",
        "val_loss = modelk.history.history['val_loss']\n",
        "epochs = range(1, len(acc) + 1)\n",
        "\n",
        "plt.plot(epochs, acc, 'b', label= 'Training accuracy')\n",
        "plt.plot(epochs, val_acc, 'r', label= 'Validation accuracy')\n",
        "plt.title('Training and Validation accuracy')\n",
        "plt.legend()\n",
        "\n",
        "## then plot the loss curves \n",
        "```\n",
        "\n",
        "\n",
        "\n"
      ]
    },
    {
      "cell_type": "code",
      "source": [
        "train_dataset = h5py.File('train_catvnoncat.h5', \"r\")\n",
        "list(train_dataset.keys())"
      ],
      "metadata": {
        "colab": {
          "base_uri": "https://localhost:8080/"
        },
        "id": "5CZ1DNwSMSB6",
        "outputId": "66950aa5-ca02-4bb8-c487-241e93cac746"
      },
      "execution_count": null,
      "outputs": [
        {
          "output_type": "execute_result",
          "data": {
            "text/plain": [
              "['list_classes', 'train_set_x', 'train_set_y']"
            ]
          },
          "metadata": {},
          "execution_count": 31
        }
      ]
    },
    {
      "cell_type": "code",
      "source": [
        "from sklearn.model_selection import train_test_split\n",
        "train_dataset = h5py.File('train_catvnoncat.h5', \"r\")\n",
        "train_set_x_orig = np.array(train_dataset[\"train_set_x\"][:]) # your train set of images  \n",
        "train_set_y_orig = np.array(train_dataset[\"train_set_y\"][:]) # your train set labels\n",
        "\n",
        "X_train,X_val,Y_train,Y_val = train_test_split(train_set_x_orig,train_set_y_orig,test_size = 0.1)"
      ],
      "metadata": {
        "id": "Tq9BBgVDNK2b"
      },
      "execution_count": null,
      "outputs": []
    },
    {
      "cell_type": "code",
      "source": [
        "import seaborn as sns\n",
        "sns.set_style('darkgrid')\n",
        "sns.countplot(list(train_set_y_orig),palette='twilight')"
      ],
      "metadata": {
        "colab": {
          "base_uri": "https://localhost:8080/",
          "height": 337
        },
        "id": "fd0LwnAAOBJc",
        "outputId": "9c7ec5ff-94f5-44fa-d163-22ea6629e573"
      },
      "execution_count": null,
      "outputs": [
        {
          "output_type": "stream",
          "name": "stderr",
          "text": [
            "/usr/local/lib/python3.7/dist-packages/seaborn/_decorators.py:43: FutureWarning: Pass the following variable as a keyword arg: x. From version 0.12, the only valid positional argument will be `data`, and passing other arguments without an explicit keyword will result in an error or misinterpretation.\n",
            "  FutureWarning\n"
          ]
        },
        {
          "output_type": "execute_result",
          "data": {
            "text/plain": [
              "<matplotlib.axes._subplots.AxesSubplot at 0x7fce513eca90>"
            ]
          },
          "metadata": {},
          "execution_count": 33
        },
        {
          "output_type": "display_data",
          "data": {
            "text/plain": [
              "<Figure size 432x288 with 1 Axes>"
            ],
            "image/png": "[encoded data removed]"
          },
          "metadata": {}
        }
      ]
    },
    {
      "cell_type": "code",
      "source": [
        "model = models.Sequential()\n",
        "model.add(layers.Flatten(input_shape = (64,64,3))) # this layer is to put 3D image into a 1D vector\n",
        "\n",
        "model.add(layers.Dense(512, activation='relu'))# dense layer is full connected layer\n",
        "model.add(layers.Dense(1,activation='sigmoid')) # why sigmoid ?"
      ],
      "metadata": {
        "id": "RBZgIi2gOApr"
      },
      "execution_count": null,
      "outputs": []
    },
    {
      "cell_type": "markdown",
      "source": [
        "Why sigmoid ?\n",
        "\n",
        "The sigmoid function must be used in the output layer when we build a binary classifier in which the output is interpreted as a class label depending on the probability value of input returned by the function.\n",
        "It returns 0.5 for the input 0. The value 0.5 is known as the threshold value which can decide that a given input belongs to what type of two classes"
      ],
      "metadata": {
        "id": "i9CaLlBuS7r-"
      }
    },
    {
      "cell_type": "code",
      "source": [
        "model.compile(loss='binary_crossentropy',optimizer='adam',metrics=['accuracy'])\n",
        "# imporved version of backpropagation\n",
        "model.fit(X_train, Y_train, validation_data = (X_val, Y_val), epochs=100, batch_size=16)"
      ],
      "metadata": {
        "colab": {
          "base_uri": "https://localhost:8080/"
        },
        "id": "yVRsXFikQugS",
        "outputId": "f7839843-53db-402e-8b7d-652a87dbea8a"
      },
      "execution_count": null,
      "outputs": [
        {
          "output_type": "stream",
          "name": "stdout",
          "text": [
            "Epoch 1/100\n",
            "12/12 [==============================] - 2s 68ms/step - loss: 1415.9305 - accuracy: 0.5638 - val_loss: 164.7451 - val_accuracy: 0.8095\n",
            "Epoch 2/100\n",
            "12/12 [==============================] - 0s 36ms/step - loss: 295.8469 - accuracy: 0.5213 - val_loss: 142.6272 - val_accuracy: 0.8095\n",
            "Epoch 3/100\n",
            "12/12 [==============================] - 0s 38ms/step - loss: 244.0610 - accuracy: 0.5957 - val_loss: 310.3402 - val_accuracy: 0.8095\n",
            "Epoch 4/100\n",
            "12/12 [==============================] - 0s 37ms/step - loss: 244.5323 - accuracy: 0.5904 - val_loss: 170.3692 - val_accuracy: 0.8095\n",
            "Epoch 5/100\n",
            "12/12 [==============================] - 0s 39ms/step - loss: 118.5877 - accuracy: 0.6330 - val_loss: 78.2082 - val_accuracy: 0.4762\n",
            "Epoch 6/100\n",
            "12/12 [==============================] - 0s 38ms/step - loss: 37.1701 - accuracy: 0.7766 - val_loss: 36.6563 - val_accuracy: 0.7619\n",
            "Epoch 7/100\n",
            "12/12 [==============================] - 0s 37ms/step - loss: 32.7894 - accuracy: 0.7553 - val_loss: 45.6272 - val_accuracy: 0.7143\n",
            "Epoch 8/100\n",
            "12/12 [==============================] - 0s 37ms/step - loss: 35.7712 - accuracy: 0.7394 - val_loss: 67.1069 - val_accuracy: 0.8095\n",
            "Epoch 9/100\n",
            "12/12 [==============================] - 0s 37ms/step - loss: 15.1355 - accuracy: 0.7926 - val_loss: 49.0918 - val_accuracy: 0.7619\n",
            "Epoch 10/100\n",
            "12/12 [==============================] - 0s 39ms/step - loss: 7.5495 - accuracy: 0.8457 - val_loss: 45.4615 - val_accuracy: 0.5238\n",
            "Epoch 11/100\n",
            "12/12 [==============================] - 0s 38ms/step - loss: 11.1445 - accuracy: 0.8457 - val_loss: 28.9525 - val_accuracy: 0.7143\n",
            "Epoch 12/100\n",
            "12/12 [==============================] - 0s 39ms/step - loss: 21.2799 - accuracy: 0.8032 - val_loss: 101.0046 - val_accuracy: 0.3333\n",
            "Epoch 13/100\n",
            "12/12 [==============================] - 0s 40ms/step - loss: 61.5000 - accuracy: 0.6915 - val_loss: 56.6102 - val_accuracy: 0.8095\n",
            "Epoch 14/100\n",
            "12/12 [==============================] - 0s 39ms/step - loss: 47.9342 - accuracy: 0.6277 - val_loss: 42.0213 - val_accuracy: 0.7619\n",
            "Epoch 15/100\n",
            "12/12 [==============================] - 0s 38ms/step - loss: 5.8985 - accuracy: 0.8830 - val_loss: 77.1052 - val_accuracy: 0.4286\n",
            "Epoch 16/100\n",
            "12/12 [==============================] - 0s 37ms/step - loss: 15.8318 - accuracy: 0.8191 - val_loss: 47.3741 - val_accuracy: 0.5238\n",
            "Epoch 17/100\n",
            "12/12 [==============================] - 0s 38ms/step - loss: 35.5543 - accuracy: 0.7606 - val_loss: 118.2899 - val_accuracy: 0.8095\n",
            "Epoch 18/100\n",
            "12/12 [==============================] - 0s 38ms/step - loss: 53.7307 - accuracy: 0.7074 - val_loss: 73.3584 - val_accuracy: 0.4286\n",
            "Epoch 19/100\n",
            "12/12 [==============================] - 0s 38ms/step - loss: 47.7833 - accuracy: 0.7074 - val_loss: 66.8280 - val_accuracy: 0.5714\n",
            "Epoch 20/100\n",
            "12/12 [==============================] - 0s 37ms/step - loss: 32.0013 - accuracy: 0.7394 - val_loss: 88.2475 - val_accuracy: 0.8095\n",
            "Epoch 21/100\n",
            "12/12 [==============================] - 0s 37ms/step - loss: 14.8684 - accuracy: 0.8511 - val_loss: 26.7863 - val_accuracy: 0.7143\n",
            "Epoch 22/100\n",
            "12/12 [==============================] - 0s 38ms/step - loss: 7.8147 - accuracy: 0.9096 - val_loss: 45.7598 - val_accuracy: 0.8095\n",
            "Epoch 23/100\n",
            "12/12 [==============================] - 0s 38ms/step - loss: 3.5579 - accuracy: 0.9096 - val_loss: 43.6500 - val_accuracy: 0.6190\n",
            "Epoch 24/100\n",
            "12/12 [==============================] - 0s 37ms/step - loss: 10.2603 - accuracy: 0.8883 - val_loss: 49.3576 - val_accuracy: 0.8095\n",
            "Epoch 25/100\n",
            "12/12 [==============================] - 0s 38ms/step - loss: 4.4456 - accuracy: 0.9309 - val_loss: 65.0453 - val_accuracy: 0.5714\n",
            "Epoch 26/100\n",
            "12/12 [==============================] - 0s 38ms/step - loss: 8.7326 - accuracy: 0.8830 - val_loss: 39.2294 - val_accuracy: 0.7619\n",
            "Epoch 27/100\n",
            "12/12 [==============================] - 0s 40ms/step - loss: 2.1194 - accuracy: 0.9521 - val_loss: 44.1641 - val_accuracy: 0.5714\n",
            "Epoch 28/100\n",
            "12/12 [==============================] - 0s 39ms/step - loss: 2.4298 - accuracy: 0.9255 - val_loss: 73.7237 - val_accuracy: 0.8095\n",
            "Epoch 29/100\n",
            "12/12 [==============================] - 0s 37ms/step - loss: 36.4575 - accuracy: 0.7500 - val_loss: 141.1274 - val_accuracy: 0.3810\n",
            "Epoch 30/100\n",
            "12/12 [==============================] - 0s 38ms/step - loss: 20.5028 - accuracy: 0.7872 - val_loss: 57.1078 - val_accuracy: 0.8095\n",
            "Epoch 31/100\n",
            "12/12 [==============================] - 0s 38ms/step - loss: 59.8540 - accuracy: 0.7234 - val_loss: 74.2551 - val_accuracy: 0.6190\n",
            "Epoch 32/100\n",
            "12/12 [==============================] - 0s 38ms/step - loss: 26.3503 - accuracy: 0.7819 - val_loss: 45.7477 - val_accuracy: 0.7619\n",
            "Epoch 33/100\n",
            "12/12 [==============================] - 0s 38ms/step - loss: 7.4681 - accuracy: 0.9043 - val_loss: 58.2655 - val_accuracy: 0.5714\n",
            "Epoch 34/100\n",
            "12/12 [==============================] - 0s 37ms/step - loss: 12.5105 - accuracy: 0.8351 - val_loss: 43.0739 - val_accuracy: 0.6667\n",
            "Epoch 35/100\n",
            "12/12 [==============================] - 0s 38ms/step - loss: 16.3826 - accuracy: 0.8351 - val_loss: 37.2819 - val_accuracy: 0.6667\n",
            "Epoch 36/100\n",
            "12/12 [==============================] - 0s 37ms/step - loss: 32.6261 - accuracy: 0.7766 - val_loss: 46.0116 - val_accuracy: 0.7143\n",
            "Epoch 37/100\n",
            "12/12 [==============================] - 0s 38ms/step - loss: 4.2976 - accuracy: 0.9415 - val_loss: 58.4248 - val_accuracy: 0.6190\n",
            "Epoch 38/100\n",
            "12/12 [==============================] - 0s 38ms/step - loss: 2.2204 - accuracy: 0.9681 - val_loss: 44.6620 - val_accuracy: 0.7143\n",
            "Epoch 39/100\n",
            "12/12 [==============================] - 0s 38ms/step - loss: 1.4227 - accuracy: 0.9681 - val_loss: 45.5971 - val_accuracy: 0.7143\n",
            "Epoch 40/100\n",
            "12/12 [==============================] - 0s 36ms/step - loss: 4.7409 - accuracy: 0.9415 - val_loss: 43.8216 - val_accuracy: 0.7619\n",
            "Epoch 41/100\n",
            "12/12 [==============================] - 0s 37ms/step - loss: 5.0901 - accuracy: 0.8883 - val_loss: 40.9995 - val_accuracy: 0.7143\n",
            "Epoch 42/100\n",
            "12/12 [==============================] - 0s 37ms/step - loss: 28.2028 - accuracy: 0.7553 - val_loss: 134.0599 - val_accuracy: 0.8095\n",
            "Epoch 43/100\n",
            "12/12 [==============================] - 0s 37ms/step - loss: 73.2790 - accuracy: 0.6809 - val_loss: 66.3613 - val_accuracy: 0.7619\n",
            "Epoch 44/100\n",
            "12/12 [==============================] - 0s 38ms/step - loss: 8.1738 - accuracy: 0.8936 - val_loss: 80.2804 - val_accuracy: 0.6190\n",
            "Epoch 45/100\n",
            "12/12 [==============================] - 0s 36ms/step - loss: 10.0469 - accuracy: 0.8511 - val_loss: 40.6316 - val_accuracy: 0.7143\n",
            "Epoch 46/100\n",
            "12/12 [==============================] - 0s 38ms/step - loss: 7.2519 - accuracy: 0.9096 - val_loss: 59.9435 - val_accuracy: 0.8095\n",
            "Epoch 47/100\n",
            "12/12 [==============================] - 0s 38ms/step - loss: 1.9226 - accuracy: 0.9681 - val_loss: 38.2380 - val_accuracy: 0.8095\n",
            "Epoch 48/100\n",
            "12/12 [==============================] - 0s 38ms/step - loss: 1.7039 - accuracy: 0.9681 - val_loss: 37.3635 - val_accuracy: 0.7619\n",
            "Epoch 49/100\n",
            "12/12 [==============================] - 0s 39ms/step - loss: 0.4556 - accuracy: 0.9947 - val_loss: 48.4853 - val_accuracy: 0.7619\n",
            "Epoch 50/100\n",
            "12/12 [==============================] - 0s 38ms/step - loss: 0.5101 - accuracy: 0.9894 - val_loss: 56.9521 - val_accuracy: 0.6190\n",
            "Epoch 51/100\n",
            "12/12 [==============================] - 0s 36ms/step - loss: 0.9850 - accuracy: 0.9734 - val_loss: 43.3456 - val_accuracy: 0.7143\n",
            "Epoch 52/100\n",
            "12/12 [==============================] - 0s 38ms/step - loss: 3.4236 - accuracy: 0.9362 - val_loss: 78.8578 - val_accuracy: 0.5714\n",
            "Epoch 53/100\n",
            "12/12 [==============================] - 0s 37ms/step - loss: 9.0415 - accuracy: 0.8936 - val_loss: 39.6269 - val_accuracy: 0.7143\n",
            "Epoch 54/100\n",
            "12/12 [==============================] - 0s 37ms/step - loss: 0.5499 - accuracy: 0.9894 - val_loss: 56.7814 - val_accuracy: 0.5714\n",
            "Epoch 55/100\n",
            "12/12 [==============================] - 0s 38ms/step - loss: 2.2968 - accuracy: 0.9574 - val_loss: 34.6199 - val_accuracy: 0.7619\n",
            "Epoch 56/100\n",
            "12/12 [==============================] - 0s 37ms/step - loss: 0.4076 - accuracy: 0.9947 - val_loss: 32.7284 - val_accuracy: 0.8095\n",
            "Epoch 57/100\n",
            "12/12 [==============================] - 0s 37ms/step - loss: 0.0370 - accuracy: 0.9947 - val_loss: 31.6734 - val_accuracy: 0.8095\n",
            "Epoch 58/100\n",
            "12/12 [==============================] - 0s 38ms/step - loss: 1.3806 - accuracy: 0.9521 - val_loss: 125.9630 - val_accuracy: 0.3810\n",
            "Epoch 59/100\n",
            "12/12 [==============================] - 0s 38ms/step - loss: 12.9230 - accuracy: 0.8777 - val_loss: 60.9513 - val_accuracy: 0.8095\n",
            "Epoch 60/100\n",
            "12/12 [==============================] - 0s 38ms/step - loss: 4.1429 - accuracy: 0.9255 - val_loss: 104.2552 - val_accuracy: 0.8095\n",
            "Epoch 61/100\n",
            "12/12 [==============================] - 0s 38ms/step - loss: 23.8794 - accuracy: 0.8085 - val_loss: 35.5962 - val_accuracy: 0.5714\n",
            "Epoch 62/100\n",
            "12/12 [==============================] - 0s 38ms/step - loss: 5.9394 - accuracy: 0.9309 - val_loss: 58.9942 - val_accuracy: 0.5714\n",
            "Epoch 63/100\n",
            "12/12 [==============================] - 0s 37ms/step - loss: 6.6856 - accuracy: 0.8989 - val_loss: 46.3711 - val_accuracy: 0.6190\n",
            "Epoch 64/100\n",
            "12/12 [==============================] - 0s 38ms/step - loss: 1.7663 - accuracy: 0.9681 - val_loss: 42.0429 - val_accuracy: 0.8095\n",
            "Epoch 65/100\n",
            "12/12 [==============================] - 0s 36ms/step - loss: 0.3582 - accuracy: 0.9894 - val_loss: 50.3459 - val_accuracy: 0.8095\n",
            "Epoch 66/100\n",
            "12/12 [==============================] - 0s 38ms/step - loss: 0.2841 - accuracy: 0.9787 - val_loss: 52.7291 - val_accuracy: 0.6667\n",
            "Epoch 67/100\n",
            "12/12 [==============================] - 0s 37ms/step - loss: 1.1297 - accuracy: 0.9574 - val_loss: 42.9613 - val_accuracy: 0.6667\n",
            "Epoch 68/100\n",
            "12/12 [==============================] - 0s 37ms/step - loss: 2.7224 - accuracy: 0.9574 - val_loss: 38.6183 - val_accuracy: 0.8571\n",
            "Epoch 69/100\n",
            "12/12 [==============================] - 0s 37ms/step - loss: 1.0276 - accuracy: 0.9840 - val_loss: 56.9441 - val_accuracy: 0.6190\n",
            "Epoch 70/100\n",
            "12/12 [==============================] - 0s 37ms/step - loss: 0.3985 - accuracy: 0.9787 - val_loss: 48.8702 - val_accuracy: 0.6190\n",
            "Epoch 71/100\n",
            "12/12 [==============================] - 0s 38ms/step - loss: 0.6449 - accuracy: 0.9734 - val_loss: 51.3005 - val_accuracy: 0.6190\n",
            "Epoch 72/100\n",
            "12/12 [==============================] - 0s 39ms/step - loss: 2.3861 - accuracy: 0.9468 - val_loss: 40.3657 - val_accuracy: 0.7143\n",
            "Epoch 73/100\n",
            "12/12 [==============================] - 0s 38ms/step - loss: 2.3930 - accuracy: 0.9628 - val_loss: 38.9657 - val_accuracy: 0.7143\n",
            "Epoch 74/100\n",
            "12/12 [==============================] - 0s 37ms/step - loss: 0.2033 - accuracy: 0.9787 - val_loss: 34.5433 - val_accuracy: 0.7619\n",
            "Epoch 75/100\n",
            "12/12 [==============================] - 0s 37ms/step - loss: 0.1366 - accuracy: 0.9947 - val_loss: 54.6749 - val_accuracy: 0.6190\n",
            "Epoch 76/100\n",
            "12/12 [==============================] - 0s 37ms/step - loss: 1.2346 - accuracy: 0.9734 - val_loss: 34.2142 - val_accuracy: 0.7143\n",
            "Epoch 77/100\n",
            "12/12 [==============================] - 0s 37ms/step - loss: 1.4931 - accuracy: 0.9628 - val_loss: 31.1873 - val_accuracy: 0.8095\n",
            "Epoch 78/100\n",
            "12/12 [==============================] - 0s 38ms/step - loss: 0.2251 - accuracy: 0.9894 - val_loss: 30.3729 - val_accuracy: 0.8095\n",
            "Epoch 79/100\n",
            "12/12 [==============================] - 0s 38ms/step - loss: 0.2797 - accuracy: 0.9947 - val_loss: 37.1661 - val_accuracy: 0.8571\n",
            "Epoch 80/100\n",
            "12/12 [==============================] - 0s 38ms/step - loss: 0.0501 - accuracy: 0.9947 - val_loss: 37.1920 - val_accuracy: 0.7619\n",
            "Epoch 81/100\n",
            "12/12 [==============================] - 0s 39ms/step - loss: 0.4573 - accuracy: 0.9894 - val_loss: 35.0393 - val_accuracy: 0.7143\n",
            "Epoch 82/100\n",
            "12/12 [==============================] - 0s 39ms/step - loss: 0.2040 - accuracy: 0.9894 - val_loss: 36.3329 - val_accuracy: 0.7143\n",
            "Epoch 83/100\n",
            "12/12 [==============================] - 0s 38ms/step - loss: 0.0261 - accuracy: 0.9947 - val_loss: 60.4352 - val_accuracy: 0.6190\n",
            "Epoch 84/100\n",
            "12/12 [==============================] - 0s 39ms/step - loss: 0.5690 - accuracy: 0.9947 - val_loss: 44.1646 - val_accuracy: 0.8571\n",
            "Epoch 85/100\n",
            "12/12 [==============================] - 0s 37ms/step - loss: 0.9671 - accuracy: 0.9734 - val_loss: 51.3190 - val_accuracy: 0.8571\n",
            "Epoch 86/100\n",
            "12/12 [==============================] - 0s 38ms/step - loss: 1.3641 - accuracy: 0.9734 - val_loss: 45.0939 - val_accuracy: 0.8095\n",
            "Epoch 87/100\n",
            "12/12 [==============================] - 0s 41ms/step - loss: 1.4740 - accuracy: 0.9734 - val_loss: 47.6676 - val_accuracy: 0.8095\n",
            "Epoch 88/100\n",
            "12/12 [==============================] - 0s 37ms/step - loss: 0.3066 - accuracy: 0.9840 - val_loss: 36.1506 - val_accuracy: 0.7143\n",
            "Epoch 89/100\n",
            "12/12 [==============================] - 0s 38ms/step - loss: 0.4604 - accuracy: 0.9894 - val_loss: 38.2108 - val_accuracy: 0.7619\n",
            "Epoch 90/100\n",
            "12/12 [==============================] - 0s 38ms/step - loss: 3.1722e-08 - accuracy: 1.0000 - val_loss: 39.8142 - val_accuracy: 0.8095\n",
            "Epoch 91/100\n",
            "12/12 [==============================] - 0s 38ms/step - loss: 1.4168e-06 - accuracy: 1.0000 - val_loss: 42.7251 - val_accuracy: 0.7619\n",
            "Epoch 92/100\n",
            "12/12 [==============================] - 0s 38ms/step - loss: 0.0344 - accuracy: 0.9947 - val_loss: 35.3694 - val_accuracy: 0.7619\n",
            "Epoch 93/100\n",
            "12/12 [==============================] - 0s 38ms/step - loss: 8.6113e-20 - accuracy: 1.0000 - val_loss: 35.3907 - val_accuracy: 0.7143\n",
            "Epoch 94/100\n",
            "12/12 [==============================] - 0s 38ms/step - loss: 2.1905e-10 - accuracy: 1.0000 - val_loss: 35.7149 - val_accuracy: 0.7143\n",
            "Epoch 95/100\n",
            "12/12 [==============================] - 0s 41ms/step - loss: 3.7646e-07 - accuracy: 1.0000 - val_loss: 35.8098 - val_accuracy: 0.7143\n",
            "Epoch 96/100\n",
            "12/12 [==============================] - 0s 38ms/step - loss: 2.6305e-06 - accuracy: 1.0000 - val_loss: 35.8347 - val_accuracy: 0.7143\n",
            "Epoch 97/100\n",
            "12/12 [==============================] - 0s 38ms/step - loss: 3.2404e-06 - accuracy: 1.0000 - val_loss: 35.8322 - val_accuracy: 0.7143\n",
            "Epoch 98/100\n",
            "12/12 [==============================] - 0s 38ms/step - loss: 2.8111e-06 - accuracy: 1.0000 - val_loss: 35.8145 - val_accuracy: 0.7143\n",
            "Epoch 99/100\n",
            "12/12 [==============================] - 0s 38ms/step - loss: 1.9048e-06 - accuracy: 1.0000 - val_loss: 35.8032 - val_accuracy: 0.7143\n",
            "Epoch 100/100\n",
            "12/12 [==============================] - 0s 39ms/step - loss: 1.4696e-06 - accuracy: 1.0000 - val_loss: 35.7954 - val_accuracy: 0.7143\n"
          ]
        },
        {
          "output_type": "execute_result",
          "data": {
            "text/plain": [
              "<keras.callbacks.History at 0x7fce5138c390>"
            ]
          },
          "metadata": {},
          "execution_count": 35
        }
      ]
    },
    {
      "cell_type": "code",
      "source": [
        "acc = model.history.history['accuracy']\n",
        "val_acc = model.history.history['val_accuracy']\n",
        "loss = model.history.history['loss']\n",
        "val_loss = model.history.history['val_loss']\n",
        "epochs = range(1, len(acc) + 1)\n",
        "\n",
        "plt.plot(epochs, acc, 'b', label= 'Training accuracy')\n",
        "plt.plot(epochs, val_acc, 'r', label= 'Validation accuracy')\n",
        "plt.title('Training and Validation accuracy')\n",
        "plt.legend()\n",
        "\n",
        "plt.figure()\n",
        "plt.plot(epochs, loss, 'b', label= 'Training loss')\n",
        "plt.plot(epochs, val_loss, 'r', label= 'Validation loss')\n",
        "plt.title('Training and Validation loss')\n",
        "plt.legend()\n",
        "\n",
        "plt.show()"
      ],
      "metadata": {
        "colab": {
          "base_uri": "https://localhost:8080/",
          "height": 545
        },
        "id": "JJh9xkQFRsX2",
        "outputId": "4795008a-d720-467c-a260-9a3695f6e851"
      },
      "execution_count": null,
      "outputs": [
        {
          "output_type": "display_data",
          "data": {
            "text/plain": [
              "<Figure size 432x288 with 1 Axes>"
            ],
            "image/png": "[encoded data removed]"
          },
          "metadata": {}
        },
        {
          "output_type": "display_data",
          "data": {
            "text/plain": [
              "<Figure size 432x288 with 1 Axes>"
            ],
            "image/png": "[encoded data removed]"
          },
          "metadata": {}
        }
      ]
    },
    {
      "cell_type": "markdown",
      "metadata": {
        "id": "snwZl9wWAlYr"
      },
      "source": [
        "## How tesing your model\n",
        "\n",
        "1. Load your test dataset\n",
        "\n",
        "\n",
        "```\n",
        "file = 'test_catvnoncat.h5'\n",
        "test_dataset = h5py.File(file, 'r')\n",
        "group_key = list(test_dataset.keys())\n",
        "\n",
        "\n",
        "test_set_x_orig = ? # your test of images\n",
        "test_set_y_orig = ? # your test set labels\n",
        "```\n",
        "\n",
        "2. prdict the test data with the trained model\n",
        "\n",
        "\n",
        "```\n",
        "predk = modelk.predict(test_set_x_orig)\n",
        "predictions= []\n",
        "for i in predk:\n",
        "    if i>=0.5:\n",
        "        predictions.append(1)\n",
        "    else:\n",
        "        predictions.append(0)\n",
        "```\n",
        "\n",
        "3. Evaluate the accuracy and the loss using testing dataset\n",
        "\n",
        "\n",
        "```\n",
        "loss, acc = modelk.evaluate(test_set_x_orig, test_set_y_orig,\n",
        "                            batch_size=32)\n",
        "print('Test score:', loss)\n",
        "print('Test accuracy:', acc)\n",
        "```\n",
        "\n",
        "\n",
        "4. Test with your own image\n",
        "```\n",
        "As explained before, follow the same steps please\n",
        "```\n",
        "\n",
        "\n"
      ]
    },
    {
      "cell_type": "code",
      "source": [
        "file = 'test_catvnoncat.h5'\n",
        "test_dataset = h5py.File(file, 'r')\n",
        "group_key = list(test_dataset.keys())\n",
        "\n",
        "test_set_x_orig = np.array(test_dataset[\"test_set_x\"][:]) # your test of images\n",
        "test_set_y_orig = np.array(test_dataset[\"test_set_y\"][:]) # your test set labels"
      ],
      "metadata": {
        "id": "otTN0Z6Nq8q1"
      },
      "execution_count": null,
      "outputs": []
    },
    {
      "cell_type": "code",
      "source": [
        "predk = model.predict(test_set_x_orig)\n",
        "predictions= []\n",
        "\n",
        "for i in predk:\n",
        "    if i>=0.5:\n",
        "        predictions.append(1)\n",
        "    else:\n",
        "        predictions.append(0)"
      ],
      "metadata": {
        "colab": {
          "base_uri": "https://localhost:8080/"
        },
        "id": "zPi_8gKPr0-R",
        "outputId": "60a11f4d-ffb4-4dae-9992-d5a24a28a243"
      },
      "execution_count": null,
      "outputs": [
        {
          "output_type": "stream",
          "name": "stdout",
          "text": [
            "2/2 [==============================] - 0s 13ms/step\n"
          ]
        }
      ]
    },
    {
      "cell_type": "code",
      "source": [
        "loss, acc = model.evaluate(test_set_x_orig, test_set_y_orig, batch_size=32)\n",
        "\n",
        "print('Test score:', loss)\n",
        "print('Test accuracy:', acc)"
      ],
      "metadata": {
        "colab": {
          "base_uri": "https://localhost:8080/"
        },
        "id": "AYBAvUlWr64X",
        "outputId": "4cd6e4de-e10b-4cf7-a7e5-2582192a2a16"
      },
      "execution_count": null,
      "outputs": [
        {
          "output_type": "stream",
          "name": "stdout",
          "text": [
            "2/2 [==============================] - 0s 14ms/step - loss: 59.3329 - accuracy: 0.7400\n",
            "Test score: 59.332923889160156\n",
            "Test accuracy: 0.7400000095367432\n"
          ]
        }
      ]
    },
    {
      "cell_type": "markdown",
      "metadata": {
        "id": "9pnEZAcSBlvx"
      },
      "source": [
        "Please, Use your own notebook to implement and complete your work, then please email me the following elements:\n",
        "\n",
        "* a copy pdf of your notebook\n",
        "* share me your notebook via my address mymehio@gmail.com\n",
        "* deadline: 24/11 11:59 PM"
      ]
    },
    {
      "cell_type": "code",
      "source": [
        "from sklearn.metrics import confusion_matrix\n",
        "\n",
        "#Create confusion matrix and normalizes it over predicted (columns)\n",
        "result = confusion_matrix(test_set_y_orig, predictions , normalize='pred')\n",
        "result"
      ],
      "metadata": {
        "colab": {
          "base_uri": "https://localhost:8080/"
        },
        "id": "_PtF60egImrD",
        "outputId": "a8cb4fa3-ff92-4b54-c51e-3795a0969bd6"
      },
      "execution_count": null,
      "outputs": [
        {
          "output_type": "execute_result",
          "data": {
            "text/plain": [
              "array([[0.6       , 0.16666667],\n",
              "       [0.4       , 0.83333333]])"
            ]
          },
          "metadata": {},
          "execution_count": 41
        }
      ]
    },
    {
      "cell_type": "code",
      "source": [
        "from sklearn.metrics import ConfusionMatrixDisplay\n",
        "from sklearn.metrics import confusion_matrix\n",
        "import matplotlib.pyplot as plt\n",
        "import numpy as np\n",
        "labels = [\"non cats\", \"Cats\"]\n",
        "disp = ConfusionMatrixDisplay(confusion_matrix=result, display_labels=labels)\n",
        "\n",
        "disp.plot(cmap=plt.cm.Blues)\n",
        "plt.show()"
      ],
      "metadata": {
        "colab": {
          "base_uri": "https://localhost:8080/",
          "height": 295
        },
        "id": "faR8VjyrKTcn",
        "outputId": "455aea02-b9f2-468d-dd65-6f969ce3a0f4"
      },
      "execution_count": null,
      "outputs": [
        {
          "output_type": "display_data",
          "data": {
            "text/plain": [
              "<Figure size 432x288 with 2 Axes>"
            ],
            "image/png": "[encoded data removed]"
          },
          "metadata": {}
        }
      ]
    },
    {
      "cell_type": "markdown",
      "source": [
        "## Model 2 "
      ],
      "metadata": {
        "id": "gD6jL8PzRUgw"
      }
    },
    {
      "cell_type": "code",
      "source": [
        "model2 = models.Sequential()\n",
        "model2.add(layers.Flatten(input_shape = (64,64,3)))\n",
        "model2.add(layers.Dense(512, activation='relu', input_dim=3))\n",
        "model2.add(layers.Dense(256, activation='relu'))\n",
        "model2.add(layers.Dense(1, activation='sigmoid'))\n",
        "model2.compile(optimizer='adam', loss='binary_crossentropy', metrics=['accuracy'])\n",
        "\n",
        "# imporved version of backpropagation\n",
        "model2.fit(X_train, Y_train, validation_data = (X_val, Y_val), epochs=150, batch_size=16)"
      ],
      "metadata": {
        "id": "nL9UD74dLqB1",
        "colab": {
          "base_uri": "https://localhost:8080/"
        },
        "outputId": "1a0540dc-c691-417c-c3d6-83affb28c3a9"
      },
      "execution_count": 58,
      "outputs": [
        {
          "output_type": "stream",
          "name": "stdout",
          "text": [
            "Epoch 1/100\n",
            "12/12 [==============================] - 1s 57ms/step - loss: 971.2570 - accuracy: 0.5372 - val_loss: 463.7212 - val_accuracy: 0.8095\n",
            "Epoch 2/100\n",
            "12/12 [==============================] - 1s 43ms/step - loss: 327.9438 - accuracy: 0.5585 - val_loss: 15.8469 - val_accuracy: 0.6190\n",
            "Epoch 3/100\n",
            "12/12 [==============================] - 1s 47ms/step - loss: 100.5421 - accuracy: 0.5798 - val_loss: 28.1832 - val_accuracy: 0.8095\n",
            "Epoch 4/100\n",
            "12/12 [==============================] - 1s 45ms/step - loss: 57.2125 - accuracy: 0.6064 - val_loss: 29.5730 - val_accuracy: 0.4762\n",
            "Epoch 5/100\n",
            "12/12 [==============================] - 1s 45ms/step - loss: 26.2593 - accuracy: 0.6755 - val_loss: 24.9359 - val_accuracy: 0.7619\n",
            "Epoch 6/100\n",
            "12/12 [==============================] - 1s 45ms/step - loss: 71.0250 - accuracy: 0.6649 - val_loss: 55.1980 - val_accuracy: 0.8095\n",
            "Epoch 7/100\n",
            "12/12 [==============================] - 1s 45ms/step - loss: 114.0630 - accuracy: 0.4947 - val_loss: 38.1867 - val_accuracy: 0.8095\n",
            "Epoch 8/100\n",
            "12/12 [==============================] - 1s 48ms/step - loss: 71.9728 - accuracy: 0.5957 - val_loss: 27.6364 - val_accuracy: 0.5714\n",
            "Epoch 9/100\n",
            "12/12 [==============================] - 1s 62ms/step - loss: 22.0052 - accuracy: 0.6915 - val_loss: 11.1221 - val_accuracy: 0.7619\n",
            "Epoch 10/100\n",
            "12/12 [==============================] - 1s 66ms/step - loss: 15.9722 - accuracy: 0.7340 - val_loss: 41.6699 - val_accuracy: 0.3810\n",
            "Epoch 11/100\n",
            "12/12 [==============================] - 1s 66ms/step - loss: 18.8743 - accuracy: 0.7074 - val_loss: 42.7311 - val_accuracy: 0.3810\n",
            "Epoch 12/100\n",
            "12/12 [==============================] - 1s 68ms/step - loss: 24.7561 - accuracy: 0.6596 - val_loss: 25.4749 - val_accuracy: 0.4762\n",
            "Epoch 13/100\n",
            "12/12 [==============================] - 1s 71ms/step - loss: 18.8555 - accuracy: 0.6755 - val_loss: 37.0463 - val_accuracy: 0.4286\n",
            "Epoch 14/100\n",
            "12/12 [==============================] - 1s 67ms/step - loss: 23.5901 - accuracy: 0.6383 - val_loss: 9.4320 - val_accuracy: 0.6667\n",
            "Epoch 15/100\n",
            "12/12 [==============================] - 1s 51ms/step - loss: 15.3669 - accuracy: 0.7128 - val_loss: 11.5943 - val_accuracy: 0.7143\n",
            "Epoch 16/100\n",
            "12/12 [==============================] - 1s 44ms/step - loss: 6.3952 - accuracy: 0.8085 - val_loss: 12.6938 - val_accuracy: 0.8095\n",
            "Epoch 17/100\n",
            "12/12 [==============================] - 1s 43ms/step - loss: 7.6397 - accuracy: 0.7872 - val_loss: 11.9673 - val_accuracy: 0.7619\n",
            "Epoch 18/100\n",
            "12/12 [==============================] - 1s 46ms/step - loss: 3.1766 - accuracy: 0.8564 - val_loss: 15.3079 - val_accuracy: 0.4762\n",
            "Epoch 19/100\n",
            "12/12 [==============================] - 1s 43ms/step - loss: 4.4238 - accuracy: 0.8351 - val_loss: 36.0219 - val_accuracy: 0.3810\n",
            "Epoch 20/100\n",
            "12/12 [==============================] - 1s 43ms/step - loss: 5.1847 - accuracy: 0.8032 - val_loss: 10.2391 - val_accuracy: 0.7619\n",
            "Epoch 21/100\n",
            "12/12 [==============================] - 1s 42ms/step - loss: 7.9199 - accuracy: 0.7447 - val_loss: 17.7807 - val_accuracy: 0.8095\n",
            "Epoch 22/100\n",
            "12/12 [==============================] - 1s 44ms/step - loss: 6.5452 - accuracy: 0.7872 - val_loss: 14.0030 - val_accuracy: 0.5714\n",
            "Epoch 23/100\n",
            "12/12 [==============================] - 1s 42ms/step - loss: 1.4510 - accuracy: 0.8830 - val_loss: 9.2271 - val_accuracy: 0.7619\n",
            "Epoch 24/100\n",
            "12/12 [==============================] - 1s 45ms/step - loss: 3.2693 - accuracy: 0.8351 - val_loss: 8.0278 - val_accuracy: 0.7619\n",
            "Epoch 25/100\n",
            "12/12 [==============================] - 1s 65ms/step - loss: 6.7283 - accuracy: 0.7553 - val_loss: 14.0493 - val_accuracy: 0.4762\n",
            "Epoch 26/100\n",
            "12/12 [==============================] - 1s 48ms/step - loss: 4.4764 - accuracy: 0.8245 - val_loss: 14.9009 - val_accuracy: 0.8095\n",
            "Epoch 27/100\n",
            "12/12 [==============================] - 1s 45ms/step - loss: 8.3909 - accuracy: 0.7234 - val_loss: 19.2138 - val_accuracy: 0.8095\n",
            "Epoch 28/100\n",
            "12/12 [==============================] - 1s 62ms/step - loss: 5.6344 - accuracy: 0.7553 - val_loss: 15.9673 - val_accuracy: 0.4762\n",
            "Epoch 29/100\n",
            "12/12 [==============================] - 1s 65ms/step - loss: 3.5954 - accuracy: 0.8511 - val_loss: 8.3261 - val_accuracy: 0.6190\n",
            "Epoch 30/100\n",
            "12/12 [==============================] - 1s 62ms/step - loss: 4.8129 - accuracy: 0.7926 - val_loss: 26.9397 - val_accuracy: 0.8095\n",
            "Epoch 31/100\n",
            "12/12 [==============================] - 1s 44ms/step - loss: 7.2872 - accuracy: 0.7606 - val_loss: 10.3068 - val_accuracy: 0.7619\n",
            "Epoch 32/100\n",
            "12/12 [==============================] - 1s 42ms/step - loss: 9.4600 - accuracy: 0.7872 - val_loss: 35.1254 - val_accuracy: 0.3333\n",
            "Epoch 33/100\n",
            "12/12 [==============================] - 1s 43ms/step - loss: 6.0979 - accuracy: 0.8138 - val_loss: 10.4993 - val_accuracy: 0.6667\n",
            "Epoch 34/100\n",
            "12/12 [==============================] - 1s 51ms/step - loss: 5.6166 - accuracy: 0.8404 - val_loss: 12.6033 - val_accuracy: 0.7619\n",
            "Epoch 35/100\n",
            "12/12 [==============================] - 1s 64ms/step - loss: 15.2447 - accuracy: 0.6862 - val_loss: 9.8988 - val_accuracy: 0.6190\n",
            "Epoch 36/100\n",
            "12/12 [==============================] - 0s 41ms/step - loss: 4.5209 - accuracy: 0.8298 - val_loss: 15.9199 - val_accuracy: 0.5238\n",
            "Epoch 37/100\n",
            "12/12 [==============================] - 1s 43ms/step - loss: 5.8421 - accuracy: 0.7872 - val_loss: 41.6750 - val_accuracy: 0.3333\n",
            "Epoch 38/100\n",
            "12/12 [==============================] - 0s 41ms/step - loss: 2.0518 - accuracy: 0.8830 - val_loss: 11.3024 - val_accuracy: 0.6190\n",
            "Epoch 39/100\n",
            "12/12 [==============================] - 1s 51ms/step - loss: 1.4840 - accuracy: 0.9255 - val_loss: 12.0415 - val_accuracy: 0.6667\n",
            "Epoch 40/100\n",
            "12/12 [==============================] - 1s 70ms/step - loss: 0.3796 - accuracy: 0.9787 - val_loss: 9.9402 - val_accuracy: 0.6667\n",
            "Epoch 41/100\n",
            "12/12 [==============================] - 1s 45ms/step - loss: 1.3027 - accuracy: 0.9362 - val_loss: 17.6524 - val_accuracy: 0.3810\n",
            "Epoch 42/100\n",
            "12/12 [==============================] - 1s 45ms/step - loss: 0.9107 - accuracy: 0.9681 - val_loss: 10.6183 - val_accuracy: 0.6667\n",
            "Epoch 43/100\n",
            "12/12 [==============================] - 1s 45ms/step - loss: 0.5450 - accuracy: 0.9681 - val_loss: 13.6545 - val_accuracy: 0.5714\n",
            "Epoch 44/100\n",
            "12/12 [==============================] - 1s 46ms/step - loss: 0.4040 - accuracy: 0.9681 - val_loss: 11.5157 - val_accuracy: 0.7619\n",
            "Epoch 45/100\n",
            "12/12 [==============================] - 1s 46ms/step - loss: 0.2184 - accuracy: 0.9894 - val_loss: 12.4449 - val_accuracy: 0.8095\n",
            "Epoch 46/100\n",
            "12/12 [==============================] - 1s 49ms/step - loss: 0.1219 - accuracy: 0.9734 - val_loss: 12.6705 - val_accuracy: 0.8095\n",
            "Epoch 47/100\n",
            "12/12 [==============================] - 1s 47ms/step - loss: 0.0103 - accuracy: 0.9947 - val_loss: 13.5169 - val_accuracy: 0.5714\n",
            "Epoch 48/100\n",
            "12/12 [==============================] - 1s 47ms/step - loss: 0.8199 - accuracy: 0.9468 - val_loss: 12.4791 - val_accuracy: 0.8095\n",
            "Epoch 49/100\n",
            "12/12 [==============================] - 1s 49ms/step - loss: 0.6940 - accuracy: 0.9521 - val_loss: 10.1540 - val_accuracy: 0.7143\n",
            "Epoch 50/100\n",
            "12/12 [==============================] - 1s 67ms/step - loss: 2.9097 - accuracy: 0.8670 - val_loss: 20.4544 - val_accuracy: 0.8095\n",
            "Epoch 51/100\n",
            "12/12 [==============================] - 1s 53ms/step - loss: 10.9051 - accuracy: 0.7553 - val_loss: 40.0661 - val_accuracy: 0.2857\n",
            "Epoch 52/100\n",
            "12/12 [==============================] - 1s 45ms/step - loss: 5.6610 - accuracy: 0.7819 - val_loss: 7.8926 - val_accuracy: 0.8095\n",
            "Epoch 53/100\n",
            "12/12 [==============================] - 1s 44ms/step - loss: 1.4660 - accuracy: 0.8670 - val_loss: 10.6777 - val_accuracy: 0.8095\n",
            "Epoch 54/100\n",
            "12/12 [==============================] - 1s 47ms/step - loss: 1.0725 - accuracy: 0.9202 - val_loss: 11.4253 - val_accuracy: 0.6667\n",
            "Epoch 55/100\n",
            "12/12 [==============================] - 0s 41ms/step - loss: 0.3105 - accuracy: 0.9681 - val_loss: 17.7136 - val_accuracy: 0.5714\n",
            "Epoch 56/100\n",
            "12/12 [==============================] - 1s 47ms/step - loss: 1.5226 - accuracy: 0.9149 - val_loss: 12.1280 - val_accuracy: 0.8095\n",
            "Epoch 57/100\n",
            "12/12 [==============================] - 1s 46ms/step - loss: 1.4957 - accuracy: 0.9255 - val_loss: 10.3839 - val_accuracy: 0.6190\n",
            "Epoch 58/100\n",
            "12/12 [==============================] - 1s 47ms/step - loss: 0.8100 - accuracy: 0.9043 - val_loss: 6.3941 - val_accuracy: 0.6667\n",
            "Epoch 59/100\n",
            "12/12 [==============================] - 1s 46ms/step - loss: 0.6410 - accuracy: 0.9415 - val_loss: 7.9517 - val_accuracy: 0.8095\n",
            "Epoch 60/100\n",
            "12/12 [==============================] - 1s 50ms/step - loss: 0.5336 - accuracy: 0.9362 - val_loss: 8.8094 - val_accuracy: 0.8095\n",
            "Epoch 61/100\n",
            "12/12 [==============================] - 1s 44ms/step - loss: 0.2200 - accuracy: 0.9681 - val_loss: 9.0281 - val_accuracy: 0.8095\n",
            "Epoch 62/100\n",
            "12/12 [==============================] - 1s 44ms/step - loss: 0.0606 - accuracy: 0.9840 - val_loss: 9.5000 - val_accuracy: 0.8095\n",
            "Epoch 63/100\n",
            "12/12 [==============================] - 1s 45ms/step - loss: 0.2908 - accuracy: 0.9468 - val_loss: 8.8174 - val_accuracy: 0.8095\n",
            "Epoch 64/100\n",
            "12/12 [==============================] - 1s 45ms/step - loss: 1.2746 - accuracy: 0.9096 - val_loss: 14.3985 - val_accuracy: 0.8095\n",
            "Epoch 65/100\n",
            "12/12 [==============================] - 1s 43ms/step - loss: 1.9151 - accuracy: 0.8777 - val_loss: 7.7986 - val_accuracy: 0.6190\n",
            "Epoch 66/100\n",
            "12/12 [==============================] - 1s 44ms/step - loss: 0.4558 - accuracy: 0.9681 - val_loss: 10.6647 - val_accuracy: 0.7143\n",
            "Epoch 67/100\n",
            "12/12 [==============================] - 1s 44ms/step - loss: 0.3185 - accuracy: 0.9734 - val_loss: 8.3630 - val_accuracy: 0.7143\n",
            "Epoch 68/100\n",
            "12/12 [==============================] - 1s 44ms/step - loss: 0.1471 - accuracy: 0.9840 - val_loss: 9.3466 - val_accuracy: 0.6190\n",
            "Epoch 69/100\n",
            "12/12 [==============================] - 0s 40ms/step - loss: 0.2594 - accuracy: 0.9787 - val_loss: 7.5269 - val_accuracy: 0.6667\n",
            "Epoch 70/100\n",
            "12/12 [==============================] - 1s 46ms/step - loss: 0.0758 - accuracy: 0.9681 - val_loss: 7.0979 - val_accuracy: 0.7619\n",
            "Epoch 71/100\n",
            "12/12 [==============================] - 1s 45ms/step - loss: 0.0235 - accuracy: 0.9894 - val_loss: 9.0400 - val_accuracy: 0.8095\n",
            "Epoch 72/100\n",
            "12/12 [==============================] - 1s 69ms/step - loss: 0.1286 - accuracy: 0.9894 - val_loss: 6.6574 - val_accuracy: 0.7619\n",
            "Epoch 73/100\n",
            "12/12 [==============================] - 1s 58ms/step - loss: 0.6997 - accuracy: 0.9468 - val_loss: 9.6407 - val_accuracy: 0.8095\n",
            "Epoch 74/100\n",
            "12/12 [==============================] - 1s 46ms/step - loss: 1.0650 - accuracy: 0.9149 - val_loss: 10.7093 - val_accuracy: 0.6667\n",
            "Epoch 75/100\n",
            "12/12 [==============================] - 1s 66ms/step - loss: 0.1642 - accuracy: 0.9787 - val_loss: 11.4864 - val_accuracy: 0.6667\n",
            "Epoch 76/100\n",
            "12/12 [==============================] - 1s 54ms/step - loss: 1.0628 - accuracy: 0.9362 - val_loss: 13.1430 - val_accuracy: 0.8095\n",
            "Epoch 77/100\n",
            "12/12 [==============================] - 1s 44ms/step - loss: 1.1453 - accuracy: 0.9202 - val_loss: 7.2874 - val_accuracy: 0.8095\n",
            "Epoch 78/100\n",
            "12/12 [==============================] - 1s 47ms/step - loss: 2.4788 - accuracy: 0.8936 - val_loss: 8.9326 - val_accuracy: 0.6667\n",
            "Epoch 79/100\n",
            "12/12 [==============================] - 1s 45ms/step - loss: 0.5678 - accuracy: 0.9574 - val_loss: 12.2273 - val_accuracy: 0.8095\n",
            "Epoch 80/100\n",
            "12/12 [==============================] - 1s 45ms/step - loss: 2.5540 - accuracy: 0.8351 - val_loss: 9.0827 - val_accuracy: 0.7143\n",
            "Epoch 81/100\n",
            "12/12 [==============================] - 1s 44ms/step - loss: 0.3707 - accuracy: 0.9628 - val_loss: 10.5148 - val_accuracy: 0.8095\n",
            "Epoch 82/100\n",
            "12/12 [==============================] - 1s 44ms/step - loss: 0.2671 - accuracy: 0.9681 - val_loss: 8.4763 - val_accuracy: 0.7143\n",
            "Epoch 83/100\n",
            "12/12 [==============================] - 1s 44ms/step - loss: 0.0130 - accuracy: 0.9947 - val_loss: 8.2570 - val_accuracy: 0.7143\n",
            "Epoch 84/100\n",
            "12/12 [==============================] - 1s 43ms/step - loss: 0.0246 - accuracy: 0.9894 - val_loss: 9.0831 - val_accuracy: 0.6667\n",
            "Epoch 85/100\n",
            "12/12 [==============================] - 1s 46ms/step - loss: 0.0966 - accuracy: 0.9734 - val_loss: 7.6832 - val_accuracy: 0.6667\n",
            "Epoch 86/100\n",
            "12/12 [==============================] - 1s 44ms/step - loss: 0.2413 - accuracy: 0.9734 - val_loss: 9.4931 - val_accuracy: 0.8095\n",
            "Epoch 87/100\n",
            "12/12 [==============================] - 1s 45ms/step - loss: 2.3938 - accuracy: 0.8777 - val_loss: 10.1467 - val_accuracy: 0.8571\n",
            "Epoch 88/100\n",
            "12/12 [==============================] - 1s 43ms/step - loss: 2.4862 - accuracy: 0.8351 - val_loss: 30.2865 - val_accuracy: 0.3810\n",
            "Epoch 89/100\n",
            "12/12 [==============================] - 1s 46ms/step - loss: 3.3295 - accuracy: 0.8351 - val_loss: 12.3536 - val_accuracy: 0.8095\n",
            "Epoch 90/100\n",
            "12/12 [==============================] - 1s 44ms/step - loss: 0.9255 - accuracy: 0.9362 - val_loss: 6.7043 - val_accuracy: 0.6190\n",
            "Epoch 91/100\n",
            "12/12 [==============================] - 1s 44ms/step - loss: 0.1263 - accuracy: 0.9947 - val_loss: 10.2253 - val_accuracy: 0.7619\n",
            "Epoch 92/100\n",
            "12/12 [==============================] - 1s 45ms/step - loss: 0.1934 - accuracy: 0.9894 - val_loss: 12.0121 - val_accuracy: 0.6667\n",
            "Epoch 93/100\n",
            "12/12 [==============================] - 1s 47ms/step - loss: 0.1772 - accuracy: 0.9734 - val_loss: 10.9799 - val_accuracy: 0.7143\n",
            "Epoch 94/100\n",
            "12/12 [==============================] - 0s 41ms/step - loss: 1.6103 - accuracy: 0.9043 - val_loss: 34.0750 - val_accuracy: 0.3333\n",
            "Epoch 95/100\n",
            "12/12 [==============================] - 1s 44ms/step - loss: 3.5180 - accuracy: 0.8617 - val_loss: 9.0163 - val_accuracy: 0.5238\n",
            "Epoch 96/100\n",
            "12/12 [==============================] - 1s 43ms/step - loss: 1.0074 - accuracy: 0.9149 - val_loss: 3.9099 - val_accuracy: 0.7619\n",
            "Epoch 97/100\n",
            "12/12 [==============================] - 1s 44ms/step - loss: 0.7225 - accuracy: 0.8989 - val_loss: 3.8536 - val_accuracy: 0.7619\n",
            "Epoch 98/100\n",
            "12/12 [==============================] - 0s 42ms/step - loss: 0.0414 - accuracy: 0.9894 - val_loss: 3.6549 - val_accuracy: 0.7143\n",
            "Epoch 99/100\n",
            "12/12 [==============================] - 1s 46ms/step - loss: 0.0235 - accuracy: 0.9894 - val_loss: 3.3869 - val_accuracy: 0.7143\n",
            "Epoch 100/100\n",
            "12/12 [==============================] - 1s 42ms/step - loss: 0.0225 - accuracy: 0.9894 - val_loss: 3.3738 - val_accuracy: 0.7143\n"
          ]
        },
        {
          "output_type": "execute_result",
          "data": {
            "text/plain": [
              "<keras.callbacks.History at 0x7fce4a5ec4d0>"
            ]
          },
          "metadata": {},
          "execution_count": 58
        }
      ]
    },
    {
      "cell_type": "code",
      "source": [
        "acc = model2.history.history['accuracy']\n",
        "val_acc = model2.history.history['val_accuracy']\n",
        "loss = model2.history.history['loss']\n",
        "val_loss = model2.history.history['val_loss']\n",
        "epochs = range(1, len(acc) + 1)\n",
        "\n",
        "plt.plot(epochs, acc, 'b', label= 'Training accuracy')\n",
        "plt.plot(epochs, val_acc, 'r', label= 'Validation accuracy')\n",
        "plt.title('Training and Validation accuracy')\n",
        "plt.legend()\n",
        "\n",
        "plt.figure()\n",
        "plt.plot(epochs, loss, 'b', label= 'Training loss')\n",
        "plt.plot(epochs, val_loss, 'r', label= 'Validation loss')\n",
        "plt.title('Training and Validation loss')\n",
        "plt.legend()\n",
        "\n",
        "plt.show()"
      ],
      "metadata": {
        "colab": {
          "base_uri": "https://localhost:8080/",
          "height": 569
        },
        "id": "WbmeNCCudWZK",
        "outputId": "616de413-35ca-4665-b66f-c957c9efb493"
      },
      "execution_count": 59,
      "outputs": [
        {
          "output_type": "display_data",
          "data": {
            "text/plain": [
              "<Figure size 432x288 with 1 Axes>"
            ],
            "image/png": "[encoded data removed]"
          },
          "metadata": {}
        },
        {
          "output_type": "display_data",
          "data": {
            "text/plain": [
              "<Figure size 432x288 with 1 Axes>"
            ],
            "image/png": "[encoded data removed]"
          },
          "metadata": {}
        }
      ]
    },
    {
      "cell_type": "code",
      "source": [
        "file = 'test_catvnoncat.h5'\n",
        "test_dataset = h5py.File(file, 'r')\n",
        "group_key = list(test_dataset.keys())\n",
        "\n",
        "test_set_x_orig = np.array(test_dataset[\"test_set_x\"][:]) # your test of images\n",
        "test_set_y_orig = np.array(test_dataset[\"test_set_y\"][:]) # your test set labels\n",
        "\n",
        "predk2 = model2.predict(test_set_x_orig)\n",
        "predictions2 = []\n",
        "\n",
        "for i in predk2:\n",
        "    if i>=0.5:\n",
        "        predictions2.append(1)\n",
        "    else:\n",
        "        predictions2.append(0)\n",
        "\n",
        "loss2, acc2 = model2.evaluate(test_set_x_orig, test_set_y_orig, batch_size=32)\n",
        "\n",
        "print('Test score:', loss2)\n",
        "print('Test accuracy:', acc2)"
      ],
      "metadata": {
        "colab": {
          "base_uri": "https://localhost:8080/"
        },
        "id": "7ixmvN6nk3qR",
        "outputId": "6a6131ce-190b-444a-dcdb-9bd4196b03ca"
      },
      "execution_count": 62,
      "outputs": [
        {
          "output_type": "stream",
          "name": "stdout",
          "text": [
            "2/2 [==============================] - 0s 19ms/step\n",
            "2/2 [==============================] - 0s 23ms/step - loss: 3.7316 - accuracy: 0.7400\n",
            "Test score: 3.7316482067108154\n",
            "Test accuracy: 0.7400000095367432\n"
          ]
        }
      ]
    },
    {
      "cell_type": "markdown",
      "source": [
        "## Model 3"
      ],
      "metadata": {
        "id": "545iWfcqkIu1"
      }
    },
    {
      "cell_type": "code",
      "source": [
        "model3 = models.Sequential()\n",
        "model3.add(layers.Flatten(input_shape = (64,64,3)))\n",
        "model3.add(layers.Dense(512, activation='relu'))\n",
        "model3.add(layers.Dense(512, activation='relu'))\n",
        "model3.add(layers.Dense(1, activation='sigmoid'))\n",
        "model3.compile(optimizer='adam', loss='binary_crossentropy', metrics=['accuracy'])\n",
        "\n",
        "# imporved version of backpropagation\n",
        "model3.fit(X_train, Y_train, validation_data = (X_val, Y_val), epochs=150, batch_size=16)"
      ],
      "metadata": {
        "colab": {
          "base_uri": "https://localhost:8080/"
        },
        "id": "OkkK3YENjkAQ",
        "outputId": "ae1ed002-b2ec-4ca8-b40e-4bd87ecb5615"
      },
      "execution_count": 70,
      "outputs": [
        {
          "output_type": "stream",
          "name": "stdout",
          "text": [
            "Epoch 1/150\n",
            "12/12 [==============================] - 1s 55ms/step - loss: 898.6710 - accuracy: 0.5532 - val_loss: 240.5065 - val_accuracy: 0.1905\n",
            "Epoch 2/150\n",
            "12/12 [==============================] - 1s 48ms/step - loss: 285.5584 - accuracy: 0.5160 - val_loss: 269.6687 - val_accuracy: 0.8095\n",
            "Epoch 3/150\n",
            "12/12 [==============================] - 1s 53ms/step - loss: 211.5724 - accuracy: 0.4574 - val_loss: 38.9730 - val_accuracy: 0.8095\n",
            "Epoch 4/150\n",
            "12/12 [==============================] - 1s 42ms/step - loss: 164.0170 - accuracy: 0.5053 - val_loss: 247.6740 - val_accuracy: 0.3333\n",
            "Epoch 5/150\n",
            "12/12 [==============================] - 0s 40ms/step - loss: 45.2748 - accuracy: 0.6649 - val_loss: 57.6588 - val_accuracy: 0.4286\n",
            "Epoch 6/150\n",
            "12/12 [==============================] - 0s 41ms/step - loss: 34.2393 - accuracy: 0.6064 - val_loss: 66.1452 - val_accuracy: 0.3810\n",
            "Epoch 7/150\n",
            "12/12 [==============================] - 0s 39ms/step - loss: 28.3734 - accuracy: 0.6489 - val_loss: 21.4675 - val_accuracy: 0.8095\n",
            "Epoch 8/150\n",
            "12/12 [==============================] - 0s 42ms/step - loss: 19.3049 - accuracy: 0.6596 - val_loss: 11.6558 - val_accuracy: 0.8095\n",
            "Epoch 9/150\n",
            "12/12 [==============================] - 0s 40ms/step - loss: 26.5220 - accuracy: 0.6383 - val_loss: 13.1868 - val_accuracy: 0.8095\n",
            "Epoch 10/150\n",
            "12/12 [==============================] - 0s 42ms/step - loss: 4.7184 - accuracy: 0.7766 - val_loss: 9.3560 - val_accuracy: 0.4762\n",
            "Epoch 11/150\n",
            "12/12 [==============================] - 0s 40ms/step - loss: 4.6192 - accuracy: 0.7606 - val_loss: 9.1962 - val_accuracy: 0.7619\n",
            "Epoch 12/150\n",
            "12/12 [==============================] - 0s 41ms/step - loss: 6.5603 - accuracy: 0.7128 - val_loss: 7.8460 - val_accuracy: 0.7619\n",
            "Epoch 13/150\n",
            "12/12 [==============================] - 0s 40ms/step - loss: 2.5726 - accuracy: 0.7819 - val_loss: 5.7783 - val_accuracy: 0.5714\n",
            "Epoch 14/150\n",
            "12/12 [==============================] - 1s 46ms/step - loss: 5.1444 - accuracy: 0.7447 - val_loss: 10.6531 - val_accuracy: 0.8095\n",
            "Epoch 15/150\n",
            "12/12 [==============================] - 1s 51ms/step - loss: 4.1116 - accuracy: 0.7660 - val_loss: 7.5625 - val_accuracy: 0.5238\n",
            "Epoch 16/150\n",
            "12/12 [==============================] - 1s 44ms/step - loss: 1.5237 - accuracy: 0.8245 - val_loss: 3.5132 - val_accuracy: 0.6667\n",
            "Epoch 17/150\n",
            "12/12 [==============================] - 0s 39ms/step - loss: 16.5467 - accuracy: 0.6064 - val_loss: 21.8629 - val_accuracy: 0.3333\n",
            "Epoch 18/150\n",
            "12/12 [==============================] - 0s 41ms/step - loss: 10.8188 - accuracy: 0.6383 - val_loss: 6.4282 - val_accuracy: 0.8095\n",
            "Epoch 19/150\n",
            "12/12 [==============================] - 0s 40ms/step - loss: 6.0506 - accuracy: 0.7500 - val_loss: 5.7361 - val_accuracy: 0.7143\n",
            "Epoch 20/150\n",
            "12/12 [==============================] - 1s 43ms/step - loss: 2.8745 - accuracy: 0.8245 - val_loss: 13.1631 - val_accuracy: 0.3810\n",
            "Epoch 21/150\n",
            "12/12 [==============================] - 0s 40ms/step - loss: 4.9572 - accuracy: 0.7394 - val_loss: 12.5300 - val_accuracy: 0.5238\n",
            "Epoch 22/150\n",
            "12/12 [==============================] - 0s 40ms/step - loss: 2.8615 - accuracy: 0.8298 - val_loss: 6.6058 - val_accuracy: 0.5238\n",
            "Epoch 23/150\n",
            "12/12 [==============================] - 0s 40ms/step - loss: 1.2878 - accuracy: 0.9096 - val_loss: 6.4222 - val_accuracy: 0.8095\n",
            "Epoch 24/150\n",
            "12/12 [==============================] - 1s 44ms/step - loss: 0.6206 - accuracy: 0.8989 - val_loss: 5.2880 - val_accuracy: 0.6190\n",
            "Epoch 25/150\n",
            "12/12 [==============================] - 0s 40ms/step - loss: 2.8160 - accuracy: 0.8138 - val_loss: 13.9896 - val_accuracy: 0.8095\n",
            "Epoch 26/150\n",
            "12/12 [==============================] - 0s 41ms/step - loss: 5.2477 - accuracy: 0.7606 - val_loss: 7.1815 - val_accuracy: 0.6667\n",
            "Epoch 27/150\n",
            "12/12 [==============================] - 0s 40ms/step - loss: 1.7229 - accuracy: 0.8511 - val_loss: 7.4093 - val_accuracy: 0.6667\n",
            "Epoch 28/150\n",
            "12/12 [==============================] - 0s 40ms/step - loss: 1.3740 - accuracy: 0.8936 - val_loss: 8.6619 - val_accuracy: 0.8095\n",
            "Epoch 29/150\n",
            "12/12 [==============================] - 0s 41ms/step - loss: 2.1338 - accuracy: 0.8245 - val_loss: 10.6422 - val_accuracy: 0.8095\n",
            "Epoch 30/150\n",
            "12/12 [==============================] - 0s 40ms/step - loss: 2.8896 - accuracy: 0.8404 - val_loss: 9.8794 - val_accuracy: 0.6667\n",
            "Epoch 31/150\n",
            "12/12 [==============================] - 0s 41ms/step - loss: 2.1028 - accuracy: 0.8457 - val_loss: 6.6442 - val_accuracy: 0.7619\n",
            "Epoch 32/150\n",
            "12/12 [==============================] - 0s 41ms/step - loss: 8.8752 - accuracy: 0.7447 - val_loss: 14.9057 - val_accuracy: 0.5238\n",
            "Epoch 33/150\n",
            "12/12 [==============================] - 0s 41ms/step - loss: 2.7955 - accuracy: 0.8138 - val_loss: 7.7896 - val_accuracy: 0.4286\n",
            "Epoch 34/150\n",
            "12/12 [==============================] - 0s 41ms/step - loss: 2.9634 - accuracy: 0.8085 - val_loss: 14.8301 - val_accuracy: 0.4286\n",
            "Epoch 35/150\n",
            "12/12 [==============================] - 0s 41ms/step - loss: 3.4952 - accuracy: 0.8298 - val_loss: 11.1468 - val_accuracy: 0.5714\n",
            "Epoch 36/150\n",
            "12/12 [==============================] - 0s 40ms/step - loss: 1.7087 - accuracy: 0.8457 - val_loss: 11.5329 - val_accuracy: 0.5714\n",
            "Epoch 37/150\n",
            "12/12 [==============================] - 1s 44ms/step - loss: 4.8080 - accuracy: 0.7553 - val_loss: 5.4816 - val_accuracy: 0.7619\n",
            "Epoch 38/150\n",
            "12/12 [==============================] - 0s 41ms/step - loss: 1.2084 - accuracy: 0.8883 - val_loss: 5.6917 - val_accuracy: 0.7619\n",
            "Epoch 39/150\n",
            "12/12 [==============================] - 0s 41ms/step - loss: 0.7178 - accuracy: 0.8883 - val_loss: 2.3944 - val_accuracy: 0.6667\n",
            "Epoch 40/150\n",
            "12/12 [==============================] - 0s 40ms/step - loss: 0.5798 - accuracy: 0.9096 - val_loss: 3.3909 - val_accuracy: 0.7143\n",
            "Epoch 41/150\n",
            "12/12 [==============================] - 1s 43ms/step - loss: 0.1332 - accuracy: 0.9681 - val_loss: 5.5786 - val_accuracy: 0.6190\n",
            "Epoch 42/150\n",
            "12/12 [==============================] - 0s 40ms/step - loss: 1.4356 - accuracy: 0.9043 - val_loss: 5.3032 - val_accuracy: 0.8095\n",
            "Epoch 43/150\n",
            "12/12 [==============================] - 0s 40ms/step - loss: 2.4969 - accuracy: 0.8670 - val_loss: 12.0294 - val_accuracy: 0.4762\n",
            "Epoch 44/150\n",
            "12/12 [==============================] - 0s 39ms/step - loss: 1.2394 - accuracy: 0.8404 - val_loss: 8.1799 - val_accuracy: 0.7143\n",
            "Epoch 45/150\n",
            "12/12 [==============================] - 1s 42ms/step - loss: 1.2123 - accuracy: 0.9096 - val_loss: 6.4194 - val_accuracy: 0.6190\n",
            "Epoch 46/150\n",
            "12/12 [==============================] - 0s 40ms/step - loss: 3.6812 - accuracy: 0.8245 - val_loss: 4.4945 - val_accuracy: 0.6190\n",
            "Epoch 47/150\n",
            "12/12 [==============================] - 0s 40ms/step - loss: 1.7799 - accuracy: 0.8564 - val_loss: 6.0688 - val_accuracy: 0.6190\n",
            "Epoch 48/150\n",
            "12/12 [==============================] - 0s 40ms/step - loss: 1.9019 - accuracy: 0.8564 - val_loss: 3.9165 - val_accuracy: 0.7143\n",
            "Epoch 49/150\n",
            "12/12 [==============================] - 1s 45ms/step - loss: 0.7283 - accuracy: 0.8989 - val_loss: 6.0864 - val_accuracy: 0.6190\n",
            "Epoch 50/150\n",
            "12/12 [==============================] - 1s 53ms/step - loss: 0.3241 - accuracy: 0.9681 - val_loss: 3.6887 - val_accuracy: 0.7619\n",
            "Epoch 51/150\n",
            "12/12 [==============================] - 1s 42ms/step - loss: 2.9333 - accuracy: 0.8138 - val_loss: 15.6551 - val_accuracy: 0.3810\n",
            "Epoch 52/150\n",
            "12/12 [==============================] - 0s 41ms/step - loss: 2.8209 - accuracy: 0.8245 - val_loss: 6.6872 - val_accuracy: 0.6190\n",
            "Epoch 53/150\n",
            "12/12 [==============================] - 0s 41ms/step - loss: 0.3541 - accuracy: 0.9628 - val_loss: 6.8772 - val_accuracy: 0.8095\n",
            "Epoch 54/150\n",
            "12/12 [==============================] - 0s 39ms/step - loss: 0.6781 - accuracy: 0.9202 - val_loss: 8.3699 - val_accuracy: 0.5238\n",
            "Epoch 55/150\n",
            "12/12 [==============================] - 0s 41ms/step - loss: 1.0529 - accuracy: 0.8883 - val_loss: 5.3994 - val_accuracy: 0.7619\n",
            "Epoch 56/150\n",
            "12/12 [==============================] - 0s 39ms/step - loss: 0.9875 - accuracy: 0.8936 - val_loss: 4.9101 - val_accuracy: 0.7619\n",
            "Epoch 57/150\n",
            "12/12 [==============================] - 0s 40ms/step - loss: 0.7255 - accuracy: 0.9255 - val_loss: 3.8007 - val_accuracy: 0.8571\n",
            "Epoch 58/150\n",
            "12/12 [==============================] - 1s 43ms/step - loss: 0.4865 - accuracy: 0.9362 - val_loss: 6.0617 - val_accuracy: 0.6190\n",
            "Epoch 59/150\n",
            "12/12 [==============================] - 0s 40ms/step - loss: 1.1115 - accuracy: 0.9149 - val_loss: 4.2276 - val_accuracy: 0.8571\n",
            "Epoch 60/150\n",
            "12/12 [==============================] - 0s 41ms/step - loss: 2.5790 - accuracy: 0.8351 - val_loss: 9.1747 - val_accuracy: 0.5238\n",
            "Epoch 61/150\n",
            "12/12 [==============================] - 0s 42ms/step - loss: 1.5561 - accuracy: 0.8777 - val_loss: 12.9884 - val_accuracy: 0.5238\n",
            "Epoch 62/150\n",
            "12/12 [==============================] - 0s 41ms/step - loss: 2.7877 - accuracy: 0.8511 - val_loss: 17.4470 - val_accuracy: 0.3810\n",
            "Epoch 63/150\n",
            "12/12 [==============================] - 0s 40ms/step - loss: 5.6575 - accuracy: 0.7606 - val_loss: 6.1110 - val_accuracy: 0.8571\n",
            "Epoch 64/150\n",
            "12/12 [==============================] - 0s 40ms/step - loss: 0.8652 - accuracy: 0.9202 - val_loss: 4.4243 - val_accuracy: 0.6190\n",
            "Epoch 65/150\n",
            "12/12 [==============================] - 0s 40ms/step - loss: 0.3878 - accuracy: 0.9415 - val_loss: 2.0736 - val_accuracy: 0.8095\n",
            "Epoch 66/150\n",
            "12/12 [==============================] - 0s 41ms/step - loss: 0.3611 - accuracy: 0.9521 - val_loss: 1.5266 - val_accuracy: 0.8095\n",
            "Epoch 67/150\n",
            "12/12 [==============================] - 0s 40ms/step - loss: 0.6053 - accuracy: 0.7926 - val_loss: 3.7871 - val_accuracy: 0.7143\n",
            "Epoch 68/150\n",
            "12/12 [==============================] - 1s 42ms/step - loss: 0.1345 - accuracy: 0.9628 - val_loss: 1.5640 - val_accuracy: 0.6667\n",
            "Epoch 69/150\n",
            "12/12 [==============================] - 1s 54ms/step - loss: 0.1485 - accuracy: 0.9628 - val_loss: 2.0694 - val_accuracy: 0.7619\n",
            "Epoch 70/150\n",
            "12/12 [==============================] - 1s 66ms/step - loss: 0.1297 - accuracy: 0.9734 - val_loss: 3.0088 - val_accuracy: 0.7143\n",
            "Epoch 71/150\n",
            "12/12 [==============================] - 1s 71ms/step - loss: 0.2122 - accuracy: 0.9574 - val_loss: 3.3134 - val_accuracy: 0.6190\n",
            "Epoch 72/150\n",
            "12/12 [==============================] - 1s 67ms/step - loss: 0.1714 - accuracy: 0.9681 - val_loss: 1.7522 - val_accuracy: 0.6190\n",
            "Epoch 73/150\n",
            "12/12 [==============================] - 1s 72ms/step - loss: 0.1359 - accuracy: 0.9628 - val_loss: 2.6213 - val_accuracy: 0.7143\n",
            "Epoch 74/150\n",
            "12/12 [==============================] - 1s 73ms/step - loss: 0.0821 - accuracy: 0.9947 - val_loss: 2.7530 - val_accuracy: 0.7619\n",
            "Epoch 75/150\n",
            "12/12 [==============================] - 1s 72ms/step - loss: 0.1282 - accuracy: 0.9787 - val_loss: 3.4183 - val_accuracy: 0.7143\n",
            "Epoch 76/150\n",
            "12/12 [==============================] - 1s 42ms/step - loss: 0.1035 - accuracy: 0.9787 - val_loss: 2.4830 - val_accuracy: 0.8095\n",
            "Epoch 77/150\n",
            "12/12 [==============================] - 1s 44ms/step - loss: 0.0691 - accuracy: 0.9947 - val_loss: 2.4367 - val_accuracy: 0.8571\n",
            "Epoch 78/150\n",
            "12/12 [==============================] - 1s 59ms/step - loss: 0.0544 - accuracy: 0.9894 - val_loss: 2.5703 - val_accuracy: 0.8095\n",
            "Epoch 79/150\n",
            "12/12 [==============================] - 1s 42ms/step - loss: 0.0711 - accuracy: 0.9894 - val_loss: 2.9518 - val_accuracy: 0.8095\n",
            "Epoch 80/150\n",
            "12/12 [==============================] - 0s 41ms/step - loss: 0.0554 - accuracy: 0.9894 - val_loss: 2.6972 - val_accuracy: 0.7143\n",
            "Epoch 81/150\n",
            "12/12 [==============================] - 1s 50ms/step - loss: 0.0550 - accuracy: 0.9947 - val_loss: 2.7484 - val_accuracy: 0.8095\n",
            "Epoch 82/150\n",
            "12/12 [==============================] - 1s 53ms/step - loss: 0.1340 - accuracy: 0.9681 - val_loss: 2.5181 - val_accuracy: 0.8095\n",
            "Epoch 83/150\n",
            "12/12 [==============================] - 0s 40ms/step - loss: 0.3629 - accuracy: 0.9255 - val_loss: 1.7693 - val_accuracy: 0.6667\n",
            "Epoch 84/150\n",
            "12/12 [==============================] - 0s 40ms/step - loss: 0.2760 - accuracy: 0.9574 - val_loss: 1.0603 - val_accuracy: 0.6190\n",
            "Epoch 85/150\n",
            "12/12 [==============================] - 0s 41ms/step - loss: 0.1961 - accuracy: 0.9521 - val_loss: 2.0691 - val_accuracy: 0.8095\n",
            "Epoch 86/150\n",
            "12/12 [==============================] - 0s 41ms/step - loss: 0.1877 - accuracy: 0.9894 - val_loss: 1.3352 - val_accuracy: 0.6667\n",
            "Epoch 87/150\n",
            "12/12 [==============================] - 0s 41ms/step - loss: 0.1216 - accuracy: 0.9947 - val_loss: 1.6424 - val_accuracy: 0.7619\n",
            "Epoch 88/150\n",
            "12/12 [==============================] - 0s 41ms/step - loss: 0.1136 - accuracy: 0.9840 - val_loss: 1.4797 - val_accuracy: 0.7619\n",
            "Epoch 89/150\n",
            "12/12 [==============================] - 0s 40ms/step - loss: 0.1063 - accuracy: 0.9894 - val_loss: 1.8346 - val_accuracy: 0.8095\n",
            "Epoch 90/150\n",
            "12/12 [==============================] - 0s 40ms/step - loss: 0.0944 - accuracy: 0.9947 - val_loss: 1.4905 - val_accuracy: 0.7619\n",
            "Epoch 91/150\n",
            "12/12 [==============================] - 0s 41ms/step - loss: 0.0863 - accuracy: 0.9947 - val_loss: 1.6685 - val_accuracy: 0.7143\n",
            "Epoch 92/150\n",
            "12/12 [==============================] - 0s 41ms/step - loss: 0.0760 - accuracy: 0.9947 - val_loss: 1.7110 - val_accuracy: 0.7619\n",
            "Epoch 93/150\n",
            "12/12 [==============================] - 0s 40ms/step - loss: 0.0699 - accuracy: 1.0000 - val_loss: 1.7126 - val_accuracy: 0.7619\n",
            "Epoch 94/150\n",
            "12/12 [==============================] - 0s 40ms/step - loss: 0.0650 - accuracy: 1.0000 - val_loss: 2.0349 - val_accuracy: 0.7619\n",
            "Epoch 95/150\n",
            "12/12 [==============================] - 0s 40ms/step - loss: 0.0587 - accuracy: 1.0000 - val_loss: 1.7778 - val_accuracy: 0.8095\n",
            "Epoch 96/150\n",
            "12/12 [==============================] - 0s 42ms/step - loss: 0.0555 - accuracy: 1.0000 - val_loss: 1.8402 - val_accuracy: 0.8095\n",
            "Epoch 97/150\n",
            "12/12 [==============================] - 0s 41ms/step - loss: 0.0553 - accuracy: 0.9947 - val_loss: 1.7111 - val_accuracy: 0.7143\n",
            "Epoch 98/150\n",
            "12/12 [==============================] - 1s 42ms/step - loss: 0.0596 - accuracy: 0.9947 - val_loss: 1.6440 - val_accuracy: 0.7619\n",
            "Epoch 99/150\n",
            "12/12 [==============================] - 0s 39ms/step - loss: 0.0901 - accuracy: 0.9840 - val_loss: 1.5132 - val_accuracy: 0.7143\n",
            "Epoch 100/150\n",
            "12/12 [==============================] - 0s 41ms/step - loss: 0.1593 - accuracy: 0.9415 - val_loss: 2.2303 - val_accuracy: 0.8095\n",
            "Epoch 101/150\n",
            "12/12 [==============================] - 1s 48ms/step - loss: 0.0868 - accuracy: 0.9787 - val_loss: 1.4966 - val_accuracy: 0.7143\n",
            "Epoch 102/150\n",
            "12/12 [==============================] - 1s 56ms/step - loss: 0.0457 - accuracy: 1.0000 - val_loss: 1.5716 - val_accuracy: 0.8095\n",
            "Epoch 103/150\n",
            "12/12 [==============================] - 0s 40ms/step - loss: 0.0469 - accuracy: 0.9947 - val_loss: 1.7125 - val_accuracy: 0.8095\n",
            "Epoch 104/150\n",
            "12/12 [==============================] - 1s 43ms/step - loss: 0.0367 - accuracy: 1.0000 - val_loss: 1.6938 - val_accuracy: 0.7143\n",
            "Epoch 105/150\n",
            "12/12 [==============================] - 1s 54ms/step - loss: 0.0382 - accuracy: 1.0000 - val_loss: 1.7860 - val_accuracy: 0.7619\n",
            "Epoch 106/150\n",
            "12/12 [==============================] - 1s 50ms/step - loss: 0.0344 - accuracy: 1.0000 - val_loss: 1.8079 - val_accuracy: 0.7619\n",
            "Epoch 107/150\n",
            "12/12 [==============================] - 0s 41ms/step - loss: 0.0314 - accuracy: 1.0000 - val_loss: 1.8368 - val_accuracy: 0.7619\n",
            "Epoch 108/150\n",
            "12/12 [==============================] - 0s 41ms/step - loss: 0.0305 - accuracy: 1.0000 - val_loss: 1.8643 - val_accuracy: 0.7619\n",
            "Epoch 109/150\n",
            "12/12 [==============================] - 0s 41ms/step - loss: 0.0277 - accuracy: 1.0000 - val_loss: 1.8302 - val_accuracy: 0.7619\n",
            "Epoch 110/150\n",
            "12/12 [==============================] - 1s 43ms/step - loss: 0.0266 - accuracy: 1.0000 - val_loss: 1.9389 - val_accuracy: 0.8095\n",
            "Epoch 111/150\n",
            "12/12 [==============================] - 1s 56ms/step - loss: 0.0260 - accuracy: 1.0000 - val_loss: 1.8351 - val_accuracy: 0.7619\n",
            "Epoch 112/150\n",
            "12/12 [==============================] - 1s 45ms/step - loss: 0.0258 - accuracy: 1.0000 - val_loss: 1.9144 - val_accuracy: 0.7619\n",
            "Epoch 113/150\n",
            "12/12 [==============================] - 0s 42ms/step - loss: 0.0234 - accuracy: 1.0000 - val_loss: 2.0269 - val_accuracy: 0.8095\n",
            "Epoch 114/150\n",
            "12/12 [==============================] - 0s 40ms/step - loss: 0.0236 - accuracy: 1.0000 - val_loss: 1.9459 - val_accuracy: 0.7143\n",
            "Epoch 115/150\n",
            "12/12 [==============================] - 1s 42ms/step - loss: 0.0255 - accuracy: 1.0000 - val_loss: 1.9691 - val_accuracy: 0.7619\n",
            "Epoch 116/150\n",
            "12/12 [==============================] - 0s 41ms/step - loss: 0.0212 - accuracy: 1.0000 - val_loss: 1.9867 - val_accuracy: 0.7619\n",
            "Epoch 117/150\n",
            "12/12 [==============================] - 1s 43ms/step - loss: 0.0219 - accuracy: 1.0000 - val_loss: 1.8871 - val_accuracy: 0.7619\n",
            "Epoch 118/150\n",
            "12/12 [==============================] - 0s 41ms/step - loss: 0.0214 - accuracy: 1.0000 - val_loss: 1.7657 - val_accuracy: 0.7619\n",
            "Epoch 119/150\n",
            "12/12 [==============================] - 0s 42ms/step - loss: 0.0209 - accuracy: 1.0000 - val_loss: 1.8733 - val_accuracy: 0.8095\n",
            "Epoch 120/150\n",
            "12/12 [==============================] - 0s 41ms/step - loss: 0.0198 - accuracy: 1.0000 - val_loss: 1.9355 - val_accuracy: 0.8095\n",
            "Epoch 121/150\n",
            "12/12 [==============================] - 0s 41ms/step - loss: 0.0195 - accuracy: 1.0000 - val_loss: 1.8336 - val_accuracy: 0.8095\n",
            "Epoch 122/150\n",
            "12/12 [==============================] - 0s 41ms/step - loss: 0.0201 - accuracy: 1.0000 - val_loss: 1.7878 - val_accuracy: 0.8095\n",
            "Epoch 123/150\n",
            "12/12 [==============================] - 1s 42ms/step - loss: 0.0190 - accuracy: 1.0000 - val_loss: 1.9119 - val_accuracy: 0.8095\n",
            "Epoch 124/150\n",
            "12/12 [==============================] - 0s 40ms/step - loss: 0.0174 - accuracy: 1.0000 - val_loss: 1.8238 - val_accuracy: 0.7619\n",
            "Epoch 125/150\n",
            "12/12 [==============================] - 0s 41ms/step - loss: 0.0175 - accuracy: 1.0000 - val_loss: 1.8722 - val_accuracy: 0.7619\n",
            "Epoch 126/150\n",
            "12/12 [==============================] - 0s 40ms/step - loss: 0.0163 - accuracy: 1.0000 - val_loss: 1.9565 - val_accuracy: 0.7619\n",
            "Epoch 127/150\n",
            "12/12 [==============================] - 0s 41ms/step - loss: 0.0157 - accuracy: 1.0000 - val_loss: 2.0295 - val_accuracy: 0.8571\n",
            "Epoch 128/150\n",
            "12/12 [==============================] - 0s 40ms/step - loss: 0.0154 - accuracy: 1.0000 - val_loss: 1.9176 - val_accuracy: 0.8095\n",
            "Epoch 129/150\n",
            "12/12 [==============================] - 0s 40ms/step - loss: 0.0155 - accuracy: 1.0000 - val_loss: 1.9040 - val_accuracy: 0.8095\n",
            "Epoch 130/150\n",
            "12/12 [==============================] - 1s 42ms/step - loss: 0.0149 - accuracy: 1.0000 - val_loss: 1.9147 - val_accuracy: 0.8095\n",
            "Epoch 131/150\n",
            "12/12 [==============================] - 0s 41ms/step - loss: 0.0143 - accuracy: 1.0000 - val_loss: 1.9736 - val_accuracy: 0.8095\n",
            "Epoch 132/150\n",
            "12/12 [==============================] - 0s 41ms/step - loss: 0.0138 - accuracy: 1.0000 - val_loss: 2.0113 - val_accuracy: 0.8571\n",
            "Epoch 133/150\n",
            "12/12 [==============================] - 0s 40ms/step - loss: 0.0135 - accuracy: 1.0000 - val_loss: 1.9407 - val_accuracy: 0.8095\n",
            "Epoch 134/150\n",
            "12/12 [==============================] - 1s 42ms/step - loss: 0.0144 - accuracy: 1.0000 - val_loss: 1.9367 - val_accuracy: 0.7619\n",
            "Epoch 135/150\n",
            "12/12 [==============================] - 0s 41ms/step - loss: 0.0128 - accuracy: 1.0000 - val_loss: 2.0173 - val_accuracy: 0.8095\n",
            "Epoch 136/150\n",
            "12/12 [==============================] - 1s 42ms/step - loss: 0.0124 - accuracy: 1.0000 - val_loss: 2.0833 - val_accuracy: 0.8571\n",
            "Epoch 137/150\n",
            "12/12 [==============================] - 1s 43ms/step - loss: 0.0122 - accuracy: 1.0000 - val_loss: 1.9648 - val_accuracy: 0.7619\n",
            "Epoch 138/150\n",
            "12/12 [==============================] - 1s 42ms/step - loss: 0.0120 - accuracy: 1.0000 - val_loss: 1.9651 - val_accuracy: 0.7619\n",
            "Epoch 139/150\n",
            "12/12 [==============================] - 1s 55ms/step - loss: 0.0117 - accuracy: 1.0000 - val_loss: 1.9819 - val_accuracy: 0.8095\n",
            "Epoch 140/150\n",
            "12/12 [==============================] - 1s 47ms/step - loss: 0.0113 - accuracy: 1.0000 - val_loss: 2.0147 - val_accuracy: 0.8095\n",
            "Epoch 141/150\n",
            "12/12 [==============================] - 0s 41ms/step - loss: 0.0110 - accuracy: 1.0000 - val_loss: 2.0413 - val_accuracy: 0.8095\n",
            "Epoch 142/150\n",
            "12/12 [==============================] - 0s 40ms/step - loss: 0.0108 - accuracy: 1.0000 - val_loss: 2.0697 - val_accuracy: 0.8095\n",
            "Epoch 143/150\n",
            "12/12 [==============================] - 0s 41ms/step - loss: 0.0105 - accuracy: 1.0000 - val_loss: 2.0868 - val_accuracy: 0.8571\n",
            "Epoch 144/150\n",
            "12/12 [==============================] - 0s 41ms/step - loss: 0.0103 - accuracy: 1.0000 - val_loss: 2.1041 - val_accuracy: 0.8571\n",
            "Epoch 145/150\n",
            "12/12 [==============================] - 0s 41ms/step - loss: 0.0102 - accuracy: 1.0000 - val_loss: 2.0124 - val_accuracy: 0.7619\n",
            "Epoch 146/150\n",
            "12/12 [==============================] - 0s 41ms/step - loss: 0.0101 - accuracy: 1.0000 - val_loss: 1.9797 - val_accuracy: 0.8095\n",
            "Epoch 147/150\n",
            "12/12 [==============================] - 0s 40ms/step - loss: 0.0100 - accuracy: 1.0000 - val_loss: 1.9531 - val_accuracy: 0.8095\n",
            "Epoch 148/150\n",
            "12/12 [==============================] - 0s 41ms/step - loss: 0.0097 - accuracy: 1.0000 - val_loss: 2.0213 - val_accuracy: 0.8095\n",
            "Epoch 149/150\n",
            "12/12 [==============================] - 0s 41ms/step - loss: 0.0094 - accuracy: 1.0000 - val_loss: 2.0769 - val_accuracy: 0.8571\n",
            "Epoch 150/150\n",
            "12/12 [==============================] - 1s 52ms/step - loss: 0.0091 - accuracy: 1.0000 - val_loss: 2.0955 - val_accuracy: 0.8571\n"
          ]
        },
        {
          "output_type": "execute_result",
          "data": {
            "text/plain": [
              "<keras.callbacks.History at 0x7fce44a98d10>"
            ]
          },
          "metadata": {},
          "execution_count": 70
        }
      ]
    },
    {
      "cell_type": "code",
      "source": [
        "acc = model3.history.history['accuracy']\n",
        "val_acc = model3.history.history['val_accuracy']\n",
        "loss = model3.history.history['loss']\n",
        "val_loss = model3.history.history['val_loss']\n",
        "epochs = range(1, len(acc) + 1)\n",
        "\n",
        "plt.plot(epochs, acc, 'b', label= 'Training accuracy')\n",
        "plt.plot(epochs, val_acc, 'r', label= 'Validation accuracy')\n",
        "plt.title('Training and Validation accuracy')\n",
        "plt.legend()\n",
        "\n",
        "plt.figure()\n",
        "plt.plot(epochs, loss, 'b', label= 'Training loss')\n",
        "plt.plot(epochs, val_loss, 'r', label= 'Validation loss')\n",
        "plt.title('Training and Validation loss')\n",
        "plt.legend()\n",
        "\n",
        "plt.show()"
      ],
      "metadata": {
        "colab": {
          "base_uri": "https://localhost:8080/",
          "height": 569
        },
        "id": "AQPfb0FukmA3",
        "outputId": "792d3be0-6371-408b-87be-3a63ab3d4539"
      },
      "execution_count": 71,
      "outputs": [
        {
          "output_type": "display_data",
          "data": {
            "text/plain": [
              "<Figure size 432x288 with 1 Axes>"
            ],
            "image/png": "[encoded data removed]"
          },
          "metadata": {}
        },
        {
          "output_type": "display_data",
          "data": {
            "text/plain": [
              "<Figure size 432x288 with 1 Axes>"
            ],
            "image/png": "[encoded data removed]"
          },
          "metadata": {}
        }
      ]
    },
    {
      "cell_type": "code",
      "source": [
        "file = 'test_catvnoncat.h5'\n",
        "test_dataset = h5py.File(file, 'r')\n",
        "group_key = list(test_dataset.keys())\n",
        "\n",
        "test_set_x_orig = np.array(test_dataset[\"test_set_x\"][:]) # your test of images\n",
        "test_set_y_orig = np.array(test_dataset[\"test_set_y\"][:]) # your test set labels\n",
        "\n",
        "predk3 = model3.predict(test_set_x_orig)\n",
        "predictions3 = []\n",
        "\n",
        "for i in predk3:\n",
        "    if i>=0.5:\n",
        "        predictions3.append(1)\n",
        "    else:\n",
        "        predictions3.append(0)\n",
        "\n",
        "loss3, acc3 = model3.evaluate(test_set_x_orig, test_set_y_orig, batch_size=32)\n",
        "\n",
        "print('Test score:', loss3)\n",
        "print('Test accuracy:', acc3)"
      ],
      "metadata": {
        "colab": {
          "base_uri": "https://localhost:8080/"
        },
        "id": "ciROndpqlMAm",
        "outputId": "2e35f0e4-1cd6-42af-e55c-42d61be7d43b"
      },
      "execution_count": 72,
      "outputs": [
        {
          "output_type": "stream",
          "name": "stdout",
          "text": [
            "2/2 [==============================] - 0s 17ms/step\n",
            "2/2 [==============================] - 0s 17ms/step - loss: 2.8638 - accuracy: 0.7000\n",
            "Test score: 2.863821029663086\n",
            "Test accuracy: 0.699999988079071\n"
          ]
        }
      ]
    },
    {
      "cell_type": "markdown",
      "source": [
        "##VGG16"
      ],
      "metadata": {
        "id": "XIPIOjWPqHdp"
      }
    },
    {
      "cell_type": "code",
      "source": [
        "model4 = models.Sequential()\n",
        "model4.add(layers.Conv2D(input_shape=(64,64,3),filters=64,kernel_size=(3,3),padding=\"same\", activation=\"relu\"))\n",
        "model4.add(layers.Conv2D(filters=64,kernel_size=(3,3),padding=\"same\", activation=\"relu\"))\n",
        "model4.add(layers.MaxPool2D(pool_size=(2,2),strides=(2,2)))\n",
        "model4.add(layers.Conv2D(filters=128, kernel_size=(3,3), padding=\"same\", activation=\"relu\"))\n",
        "model4.add(layers.Conv2D(filters=128, kernel_size=(3,3), padding=\"same\", activation=\"relu\"))\n",
        "model4.add(layers.MaxPool2D(pool_size=(2,2),strides=(2,2)))\n",
        "model4.add(layers.Conv2D(filters=256, kernel_size=(3,3), padding=\"same\", activation=\"relu\"))\n",
        "model4.add(layers.Conv2D(filters=256, kernel_size=(3,3), padding=\"same\", activation=\"relu\"))\n",
        "model4.add(layers.Conv2D(filters=256, kernel_size=(3,3), padding=\"same\", activation=\"relu\"))\n",
        "model4.add(layers.MaxPool2D(pool_size=(2,2),strides=(2,2)))\n",
        "model4.add(layers.Conv2D(filters=512, kernel_size=(3,3), padding=\"same\", activation=\"relu\"))\n",
        "model4.add(layers.Conv2D(filters=512, kernel_size=(3,3), padding=\"same\", activation=\"relu\"))\n",
        "model4.add(layers.Conv2D(filters=512, kernel_size=(3,3), padding=\"same\", activation=\"relu\"))\n",
        "model4.add(layers.MaxPool2D(pool_size=(2,2),strides=(2,2)))\n",
        "model4.add(layers.Conv2D(filters=512, kernel_size=(3,3), padding=\"same\", activation=\"relu\"))\n",
        "model4.add(layers.Conv2D(filters=512, kernel_size=(3,3), padding=\"same\", activation=\"relu\"))\n",
        "model4.add(layers.Conv2D(filters=512, kernel_size=(3,3), padding=\"same\", activation=\"relu\"))\n",
        "model4.add(layers.MaxPool2D(pool_size=(2,2),strides=(2,2),name='vgg16'))\n",
        "model4.add(layers.Flatten(name='flatten'))\n",
        "model4.add(layers.Dense(256, activation='relu', name='fc1'))\n",
        "model4.add(layers.Dense(128, activation='relu', name='fc2'))\n",
        "model4.add(layers.Dense(1, activation='sigmoid', name='output'))\n",
        "\n",
        "model4.compile(optimizer='adam', loss='binary_crossentropy', metrics=['accuracy'])\n",
        "\n",
        "# imporved version of backpropagation\n",
        "model4.fit(X_train, Y_train, validation_data = (X_val, Y_val), epochs=50, batch_size=16)\n"
      ],
      "metadata": {
        "colab": {
          "base_uri": "https://localhost:8080/"
        },
        "id": "JhUMmRubnB6X",
        "outputId": "c8b6d0e6-9d3f-45b4-906a-a8fc5344357c"
      },
      "execution_count": 83,
      "outputs": [
        {
          "output_type": "stream",
          "name": "stdout",
          "text": [
            "Epoch 1/50\n",
            "12/12 [==============================] - 37s 3s/step - loss: 14.1490 - accuracy: 0.5426 - val_loss: 0.6879 - val_accuracy: 0.8095\n",
            "Epoch 2/50\n",
            "12/12 [==============================] - 36s 3s/step - loss: 0.6897 - accuracy: 0.6383 - val_loss: 0.6770 - val_accuracy: 0.8095\n",
            "Epoch 3/50\n",
            "12/12 [==============================] - 38s 3s/step - loss: 0.6827 - accuracy: 0.6383 - val_loss: 0.6540 - val_accuracy: 0.8095\n",
            "Epoch 4/50\n",
            "12/12 [==============================] - 35s 3s/step - loss: 0.6714 - accuracy: 0.6383 - val_loss: 0.6155 - val_accuracy: 0.8095\n",
            "Epoch 5/50\n",
            "12/12 [==============================] - 35s 3s/step - loss: 0.6851 - accuracy: 0.6383 - val_loss: 0.5960 - val_accuracy: 0.8095\n",
            "Epoch 6/50\n",
            "12/12 [==============================] - 35s 3s/step - loss: 0.6632 - accuracy: 0.6383 - val_loss: 0.6152 - val_accuracy: 0.8095\n",
            "Epoch 7/50\n",
            "12/12 [==============================] - 35s 3s/step - loss: 0.6615 - accuracy: 0.6383 - val_loss: 0.5974 - val_accuracy: 0.8095\n",
            "Epoch 8/50\n",
            "12/12 [==============================] - 38s 3s/step - loss: 0.6579 - accuracy: 0.6383 - val_loss: 0.5733 - val_accuracy: 0.8095\n",
            "Epoch 9/50\n",
            "12/12 [==============================] - 35s 3s/step - loss: 0.6570 - accuracy: 0.6383 - val_loss: 0.5587 - val_accuracy: 0.8095\n",
            "Epoch 10/50\n",
            "12/12 [==============================] - 35s 3s/step - loss: 0.6551 - accuracy: 0.6383 - val_loss: 0.5633 - val_accuracy: 0.8095\n",
            "Epoch 11/50\n",
            "12/12 [==============================] - 35s 3s/step - loss: 0.6547 - accuracy: 0.6383 - val_loss: 0.5550 - val_accuracy: 0.8095\n",
            "Epoch 12/50\n",
            "12/12 [==============================] - 38s 3s/step - loss: 0.6554 - accuracy: 0.6383 - val_loss: 0.5556 - val_accuracy: 0.8095\n",
            "Epoch 13/50\n",
            "12/12 [==============================] - 35s 3s/step - loss: 0.6561 - accuracy: 0.6383 - val_loss: 0.5620 - val_accuracy: 0.8095\n",
            "Epoch 14/50\n",
            "12/12 [==============================] - 35s 3s/step - loss: 0.6554 - accuracy: 0.6383 - val_loss: 0.5551 - val_accuracy: 0.8095\n",
            "Epoch 15/50\n",
            "12/12 [==============================] - 36s 3s/step - loss: 0.6562 - accuracy: 0.6383 - val_loss: 0.5539 - val_accuracy: 0.8095\n",
            "Epoch 16/50\n",
            "12/12 [==============================] - 38s 3s/step - loss: 0.6546 - accuracy: 0.6383 - val_loss: 0.5594 - val_accuracy: 0.8095\n",
            "Epoch 17/50\n",
            "12/12 [==============================] - 36s 3s/step - loss: 0.6577 - accuracy: 0.6383 - val_loss: 0.5748 - val_accuracy: 0.8095\n",
            "Epoch 18/50\n",
            "12/12 [==============================] - 35s 3s/step - loss: 0.6552 - accuracy: 0.6383 - val_loss: 0.5639 - val_accuracy: 0.8095\n",
            "Epoch 19/50\n",
            "12/12 [==============================] - 35s 3s/step - loss: 0.6545 - accuracy: 0.6383 - val_loss: 0.5557 - val_accuracy: 0.8095\n",
            "Epoch 20/50\n",
            "12/12 [==============================] - 38s 3s/step - loss: 0.6548 - accuracy: 0.6383 - val_loss: 0.5537 - val_accuracy: 0.8095\n",
            "Epoch 21/50\n",
            "12/12 [==============================] - 35s 3s/step - loss: 0.6531 - accuracy: 0.6330 - val_loss: 0.5317 - val_accuracy: 0.8095\n",
            "Epoch 22/50\n",
            "12/12 [==============================] - 36s 3s/step - loss: 0.6599 - accuracy: 0.6383 - val_loss: 0.5428 - val_accuracy: 0.8095\n",
            "Epoch 23/50\n",
            "12/12 [==============================] - 35s 3s/step - loss: 0.6474 - accuracy: 0.6383 - val_loss: 0.5664 - val_accuracy: 0.8095\n",
            "Epoch 24/50\n",
            "12/12 [==============================] - 38s 3s/step - loss: 0.6565 - accuracy: 0.6383 - val_loss: 0.5759 - val_accuracy: 0.8095\n",
            "Epoch 25/50\n",
            "12/12 [==============================] - 35s 3s/step - loss: 0.6552 - accuracy: 0.6383 - val_loss: 0.5638 - val_accuracy: 0.8095\n",
            "Epoch 26/50\n",
            "12/12 [==============================] - 36s 3s/step - loss: 0.6547 - accuracy: 0.6383 - val_loss: 0.5588 - val_accuracy: 0.8095\n",
            "Epoch 27/50\n",
            "12/12 [==============================] - 35s 3s/step - loss: 0.6550 - accuracy: 0.6383 - val_loss: 0.5502 - val_accuracy: 0.8095\n",
            "Epoch 28/50\n",
            "12/12 [==============================] - 38s 3s/step - loss: 0.6551 - accuracy: 0.6383 - val_loss: 0.5544 - val_accuracy: 0.8095\n",
            "Epoch 29/50\n",
            "12/12 [==============================] - 36s 3s/step - loss: 0.6555 - accuracy: 0.6383 - val_loss: 0.5635 - val_accuracy: 0.8095\n",
            "Epoch 30/50\n",
            "12/12 [==============================] - 35s 3s/step - loss: 0.6550 - accuracy: 0.6383 - val_loss: 0.5585 - val_accuracy: 0.8095\n",
            "Epoch 31/50\n",
            "12/12 [==============================] - 36s 3s/step - loss: 0.6557 - accuracy: 0.6383 - val_loss: 0.5593 - val_accuracy: 0.8095\n",
            "Epoch 32/50\n",
            "12/12 [==============================] - 36s 3s/step - loss: 0.6548 - accuracy: 0.6383 - val_loss: 0.5559 - val_accuracy: 0.8095\n",
            "Epoch 33/50\n",
            "12/12 [==============================] - 35s 3s/step - loss: 0.6547 - accuracy: 0.6383 - val_loss: 0.5549 - val_accuracy: 0.8095\n",
            "Epoch 34/50\n",
            "12/12 [==============================] - 38s 3s/step - loss: 0.6553 - accuracy: 0.6383 - val_loss: 0.5548 - val_accuracy: 0.8095\n",
            "Epoch 35/50\n",
            "12/12 [==============================] - 35s 3s/step - loss: 0.6551 - accuracy: 0.6383 - val_loss: 0.5641 - val_accuracy: 0.8095\n",
            "Epoch 36/50\n",
            "12/12 [==============================] - 35s 3s/step - loss: 0.6548 - accuracy: 0.6383 - val_loss: 0.5637 - val_accuracy: 0.8095\n",
            "Epoch 37/50\n",
            "12/12 [==============================] - 36s 3s/step - loss: 0.6548 - accuracy: 0.6383 - val_loss: 0.5553 - val_accuracy: 0.8095\n",
            "Epoch 38/50\n",
            "12/12 [==============================] - 36s 3s/step - loss: 0.6554 - accuracy: 0.6383 - val_loss: 0.5535 - val_accuracy: 0.8095\n",
            "Epoch 39/50\n",
            "12/12 [==============================] - 36s 3s/step - loss: 0.6547 - accuracy: 0.6383 - val_loss: 0.5611 - val_accuracy: 0.8095\n",
            "Epoch 40/50\n",
            "12/12 [==============================] - 38s 3s/step - loss: 0.6571 - accuracy: 0.6383 - val_loss: 0.5643 - val_accuracy: 0.8095\n",
            "Epoch 41/50\n",
            "12/12 [==============================] - 36s 3s/step - loss: 0.6559 - accuracy: 0.6383 - val_loss: 0.5629 - val_accuracy: 0.8095\n",
            "Epoch 42/50\n",
            "12/12 [==============================] - 36s 3s/step - loss: 0.6581 - accuracy: 0.6383 - val_loss: 0.5567 - val_accuracy: 0.8095\n",
            "Epoch 43/50\n",
            "12/12 [==============================] - 36s 3s/step - loss: 0.6556 - accuracy: 0.6383 - val_loss: 0.5601 - val_accuracy: 0.8095\n",
            "Epoch 44/50\n",
            "12/12 [==============================] - 35s 3s/step - loss: 0.6553 - accuracy: 0.6383 - val_loss: 0.5663 - val_accuracy: 0.8095\n",
            "Epoch 45/50\n",
            "12/12 [==============================] - 36s 3s/step - loss: 0.6737 - accuracy: 0.6383 - val_loss: 0.5723 - val_accuracy: 0.8095\n",
            "Epoch 46/50\n",
            "12/12 [==============================] - 37s 3s/step - loss: 0.6565 - accuracy: 0.6383 - val_loss: 0.5805 - val_accuracy: 0.8095\n",
            "Epoch 47/50\n",
            "12/12 [==============================] - 36s 3s/step - loss: 0.7940 - accuracy: 0.6383 - val_loss: 0.6108 - val_accuracy: 0.8095\n",
            "Epoch 48/50\n",
            "12/12 [==============================] - 35s 3s/step - loss: 1.0394 - accuracy: 0.5851 - val_loss: 0.6033 - val_accuracy: 0.8095\n",
            "Epoch 49/50\n",
            "12/12 [==============================] - 35s 3s/step - loss: 0.6589 - accuracy: 0.6383 - val_loss: 0.5813 - val_accuracy: 0.8095\n",
            "Epoch 50/50\n",
            "12/12 [==============================] - 36s 3s/step - loss: 0.6958 - accuracy: 0.6223 - val_loss: 0.6239 - val_accuracy: 0.8095\n"
          ]
        },
        {
          "output_type": "execute_result",
          "data": {
            "text/plain": [
              "<keras.callbacks.History at 0x7fce447b3590>"
            ]
          },
          "metadata": {},
          "execution_count": 83
        }
      ]
    },
    {
      "cell_type": "code",
      "source": [
        "acc = model4.history.history['accuracy']\n",
        "val_acc = model4.history.history['val_accuracy']\n",
        "loss = model4.history.history['loss']\n",
        "val_loss = model4.history.history['val_loss']\n",
        "epochs = range(1, len(acc) + 1)\n",
        "\n",
        "plt.plot(epochs, acc, 'b', label= 'Training accuracy')\n",
        "plt.plot(epochs, val_acc, 'r', label= 'Validation accuracy')\n",
        "plt.title('Training and Validation accuracy')\n",
        "plt.legend()\n",
        "\n",
        "plt.figure()\n",
        "plt.plot(epochs, loss, 'b', label= 'Training loss')\n",
        "plt.plot(epochs, val_loss, 'r', label= 'Validation loss')\n",
        "plt.title('Training and Validation loss')\n",
        "plt.legend()\n",
        "\n",
        "plt.show()"
      ],
      "metadata": {
        "colab": {
          "base_uri": "https://localhost:8080/",
          "height": 569
        },
        "id": "FTFfdkpAqspF",
        "outputId": "2b768aa7-cb67-46de-e4af-b321b38b8dd3"
      },
      "execution_count": 84,
      "outputs": [
        {
          "output_type": "display_data",
          "data": {
            "text/plain": [
              "<Figure size 432x288 with 1 Axes>"
            ],
            "image/png": "[encoded data removed]"
          },
          "metadata": {}
        },
        {
          "output_type": "display_data",
          "data": {
            "text/plain": [
              "<Figure size 432x288 with 1 Axes>"
            ],
            "image/png": "[encoded data removed]"
          },
          "metadata": {}
        }
      ]
    },
    {
      "cell_type": "code",
      "source": [
        "file = 'test_catvnoncat.h5'\n",
        "test_dataset = h5py.File(file, 'r')\n",
        "group_key = list(test_dataset.keys())\n",
        "\n",
        "test_set_x_orig = np.array(test_dataset[\"test_set_x\"][:]) # your test of images\n",
        "test_set_y_orig = np.array(test_dataset[\"test_set_y\"][:]) # your test set labels\n",
        "\n",
        "predk4 = model4.predict(test_set_x_orig)\n",
        "predictions4 = []\n",
        "\n",
        "for i in predk4:\n",
        "    if i>=0.5:\n",
        "        predictions4.append(1)\n",
        "    else:\n",
        "        predictions4.append(0)\n",
        "\n",
        "loss4, acc4 = model4.evaluate(test_set_x_orig, test_set_y_orig, batch_size=32)\n",
        "\n",
        "print('Test score:', loss4)\n",
        "print('Test accuracy:', acc4)"
      ],
      "metadata": {
        "colab": {
          "base_uri": "https://localhost:8080/"
        },
        "id": "Et9MtJtRst9Q",
        "outputId": "77982cfe-3238-44d1-c09c-a516fd78caa5"
      },
      "execution_count": 85,
      "outputs": [
        {
          "output_type": "stream",
          "name": "stderr",
          "text": [
            "WARNING:tensorflow:5 out of the last 11 calls to <function Model.make_predict_function.<locals>.predict_function at 0x7fce3a0f6170> triggered tf.function retracing. Tracing is expensive and the excessive number of tracings could be due to (1) creating @tf.function repeatedly in a loop, (2) passing tensors with different shapes, (3) passing Python objects instead of tensors. For (1), please define your @tf.function outside of the loop. For (2), @tf.function has reduce_retracing=True option that can avoid unnecessary retracing. For (3), please refer to https://www.tensorflow.org/guide/function#controlling_retracing and https://www.tensorflow.org/api_docs/python/tf/function for  more details.\n"
          ]
        },
        {
          "output_type": "stream",
          "name": "stdout",
          "text": [
            "2/2 [==============================] - 3s 765ms/step\n",
            "2/2 [==============================] - 2s 770ms/step - loss: 0.7378 - accuracy: 0.3400\n",
            "Test score: 0.7378196716308594\n",
            "Test accuracy: 0.3400000035762787\n"
          ]
        }
      ]
    },
    {
      "cell_type": "code",
      "source": [],
      "metadata": {
        "id": "pgX9nVBU-5bZ"
      },
      "execution_count": null,
      "outputs": []
    }
  ],
  "metadata": {
    "colab": {
      "provenance": [],
      "collapsed_sections": [
        "BWTDiH4bFSBq",
        "mXoBFpCuHu3A",
        "98tELRPiIgEr",
        "eoKV6yAxsqU-"
      ],
      "toc_visible": true
    },
    "kernelspec": {
      "display_name": "Python 3 (ipykernel)",
      "language": "python",
      "name": "python3"
    },
    "language_info": {
      "codemirror_mode": {
        "name": "ipython",
        "version": 3
      },
      "file_extension": ".py",
      "mimetype": "text/x-python",
      "name": "python",
      "nbconvert_exporter": "python",
      "pygments_lexer": "ipython3",
      "version": "3.9.7"
    }
  },
  "nbformat": 4,
  "nbformat_minor": 0
}